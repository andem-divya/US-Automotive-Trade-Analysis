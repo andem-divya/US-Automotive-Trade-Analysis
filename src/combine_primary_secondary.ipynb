{
 "cells": [
  {
   "cell_type": "markdown",
   "metadata": {},
   "source": [
    "### Combine Primary and Secondary Datasets\n",
    "\n",
    "This file is to merge primary data (USA Export and Imports)\n",
    "and secondary data (GDP and MFN tarrif data) which involves following steps\n",
    "\n",
    "1. Rename column names so that they are consistent in primary and secondary datasets.\n",
    "2. Convert to approriate data types\n",
    "3. Filling missing values\n",
    "4. Merging primary and seconday data\n",
    "5. Writing final data to a csv"
   ]
  },
  {
   "cell_type": "code",
   "execution_count": null,
   "metadata": {
    "cell_id": "3dd4d354a94a4eb2aaf9ad7a917606fa",
    "deepnote_cell_type": "code"
   },
   "outputs": [],
   "source": [
    "# import required packages\n",
    "import pandas as pd\n",
    "import numpy as np"
   ]
  },
  {
   "cell_type": "code",
   "execution_count": null,
   "metadata": {},
   "outputs": [],
   "source": [
    "# define root folder\n",
    "ROOT_FOLDER = \".\""
   ]
  },
  {
   "cell_type": "code",
   "execution_count": null,
   "metadata": {},
   "outputs": [],
   "source": [
    "# read cleaned and aggreated primary(trade) data from csv\n",
    "primary = pd.read_csv(ROOT_FOLDER + '/data/processed/cleaned_primary_trade_data.csv')\n",
    "primary.columns = primary.columns.str.lower()\n",
    "primary = primary.rename(columns={'standardized_country': 'country'})\n",
    "\n",
    "# Remove commas and convert to integer\n",
    "primary['import_value'] = primary['import_value'].str.replace(',', '').astype(int)\n",
    "primary['export_value'] = primary['export_value'].str.replace(',', '').astype(int)\n",
    "\n",
    "# print first 5 rows\n",
    "primary.head(5)"
   ]
  },
  {
   "cell_type": "code",
   "execution_count": null,
   "metadata": {},
   "outputs": [],
   "source": [
    "# check if nulls values are filled\n",
    "primary.isnull().sum()"
   ]
  },
  {
   "cell_type": "code",
   "execution_count": null,
   "metadata": {},
   "outputs": [],
   "source": [
    "# read cleaned and aggreated secondary(GDP and MFN Tariff) data from csv\n",
    "secondary = pd.read_csv(ROOT_FOLDER + '/data/processed/final_gdp_tariff.csv')\n",
    "secondary.columns = secondary.columns.str.lower()\n",
    "secondary = secondary.rename(columns={'standardized_country': 'country'})\n",
    "\n",
    "# round MFN Tariff to 2 decimal places\n",
    "secondary['mfn_by_us_simple_avg'] = secondary['mfn_by_us_simple_avg'].round(2)\n",
    "secondary['mfn_by_us_weighted_avg'] = secondary['mfn_by_us_weighted_avg'].round(2)\n",
    "secondary['mfn_on_us_simple_avg'] = secondary['mfn_on_us_simple_avg'].round(2)\n",
    "secondary['mfn_on_us_weighted_avg'] = secondary['mfn_on_us_weighted_avg'].round(2)\n",
    "\n",
    "# round GDP and GDP 2015 adj to nearest integer and convert to Int64 type\n",
    "secondary['gdp'] = np.floor(pd.to_numeric(secondary['gdp'], errors='coerce')).astype('Int64')\n",
    "secondary['gdp_2015_adj'] = np.floor(pd.to_numeric(secondary['gdp_2015_adj'],\n",
    "                                                   errors='coerce')).astype('Int64')\n",
    "\n",
    "# print first 5 rows\n",
    "secondary.head(5)"
   ]
  },
  {
   "cell_type": "code",
   "execution_count": null,
   "metadata": {},
   "outputs": [],
   "source": [
    "# sort by country and year\n",
    "secondary = secondary.sort_values(by=['country', 'year'])\n",
    "\n",
    "# interpolate only numeric columns per country\n",
    "interpolate_cols = ['mfn_by_us_simple_avg', 'mfn_by_us_weighted_avg',\n",
    "       'mfn_on_us_simple_avg', 'mfn_on_us_weighted_avg', 'gdp',\n",
    "       'gdp_2015_adj']\n",
    "\n",
    "secondary[interpolate_cols] = (\n",
    "    secondary\n",
    "    .groupby('country')[interpolate_cols]\n",
    "    .apply(lambda group: group.interpolate(method='linear', limit_direction='both'))\n",
    "    .reset_index(drop=True)\n",
    ")\n",
    "\n",
    "secondary.head(5)\n"
   ]
  },
  {
   "cell_type": "code",
   "execution_count": null,
   "metadata": {},
   "outputs": [],
   "source": [
    "# check nulls\n",
    "secondary.isnull().sum()"
   ]
  },
  {
   "cell_type": "markdown",
   "metadata": {},
   "source": [
    "For the major trading partners of the USA, there are no null values.\n",
    "For other countries, some nulls remain in the GDP and MFN tariff columns.\n",
    "\n",
    "Since interpolation requires at least a few existing values to estimate the missing ones,\n",
    "we will ignore those countries for now.\n",
    "This approach is acceptable because those countries are not major trading partners of the USA."
   ]
  },
  {
   "cell_type": "code",
   "execution_count": null,
   "metadata": {},
   "outputs": [],
   "source": [
    "# since secondary data is from 2008 to 2022 select same years from primary\n",
    "primary = primary[primary['year'].isin(range(2008, 2023))]\n",
    "\n",
    "# merge primary and secondary data on Year and Country so that\n",
    "# each trade record has corresponding GDP and MFN Tariff values\n",
    "combined = pd.merge(primary, secondary, on=['year', 'country'], how='left')\n",
    "combined.sort_values(by=['country','year','category', ], inplace=True)\n",
    "combined = combined.reset_index(drop=True)"
   ]
  },
  {
   "cell_type": "code",
   "execution_count": null,
   "metadata": {},
   "outputs": [],
   "source": [
    "combined.head(20)"
   ]
  },
  {
   "cell_type": "code",
   "execution_count": null,
   "metadata": {},
   "outputs": [],
   "source": [
    "# save the combined data to csv\n",
    "combined.to_csv(ROOT_FOLDER + '/data/processed/combined_primary_secondary.csv', index=False)"
   ]
  }
 ],
 "metadata": {
  "deepnote_notebook_id": "53a94423ce9a4053bc47f843af694020",
  "kernelspec": {
   "display_name": "Python 3",
   "language": "python",
   "name": "python3"
  },
  "language_info": {
   "codemirror_mode": {
    "name": "ipython",
    "version": 3
   },
   "file_extension": ".py",
   "mimetype": "text/x-python",
   "name": "python",
   "nbconvert_exporter": "python",
   "pygments_lexer": "ipython3",
   "version": "3.12.4"
  }
 },
 "nbformat": 4,
 "nbformat_minor": 0
}
