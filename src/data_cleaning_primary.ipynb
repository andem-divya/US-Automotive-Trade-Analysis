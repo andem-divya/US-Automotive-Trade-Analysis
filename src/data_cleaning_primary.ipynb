{
 "cells": [
  {
   "cell_type": "markdown",
   "id": "0",
   "metadata": {},
   "source": [
    "### Primary Data Cleaning"
   ]
  },
  {
   "cell_type": "markdown",
   "id": "1",
   "metadata": {},
   "source": [
    "This file is to clean and process primary data which involves following steps\n",
    "\n",
    "1. Standardizing country names\n",
    "2. Clean the data\n",
    "3. Converting wide format to long format\n",
    "4. Merging Parts, Passenger Vehicles and Trucks\n",
    "5. Writing final data to a csv to be merged with secondary data"
   ]
  },
  {
   "cell_type": "code",
   "execution_count": null,
   "id": "2",
   "metadata": {},
   "outputs": [],
   "source": [
    "# import all the modules needed\n",
    "import pandas as pd\n",
    "import country_converter as coco"
   ]
  },
  {
   "cell_type": "code",
   "execution_count": null,
   "id": "3",
   "metadata": {},
   "outputs": [],
   "source": [
    "# define root folder\n",
    "ROOT_FOLDER = \".\""
   ]
  },
  {
   "cell_type": "code",
   "execution_count": null,
   "id": "4",
   "metadata": {},
   "outputs": [],
   "source": [
    "pv_export_df = pd.read_csv(ROOT_FOLDER + \"/data/raw/primary/New_PV_Countries_Export_Value.csv\",\n",
    "                           encoding='utf-16',header=0, sep=\"\\t\")\n",
    "pv_export_df.head(5)"
   ]
  },
  {
   "cell_type": "code",
   "execution_count": null,
   "id": "5",
   "metadata": {},
   "outputs": [],
   "source": [
    "def standardize_country(countries):\n",
    "    \"\"\"\n",
    "    Converts a list of country names or codes to their standardized short names.\n",
    "\n",
    "    Parameters\n",
    "    ----------\n",
    "    countries : list or str\n",
    "        A list of country names or codes, or a single country name/code, to be standardized.\n",
    "\n",
    "    Returns\n",
    "    -------\n",
    "    list or str\n",
    "        The standardized short names of the input countries. \n",
    "        If a single country is provided, returns a string.\n",
    "        If a list is provided, returns a list of strings.\n",
    "\n",
    "    Notes\n",
    "    -----\n",
    "    This function uses the `coco` library to perform the conversion. \n",
    "    The output format is the short name of each country or `not found` \n",
    "    if country name/code is not recognized.\n",
    "    \"\"\"\n",
    "    try:\n",
    "        standardized_name = coco.convert(names=countries, to='name_short')\n",
    "        if standardized_name == 'not found':\n",
    "            return countries\n",
    "        return standardized_name\n",
    "    except Exception as e:\n",
    "        print(f\"Error converting country name {countries}: {e}\")\n",
    "        return countries"
   ]
  },
  {
   "cell_type": "code",
   "execution_count": null,
   "id": "6",
   "metadata": {},
   "outputs": [],
   "source": [
    "def clean_primary_data(df, country_col, value_col, cols_to_keep,\n",
    "                       start_year=2008, end_year=2024, not_found_label='not found'):\n",
    "    \"\"\"\n",
    "    Clean and preprocess a dataframe by standardizing country names, \n",
    "    filtering columns and rows, and melting into long format.\n",
    "\n",
    "    Parameters\n",
    "    ----------\n",
    "    df : pd.DataFrame\n",
    "        The input DataFrame containing data with country and year columns.\n",
    "    country_col : str\n",
    "        The name of the column in `df` containing country names to be standardized.\n",
    "    value_col : str\n",
    "        The name of the value column in the output DataFrame after melting.\n",
    "    cols_to_keep : list of str\n",
    "        The list of columns to keep before melting (e.g., standardized country and year columns).\n",
    "    start_year : int, optional\n",
    "        The first year to consider when dropping rows with missing data.\n",
    "    end_year : int, optional\n",
    "        The last year to consider when dropping rows with missing data.\n",
    "    not_found_label : str, optional (default=\"not found\")\n",
    "        The label used to identify unrecognized countries.\n",
    "\n",
    "    Returns\n",
    "    -------\n",
    "    pd.DataFrame\n",
    "        A cleaned DataFrame with standardized country names, \n",
    "        a 'Year' column, and a column for data values.\n",
    "\n",
    "    Notes\n",
    "    -----\n",
    "    Steps performed:\n",
    "    1. Drop rows with no data between `start_year` and `end_year`.\n",
    "    2. Standardize country names using `standardized_country`.\n",
    "    3. Drop rows where the standardized name equals `not_found_label`.\n",
    "    4. Retain only the specified columns (`cols_to_keep`).\n",
    "    5. Melt the DataFrame into long format with `Year`, `standardized_country`, and values.\n",
    "    \"\"\"\n",
    "\n",
    "    # Drop rows with no data in the given year range\n",
    "    year_cols = [str(year) for year in range(start_year, end_year + 1)]\n",
    "    df = df.dropna(subset=year_cols, how=\"all\")\n",
    "\n",
    "    # Standardize country names\n",
    "    df['standardized_country'] = df[country_col].apply(standardize_country)\n",
    "\n",
    "    # Drop rows where country name could not be standardized\n",
    "    df = df[df['standardized_country'] != not_found_label]\n",
    "\n",
    "    # Keep relevant columns\n",
    "    df = df.loc[:, cols_to_keep]\n",
    "\n",
    "    # Melt the dataframe to long format\n",
    "    melted_df = df.melt(id_vars=['standardized_country', 'Category'],\n",
    "                        var_name='year', value_name=value_col)\n",
    "\n",
    "    return melted_df\n"
   ]
  },
  {
   "cell_type": "code",
   "execution_count": null,
   "id": "7",
   "metadata": {},
   "outputs": [],
   "source": [
    "def get_cols_to_keep(start_year, end_year, country_col='standardized_country',\n",
    "                     category_col='Category'):\n",
    "    \"\"\"\n",
    "    Generate a list of columns to keep for data cleaning.\n",
    "\n",
    "    Parameters\n",
    "    ----------\n",
    "    start_year : int, optional\n",
    "        The first year to include in the list of columns.\n",
    "    end_year : int, optional\n",
    "        The last year to include in the list of columns.\n",
    "    country_cols : str, optional\n",
    "        Name of the country column.\n",
    "    category_col : str, optional\n",
    "        Name of the category column.\n",
    "\n",
    "    Returns\n",
    "    -------\n",
    "    list of str\n",
    "        A list of column names including 'standardized_country' and years\n",
    "        from `start_year` to `end_year`.\n",
    "    \"\"\"\n",
    "    year_cols = [str(year) for year in range(start_year, end_year + 1)]\n",
    "    cols_to_keep = [country_col, category_col] + year_cols\n",
    "    return cols_to_keep\n",
    "\n"
   ]
  },
  {
   "cell_type": "code",
   "execution_count": null,
   "id": "8",
   "metadata": {},
   "outputs": [],
   "source": [
    "pv_export_df[\"Category\"] = \"Passenger Vehicles\"\n",
    "pv_export_df.head(5)"
   ]
  },
  {
   "cell_type": "code",
   "execution_count": null,
   "id": "9",
   "metadata": {},
   "outputs": [],
   "source": [
    "required_cols = get_cols_to_keep(2008, 2024, 'standardized_country', 'Category')\n",
    "\n",
    "cleaned_pv_export_df = clean_primary_data(\n",
    "    pv_export_df,\n",
    "    country_col='Partner',\n",
    "    value_col='Export_value',\n",
    "    # category_col='Category',\n",
    "    cols_to_keep=required_cols\n",
    ")\n",
    "\n",
    "cleaned_pv_export_df.head(5)"
   ]
  },
  {
   "cell_type": "markdown",
   "id": "10",
   "metadata": {},
   "source": [
    "## Similarly load all other export datasets into individual dataframes"
   ]
  },
  {
   "cell_type": "code",
   "execution_count": null,
   "id": "11",
   "metadata": {},
   "outputs": [],
   "source": [
    "trucks_export_df = pd.read_csv(ROOT_FOLDER + \"/data/raw/primary/MediumHeavy_Export_Countries_Value.csv\",\n",
    "                               encoding='utf-16',header=0, sep=\"\\t\")\n",
    "trucks_export_df.head(5)"
   ]
  },
  {
   "cell_type": "code",
   "execution_count": null,
   "id": "12",
   "metadata": {},
   "outputs": [],
   "source": [
    "trucks_export_df[\"Category\"] = \"Trucks\"\n",
    "cleaned_trucks_export_df = clean_primary_data(\n",
    "    trucks_export_df,\n",
    "    country_col='Partner',\n",
    "    value_col ='Export_value',\n",
    "    # category_col='Category',\n",
    "    cols_to_keep=required_cols\n",
    ")\n",
    "\n",
    "cleaned_trucks_export_df.head(5)\n"
   ]
  },
  {
   "cell_type": "code",
   "execution_count": null,
   "id": "13",
   "metadata": {},
   "outputs": [],
   "source": [
    "parts_export_df = pd.read_csv(ROOT_FOLDER + \"/data/raw/primary/Parts_Exports_Countries.csv\",\n",
    "                              encoding='utf-16',header=0, sep=\"\\t\")\n",
    "parts_export_df[\"Category\"] = \"Parts\"\n",
    "cleaned_parts_export_df = clean_primary_data(\n",
    "    parts_export_df,\n",
    "    country_col='Partner',\n",
    "    value_col='Export_value',\n",
    "    # category_col='Category',\n",
    "    cols_to_keep=required_cols\n",
    ")\n",
    "cleaned_parts_export_df.head(5)"
   ]
  },
  {
   "cell_type": "markdown",
   "id": "14",
   "metadata": {},
   "source": [
    "#### Merge Export dataframes for passenger vehicles, trucks and parts"
   ]
  },
  {
   "cell_type": "code",
   "execution_count": null,
   "id": "15",
   "metadata": {},
   "outputs": [],
   "source": [
    "# Merge the three cleaned dataframes into one\n",
    "merged_exports_df = pd.concat([\n",
    "    cleaned_pv_export_df,\n",
    "    cleaned_trucks_export_df,\n",
    "    cleaned_parts_export_df\n",
    "], ignore_index=True)\n",
    "\n",
    "merged_exports_df.head()"
   ]
  },
  {
   "cell_type": "code",
   "execution_count": null,
   "id": "16",
   "metadata": {},
   "outputs": [],
   "source": [
    "# Check all unique categories in the merged dataframe\n",
    "merged_exports_df['year'].unique()"
   ]
  },
  {
   "cell_type": "markdown",
   "id": "17",
   "metadata": {},
   "source": [
    "#### Now load csv files for PV, trucks and parts imports.\n",
    "#### Then merge the cleaned dataframes to get a single dataframe for imports value"
   ]
  },
  {
   "cell_type": "code",
   "execution_count": null,
   "id": "18",
   "metadata": {},
   "outputs": [],
   "source": [
    "# Load csv file for PV imports\n",
    "pv_import_df = pd.read_csv(ROOT_FOLDER + \"/data/raw/primary/New_PV_Countries_Import_Value.csv\",\n",
    "                           encoding='utf-16',header=0, sep=\"\\t\")\n",
    "\n",
    "pv_import_df[\"Category\"] = \"Passenger Vehicles\"\n",
    "\n",
    "required_cols = get_cols_to_keep(2008, 2024, 'standardized_country', 'Category')\n",
    "\n",
    "# Clean the PV imports data\n",
    "cleaned_pv_import_df = clean_primary_data(\n",
    "    pv_import_df,\n",
    "    country_col='Partner',\n",
    "    value_col='Import_value',\n",
    "    # category_col='Category',\n",
    "    cols_to_keep=required_cols\n",
    ")\n",
    "\n",
    "cleaned_pv_import_df.head(5)\n"
   ]
  },
  {
   "cell_type": "code",
   "execution_count": null,
   "id": "19",
   "metadata": {},
   "outputs": [],
   "source": [
    "# Load csv file for parts imports\n",
    "parts_import_df = pd.read_csv(ROOT_FOLDER + \"/data/raw/primary/Parts_Imports_Countries.csv\",\n",
    "                              encoding='utf-16',header=0, sep=\"\\t\")\n",
    "parts_import_df[\"Category\"] = \"Parts\"\n",
    "\n",
    "# Clean the parts imports data\n",
    "cleaned_parts_import_df = clean_primary_data(\n",
    "    parts_import_df,\n",
    "    country_col='Partner',\n",
    "    value_col='Import_value',\n",
    "    # category_col='Category',\n",
    "    cols_to_keep=required_cols\n",
    ")\n",
    "\n",
    "cleaned_parts_import_df.head(5)"
   ]
  },
  {
   "cell_type": "code",
   "execution_count": null,
   "id": "20",
   "metadata": {},
   "outputs": [],
   "source": [
    "# Load csv file for truck imports\n",
    "trucks_import_df = pd.read_csv(ROOT_FOLDER + \"/data/raw/primary/MediumHeavy_Import_Countries_Value.csv\",\n",
    "                               encoding='utf-16', header=0, sep=\"\\t\")\n",
    "trucks_import_df[\"Category\"] = \"Trucks\"\n",
    "\n",
    "# Clean the trucks imports data\n",
    "cleaned_trucks_import_df = clean_primary_data(\n",
    "    trucks_import_df,\n",
    "    country_col='Partner',\n",
    "    value_col='Import_value',\n",
    "    # category_col='Category',\n",
    "    cols_to_keep=required_cols\n",
    ")\n",
    "\n",
    "cleaned_trucks_import_df.head(5)"
   ]
  },
  {
   "cell_type": "markdown",
   "id": "21",
   "metadata": {},
   "source": [
    "#### Merge Import dataframes for passenger vehicles, trucks and parts"
   ]
  },
  {
   "cell_type": "code",
   "execution_count": null,
   "id": "22",
   "metadata": {},
   "outputs": [],
   "source": [
    "# Merge the three cleaned import dataframes into one\n",
    "merged_imports_df = pd.concat([\n",
    "    cleaned_pv_import_df,\n",
    "    cleaned_trucks_import_df,\n",
    "    cleaned_parts_import_df\n",
    "], ignore_index=True)\n",
    "\n",
    "merged_imports_df.head()"
   ]
  },
  {
   "cell_type": "code",
   "execution_count": null,
   "id": "23",
   "metadata": {},
   "outputs": [],
   "source": [
    "# Merge Export and Import dataframes into one, keeping only rows present in both (no NaN values)\n",
    "primary_df = pd.merge(\n",
    "    merged_imports_df,\n",
    "    merged_exports_df,\n",
    "    on=[\"standardized_country\", \"year\", \"Category\"],\n",
    "    how=\"inner\",\n",
    "    suffixes=(\"_import\", \"_export\")\n",
    ")\n",
    "\n",
    "primary_df.head()"
   ]
  },
  {
   "cell_type": "code",
   "execution_count": null,
   "id": "24",
   "metadata": {},
   "outputs": [],
   "source": [
    "primary_df.to_csv(ROOT_FOLDER + \"/data/processed/cleaned_primary_trade_data.csv\", index=False)"
   ]
  }
 ],
 "metadata": {
  "kernelspec": {
   "display_name": "Python 3",
   "language": "python",
   "name": "python3"
  },
  "language_info": {
   "codemirror_mode": {
    "name": "ipython",
    "version": 3
   },
   "file_extension": ".py",
   "mimetype": "text/x-python",
   "name": "python",
   "nbconvert_exporter": "python",
   "pygments_lexer": "ipython3",
   "version": "3.12.4"
  }
 },
 "nbformat": 4,
 "nbformat_minor": 5
}
