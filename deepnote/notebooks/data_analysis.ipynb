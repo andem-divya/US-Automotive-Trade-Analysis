{
  "cells": [
    {
      "cell_type": "code",
      "execution_count": 854,
      "metadata": {
        "cell_id": "3183a2c051bf4abb8ac32670b6ac83b0",
        "deepnote_cell_type": "code",
        "execution_context_id": "47b0595b-8440-4364-bb63-b5da004eb0ee",
        "execution_millis": 1,
        "execution_start": 1757701625263,
        "source_hash": "a83c309d"
      },
      "outputs": [],
      "source": [
        "# import packages\n",
        "import pandas as pd\n",
        "import numpy as np\n",
        "from data_visualizations import plot_line, plot_scatter, plot_dumbbell\n"
      ]
    },
    {
      "cell_type": "code",
      "execution_count": 855,
      "metadata": {},
      "outputs": [
        {
          "name": "stdout",
          "output_type": "stream",
          "text": [
            "<class 'pandas.core.frame.DataFrame'>\n",
            "RangeIndex: 6749 entries, 0 to 6748\n",
            "Data columns (total 11 columns):\n",
            " #   Column                  Non-Null Count  Dtype  \n",
            "---  ------                  --------------  -----  \n",
            " 0   country                 6749 non-null   object \n",
            " 1   category                6749 non-null   object \n",
            " 2   year                    6749 non-null   int64  \n",
            " 3   import_value            6749 non-null   int64  \n",
            " 4   export_value            6749 non-null   int64  \n",
            " 5   mfn_by_us_simple_avg    5625 non-null   float64\n",
            " 6   mfn_by_us_weighted_avg  5625 non-null   float64\n",
            " 7   mfn_on_us_simple_avg    4875 non-null   float64\n",
            " 8   mfn_on_us_weighted_avg  4875 non-null   float64\n",
            " 9   gdp                     5490 non-null   float64\n",
            " 10  gdp_2015_adj            5445 non-null   float64\n",
            "dtypes: float64(6), int64(3), object(2)\n",
            "memory usage: 580.1+ KB\n"
          ]
        }
      ],
      "source": [
        "final_df = pd.read_csv('./../../data/processed/combined_primary_secondary.csv')\n",
        "final_df.info()"
      ]
    },
    {
      "cell_type": "markdown",
      "metadata": {},
      "source": [
        "### What are the overall exports and imports of the USA over the years?\n",
        "\n",
        "Let’s explore how imports and exports have changed over time, identify which is growing faster, and analyze how the trade balance has evolved."
      ]
    },
    {
      "cell_type": "code",
      "execution_count": 856,
      "metadata": {
        "cell_id": "8ae32f4ef6fa4cfe9ca3d69f223552c6",
        "deepnote_cell_type": "code"
      },
      "outputs": [
        {
          "data": {
            "text/html": [
              "<div>\n",
              "<style scoped>\n",
              "    .dataframe tbody tr th:only-of-type {\n",
              "        vertical-align: middle;\n",
              "    }\n",
              "\n",
              "    .dataframe tbody tr th {\n",
              "        vertical-align: top;\n",
              "    }\n",
              "\n",
              "    .dataframe thead th {\n",
              "        text-align: right;\n",
              "    }\n",
              "</style>\n",
              "<table border=\"1\" class=\"dataframe\">\n",
              "  <thead>\n",
              "    <tr style=\"text-align: right;\">\n",
              "      <th></th>\n",
              "      <th>year</th>\n",
              "      <th>Import</th>\n",
              "      <th>Export</th>\n",
              "      <th>Trade Balance</th>\n",
              "    </tr>\n",
              "  </thead>\n",
              "  <tbody>\n",
              "    <tr>\n",
              "      <th>0</th>\n",
              "      <td>2008</td>\n",
              "      <td>228611885213</td>\n",
              "      <td>105121043873</td>\n",
              "      <td>-123490841340</td>\n",
              "    </tr>\n",
              "    <tr>\n",
              "      <th>1</th>\n",
              "      <td>2009</td>\n",
              "      <td>157179781039</td>\n",
              "      <td>71416597613</td>\n",
              "      <td>-85763183426</td>\n",
              "    </tr>\n",
              "    <tr>\n",
              "      <th>2</th>\n",
              "      <td>2010</td>\n",
              "      <td>224725910368</td>\n",
              "      <td>99876045626</td>\n",
              "      <td>-124849864742</td>\n",
              "    </tr>\n",
              "    <tr>\n",
              "      <th>3</th>\n",
              "      <td>2011</td>\n",
              "      <td>253735555230</td>\n",
              "      <td>117655029390</td>\n",
              "      <td>-136080525840</td>\n",
              "    </tr>\n",
              "    <tr>\n",
              "      <th>4</th>\n",
              "      <td>2012</td>\n",
              "      <td>296613580192</td>\n",
              "      <td>132435416780</td>\n",
              "      <td>-164178163412</td>\n",
              "    </tr>\n",
              "  </tbody>\n",
              "</table>\n",
              "</div>"
            ],
            "text/plain": [
              "   year        Import        Export  Trade Balance\n",
              "0  2008  228611885213  105121043873  -123490841340\n",
              "1  2009  157179781039   71416597613   -85763183426\n",
              "2  2010  224725910368   99876045626  -124849864742\n",
              "3  2011  253735555230  117655029390  -136080525840\n",
              "4  2012  296613580192  132435416780  -164178163412"
            ]
          },
          "execution_count": 856,
          "metadata": {},
          "output_type": "execute_result"
        }
      ],
      "source": [
        "# aggregate import and export data to yearly level\n",
        "yearly_df = final_df.groupby('year').agg({\n",
        "    'import_value': 'sum',\n",
        "    'export_value': 'sum'\n",
        "}).reset_index()\n",
        "\n",
        "# create a new column for trade balance\n",
        "yearly_df['trade_balance'] = yearly_df['export_value'] - yearly_df['import_value']\n",
        "\n",
        "# rename columns for better readability\n",
        "yearly_df.rename(columns={\n",
        "    'import_value': 'Import',\n",
        "    'export_value': 'Export',\n",
        "    'trade_balance': 'Trade Balance'\n",
        "}, inplace=True)\n",
        "yearly_df.head()\n"
      ]
    },
    {
      "cell_type": "code",
      "execution_count": 857,
      "metadata": {},
      "outputs": [
        {
          "data": {
            "application/vnd.plotly.v1+json": {
              "config": {
                "plotlyServerURL": "https://plot.ly"
              },
              "data": [
                {
                  "hovertemplate": "variable=Import<br>year=%{x}<br>value=%{y}<extra></extra>",
                  "legendgroup": "Import",
                  "line": {
                    "color": "#636efa",
                    "dash": "solid"
                  },
                  "marker": {
                    "symbol": "circle"
                  },
                  "mode": "lines+markers",
                  "name": "Import",
                  "orientation": "v",
                  "showlegend": true,
                  "type": "scatter",
                  "x": {
                    "bdata": "2AfZB9oH2wfcB90H3gffB+AH4QfiB+MH5AflB+YH5wfoBw==",
                    "dtype": "i2"
                  },
                  "xaxis": "x",
                  "y": [
                    228611885213,
                    157179781039,
                    224725910368,
                    253735555230,
                    296613580192,
                    307408596512,
                    326526454927,
                    345692604449,
                    346377883619,
                    354259126796,
                    365660695657,
                    368834457400,
                    300580758253,
                    335406526978,
                    387655522487,
                    447100836567,
                    461619618835
                  ],
                  "yaxis": "y"
                },
                {
                  "hovertemplate": "variable=Export<br>year=%{x}<br>value=%{y}<extra></extra>",
                  "legendgroup": "Export",
                  "line": {
                    "color": "#EF553B",
                    "dash": "solid"
                  },
                  "marker": {
                    "symbol": "circle"
                  },
                  "mode": "lines+markers",
                  "name": "Export",
                  "orientation": "v",
                  "showlegend": true,
                  "type": "scatter",
                  "x": {
                    "bdata": "2AfZB9oH2wfcB90H3gffB+AH4QfiB+MH5AflB+YH5wfoBw==",
                    "dtype": "i2"
                  },
                  "xaxis": "x",
                  "y": [
                    105121043873,
                    71416597613,
                    99876045626,
                    117655029390,
                    132435416780,
                    139533817621,
                    148189642043,
                    143385564677,
                    142966032740,
                    150218122046,
                    149809950468,
                    153651478932,
                    122232361319,
                    136438846021,
                    150573190542,
                    167065718704,
                    160209451318
                  ],
                  "yaxis": "y"
                },
                {
                  "hovertemplate": "variable=Trade Balance<br>year=%{x}<br>value=%{y}<extra></extra>",
                  "legendgroup": "Trade Balance",
                  "line": {
                    "color": "#00cc96",
                    "dash": "solid"
                  },
                  "marker": {
                    "symbol": "circle"
                  },
                  "mode": "lines+markers",
                  "name": "Trade Balance",
                  "orientation": "v",
                  "showlegend": true,
                  "type": "scatter",
                  "x": {
                    "bdata": "2AfZB9oH2wfcB90H3gffB+AH4QfiB+MH5AflB+YH5wfoBw==",
                    "dtype": "i2"
                  },
                  "xaxis": "x",
                  "y": [
                    -123490841340,
                    -85763183426,
                    -124849864742,
                    -136080525840,
                    -164178163412,
                    -167874778891,
                    -178336812884,
                    -202307039772,
                    -203411850879,
                    -204041004750,
                    -215850745189,
                    -215182978468,
                    -178348396934,
                    -198967680957,
                    -237082331945,
                    -280035117863,
                    -301410167517
                  ],
                  "yaxis": "y"
                }
              ],
              "layout": {
                "legend": {
                  "title": {},
                  "tracegroupgap": 0
                },
                "margin": {
                  "t": 60
                },
                "template": {
                  "data": {
                    "bar": [
                      {
                        "error_x": {
                          "color": "#2a3f5f"
                        },
                        "error_y": {
                          "color": "#2a3f5f"
                        },
                        "marker": {
                          "line": {
                            "color": "#E5ECF6",
                            "width": 0.5
                          },
                          "pattern": {
                            "fillmode": "overlay",
                            "size": 10,
                            "solidity": 0.2
                          }
                        },
                        "type": "bar"
                      }
                    ],
                    "barpolar": [
                      {
                        "marker": {
                          "line": {
                            "color": "#E5ECF6",
                            "width": 0.5
                          },
                          "pattern": {
                            "fillmode": "overlay",
                            "size": 10,
                            "solidity": 0.2
                          }
                        },
                        "type": "barpolar"
                      }
                    ],
                    "carpet": [
                      {
                        "aaxis": {
                          "endlinecolor": "#2a3f5f",
                          "gridcolor": "white",
                          "linecolor": "white",
                          "minorgridcolor": "white",
                          "startlinecolor": "#2a3f5f"
                        },
                        "baxis": {
                          "endlinecolor": "#2a3f5f",
                          "gridcolor": "white",
                          "linecolor": "white",
                          "minorgridcolor": "white",
                          "startlinecolor": "#2a3f5f"
                        },
                        "type": "carpet"
                      }
                    ],
                    "choropleth": [
                      {
                        "colorbar": {
                          "outlinewidth": 0,
                          "ticks": ""
                        },
                        "type": "choropleth"
                      }
                    ],
                    "contour": [
                      {
                        "colorbar": {
                          "outlinewidth": 0,
                          "ticks": ""
                        },
                        "colorscale": [
                          [
                            0,
                            "#0d0887"
                          ],
                          [
                            0.1111111111111111,
                            "#46039f"
                          ],
                          [
                            0.2222222222222222,
                            "#7201a8"
                          ],
                          [
                            0.3333333333333333,
                            "#9c179e"
                          ],
                          [
                            0.4444444444444444,
                            "#bd3786"
                          ],
                          [
                            0.5555555555555556,
                            "#d8576b"
                          ],
                          [
                            0.6666666666666666,
                            "#ed7953"
                          ],
                          [
                            0.7777777777777778,
                            "#fb9f3a"
                          ],
                          [
                            0.8888888888888888,
                            "#fdca26"
                          ],
                          [
                            1,
                            "#f0f921"
                          ]
                        ],
                        "type": "contour"
                      }
                    ],
                    "contourcarpet": [
                      {
                        "colorbar": {
                          "outlinewidth": 0,
                          "ticks": ""
                        },
                        "type": "contourcarpet"
                      }
                    ],
                    "heatmap": [
                      {
                        "colorbar": {
                          "outlinewidth": 0,
                          "ticks": ""
                        },
                        "colorscale": [
                          [
                            0,
                            "#0d0887"
                          ],
                          [
                            0.1111111111111111,
                            "#46039f"
                          ],
                          [
                            0.2222222222222222,
                            "#7201a8"
                          ],
                          [
                            0.3333333333333333,
                            "#9c179e"
                          ],
                          [
                            0.4444444444444444,
                            "#bd3786"
                          ],
                          [
                            0.5555555555555556,
                            "#d8576b"
                          ],
                          [
                            0.6666666666666666,
                            "#ed7953"
                          ],
                          [
                            0.7777777777777778,
                            "#fb9f3a"
                          ],
                          [
                            0.8888888888888888,
                            "#fdca26"
                          ],
                          [
                            1,
                            "#f0f921"
                          ]
                        ],
                        "type": "heatmap"
                      }
                    ],
                    "histogram": [
                      {
                        "marker": {
                          "pattern": {
                            "fillmode": "overlay",
                            "size": 10,
                            "solidity": 0.2
                          }
                        },
                        "type": "histogram"
                      }
                    ],
                    "histogram2d": [
                      {
                        "colorbar": {
                          "outlinewidth": 0,
                          "ticks": ""
                        },
                        "colorscale": [
                          [
                            0,
                            "#0d0887"
                          ],
                          [
                            0.1111111111111111,
                            "#46039f"
                          ],
                          [
                            0.2222222222222222,
                            "#7201a8"
                          ],
                          [
                            0.3333333333333333,
                            "#9c179e"
                          ],
                          [
                            0.4444444444444444,
                            "#bd3786"
                          ],
                          [
                            0.5555555555555556,
                            "#d8576b"
                          ],
                          [
                            0.6666666666666666,
                            "#ed7953"
                          ],
                          [
                            0.7777777777777778,
                            "#fb9f3a"
                          ],
                          [
                            0.8888888888888888,
                            "#fdca26"
                          ],
                          [
                            1,
                            "#f0f921"
                          ]
                        ],
                        "type": "histogram2d"
                      }
                    ],
                    "histogram2dcontour": [
                      {
                        "colorbar": {
                          "outlinewidth": 0,
                          "ticks": ""
                        },
                        "colorscale": [
                          [
                            0,
                            "#0d0887"
                          ],
                          [
                            0.1111111111111111,
                            "#46039f"
                          ],
                          [
                            0.2222222222222222,
                            "#7201a8"
                          ],
                          [
                            0.3333333333333333,
                            "#9c179e"
                          ],
                          [
                            0.4444444444444444,
                            "#bd3786"
                          ],
                          [
                            0.5555555555555556,
                            "#d8576b"
                          ],
                          [
                            0.6666666666666666,
                            "#ed7953"
                          ],
                          [
                            0.7777777777777778,
                            "#fb9f3a"
                          ],
                          [
                            0.8888888888888888,
                            "#fdca26"
                          ],
                          [
                            1,
                            "#f0f921"
                          ]
                        ],
                        "type": "histogram2dcontour"
                      }
                    ],
                    "mesh3d": [
                      {
                        "colorbar": {
                          "outlinewidth": 0,
                          "ticks": ""
                        },
                        "type": "mesh3d"
                      }
                    ],
                    "parcoords": [
                      {
                        "line": {
                          "colorbar": {
                            "outlinewidth": 0,
                            "ticks": ""
                          }
                        },
                        "type": "parcoords"
                      }
                    ],
                    "pie": [
                      {
                        "automargin": true,
                        "type": "pie"
                      }
                    ],
                    "scatter": [
                      {
                        "fillpattern": {
                          "fillmode": "overlay",
                          "size": 10,
                          "solidity": 0.2
                        },
                        "type": "scatter"
                      }
                    ],
                    "scatter3d": [
                      {
                        "line": {
                          "colorbar": {
                            "outlinewidth": 0,
                            "ticks": ""
                          }
                        },
                        "marker": {
                          "colorbar": {
                            "outlinewidth": 0,
                            "ticks": ""
                          }
                        },
                        "type": "scatter3d"
                      }
                    ],
                    "scattercarpet": [
                      {
                        "marker": {
                          "colorbar": {
                            "outlinewidth": 0,
                            "ticks": ""
                          }
                        },
                        "type": "scattercarpet"
                      }
                    ],
                    "scattergeo": [
                      {
                        "marker": {
                          "colorbar": {
                            "outlinewidth": 0,
                            "ticks": ""
                          }
                        },
                        "type": "scattergeo"
                      }
                    ],
                    "scattergl": [
                      {
                        "marker": {
                          "colorbar": {
                            "outlinewidth": 0,
                            "ticks": ""
                          }
                        },
                        "type": "scattergl"
                      }
                    ],
                    "scattermap": [
                      {
                        "marker": {
                          "colorbar": {
                            "outlinewidth": 0,
                            "ticks": ""
                          }
                        },
                        "type": "scattermap"
                      }
                    ],
                    "scattermapbox": [
                      {
                        "marker": {
                          "colorbar": {
                            "outlinewidth": 0,
                            "ticks": ""
                          }
                        },
                        "type": "scattermapbox"
                      }
                    ],
                    "scatterpolar": [
                      {
                        "marker": {
                          "colorbar": {
                            "outlinewidth": 0,
                            "ticks": ""
                          }
                        },
                        "type": "scatterpolar"
                      }
                    ],
                    "scatterpolargl": [
                      {
                        "marker": {
                          "colorbar": {
                            "outlinewidth": 0,
                            "ticks": ""
                          }
                        },
                        "type": "scatterpolargl"
                      }
                    ],
                    "scatterternary": [
                      {
                        "marker": {
                          "colorbar": {
                            "outlinewidth": 0,
                            "ticks": ""
                          }
                        },
                        "type": "scatterternary"
                      }
                    ],
                    "surface": [
                      {
                        "colorbar": {
                          "outlinewidth": 0,
                          "ticks": ""
                        },
                        "colorscale": [
                          [
                            0,
                            "#0d0887"
                          ],
                          [
                            0.1111111111111111,
                            "#46039f"
                          ],
                          [
                            0.2222222222222222,
                            "#7201a8"
                          ],
                          [
                            0.3333333333333333,
                            "#9c179e"
                          ],
                          [
                            0.4444444444444444,
                            "#bd3786"
                          ],
                          [
                            0.5555555555555556,
                            "#d8576b"
                          ],
                          [
                            0.6666666666666666,
                            "#ed7953"
                          ],
                          [
                            0.7777777777777778,
                            "#fb9f3a"
                          ],
                          [
                            0.8888888888888888,
                            "#fdca26"
                          ],
                          [
                            1,
                            "#f0f921"
                          ]
                        ],
                        "type": "surface"
                      }
                    ],
                    "table": [
                      {
                        "cells": {
                          "fill": {
                            "color": "#EBF0F8"
                          },
                          "line": {
                            "color": "white"
                          }
                        },
                        "header": {
                          "fill": {
                            "color": "#C8D4E3"
                          },
                          "line": {
                            "color": "white"
                          }
                        },
                        "type": "table"
                      }
                    ]
                  },
                  "layout": {
                    "annotationdefaults": {
                      "arrowcolor": "#2a3f5f",
                      "arrowhead": 0,
                      "arrowwidth": 1
                    },
                    "autotypenumbers": "strict",
                    "coloraxis": {
                      "colorbar": {
                        "outlinewidth": 0,
                        "ticks": ""
                      }
                    },
                    "colorscale": {
                      "diverging": [
                        [
                          0,
                          "#8e0152"
                        ],
                        [
                          0.1,
                          "#c51b7d"
                        ],
                        [
                          0.2,
                          "#de77ae"
                        ],
                        [
                          0.3,
                          "#f1b6da"
                        ],
                        [
                          0.4,
                          "#fde0ef"
                        ],
                        [
                          0.5,
                          "#f7f7f7"
                        ],
                        [
                          0.6,
                          "#e6f5d0"
                        ],
                        [
                          0.7,
                          "#b8e186"
                        ],
                        [
                          0.8,
                          "#7fbc41"
                        ],
                        [
                          0.9,
                          "#4d9221"
                        ],
                        [
                          1,
                          "#276419"
                        ]
                      ],
                      "sequential": [
                        [
                          0,
                          "#0d0887"
                        ],
                        [
                          0.1111111111111111,
                          "#46039f"
                        ],
                        [
                          0.2222222222222222,
                          "#7201a8"
                        ],
                        [
                          0.3333333333333333,
                          "#9c179e"
                        ],
                        [
                          0.4444444444444444,
                          "#bd3786"
                        ],
                        [
                          0.5555555555555556,
                          "#d8576b"
                        ],
                        [
                          0.6666666666666666,
                          "#ed7953"
                        ],
                        [
                          0.7777777777777778,
                          "#fb9f3a"
                        ],
                        [
                          0.8888888888888888,
                          "#fdca26"
                        ],
                        [
                          1,
                          "#f0f921"
                        ]
                      ],
                      "sequentialminus": [
                        [
                          0,
                          "#0d0887"
                        ],
                        [
                          0.1111111111111111,
                          "#46039f"
                        ],
                        [
                          0.2222222222222222,
                          "#7201a8"
                        ],
                        [
                          0.3333333333333333,
                          "#9c179e"
                        ],
                        [
                          0.4444444444444444,
                          "#bd3786"
                        ],
                        [
                          0.5555555555555556,
                          "#d8576b"
                        ],
                        [
                          0.6666666666666666,
                          "#ed7953"
                        ],
                        [
                          0.7777777777777778,
                          "#fb9f3a"
                        ],
                        [
                          0.8888888888888888,
                          "#fdca26"
                        ],
                        [
                          1,
                          "#f0f921"
                        ]
                      ]
                    },
                    "colorway": [
                      "#636efa",
                      "#EF553B",
                      "#00cc96",
                      "#ab63fa",
                      "#FFA15A",
                      "#19d3f3",
                      "#FF6692",
                      "#B6E880",
                      "#FF97FF",
                      "#FECB52"
                    ],
                    "font": {
                      "color": "#2a3f5f"
                    },
                    "geo": {
                      "bgcolor": "white",
                      "lakecolor": "white",
                      "landcolor": "#E5ECF6",
                      "showlakes": true,
                      "showland": true,
                      "subunitcolor": "white"
                    },
                    "hoverlabel": {
                      "align": "left"
                    },
                    "hovermode": "closest",
                    "mapbox": {
                      "style": "light"
                    },
                    "paper_bgcolor": "white",
                    "plot_bgcolor": "#E5ECF6",
                    "polar": {
                      "angularaxis": {
                        "gridcolor": "white",
                        "linecolor": "white",
                        "ticks": ""
                      },
                      "bgcolor": "#E5ECF6",
                      "radialaxis": {
                        "gridcolor": "white",
                        "linecolor": "white",
                        "ticks": ""
                      }
                    },
                    "scene": {
                      "xaxis": {
                        "backgroundcolor": "#E5ECF6",
                        "gridcolor": "white",
                        "gridwidth": 2,
                        "linecolor": "white",
                        "showbackground": true,
                        "ticks": "",
                        "zerolinecolor": "white"
                      },
                      "yaxis": {
                        "backgroundcolor": "#E5ECF6",
                        "gridcolor": "white",
                        "gridwidth": 2,
                        "linecolor": "white",
                        "showbackground": true,
                        "ticks": "",
                        "zerolinecolor": "white"
                      },
                      "zaxis": {
                        "backgroundcolor": "#E5ECF6",
                        "gridcolor": "white",
                        "gridwidth": 2,
                        "linecolor": "white",
                        "showbackground": true,
                        "ticks": "",
                        "zerolinecolor": "white"
                      }
                    },
                    "shapedefaults": {
                      "line": {
                        "color": "#2a3f5f"
                      }
                    },
                    "ternary": {
                      "aaxis": {
                        "gridcolor": "white",
                        "linecolor": "white",
                        "ticks": ""
                      },
                      "baxis": {
                        "gridcolor": "white",
                        "linecolor": "white",
                        "ticks": ""
                      },
                      "bgcolor": "#E5ECF6",
                      "caxis": {
                        "gridcolor": "white",
                        "linecolor": "white",
                        "ticks": ""
                      }
                    },
                    "title": {
                      "x": 0.05
                    },
                    "xaxis": {
                      "automargin": true,
                      "gridcolor": "white",
                      "linecolor": "white",
                      "ticks": "",
                      "title": {
                        "standoff": 15
                      },
                      "zerolinecolor": "white",
                      "zerolinewidth": 2
                    },
                    "yaxis": {
                      "automargin": true,
                      "gridcolor": "white",
                      "linecolor": "white",
                      "ticks": "",
                      "title": {
                        "standoff": 15
                      },
                      "zerolinecolor": "white",
                      "zerolinewidth": 2
                    }
                  }
                },
                "title": {
                  "font": {
                    "size": 15
                  },
                  "text": "Annual Trade Trends of the USA: Imports, Exports, and Trade Balance",
                  "x": 0.5,
                  "xanchor": "center",
                  "yanchor": "top"
                },
                "xaxis": {
                  "anchor": "y",
                  "domain": [
                    0,
                    1
                  ],
                  "title": {
                    "text": "Year"
                  }
                },
                "yaxis": {
                  "anchor": "x",
                  "domain": [
                    0,
                    1
                  ],
                  "title": {
                    "text": "Value (USD)"
                  }
                }
              }
            }
          },
          "metadata": {},
          "output_type": "display_data"
        }
      ],
      "source": [
        "# Plot the overall import and export values of USA over the years\n",
        "# call the function from data_visualizations.py\n",
        "fig = plot_line(\n",
        "    df=yearly_df,\n",
        "    x='year',\n",
        "    y=['Import', 'Export', 'Trade Balance'],\n",
        "    title='Annual Trade Trends of the USA: Imports, Exports, and Trade Balance',\n",
        "    y_label='Value (USD)',\n",
        "    x_label='Year',\n",
        "    legend_label=None,\n",
        "    markers=True\n",
        ")\n",
        "#\n",
        "fig.show()"
      ]
    },
    {
      "cell_type": "markdown",
      "metadata": {},
      "source": [
        "### What are the overall exports and imports of the USA over the years across different categories?\n",
        "\n",
        "Let see how do these trends differ across various automotive categories? \n",
        "Specifically, which categories exhibit significant growth, \n",
        "and which demonstrate stable trade volumes over time?"
      ]
    },
    {
      "cell_type": "code",
      "execution_count": 858,
      "metadata": {},
      "outputs": [
        {
          "data": {
            "text/html": [
              "<div>\n",
              "<style scoped>\n",
              "    .dataframe tbody tr th:only-of-type {\n",
              "        vertical-align: middle;\n",
              "    }\n",
              "\n",
              "    .dataframe tbody tr th {\n",
              "        vertical-align: top;\n",
              "    }\n",
              "\n",
              "    .dataframe thead th {\n",
              "        text-align: right;\n",
              "    }\n",
              "</style>\n",
              "<table border=\"1\" class=\"dataframe\">\n",
              "  <thead>\n",
              "    <tr style=\"text-align: right;\">\n",
              "      <th></th>\n",
              "      <th>Year</th>\n",
              "      <th>category</th>\n",
              "      <th>Import</th>\n",
              "      <th>Export</th>\n",
              "      <th>Trade Balance</th>\n",
              "    </tr>\n",
              "  </thead>\n",
              "  <tbody>\n",
              "    <tr>\n",
              "      <th>0</th>\n",
              "      <td>2008</td>\n",
              "      <td>Parts</td>\n",
              "      <td>90255306016</td>\n",
              "      <td>58084720471</td>\n",
              "      <td>-32170585545</td>\n",
              "    </tr>\n",
              "    <tr>\n",
              "      <th>1</th>\n",
              "      <td>2008</td>\n",
              "      <td>Passenger Vehicles</td>\n",
              "      <td>132547756053</td>\n",
              "      <td>41724479193</td>\n",
              "      <td>-90823276860</td>\n",
              "    </tr>\n",
              "    <tr>\n",
              "      <th>2</th>\n",
              "      <td>2008</td>\n",
              "      <td>Trucks</td>\n",
              "      <td>5808823144</td>\n",
              "      <td>5311844209</td>\n",
              "      <td>-496978935</td>\n",
              "    </tr>\n",
              "    <tr>\n",
              "      <th>3</th>\n",
              "      <td>2009</td>\n",
              "      <td>Parts</td>\n",
              "      <td>66004369220</td>\n",
              "      <td>43280003896</td>\n",
              "      <td>-22724365324</td>\n",
              "    </tr>\n",
              "    <tr>\n",
              "      <th>4</th>\n",
              "      <td>2009</td>\n",
              "      <td>Passenger Vehicles</td>\n",
              "      <td>86399575025</td>\n",
              "      <td>24947920330</td>\n",
              "      <td>-61451654695</td>\n",
              "    </tr>\n",
              "  </tbody>\n",
              "</table>\n",
              "</div>"
            ],
            "text/plain": [
              "   Year            category        Import       Export  Trade Balance\n",
              "0  2008               Parts   90255306016  58084720471   -32170585545\n",
              "1  2008  Passenger Vehicles  132547756053  41724479193   -90823276860\n",
              "2  2008              Trucks    5808823144   5311844209     -496978935\n",
              "3  2009               Parts   66004369220  43280003896   -22724365324\n",
              "4  2009  Passenger Vehicles   86399575025  24947920330   -61451654695"
            ]
          },
          "execution_count": 858,
          "metadata": {},
          "output_type": "execute_result"
        }
      ],
      "source": [
        "# aggregate data to yearly level by category\n",
        "yearly_df = final_df.groupby(['year', 'category']).agg({\n",
        "    'import_value': 'sum',\n",
        "    'export_value': 'sum'\n",
        "}).reset_index()\n",
        "\n",
        "# create a new column for trade balance\n",
        "yearly_df['trade_balance'] = yearly_df['export_value'] - yearly_df['import_value']\n",
        "\n",
        "# rename columns for better readability\n",
        "yearly_df.rename(columns={\n",
        "    'year':'Year',\n",
        "    'import_value': 'Import',\n",
        "    'export_value': 'Export',\n",
        "    'trade_balance': 'Trade Balance'\n",
        "}, inplace=True)\n",
        "\n",
        "yearly_df.head(5)"
      ]
    },
    {
      "cell_type": "code",
      "execution_count": 859,
      "metadata": {},
      "outputs": [
        {
          "data": {
            "application/vnd.plotly.v1+json": {
              "config": {
                "plotlyServerURL": "https://plot.ly"
              },
              "data": [
                {
                  "hovertemplate": "variable=Import<br>category=Parts<br>Year=%{x}<br>value=%{y}<extra></extra>",
                  "legendgroup": "Import",
                  "line": {
                    "color": "#636efa",
                    "dash": "solid"
                  },
                  "marker": {
                    "symbol": "circle"
                  },
                  "mode": "lines+markers",
                  "name": "Import",
                  "orientation": "v",
                  "showlegend": true,
                  "type": "scatter",
                  "x": {
                    "bdata": "2AfZB9oH2wfcB90H3gffB+AH4QfiB+MH5AflB+YH5wfoBw==",
                    "dtype": "i2"
                  },
                  "xaxis": "x",
                  "y": [
                    90255306016,
                    66004369220,
                    95701577402,
                    114005697923,
                    130041836715,
                    132101511635,
                    145153700107,
                    150226068746,
                    148010738309,
                    147929570755,
                    157589767184,
                    154853147383,
                    130632843387,
                    158547780544,
                    183740234570,
                    194314879934,
                    197260705993
                  ],
                  "yaxis": "y"
                },
                {
                  "hovertemplate": "variable=Import<br>category=Passenger Vehicles<br>Year=%{x}<br>value=%{y}<extra></extra>",
                  "legendgroup": "Import",
                  "line": {
                    "color": "#636efa",
                    "dash": "solid"
                  },
                  "marker": {
                    "symbol": "circle"
                  },
                  "mode": "lines+markers",
                  "name": "Import",
                  "orientation": "v",
                  "showlegend": false,
                  "type": "scatter",
                  "x": {
                    "bdata": "2AfZB9oH2wfcB90H3gffB+AH4QfiB+MH5AflB+YH5wfoBw==",
                    "dtype": "i2"
                  },
                  "xaxis": "x2",
                  "y": [
                    132547756053,
                    86399575025,
                    122556235854,
                    130603431721,
                    156582254510,
                    164078381741,
                    166818587780,
                    179819603360,
                    186356026335,
                    191755517495,
                    191654348822,
                    196647691470,
                    158458097211,
                    163293729563,
                    186297320224,
                    231860444831,
                    243507591592
                  ],
                  "yaxis": "y2"
                },
                {
                  "hovertemplate": "variable=Import<br>category=Trucks<br>Year=%{x}<br>value=%{y}<extra></extra>",
                  "legendgroup": "Import",
                  "line": {
                    "color": "#636efa",
                    "dash": "solid"
                  },
                  "marker": {
                    "symbol": "circle"
                  },
                  "mode": "lines+markers",
                  "name": "Import",
                  "orientation": "v",
                  "showlegend": false,
                  "type": "scatter",
                  "x": {
                    "bdata": "2AfZB9oH2wfcB90H3gffB+AH4QfiB+MH5AflB+YH5wfoBw==",
                    "dtype": "i2"
                  },
                  "xaxis": "x3",
                  "y": [
                    5808823144,
                    4775836794,
                    6468097112,
                    9126425586,
                    9989488967,
                    11228703136,
                    14554167040,
                    15646932343,
                    12011118975,
                    14574038546,
                    16416579651,
                    17333618547,
                    11489817655,
                    13565016871,
                    17617967693,
                    20925511802,
                    20851321250
                  ],
                  "yaxis": "y3"
                },
                {
                  "hovertemplate": "variable=Export<br>category=Parts<br>Year=%{x}<br>value=%{y}<extra></extra>",
                  "legendgroup": "Export",
                  "line": {
                    "color": "#EF553B",
                    "dash": "solid"
                  },
                  "marker": {
                    "symbol": "circle"
                  },
                  "mode": "lines+markers",
                  "name": "Export",
                  "orientation": "v",
                  "showlegend": true,
                  "type": "scatter",
                  "x": {
                    "bdata": "2AfZB9oH2wfcB90H3gffB+AH4QfiB+MH5AflB+YH5wfoBw==",
                    "dtype": "i2"
                  },
                  "xaxis": "x",
                  "y": [
                    58084720471,
                    43280003896,
                    58837395041,
                    68443381633,
                    75915474418,
                    78999865012,
                    82779654711,
                    82764082605,
                    82263365800,
                    87918263408,
                    90191837729,
                    87095984410,
                    69072349406,
                    73276475287,
                    82798128008,
                    93706209296,
                    93493847058
                  ],
                  "yaxis": "y"
                },
                {
                  "hovertemplate": "variable=Export<br>category=Passenger Vehicles<br>Year=%{x}<br>value=%{y}<extra></extra>",
                  "legendgroup": "Export",
                  "line": {
                    "color": "#EF553B",
                    "dash": "solid"
                  },
                  "marker": {
                    "symbol": "circle"
                  },
                  "mode": "lines+markers",
                  "name": "Export",
                  "orientation": "v",
                  "showlegend": false,
                  "type": "scatter",
                  "x": {
                    "bdata": "2AfZB9oH2wfcB90H3gffB+AH4QfiB+MH5AflB+YH5wfoBw==",
                    "dtype": "i2"
                  },
                  "xaxis": "x2",
                  "y": [
                    41724479193,
                    24947920330,
                    36109772538,
                    43029558488,
                    49507725202,
                    54101438979,
                    59067667931,
                    55053227370,
                    55880660370,
                    56518612580,
                    52556802409,
                    59277285302,
                    48040978653,
                    57064741511,
                    60547127708,
                    64812742223,
                    57725656582
                  ],
                  "yaxis": "y2"
                },
                {
                  "hovertemplate": "variable=Export<br>category=Trucks<br>Year=%{x}<br>value=%{y}<extra></extra>",
                  "legendgroup": "Export",
                  "line": {
                    "color": "#EF553B",
                    "dash": "solid"
                  },
                  "marker": {
                    "symbol": "circle"
                  },
                  "mode": "lines+markers",
                  "name": "Export",
                  "orientation": "v",
                  "showlegend": false,
                  "type": "scatter",
                  "x": {
                    "bdata": "2AfZB9oH2wfcB90H3gffB+AH4QfiB+MH5AflB+YH5wfoBw==",
                    "dtype": "i2"
                  },
                  "xaxis": "x3",
                  "y": [
                    5311844209,
                    3188673387,
                    4928878047,
                    6182089269,
                    7012217160,
                    6432513630,
                    6342319401,
                    5568254702,
                    4822006570,
                    5781246058,
                    7061310330,
                    7278209220,
                    5119033260,
                    6097629223,
                    7227934826,
                    8546767185,
                    8989947678
                  ],
                  "yaxis": "y3"
                },
                {
                  "hovertemplate": "variable=Trade Balance<br>category=Parts<br>Year=%{x}<br>value=%{y}<extra></extra>",
                  "legendgroup": "Trade Balance",
                  "line": {
                    "color": "#00cc96",
                    "dash": "solid"
                  },
                  "marker": {
                    "symbol": "circle"
                  },
                  "mode": "lines+markers",
                  "name": "Trade Balance",
                  "orientation": "v",
                  "showlegend": true,
                  "type": "scatter",
                  "x": {
                    "bdata": "2AfZB9oH2wfcB90H3gffB+AH4QfiB+MH5AflB+YH5wfoBw==",
                    "dtype": "i2"
                  },
                  "xaxis": "x",
                  "y": [
                    -32170585545,
                    -22724365324,
                    -36864182361,
                    -45562316290,
                    -54126362297,
                    -53101646623,
                    -62374045396,
                    -67461986141,
                    -65747372509,
                    -60011307347,
                    -67397929455,
                    -67757162973,
                    -61560493981,
                    -85271305257,
                    -100942106562,
                    -100608670638,
                    -103766858935
                  ],
                  "yaxis": "y"
                },
                {
                  "hovertemplate": "variable=Trade Balance<br>category=Passenger Vehicles<br>Year=%{x}<br>value=%{y}<extra></extra>",
                  "legendgroup": "Trade Balance",
                  "line": {
                    "color": "#00cc96",
                    "dash": "solid"
                  },
                  "marker": {
                    "symbol": "circle"
                  },
                  "mode": "lines+markers",
                  "name": "Trade Balance",
                  "orientation": "v",
                  "showlegend": false,
                  "type": "scatter",
                  "x": {
                    "bdata": "2AfZB9oH2wfcB90H3gffB+AH4QfiB+MH5AflB+YH5wfoBw==",
                    "dtype": "i2"
                  },
                  "xaxis": "x2",
                  "y": [
                    -90823276860,
                    -61451654695,
                    -86446463316,
                    -87573873233,
                    -107074529308,
                    -109976942762,
                    -107750919849,
                    -124766375990,
                    -130475365965,
                    -135236904915,
                    -139097546413,
                    -137370406168,
                    -110417118558,
                    -106228988052,
                    -125750192516,
                    -167047702608,
                    -185781935010
                  ],
                  "yaxis": "y2"
                },
                {
                  "hovertemplate": "variable=Trade Balance<br>category=Trucks<br>Year=%{x}<br>value=%{y}<extra></extra>",
                  "legendgroup": "Trade Balance",
                  "line": {
                    "color": "#00cc96",
                    "dash": "solid"
                  },
                  "marker": {
                    "symbol": "circle"
                  },
                  "mode": "lines+markers",
                  "name": "Trade Balance",
                  "orientation": "v",
                  "showlegend": false,
                  "type": "scatter",
                  "x": {
                    "bdata": "2AfZB9oH2wfcB90H3gffB+AH4QfiB+MH5AflB+YH5wfoBw==",
                    "dtype": "i2"
                  },
                  "xaxis": "x3",
                  "y": [
                    -496978935,
                    -1587163407,
                    -1539219065,
                    -2944336317,
                    -2977271807,
                    -4796189506,
                    -8211847639,
                    -10078677641,
                    -7189112405,
                    -8792792488,
                    -9355269321,
                    -10055409327,
                    -6370784395,
                    -7467387648,
                    -10390032867,
                    -12378744617,
                    -11861373572
                  ],
                  "yaxis": "y3"
                }
              ],
              "layout": {
                "annotations": [
                  {
                    "font": {},
                    "showarrow": false,
                    "text": "Parts",
                    "x": 0.15999999999999998,
                    "xanchor": "center",
                    "xref": "paper",
                    "y": 1,
                    "yanchor": "bottom",
                    "yref": "paper"
                  },
                  {
                    "font": {},
                    "showarrow": false,
                    "text": "Passenger Vehicles",
                    "x": 0.49999999999999994,
                    "xanchor": "center",
                    "xref": "paper",
                    "y": 1,
                    "yanchor": "bottom",
                    "yref": "paper"
                  },
                  {
                    "font": {},
                    "showarrow": false,
                    "text": "Trucks",
                    "x": 0.8399999999999999,
                    "xanchor": "center",
                    "xref": "paper",
                    "y": 1,
                    "yanchor": "bottom",
                    "yref": "paper"
                  }
                ],
                "legend": {
                  "title": {},
                  "tracegroupgap": 0
                },
                "margin": {
                  "t": 60
                },
                "template": {
                  "data": {
                    "bar": [
                      {
                        "error_x": {
                          "color": "#2a3f5f"
                        },
                        "error_y": {
                          "color": "#2a3f5f"
                        },
                        "marker": {
                          "line": {
                            "color": "#E5ECF6",
                            "width": 0.5
                          },
                          "pattern": {
                            "fillmode": "overlay",
                            "size": 10,
                            "solidity": 0.2
                          }
                        },
                        "type": "bar"
                      }
                    ],
                    "barpolar": [
                      {
                        "marker": {
                          "line": {
                            "color": "#E5ECF6",
                            "width": 0.5
                          },
                          "pattern": {
                            "fillmode": "overlay",
                            "size": 10,
                            "solidity": 0.2
                          }
                        },
                        "type": "barpolar"
                      }
                    ],
                    "carpet": [
                      {
                        "aaxis": {
                          "endlinecolor": "#2a3f5f",
                          "gridcolor": "white",
                          "linecolor": "white",
                          "minorgridcolor": "white",
                          "startlinecolor": "#2a3f5f"
                        },
                        "baxis": {
                          "endlinecolor": "#2a3f5f",
                          "gridcolor": "white",
                          "linecolor": "white",
                          "minorgridcolor": "white",
                          "startlinecolor": "#2a3f5f"
                        },
                        "type": "carpet"
                      }
                    ],
                    "choropleth": [
                      {
                        "colorbar": {
                          "outlinewidth": 0,
                          "ticks": ""
                        },
                        "type": "choropleth"
                      }
                    ],
                    "contour": [
                      {
                        "colorbar": {
                          "outlinewidth": 0,
                          "ticks": ""
                        },
                        "colorscale": [
                          [
                            0,
                            "#0d0887"
                          ],
                          [
                            0.1111111111111111,
                            "#46039f"
                          ],
                          [
                            0.2222222222222222,
                            "#7201a8"
                          ],
                          [
                            0.3333333333333333,
                            "#9c179e"
                          ],
                          [
                            0.4444444444444444,
                            "#bd3786"
                          ],
                          [
                            0.5555555555555556,
                            "#d8576b"
                          ],
                          [
                            0.6666666666666666,
                            "#ed7953"
                          ],
                          [
                            0.7777777777777778,
                            "#fb9f3a"
                          ],
                          [
                            0.8888888888888888,
                            "#fdca26"
                          ],
                          [
                            1,
                            "#f0f921"
                          ]
                        ],
                        "type": "contour"
                      }
                    ],
                    "contourcarpet": [
                      {
                        "colorbar": {
                          "outlinewidth": 0,
                          "ticks": ""
                        },
                        "type": "contourcarpet"
                      }
                    ],
                    "heatmap": [
                      {
                        "colorbar": {
                          "outlinewidth": 0,
                          "ticks": ""
                        },
                        "colorscale": [
                          [
                            0,
                            "#0d0887"
                          ],
                          [
                            0.1111111111111111,
                            "#46039f"
                          ],
                          [
                            0.2222222222222222,
                            "#7201a8"
                          ],
                          [
                            0.3333333333333333,
                            "#9c179e"
                          ],
                          [
                            0.4444444444444444,
                            "#bd3786"
                          ],
                          [
                            0.5555555555555556,
                            "#d8576b"
                          ],
                          [
                            0.6666666666666666,
                            "#ed7953"
                          ],
                          [
                            0.7777777777777778,
                            "#fb9f3a"
                          ],
                          [
                            0.8888888888888888,
                            "#fdca26"
                          ],
                          [
                            1,
                            "#f0f921"
                          ]
                        ],
                        "type": "heatmap"
                      }
                    ],
                    "histogram": [
                      {
                        "marker": {
                          "pattern": {
                            "fillmode": "overlay",
                            "size": 10,
                            "solidity": 0.2
                          }
                        },
                        "type": "histogram"
                      }
                    ],
                    "histogram2d": [
                      {
                        "colorbar": {
                          "outlinewidth": 0,
                          "ticks": ""
                        },
                        "colorscale": [
                          [
                            0,
                            "#0d0887"
                          ],
                          [
                            0.1111111111111111,
                            "#46039f"
                          ],
                          [
                            0.2222222222222222,
                            "#7201a8"
                          ],
                          [
                            0.3333333333333333,
                            "#9c179e"
                          ],
                          [
                            0.4444444444444444,
                            "#bd3786"
                          ],
                          [
                            0.5555555555555556,
                            "#d8576b"
                          ],
                          [
                            0.6666666666666666,
                            "#ed7953"
                          ],
                          [
                            0.7777777777777778,
                            "#fb9f3a"
                          ],
                          [
                            0.8888888888888888,
                            "#fdca26"
                          ],
                          [
                            1,
                            "#f0f921"
                          ]
                        ],
                        "type": "histogram2d"
                      }
                    ],
                    "histogram2dcontour": [
                      {
                        "colorbar": {
                          "outlinewidth": 0,
                          "ticks": ""
                        },
                        "colorscale": [
                          [
                            0,
                            "#0d0887"
                          ],
                          [
                            0.1111111111111111,
                            "#46039f"
                          ],
                          [
                            0.2222222222222222,
                            "#7201a8"
                          ],
                          [
                            0.3333333333333333,
                            "#9c179e"
                          ],
                          [
                            0.4444444444444444,
                            "#bd3786"
                          ],
                          [
                            0.5555555555555556,
                            "#d8576b"
                          ],
                          [
                            0.6666666666666666,
                            "#ed7953"
                          ],
                          [
                            0.7777777777777778,
                            "#fb9f3a"
                          ],
                          [
                            0.8888888888888888,
                            "#fdca26"
                          ],
                          [
                            1,
                            "#f0f921"
                          ]
                        ],
                        "type": "histogram2dcontour"
                      }
                    ],
                    "mesh3d": [
                      {
                        "colorbar": {
                          "outlinewidth": 0,
                          "ticks": ""
                        },
                        "type": "mesh3d"
                      }
                    ],
                    "parcoords": [
                      {
                        "line": {
                          "colorbar": {
                            "outlinewidth": 0,
                            "ticks": ""
                          }
                        },
                        "type": "parcoords"
                      }
                    ],
                    "pie": [
                      {
                        "automargin": true,
                        "type": "pie"
                      }
                    ],
                    "scatter": [
                      {
                        "fillpattern": {
                          "fillmode": "overlay",
                          "size": 10,
                          "solidity": 0.2
                        },
                        "type": "scatter"
                      }
                    ],
                    "scatter3d": [
                      {
                        "line": {
                          "colorbar": {
                            "outlinewidth": 0,
                            "ticks": ""
                          }
                        },
                        "marker": {
                          "colorbar": {
                            "outlinewidth": 0,
                            "ticks": ""
                          }
                        },
                        "type": "scatter3d"
                      }
                    ],
                    "scattercarpet": [
                      {
                        "marker": {
                          "colorbar": {
                            "outlinewidth": 0,
                            "ticks": ""
                          }
                        },
                        "type": "scattercarpet"
                      }
                    ],
                    "scattergeo": [
                      {
                        "marker": {
                          "colorbar": {
                            "outlinewidth": 0,
                            "ticks": ""
                          }
                        },
                        "type": "scattergeo"
                      }
                    ],
                    "scattergl": [
                      {
                        "marker": {
                          "colorbar": {
                            "outlinewidth": 0,
                            "ticks": ""
                          }
                        },
                        "type": "scattergl"
                      }
                    ],
                    "scattermap": [
                      {
                        "marker": {
                          "colorbar": {
                            "outlinewidth": 0,
                            "ticks": ""
                          }
                        },
                        "type": "scattermap"
                      }
                    ],
                    "scattermapbox": [
                      {
                        "marker": {
                          "colorbar": {
                            "outlinewidth": 0,
                            "ticks": ""
                          }
                        },
                        "type": "scattermapbox"
                      }
                    ],
                    "scatterpolar": [
                      {
                        "marker": {
                          "colorbar": {
                            "outlinewidth": 0,
                            "ticks": ""
                          }
                        },
                        "type": "scatterpolar"
                      }
                    ],
                    "scatterpolargl": [
                      {
                        "marker": {
                          "colorbar": {
                            "outlinewidth": 0,
                            "ticks": ""
                          }
                        },
                        "type": "scatterpolargl"
                      }
                    ],
                    "scatterternary": [
                      {
                        "marker": {
                          "colorbar": {
                            "outlinewidth": 0,
                            "ticks": ""
                          }
                        },
                        "type": "scatterternary"
                      }
                    ],
                    "surface": [
                      {
                        "colorbar": {
                          "outlinewidth": 0,
                          "ticks": ""
                        },
                        "colorscale": [
                          [
                            0,
                            "#0d0887"
                          ],
                          [
                            0.1111111111111111,
                            "#46039f"
                          ],
                          [
                            0.2222222222222222,
                            "#7201a8"
                          ],
                          [
                            0.3333333333333333,
                            "#9c179e"
                          ],
                          [
                            0.4444444444444444,
                            "#bd3786"
                          ],
                          [
                            0.5555555555555556,
                            "#d8576b"
                          ],
                          [
                            0.6666666666666666,
                            "#ed7953"
                          ],
                          [
                            0.7777777777777778,
                            "#fb9f3a"
                          ],
                          [
                            0.8888888888888888,
                            "#fdca26"
                          ],
                          [
                            1,
                            "#f0f921"
                          ]
                        ],
                        "type": "surface"
                      }
                    ],
                    "table": [
                      {
                        "cells": {
                          "fill": {
                            "color": "#EBF0F8"
                          },
                          "line": {
                            "color": "white"
                          }
                        },
                        "header": {
                          "fill": {
                            "color": "#C8D4E3"
                          },
                          "line": {
                            "color": "white"
                          }
                        },
                        "type": "table"
                      }
                    ]
                  },
                  "layout": {
                    "annotationdefaults": {
                      "arrowcolor": "#2a3f5f",
                      "arrowhead": 0,
                      "arrowwidth": 1
                    },
                    "autotypenumbers": "strict",
                    "coloraxis": {
                      "colorbar": {
                        "outlinewidth": 0,
                        "ticks": ""
                      }
                    },
                    "colorscale": {
                      "diverging": [
                        [
                          0,
                          "#8e0152"
                        ],
                        [
                          0.1,
                          "#c51b7d"
                        ],
                        [
                          0.2,
                          "#de77ae"
                        ],
                        [
                          0.3,
                          "#f1b6da"
                        ],
                        [
                          0.4,
                          "#fde0ef"
                        ],
                        [
                          0.5,
                          "#f7f7f7"
                        ],
                        [
                          0.6,
                          "#e6f5d0"
                        ],
                        [
                          0.7,
                          "#b8e186"
                        ],
                        [
                          0.8,
                          "#7fbc41"
                        ],
                        [
                          0.9,
                          "#4d9221"
                        ],
                        [
                          1,
                          "#276419"
                        ]
                      ],
                      "sequential": [
                        [
                          0,
                          "#0d0887"
                        ],
                        [
                          0.1111111111111111,
                          "#46039f"
                        ],
                        [
                          0.2222222222222222,
                          "#7201a8"
                        ],
                        [
                          0.3333333333333333,
                          "#9c179e"
                        ],
                        [
                          0.4444444444444444,
                          "#bd3786"
                        ],
                        [
                          0.5555555555555556,
                          "#d8576b"
                        ],
                        [
                          0.6666666666666666,
                          "#ed7953"
                        ],
                        [
                          0.7777777777777778,
                          "#fb9f3a"
                        ],
                        [
                          0.8888888888888888,
                          "#fdca26"
                        ],
                        [
                          1,
                          "#f0f921"
                        ]
                      ],
                      "sequentialminus": [
                        [
                          0,
                          "#0d0887"
                        ],
                        [
                          0.1111111111111111,
                          "#46039f"
                        ],
                        [
                          0.2222222222222222,
                          "#7201a8"
                        ],
                        [
                          0.3333333333333333,
                          "#9c179e"
                        ],
                        [
                          0.4444444444444444,
                          "#bd3786"
                        ],
                        [
                          0.5555555555555556,
                          "#d8576b"
                        ],
                        [
                          0.6666666666666666,
                          "#ed7953"
                        ],
                        [
                          0.7777777777777778,
                          "#fb9f3a"
                        ],
                        [
                          0.8888888888888888,
                          "#fdca26"
                        ],
                        [
                          1,
                          "#f0f921"
                        ]
                      ]
                    },
                    "colorway": [
                      "#636efa",
                      "#EF553B",
                      "#00cc96",
                      "#ab63fa",
                      "#FFA15A",
                      "#19d3f3",
                      "#FF6692",
                      "#B6E880",
                      "#FF97FF",
                      "#FECB52"
                    ],
                    "font": {
                      "color": "#2a3f5f"
                    },
                    "geo": {
                      "bgcolor": "white",
                      "lakecolor": "white",
                      "landcolor": "#E5ECF6",
                      "showlakes": true,
                      "showland": true,
                      "subunitcolor": "white"
                    },
                    "hoverlabel": {
                      "align": "left"
                    },
                    "hovermode": "closest",
                    "mapbox": {
                      "style": "light"
                    },
                    "paper_bgcolor": "white",
                    "plot_bgcolor": "#E5ECF6",
                    "polar": {
                      "angularaxis": {
                        "gridcolor": "white",
                        "linecolor": "white",
                        "ticks": ""
                      },
                      "bgcolor": "#E5ECF6",
                      "radialaxis": {
                        "gridcolor": "white",
                        "linecolor": "white",
                        "ticks": ""
                      }
                    },
                    "scene": {
                      "xaxis": {
                        "backgroundcolor": "#E5ECF6",
                        "gridcolor": "white",
                        "gridwidth": 2,
                        "linecolor": "white",
                        "showbackground": true,
                        "ticks": "",
                        "zerolinecolor": "white"
                      },
                      "yaxis": {
                        "backgroundcolor": "#E5ECF6",
                        "gridcolor": "white",
                        "gridwidth": 2,
                        "linecolor": "white",
                        "showbackground": true,
                        "ticks": "",
                        "zerolinecolor": "white"
                      },
                      "zaxis": {
                        "backgroundcolor": "#E5ECF6",
                        "gridcolor": "white",
                        "gridwidth": 2,
                        "linecolor": "white",
                        "showbackground": true,
                        "ticks": "",
                        "zerolinecolor": "white"
                      }
                    },
                    "shapedefaults": {
                      "line": {
                        "color": "#2a3f5f"
                      }
                    },
                    "ternary": {
                      "aaxis": {
                        "gridcolor": "white",
                        "linecolor": "white",
                        "ticks": ""
                      },
                      "baxis": {
                        "gridcolor": "white",
                        "linecolor": "white",
                        "ticks": ""
                      },
                      "bgcolor": "#E5ECF6",
                      "caxis": {
                        "gridcolor": "white",
                        "linecolor": "white",
                        "ticks": ""
                      }
                    },
                    "title": {
                      "x": 0.05
                    },
                    "xaxis": {
                      "automargin": true,
                      "gridcolor": "white",
                      "linecolor": "white",
                      "ticks": "",
                      "title": {
                        "standoff": 15
                      },
                      "zerolinecolor": "white",
                      "zerolinewidth": 2
                    },
                    "yaxis": {
                      "automargin": true,
                      "gridcolor": "white",
                      "linecolor": "white",
                      "ticks": "",
                      "title": {
                        "standoff": 15
                      },
                      "zerolinecolor": "white",
                      "zerolinewidth": 2
                    }
                  }
                },
                "title": {
                  "font": {
                    "size": 15
                  },
                  "text": "USA Trade Trends by Category: Imports, Exports, and Trade Balance",
                  "x": 0.5,
                  "xanchor": "center",
                  "yanchor": "top"
                },
                "xaxis": {
                  "anchor": "y",
                  "domain": [
                    0,
                    0.31999999999999995
                  ],
                  "title": {
                    "text": "Year"
                  }
                },
                "xaxis2": {
                  "anchor": "y2",
                  "domain": [
                    0.33999999999999997,
                    0.6599999999999999
                  ],
                  "matches": "x",
                  "title": {
                    "text": "Year"
                  }
                },
                "xaxis3": {
                  "anchor": "y3",
                  "domain": [
                    0.6799999999999999,
                    0.9999999999999999
                  ],
                  "matches": "x",
                  "title": {
                    "text": "Year"
                  }
                },
                "yaxis": {
                  "anchor": "x",
                  "domain": [
                    0,
                    1
                  ],
                  "title": {
                    "text": "Value in USD"
                  }
                },
                "yaxis2": {
                  "anchor": "x2",
                  "domain": [
                    0,
                    1
                  ],
                  "matches": "y",
                  "showticklabels": false
                },
                "yaxis3": {
                  "anchor": "x3",
                  "domain": [
                    0,
                    1
                  ],
                  "matches": "y",
                  "showticklabels": false
                }
              }
            }
          },
          "metadata": {},
          "output_type": "display_data"
        }
      ],
      "source": [
        "# Plot the overall import and export values of USA over the years for each category\n",
        "fig = plot_line(\n",
        "    df=yearly_df,\n",
        "    x='Year',\n",
        "    y=['Import', 'Export', 'Trade Balance'],\n",
        "    title='USA Trade Trends by Category: Imports, Exports, and Trade Balance',\n",
        "    y_label='Value in USD',\n",
        "    x_label='Year',\n",
        "    markers=True,\n",
        "    # facet by category\n",
        "    facet_col='category'\n",
        ")\n",
        "\n",
        "# simplify facet titles by removing \"category=\"\n",
        "fig.for_each_annotation(lambda a: a.update(text=a.text.split(\"=\")[-1]))\n",
        "\n",
        "# show the plot\n",
        "fig.show()\n"
      ]
    },
    {
      "cell_type": "markdown",
      "metadata": {},
      "source": [
        "### US exports and imports by country, 2024\n",
        "This section analyzes the import and export dynamics between the US and its top trading partners in 2024."
      ]
    },
    {
      "cell_type": "code",
      "execution_count": 860,
      "metadata": {},
      "outputs": [],
      "source": [
        "# Find top countries and plot import and export for each country"
      ]
    },
    {
      "cell_type": "code",
      "execution_count": 861,
      "metadata": {},
      "outputs": [
        {
          "data": {
            "text/plain": [
              "['Canada',\n",
              " 'Australia',\n",
              " 'Kuwait',\n",
              " 'Japan',\n",
              " 'Italy',\n",
              " 'Netherlands',\n",
              " 'Russia',\n",
              " 'United Kingdom',\n",
              " 'Thailand',\n",
              " 'South Korea',\n",
              " 'Saudi Arabia',\n",
              " 'China',\n",
              " 'Chile',\n",
              " 'Belgium',\n",
              " 'France',\n",
              " 'United Arab Emirates',\n",
              " 'South Africa',\n",
              " 'Mexico',\n",
              " 'Germany',\n",
              " 'Brazil']"
            ]
          },
          "execution_count": 861,
          "metadata": {},
          "output_type": "execute_result"
        }
      ],
      "source": [
        "# find top 20 countries by export value\n",
        "df = final_df.copy()\n",
        "df = df.groupby('country').agg({\n",
        "    'import_value': 'sum',\n",
        "    'export_value': 'sum'\n",
        "}).reset_index()\n",
        "\n",
        "df = df.sort_values(by='export_value', ascending=False).head(20)\n",
        "l1 = df[\"country\"].tolist()\n",
        "\n",
        "\n",
        "# find top 20 countries by import value\n",
        "df = final_df.copy()\n",
        "df = df.groupby('country').agg({\n",
        "    'import_value': 'sum',\n",
        "    'export_value': 'sum'\n",
        "}).reset_index()\n",
        "df = df.sort_values(by='import_value', ascending=False).head(20)\n",
        "l2 = df[\"country\"].tolist()\n",
        "\n",
        "top_countries = list(set(l1) or set(l2))\n",
        "top_countries"
      ]
    },
    {
      "cell_type": "code",
      "execution_count": 862,
      "metadata": {},
      "outputs": [
        {
          "data": {
            "text/html": [
              "<div>\n",
              "<style scoped>\n",
              "    .dataframe tbody tr th:only-of-type {\n",
              "        vertical-align: middle;\n",
              "    }\n",
              "\n",
              "    .dataframe tbody tr th {\n",
              "        vertical-align: top;\n",
              "    }\n",
              "\n",
              "    .dataframe thead th {\n",
              "        text-align: right;\n",
              "    }\n",
              "</style>\n",
              "<table border=\"1\" class=\"dataframe\">\n",
              "  <thead>\n",
              "    <tr style=\"text-align: right;\">\n",
              "      <th></th>\n",
              "      <th>Country</th>\n",
              "      <th>Import</th>\n",
              "      <th>Export</th>\n",
              "    </tr>\n",
              "  </thead>\n",
              "  <tbody>\n",
              "    <tr>\n",
              "      <th>10</th>\n",
              "      <td>Kuwait</td>\n",
              "      <td>223921</td>\n",
              "      <td>551153894</td>\n",
              "    </tr>\n",
              "    <tr>\n",
              "      <th>13</th>\n",
              "      <td>Russia</td>\n",
              "      <td>761163</td>\n",
              "      <td>347364</td>\n",
              "    </tr>\n",
              "    <tr>\n",
              "      <th>14</th>\n",
              "      <td>Saudi Arabia</td>\n",
              "      <td>13868785</td>\n",
              "      <td>2059661421</td>\n",
              "    </tr>\n",
              "    <tr>\n",
              "      <th>18</th>\n",
              "      <td>United Arab Emirates</td>\n",
              "      <td>125485439</td>\n",
              "      <td>2849651639</td>\n",
              "    </tr>\n",
              "    <tr>\n",
              "      <th>0</th>\n",
              "      <td>Australia</td>\n",
              "      <td>131695992</td>\n",
              "      <td>4334078256</td>\n",
              "    </tr>\n",
              "    <tr>\n",
              "      <th>12</th>\n",
              "      <td>Netherlands</td>\n",
              "      <td>429742968</td>\n",
              "      <td>624184188</td>\n",
              "    </tr>\n",
              "    <tr>\n",
              "      <th>4</th>\n",
              "      <td>Chile</td>\n",
              "      <td>438237989</td>\n",
              "      <td>788339822</td>\n",
              "    </tr>\n",
              "    <tr>\n",
              "      <th>2</th>\n",
              "      <td>Brazil</td>\n",
              "      <td>1134558068</td>\n",
              "      <td>1690777381</td>\n",
              "    </tr>\n",
              "    <tr>\n",
              "      <th>1</th>\n",
              "      <td>Belgium</td>\n",
              "      <td>1409561680</td>\n",
              "      <td>2227578571</td>\n",
              "    </tr>\n",
              "    <tr>\n",
              "      <th>6</th>\n",
              "      <td>France</td>\n",
              "      <td>1483559185</td>\n",
              "      <td>549410104</td>\n",
              "    </tr>\n",
              "    <tr>\n",
              "      <th>15</th>\n",
              "      <td>South Africa</td>\n",
              "      <td>2341497022</td>\n",
              "      <td>924142333</td>\n",
              "    </tr>\n",
              "    <tr>\n",
              "      <th>8</th>\n",
              "      <td>Italy</td>\n",
              "      <td>4691797683</td>\n",
              "      <td>490407921</td>\n",
              "    </tr>\n",
              "    <tr>\n",
              "      <th>17</th>\n",
              "      <td>Thailand</td>\n",
              "      <td>5793779008</td>\n",
              "      <td>982473460</td>\n",
              "    </tr>\n",
              "    <tr>\n",
              "      <th>19</th>\n",
              "      <td>United Kingdom</td>\n",
              "      <td>9668697645</td>\n",
              "      <td>2052970192</td>\n",
              "    </tr>\n",
              "    <tr>\n",
              "      <th>5</th>\n",
              "      <td>China</td>\n",
              "      <td>20851500071</td>\n",
              "      <td>7042023148</td>\n",
              "    </tr>\n",
              "    <tr>\n",
              "      <th>7</th>\n",
              "      <td>Germany</td>\n",
              "      <td>35157000692</td>\n",
              "      <td>9902151833</td>\n",
              "    </tr>\n",
              "    <tr>\n",
              "      <th>16</th>\n",
              "      <td>South Korea</td>\n",
              "      <td>49321330055</td>\n",
              "      <td>2655066870</td>\n",
              "    </tr>\n",
              "    <tr>\n",
              "      <th>3</th>\n",
              "      <td>Canada</td>\n",
              "      <td>54882480798</td>\n",
              "      <td>60210161333</td>\n",
              "    </tr>\n",
              "    <tr>\n",
              "      <th>9</th>\n",
              "      <td>Japan</td>\n",
              "      <td>56072452704</td>\n",
              "      <td>2418056965</td>\n",
              "    </tr>\n",
              "    <tr>\n",
              "      <th>11</th>\n",
              "      <td>Mexico</td>\n",
              "      <td>175126848585</td>\n",
              "      <td>44921841768</td>\n",
              "    </tr>\n",
              "  </tbody>\n",
              "</table>\n",
              "</div>"
            ],
            "text/plain": [
              "                 Country        Import       Export\n",
              "10                Kuwait        223921    551153894\n",
              "13                Russia        761163       347364\n",
              "14          Saudi Arabia      13868785   2059661421\n",
              "18  United Arab Emirates     125485439   2849651639\n",
              "0              Australia     131695992   4334078256\n",
              "12           Netherlands     429742968    624184188\n",
              "4                  Chile     438237989    788339822\n",
              "2                 Brazil    1134558068   1690777381\n",
              "1                Belgium    1409561680   2227578571\n",
              "6                 France    1483559185    549410104\n",
              "15          South Africa    2341497022    924142333\n",
              "8                  Italy    4691797683    490407921\n",
              "17              Thailand    5793779008    982473460\n",
              "19        United Kingdom    9668697645   2052970192\n",
              "5                  China   20851500071   7042023148\n",
              "7                Germany   35157000692   9902151833\n",
              "16           South Korea   49321330055   2655066870\n",
              "3                 Canada   54882480798  60210161333\n",
              "9                  Japan   56072452704   2418056965\n",
              "11                Mexico  175126848585  44921841768"
            ]
          },
          "execution_count": 862,
          "metadata": {},
          "output_type": "execute_result"
        }
      ],
      "source": [
        "# select data for top countries and year 2024\n",
        "top_countries_df = final_df[(final_df['country'].isin(top_countries)) & (final_df['year'] == 2024)]\n",
        "\n",
        "# aggregate import and export data for top countries\n",
        "top_countries_df = top_countries_df.groupby('country').agg({\n",
        "    'import_value': 'sum',\n",
        "    'export_value': 'sum'\n",
        "}).reset_index().sort_values(by='import_value', ascending=True)\n",
        "\n",
        "# rename columns for better readability\n",
        "top_countries_df.rename(columns={\n",
        "    'import_value': 'Import',\n",
        "    'export_value': 'Export',\n",
        "    'country':'Country'\n",
        "}, inplace=True)\n",
        "\n",
        "top_countries_df"
      ]
    },
    {
      "cell_type": "code",
      "execution_count": 863,
      "metadata": {},
      "outputs": [
        {
          "data": {
            "application/vnd.plotly.v1+json": {
              "config": {
                "plotlyServerURL": "https://plot.ly"
              },
              "data": [
                {
                  "line": {
                    "color": "grey",
                    "width": 2
                  },
                  "marker": {
                    "size": 10
                  },
                  "mode": "lines",
                  "showlegend": false,
                  "type": "scatter",
                  "x": [
                    551153894,
                    223921
                  ],
                  "y": [
                    "Kuwait",
                    "Kuwait"
                  ]
                },
                {
                  "line": {
                    "color": "grey",
                    "width": 2
                  },
                  "marker": {
                    "size": 10
                  },
                  "mode": "lines",
                  "showlegend": false,
                  "type": "scatter",
                  "x": [
                    347364,
                    761163
                  ],
                  "y": [
                    "Russia",
                    "Russia"
                  ]
                },
                {
                  "line": {
                    "color": "grey",
                    "width": 2
                  },
                  "marker": {
                    "size": 10
                  },
                  "mode": "lines",
                  "showlegend": false,
                  "type": "scatter",
                  "x": [
                    2059661421,
                    13868785
                  ],
                  "y": [
                    "Saudi Arabia",
                    "Saudi Arabia"
                  ]
                },
                {
                  "line": {
                    "color": "grey",
                    "width": 2
                  },
                  "marker": {
                    "size": 10
                  },
                  "mode": "lines",
                  "showlegend": false,
                  "type": "scatter",
                  "x": [
                    2849651639,
                    125485439
                  ],
                  "y": [
                    "United Arab Emirates",
                    "United Arab Emirates"
                  ]
                },
                {
                  "line": {
                    "color": "grey",
                    "width": 2
                  },
                  "marker": {
                    "size": 10
                  },
                  "mode": "lines",
                  "showlegend": false,
                  "type": "scatter",
                  "x": [
                    4334078256,
                    131695992
                  ],
                  "y": [
                    "Australia",
                    "Australia"
                  ]
                },
                {
                  "line": {
                    "color": "grey",
                    "width": 2
                  },
                  "marker": {
                    "size": 10
                  },
                  "mode": "lines",
                  "showlegend": false,
                  "type": "scatter",
                  "x": [
                    624184188,
                    429742968
                  ],
                  "y": [
                    "Netherlands",
                    "Netherlands"
                  ]
                },
                {
                  "line": {
                    "color": "grey",
                    "width": 2
                  },
                  "marker": {
                    "size": 10
                  },
                  "mode": "lines",
                  "showlegend": false,
                  "type": "scatter",
                  "x": [
                    788339822,
                    438237989
                  ],
                  "y": [
                    "Chile",
                    "Chile"
                  ]
                },
                {
                  "line": {
                    "color": "grey",
                    "width": 2
                  },
                  "marker": {
                    "size": 10
                  },
                  "mode": "lines",
                  "showlegend": false,
                  "type": "scatter",
                  "x": [
                    1690777381,
                    1134558068
                  ],
                  "y": [
                    "Brazil",
                    "Brazil"
                  ]
                },
                {
                  "line": {
                    "color": "grey",
                    "width": 2
                  },
                  "marker": {
                    "size": 10
                  },
                  "mode": "lines",
                  "showlegend": false,
                  "type": "scatter",
                  "x": [
                    2227578571,
                    1409561680
                  ],
                  "y": [
                    "Belgium",
                    "Belgium"
                  ]
                },
                {
                  "line": {
                    "color": "grey",
                    "width": 2
                  },
                  "marker": {
                    "size": 10
                  },
                  "mode": "lines",
                  "showlegend": false,
                  "type": "scatter",
                  "x": [
                    549410104,
                    1483559185
                  ],
                  "y": [
                    "France",
                    "France"
                  ]
                },
                {
                  "line": {
                    "color": "grey",
                    "width": 2
                  },
                  "marker": {
                    "size": 10
                  },
                  "mode": "lines",
                  "showlegend": false,
                  "type": "scatter",
                  "x": [
                    924142333,
                    2341497022
                  ],
                  "y": [
                    "South Africa",
                    "South Africa"
                  ]
                },
                {
                  "line": {
                    "color": "grey",
                    "width": 2
                  },
                  "marker": {
                    "size": 10
                  },
                  "mode": "lines",
                  "showlegend": false,
                  "type": "scatter",
                  "x": [
                    490407921,
                    4691797683
                  ],
                  "y": [
                    "Italy",
                    "Italy"
                  ]
                },
                {
                  "line": {
                    "color": "grey",
                    "width": 2
                  },
                  "marker": {
                    "size": 10
                  },
                  "mode": "lines",
                  "showlegend": false,
                  "type": "scatter",
                  "x": [
                    982473460,
                    5793779008
                  ],
                  "y": [
                    "Thailand",
                    "Thailand"
                  ]
                },
                {
                  "line": {
                    "color": "grey",
                    "width": 2
                  },
                  "marker": {
                    "size": 10
                  },
                  "mode": "lines",
                  "showlegend": false,
                  "type": "scatter",
                  "x": [
                    2052970192,
                    9668697645
                  ],
                  "y": [
                    "United Kingdom",
                    "United Kingdom"
                  ]
                },
                {
                  "line": {
                    "color": "grey",
                    "width": 2
                  },
                  "marker": {
                    "size": 10
                  },
                  "mode": "lines",
                  "showlegend": false,
                  "type": "scatter",
                  "x": [
                    7042023148,
                    20851500071
                  ],
                  "y": [
                    "China",
                    "China"
                  ]
                },
                {
                  "line": {
                    "color": "grey",
                    "width": 2
                  },
                  "marker": {
                    "size": 10
                  },
                  "mode": "lines",
                  "showlegend": false,
                  "type": "scatter",
                  "x": [
                    9902151833,
                    35157000692
                  ],
                  "y": [
                    "Germany",
                    "Germany"
                  ]
                },
                {
                  "line": {
                    "color": "grey",
                    "width": 2
                  },
                  "marker": {
                    "size": 10
                  },
                  "mode": "lines",
                  "showlegend": false,
                  "type": "scatter",
                  "x": [
                    2655066870,
                    49321330055
                  ],
                  "y": [
                    "South Korea",
                    "South Korea"
                  ]
                },
                {
                  "line": {
                    "color": "grey",
                    "width": 2
                  },
                  "marker": {
                    "size": 10
                  },
                  "mode": "lines",
                  "showlegend": false,
                  "type": "scatter",
                  "x": [
                    60210161333,
                    54882480798
                  ],
                  "y": [
                    "Canada",
                    "Canada"
                  ]
                },
                {
                  "line": {
                    "color": "grey",
                    "width": 2
                  },
                  "marker": {
                    "size": 10
                  },
                  "mode": "lines",
                  "showlegend": false,
                  "type": "scatter",
                  "x": [
                    2418056965,
                    56072452704
                  ],
                  "y": [
                    "Japan",
                    "Japan"
                  ]
                },
                {
                  "line": {
                    "color": "grey",
                    "width": 2
                  },
                  "marker": {
                    "size": 10
                  },
                  "mode": "lines",
                  "showlegend": false,
                  "type": "scatter",
                  "x": [
                    44921841768,
                    175126848585
                  ],
                  "y": [
                    "Mexico",
                    "Mexico"
                  ]
                },
                {
                  "marker": {
                    "color": "blue",
                    "size": 12
                  },
                  "mode": "markers",
                  "name": "Export",
                  "type": "scatter",
                  "x": [
                    551153894,
                    347364,
                    2059661421,
                    2849651639,
                    4334078256,
                    624184188,
                    788339822,
                    1690777381,
                    2227578571,
                    549410104,
                    924142333,
                    490407921,
                    982473460,
                    2052970192,
                    7042023148,
                    9902151833,
                    2655066870,
                    60210161333,
                    2418056965,
                    44921841768
                  ],
                  "y": [
                    "Kuwait",
                    "Russia",
                    "Saudi Arabia",
                    "United Arab Emirates",
                    "Australia",
                    "Netherlands",
                    "Chile",
                    "Brazil",
                    "Belgium",
                    "France",
                    "South Africa",
                    "Italy",
                    "Thailand",
                    "United Kingdom",
                    "China",
                    "Germany",
                    "South Korea",
                    "Canada",
                    "Japan",
                    "Mexico"
                  ]
                },
                {
                  "marker": {
                    "color": "pink",
                    "size": 12
                  },
                  "mode": "markers",
                  "name": "Import",
                  "type": "scatter",
                  "x": [
                    223921,
                    761163,
                    13868785,
                    125485439,
                    131695992,
                    429742968,
                    438237989,
                    1134558068,
                    1409561680,
                    1483559185,
                    2341497022,
                    4691797683,
                    5793779008,
                    9668697645,
                    20851500071,
                    35157000692,
                    49321330055,
                    54882480798,
                    56072452704,
                    175126848585
                  ],
                  "y": [
                    "Kuwait",
                    "Russia",
                    "Saudi Arabia",
                    "United Arab Emirates",
                    "Australia",
                    "Netherlands",
                    "Chile",
                    "Brazil",
                    "Belgium",
                    "France",
                    "South Africa",
                    "Italy",
                    "Thailand",
                    "United Kingdom",
                    "China",
                    "Germany",
                    "South Korea",
                    "Canada",
                    "Japan",
                    "Mexico"
                  ]
                }
              ],
              "layout": {
                "height": 1000,
                "legend": {
                  "title": {}
                },
                "template": {
                  "data": {
                    "bar": [
                      {
                        "error_x": {
                          "color": "#2a3f5f"
                        },
                        "error_y": {
                          "color": "#2a3f5f"
                        },
                        "marker": {
                          "line": {
                            "color": "#E5ECF6",
                            "width": 0.5
                          },
                          "pattern": {
                            "fillmode": "overlay",
                            "size": 10,
                            "solidity": 0.2
                          }
                        },
                        "type": "bar"
                      }
                    ],
                    "barpolar": [
                      {
                        "marker": {
                          "line": {
                            "color": "#E5ECF6",
                            "width": 0.5
                          },
                          "pattern": {
                            "fillmode": "overlay",
                            "size": 10,
                            "solidity": 0.2
                          }
                        },
                        "type": "barpolar"
                      }
                    ],
                    "carpet": [
                      {
                        "aaxis": {
                          "endlinecolor": "#2a3f5f",
                          "gridcolor": "white",
                          "linecolor": "white",
                          "minorgridcolor": "white",
                          "startlinecolor": "#2a3f5f"
                        },
                        "baxis": {
                          "endlinecolor": "#2a3f5f",
                          "gridcolor": "white",
                          "linecolor": "white",
                          "minorgridcolor": "white",
                          "startlinecolor": "#2a3f5f"
                        },
                        "type": "carpet"
                      }
                    ],
                    "choropleth": [
                      {
                        "colorbar": {
                          "outlinewidth": 0,
                          "ticks": ""
                        },
                        "type": "choropleth"
                      }
                    ],
                    "contour": [
                      {
                        "colorbar": {
                          "outlinewidth": 0,
                          "ticks": ""
                        },
                        "colorscale": [
                          [
                            0,
                            "#0d0887"
                          ],
                          [
                            0.1111111111111111,
                            "#46039f"
                          ],
                          [
                            0.2222222222222222,
                            "#7201a8"
                          ],
                          [
                            0.3333333333333333,
                            "#9c179e"
                          ],
                          [
                            0.4444444444444444,
                            "#bd3786"
                          ],
                          [
                            0.5555555555555556,
                            "#d8576b"
                          ],
                          [
                            0.6666666666666666,
                            "#ed7953"
                          ],
                          [
                            0.7777777777777778,
                            "#fb9f3a"
                          ],
                          [
                            0.8888888888888888,
                            "#fdca26"
                          ],
                          [
                            1,
                            "#f0f921"
                          ]
                        ],
                        "type": "contour"
                      }
                    ],
                    "contourcarpet": [
                      {
                        "colorbar": {
                          "outlinewidth": 0,
                          "ticks": ""
                        },
                        "type": "contourcarpet"
                      }
                    ],
                    "heatmap": [
                      {
                        "colorbar": {
                          "outlinewidth": 0,
                          "ticks": ""
                        },
                        "colorscale": [
                          [
                            0,
                            "#0d0887"
                          ],
                          [
                            0.1111111111111111,
                            "#46039f"
                          ],
                          [
                            0.2222222222222222,
                            "#7201a8"
                          ],
                          [
                            0.3333333333333333,
                            "#9c179e"
                          ],
                          [
                            0.4444444444444444,
                            "#bd3786"
                          ],
                          [
                            0.5555555555555556,
                            "#d8576b"
                          ],
                          [
                            0.6666666666666666,
                            "#ed7953"
                          ],
                          [
                            0.7777777777777778,
                            "#fb9f3a"
                          ],
                          [
                            0.8888888888888888,
                            "#fdca26"
                          ],
                          [
                            1,
                            "#f0f921"
                          ]
                        ],
                        "type": "heatmap"
                      }
                    ],
                    "histogram": [
                      {
                        "marker": {
                          "pattern": {
                            "fillmode": "overlay",
                            "size": 10,
                            "solidity": 0.2
                          }
                        },
                        "type": "histogram"
                      }
                    ],
                    "histogram2d": [
                      {
                        "colorbar": {
                          "outlinewidth": 0,
                          "ticks": ""
                        },
                        "colorscale": [
                          [
                            0,
                            "#0d0887"
                          ],
                          [
                            0.1111111111111111,
                            "#46039f"
                          ],
                          [
                            0.2222222222222222,
                            "#7201a8"
                          ],
                          [
                            0.3333333333333333,
                            "#9c179e"
                          ],
                          [
                            0.4444444444444444,
                            "#bd3786"
                          ],
                          [
                            0.5555555555555556,
                            "#d8576b"
                          ],
                          [
                            0.6666666666666666,
                            "#ed7953"
                          ],
                          [
                            0.7777777777777778,
                            "#fb9f3a"
                          ],
                          [
                            0.8888888888888888,
                            "#fdca26"
                          ],
                          [
                            1,
                            "#f0f921"
                          ]
                        ],
                        "type": "histogram2d"
                      }
                    ],
                    "histogram2dcontour": [
                      {
                        "colorbar": {
                          "outlinewidth": 0,
                          "ticks": ""
                        },
                        "colorscale": [
                          [
                            0,
                            "#0d0887"
                          ],
                          [
                            0.1111111111111111,
                            "#46039f"
                          ],
                          [
                            0.2222222222222222,
                            "#7201a8"
                          ],
                          [
                            0.3333333333333333,
                            "#9c179e"
                          ],
                          [
                            0.4444444444444444,
                            "#bd3786"
                          ],
                          [
                            0.5555555555555556,
                            "#d8576b"
                          ],
                          [
                            0.6666666666666666,
                            "#ed7953"
                          ],
                          [
                            0.7777777777777778,
                            "#fb9f3a"
                          ],
                          [
                            0.8888888888888888,
                            "#fdca26"
                          ],
                          [
                            1,
                            "#f0f921"
                          ]
                        ],
                        "type": "histogram2dcontour"
                      }
                    ],
                    "mesh3d": [
                      {
                        "colorbar": {
                          "outlinewidth": 0,
                          "ticks": ""
                        },
                        "type": "mesh3d"
                      }
                    ],
                    "parcoords": [
                      {
                        "line": {
                          "colorbar": {
                            "outlinewidth": 0,
                            "ticks": ""
                          }
                        },
                        "type": "parcoords"
                      }
                    ],
                    "pie": [
                      {
                        "automargin": true,
                        "type": "pie"
                      }
                    ],
                    "scatter": [
                      {
                        "fillpattern": {
                          "fillmode": "overlay",
                          "size": 10,
                          "solidity": 0.2
                        },
                        "type": "scatter"
                      }
                    ],
                    "scatter3d": [
                      {
                        "line": {
                          "colorbar": {
                            "outlinewidth": 0,
                            "ticks": ""
                          }
                        },
                        "marker": {
                          "colorbar": {
                            "outlinewidth": 0,
                            "ticks": ""
                          }
                        },
                        "type": "scatter3d"
                      }
                    ],
                    "scattercarpet": [
                      {
                        "marker": {
                          "colorbar": {
                            "outlinewidth": 0,
                            "ticks": ""
                          }
                        },
                        "type": "scattercarpet"
                      }
                    ],
                    "scattergeo": [
                      {
                        "marker": {
                          "colorbar": {
                            "outlinewidth": 0,
                            "ticks": ""
                          }
                        },
                        "type": "scattergeo"
                      }
                    ],
                    "scattergl": [
                      {
                        "marker": {
                          "colorbar": {
                            "outlinewidth": 0,
                            "ticks": ""
                          }
                        },
                        "type": "scattergl"
                      }
                    ],
                    "scattermap": [
                      {
                        "marker": {
                          "colorbar": {
                            "outlinewidth": 0,
                            "ticks": ""
                          }
                        },
                        "type": "scattermap"
                      }
                    ],
                    "scattermapbox": [
                      {
                        "marker": {
                          "colorbar": {
                            "outlinewidth": 0,
                            "ticks": ""
                          }
                        },
                        "type": "scattermapbox"
                      }
                    ],
                    "scatterpolar": [
                      {
                        "marker": {
                          "colorbar": {
                            "outlinewidth": 0,
                            "ticks": ""
                          }
                        },
                        "type": "scatterpolar"
                      }
                    ],
                    "scatterpolargl": [
                      {
                        "marker": {
                          "colorbar": {
                            "outlinewidth": 0,
                            "ticks": ""
                          }
                        },
                        "type": "scatterpolargl"
                      }
                    ],
                    "scatterternary": [
                      {
                        "marker": {
                          "colorbar": {
                            "outlinewidth": 0,
                            "ticks": ""
                          }
                        },
                        "type": "scatterternary"
                      }
                    ],
                    "surface": [
                      {
                        "colorbar": {
                          "outlinewidth": 0,
                          "ticks": ""
                        },
                        "colorscale": [
                          [
                            0,
                            "#0d0887"
                          ],
                          [
                            0.1111111111111111,
                            "#46039f"
                          ],
                          [
                            0.2222222222222222,
                            "#7201a8"
                          ],
                          [
                            0.3333333333333333,
                            "#9c179e"
                          ],
                          [
                            0.4444444444444444,
                            "#bd3786"
                          ],
                          [
                            0.5555555555555556,
                            "#d8576b"
                          ],
                          [
                            0.6666666666666666,
                            "#ed7953"
                          ],
                          [
                            0.7777777777777778,
                            "#fb9f3a"
                          ],
                          [
                            0.8888888888888888,
                            "#fdca26"
                          ],
                          [
                            1,
                            "#f0f921"
                          ]
                        ],
                        "type": "surface"
                      }
                    ],
                    "table": [
                      {
                        "cells": {
                          "fill": {
                            "color": "#EBF0F8"
                          },
                          "line": {
                            "color": "white"
                          }
                        },
                        "header": {
                          "fill": {
                            "color": "#C8D4E3"
                          },
                          "line": {
                            "color": "white"
                          }
                        },
                        "type": "table"
                      }
                    ]
                  },
                  "layout": {
                    "annotationdefaults": {
                      "arrowcolor": "#2a3f5f",
                      "arrowhead": 0,
                      "arrowwidth": 1
                    },
                    "autotypenumbers": "strict",
                    "coloraxis": {
                      "colorbar": {
                        "outlinewidth": 0,
                        "ticks": ""
                      }
                    },
                    "colorscale": {
                      "diverging": [
                        [
                          0,
                          "#8e0152"
                        ],
                        [
                          0.1,
                          "#c51b7d"
                        ],
                        [
                          0.2,
                          "#de77ae"
                        ],
                        [
                          0.3,
                          "#f1b6da"
                        ],
                        [
                          0.4,
                          "#fde0ef"
                        ],
                        [
                          0.5,
                          "#f7f7f7"
                        ],
                        [
                          0.6,
                          "#e6f5d0"
                        ],
                        [
                          0.7,
                          "#b8e186"
                        ],
                        [
                          0.8,
                          "#7fbc41"
                        ],
                        [
                          0.9,
                          "#4d9221"
                        ],
                        [
                          1,
                          "#276419"
                        ]
                      ],
                      "sequential": [
                        [
                          0,
                          "#0d0887"
                        ],
                        [
                          0.1111111111111111,
                          "#46039f"
                        ],
                        [
                          0.2222222222222222,
                          "#7201a8"
                        ],
                        [
                          0.3333333333333333,
                          "#9c179e"
                        ],
                        [
                          0.4444444444444444,
                          "#bd3786"
                        ],
                        [
                          0.5555555555555556,
                          "#d8576b"
                        ],
                        [
                          0.6666666666666666,
                          "#ed7953"
                        ],
                        [
                          0.7777777777777778,
                          "#fb9f3a"
                        ],
                        [
                          0.8888888888888888,
                          "#fdca26"
                        ],
                        [
                          1,
                          "#f0f921"
                        ]
                      ],
                      "sequentialminus": [
                        [
                          0,
                          "#0d0887"
                        ],
                        [
                          0.1111111111111111,
                          "#46039f"
                        ],
                        [
                          0.2222222222222222,
                          "#7201a8"
                        ],
                        [
                          0.3333333333333333,
                          "#9c179e"
                        ],
                        [
                          0.4444444444444444,
                          "#bd3786"
                        ],
                        [
                          0.5555555555555556,
                          "#d8576b"
                        ],
                        [
                          0.6666666666666666,
                          "#ed7953"
                        ],
                        [
                          0.7777777777777778,
                          "#fb9f3a"
                        ],
                        [
                          0.8888888888888888,
                          "#fdca26"
                        ],
                        [
                          1,
                          "#f0f921"
                        ]
                      ]
                    },
                    "colorway": [
                      "#636efa",
                      "#EF553B",
                      "#00cc96",
                      "#ab63fa",
                      "#FFA15A",
                      "#19d3f3",
                      "#FF6692",
                      "#B6E880",
                      "#FF97FF",
                      "#FECB52"
                    ],
                    "font": {
                      "color": "#2a3f5f"
                    },
                    "geo": {
                      "bgcolor": "white",
                      "lakecolor": "white",
                      "landcolor": "#E5ECF6",
                      "showlakes": true,
                      "showland": true,
                      "subunitcolor": "white"
                    },
                    "hoverlabel": {
                      "align": "left"
                    },
                    "hovermode": "closest",
                    "mapbox": {
                      "style": "light"
                    },
                    "paper_bgcolor": "white",
                    "plot_bgcolor": "#E5ECF6",
                    "polar": {
                      "angularaxis": {
                        "gridcolor": "white",
                        "linecolor": "white",
                        "ticks": ""
                      },
                      "bgcolor": "#E5ECF6",
                      "radialaxis": {
                        "gridcolor": "white",
                        "linecolor": "white",
                        "ticks": ""
                      }
                    },
                    "scene": {
                      "xaxis": {
                        "backgroundcolor": "#E5ECF6",
                        "gridcolor": "white",
                        "gridwidth": 2,
                        "linecolor": "white",
                        "showbackground": true,
                        "ticks": "",
                        "zerolinecolor": "white"
                      },
                      "yaxis": {
                        "backgroundcolor": "#E5ECF6",
                        "gridcolor": "white",
                        "gridwidth": 2,
                        "linecolor": "white",
                        "showbackground": true,
                        "ticks": "",
                        "zerolinecolor": "white"
                      },
                      "zaxis": {
                        "backgroundcolor": "#E5ECF6",
                        "gridcolor": "white",
                        "gridwidth": 2,
                        "linecolor": "white",
                        "showbackground": true,
                        "ticks": "",
                        "zerolinecolor": "white"
                      }
                    },
                    "shapedefaults": {
                      "line": {
                        "color": "#2a3f5f"
                      }
                    },
                    "ternary": {
                      "aaxis": {
                        "gridcolor": "white",
                        "linecolor": "white",
                        "ticks": ""
                      },
                      "baxis": {
                        "gridcolor": "white",
                        "linecolor": "white",
                        "ticks": ""
                      },
                      "bgcolor": "#E5ECF6",
                      "caxis": {
                        "gridcolor": "white",
                        "linecolor": "white",
                        "ticks": ""
                      }
                    },
                    "title": {
                      "x": 0.05
                    },
                    "xaxis": {
                      "automargin": true,
                      "gridcolor": "white",
                      "linecolor": "white",
                      "ticks": "",
                      "title": {
                        "standoff": 15
                      },
                      "zerolinecolor": "white",
                      "zerolinewidth": 2
                    },
                    "yaxis": {
                      "automargin": true,
                      "gridcolor": "white",
                      "linecolor": "white",
                      "ticks": "",
                      "title": {
                        "standoff": 15
                      },
                      "zerolinecolor": "white",
                      "zerolinewidth": 2
                    }
                  }
                },
                "title": {
                  "font": {
                    "size": 15
                  },
                  "text": "Top Trade Partners of the USA: Exports and Imports (2024)",
                  "x": 0.5,
                  "xanchor": "center",
                  "yanchor": "top"
                },
                "xaxis": {
                  "title": {
                    "text": "Value (USD)"
                  }
                },
                "yaxis": {
                  "categoryarray": [
                    "Kuwait",
                    "Russia",
                    "Saudi Arabia",
                    "United Arab Emirates",
                    "Australia",
                    "Netherlands",
                    "Chile",
                    "Brazil",
                    "Belgium",
                    "France",
                    "South Africa",
                    "Italy",
                    "Thailand",
                    "United Kingdom",
                    "China",
                    "Germany",
                    "South Korea",
                    "Canada",
                    "Japan",
                    "Mexico"
                  ],
                  "categoryorder": "array",
                  "tickmode": "array",
                  "ticktext": [
                    "Kuwait",
                    "Russia",
                    "Saudi Arabia",
                    "United Arab Emirates",
                    "Australia",
                    "Netherlands",
                    "Chile",
                    "Brazil",
                    "Belgium",
                    "France",
                    "South Africa",
                    "Italy",
                    "Thailand",
                    "United Kingdom",
                    "China",
                    "Germany",
                    "South Korea",
                    "Canada",
                    "Japan",
                    "Mexico"
                  ],
                  "tickvals": [
                    "Kuwait",
                    "Russia",
                    "Saudi Arabia",
                    "United Arab Emirates",
                    "Australia",
                    "Netherlands",
                    "Chile",
                    "Brazil",
                    "Belgium",
                    "France",
                    "South Africa",
                    "Italy",
                    "Thailand",
                    "United Kingdom",
                    "China",
                    "Germany",
                    "South Korea",
                    "Canada",
                    "Japan",
                    "Mexico"
                  ],
                  "title": {},
                  "type": "category"
                }
              }
            }
          },
          "metadata": {},
          "output_type": "display_data"
        }
      ],
      "source": [
        "#  Plot dumbbell plot for top countries\n",
        "fig = plot_dumbbell(\n",
        "    df=top_countries_df,\n",
        "    y='Country',\n",
        "    x1='Export',\n",
        "    x2='Import',\n",
        "    x_label=\"Value (USD)\",\n",
        "    title=\"Top Trade Partners of the USA: Exports and Imports (2024)\",\n",
        ")\n",
        "\n",
        "# increase height\n",
        "fig.update_layout(\n",
        "    height=1000\n",
        ")\n",
        "\n",
        "# set axes to log scale\n",
        "# fig.update_xaxes(type=\"log\")\n",
        "# fig.update_yaxes(type=\"log\")\n",
        "\n",
        "fig.show()"
      ]
    },
    {
      "cell_type": "markdown",
      "metadata": {},
      "source": [
        "### Exploring GDP and Exports of Top Trading Partners\n",
        "\n",
        "Let’s examine how the GDP of the US’s top trading partners relates to their export volumes."
      ]
    },
    {
      "cell_type": "code",
      "execution_count": 864,
      "metadata": {},
      "outputs": [],
      "source": [
        "# Drop rows where gdp or mfn has NaN values\n",
        "final_df_cleaned = final_df.dropna(subset=['mfn_by_us_simple_avg',\n",
        "                                    'mfn_by_us_weighted_avg',\n",
        "                                    'mfn_on_us_simple_avg',\n",
        "                                    'mfn_on_us_weighted_avg',\n",
        "                                    'gdp',\n",
        "                                    'gdp_2015_adj'], \n",
        "                                how='any')"
      ]
    },
    {
      "cell_type": "code",
      "execution_count": 865,
      "metadata": {},
      "outputs": [
        {
          "name": "stderr",
          "output_type": "stream",
          "text": [
            "/var/folders/wt/t8qzr89n2f14ym8lqf9x2tb40000gp/T/ipykernel_14635/1759910737.py:5: SettingWithCopyWarning:\n",
            "\n",
            "\n",
            "A value is trying to be set on a copy of a slice from a DataFrame\n",
            "\n",
            "See the caveats in the documentation: https://pandas.pydata.org/pandas-docs/stable/user_guide/indexing.html#returning-a-view-versus-a-copy\n",
            "\n"
          ]
        },
        {
          "data": {
            "text/html": [
              "<div>\n",
              "<style scoped>\n",
              "    .dataframe tbody tr th:only-of-type {\n",
              "        vertical-align: middle;\n",
              "    }\n",
              "\n",
              "    .dataframe tbody tr th {\n",
              "        vertical-align: top;\n",
              "    }\n",
              "\n",
              "    .dataframe thead th {\n",
              "        text-align: right;\n",
              "    }\n",
              "</style>\n",
              "<table border=\"1\" class=\"dataframe\">\n",
              "  <thead>\n",
              "    <tr style=\"text-align: right;\">\n",
              "      <th></th>\n",
              "      <th>Country</th>\n",
              "      <th>category</th>\n",
              "      <th>year</th>\n",
              "      <th>Import</th>\n",
              "      <th>Export</th>\n",
              "      <th>mfn_by_us_simple_avg</th>\n",
              "      <th>mfn_by_us_weighted_avg</th>\n",
              "      <th>mfn_on_us_simple_avg</th>\n",
              "      <th>mfn_on_us_weighted_avg</th>\n",
              "      <th>Nominal GDP</th>\n",
              "      <th>Real GDP</th>\n",
              "    </tr>\n",
              "  </thead>\n",
              "  <tbody>\n",
              "    <tr>\n",
              "      <th>221</th>\n",
              "      <td>Australia</td>\n",
              "      <td>Parts</td>\n",
              "      <td>2008</td>\n",
              "      <td>159838635</td>\n",
              "      <td>958541210</td>\n",
              "      <td>3.64</td>\n",
              "      <td>2.41</td>\n",
              "      <td>4.61</td>\n",
              "      <td>3.01</td>\n",
              "      <td>1.056112e+12</td>\n",
              "      <td>1.133349e+12</td>\n",
              "    </tr>\n",
              "    <tr>\n",
              "      <th>222</th>\n",
              "      <td>Australia</td>\n",
              "      <td>Passenger Vehicles</td>\n",
              "      <td>2008</td>\n",
              "      <td>863863012</td>\n",
              "      <td>564502516</td>\n",
              "      <td>3.64</td>\n",
              "      <td>2.41</td>\n",
              "      <td>4.61</td>\n",
              "      <td>3.01</td>\n",
              "      <td>1.056112e+12</td>\n",
              "      <td>1.133349e+12</td>\n",
              "    </tr>\n",
              "    <tr>\n",
              "      <th>223</th>\n",
              "      <td>Australia</td>\n",
              "      <td>Trucks</td>\n",
              "      <td>2008</td>\n",
              "      <td>181980</td>\n",
              "      <td>214093395</td>\n",
              "      <td>3.64</td>\n",
              "      <td>2.41</td>\n",
              "      <td>4.61</td>\n",
              "      <td>3.01</td>\n",
              "      <td>1.056112e+12</td>\n",
              "      <td>1.133349e+12</td>\n",
              "    </tr>\n",
              "    <tr>\n",
              "      <th>224</th>\n",
              "      <td>Australia</td>\n",
              "      <td>Parts</td>\n",
              "      <td>2009</td>\n",
              "      <td>101221703</td>\n",
              "      <td>714997863</td>\n",
              "      <td>3.46</td>\n",
              "      <td>2.95</td>\n",
              "      <td>3.85</td>\n",
              "      <td>2.93</td>\n",
              "      <td>9.287621e+11</td>\n",
              "      <td>1.154799e+12</td>\n",
              "    </tr>\n",
              "    <tr>\n",
              "      <th>225</th>\n",
              "      <td>Australia</td>\n",
              "      <td>Passenger Vehicles</td>\n",
              "      <td>2009</td>\n",
              "      <td>115182054</td>\n",
              "      <td>271049394</td>\n",
              "      <td>3.46</td>\n",
              "      <td>2.95</td>\n",
              "      <td>3.85</td>\n",
              "      <td>2.93</td>\n",
              "      <td>9.287621e+11</td>\n",
              "      <td>1.154799e+12</td>\n",
              "    </tr>\n",
              "  </tbody>\n",
              "</table>\n",
              "</div>"
            ],
            "text/plain": [
              "       Country            category  year     Import     Export  \\\n",
              "221  Australia               Parts  2008  159838635  958541210   \n",
              "222  Australia  Passenger Vehicles  2008  863863012  564502516   \n",
              "223  Australia              Trucks  2008     181980  214093395   \n",
              "224  Australia               Parts  2009  101221703  714997863   \n",
              "225  Australia  Passenger Vehicles  2009  115182054  271049394   \n",
              "\n",
              "     mfn_by_us_simple_avg  mfn_by_us_weighted_avg  mfn_on_us_simple_avg  \\\n",
              "221                  3.64                    2.41                  4.61   \n",
              "222                  3.64                    2.41                  4.61   \n",
              "223                  3.64                    2.41                  4.61   \n",
              "224                  3.46                    2.95                  3.85   \n",
              "225                  3.46                    2.95                  3.85   \n",
              "\n",
              "     mfn_on_us_weighted_avg   Nominal GDP      Real GDP  \n",
              "221                    3.01  1.056112e+12  1.133349e+12  \n",
              "222                    3.01  1.056112e+12  1.133349e+12  \n",
              "223                    3.01  1.056112e+12  1.133349e+12  \n",
              "224                    2.93  9.287621e+11  1.154799e+12  \n",
              "225                    2.93  9.287621e+11  1.154799e+12  "
            ]
          },
          "execution_count": 865,
          "metadata": {},
          "output_type": "execute_result"
        }
      ],
      "source": [
        "# select data corresponding to top partners only\n",
        "top_countries_df = final_df_cleaned[(final_df_cleaned['country'].isin(top_countries)) ] #& (final_df_cleaned['year']==2022) ]\n",
        "\n",
        "#rename columns for better readability\n",
        "top_countries_df.rename(columns={\n",
        "    'import_value': 'Import',\n",
        "    'export_value': 'Export',\n",
        "    'gdp': 'Nominal GDP',\n",
        "    'gdp_2015_adj': 'Real GDP',\n",
        "    'country':'Country'\n",
        "}, inplace=True)\n",
        "top_countries_df.head(5)"
      ]
    },
    {
      "cell_type": "code",
      "execution_count": 866,
      "metadata": {},
      "outputs": [
        {
          "data": {
            "text/plain": [
              "array([], dtype=object)"
            ]
          },
          "execution_count": 866,
          "metadata": {},
          "output_type": "execute_result"
        }
      ],
      "source": [
        "# check nulls \n",
        "top_countries_df[top_countries_df.isnull().any(axis=1)]['Country'].unique()"
      ]
    },
    {
      "cell_type": "code",
      "execution_count": 867,
      "metadata": {},
      "outputs": [
        {
          "data": {
            "application/vnd.plotly.v1+json": {
              "config": {
                "plotlyServerURL": "https://plot.ly"
              },
              "data": [
                {
                  "hovertemplate": "Country=Australia<br>category=Parts<br>Real GDP=%{x}<br>Export=%{y}<extra></extra>",
                  "legendgroup": "Australia",
                  "marker": {
                    "color": "#636efa",
                    "symbol": "circle"
                  },
                  "mode": "markers",
                  "name": "Australia",
                  "orientation": "v",
                  "showlegend": true,
                  "type": "scatter",
                  "x": {
                    "bdata": "AIDYPQ5+cEIAwCrc9c1wQgBgQot2LXFCANAhQ1CXcUIA0JD6sUdyQgAAoE54wXJCAJCx7BQ+c0IA4OGk+KlzQgCwLMLgNHRCAMAtaMyqdEIAQNOtF0N1QgBw/qxKuXVCAKDXEqSydUIAMASi6Cd2QgBA9m+IGHdC",
                    "dtype": "f8"
                  },
                  "xaxis": "x",
                  "y": {
                    "bdata": "mi0iOWcAnipqb91CfeLCVVcaynY5eR9ds0lLWau3N1BSlsdB0QK4SpPhrU2HQ3tNlVISRhQkeFWjIdRc",
                    "dtype": "i4"
                  },
                  "yaxis": "y"
                },
                {
                  "hovertemplate": "Country=Australia<br>category=Passenger Vehicles<br>Real GDP=%{x}<br>Export=%{y}<extra></extra>",
                  "legendgroup": "Australia",
                  "marker": {
                    "color": "#636efa",
                    "symbol": "circle"
                  },
                  "mode": "markers",
                  "name": "Australia",
                  "orientation": "v",
                  "showlegend": false,
                  "type": "scatter",
                  "x": {
                    "bdata": "AIDYPQ5+cEIAwCrc9c1wQgBgQot2LXFCANAhQ1CXcUIA0JD6sUdyQgAAoE54wXJCAJCx7BQ+c0IA4OGk+KlzQgCwLMLgNHRCAMAtaMyqdEIAQNOtF0N1QgBw/qxKuXVCAKDXEqSydUIAMASi6Cd2QgBA9m+IGHdC",
                    "dtype": "f8"
                  },
                  "xaxis": "x2",
                  "y": {
                    "bdata": "9J+lIbLiJxDlcRoclqbVK5SWb0DMBr9SLJogbofOTGL2nWRMYoDkX85eWVZXi/djNWETOpn34FPRb75Y",
                    "dtype": "i4"
                  },
                  "yaxis": "y2"
                },
                {
                  "hovertemplate": "Country=Australia<br>category=Trucks<br>Real GDP=%{x}<br>Export=%{y}<extra></extra>",
                  "legendgroup": "Australia",
                  "marker": {
                    "color": "#636efa",
                    "symbol": "circle"
                  },
                  "mode": "markers",
                  "name": "Australia",
                  "orientation": "v",
                  "showlegend": false,
                  "type": "scatter",
                  "x": {
                    "bdata": "AIDYPQ5+cEIAwCrc9c1wQgBgQot2LXFCANAhQ1CXcUIA0JD6sUdyQgAAoE54wXJCAJCx7BQ+c0IA4OGk+KlzQgCwLMLgNHRCAMAtaMyqdEIAQNOtF0N1QgBw/qxKuXVCAKDXEqSydUIAMASi6Cd2QgBA9m+IGHdC",
                    "dtype": "f8"
                  },
                  "xaxis": "x3",
                  "y": {
                    "bdata": "U87CDO+Y3QPoiZIINB+UDayQuBRAwEMQkeQ/C3HYKQedrTgFoTCKBRkt4gbC834EgxWdBGfu/gb6vsIF",
                    "dtype": "i4"
                  },
                  "yaxis": "y3"
                },
                {
                  "hovertemplate": "Country=Belgium<br>category=Parts<br>Real GDP=%{x}<br>Export=%{y}<extra></extra>",
                  "legendgroup": "Belgium",
                  "marker": {
                    "color": "#EF553B",
                    "symbol": "circle"
                  },
                  "mode": "markers",
                  "name": "Belgium",
                  "orientation": "v",
                  "showlegend": true,
                  "type": "scatter",
                  "x": {
                    "bdata": "AADdR24sWUIAgHdOkrFYQgCA0+HnXFlCAIDMOkvaWUIAANmNk+hZQgCAuKrW/FlCAEBRDkxyWkIAAM42GtZaQgAA7uUYKFtCAIDYipqOW0IAgAJAFhNcQgAA8NeowlxCAEClucRhW0IAABom6BRdQgDAHSQDUl5C",
                    "dtype": "f8"
                  },
                  "xaxis": "x",
                  "y": {
                    "bdata": "wHG+GWfICRQghnwcNACjIunvnSEP5bwbmUB9H1CqJyDrU/Ya1zzAG3x5tB7FAQciAxWZF62fdyCdabgi",
                    "dtype": "i4"
                  },
                  "yaxis": "y"
                },
                {
                  "hovertemplate": "Country=Belgium<br>category=Passenger Vehicles<br>Real GDP=%{x}<br>Export=%{y}<extra></extra>",
                  "legendgroup": "Belgium",
                  "marker": {
                    "color": "#EF553B",
                    "symbol": "circle"
                  },
                  "mode": "markers",
                  "name": "Belgium",
                  "orientation": "v",
                  "showlegend": false,
                  "type": "scatter",
                  "x": {
                    "bdata": "AADdR24sWUIAgHdOkrFYQgCA0+HnXFlCAIDMOkvaWUIAANmNk+hZQgCAuKrW/FlCAEBRDkxyWkIAAM42GtZaQgAA7uUYKFtCAIDYipqOW0IAgAJAFhNcQgAA8NeowlxCAEClucRhW0IAABom6BRdQgDAHSQDUl5C",
                    "dtype": "f8"
                  },
                  "xaxis": "x2",
                  "y": [
                    181493474,
                    48280081,
                    53719436,
                    63211799,
                    64619302,
                    98848903,
                    293220511,
                    315292947,
                    383954529,
                    594035964,
                    655488140,
                    4893851817,
                    3648827771,
                    2870048017,
                    1771266040
                  ],
                  "yaxis": "y2"
                },
                {
                  "hovertemplate": "Country=Belgium<br>category=Trucks<br>Real GDP=%{x}<br>Export=%{y}<extra></extra>",
                  "legendgroup": "Belgium",
                  "marker": {
                    "color": "#EF553B",
                    "symbol": "circle"
                  },
                  "mode": "markers",
                  "name": "Belgium",
                  "orientation": "v",
                  "showlegend": false,
                  "type": "scatter",
                  "x": {
                    "bdata": "AADdR24sWUIAgHdOkrFYQgCA0+HnXFlCAIDMOkvaWUIAANmNk+hZQgCAuKrW/FlCAEBRDkxyWkIAAM42GtZaQgAA7uUYKFtCAIDYipqOW0IAgAJAFhNcQgAA8NeowlxCAEClucRhW0IAABom6BRdQgDAHSQDUl5C",
                    "dtype": "f8"
                  },
                  "xaxis": "x3",
                  "y": {
                    "bdata": "zEnxAIZ8LwBNeUoAxuAuAPA3DgAqaxQAZsk7AJ3/MwAO8hIAMD1AAFBwRwBnJ0EA2RQKAGcVEgAXEx0A",
                    "dtype": "i4"
                  },
                  "yaxis": "y3"
                },
                {
                  "hovertemplate": "Country=Brazil<br>category=Parts<br>Real GDP=%{x}<br>Export=%{y}<extra></extra>",
                  "legendgroup": "Brazil",
                  "marker": {
                    "color": "#00cc96",
                    "symbol": "circle"
                  },
                  "mode": "markers",
                  "name": "Brazil",
                  "orientation": "v",
                  "showlegend": true,
                  "type": "scatter",
                  "x": {
                    "bdata": "AFDiCfUTd0IAEBc2hgx3QgBARaO6yHhCAMDgOuXEeUIAQIgmokN6QgAATaqqDXtCAOAVp5Ewe0IA4I1+wzl6QgAAcorTXXlCACCpLLuzeUIAkOp0Fyl6QgAwEibZenpCADBhw7iceUIAAAsR/tR6QgBgEX41pHtC",
                    "dtype": "f8"
                  },
                  "xaxis": "x",
                  "y": [
                    852524810,
                    564203755,
                    951465624,
                    1090312310,
                    1025891688,
                    1104052084,
                    1088344768,
                    1047190278,
                    1150546155,
                    2151894655,
                    1229461048,
                    1132108057,
                    905093821,
                    1184727082,
                    1266949674
                  ],
                  "yaxis": "y"
                },
                {
                  "hovertemplate": "Country=Brazil<br>category=Passenger Vehicles<br>Real GDP=%{x}<br>Export=%{y}<extra></extra>",
                  "legendgroup": "Brazil",
                  "marker": {
                    "color": "#00cc96",
                    "symbol": "circle"
                  },
                  "mode": "markers",
                  "name": "Brazil",
                  "orientation": "v",
                  "showlegend": false,
                  "type": "scatter",
                  "x": {
                    "bdata": "AFDiCfUTd0IAEBc2hgx3QgBARaO6yHhCAMDgOuXEeUIAQIgmokN6QgAATaqqDXtCAOAVp5Ewe0IA4I1+wzl6QgAAcorTXXlCACCpLLuzeUIAkOp0Fyl6QgAwEibZenpCADBhw7iceUIAAAsR/tR6QgBgEX41pHtC",
                    "dtype": "f8"
                  },
                  "xaxis": "x2",
                  "y": {
                    "bdata": "yNwXB13mzgT2+KYNp1EfFeC7XhHFiOEP9zlIEXjQGAwWzEMFGXFqBMH+rAcy6HQI58TABrNrIAsTZngS",
                    "dtype": "i4"
                  },
                  "yaxis": "y2"
                },
                {
                  "hovertemplate": "Country=Brazil<br>category=Trucks<br>Real GDP=%{x}<br>Export=%{y}<extra></extra>",
                  "legendgroup": "Brazil",
                  "marker": {
                    "color": "#00cc96",
                    "symbol": "circle"
                  },
                  "mode": "markers",
                  "name": "Brazil",
                  "orientation": "v",
                  "showlegend": false,
                  "type": "scatter",
                  "x": {
                    "bdata": "AFDiCfUTd0IAEBc2hgx3QgBARaO6yHhCAMDgOuXEeUIAQIgmokN6QgAATaqqDXtCAOAVp5Ewe0IA4I1+wzl6QgAAcorTXXlCACCpLLuzeUIAkOp0Fyl6QgAwEibZenpCADBhw7iceUIAAAsR/tR6QgBgEX41pHtC",
                    "dtype": "f8"
                  },
                  "xaxis": "x3",
                  "y": {
                    "bdata": "6blvALeLjgD4xUsAShG/AIct+gBKjZUA0gadAJvamwB1xBcAEFgtAJDwLgA9yisA8fsRALt5zQBweV4A",
                    "dtype": "i4"
                  },
                  "yaxis": "y3"
                },
                {
                  "hovertemplate": "Country=Canada<br>category=Parts<br>Real GDP=%{x}<br>Export=%{y}<extra></extra>",
                  "legendgroup": "Canada",
                  "marker": {
                    "color": "#ab63fa",
                    "symbol": "circle"
                  },
                  "mode": "markers",
                  "name": "Canada",
                  "orientation": "v",
                  "showlegend": true,
                  "type": "scatter",
                  "x": {
                    "bdata": "ABALXVBadEIAIFLEbcJzQgDAWGfGXnRCAMCuZV8CdUIAQHR0zGB1QgAwWfMV4HVCAHDemQCBdkIAkDV7cqZ2QgDAycGq4nZCAIA0yGiUd0IAEMRd/Dl4QgBwL7NYsHhCAJAHpelxd0IA0D/kDtd4QgAQLQFx4XlC",
                    "dtype": "f8"
                  },
                  "xaxis": "x",
                  "y": [
                    28258965666,
                    19647146485,
                    26021629647,
                    28560672661,
                    31998428903,
                    31955532884,
                    30835751278,
                    29818284887,
                    31123213547,
                    31683450146,
                    30749813818,
                    29422005117,
                    21979574184,
                    21569493812,
                    25806846862
                  ],
                  "yaxis": "y"
                },
                {
                  "hovertemplate": "Country=Canada<br>category=Passenger Vehicles<br>Real GDP=%{x}<br>Export=%{y}<extra></extra>",
                  "legendgroup": "Canada",
                  "marker": {
                    "color": "#ab63fa",
                    "symbol": "circle"
                  },
                  "mode": "markers",
                  "name": "Canada",
                  "orientation": "v",
                  "showlegend": false,
                  "type": "scatter",
                  "x": {
                    "bdata": "ABALXVBadEIAIFLEbcJzQgDAWGfGXnRCAMCuZV8CdUIAQHR0zGB1QgAwWfMV4HVCAHDemQCBdkIAkDV7cqZ2QgDAycGq4nZCAIA0yGiUd0IAEMRd/Dl4QgBwL7NYsHhCAJAHpelxd0IA0D/kDtd4QgAQLQFx4XlC",
                    "dtype": "f8"
                  },
                  "xaxis": "x2",
                  "y": [
                    17859000199,
                    12652204453,
                    16995719535,
                    17902530002,
                    18776536663,
                    20348261635,
                    21865353045,
                    21023836427,
                    22206354040,
                    23537578145,
                    22743027693,
                    23932510142,
                    18595463497,
                    23706809603,
                    26845856308
                  ],
                  "yaxis": "y2"
                },
                {
                  "hovertemplate": "Country=Canada<br>category=Trucks<br>Real GDP=%{x}<br>Export=%{y}<extra></extra>",
                  "legendgroup": "Canada",
                  "marker": {
                    "color": "#ab63fa",
                    "symbol": "circle"
                  },
                  "mode": "markers",
                  "name": "Canada",
                  "orientation": "v",
                  "showlegend": false,
                  "type": "scatter",
                  "x": {
                    "bdata": "ABALXVBadEIAIFLEbcJzQgDAWGfGXnRCAMCuZV8CdUIAQHR0zGB1QgAwWfMV4HVCAHDemQCBdkIAkDV7cqZ2QgDAycGq4nZCAIA0yGiUd0IAEMRd/Dl4QgBwL7NYsHhCAJAHpelxd0IA0D/kDtd4QgAQLQFx4XlC",
                    "dtype": "f8"
                  },
                  "xaxis": "x3",
                  "y": [
                    3804919203,
                    2563237026,
                    3970350074,
                    5013353082,
                    5557753481,
                    5181614688,
                    4998684617,
                    4568516286,
                    3960625475,
                    4926195306,
                    6239555595,
                    6427563893,
                    4498169550,
                    5418459380,
                    6567662285
                  ],
                  "yaxis": "y3"
                },
                {
                  "hovertemplate": "Country=Chile<br>category=Parts<br>Real GDP=%{x}<br>Export=%{y}<extra></extra>",
                  "legendgroup": "Chile",
                  "marker": {
                    "color": "#FFA15A",
                    "symbol": "circle"
                  },
                  "mode": "markers",
                  "name": "Chile",
                  "orientation": "v",
                  "showlegend": true,
                  "type": "scatter",
                  "x": {
                    "bdata": "AIBWvPNCRkIAAOxVPANGQgAAeXH9TEdCAIB2rT7ASEIAALQiQ0ZKQgCAwRrNJEtCAAAfbF6hS0IAADtrlTlMQgCAMT5AuExCAIB0dhIcTUIAAHV4aUVOQgCAFF6Sdk5CAADm7HeXTEIAgC8WqdNPQgDAy42UQVBC",
                    "dtype": "f8"
                  },
                  "xaxis": "x",
                  "y": {
                    "bdata": "/V1jFBeIhBE28dcY8S63Hs/oUSLApwQinBjxIN4kfRuycqYUooYkFZDCUBY7kL8YrPeSFOeX2xg0L2Ub",
                    "dtype": "i4"
                  },
                  "yaxis": "y"
                },
                {
                  "hovertemplate": "Country=Chile<br>category=Passenger Vehicles<br>Real GDP=%{x}<br>Export=%{y}<extra></extra>",
                  "legendgroup": "Chile",
                  "marker": {
                    "color": "#FFA15A",
                    "symbol": "circle"
                  },
                  "mode": "markers",
                  "name": "Chile",
                  "orientation": "v",
                  "showlegend": false,
                  "type": "scatter",
                  "x": {
                    "bdata": "AIBWvPNCRkIAAOxVPANGQgAAeXH9TEdCAIB2rT7ASEIAALQiQ0ZKQgCAwRrNJEtCAAAfbF6hS0IAADtrlTlMQgCAMT5AuExCAIB0dhIcTUIAAHV4aUVOQgCAFF6Sdk5CAADm7HeXTEIAgC8WqdNPQgDAy42UQVBC",
                    "dtype": "f8"
                  },
                  "xaxis": "x2",
                  "y": {
                    "bdata": "SqyRDxpzkwgVyHAVsionGo7cRRqXkuAg5JtlGj3AExYwxYYUVhfcGQXKbiHB/+MUw3wABmObSxKi3CkT",
                    "dtype": "i4"
                  },
                  "yaxis": "y2"
                },
                {
                  "hovertemplate": "Country=Chile<br>category=Trucks<br>Real GDP=%{x}<br>Export=%{y}<extra></extra>",
                  "legendgroup": "Chile",
                  "marker": {
                    "color": "#FFA15A",
                    "symbol": "circle"
                  },
                  "mode": "markers",
                  "name": "Chile",
                  "orientation": "v",
                  "showlegend": false,
                  "type": "scatter",
                  "x": {
                    "bdata": "AIBWvPNCRkIAAOxVPANGQgAAeXH9TEdCAIB2rT7ASEIAALQiQ0ZKQgCAwRrNJEtCAAAfbF6hS0IAADtrlTlMQgCAMT5AuExCAIB0dhIcTUIAAHV4aUVOQgCAFF6Sdk5CAADm7HeXTEIAgC8WqdNPQgDAy42UQVBC",
                    "dtype": "f8"
                  },
                  "xaxis": "x3",
                  "y": {
                    "bdata": "4MX6Bst2vgKvvd4HVXm8ClQ/0QdrpJgFf4mLApHDbAILMTcCkm/IAupwZwPPEK4DYCGZAeOHrQJConkC",
                    "dtype": "i4"
                  },
                  "yaxis": "y3"
                },
                {
                  "hovertemplate": "Country=China<br>category=Parts<br>Real GDP=%{x}<br>Export=%{y}<extra></extra>",
                  "legendgroup": "China",
                  "marker": {
                    "color": "#19d3f3",
                    "symbol": "circle"
                  },
                  "mode": "markers",
                  "name": "China",
                  "orientation": "v",
                  "showlegend": true,
                  "type": "scatter",
                  "x": {
                    "bdata": "ADiCUNMvl0IApNYK9F2ZQgCUcvsRDpxCAJhcDJe1nkIAOFXpmo+gQgBoTW5k2aFCALATFlsuo0IAGJfqCYWkQgBumBf26KVCAAr1YH1rp0IAgICNlgCpQgCoEwgChapCAIr5LeIjq0IA2CSzUnetQgAgx7q+Y65C",
                    "dtype": "f8"
                  },
                  "xaxis": "x",
                  "y": [
                    913973328,
                    984582231,
                    1332387970,
                    1556518483,
                    1635328979,
                    2314160979,
                    2638629452,
                    2478130561,
                    2981733038,
                    3579444167,
                    3661971653,
                    2587226278,
                    3427468841,
                    3015488759,
                    2685859682
                  ],
                  "yaxis": "y"
                },
                {
                  "hovertemplate": "Country=China<br>category=Passenger Vehicles<br>Real GDP=%{x}<br>Export=%{y}<extra></extra>",
                  "legendgroup": "China",
                  "marker": {
                    "color": "#19d3f3",
                    "symbol": "circle"
                  },
                  "mode": "markers",
                  "name": "China",
                  "orientation": "v",
                  "showlegend": false,
                  "type": "scatter",
                  "x": {
                    "bdata": "ADiCUNMvl0IApNYK9F2ZQgCUcvsRDpxCAJhcDJe1nkIAOFXpmo+gQgBoTW5k2aFCALATFlsuo0IAGJfqCYWkQgBumBf26KVCAAr1YH1rp0IAgICNlgCpQgCoEwgChapCAIr5LeIjq0IA2CSzUnetQgAgx7q+Y65C",
                    "dtype": "f8"
                  },
                  "xaxis": "x2",
                  "y": [
                    681596584,
                    754526827,
                    2921382708,
                    4306360159,
                    4959652931,
                    7531612003,
                    9942175219,
                    8264903454,
                    8211990469,
                    9526202379,
                    6238289558,
                    6984084476,
                    5957317167,
                    6278802297,
                    5024574204
                  ],
                  "yaxis": "y2"
                },
                {
                  "hovertemplate": "Country=China<br>category=Trucks<br>Real GDP=%{x}<br>Export=%{y}<extra></extra>",
                  "legendgroup": "China",
                  "marker": {
                    "color": "#19d3f3",
                    "symbol": "circle"
                  },
                  "mode": "markers",
                  "name": "China",
                  "orientation": "v",
                  "showlegend": false,
                  "type": "scatter",
                  "x": {
                    "bdata": "ADiCUNMvl0IApNYK9F2ZQgCUcvsRDpxCAJhcDJe1nkIAOFXpmo+gQgBoTW5k2aFCALATFlsuo0IAGJfqCYWkQgBumBf26KVCAAr1YH1rp0IAgICNlgCpQgCoEwgChapCAIr5LeIjq0IA2CSzUnetQgAgx7q+Y65C",
                    "dtype": "f8"
                  },
                  "xaxis": "x3",
                  "y": {
                    "bdata": "Xhh2AW9e3gEYVCoFh6DQAiZxWQiBfHgFnI20AxzFOwQbwiAE4hVQCokqjQQZuKwDYiBgAVQb1AAWwrYA",
                    "dtype": "i4"
                  },
                  "yaxis": "y3"
                },
                {
                  "hovertemplate": "Country=France<br>category=Parts<br>Real GDP=%{x}<br>Export=%{y}<extra></extra>",
                  "legendgroup": "France",
                  "marker": {
                    "color": "#FF6692",
                    "symbol": "circle"
                  },
                  "mode": "markers",
                  "name": "France",
                  "orientation": "v",
                  "showlegend": true,
                  "type": "scatter",
                  "x": {
                    "bdata": "ALDxUoz7gEIAgNzYv4CAQgCwkhNC1YBCABAAsUw+gUIAoDckakaBQgDoUbT8aIFCAHCX3XWVgUIAEFfeesWBQgAYkl2b7IFCAMAfPjdMgkIAwCtPUJmCQgDQhcfY+YJCAOD0QGSQgUIAWNI12cWCQgBIWzBmQYNC",
                    "dtype": "f8"
                  },
                  "xaxis": "x",
                  "y": {
                    "bdata": "wVLGLMoIzByvDMIkCFpdIPEQ/x0OUPIfKxO6Hr4BPB03kFsWWPgPFin+phoX0lEceYN/FPZzIRXIJWsX",
                    "dtype": "i4"
                  },
                  "yaxis": "y"
                },
                {
                  "hovertemplate": "Country=France<br>category=Passenger Vehicles<br>Real GDP=%{x}<br>Export=%{y}<extra></extra>",
                  "legendgroup": "France",
                  "marker": {
                    "color": "#FF6692",
                    "symbol": "circle"
                  },
                  "mode": "markers",
                  "name": "France",
                  "orientation": "v",
                  "showlegend": false,
                  "type": "scatter",
                  "x": {
                    "bdata": "ALDxUoz7gEIAgNzYv4CAQgCwkhNC1YBCABAAsUw+gUIAoDckakaBQgDoUbT8aIFCAHCX3XWVgUIAEFfeesWBQgAYkl2b7IFCAMAfPjdMgkIAwCtPUJmCQgDQhcfY+YJCAOD0QGSQgUIAWNI12cWCQgBIWzBmQYNC",
                    "dtype": "f8"
                  },
                  "xaxis": "x2",
                  "y": {
                    "bdata": "wwMFCIUQeAG3ctgCri/CB+cV+AhIf/kEzt8dCKxS4gTPG4wKkRDYB05y2QZDjaYFrM/hAqDyxQmcPpkD",
                    "dtype": "i4"
                  },
                  "yaxis": "y2"
                },
                {
                  "hovertemplate": "Country=France<br>category=Trucks<br>Real GDP=%{x}<br>Export=%{y}<extra></extra>",
                  "legendgroup": "France",
                  "marker": {
                    "color": "#FF6692",
                    "symbol": "circle"
                  },
                  "mode": "markers",
                  "name": "France",
                  "orientation": "v",
                  "showlegend": false,
                  "type": "scatter",
                  "x": {
                    "bdata": "ALDxUoz7gEIAgNzYv4CAQgCwkhNC1YBCABAAsUw+gUIAoDckakaBQgDoUbT8aIFCAHCX3XWVgUIAEFfeesWBQgAYkl2b7IFCAMAfPjdMgkIAwCtPUJmCQgDQhcfY+YJCAOD0QGSQgUIAWNI12cWCQgBIWzBmQYNC",
                    "dtype": "f8"
                  },
                  "xaxis": "x3",
                  "y": {
                    "bdata": "s5Q3AFzyEwCMbi4AWsoJAO6LVwDEIxAAzfgwAGH1EABKyR0ArF0OAFK8CQCL0B0ArXoJALC0BADQSwYA",
                    "dtype": "i4"
                  },
                  "yaxis": "y3"
                },
                {
                  "hovertemplate": "Country=Germany<br>category=Parts<br>Real GDP=%{x}<br>Export=%{y}<extra></extra>",
                  "legendgroup": "Germany",
                  "marker": {
                    "color": "#B6E880",
                    "symbol": "circle"
                  },
                  "mode": "markers",
                  "name": "Germany",
                  "orientation": "v",
                  "showlegend": true,
                  "type": "scatter",
                  "x": {
                    "bdata": "AOBrqyVMh0IAgE7lbAGGQgBYN8oH64ZCADiL+ILHh0IAAEZXYuSHQgAo39IB/IdCAGAt6jaBiEIAaKym5OiIQgB4UHM5e4lCALgrlGUsikIA8O/xM3eKQgCwAXsiuopCAPj6mvChiUIAwEJXw5KKQgCYvU7x74pC",
                    "dtype": "f8"
                  },
                  "xaxis": "x",
                  "y": [
                    1706706846,
                    1265021691,
                    1572329039,
                    1742369410,
                    1673520727,
                    1804848263,
                    1924245843,
                    2047764612,
                    2166246857,
                    2410629208,
                    2510446944,
                    2182973052,
                    1760177517,
                    1998615746,
                    2233079487
                  ],
                  "yaxis": "y"
                },
                {
                  "hovertemplate": "Country=Germany<br>category=Passenger Vehicles<br>Real GDP=%{x}<br>Export=%{y}<extra></extra>",
                  "legendgroup": "Germany",
                  "marker": {
                    "color": "#B6E880",
                    "symbol": "circle"
                  },
                  "mode": "markers",
                  "name": "Germany",
                  "orientation": "v",
                  "showlegend": false,
                  "type": "scatter",
                  "x": {
                    "bdata": "AOBrqyVMh0IAgE7lbAGGQgBYN8oH64ZCADiL+ILHh0IAAEZXYuSHQgAo39IB/IdCAGAt6jaBiEIAaKym5OiIQgB4UHM5e4lCALgrlGUsikIA8O/xM3eKQgCwAXsiuopCAPj6mvChiUIAwEJXw5KKQgCYvU7x74pC",
                    "dtype": "f8"
                  },
                  "xaxis": "x2",
                  "y": [
                    7271930736,
                    4359799043,
                    3633810812,
                    5146003729,
                    5857684381,
                    4745975309,
                    5272829307,
                    5910717531,
                    6356555766,
                    5721504301,
                    5416613521,
                    6651557562,
                    6498904046,
                    7258458199,
                    7205388022
                  ],
                  "yaxis": "y2"
                },
                {
                  "hovertemplate": "Country=Germany<br>category=Trucks<br>Real GDP=%{x}<br>Export=%{y}<extra></extra>",
                  "legendgroup": "Germany",
                  "marker": {
                    "color": "#B6E880",
                    "symbol": "circle"
                  },
                  "mode": "markers",
                  "name": "Germany",
                  "orientation": "v",
                  "showlegend": false,
                  "type": "scatter",
                  "x": {
                    "bdata": "AOBrqyVMh0IAgE7lbAGGQgBYN8oH64ZCADiL+ILHh0IAAEZXYuSHQgAo39IB/IdCAGAt6jaBiEIAaKym5OiIQgB4UHM5e4lCALgrlGUsikIA8O/xM3eKQgCwAXsiuopCAPj6mvChiUIAwEJXw5KKQgCYvU7x74pC",
                    "dtype": "f8"
                  },
                  "xaxis": "x3",
                  "y": {
                    "bdata": "x0qWBXPL6QDk9yMB9GLoANJLlABNXmcAa2SuANScVQCwYZ4AN7hLABd14QCkS5EA3GMpAD4gSQDkws8A",
                    "dtype": "i4"
                  },
                  "yaxis": "y3"
                },
                {
                  "hovertemplate": "Country=Italy<br>category=Parts<br>Real GDP=%{x}<br>Export=%{y}<extra></extra>",
                  "legendgroup": "Italy",
                  "marker": {
                    "color": "#FF97FF",
                    "symbol": "circle"
                  },
                  "mode": "markers",
                  "name": "Italy",
                  "orientation": "v",
                  "showlegend": true,
                  "type": "scatter",
                  "x": {
                    "bdata": "AICSVI/ofEIA8Ivj8l97QgBARZQby3tCAIAON5f8e0IAoDQcrhx7QgCQ/C5/nnpCAID1+WaeekIAcDxVwdp6QgAQogy+L3tCAGBzE1ufe0IA4NiWz9l7QgBgpMxo+HtCADDOjmh9eUIAQH9bMsR7QgBwCTvlGn1C",
                    "dtype": "f8"
                  },
                  "xaxis": "x",
                  "y": {
                    "bdata": "YBFsCjfDmQgxb/kL3YQsD2s/hBCZco8UIAfIHpv5ljDhxysm+Xh6MRrZ4zFO2N8qHTHsLf2KtRrCpKUg",
                    "dtype": "i4"
                  },
                  "yaxis": "y"
                },
                {
                  "hovertemplate": "Country=Italy<br>category=Passenger Vehicles<br>Real GDP=%{x}<br>Export=%{y}<extra></extra>",
                  "legendgroup": "Italy",
                  "marker": {
                    "color": "#FF97FF",
                    "symbol": "circle"
                  },
                  "mode": "markers",
                  "name": "Italy",
                  "orientation": "v",
                  "showlegend": false,
                  "type": "scatter",
                  "x": {
                    "bdata": "AICSVI/ofEIA8Ivj8l97QgBARZQby3tCAIAON5f8e0IAoDQcrhx7QgCQ/C5/nnpCAID1+WaeekIAcDxVwdp6QgAQogy+L3tCAGBzE1ufe0IA4NiWz9l7QgBgpMxo+HtCADDOjmh9eUIAQH9bMsR7QgBwCTvlGn1C",
                    "dtype": "f8"
                  },
                  "xaxis": "x2",
                  "y": {
                    "bdata": "GgYMEDPVewUFfXcFBWwQFbUQoQ87KHoLaPX0DjqVfgkFKT0OKZxxCTWBixA5IOIIDprwAvqBmAZfGpcD",
                    "dtype": "i4"
                  },
                  "yaxis": "y2"
                },
                {
                  "hovertemplate": "Country=Italy<br>category=Trucks<br>Real GDP=%{x}<br>Export=%{y}<extra></extra>",
                  "legendgroup": "Italy",
                  "marker": {
                    "color": "#FF97FF",
                    "symbol": "circle"
                  },
                  "mode": "markers",
                  "name": "Italy",
                  "orientation": "v",
                  "showlegend": false,
                  "type": "scatter",
                  "x": {
                    "bdata": "AICSVI/ofEIA8Ivj8l97QgBARZQby3tCAIAON5f8e0IAoDQcrhx7QgCQ/C5/nnpCAID1+WaeekIAcDxVwdp6QgAQogy+L3tCAGBzE1ufe0IA4NiWz9l7QgBgpMxo+HtCADDOjmh9eUIAQH9bMsR7QgBwCTvlGn1C",
                    "dtype": "f8"
                  },
                  "xaxis": "x3",
                  "y": {
                    "bdata": "N+iAACz0NAAPTEIAfCAWAIzEBgBQyhgAvDkOAF1GBQAcBg8AI7sKADCOBACcfhcA45IFAIfMGQBW0goA",
                    "dtype": "i4"
                  },
                  "yaxis": "y3"
                },
                {
                  "hovertemplate": "Country=Japan<br>category=Parts<br>Real GDP=%{x}<br>Export=%{y}<extra></extra>",
                  "legendgroup": "Japan",
                  "marker": {
                    "color": "#FECB52",
                    "symbol": "circle"
                  },
                  "mode": "markers",
                  "name": "Japan",
                  "orientation": "v",
                  "showlegend": true,
                  "type": "scatter",
                  "x": {
                    "bdata": "AAAnOrREj0IAGOEv+nyNQgCQBARUso5CAMDf/zK0jkIAcOzjQSCPQgBIwmcHwI9CABDcxhrYj0IA8NwMqiuQQgDIfMLeSpBCAChC/r6QkEIAWHbYB6yQQgBAX67dmpBCAID+j1DTj0IAiEqsgVeQQgAMA0XqfpBC",
                    "dtype": "f8"
                  },
                  "xaxis": "x",
                  "y": {
                    "bdata": "leCxXE9iCTIO4IVODAJkVuhFlFmNjwVS9mZHV2P/NF+S7ahiz3O4a8646HILB0hc9MGNRIjilFJW7w1f",
                    "dtype": "i4"
                  },
                  "yaxis": "y"
                },
                {
                  "hovertemplate": "Country=Japan<br>category=Passenger Vehicles<br>Real GDP=%{x}<br>Export=%{y}<extra></extra>",
                  "legendgroup": "Japan",
                  "marker": {
                    "color": "#FECB52",
                    "symbol": "circle"
                  },
                  "mode": "markers",
                  "name": "Japan",
                  "orientation": "v",
                  "showlegend": false,
                  "type": "scatter",
                  "x": {
                    "bdata": "AAAnOrREj0IAGOEv+nyNQgCQBARUso5CAMDf/zK0jkIAcOzjQSCPQgBIwmcHwI9CABDcxhrYj0IA8NwMqiuQQgDIfMLeSpBCAChC/r6QkEIAWHbYB6yQQgBAX67dmpBCAID+j1DTj0IAiEqsgVeQQgAMA0XqfpBC",
                    "dtype": "f8"
                  },
                  "xaxis": "x2",
                  "y": {
                    "bdata": "uVgiF1CXMworg6ML7SATFNFZ/B3sYIQb8HuUIPV9GR9X4Xca1dm8HyUe4CDsBVU7KwoFKoZemileVxws",
                    "dtype": "i4"
                  },
                  "yaxis": "y2"
                },
                {
                  "hovertemplate": "Country=Japan<br>category=Trucks<br>Real GDP=%{x}<br>Export=%{y}<extra></extra>",
                  "legendgroup": "Japan",
                  "marker": {
                    "color": "#FECB52",
                    "symbol": "circle"
                  },
                  "mode": "markers",
                  "name": "Japan",
                  "orientation": "v",
                  "showlegend": false,
                  "type": "scatter",
                  "x": {
                    "bdata": "AAAnOrREj0IAGOEv+nyNQgCQBARUso5CAMDf/zK0jkIAcOzjQSCPQgBIwmcHwI9CABDcxhrYj0IA8NwMqiuQQgDIfMLeSpBCAChC/r6QkEIAWHbYB6yQQgBAX67dmpBCAID+j1DTj0IAiEqsgVeQQgAMA0XqfpBC",
                    "dtype": "f8"
                  },
                  "xaxis": "x3",
                  "y": {
                    "bdata": "6bMQBCsSSQG+9YEA8A51AEPqVQBdNxYBoxQbAdMMagCrvGEAPrZwANUEUwBKo0QAgtySANHNaADVniwA",
                    "dtype": "i4"
                  },
                  "yaxis": "y3"
                },
                {
                  "hovertemplate": "Country=Kuwait<br>category=Parts<br>Real GDP=%{x}<br>Export=%{y}<extra></extra>",
                  "legendgroup": "Kuwait",
                  "marker": {
                    "color": "#636efa",
                    "symbol": "circle"
                  },
                  "mode": "markers",
                  "name": "Kuwait",
                  "orientation": "v",
                  "showlegend": true,
                  "type": "scatter",
                  "x": {
                    "bdata": "AACh/yuaOEIAAPt5gtw2QgAAMevFUTZCAAAccu53OEIAACzB+BY6QgAAb4G+YzpCAACjrZWFOkIAAHbT1K06QgAAC2qtdTtCAABYYGwqOkIAALXoLuI6QgAAUbf7fTtCAABKdOgqOkIAALXY9Jo6QgAA7kpJZzxC",
                    "dtype": "f8"
                  },
                  "xaxis": "x",
                  "y": {
                    "bdata": "CsuXBlc0cwVUjRkG0H7VBABL6ANu3JQD2U2vA/hDYgMn5OoCkqA8A2+D9gK9croEN2IeA9iAAwP//C0D",
                    "dtype": "i4"
                  },
                  "yaxis": "y"
                },
                {
                  "hovertemplate": "Country=Kuwait<br>category=Passenger Vehicles<br>Real GDP=%{x}<br>Export=%{y}<extra></extra>",
                  "legendgroup": "Kuwait",
                  "marker": {
                    "color": "#636efa",
                    "symbol": "circle"
                  },
                  "mode": "markers",
                  "name": "Kuwait",
                  "orientation": "v",
                  "showlegend": false,
                  "type": "scatter",
                  "x": {
                    "bdata": "AACh/yuaOEIAAPt5gtw2QgAAMevFUTZCAAAccu53OEIAACzB+BY6QgAAb4G+YzpCAACjrZWFOkIAAHbT1K06QgAAC2qtdTtCAABYYGwqOkIAALXoLuI6QgAAUbf7fTtCAABKdOgqOkIAALXY9Jo6QgAA7kpJZzxC",
                    "dtype": "f8"
                  },
                  "xaxis": "x2",
                  "y": {
                    "bdata": "WigRLMCUQRn4FigqTg82LycBZDdtpMw7ziasKsi0CCsfiUwjn14LIkoQZypkrkwq5R3HGKNsAiYdEm8t",
                    "dtype": "i4"
                  },
                  "yaxis": "y2"
                },
                {
                  "hovertemplate": "Country=Mexico<br>category=Parts<br>Real GDP=%{x}<br>Export=%{y}<extra></extra>",
                  "legendgroup": "Mexico",
                  "marker": {
                    "color": "#EF553B",
                    "symbol": "circle"
                  },
                  "mode": "markers",
                  "name": "Mexico",
                  "orientation": "v",
                  "showlegend": true,
                  "type": "scatter",
                  "x": {
                    "bdata": "AEC8o7eQb0IA4IAUBJRtQgCAJDlyDG9CAOBG3RgPcEIAwGxOLKFwQgAgg9FyxXBCAHAcQfIwcUIAMKzF36dxQgAQGxP993FCAIDEfhZOckIAINdZgKpyQgDgEpW8l3JCAKByShsKcUIAcKWp8hFyQgAg3cadvXJC",
                    "dtype": "f8"
                  },
                  "xaxis": "x",
                  "y": [
                    13971074278,
                    12156777287,
                    17515733063,
                    21596577589,
                    24577884819,
                    27020301970,
                    29697309738,
                    30563675255,
                    28853002029,
                    30293476225,
                    32762586770,
                    33351165102,
                    25537022508,
                    29079110745,
                    33202728599
                  ],
                  "yaxis": "y"
                },
                {
                  "hovertemplate": "Country=Mexico<br>category=Passenger Vehicles<br>Real GDP=%{x}<br>Export=%{y}<extra></extra>",
                  "legendgroup": "Mexico",
                  "marker": {
                    "color": "#EF553B",
                    "symbol": "circle"
                  },
                  "mode": "markers",
                  "name": "Mexico",
                  "orientation": "v",
                  "showlegend": false,
                  "type": "scatter",
                  "x": {
                    "bdata": "AEC8o7eQb0IA4IAUBJRtQgCAJDlyDG9CAOBG3RgPcEIAwGxOLKFwQgAgg9FyxXBCAHAcQfIwcUIAMKzF36dxQgAQGxP993FCAIDEfhZOckIAINdZgKpyQgDgEpW8l3JCAKByShsKcUIAcKWp8hFyQgAg3cadvXJC",
                    "dtype": "f8"
                  },
                  "xaxis": "x2",
                  "y": [
                    4053831183,
                    1987600598,
                    2842508188,
                    3174225028,
                    3607341712,
                    3631801923,
                    3540262939,
                    3084575996,
                    3604195477,
                    3449264042,
                    3254667672,
                    3227885847,
                    2088545024,
                    2874156753,
                    3606171154
                  ],
                  "yaxis": "y2"
                },
                {
                  "hovertemplate": "Country=Mexico<br>category=Trucks<br>Real GDP=%{x}<br>Export=%{y}<extra></extra>",
                  "legendgroup": "Mexico",
                  "marker": {
                    "color": "#EF553B",
                    "symbol": "circle"
                  },
                  "mode": "markers",
                  "name": "Mexico",
                  "orientation": "v",
                  "showlegend": false,
                  "type": "scatter",
                  "x": {
                    "bdata": "AEC8o7eQb0IA4IAUBJRtQgCAJDlyDG9CAOBG3RgPcEIAwGxOLKFwQgAgg9FyxXBCAHAcQfIwcUIAMKzF36dxQgAQGxP993FCAIDEfhZOckIAINdZgKpyQgDgEpW8l3JCAKByShsKcUIAcKWp8hFyQgAg3cadvXJC",
                    "dtype": "f8"
                  },
                  "xaxis": "x3",
                  "y": {
                    "bdata": "sy3zCoc6wAVTKi4IbYrICBTGkwy9by8QG8x8Fzp5fBM44wYWl2WJDQE+/Q9MdBoTct4NDM2zYgxOtiMS",
                    "dtype": "i4"
                  },
                  "yaxis": "y3"
                },
                {
                  "hovertemplate": "Country=Netherlands<br>category=Parts<br>Real GDP=%{x}<br>Export=%{y}<extra></extra>",
                  "legendgroup": "Netherlands",
                  "marker": {
                    "color": "#00cc96",
                    "symbol": "circle"
                  },
                  "mode": "markers",
                  "name": "Netherlands",
                  "orientation": "v",
                  "showlegend": true,
                  "type": "scatter",
                  "x": {
                    "bdata": "AAAVFy8gZkIA4A09k1BlQgDAWpqQmGVCAOAD+5r6ZUIA4NuIlcNlQgDA41HmwWVCAKA4b7gbZkIAwHSjvZNmQgAgZ7PbH2dCAGB5lIXEZ0IAgKGR9E1oQgDAkOYQ3WhCAMCfRN7mZ0IAgI1x8GZpQgBgzICOrGpC",
                    "dtype": "f8"
                  },
                  "xaxis": "x",
                  "y": {
                    "bdata": "fN7mEHh9JgwRIP0NfknNEPO9CQ7T3UIY2cRkKfrMrzS1Zo5IS3/0WIMoQWTYPNBIILS/PXV2qBYWgEsZ",
                    "dtype": "i4"
                  },
                  "yaxis": "y"
                },
                {
                  "hovertemplate": "Country=Netherlands<br>category=Passenger Vehicles<br>Real GDP=%{x}<br>Export=%{y}<extra></extra>",
                  "legendgroup": "Netherlands",
                  "marker": {
                    "color": "#00cc96",
                    "symbol": "circle"
                  },
                  "mode": "markers",
                  "name": "Netherlands",
                  "orientation": "v",
                  "showlegend": false,
                  "type": "scatter",
                  "x": {
                    "bdata": "AAAVFy8gZkIA4A09k1BlQgDAWpqQmGVCAOAD+5r6ZUIA4NuIlcNlQgDA41HmwWVCAKA4b7gbZkIAwHSjvZNmQgAgZ7PbH2dCAGB5lIXEZ0IAgKGR9E1oQgDAkOYQ3WhCAMCfRN7mZ0IAgI1x8GZpQgBgzICOrGpC",
                    "dtype": "f8"
                  },
                  "xaxis": "x2",
                  "y": {
                    "bdata": "PmezCG0YtQKHddUBamr4AqaTmARqcLkHQvG7A2szSQNagCwCBDy9AgM/SgSKaEEO5fExBnncrw6UeJkH",
                    "dtype": "i4"
                  },
                  "yaxis": "y2"
                },
                {
                  "hovertemplate": "Country=Netherlands<br>category=Trucks<br>Real GDP=%{x}<br>Export=%{y}<extra></extra>",
                  "legendgroup": "Netherlands",
                  "marker": {
                    "color": "#00cc96",
                    "symbol": "circle"
                  },
                  "mode": "markers",
                  "name": "Netherlands",
                  "orientation": "v",
                  "showlegend": false,
                  "type": "scatter",
                  "x": {
                    "bdata": "AAAVFy8gZkIA4A09k1BlQgDAWpqQmGVCAOAD+5r6ZUIA4NuIlcNlQgDA41HmwWVCAKA4b7gbZkIAwHSjvZNmQgAgZ7PbH2dCAGB5lIXEZ0IAgKGR9E1oQgDAkOYQ3WhCAMCfRN7mZ0IAgI1x8GZpQgBgzICOrGpC",
                    "dtype": "f8"
                  },
                  "xaxis": "x3",
                  "y": {
                    "bdata": "8j+TAIs7dQBsNjUADQAWAKn3EgDgaRwAabsiAMWsEgD/ezIACBY2AG33LQDl40cAC6ARAM0fGwCBYRMA",
                    "dtype": "i4"
                  },
                  "yaxis": "y3"
                },
                {
                  "hovertemplate": "Country=Russia<br>category=Parts<br>Real GDP=%{x}<br>Export=%{y}<extra></extra>",
                  "legendgroup": "Russia",
                  "marker": {
                    "color": "#ab63fa",
                    "symbol": "circle"
                  },
                  "mode": "markers",
                  "name": "Russia",
                  "orientation": "v",
                  "showlegend": true,
                  "type": "scatter",
                  "x": {
                    "bdata": "ACDA66LjckIAMCgCdWpxQgBADW8WM3JCAADABG77ckIAsOc2+r5zQgDwCq62F3RCAKArx5U9dEIAUCPwXddzQgAAWIY04XNCAFColR8+dEIAMA8qmc90QgAgB/SzRHVCAKCCJji0dEIA8D4BKOt1QgDQjTCWmnVC",
                    "dtype": "f8"
                  },
                  "xaxis": "x",
                  "y": {
                    "bdata": "w4eYDthZNQOCObEF5Ee6Dxl5qxFlKcAdo3bVID7wFhfsURoW/hUrG3vGbBm281obE0T/G7V5YioL3hcF",
                    "dtype": "i4"
                  },
                  "yaxis": "y"
                },
                {
                  "hovertemplate": "Country=Russia<br>category=Passenger Vehicles<br>Real GDP=%{x}<br>Export=%{y}<extra></extra>",
                  "legendgroup": "Russia",
                  "marker": {
                    "color": "#ab63fa",
                    "symbol": "circle"
                  },
                  "mode": "markers",
                  "name": "Russia",
                  "orientation": "v",
                  "showlegend": false,
                  "type": "scatter",
                  "x": {
                    "bdata": "ACDA66LjckIAMCgCdWpxQgBADW8WM3JCAADABG77ckIAsOc2+r5zQgDwCq62F3RCAKArx5U9dEIAUCPwXddzQgAAWIY04XNCAFColR8+dEIAMA8qmc90QgAgB/SzRHVCAKCCJji0dEIA8D4BKOt1QgDQjTCWmnVC",
                    "dtype": "f8"
                  },
                  "xaxis": "x2",
                  "y": {
                    "bdata": "wSfwJA5eygBZtVMGCN9fEkrdoyZDub5DKyfGUycalA66dRcJ6i9DBeMwXg/01MQNa6FMBbQWGxBgmJwB",
                    "dtype": "i4"
                  },
                  "yaxis": "y2"
                },
                {
                  "hovertemplate": "Country=Russia<br>category=Trucks<br>Real GDP=%{x}<br>Export=%{y}<extra></extra>",
                  "legendgroup": "Russia",
                  "marker": {
                    "color": "#ab63fa",
                    "symbol": "circle"
                  },
                  "mode": "markers",
                  "name": "Russia",
                  "orientation": "v",
                  "showlegend": false,
                  "type": "scatter",
                  "x": {
                    "bdata": "ACDA66LjckIAMCgCdWpxQgBADW8WM3JCAADABG77ckIAsOc2+r5zQgDwCq62F3RCAKArx5U9dEIAUCPwXddzQgAAWIY04XNCAFColR8+dEIAMA8qmc90QgAgB/SzRHVCAKCCJji0dEIA8D4BKOt1QgDQjTCWmnVC",
                    "dtype": "f8"
                  },
                  "xaxis": "x3",
                  "y": {
                    "bdata": "zTorBETOFwBPmRIADWuTAGunnwAKTE0A3Xh+AMmDFgDTHAMAXAwKADM8BQBSogUAdPUIABITDgB6ggEA",
                    "dtype": "i4"
                  },
                  "yaxis": "y3"
                },
                {
                  "hovertemplate": "Country=Saudi Arabia<br>category=Parts<br>Real GDP=%{x}<br>Export=%{y}<extra></extra>",
                  "legendgroup": "Saudi Arabia",
                  "marker": {
                    "color": "#FFA15A",
                    "symbol": "circle"
                  },
                  "mode": "markers",
                  "name": "Saudi Arabia",
                  "orientation": "v",
                  "showlegend": true,
                  "type": "scatter",
                  "x": {
                    "bdata": "AADN2+hRXUIAwIrA1wFdQgAASLoReF5CAAAcVaIGYUIAoJTTwQFiQgCgkfeLiWJCAOA/t4lIY0IAAAACVy5kQgDARs9ghmRCAMB8Nn3EZEIAoPCyDHBlQgCgITCwymVCAOBhqW72ZEIAwL5RTVRmQgCA77ZKAmlC",
                    "dtype": "f8"
                  },
                  "xaxis": "x",
                  "y": {
                    "bdata": "TSl3EOGfZRAA5lUQ192LEaiYQBFJxPgSdawaFAxLQBX7TSsTi8x6Dqj4zAymhbQMI5vZClSgrgsid64K",
                    "dtype": "i4"
                  },
                  "yaxis": "y"
                },
                {
                  "hovertemplate": "Country=Saudi Arabia<br>category=Passenger Vehicles<br>Real GDP=%{x}<br>Export=%{y}<extra></extra>",
                  "legendgroup": "Saudi Arabia",
                  "marker": {
                    "color": "#FFA15A",
                    "symbol": "circle"
                  },
                  "mode": "markers",
                  "name": "Saudi Arabia",
                  "orientation": "v",
                  "showlegend": false,
                  "type": "scatter",
                  "x": {
                    "bdata": "AADN2+hRXUIAwIrA1wFdQgAASLoReF5CAAAcVaIGYUIAoJTTwQFiQgCgkfeLiWJCAOA/t4lIY0IAAAACVy5kQgDARs9ghmRCAMB8Nn3EZEIAoPCyDHBlQgCgITCwymVCAOBhqW72ZEIAwL5RTVRmQgCA77ZKAmlC",
                    "dtype": "f8"
                  },
                  "xaxis": "x2",
                  "y": [
                    2687034032,
                    1396648256,
                    2938581471,
                    3513189412,
                    4838045032,
                    4740250708,
                    3794319146,
                    3790058130,
                    2881392553,
                    1668277941,
                    1775740598,
                    1517237225,
                    1243503839,
                    1469986454,
                    1744865722
                  ],
                  "yaxis": "y2"
                },
                {
                  "hovertemplate": "Country=Saudi Arabia<br>category=Trucks<br>Real GDP=%{x}<br>Export=%{y}<extra></extra>",
                  "legendgroup": "Saudi Arabia",
                  "marker": {
                    "color": "#FFA15A",
                    "symbol": "circle"
                  },
                  "mode": "markers",
                  "name": "Saudi Arabia",
                  "orientation": "v",
                  "showlegend": false,
                  "type": "scatter",
                  "x": {
                    "bdata": "AADN2+hRXUIAwIrA1wFdQgAASLoReF5CAAAcVaIGYUIAoJTTwQFiQgCgkfeLiWJCAOA/t4lIY0IAAAACVy5kQgDARs9ghmRCAMB8Nn3EZEIAoPCyDHBlQgCgITCwymVCAOBhqW72ZEIAwL5RTVRmQgCA77ZKAmlC",
                    "dtype": "f8"
                  },
                  "xaxis": "x3",
                  "y": {
                    "bdata": "kaGTA5mrhATx774ElDO3A+GcRwUSqWAGAyLvBpl4Vwd+7uYCVNjVAssfeAGG4LUBqdivAobrAwGho2AA",
                    "dtype": "i4"
                  },
                  "yaxis": "y3"
                },
                {
                  "hovertemplate": "Country=South Africa<br>category=Parts<br>Real GDP=%{x}<br>Export=%{y}<extra></extra>",
                  "legendgroup": "South Africa",
                  "marker": {
                    "color": "#19d3f3",
                    "symbol": "circle"
                  },
                  "mode": "markers",
                  "name": "South Africa",
                  "orientation": "v",
                  "showlegend": true,
                  "type": "scatter",
                  "x": {
                    "bdata": "AAB5hmfhUUIAwD/1/5pRQgAAyyYAJFJCAEAz+yW3UkIAwPGV9ClTQgCAgzDko1NCAAA0HvrqU0IAgL7jYC5UQgAAETa2UFRCAMAy6e6MVEIAAKmo1d5UQgAA6Pe47FRCAMBlTkWiU0IAwO32UptUQgBAAS0pAFVC",
                    "dtype": "f8"
                  },
                  "xaxis": "x",
                  "y": {
                    "bdata": "r7SAD4bYFwsWW38PWCYeFQVtqBUGWngTbx/UFaXSaRlxKd4UBePtGcYG5Cf79oEq6/WHImCt5SqvTKwp",
                    "dtype": "i4"
                  },
                  "yaxis": "y"
                },
                {
                  "hovertemplate": "Country=South Africa<br>category=Passenger Vehicles<br>Real GDP=%{x}<br>Export=%{y}<extra></extra>",
                  "legendgroup": "South Africa",
                  "marker": {
                    "color": "#19d3f3",
                    "symbol": "circle"
                  },
                  "mode": "markers",
                  "name": "South Africa",
                  "orientation": "v",
                  "showlegend": false,
                  "type": "scatter",
                  "x": {
                    "bdata": "AAB5hmfhUUIAwD/1/5pRQgAAyyYAJFJCAEAz+yW3UkIAwPGV9ClTQgCAgzDko1NCAAA0HvrqU0IAgL7jYC5UQgAAETa2UFRCAMAy6e6MVEIAAKmo1d5UQgAA6Pe47FRCAMBlTkWiU0IAwO32UptUQgBAAS0pAFVC",
                    "dtype": "f8"
                  },
                  "xaxis": "x2",
                  "y": {
                    "bdata": "+ze+DYWYBQarCVsLSMBZDoUD5BC1Rb4QZuTrDhO7hQvICooH17iZBSTxIgQ65nUFTyS5Ajno8QUMdxQO",
                    "dtype": "i4"
                  },
                  "yaxis": "y2"
                },
                {
                  "hovertemplate": "Country=South Africa<br>category=Trucks<br>Real GDP=%{x}<br>Export=%{y}<extra></extra>",
                  "legendgroup": "South Africa",
                  "marker": {
                    "color": "#19d3f3",
                    "symbol": "circle"
                  },
                  "mode": "markers",
                  "name": "South Africa",
                  "orientation": "v",
                  "showlegend": false,
                  "type": "scatter",
                  "x": {
                    "bdata": "AAB5hmfhUUIAwD/1/5pRQgAAyyYAJFJCAEAz+yW3UkIAwPGV9ClTQgCAgzDko1NCAAA0HvrqU0IAgL7jYC5UQgAAETa2UFRCAMAy6e6MVEIAAKmo1d5UQgAA6Pe47FRCAMBlTkWiU0IAwO32UptUQgBAAS0pAFVC",
                    "dtype": "f8"
                  },
                  "xaxis": "x3",
                  "y": {
                    "bdata": "nZ/wCdGC8gJOqmcE7IJGCdO5wgh62c8HpHFjCN0W3wCSB3QAJJVHAMWqOgC7VQgAgPQkAC6WTQDIrwAA",
                    "dtype": "i4"
                  },
                  "yaxis": "y3"
                },
                {
                  "hovertemplate": "Country=South Korea<br>category=Parts<br>Real GDP=%{x}<br>Export=%{y}<extra></extra>",
                  "legendgroup": "South Korea",
                  "marker": {
                    "color": "#FF6692",
                    "symbol": "circle"
                  },
                  "mode": "markers",
                  "name": "South Korea",
                  "orientation": "v",
                  "showlegend": true,
                  "type": "scatter",
                  "x": {
                    "bdata": "AAAAjzENcUIAkBTjyy9xQgCQguMxW3JCABA0P2QIc0IAQGvKc31zQgBghJtaG3RCAKCsEDLAdEIA4Ciua1V1QgAQPbtc9nVCAGBoJgKodkIAkAFYo1B3QgAwtK6S1ndCABCGx0erd0IAYITIHbB4QgDQ4IE9VXlC",
                    "dtype": "f8"
                  },
                  "xaxis": "x",
                  "y": {
                    "bdata": "Y8oGGTQhjhJe7qMdokDCMDb8Wys7iI0yUGdgNzvIWzpFuxI8FRT0NfxBSy+1Is4q3OY9IfTzoyK14X4m",
                    "dtype": "i4"
                  },
                  "yaxis": "y"
                },
                {
                  "hovertemplate": "Country=South Korea<br>category=Passenger Vehicles<br>Real GDP=%{x}<br>Export=%{y}<extra></extra>",
                  "legendgroup": "South Korea",
                  "marker": {
                    "color": "#FF6692",
                    "symbol": "circle"
                  },
                  "mode": "markers",
                  "name": "South Korea",
                  "orientation": "v",
                  "showlegend": false,
                  "type": "scatter",
                  "x": {
                    "bdata": "AAAAjzENcUIAkBTjyy9xQgCQguMxW3JCABA0P2QIc0IAQGvKc31zQgBghJtaG3RCAKCsEDLAdEIA4Ciua1V1QgAQPbtc9nVCAGBoJgKodkIAkAFYo1B3QgAwtK6S1ndCABCGx0erd0IAYITIHbB4QgDQ4IE9VXlC",
                    "dtype": "f8"
                  },
                  "xaxis": "x2",
                  "y": [
                    228776236,
                    116102279,
                    313069970,
                    369576948,
                    570039460,
                    713276427,
                    943071401,
                    1234509992,
                    1551940345,
                    1514422023,
                    1652562353,
                    1890693470,
                    2550843049,
                    3163180996,
                    3912035009
                  ],
                  "yaxis": "y2"
                },
                {
                  "hovertemplate": "Country=South Korea<br>category=Trucks<br>Real GDP=%{x}<br>Export=%{y}<extra></extra>",
                  "legendgroup": "South Korea",
                  "marker": {
                    "color": "#FF6692",
                    "symbol": "circle"
                  },
                  "mode": "markers",
                  "name": "South Korea",
                  "orientation": "v",
                  "showlegend": false,
                  "type": "scatter",
                  "x": {
                    "bdata": "AAAAjzENcUIAkBTjyy9xQgCQguMxW3JCABA0P2QIc0IAQGvKc31zQgBghJtaG3RCAKCsEDLAdEIA4Ciua1V1QgAQPbtc9nVCAGBoJgKodkIAkAFYo1B3QgAwtK6S1ndCABCGx0erd0IAYITIHbB4QgDQ4IE9VXlC",
                    "dtype": "f8"
                  },
                  "xaxis": "x3",
                  "y": {
                    "bdata": "zj4oA78UWgDtV30BER3xAPThhABKnWIA85vDALLFXwCfRjwAHSLfAIgHTQFO30gBK/LZAP8/mgG0v7AA",
                    "dtype": "i4"
                  },
                  "yaxis": "y3"
                },
                {
                  "hovertemplate": "Country=Thailand<br>category=Parts<br>Real GDP=%{x}<br>Export=%{y}<extra></extra>",
                  "legendgroup": "Thailand",
                  "marker": {
                    "color": "#B6E880",
                    "symbol": "circle"
                  },
                  "mode": "markers",
                  "name": "Thailand",
                  "orientation": "v",
                  "showlegend": true,
                  "type": "scatter",
                  "x": {
                    "bdata": "AADX3lrqUkIAALmr6chSQgCA/aQ5MlRCAMDmcaldVEIAQFzcRtdVQgAAG8iKbVZCAEDx2BCmVkIAAKWpx1tXQgDArt4xKVhCAIADr5crWUIAAAxzsjtaQgBAMVG0yVpCAMBBhM8qWUIAgM5Q0I5ZQgCAuqKkN1pC",
                    "dtype": "f8"
                  },
                  "xaxis": "x",
                  "y": {
                    "bdata": "+moEB5eNRwWsu6MHB7wKCuuPghP0dnsW+QWkEPHiMRRiwFklibqUJ/iZkSCTBdEwP1x4KYAqgjLiSIAz",
                    "dtype": "i4"
                  },
                  "yaxis": "y"
                },
                {
                  "hovertemplate": "Country=Thailand<br>category=Passenger Vehicles<br>Real GDP=%{x}<br>Export=%{y}<extra></extra>",
                  "legendgroup": "Thailand",
                  "marker": {
                    "color": "#B6E880",
                    "symbol": "circle"
                  },
                  "mode": "markers",
                  "name": "Thailand",
                  "orientation": "v",
                  "showlegend": false,
                  "type": "scatter",
                  "x": {
                    "bdata": "AADX3lrqUkIAALmr6chSQgCA/aQ5MlRCAMDmcaldVEIAQFzcRtdVQgAAG8iKbVZCAEDx2BCmVkIAAKWpx1tXQgDArt4xKVhCAIADr5crWUIAAAxzsjtaQgBAMVG0yVpCAMBBhM8qWUIAgM5Q0I5ZQgCAuqKkN1pC",
                    "dtype": "f8"
                  },
                  "xaxis": "x2",
                  "y": {
                    "bdata": "spNcAMdZQACmH2AA70dlAD0+lQCbWSkBjvB4AQ0esACMN80AcLcxAE4XeQBFAowArKSSALceRACgK30A",
                    "dtype": "i4"
                  },
                  "yaxis": "y2"
                },
                {
                  "hovertemplate": "Country=Thailand<br>category=Trucks<br>Real GDP=%{x}<br>Export=%{y}<extra></extra>",
                  "legendgroup": "Thailand",
                  "marker": {
                    "color": "#B6E880",
                    "symbol": "circle"
                  },
                  "mode": "markers",
                  "name": "Thailand",
                  "orientation": "v",
                  "showlegend": false,
                  "type": "scatter",
                  "x": {
                    "bdata": "AADX3lrqUkIAALmr6chSQgCA/aQ5MlRCAMDmcaldVEIAQFzcRtdVQgAAG8iKbVZCAEDx2BCmVkIAAKWpx1tXQgDArt4xKVhCAIADr5crWUIAAAxzsjtaQgBAMVG0yVpCAMBBhM8qWUIAgM5Q0I5ZQgCAuqKkN1pC",
                    "dtype": "f8"
                  },
                  "xaxis": "x3",
                  "y": {
                    "bdata": "wPMAAOK7BABtNAIAo6EbAOQUCQDEPx8AS4xEANjgRwCaiwgAjIAOAJ3qFACuAg4AaJdCAF0duQClwCsA",
                    "dtype": "i4"
                  },
                  "yaxis": "y3"
                },
                {
                  "hovertemplate": "Country=United Arab Emirates<br>category=Parts<br>Real GDP=%{x}<br>Export=%{y}<extra></extra>",
                  "legendgroup": "United Arab Emirates",
                  "marker": {
                    "color": "#FF97FF",
                    "symbol": "circle"
                  },
                  "mode": "markers",
                  "name": "United Arab Emirates",
                  "orientation": "v",
                  "showlegend": true,
                  "type": "scatter",
                  "x": {
                    "bdata": "AABMn3C2UUIAQM7ps8hQQgDAoo6SDVFCAEBWGfEcUkIAQEe6inFSQgAAlQU+YFNCAIDn5N4uVEIAwEDSiI1VQgBAr0FkwFZCAADYdDTrVkIAgGCASzhXQgAAQKwteldCAEDTLkBQVkIAAGVYAUlXQgBA55+oCFlC",
                    "dtype": "f8"
                  },
                  "xaxis": "x",
                  "y": {
                    "bdata": "isl3D1Waxw4+lVESbs+YF8j8Oh4n71UiRYkQLIlokSojxI8lmvfxJneImCJcenckhNpCIUWQxigWwqgl",
                    "dtype": "i4"
                  },
                  "yaxis": "y"
                },
                {
                  "hovertemplate": "Country=United Arab Emirates<br>category=Passenger Vehicles<br>Real GDP=%{x}<br>Export=%{y}<extra></extra>",
                  "legendgroup": "United Arab Emirates",
                  "marker": {
                    "color": "#FF97FF",
                    "symbol": "circle"
                  },
                  "mode": "markers",
                  "name": "United Arab Emirates",
                  "orientation": "v",
                  "showlegend": false,
                  "type": "scatter",
                  "x": {
                    "bdata": "AABMn3C2UUIAQM7ps8hQQgDAoo6SDVFCAEBWGfEcUkIAQEe6inFSQgAAlQU+YFNCAIDn5N4uVEIAwEDSiI1VQgBAr0FkwFZCAADYdDTrVkIAgGCASzhXQgAAQKwteldCAEDTLkBQVkIAAGVYAUlXQgBA55+oCFlC",
                    "dtype": "f8"
                  },
                  "xaxis": "x2",
                  "y": [
                    1799478615,
                    550584794,
                    1045120624,
                    1192574437,
                    1818622363,
                    2141941944,
                    2162718008,
                    2122690664,
                    1605293038,
                    1366056839,
                    1244937033,
                    1154707351,
                    811436264,
                    1070647419,
                    1687900533
                  ],
                  "yaxis": "y2"
                },
                {
                  "hovertemplate": "Country=United Kingdom<br>category=Parts<br>Real GDP=%{x}<br>Export=%{y}<extra></extra>",
                  "legendgroup": "United Kingdom",
                  "marker": {
                    "color": "#FECB52",
                    "symbol": "circle"
                  },
                  "mode": "markers",
                  "name": "United Kingdom",
                  "orientation": "v",
                  "showlegend": true,
                  "type": "scatter",
                  "x": {
                    "bdata": "AJiZLQjRg0IAYEU5oeaCQgBomg6xUoNCAMh7vgCLg0IAqPOFf9aDQgCI2DjoMYRCAChUIBHXhEIAoPHTqE2FQgCYw4d2toVCAEChtB9KhkIAAGdFTpqGQgAIZYdN+IZCAJjpFdCahEIAEPmdLV+GQgCopztSdIdC",
                    "dtype": "f8"
                  },
                  "xaxis": "x",
                  "y": {
                    "bdata": "DLMsPvYzjyR2Kbo3ghbKQ7jYn0HrHSQ8MPVxVm1+d1/5a6pcR6lJY1Z31nqam6h0tvtKRg/oyUIDheVG",
                    "dtype": "i4"
                  },
                  "yaxis": "y"
                },
                {
                  "hovertemplate": "Country=United Kingdom<br>category=Passenger Vehicles<br>Real GDP=%{x}<br>Export=%{y}<extra></extra>",
                  "legendgroup": "United Kingdom",
                  "marker": {
                    "color": "#FECB52",
                    "symbol": "circle"
                  },
                  "mode": "markers",
                  "name": "United Kingdom",
                  "orientation": "v",
                  "showlegend": false,
                  "type": "scatter",
                  "x": {
                    "bdata": "AJiZLQjRg0IAYEU5oeaCQgBomg6xUoNCAMh7vgCLg0IAqPOFf9aDQgCI2DjoMYRCAChUIBHXhEIAoPHTqE2FQgCYw4d2toVCAEChtB9KhkIAAGdFTpqGQgAIZYdN+IZCAJjpFdCahEIAEPmdLV+GQgCopztSdIdC",
                    "dtype": "f8"
                  },
                  "xaxis": "x2",
                  "y": {
                    "bdata": "xC2iNJdJhRx+gOMvo6p/Rkb1w0ihfxNIXla/V7fsTWgKTpp0cnBqXTqjs0xyCgBGILWtTeUMfCYYm5wk",
                    "dtype": "i4"
                  },
                  "yaxis": "y2"
                },
                {
                  "hovertemplate": "Country=United Kingdom<br>category=Trucks<br>Real GDP=%{x}<br>Export=%{y}<extra></extra>",
                  "legendgroup": "United Kingdom",
                  "marker": {
                    "color": "#FECB52",
                    "symbol": "circle"
                  },
                  "mode": "markers",
                  "name": "United Kingdom",
                  "orientation": "v",
                  "showlegend": false,
                  "type": "scatter",
                  "x": {
                    "bdata": "AJiZLQjRg0IAYEU5oeaCQgBomg6xUoNCAMh7vgCLg0IAqPOFf9aDQgCI2DjoMYRCAChUIBHXhEIAoPHTqE2FQgCYw4d2toVCAEChtB9KhkIAAGdFTpqGQgAIZYdN+IZCAJjpFdCahEIAEPmdLV+GQgCopztSdIdC",
                    "dtype": "f8"
                  },
                  "xaxis": "x3",
                  "y": {
                    "bdata": "1JFLAU5iXwA1e20AA8ttAFexUwDLvIkAw+muAJhJTQBog58Am087AB8LTgDqvEkAAhEoAYwDIQFTZVkA",
                    "dtype": "i4"
                  },
                  "yaxis": "y3"
                }
              ],
              "layout": {
                "annotations": [
                  {
                    "font": {},
                    "showarrow": false,
                    "text": "Parts",
                    "x": 0.15999999999999998,
                    "xanchor": "center",
                    "xref": "paper",
                    "y": 1,
                    "yanchor": "bottom",
                    "yref": "paper"
                  },
                  {
                    "font": {},
                    "showarrow": false,
                    "text": "Passenger Vehicles",
                    "x": 0.49999999999999994,
                    "xanchor": "center",
                    "xref": "paper",
                    "y": 1,
                    "yanchor": "bottom",
                    "yref": "paper"
                  },
                  {
                    "font": {},
                    "showarrow": false,
                    "text": "Trucks",
                    "x": 0.8399999999999999,
                    "xanchor": "center",
                    "xref": "paper",
                    "y": 1,
                    "yanchor": "bottom",
                    "yref": "paper"
                  }
                ],
                "legend": {
                  "title": {},
                  "tracegroupgap": 0
                },
                "margin": {
                  "t": 100
                },
                "template": {
                  "data": {
                    "bar": [
                      {
                        "error_x": {
                          "color": "#2a3f5f"
                        },
                        "error_y": {
                          "color": "#2a3f5f"
                        },
                        "marker": {
                          "line": {
                            "color": "#E5ECF6",
                            "width": 0.5
                          },
                          "pattern": {
                            "fillmode": "overlay",
                            "size": 10,
                            "solidity": 0.2
                          }
                        },
                        "type": "bar"
                      }
                    ],
                    "barpolar": [
                      {
                        "marker": {
                          "line": {
                            "color": "#E5ECF6",
                            "width": 0.5
                          },
                          "pattern": {
                            "fillmode": "overlay",
                            "size": 10,
                            "solidity": 0.2
                          }
                        },
                        "type": "barpolar"
                      }
                    ],
                    "carpet": [
                      {
                        "aaxis": {
                          "endlinecolor": "#2a3f5f",
                          "gridcolor": "white",
                          "linecolor": "white",
                          "minorgridcolor": "white",
                          "startlinecolor": "#2a3f5f"
                        },
                        "baxis": {
                          "endlinecolor": "#2a3f5f",
                          "gridcolor": "white",
                          "linecolor": "white",
                          "minorgridcolor": "white",
                          "startlinecolor": "#2a3f5f"
                        },
                        "type": "carpet"
                      }
                    ],
                    "choropleth": [
                      {
                        "colorbar": {
                          "outlinewidth": 0,
                          "ticks": ""
                        },
                        "type": "choropleth"
                      }
                    ],
                    "contour": [
                      {
                        "colorbar": {
                          "outlinewidth": 0,
                          "ticks": ""
                        },
                        "colorscale": [
                          [
                            0,
                            "#0d0887"
                          ],
                          [
                            0.1111111111111111,
                            "#46039f"
                          ],
                          [
                            0.2222222222222222,
                            "#7201a8"
                          ],
                          [
                            0.3333333333333333,
                            "#9c179e"
                          ],
                          [
                            0.4444444444444444,
                            "#bd3786"
                          ],
                          [
                            0.5555555555555556,
                            "#d8576b"
                          ],
                          [
                            0.6666666666666666,
                            "#ed7953"
                          ],
                          [
                            0.7777777777777778,
                            "#fb9f3a"
                          ],
                          [
                            0.8888888888888888,
                            "#fdca26"
                          ],
                          [
                            1,
                            "#f0f921"
                          ]
                        ],
                        "type": "contour"
                      }
                    ],
                    "contourcarpet": [
                      {
                        "colorbar": {
                          "outlinewidth": 0,
                          "ticks": ""
                        },
                        "type": "contourcarpet"
                      }
                    ],
                    "heatmap": [
                      {
                        "colorbar": {
                          "outlinewidth": 0,
                          "ticks": ""
                        },
                        "colorscale": [
                          [
                            0,
                            "#0d0887"
                          ],
                          [
                            0.1111111111111111,
                            "#46039f"
                          ],
                          [
                            0.2222222222222222,
                            "#7201a8"
                          ],
                          [
                            0.3333333333333333,
                            "#9c179e"
                          ],
                          [
                            0.4444444444444444,
                            "#bd3786"
                          ],
                          [
                            0.5555555555555556,
                            "#d8576b"
                          ],
                          [
                            0.6666666666666666,
                            "#ed7953"
                          ],
                          [
                            0.7777777777777778,
                            "#fb9f3a"
                          ],
                          [
                            0.8888888888888888,
                            "#fdca26"
                          ],
                          [
                            1,
                            "#f0f921"
                          ]
                        ],
                        "type": "heatmap"
                      }
                    ],
                    "histogram": [
                      {
                        "marker": {
                          "pattern": {
                            "fillmode": "overlay",
                            "size": 10,
                            "solidity": 0.2
                          }
                        },
                        "type": "histogram"
                      }
                    ],
                    "histogram2d": [
                      {
                        "colorbar": {
                          "outlinewidth": 0,
                          "ticks": ""
                        },
                        "colorscale": [
                          [
                            0,
                            "#0d0887"
                          ],
                          [
                            0.1111111111111111,
                            "#46039f"
                          ],
                          [
                            0.2222222222222222,
                            "#7201a8"
                          ],
                          [
                            0.3333333333333333,
                            "#9c179e"
                          ],
                          [
                            0.4444444444444444,
                            "#bd3786"
                          ],
                          [
                            0.5555555555555556,
                            "#d8576b"
                          ],
                          [
                            0.6666666666666666,
                            "#ed7953"
                          ],
                          [
                            0.7777777777777778,
                            "#fb9f3a"
                          ],
                          [
                            0.8888888888888888,
                            "#fdca26"
                          ],
                          [
                            1,
                            "#f0f921"
                          ]
                        ],
                        "type": "histogram2d"
                      }
                    ],
                    "histogram2dcontour": [
                      {
                        "colorbar": {
                          "outlinewidth": 0,
                          "ticks": ""
                        },
                        "colorscale": [
                          [
                            0,
                            "#0d0887"
                          ],
                          [
                            0.1111111111111111,
                            "#46039f"
                          ],
                          [
                            0.2222222222222222,
                            "#7201a8"
                          ],
                          [
                            0.3333333333333333,
                            "#9c179e"
                          ],
                          [
                            0.4444444444444444,
                            "#bd3786"
                          ],
                          [
                            0.5555555555555556,
                            "#d8576b"
                          ],
                          [
                            0.6666666666666666,
                            "#ed7953"
                          ],
                          [
                            0.7777777777777778,
                            "#fb9f3a"
                          ],
                          [
                            0.8888888888888888,
                            "#fdca26"
                          ],
                          [
                            1,
                            "#f0f921"
                          ]
                        ],
                        "type": "histogram2dcontour"
                      }
                    ],
                    "mesh3d": [
                      {
                        "colorbar": {
                          "outlinewidth": 0,
                          "ticks": ""
                        },
                        "type": "mesh3d"
                      }
                    ],
                    "parcoords": [
                      {
                        "line": {
                          "colorbar": {
                            "outlinewidth": 0,
                            "ticks": ""
                          }
                        },
                        "type": "parcoords"
                      }
                    ],
                    "pie": [
                      {
                        "automargin": true,
                        "type": "pie"
                      }
                    ],
                    "scatter": [
                      {
                        "fillpattern": {
                          "fillmode": "overlay",
                          "size": 10,
                          "solidity": 0.2
                        },
                        "type": "scatter"
                      }
                    ],
                    "scatter3d": [
                      {
                        "line": {
                          "colorbar": {
                            "outlinewidth": 0,
                            "ticks": ""
                          }
                        },
                        "marker": {
                          "colorbar": {
                            "outlinewidth": 0,
                            "ticks": ""
                          }
                        },
                        "type": "scatter3d"
                      }
                    ],
                    "scattercarpet": [
                      {
                        "marker": {
                          "colorbar": {
                            "outlinewidth": 0,
                            "ticks": ""
                          }
                        },
                        "type": "scattercarpet"
                      }
                    ],
                    "scattergeo": [
                      {
                        "marker": {
                          "colorbar": {
                            "outlinewidth": 0,
                            "ticks": ""
                          }
                        },
                        "type": "scattergeo"
                      }
                    ],
                    "scattergl": [
                      {
                        "marker": {
                          "colorbar": {
                            "outlinewidth": 0,
                            "ticks": ""
                          }
                        },
                        "type": "scattergl"
                      }
                    ],
                    "scattermap": [
                      {
                        "marker": {
                          "colorbar": {
                            "outlinewidth": 0,
                            "ticks": ""
                          }
                        },
                        "type": "scattermap"
                      }
                    ],
                    "scattermapbox": [
                      {
                        "marker": {
                          "colorbar": {
                            "outlinewidth": 0,
                            "ticks": ""
                          }
                        },
                        "type": "scattermapbox"
                      }
                    ],
                    "scatterpolar": [
                      {
                        "marker": {
                          "colorbar": {
                            "outlinewidth": 0,
                            "ticks": ""
                          }
                        },
                        "type": "scatterpolar"
                      }
                    ],
                    "scatterpolargl": [
                      {
                        "marker": {
                          "colorbar": {
                            "outlinewidth": 0,
                            "ticks": ""
                          }
                        },
                        "type": "scatterpolargl"
                      }
                    ],
                    "scatterternary": [
                      {
                        "marker": {
                          "colorbar": {
                            "outlinewidth": 0,
                            "ticks": ""
                          }
                        },
                        "type": "scatterternary"
                      }
                    ],
                    "surface": [
                      {
                        "colorbar": {
                          "outlinewidth": 0,
                          "ticks": ""
                        },
                        "colorscale": [
                          [
                            0,
                            "#0d0887"
                          ],
                          [
                            0.1111111111111111,
                            "#46039f"
                          ],
                          [
                            0.2222222222222222,
                            "#7201a8"
                          ],
                          [
                            0.3333333333333333,
                            "#9c179e"
                          ],
                          [
                            0.4444444444444444,
                            "#bd3786"
                          ],
                          [
                            0.5555555555555556,
                            "#d8576b"
                          ],
                          [
                            0.6666666666666666,
                            "#ed7953"
                          ],
                          [
                            0.7777777777777778,
                            "#fb9f3a"
                          ],
                          [
                            0.8888888888888888,
                            "#fdca26"
                          ],
                          [
                            1,
                            "#f0f921"
                          ]
                        ],
                        "type": "surface"
                      }
                    ],
                    "table": [
                      {
                        "cells": {
                          "fill": {
                            "color": "#EBF0F8"
                          },
                          "line": {
                            "color": "white"
                          }
                        },
                        "header": {
                          "fill": {
                            "color": "#C8D4E3"
                          },
                          "line": {
                            "color": "white"
                          }
                        },
                        "type": "table"
                      }
                    ]
                  },
                  "layout": {
                    "annotationdefaults": {
                      "arrowcolor": "#2a3f5f",
                      "arrowhead": 0,
                      "arrowwidth": 1
                    },
                    "autotypenumbers": "strict",
                    "coloraxis": {
                      "colorbar": {
                        "outlinewidth": 0,
                        "ticks": ""
                      }
                    },
                    "colorscale": {
                      "diverging": [
                        [
                          0,
                          "#8e0152"
                        ],
                        [
                          0.1,
                          "#c51b7d"
                        ],
                        [
                          0.2,
                          "#de77ae"
                        ],
                        [
                          0.3,
                          "#f1b6da"
                        ],
                        [
                          0.4,
                          "#fde0ef"
                        ],
                        [
                          0.5,
                          "#f7f7f7"
                        ],
                        [
                          0.6,
                          "#e6f5d0"
                        ],
                        [
                          0.7,
                          "#b8e186"
                        ],
                        [
                          0.8,
                          "#7fbc41"
                        ],
                        [
                          0.9,
                          "#4d9221"
                        ],
                        [
                          1,
                          "#276419"
                        ]
                      ],
                      "sequential": [
                        [
                          0,
                          "#0d0887"
                        ],
                        [
                          0.1111111111111111,
                          "#46039f"
                        ],
                        [
                          0.2222222222222222,
                          "#7201a8"
                        ],
                        [
                          0.3333333333333333,
                          "#9c179e"
                        ],
                        [
                          0.4444444444444444,
                          "#bd3786"
                        ],
                        [
                          0.5555555555555556,
                          "#d8576b"
                        ],
                        [
                          0.6666666666666666,
                          "#ed7953"
                        ],
                        [
                          0.7777777777777778,
                          "#fb9f3a"
                        ],
                        [
                          0.8888888888888888,
                          "#fdca26"
                        ],
                        [
                          1,
                          "#f0f921"
                        ]
                      ],
                      "sequentialminus": [
                        [
                          0,
                          "#0d0887"
                        ],
                        [
                          0.1111111111111111,
                          "#46039f"
                        ],
                        [
                          0.2222222222222222,
                          "#7201a8"
                        ],
                        [
                          0.3333333333333333,
                          "#9c179e"
                        ],
                        [
                          0.4444444444444444,
                          "#bd3786"
                        ],
                        [
                          0.5555555555555556,
                          "#d8576b"
                        ],
                        [
                          0.6666666666666666,
                          "#ed7953"
                        ],
                        [
                          0.7777777777777778,
                          "#fb9f3a"
                        ],
                        [
                          0.8888888888888888,
                          "#fdca26"
                        ],
                        [
                          1,
                          "#f0f921"
                        ]
                      ]
                    },
                    "colorway": [
                      "#636efa",
                      "#EF553B",
                      "#00cc96",
                      "#ab63fa",
                      "#FFA15A",
                      "#19d3f3",
                      "#FF6692",
                      "#B6E880",
                      "#FF97FF",
                      "#FECB52"
                    ],
                    "font": {
                      "color": "#2a3f5f"
                    },
                    "geo": {
                      "bgcolor": "white",
                      "lakecolor": "white",
                      "landcolor": "#E5ECF6",
                      "showlakes": true,
                      "showland": true,
                      "subunitcolor": "white"
                    },
                    "hoverlabel": {
                      "align": "left"
                    },
                    "hovermode": "closest",
                    "mapbox": {
                      "style": "light"
                    },
                    "paper_bgcolor": "white",
                    "plot_bgcolor": "#E5ECF6",
                    "polar": {
                      "angularaxis": {
                        "gridcolor": "white",
                        "linecolor": "white",
                        "ticks": ""
                      },
                      "bgcolor": "#E5ECF6",
                      "radialaxis": {
                        "gridcolor": "white",
                        "linecolor": "white",
                        "ticks": ""
                      }
                    },
                    "scene": {
                      "xaxis": {
                        "backgroundcolor": "#E5ECF6",
                        "gridcolor": "white",
                        "gridwidth": 2,
                        "linecolor": "white",
                        "showbackground": true,
                        "ticks": "",
                        "zerolinecolor": "white"
                      },
                      "yaxis": {
                        "backgroundcolor": "#E5ECF6",
                        "gridcolor": "white",
                        "gridwidth": 2,
                        "linecolor": "white",
                        "showbackground": true,
                        "ticks": "",
                        "zerolinecolor": "white"
                      },
                      "zaxis": {
                        "backgroundcolor": "#E5ECF6",
                        "gridcolor": "white",
                        "gridwidth": 2,
                        "linecolor": "white",
                        "showbackground": true,
                        "ticks": "",
                        "zerolinecolor": "white"
                      }
                    },
                    "shapedefaults": {
                      "line": {
                        "color": "#2a3f5f"
                      }
                    },
                    "ternary": {
                      "aaxis": {
                        "gridcolor": "white",
                        "linecolor": "white",
                        "ticks": ""
                      },
                      "baxis": {
                        "gridcolor": "white",
                        "linecolor": "white",
                        "ticks": ""
                      },
                      "bgcolor": "#E5ECF6",
                      "caxis": {
                        "gridcolor": "white",
                        "linecolor": "white",
                        "ticks": ""
                      }
                    },
                    "title": {
                      "x": 0.05
                    },
                    "xaxis": {
                      "automargin": true,
                      "gridcolor": "white",
                      "linecolor": "white",
                      "ticks": "",
                      "title": {
                        "standoff": 15
                      },
                      "zerolinecolor": "white",
                      "zerolinewidth": 2
                    },
                    "yaxis": {
                      "automargin": true,
                      "gridcolor": "white",
                      "linecolor": "white",
                      "ticks": "",
                      "title": {
                        "standoff": 15
                      },
                      "zerolinecolor": "white",
                      "zerolinewidth": 2
                    }
                  }
                },
                "title": {
                  "font": {
                    "size": 15
                  },
                  "text": "US Exports and Partner GDP: Top Trading Countries",
                  "x": 0.5,
                  "xanchor": "center",
                  "yanchor": "top"
                },
                "xaxis": {
                  "anchor": "y",
                  "domain": [
                    0,
                    0.31999999999999995
                  ],
                  "title": {},
                  "type": "log"
                },
                "xaxis2": {
                  "anchor": "y2",
                  "domain": [
                    0.33999999999999997,
                    0.6599999999999999
                  ],
                  "matches": "x",
                  "title": {
                    "text": "Real GDP"
                  },
                  "type": "log"
                },
                "xaxis3": {
                  "anchor": "y3",
                  "domain": [
                    0.6799999999999999,
                    0.9999999999999999
                  ],
                  "matches": "x",
                  "title": {
                    "text": "Real GDP"
                  },
                  "type": "log"
                },
                "yaxis": {
                  "anchor": "x",
                  "domain": [
                    0,
                    1
                  ],
                  "title": {},
                  "type": "log"
                },
                "yaxis2": {
                  "anchor": "x2",
                  "domain": [
                    0,
                    1
                  ],
                  "matches": "y",
                  "showticklabels": false,
                  "type": "log"
                },
                "yaxis3": {
                  "anchor": "x3",
                  "domain": [
                    0,
                    1
                  ],
                  "matches": "y",
                  "showticklabels": false,
                  "type": "log"
                }
              }
            }
          },
          "metadata": {},
          "output_type": "display_data"
        }
      ],
      "source": [
        "# Correlation analysis\n",
        "fig = plot_scatter(\n",
        "    df=top_countries_df,\n",
        "    x='Real GDP',\n",
        "    y='Export',\n",
        "    facet_col='category',\n",
        "    color='Country',\n",
        "    title='US Exports and Partner GDP: Top Trading Countries',\n",
        ")\n",
        "\n",
        "# set axes to log scale\n",
        "fig.update_xaxes(type=\"log\")\n",
        "fig.update_yaxes(type=\"log\")\n",
        "\n",
        "# simplify facet titles by removing \"category=\"\n",
        "fig.for_each_annotation(lambda a: a.update(text=a.text.split(\"=\")[-1]))\n",
        "\n",
        "fig.update_layout(\n",
        "    margin=dict(t=100)  # increases top margin (pixels)\n",
        ")\n",
        "fig.show()"
      ]
    },
    {
      "cell_type": "code",
      "execution_count": 868,
      "metadata": {},
      "outputs": [
        {
          "name": "stdout",
          "output_type": "stream",
          "text": [
            "Correlation for Parts: -0.01\n",
            "Correlation for Passenger Vehicles: 0.21\n",
            "Correlation for Trucks: -0.05\n"
          ]
        }
      ],
      "source": [
        "for cat in top_countries_df['category'].unique():\n",
        "    subset = top_countries_df[top_countries_df['category'] == cat]\n",
        "    corr = subset['Real GDP'].corr(subset['Export'])\n",
        "    print(f\"Correlation for {cat}: {corr:.2f}\")"
      ]
    },
    {
      "cell_type": "markdown",
      "metadata": {},
      "source": [
        "### Comparing GDP and Exports: USMCA vs. Other Countries\n",
        "\n",
        "Let’s explore how GDP and export values differ between USMCA members and other trading partners."
      ]
    },
    {
      "cell_type": "code",
      "execution_count": 869,
      "metadata": {},
      "outputs": [
        {
          "data": {
            "application/vnd.plotly.v1+json": {
              "config": {
                "plotlyServerURL": "https://plot.ly"
              },
              "data": [
                {
                  "hovertemplate": "Trade bloc=Other<br>year=2008<br>category=Parts<br>Real GDP=%{x}<br>Export=%{y}<extra></extra>",
                  "legendgroup": "Other",
                  "marker": {
                    "color": "#636efa",
                    "symbol": "circle"
                  },
                  "mode": "markers",
                  "name": "Other",
                  "orientation": "v",
                  "showlegend": true,
                  "type": "scatter",
                  "x": {
                    "bdata": "AABY4wGaBEIAAAi7Z14CQgAAkZPms0FCAADEJisLMEIAAIAqsEjZQQAA7iSmDV9CAADAxS0QAkIAAADeKSLoQQCA2D0OfnBCAEAxx+pXVUIAAHrXmn8jQgAAeNkokQVCAACMWKHEF0IAAIWHlic+QgAAYK3M0fVBAADaQOX4JkIAAN1HbixZQgAAAPLUC9xBAAAwGos2AEIAAAA+H4v+QQAA5A5e3RVCAAA4hJbhDEIAALCqZF4GQgBQ4gn1E3dCAADYUMcDCEIAAADTLY4mQgAAMM2sUv5BAAAAZQ6O4kEAAACNkzHYQQAAoLUujAxCAADsP+BmFkIAADCIS77xQQAAgAd4l95BAIBWvPNCRkIAOIJQ0y+XQgAAhO3pt0lCAABAyGaX/0EAAOi6fOQkQgAAMCptJR1CAACaaecHKkIAAKTvCRwUQgAAKZhAyERCAADclxwPFkIAQGHghCFRQgAAgJcU0cFBAADiPpSqJ0IAABPoicMwQgCAKJaFgk5CAAB8M+I0E0IAAPy2PMgUQgAAIEYJ2edBAABkH6Q2HkIAACASQ4vsQQCADlgprUxCALDxUoz7gEIAAABiKH31QQAA6NodXQNCAAAALrDQ0UEAAJgsfUoFQgDga6slTIdCAADQ3Ln3HEIAgBDTW9pOQgAAAOS2dMtBAABAgV8qJ0IAAIA3egHLQQAAQCEIJelBAAAAmUo7EEIAgN/Xh+hNQgAA5HDS4TtCAAB4LCPSD0IA4LJZKRlzQgBgnoLzOWFCAIAULbAiVkIAgKWAtOBJQgAA3EvlsktCAICSVI/ofEIAALiiOyYLQgAAJzq0RI9CAACMwZI6HUIAAJ39xWw/QgAA8LNOQSdCAAAArnXroEEAAKH/K5o4QgAAMJL0JfNBAAAQjKqm/0EAAIyCZlwZQgAAli3NqSFCAACAwtF63EEAAODRjNTgQQAAnAjVWiJCAADQKzMNKUIAAHxhwUQdQgAAaBx6IgNCAAAQ8U89+EEAAIVrl5lJQgAA4NP4iOdBAADoXKF8BUIAAJBmcZn+QQAAwJMC9fFBAABAtJBNAUIAAGDaugn4QQAAwLVBX/lBAAAg7NqG7EEAAFIn0bkzQgAAoBbBuwJCAACE22EaIEIAAHCt7Mf+QQAA/Es6wxBCAAAVFy8gZkIAgEE+LrlBQgAAcP/9CQJCAABg8tOP+EEAgH5HgD9TQgAAaJ9aIQBCAAAYhOv2VEIAAI6ZxOoqQgAAiX/dwEtCAAAA+mnprkEAANL1WMUgQgAA4M1L4AlCAAB0eg0JGUIAACFI0/M/QgAAZwNAcUhCAMA8lYibVkIAAOXyt5lIQgAANx9dVjRCAAAu3EDjQ0IAIMDrouNyQgAAgJJiqfNBAACA3xc+xkEAAACgfSepQQAAzdvoUV1CAAB4HhmOCUIAAICihinQQQAAWm6sIElCAADqVisoMkIAAFxTVt8kQgAAADzM+sxBAAB5hmfhUUIAAACPMQ1xQgBQikJ1IXJCAADeuP0EKkIAAADaNZTJQQAAwCM3n9pBAACA/XE0x0EAAPgmP04rQgAAYL8BRfBBAMASMyr9WUIAIHxlvVtiQgAAwJcr2vNBAAA4wPv5HEIAANfeWupSQgAAAKs8C9BBAAAgGu727EEAAOQq71EWQgAAsM+ldSJCACAGbyJSYUIAAPSiI40UQgAABbSC/TtCAABMn3C2UUIAmJktCNGDQgAAtta7PiRCAAA2fh1iKEIAgF/YWWdCQgAASiKoPSpCAADoJcWNCUIAANhRzl8DQg==",
                    "dtype": "f8"
                  },
                  "xaxis": "x",
                  "y": {
                    "bdata": "ykqbARo/FQCXizgBZwsWARNtLgDovyAP1XUpAFXAUgCaLSI5tsPmE2jpEwDyaxwBPJRqADhwEAABak8ArOXtAMBxvhlkLl8AV5D0ALolLACKne4AVY4DAGmnAQAKf9AypyMJAEqwNwCdCwIAAAAAAPIPAAAPaiQAYSkQAHWKSgDPgwMA/V1jFFAgejaVDpUKiLIWAILH0QNJFEAANVQYAK80JABGyd0BSu0MABaNNwJv9jgAnbHAA7T+OQRYjHUE+L45AbSCMAAyMAEAaR4GACpgAwC3iFwFwVLGLOpPDwAn0xoAMmgFAKY/mACeR7plOn2PAANS1ACO6goAxUvcBAAAAAD/tD0AP1ZeBw5eOAdMT/EElkNlABaX+gvtTR4CAAAAADlZ5gDkt6wCYBFsCnO2PQGV4LFc/EqiAO3HXQCxD1wAAAAAAArLlwaLbQEAzGcAAJJEUwBXI3ECAAAAAAqiHQBLi6MAsQ9JA9pRBwApdAkAgf0BAK4BzAFfOgQAPiEMABJjCwBCqywAcAAPAPjEAABZLxAAFuwEAFBaTQBduRcA800AADPiMgGAbxEAfN7mEPXEpAL2BuYArsULAFsd2AMH5wEA1wVvAtIyEwEwgXwAnMYAAItVfQIcDQQAROQQAkM/9QZL07oDr8VUBRjEwAHIBlEBdW93AMOHmA6wMAAAZwkDAE5KAABNKXcQGfsZAGU3AQCJzEEWUU7XAOpTKgAaVAAAr7SAD2PKBhmT7MoMYNMHAHXlHQAzYTgA0EoUAO6tAAABZE8ACTuHDTovogEAAAAAwz6FAPpqBAetYQAAkcUyAOKB+QGTXxUAURIPBuzjDwCBD5sBisl3DwyzLD6GL64ADn8GAKRVvADjRzQAFDtWAKa+EgA=",
                    "dtype": "i4"
                  },
                  "yaxis": "y"
                },
                {
                  "hovertemplate": "Trade bloc=Other<br>year=2008<br>category=Passenger Vehicles<br>Real GDP=%{x}<br>Export=%{y}<extra></extra>",
                  "legendgroup": "Other",
                  "marker": {
                    "color": "#636efa",
                    "symbol": "circle"
                  },
                  "mode": "markers",
                  "name": "Other",
                  "orientation": "v",
                  "showlegend": false,
                  "type": "scatter",
                  "x": {
                    "bdata": "AADuJKYNX0IAAADeKSLoQQCA2D0OfnBCAEAxx+pXVUIAAHjZKJEFQgAA3UduLFlCAAAAPh+L/kEAUOIJ9RN3QgAAANMtjiZCAAAwiEu+8UEAAIAHeJfeQQCAVrzzQkZCADiCUNMvl0IAAITt6bdJQgAA6Lp85CRCAACaaecHKkIAACmYQMhEQgBAYeCEIVFCAADiPpSqJ0IAABPoicMwQgCAKJaFgk5CAAB8M+I0E0IAAPy2PMgUQgCADlgprUxCALDxUoz7gEIAAAAusNDRQQAAmCx9SgVCAOBrqyVMh0IAgBDTW9pOQgAAQIFfKidCAAAAmUo7EEIAgN/Xh+hNQgAA5HDS4TtCAOCyWSkZc0IAYJ6C8zlhQgCApYC04ElCAADcS+WyS0IAgJJUj+h8QgAAJzq0RI9CAACMwZI6HUIAAKH/K5o4QgAAjIJmXBlCAACWLc2pIUIAAJwI1VoiQgAA0CszDSlCAAB8YcFEHUIAAIVrl5lJQgAAUifRuTNCAAAVFy8gZkIAgEE+LrlBQgAAcP/9CQJCAIB+R4A/U0IAABiE6/ZUQgAAjpnE6ipCAACJf93AS0IAANL1WMUgQgAAdHoNCRlCAAAhSNPzP0IAAGcDQHFIQgDAPJWIm1ZCAADl8reZSEIAAC7cQONDQgAgwOui43JCAADN2+hRXUIAAFpurCBJQgAA6lYrKDJCAAB5hmfhUUIAAACPMQ1xQgBQikJ1IXJCAMASMyr9WUIAIHxlvVtiQgAAOMD7+RxCAADX3lrqUkIAAOQq71EWQgAgBm8iUmFCAAAFtIL9O0IAAEyfcLZRQgCYmS0I0YNCAAC21rs+JEIAADZ+HWIoQgCAX9hZZ0JC",
                    "dtype": "f8"
                  },
                  "xaxis": "x2",
                  "y": [
                    59185828,
                    7165031,
                    564502516,
                    35949387,
                    27877839,
                    181493474,
                    750919,
                    119004360,
                    11826575,
                    15770987,
                    395162,
                    261205066,
                    681596584,
                    82340686,
                    30522002,
                    11672340,
                    10700396,
                    9068207,
                    67438643,
                    26803922,
                    10783963,
                    5615302,
                    5694437,
                    140973993,
                    134546371,
                    733185,
                    17494102,
                    7271930736,
                    50414372,
                    31987141,
                    15174346,
                    28059222,
                    11325134,
                    8463261,
                    38598,
                    4072599,
                    187992421,
                    269223450,
                    388126905,
                    68404180,
                    739321946,
                    12202688,
                    133059708,
                    8963437,
                    1534245,
                    35300,
                    231739,
                    7320123,
                    145975102,
                    37948875,
                    4378176,
                    129244823,
                    25855437,
                    349187436,
                    1319321,
                    69245742,
                    21804168,
                    37793103,
                    25531701,
                    48176320,
                    24396455,
                    15393403,
                    619718593,
                    2687034032,
                    11517689,
                    9273804,
                    230569979,
                    228776236,
                    119387096,
                    57357624,
                    29798214,
                    291458,
                    6067122,
                    2219388,
                    49086466,
                    120002852,
                    1799478615,
                    883043780,
                    3664312,
                    1474500,
                    85891512
                  ],
                  "yaxis": "y2"
                },
                {
                  "hovertemplate": "Trade bloc=Other<br>year=2008<br>category=Trucks<br>Real GDP=%{x}<br>Export=%{y}<extra></extra>",
                  "legendgroup": "Other",
                  "marker": {
                    "color": "#636efa",
                    "symbol": "circle"
                  },
                  "mode": "markers",
                  "name": "Other",
                  "orientation": "v",
                  "showlegend": false,
                  "type": "scatter",
                  "x": {
                    "bdata": "AADuJKYNX0IAgNg9Dn5wQgBAMcfqV1VCAACMWKHEF0IAANpA5fgmQgAA3UduLFlCAAA4hJbhDEIAUOIJ9RN3QgAAANMtjiZCAAAwiEu+8UEAAIAHeJfeQQCAVrzzQkZCADiCUNMvl0IAAOi6fOQkQgAAKZhAyERCAEBh4IQhUUIAAOI+lKonQgAA/LY8yBRCAIAOWCmtTEIAsPFSjPuAQgAAmCx9SgVCAOBrqyVMh0IAANDcufccQgCAENNb2k5CAIDf14foTUIAAORw0uE7QgDgslkpGXNCAIClgLTgSUIAANxL5bJLQgCAklSP6HxCAAAnOrREj0IAAIzBkjodQgAAjIJmXBlCAADQKzMNKUIAAIVrl5lJQgAA6FyhfAVCAADAkwL18UEAACDs2obsQQAAoBbBuwJCAACE22EaIEIAABUXLyBmQgCAQT4uuUFCAABon1ohAEIAABiE6/ZUQgAAjpnE6ipCAADS9VjFIEIAACFI0/M/QgAAZwNAcUhCAMA8lYibVkIAAOXyt5lIQgAALtxA40NCACDA66LjckIAAM3b6FFdQgAAeB4ZjglCAABabqwgSUIAAOpWKygyQgAAXFNW3yRCAAB5hmfhUUIAAACPMQ1xQgBQikJ1IXJCAADeuP0EKkIAwBIzKv1ZQgAgfGW9W2JCAADX3lrqUkIAALDPpXUiQgAgBm8iUmFCAAAFtIL9O0IAmJktCNGDQgCAX9hZZ0JC",
                    "dtype": "f8"
                  },
                  "xaxis": "x3",
                  "y": {
                    "bdata": "DQM8AFPOwgzQ+wEARVRAAEhxAADMSfEAAAAAAOm5bwA4gAsALW0oAAAAAADgxfoGXhh2AbqACAGI2wAATccOACfvOgEAAAAAxVQlArOUNwChYwUAx0qWBT+BJQDrWCgAr3rrAAAAAADiOSoAKJQCAKMW0wA36IAA6bMQBGHaXgAUuBAAOAgLAAAAAADoWwIAAAAAAAAAAACP0nwAAAAAAPI/kwB03xYBAAAAAC0jCwBlMIQAyJXVAAEaCgKFxAwAtFQlAIbUAAC/VQYAzTorBJGhkwPAPwYA2HQtAGwtAgBIcQAAnZ/wCc4+KAOHthUAAAAAACLaLgA2FhYAwPMAAFDDAACN1KQCvBcJANSRSwGfPuwA",
                    "dtype": "i4"
                  },
                  "yaxis": "y3"
                },
                {
                  "hovertemplate": "Trade bloc=USMCA<br>year=2008<br>category=Parts<br>Real GDP=%{x}<br>Export=%{y}<extra></extra>",
                  "legendgroup": "USMCA",
                  "marker": {
                    "color": "#EF553B",
                    "symbol": "diamond"
                  },
                  "mode": "markers",
                  "name": "USMCA",
                  "orientation": "v",
                  "showlegend": true,
                  "type": "scatter",
                  "x": {
                    "bdata": "ABALXVBadEIAQLyjt5BvQg==",
                    "dtype": "f8"
                  },
                  "xaxis": "x",
                  "y": [
                    28258965666,
                    13971074278
                  ],
                  "yaxis": "y"
                },
                {
                  "hovertemplate": "Trade bloc=USMCA<br>year=2008<br>category=Passenger Vehicles<br>Real GDP=%{x}<br>Export=%{y}<extra></extra>",
                  "legendgroup": "USMCA",
                  "marker": {
                    "color": "#EF553B",
                    "symbol": "diamond"
                  },
                  "mode": "markers",
                  "name": "USMCA",
                  "orientation": "v",
                  "showlegend": false,
                  "type": "scatter",
                  "x": {
                    "bdata": "ABALXVBadEIAQLyjt5BvQg==",
                    "dtype": "f8"
                  },
                  "xaxis": "x2",
                  "y": [
                    17859000199,
                    4053831183
                  ],
                  "yaxis": "y2"
                },
                {
                  "hovertemplate": "Trade bloc=USMCA<br>year=2008<br>category=Trucks<br>Real GDP=%{x}<br>Export=%{y}<extra></extra>",
                  "legendgroup": "USMCA",
                  "marker": {
                    "color": "#EF553B",
                    "symbol": "diamond"
                  },
                  "mode": "markers",
                  "name": "USMCA",
                  "orientation": "v",
                  "showlegend": false,
                  "type": "scatter",
                  "x": {
                    "bdata": "ABALXVBadEIAQLyjt5BvQg==",
                    "dtype": "f8"
                  },
                  "xaxis": "x3",
                  "y": [
                    3804919203,
                    183709107
                  ],
                  "yaxis": "y3"
                }
              ],
              "frames": [
                {
                  "data": [
                    {
                      "hovertemplate": "Trade bloc=Other<br>year=2008<br>category=Parts<br>Real GDP=%{x}<br>Export=%{y}<extra></extra>",
                      "legendgroup": "Other",
                      "marker": {
                        "color": "#636efa",
                        "symbol": "circle"
                      },
                      "mode": "markers",
                      "name": "Other",
                      "orientation": "v",
                      "showlegend": true,
                      "type": "scatter",
                      "x": {
                        "bdata": "AABY4wGaBEIAAAi7Z14CQgAAkZPms0FCAADEJisLMEIAAIAqsEjZQQAA7iSmDV9CAADAxS0QAkIAAADeKSLoQQCA2D0OfnBCAEAxx+pXVUIAAHrXmn8jQgAAeNkokQVCAACMWKHEF0IAAIWHlic+QgAAYK3M0fVBAADaQOX4JkIAAN1HbixZQgAAAPLUC9xBAAAwGos2AEIAAAA+H4v+QQAA5A5e3RVCAAA4hJbhDEIAALCqZF4GQgBQ4gn1E3dCAADYUMcDCEIAAADTLY4mQgAAMM2sUv5BAAAAZQ6O4kEAAACNkzHYQQAAoLUujAxCAADsP+BmFkIAADCIS77xQQAAgAd4l95BAIBWvPNCRkIAOIJQ0y+XQgAAhO3pt0lCAABAyGaX/0EAAOi6fOQkQgAAMCptJR1CAACaaecHKkIAAKTvCRwUQgAAKZhAyERCAADclxwPFkIAQGHghCFRQgAAgJcU0cFBAADiPpSqJ0IAABPoicMwQgCAKJaFgk5CAAB8M+I0E0IAAPy2PMgUQgAAIEYJ2edBAABkH6Q2HkIAACASQ4vsQQCADlgprUxCALDxUoz7gEIAAABiKH31QQAA6NodXQNCAAAALrDQ0UEAAJgsfUoFQgDga6slTIdCAADQ3Ln3HEIAgBDTW9pOQgAAAOS2dMtBAABAgV8qJ0IAAIA3egHLQQAAQCEIJelBAAAAmUo7EEIAgN/Xh+hNQgAA5HDS4TtCAAB4LCPSD0IA4LJZKRlzQgBgnoLzOWFCAIAULbAiVkIAgKWAtOBJQgAA3EvlsktCAICSVI/ofEIAALiiOyYLQgAAJzq0RI9CAACMwZI6HUIAAJ39xWw/QgAA8LNOQSdCAAAArnXroEEAAKH/K5o4QgAAMJL0JfNBAAAQjKqm/0EAAIyCZlwZQgAAli3NqSFCAACAwtF63EEAAODRjNTgQQAAnAjVWiJCAADQKzMNKUIAAHxhwUQdQgAAaBx6IgNCAAAQ8U89+EEAAIVrl5lJQgAA4NP4iOdBAADoXKF8BUIAAJBmcZn+QQAAwJMC9fFBAABAtJBNAUIAAGDaugn4QQAAwLVBX/lBAAAg7NqG7EEAAFIn0bkzQgAAoBbBuwJCAACE22EaIEIAAHCt7Mf+QQAA/Es6wxBCAAAVFy8gZkIAgEE+LrlBQgAAcP/9CQJCAABg8tOP+EEAgH5HgD9TQgAAaJ9aIQBCAAAYhOv2VEIAAI6ZxOoqQgAAiX/dwEtCAAAA+mnprkEAANL1WMUgQgAA4M1L4AlCAAB0eg0JGUIAACFI0/M/QgAAZwNAcUhCAMA8lYibVkIAAOXyt5lIQgAANx9dVjRCAAAu3EDjQ0IAIMDrouNyQgAAgJJiqfNBAACA3xc+xkEAAACgfSepQQAAzdvoUV1CAAB4HhmOCUIAAICihinQQQAAWm6sIElCAADqVisoMkIAAFxTVt8kQgAAADzM+sxBAAB5hmfhUUIAAACPMQ1xQgBQikJ1IXJCAADeuP0EKkIAAADaNZTJQQAAwCM3n9pBAACA/XE0x0EAAPgmP04rQgAAYL8BRfBBAMASMyr9WUIAIHxlvVtiQgAAwJcr2vNBAAA4wPv5HEIAANfeWupSQgAAAKs8C9BBAAAgGu727EEAAOQq71EWQgAAsM+ldSJCACAGbyJSYUIAAPSiI40UQgAABbSC/TtCAABMn3C2UUIAmJktCNGDQgAAtta7PiRCAAA2fh1iKEIAgF/YWWdCQgAASiKoPSpCAADoJcWNCUIAANhRzl8DQg==",
                        "dtype": "f8"
                      },
                      "xaxis": "x",
                      "y": {
                        "bdata": "ykqbARo/FQCXizgBZwsWARNtLgDovyAP1XUpAFXAUgCaLSI5tsPmE2jpEwDyaxwBPJRqADhwEAABak8ArOXtAMBxvhlkLl8AV5D0ALolLACKne4AVY4DAGmnAQAKf9AypyMJAEqwNwCdCwIAAAAAAPIPAAAPaiQAYSkQAHWKSgDPgwMA/V1jFFAgejaVDpUKiLIWAILH0QNJFEAANVQYAK80JABGyd0BSu0MABaNNwJv9jgAnbHAA7T+OQRYjHUE+L45AbSCMAAyMAEAaR4GACpgAwC3iFwFwVLGLOpPDwAn0xoAMmgFAKY/mACeR7plOn2PAANS1ACO6goAxUvcBAAAAAD/tD0AP1ZeBw5eOAdMT/EElkNlABaX+gvtTR4CAAAAADlZ5gDkt6wCYBFsCnO2PQGV4LFc/EqiAO3HXQCxD1wAAAAAAArLlwaLbQEAzGcAAJJEUwBXI3ECAAAAAAqiHQBLi6MAsQ9JA9pRBwApdAkAgf0BAK4BzAFfOgQAPiEMABJjCwBCqywAcAAPAPjEAABZLxAAFuwEAFBaTQBduRcA800AADPiMgGAbxEAfN7mEPXEpAL2BuYArsULAFsd2AMH5wEA1wVvAtIyEwEwgXwAnMYAAItVfQIcDQQAROQQAkM/9QZL07oDr8VUBRjEwAHIBlEBdW93AMOHmA6wMAAAZwkDAE5KAABNKXcQGfsZAGU3AQCJzEEWUU7XAOpTKgAaVAAAr7SAD2PKBhmT7MoMYNMHAHXlHQAzYTgA0EoUAO6tAAABZE8ACTuHDTovogEAAAAAwz6FAPpqBAetYQAAkcUyAOKB+QGTXxUAURIPBuzjDwCBD5sBisl3DwyzLD6GL64ADn8GAKRVvADjRzQAFDtWAKa+EgA=",
                        "dtype": "i4"
                      },
                      "yaxis": "y"
                    },
                    {
                      "hovertemplate": "Trade bloc=Other<br>year=2008<br>category=Passenger Vehicles<br>Real GDP=%{x}<br>Export=%{y}<extra></extra>",
                      "legendgroup": "Other",
                      "marker": {
                        "color": "#636efa",
                        "symbol": "circle"
                      },
                      "mode": "markers",
                      "name": "Other",
                      "orientation": "v",
                      "showlegend": false,
                      "type": "scatter",
                      "x": {
                        "bdata": "AADuJKYNX0IAAADeKSLoQQCA2D0OfnBCAEAxx+pXVUIAAHjZKJEFQgAA3UduLFlCAAAAPh+L/kEAUOIJ9RN3QgAAANMtjiZCAAAwiEu+8UEAAIAHeJfeQQCAVrzzQkZCADiCUNMvl0IAAITt6bdJQgAA6Lp85CRCAACaaecHKkIAACmYQMhEQgBAYeCEIVFCAADiPpSqJ0IAABPoicMwQgCAKJaFgk5CAAB8M+I0E0IAAPy2PMgUQgCADlgprUxCALDxUoz7gEIAAAAusNDRQQAAmCx9SgVCAOBrqyVMh0IAgBDTW9pOQgAAQIFfKidCAAAAmUo7EEIAgN/Xh+hNQgAA5HDS4TtCAOCyWSkZc0IAYJ6C8zlhQgCApYC04ElCAADcS+WyS0IAgJJUj+h8QgAAJzq0RI9CAACMwZI6HUIAAKH/K5o4QgAAjIJmXBlCAACWLc2pIUIAAJwI1VoiQgAA0CszDSlCAAB8YcFEHUIAAIVrl5lJQgAAUifRuTNCAAAVFy8gZkIAgEE+LrlBQgAAcP/9CQJCAIB+R4A/U0IAABiE6/ZUQgAAjpnE6ipCAACJf93AS0IAANL1WMUgQgAAdHoNCRlCAAAhSNPzP0IAAGcDQHFIQgDAPJWIm1ZCAADl8reZSEIAAC7cQONDQgAgwOui43JCAADN2+hRXUIAAFpurCBJQgAA6lYrKDJCAAB5hmfhUUIAAACPMQ1xQgBQikJ1IXJCAMASMyr9WUIAIHxlvVtiQgAAOMD7+RxCAADX3lrqUkIAAOQq71EWQgAgBm8iUmFCAAAFtIL9O0IAAEyfcLZRQgCYmS0I0YNCAAC21rs+JEIAADZ+HWIoQgCAX9hZZ0JC",
                        "dtype": "f8"
                      },
                      "xaxis": "x2",
                      "y": [
                        59185828,
                        7165031,
                        564502516,
                        35949387,
                        27877839,
                        181493474,
                        750919,
                        119004360,
                        11826575,
                        15770987,
                        395162,
                        261205066,
                        681596584,
                        82340686,
                        30522002,
                        11672340,
                        10700396,
                        9068207,
                        67438643,
                        26803922,
                        10783963,
                        5615302,
                        5694437,
                        140973993,
                        134546371,
                        733185,
                        17494102,
                        7271930736,
                        50414372,
                        31987141,
                        15174346,
                        28059222,
                        11325134,
                        8463261,
                        38598,
                        4072599,
                        187992421,
                        269223450,
                        388126905,
                        68404180,
                        739321946,
                        12202688,
                        133059708,
                        8963437,
                        1534245,
                        35300,
                        231739,
                        7320123,
                        145975102,
                        37948875,
                        4378176,
                        129244823,
                        25855437,
                        349187436,
                        1319321,
                        69245742,
                        21804168,
                        37793103,
                        25531701,
                        48176320,
                        24396455,
                        15393403,
                        619718593,
                        2687034032,
                        11517689,
                        9273804,
                        230569979,
                        228776236,
                        119387096,
                        57357624,
                        29798214,
                        291458,
                        6067122,
                        2219388,
                        49086466,
                        120002852,
                        1799478615,
                        883043780,
                        3664312,
                        1474500,
                        85891512
                      ],
                      "yaxis": "y2"
                    },
                    {
                      "hovertemplate": "Trade bloc=Other<br>year=2008<br>category=Trucks<br>Real GDP=%{x}<br>Export=%{y}<extra></extra>",
                      "legendgroup": "Other",
                      "marker": {
                        "color": "#636efa",
                        "symbol": "circle"
                      },
                      "mode": "markers",
                      "name": "Other",
                      "orientation": "v",
                      "showlegend": false,
                      "type": "scatter",
                      "x": {
                        "bdata": "AADuJKYNX0IAgNg9Dn5wQgBAMcfqV1VCAACMWKHEF0IAANpA5fgmQgAA3UduLFlCAAA4hJbhDEIAUOIJ9RN3QgAAANMtjiZCAAAwiEu+8UEAAIAHeJfeQQCAVrzzQkZCADiCUNMvl0IAAOi6fOQkQgAAKZhAyERCAEBh4IQhUUIAAOI+lKonQgAA/LY8yBRCAIAOWCmtTEIAsPFSjPuAQgAAmCx9SgVCAOBrqyVMh0IAANDcufccQgCAENNb2k5CAIDf14foTUIAAORw0uE7QgDgslkpGXNCAIClgLTgSUIAANxL5bJLQgCAklSP6HxCAAAnOrREj0IAAIzBkjodQgAAjIJmXBlCAADQKzMNKUIAAIVrl5lJQgAA6FyhfAVCAADAkwL18UEAACDs2obsQQAAoBbBuwJCAACE22EaIEIAABUXLyBmQgCAQT4uuUFCAABon1ohAEIAABiE6/ZUQgAAjpnE6ipCAADS9VjFIEIAACFI0/M/QgAAZwNAcUhCAMA8lYibVkIAAOXyt5lIQgAALtxA40NCACDA66LjckIAAM3b6FFdQgAAeB4ZjglCAABabqwgSUIAAOpWKygyQgAAXFNW3yRCAAB5hmfhUUIAAACPMQ1xQgBQikJ1IXJCAADeuP0EKkIAwBIzKv1ZQgAgfGW9W2JCAADX3lrqUkIAALDPpXUiQgAgBm8iUmFCAAAFtIL9O0IAmJktCNGDQgCAX9hZZ0JC",
                        "dtype": "f8"
                      },
                      "xaxis": "x3",
                      "y": {
                        "bdata": "DQM8AFPOwgzQ+wEARVRAAEhxAADMSfEAAAAAAOm5bwA4gAsALW0oAAAAAADgxfoGXhh2AbqACAGI2wAATccOACfvOgEAAAAAxVQlArOUNwChYwUAx0qWBT+BJQDrWCgAr3rrAAAAAADiOSoAKJQCAKMW0wA36IAA6bMQBGHaXgAUuBAAOAgLAAAAAADoWwIAAAAAAAAAAACP0nwAAAAAAPI/kwB03xYBAAAAAC0jCwBlMIQAyJXVAAEaCgKFxAwAtFQlAIbUAAC/VQYAzTorBJGhkwPAPwYA2HQtAGwtAgBIcQAAnZ/wCc4+KAOHthUAAAAAACLaLgA2FhYAwPMAAFDDAACN1KQCvBcJANSRSwGfPuwA",
                        "dtype": "i4"
                      },
                      "yaxis": "y3"
                    },
                    {
                      "hovertemplate": "Trade bloc=USMCA<br>year=2008<br>category=Parts<br>Real GDP=%{x}<br>Export=%{y}<extra></extra>",
                      "legendgroup": "USMCA",
                      "marker": {
                        "color": "#EF553B",
                        "symbol": "diamond"
                      },
                      "mode": "markers",
                      "name": "USMCA",
                      "orientation": "v",
                      "showlegend": true,
                      "type": "scatter",
                      "x": {
                        "bdata": "ABALXVBadEIAQLyjt5BvQg==",
                        "dtype": "f8"
                      },
                      "xaxis": "x",
                      "y": [
                        28258965666,
                        13971074278
                      ],
                      "yaxis": "y"
                    },
                    {
                      "hovertemplate": "Trade bloc=USMCA<br>year=2008<br>category=Passenger Vehicles<br>Real GDP=%{x}<br>Export=%{y}<extra></extra>",
                      "legendgroup": "USMCA",
                      "marker": {
                        "color": "#EF553B",
                        "symbol": "diamond"
                      },
                      "mode": "markers",
                      "name": "USMCA",
                      "orientation": "v",
                      "showlegend": false,
                      "type": "scatter",
                      "x": {
                        "bdata": "ABALXVBadEIAQLyjt5BvQg==",
                        "dtype": "f8"
                      },
                      "xaxis": "x2",
                      "y": [
                        17859000199,
                        4053831183
                      ],
                      "yaxis": "y2"
                    },
                    {
                      "hovertemplate": "Trade bloc=USMCA<br>year=2008<br>category=Trucks<br>Real GDP=%{x}<br>Export=%{y}<extra></extra>",
                      "legendgroup": "USMCA",
                      "marker": {
                        "color": "#EF553B",
                        "symbol": "diamond"
                      },
                      "mode": "markers",
                      "name": "USMCA",
                      "orientation": "v",
                      "showlegend": false,
                      "type": "scatter",
                      "x": {
                        "bdata": "ABALXVBadEIAQLyjt5BvQg==",
                        "dtype": "f8"
                      },
                      "xaxis": "x3",
                      "y": [
                        3804919203,
                        183709107
                      ],
                      "yaxis": "y3"
                    }
                  ],
                  "name": "2008"
                },
                {
                  "data": [
                    {
                      "hovertemplate": "Trade bloc=Other<br>year=2009<br>category=Parts<br>Real GDP=%{x}<br>Export=%{y}<extra></extra>",
                      "legendgroup": "Other",
                      "marker": {
                        "color": "#636efa",
                        "symbol": "circle"
                      },
                      "mode": "markers",
                      "name": "Other",
                      "orientation": "v",
                      "showlegend": true,
                      "type": "scatter",
                      "x": {
                        "bdata": "AABIOiUCCUIAALBr79wCQgAASpNI6kFCAABmfn0uMEIAAMBGXkLWQQCA2aMlN11CAABA1FYI/0EAAKCOsVDlQQDAKtz1zXBCAEAmcfeTVEIAAKYcS1MlQgAAUKWgqgRCAADoQyxfGEIAAMgEDa0/QgAAYGmLufRBAAAmM6gEJ0IAgHdOkrFYQgAAwBLh79tBAAD4fM6WAEIAAODmKdP8QQAAQGFFmRZCAADIa3MDDEIAAABRcDQDQgAQFzaGDHdCAACAhvSOB0IAAJy46MwlQgAAEASaOP9BAABg7SlD40EAAEBZc9TXQQAAYIb5tQ1CAABE+cr6FkIAAPBWOnfwQQAAYB79m+BBAADsVTwDRkIApNYK9F2ZQgAA8H/yAkpCAABYI0eiAUIAAJhCxbUkQgAA6B1JMh5CAADyFdRBKEIAACQ2TbQTQgAAjyj4yENCAADkIFewFkIAQCXBXEdQQgAAACRHncFBAABOw1/nJ0IAABwlXPIwQgAAMeqN709CAABYqjLNEkIAALzn370RQgAAIEGVOOhBAAAUVr5vIEIAAOAH+yXsQQAAcHlJXEpCAIDc2L+AgEIAAEDYYZT0QQAAGMmTYwNCAABA7LAA00EAAPBOgYMEQgCATuVsAYZCAACQ2/peHkIAALvkAJVNQgAAAMHio8lBAAC2p6dGJ0IAAIBIt6rLQQAAwHWBDepBAACwFoCsD0IAgMfpPixNQgAA05G4ADpCAADQO9VhDUIAMHm+ipl0QgAgRAkVBmJCAMBlCcZbVkIAAP3jH49IQgAAPnWpCkxCAPCL4/Jfe0IAAABvOfgJQgAY4S/6fI1CAACU3nmyHkIAANmIT80/QgAAlgIuBihCAAAABLYCoUEAAPt5gtw2QgAAwLJws/NBAAAIR0EDAUIAAFSkBEsVQgAAZq96eCNCAABAAGkf3EEAAGAw7bjhQQAAJHAuQx9CAACQsno9KEIAAODOPaQdQgAA6LOUXwJCAABw9RhC+kEAgKGnZjZJQgAAAH1ykuVBAACIqIB7BkIAAGC9Iyz+QQAAMGqC+fFBAADIo2jgAUIAAMCOgZj2QQAA0KDbDPlBAADAyqXf6kEAAKa0+HY0QgAAINoX2ANCAADiQEvNIUIAALAuP9/+QQAAwKDAhRFCAOANPZNQZUIAAEURe7dBQgAAsOnvcQFCAABgnjsL+UEAwCpKhctUQgAAEKeLEgBCAIDGO8iOVEIAAKqv+IYsQgAAENSVt0xCAAAAwtqqrEEAALzojAohQgAAyLLGogtCAADc81D4GEIAAJ8buyZAQgCAOBDgy0hCAEB6jeIyV0IAgB5OGdVHQgAAkabdxDZCAIBwRWLKQkIAMCgCdWpxQgAAwEfi4/RBAACA5z8fxkEAAAAAJvypQQDAisDXAV1CAAA4vCRCCkIAAADX4YXPQQCAmIXnKElCAAAvmUUoMUIAAOYgv0kjQgAAgMJKz81BAMA/9f+aUUIAkBTjyy9xQgCgms2PcnFCAABwvLfwKkIAAIDEQrXIQQAAgHdr3tlBAACADpPixkEAAND+xowqQgAAcBCHwvBBAABc1QjiWEIAYJDqxO9hQgAA8P5foPRBAADUQdiAHkIAALmr6chSQgAAQBf/q9FBAABgy1OL7kEAANxk/lYVQgAALG54BSNCAICe9UR8YEIAAPj7+fIVQgAANsXnwDdCAEDO6bPIUEIAYEU5oeaCQgAABKqpGiVCAADo6qlYKkIAAPUzqmVDQgAAGnZgQStCAADosPHoC0IAAGBFE/IFQg==",
                        "dtype": "f8"
                      },
                      "xaxis": "x",
                      "y": {
                        "bdata": "qpYeBrxnBABIxwoBQvmcAEDJIwDfDX8KE08JANsbPABnAJ4qm57ZBrsrFQB3d/kA5olYABmJFQBfr0UA+hnvAGfICRT3KFsAU4RuAZGTJQDGvLwAqwcDAB1qAQDrEKEhC+gEAAXyUAB81QkA6ycAADpUAQBkQBYAo0sTAIbQSQA0NwEAF4iEEVeIrzqif+QJgbEbAFaQtwIezxMAOhEiAPLdIwD/L3MB1K4QAEcQWwF1EzYAgxwwA2DPaATPM8wC0e+qAdmrLwBdhQ0AMZAeAM5tBQBRR2ICygjMHDOIDQBAzRgAksQFAIymhQD7smZL1jr+AA7slAD63gkAg9srBVgPAABrgScAulfrAprcXAe14KQC/eghAMADFQi7GoUCAAAAAM2zpgBMA6UCN8OZCLrboQBPYgkybs3GAFSifwA7NB0A5CYAAFc0cwU3qwcAgOgAAFV1IQA2zVECAAAAAEJPIgALAUoAaO4gAF33BAB8QQMAliMDAA7ZUgEBmgEA5MgGAMpaCAAIGl8AnuUCACu5AABr4RwAPKIHAKmhVQBsLUAAImAAALVKFQBAowwAeH0mDCoIRwHVhOsAABoKAMfP2wImiwMA/bPVAaRrDQHXFU0BCnAAAHmZeAJaYAgA73gWAXYgEAZHgooDEv1cA4/L+QBrtsYAueV2ANhZNQNl1wAAZNIBAAAAAADhn2UQddcjAB2XAADGXeYPm3iCAHFDJQCkIwAAhtgXCzQhjhI5Dc4G3rIIAMz6GgA/ajQAvDUoAEMhCAB/yF8AD1StBlRIOQGIkQAAIq1MAJeNRwXcFQAA9qhSABsNJAHGVR4AumfLA2h2AwDvjrUAVZrHDvYzjyTCVswAeIMQAJiD8wBYj3UA2L6JAA9fGwA=",
                        "dtype": "i4"
                      },
                      "yaxis": "y"
                    },
                    {
                      "hovertemplate": "Trade bloc=Other<br>year=2009<br>category=Passenger Vehicles<br>Real GDP=%{x}<br>Export=%{y}<extra></extra>",
                      "legendgroup": "Other",
                      "marker": {
                        "color": "#636efa",
                        "symbol": "circle"
                      },
                      "mode": "markers",
                      "name": "Other",
                      "orientation": "v",
                      "showlegend": false,
                      "type": "scatter",
                      "x": {
                        "bdata": "AIDZoyU3XUIAAKCOsVDlQQDAKtz1zXBCAEAmcfeTVEIAAFCloKoEQgCAd06SsVhCAADg5inT/EEAEBc2hgx3QgAAnLjozCVCAADwVjp38EEAAGAe/ZvgQQAA7FU8A0ZCAKTWCvRdmUIAAPB/8gJKQgAAmELFtSRCAADyFdRBKEIAAI8o+MhDQgBAJcFcR1BCAABOw1/nJ0IAABwlXPIwQgAAMeqN709CAABYqjLNEkIAALzn370RQgAAcHlJXEpCAIDc2L+AgEIAAEDssADTQQAA8E6BgwRCAIBO5WwBhkIAALvkAJVNQgAAtqenRidCAACwFoCsD0IAgMfpPixNQgAA05G4ADpCADB5voqZdEIAIEQJFQZiQgAA/eMfj0hCAAA+dakKTEIA8Ivj8l97QgAY4S/6fI1CAACU3nmyHkIAAPt5gtw2QgAAVKQESxVCAABmr3p4I0IAACRwLkMfQgAAkLJ6PShCAADgzj2kHUIAgKGnZjZJQgAAprT4djRCAOANPZNQZUIAAEURe7dBQgAAsOnvcQFCAMAqSoXLVEIAgMY7yI5UQgAAqq/4hixCAAAQ1JW3TEIAALzojAohQgAA3PNQ+BhCAACfG7smQEIAgDgQ4MtIQgBAeo3iMldCAIAeThnVR0IAgHBFYspCQgAwKAJ1anFCAMCKwNcBXUIAgJiF5yhJQgAAL5lFKDFCAMA/9f+aUUIAkBTjyy9xQgCgms2PcnFCAABc1QjiWEIAYJDqxO9hQgAA1EHYgB5CAAC5q+nIUkIAANxk/lYVQgCAnvVEfGBCAAA2xefAN0IAQM7ps8hQQgBgRTmh5oJCAAAEqqkaJUIAAOjqqVgqQgAA9TOqZUNC",
                        "dtype": "f8"
                      },
                      "xaxis": "x2",
                      "y": [
                        44604032,
                        5043020,
                        271049394,
                        13063786,
                        15509007,
                        48280081,
                        763033,
                        80668253,
                        940844,
                        7529984,
                        391519,
                        143880986,
                        754526827,
                        67112630,
                        13444202,
                        1733780,
                        5618781,
                        1628021,
                        57930590,
                        99957634,
                        9129597,
                        8856102,
                        539330,
                        9941938,
                        24645765,
                        597100,
                        19485253,
                        4359799043,
                        4869231,
                        29026238,
                        8936954,
                        18559827,
                        1392402,
                        6071064,
                        0,
                        38653,
                        101899490,
                        92001587,
                        171153232,
                        35451690,
                        423728320,
                        2475896,
                        85068038,
                        1566679,
                        381897,
                        93636,
                        311910,
                        16563552,
                        45422701,
                        20915944,
                        2734139,
                        107643139,
                        6352160,
                        97319292,
                        7518344,
                        44385921,
                        6755981,
                        33444870,
                        17146267,
                        9349940,
                        7892486,
                        2522740,
                        13262350,
                        1396648256,
                        1970981,
                        783501,
                        101030021,
                        116102279,
                        44319430,
                        12466545,
                        23113859,
                        124000,
                        4217287,
                        1629919,
                        10289462,
                        4698375,
                        550584794,
                        478497175,
                        3711208,
                        507817,
                        29497774
                      ],
                      "yaxis": "y2"
                    },
                    {
                      "hovertemplate": "Trade bloc=Other<br>year=2009<br>category=Trucks<br>Real GDP=%{x}<br>Export=%{y}<extra></extra>",
                      "legendgroup": "Other",
                      "marker": {
                        "color": "#636efa",
                        "symbol": "circle"
                      },
                      "mode": "markers",
                      "name": "Other",
                      "orientation": "v",
                      "showlegend": false,
                      "type": "scatter",
                      "x": {
                        "bdata": "AIDZoyU3XUIAwCrc9c1wQgBAJnH3k1RCAADoQyxfGEIAACYzqAQnQgCAd06SsVhCAADIa3MDDEIAEBc2hgx3QgAAnLjozCVCAADwVjp38EEAAGAe/ZvgQQAA7FU8A0ZCAKTWCvRdmUIAAJhCxbUkQgAAjyj4yENCAEAlwVxHUEIAAE7DX+cnQgAAvOffvRFCAABweUlcSkIAgNzYv4CAQgAA8E6BgwRCAIBO5WwBhkIAAJDb+l4eQgAAu+QAlU1CAIDH6T4sTUIAANORuAA6QgAweb6KmXRCAAD94x+PSEIAAD51qQpMQgDwi+PyX3tCABjhL/p8jUIAAJTeebIeQgAAVKQESxVCAACQsno9KEIAgKGnZjZJQgAAiKiAewZCAAAwaoL58UEAAMDKpd/qQQAAINoX2ANCAADiQEvNIUIA4A09k1BlQgAARRF7t0FCAAAQp4sSAEIAgMY7yI5UQgAAqq/4hixCAAC86IwKIUIAAJ8buyZAQgCAOBDgy0hCAEB6jeIyV0IAgB5OGdVHQgCAcEViykJCADAoAnVqcUIAwIrA1wFdQgAAOLwkQgpCAICYhecoSUIAAC+ZRSgxQgAA5iC/SSNCAMA/9f+aUUIAkBTjyy9xQgCgms2PcnFCAABwvLfwKkIAAFzVCOJYQgBgkOrE72FCAAC5q+nIUkIAACxueAUjQgCAnvVEfGBCAAA2xefAN0IAYEU5oeaCQgAA9TOqZUNC",
                        "dtype": "f8"
                      },
                      "xaxis": "x3",
                      "y": {
                        "bdata": "DdQVAO+Y3QNYswcA9B4NAAAAAACGfC8AAAAAALeLjgBV0QUAntITAAAAAADLdr4Cb17eAd6PzgC4iAAA3zoDAOCVlACAGgYAKBIbAFzyEwBN+SgAc8vpAFFyCwCGRwcA336EAAAAAACJ+CoAUMMAAJVZDgEs9DQAKxJJARYOJAAAAAAAAAAAAEUqBQAAAAAAAAAAAAAAAACGm2EAAAAAAIs7dQBsqU8AAAAAANZbBACzzuQA6MPUADzWdwCZ5koA6z4HAIQnMwAAAAAARM4XAJmrhARkgQQAkvVlAJoAAQBCCgAA0YLyAr8UWgASdAoAAAAAACfQHgASDgoA4rsEAK6sBQC64h4Aa0AEAE5iXwDxL4wB",
                        "dtype": "i4"
                      },
                      "yaxis": "y3"
                    },
                    {
                      "hovertemplate": "Trade bloc=USMCA<br>year=2009<br>category=Parts<br>Real GDP=%{x}<br>Export=%{y}<extra></extra>",
                      "legendgroup": "USMCA",
                      "marker": {
                        "color": "#EF553B",
                        "symbol": "diamond"
                      },
                      "mode": "markers",
                      "name": "USMCA",
                      "orientation": "v",
                      "showlegend": true,
                      "type": "scatter",
                      "x": {
                        "bdata": "ACBSxG3Cc0IA4IAUBJRtQg==",
                        "dtype": "f8"
                      },
                      "xaxis": "x",
                      "y": [
                        19647146485,
                        12156777287
                      ],
                      "yaxis": "y"
                    },
                    {
                      "hovertemplate": "Trade bloc=USMCA<br>year=2009<br>category=Passenger Vehicles<br>Real GDP=%{x}<br>Export=%{y}<extra></extra>",
                      "legendgroup": "USMCA",
                      "marker": {
                        "color": "#EF553B",
                        "symbol": "diamond"
                      },
                      "mode": "markers",
                      "name": "USMCA",
                      "orientation": "v",
                      "showlegend": false,
                      "type": "scatter",
                      "x": {
                        "bdata": "ACBSxG3Cc0IA4IAUBJRtQg==",
                        "dtype": "f8"
                      },
                      "xaxis": "x2",
                      "y": [
                        12652204453,
                        1987600598
                      ],
                      "yaxis": "y2"
                    },
                    {
                      "hovertemplate": "Trade bloc=USMCA<br>year=2009<br>category=Trucks<br>Real GDP=%{x}<br>Export=%{y}<extra></extra>",
                      "legendgroup": "USMCA",
                      "marker": {
                        "color": "#EF553B",
                        "symbol": "diamond"
                      },
                      "mode": "markers",
                      "name": "USMCA",
                      "orientation": "v",
                      "showlegend": false,
                      "type": "scatter",
                      "x": {
                        "bdata": "ACBSxG3Cc0IA4IAUBJRtQg==",
                        "dtype": "f8"
                      },
                      "xaxis": "x3",
                      "y": [
                        2563237026,
                        96483975
                      ],
                      "yaxis": "y3"
                    }
                  ],
                  "name": "2009"
                },
                {
                  "data": [
                    {
                      "hovertemplate": "Trade bloc=Other<br>year=2010<br>category=Parts<br>Real GDP=%{x}<br>Export=%{y}<extra></extra>",
                      "legendgroup": "Other",
                      "marker": {
                        "color": "#636efa",
                        "symbol": "circle"
                      },
                      "mode": "markers",
                      "name": "Other",
                      "orientation": "v",
                      "showlegend": true,
                      "type": "scatter",
                      "x": {
                        "bdata": "AADoWaaZDEIAAMDGgWwDQgCAtNNsxkJCAADZR7HkMEIAAABaloPUQQBAkWA4FmBCAADwWB23/0EAAGCHibvkQQBgQot2LXFCAMBzXkPzVEIAAGrWulgmQgAA6EwI/ARCAADk6ZhtGUIAAONbb7hAQgAAQAjiQ/RBAADSxVbNKEIAgNPh51xZQgAAgL6NP9xBAADIOpbwAEIAALDheBr8QQAAmFoDiBdCAAAwK4hBDEIAAPD+9yUFQgBARaO6yHhCAAAoH0k0CEIAAJRXtiMmQgAAGPLW7QBCAAAgMdg/5EEAAAD9ekTYQQAA6LMfOA9CAADoI1alF0IAAPD2wQTwQQAA4P/jYOFBAAB5cf1MR0IAlHL7EQ6cQgAANIY+LktCAABAUZpiA0IAAIqy9tElQgAA5GbUISBCAAAm+vvuJ0IAAGxIcicUQgAADWF3UkRCAAAQITJNGEIAgPTOU4lQQgAAAP+DmMFBAAAAunjpKUIAANqPKKExQgAAekYvylBCAAB8M+I0E0IAAHSjIy0SQgAAwGXRI+lBAAC2hNZ/IkIAACDK5PrsQQAAgpgXMktCALCSE0LVgEIAAJDkdRL0QQAAUER9wwRCAABABx0g1EEAANAbicsFQgBYN8oH64ZCAACyKJdiIEIAAAT30OVLQgAAgK9VgslBAACQUYPyJ0IAAIBXujfNQQAAAPGEIetBAACUGoVtEEIAAI3yqyVPQgAAo7zPRzpCAADwn8GMDEIAQP1oqll2QgCg5YNBJWNCAAC/aqKnV0IAgA5l7/hIQgAAexr0l01CAEBFlBvLe0IAAFCVWZcJQgCQBARUso5CAADAAWNoH0IAgKAs0A9BQgAAhFPK9SlCAAAAAhk4oUEAADHrxVE2QgAAUDSom/NBAACYm592AkIAABw4cYMUQgAABov/BSVCAACAncua3UEAAMDNq83iQQAA6PZeZR9CAACQvtQmKUIAAPBDT4siQgAAaBK1fAJCAACgzC0Q/EEAgB9joRVLQgAAgM0rCedBAABw6OEJCEIAANBkagUAQgAAsFwUcvJBAADYOrqoAkIAAPC9NDP4QQAAYPQLpfpBAABAjcKb60EAAEHzTy41QgAAYP1tKwVCAACEGl2EI0IAAJiURV4AQgAAVA3OXRJCAMBampCYZUIAABAMo/lBQgAAsLDjNgJCAABQ+jIx+0EAAKsStHVWQgAAeCu+nABCAAD29jO4VEIAABQzgDstQgCAWT38JU1CAAAAJhtprEEAACJagRMiQgAAcHRXbw5CAAAk+Y69G0IAAFZyQX9BQgAAuMx1nUpCAMBjfBXvV0IAABTwHD9IQgAA5WTgOjtCAIDh1H8OQkIAQA1vFjNyQgAAcAAibPZBAACAmRt6x0EAAAB4gFyqQQAASLoReF5CAAD4fBUmC0IAAAB0uHjQQQAANoob0ExCAABMXYhSMkIAAKY+qYAjQgAAQHAVWtBBAADLJgAkUkIAkILjMVtyQgBQ/QjEdnFCAACubY4ZLUIAAAA41bHIQQAAwGZG9NlBAAAAM6vcxUEAAMpwA5MrQgAAoCZMoPFBAACsvVtQWkIAQPHRsoRiQgAAUGyZ9/VBAABQt9M3IEIAgP2kOTJUQgAAgFknUtNBAADQlYwq8EEAAJiRigwWQgAA0BsmliNCAODSdurfYUIAALSowC8XQgAA5Xu8uThCAMCijpINUUIAaJoOsVKDQgAANDFBwCZCAABIMhFZLEIAAIEln6REQgAAtLjLWi1CAAB4FL/IDkIAAIBZdEMKQg==",
                        "dtype": "f8"
                      },
                      "xaxis": "x",
                      "y": {
                        "bdata": "J/44BTv9AgBwE4YAQyF5APfqHwBF+XQKkVACAPuhLQBqb91CZMfUBiq/EQDwGM8AvC13AFATFQDeUlIA6h4PAiCGfByYUF4AFhFkA8kqJQD2urwA0CMBAIjBAQCYNrY4yiYGABDYGgCUnyIAAAAAAFK+AQCYBi0AgqsUAAMjNgBR6gAANvHXGIKgak9Vi9MNZ+cQAGJizQJbpCwA5CMZAITzEQCwz34CWAYMAILX9wA/hA4A/61FBXNDMgWDSMMEIBu+AfWiHABBwwAAzjMXAI7tBACIBXYDrwzCJCtZEAB/ahwACZAEANvlPQBP1rdd7gIJAcymZQDnHgkAFgfdBX0mAADa81cACQygAisz2AiDyjIDd/0uALszTA0xOhAEAAAAAGO9kgB0FAwDMW/5C/IetQAO4IVOcMwEATj9wgBqoT8AAAAAAFSNGQawR0UADNEAAPOtWwAuo7MCgR4AACLjRAD+LUgA0lguADkIBQDOkhcAjPUBAFMKjgHgUQQAsT8GABKeCADizDIAHqIEAGPYAgCTaSgAx40CAEZTUAAgCGMAKCcAACRzHQBVdAsAESD9DczO0QE/UwcBCB4OAAJQyAMO/QMAHKgrAhoZbwGvaI4ABHMBADjnaAMsKREAzf5AAVCUbgcb2kkErKFCBP4WFwE8hbsAPj+DAII5sQWw0AAA/jICAAAAAAAA5lUQMZ8kAIFwAADO7ugVuHaiAGQIMgDYDgAAFlt/D17uox3FEwsJWZgLACBGGQDROxwArqsTAClQBQDYPJ8A/3vkCt/LEgF7hQAASi2gAKy7oweUygAAHZl4AHJWYAFtjiUAeHXzAuRwCwAKMdEAPpVREnYpujddtbUA5QoIAN326gBE9EEA85ZbAA1cJAA=",
                        "dtype": "i4"
                      },
                      "yaxis": "y"
                    },
                    {
                      "hovertemplate": "Trade bloc=Other<br>year=2010<br>category=Passenger Vehicles<br>Real GDP=%{x}<br>Export=%{y}<extra></extra>",
                      "legendgroup": "Other",
                      "marker": {
                        "color": "#636efa",
                        "symbol": "circle"
                      },
                      "mode": "markers",
                      "name": "Other",
                      "orientation": "v",
                      "showlegend": false,
                      "type": "scatter",
                      "x": {
                        "bdata": "AECRYDgWYEIAAGCHibvkQQBgQot2LXFCAMBzXkPzVEIAAOhMCPwEQgCA0+HnXFlCAACw4Xga/EEAQEWjush4QgAAlFe2IyZCAADw9sEE8EEAAOD/42DhQQAAeXH9TEdCAJRy+xEOnEIAADSGPi5LQgAAirL20SVCAAAm+vvuJ0IAAA1hd1JEQgCA9M5TiVBCAAAAunjpKUIAANqPKKExQgAAekYvylBCAAB8M+I0E0IAAHSjIy0SQgAAgpgXMktCALCSE0LVgEIAAEAHHSDUQQAA0BuJywVCAFg3ygfrhkIAAAT30OVLQgAAkFGD8idCAACUGoVtEEIAAI3yqyVPQgAAo7zPRzpCAED9aKpZdkIAoOWDQSVjQgCADmXv+EhCAAB7GvSXTUIAQEWUG8t7QgCQBARUso5CAADAAWNoH0IAADHrxVE2QgAAHDhxgxRCAAAGi/8FJUIAAOj2XmUfQgAAkL7UJilCAADwQ0+LIkIAgB9joRVLQgAAQfNPLjVCAMBampCYZUIAABAMo/lBQgAAsLDjNgJCAACrErR1VkIAAPb2M7hUQgAAFDOAOy1CAIBZPfwlTUIAACJagRMiQgAAJPmOvRtCAABWckF/QUIAALjMdZ1KQgDAY3wV71dCAAAU8Bw/SEIAgOHUfw5CQgBADW8WM3JCAABIuhF4XkIAADaKG9BMQgAATF2IUjJCAADLJgAkUkIAkILjMVtyQgBQ/QjEdnFCAACsvVtQWkIAQPHRsoRiQgAAULfTNyBCAID9pDkyVEIAAJiRigwWQgDg0nbq32FCAADle7y5OEIAwKKOkg1RQgBomg6xUoNCAAA0MUHAJkIAAEgyEVksQgAAgSWfpERC",
                        "dtype": "f8"
                      },
                      "xaxis": "x2",
                      "y": [
                        58657246,
                        5154593,
                        471495141,
                        16416615,
                        16372098,
                        53719436,
                        1340873,
                        229046518,
                        566721,
                        8066860,
                        229400,
                        359712789,
                        2921382708,
                        111953263,
                        33920526,
                        1020521,
                        5814370,
                        871466,
                        144705404,
                        186576518,
                        39394600,
                        5692816,
                        1126901,
                        16417729,
                        47739575,
                        530660,
                        22866759,
                        3633810812,
                        7800744,
                        42519198,
                        18011304,
                        76336345,
                        171736,
                        22357392,
                        4309220,
                        175603,
                        176982741,
                        91716869,
                        195265323,
                        37247990,
                        707270392,
                        2521341,
                        106971227,
                        1402792,
                        1209549,
                        2509808,
                        215900,
                        8334976,
                        30766471,
                        35206464,
                        4819470,
                        104137176,
                        4721357,
                        196216101,
                        5291798,
                        70012383,
                        15997784,
                        92923946,
                        36835386,
                        13588589,
                        17101968,
                        112941,
                        106149209,
                        2938581471,
                        6280319,
                        716645,
                        190515627,
                        313069970,
                        110015218,
                        31912819,
                        44794189,
                        157950,
                        6299558,
                        1310219,
                        18687505,
                        4909523,
                        1045120624,
                        803438718,
                        5124671,
                        282830,
                        22851066
                      ],
                      "yaxis": "y2"
                    },
                    {
                      "hovertemplate": "Trade bloc=Other<br>year=2010<br>category=Trucks<br>Real GDP=%{x}<br>Export=%{y}<extra></extra>",
                      "legendgroup": "Other",
                      "marker": {
                        "color": "#636efa",
                        "symbol": "circle"
                      },
                      "mode": "markers",
                      "name": "Other",
                      "orientation": "v",
                      "showlegend": false,
                      "type": "scatter",
                      "x": {
                        "bdata": "AECRYDgWYEIAYEKLdi1xQgDAc15D81RCAADk6ZhtGUIAANLFVs0oQgCA0+HnXFlCAAAwK4hBDEIAQEWjush4QgAAlFe2IyZCAADw9sEE8EEAAOD/42DhQQAAeXH9TEdCAJRy+xEOnEIAAIqy9tElQgAADWF3UkRCAID0zlOJUEIAAAC6eOkpQgAAdKMjLRJCAACCmBcyS0IAsJITQtWAQgAA0BuJywVCAFg3ygfrhkIAALIol2IgQgAABPfQ5UtCAACN8qslT0IAAKO8z0c6QgBA/WiqWXZCAIAOZe/4SEIAAHsa9JdNQgBARZQby3tCAJAEBFSyjkIAAMABY2gfQgAAHDhxgxRCAACQvtQmKUIAgB9joRVLQgAAcOjhCQhCAACwXBRy8kEAAECNwpvrQQAAYP1tKwVCAACEGl2EI0IAwFqakJhlQgAAEAyj+UFCAAB4K76cAEIAAPb2M7hUQgAAFDOAOy1CAAAiWoETIkIAAFZyQX9BQgAAuMx1nUpCAMBjfBXvV0IAABTwHD9IQgCA4dR/DkJCAEANbxYzckIAAEi6EXheQgAA+HwVJgtCAAA2ihvQTEIAAExdiFIyQgAApj6pgCNCAADLJgAkUkIAkILjMVtyQgBQ/QjEdnFCAACubY4ZLUIAAKy9W1BaQgBA8dGyhGJCAID9pDkyVEIAANAbJpYjQgDg0nbq32FCAADle7y5OEIAaJoOsVKDQgAAgSWfpERC",
                        "dtype": "f8"
                      },
                      "xaxis": "x3",
                      "y": {
                        "bdata": "wpQqAOiJkgiL6AgAvg0SAAAAAABNeUoAAAAAAPjFSwD4KgAAu7sfAAAAAACvvd4HGFQqBUNCbgBBAQIAakQEABLk0QAAAAAA+gYcAIxuLgDxgjcA5PcjAamjFQA8iQ4AXpn/AAAAAAB0Wk0AAAAAADpeRQEPTEIAvvWBAKRWHgCADAAAAAAAAAAAAABUdgMAUJIBAAAAAAANTXUAAAAAAGw2NQCUZA0BAAAAAFgtAgBiwWMAfyhkARjCtwGsGzcAimYBAIYEBgAAAAAAT5kSAPHvvgTM2AAA7/KwAAAAAAAAAAAATqpnBO1XfQFeIxMAAAAAAFBFJQDd4wsAbTQCADB1AABA3ywAvA0BADV7bQBVdHEB",
                        "dtype": "i4"
                      },
                      "yaxis": "y3"
                    },
                    {
                      "hovertemplate": "Trade bloc=USMCA<br>year=2010<br>category=Parts<br>Real GDP=%{x}<br>Export=%{y}<extra></extra>",
                      "legendgroup": "USMCA",
                      "marker": {
                        "color": "#EF553B",
                        "symbol": "diamond"
                      },
                      "mode": "markers",
                      "name": "USMCA",
                      "orientation": "v",
                      "showlegend": true,
                      "type": "scatter",
                      "x": {
                        "bdata": "AMBYZ8ZedEIAgCQ5cgxvQg==",
                        "dtype": "f8"
                      },
                      "xaxis": "x",
                      "y": [
                        26021629647,
                        17515733063
                      ],
                      "yaxis": "y"
                    },
                    {
                      "hovertemplate": "Trade bloc=USMCA<br>year=2010<br>category=Passenger Vehicles<br>Real GDP=%{x}<br>Export=%{y}<extra></extra>",
                      "legendgroup": "USMCA",
                      "marker": {
                        "color": "#EF553B",
                        "symbol": "diamond"
                      },
                      "mode": "markers",
                      "name": "USMCA",
                      "orientation": "v",
                      "showlegend": false,
                      "type": "scatter",
                      "x": {
                        "bdata": "AMBYZ8ZedEIAgCQ5cgxvQg==",
                        "dtype": "f8"
                      },
                      "xaxis": "x2",
                      "y": [
                        16995719535,
                        2842508188
                      ],
                      "yaxis": "y2"
                    },
                    {
                      "hovertemplate": "Trade bloc=USMCA<br>year=2010<br>category=Trucks<br>Real GDP=%{x}<br>Export=%{y}<extra></extra>",
                      "legendgroup": "USMCA",
                      "marker": {
                        "color": "#EF553B",
                        "symbol": "diamond"
                      },
                      "mode": "markers",
                      "name": "USMCA",
                      "orientation": "v",
                      "showlegend": false,
                      "type": "scatter",
                      "x": {
                        "bdata": "AMBYZ8ZedEIAgCQ5cgxvQg==",
                        "dtype": "f8"
                      },
                      "xaxis": "x3",
                      "y": [
                        3970350074,
                        137243219
                      ],
                      "yaxis": "y3"
                    }
                  ],
                  "name": "2010"
                },
                {
                  "data": [
                    {
                      "hovertemplate": "Trade bloc=Other<br>year=2011<br>category=Parts<br>Real GDP=%{x}<br>Export=%{y}<extra></extra>",
                      "legendgroup": "Other",
                      "marker": {
                        "color": "#636efa",
                        "symbol": "circle"
                      },
                      "mode": "markers",
                      "name": "Other",
                      "orientation": "v",
                      "showlegend": true,
                      "type": "scatter",
                      "x": {
                        "bdata": "AAAIs924DEIAAHBnAecDQgCA+SueVkNCAAC0Htl6MUIAAEDkuBzUQQAAseZ5DWFCAABwRFuaAEIAAGBZXG7lQQDQIUNQl3FCAMB5XkWQVUIAAAouvv4lQgAAGN/4HAVCAACc1RzrGUIAgH93I81BQgAAQN3vHfRBAAAQxbktKkIAgMw6S9pZQgAAQI/eLdxBAABQ0BxxAUIAACCVMw37QQAAtCCCwRhCAAAAP/CGDEIAAFC5MpgGQgDA4DrlxHlCAAAwvEwcCUIAALRpLZomQgAA8NLZDAJCAADgYeMQ5UEAAICCTTjZQQAANMU9vxBCAABUOuRxGEIAAIC1sjTwQQAAICWBG+JBAIB2rT7ASEIAmFwMl7WeQgAAKQ6yEU1CAADA5RLQA0IAAGAr7McmQgAAVCgUiB5CAADivP7oJ0IAABhK8jwUQgAA44CsrkRCAAAc7+H4GUIAgN1n0cBQQgAAgNdwmsFBAAC2oTW9KkIAAC/g8B8zQgAAoHsHFlFCAAA8J23uE0IAAFQyGo8TQgAAoBBytOlBAABeVTmRJEIAAIDclcPtQQCAGn6D2EtCABAAsUw+gUIAAPDxQnrzQQAAGGJzPAZCAACAQzl90kEAAPgVPIYHQgA4i/iCx4dCAAAmTc+vIkIAgB5UbyRJQgAAAOhGtMlBAAAAJcjxKEIAAICOd5TPQQAAoAttiuxBAAD0ptQOEUIAgBkNylJQQgAA3ZjDyDpCAADA66gTDUIAEKdmjoV3QgDgByCnU2RCAEBaddlHWEIAgJUWV2JJQgCAORIOOk9CAIAON5f8e0IAACiDtggKQgDA3/8ytI5CAABcuTsiIEIAgPkGCFNCQgAAFtkgSitCAAAASvfHoUEAABxy7nc4QgAAQD+kxvRBAABYj5TyA0IAAIjn5CIVQgAAtq2tNCVCAAAA+Kn43kEAAMDabVjkQQAA9gLQsCBCAADKVxJqKUIAAHango0mQgAAeN5oxwJCAABQ/Yxy/UEAgELWsIRMQgAAQN2uEulBAACwHjcBCUIAAKijGS4AQgAAsCYfN/NBAABYFoBrA0IAAGBFp5v5QQAAEG51QP9BAABAa/B/7EEAAP014Fk2QgAAiA8OrgZCAADwBrybJEIAADjanDMBQgAAoBCx/hJCAOAD+5r6ZUIAgNDU+FlCQgAAIPJtXQNCAAAgyVPV+0EAwOGv5KZXQgAAWI9AAAFCAED4ZtnyVEIAAKRxHhQuQgCAI6n57U1CAAAALl3drUEAABbWljokQgAAOFaixQ5CAABgKPXtHEIAgLSxqppCQgAAHd1WpEtCAAAULRcxWUIAALqgwNRHQgAA3lo+3z5CAADB007eQkIAAMAEbvtyQgAAYHT0NPhBAAAACXFhyEEAAAD8buOqQQAAHFWiBmFCAABg7M2CC0IAAIC0uAnSQQAAah6Hmk5CAADgWrnKMkIAAOiJYqEjQgAAgI8bkdFBAEAz+yW3UkIAEDQ/ZAhzQgAQcwooWnFCAABe9mSfL0IAAAA4CBjJQQAAANzEE9tBAACAyby6xUEAAIp2K7AqQgAAcAM9qPJBAIBRn30lW0IAADALp9piQgAAoOW+l/dBAABOlFx2IUIAwOZxqV1UQgAAQEvfeNRBAAAAHYwb8UEAANQj7fsVQgAAQBCHLyNCAMBna2zgY0IAAEzPN10ZQgAAeH5oEjpCAEBWGfEcUkIAyHu+AIuDQgAA8hHp7CdCAAD67yt7LkIAAIeLiPdFQgAAnBhMnylCAADwkNI/EEIAAAilxv0NQg==",
                        "dtype": "f8"
                      },
                      "xaxis": "x",
                      "y": {
                        "bdata": "QL0NA+xyCQBwankAFfWUAFziFwC3HCELiFALAEEGLgB94sJVTeK8BEhEDgD6FuMAwVzPAFgMKABkalIASeImATQAoyIsCFEASbc9A/TvJAAOU/EAZL8AAAsdAgB22PxAIqIHAJx2HACcVxYAAAAAALDXAAAKXEsA3FpMAGGwMQCsQQEA8S63HlOWxlx5QZ4QOKQQALJ9TgMglBUAL9IMANU0DwB5wWQCA8IJAFHeygD6YBIAHyW8BTVbPwXBNuEDsazBAemvPAB1mwEA3WMYANhsBACUQTUHCFpdIB0DDgCmcCYASQoFALFZbwCCctpnHwxyAe+eVQAXJAsA2fFUBpY8AACIF3gAnx69AhcKKg/AmQ8DVRc5AOKITxFJLnwEAAAAAO8LvgDzGCwF3YQsD5Pp3AAMAmRWHDHzAJKmlgERHTkAAAAAANB+1QRUPhYA2KQAAGvuywAoK1cCAAAAAK91RgAN6cEA34s+AFqVCgAWLgIA8wwHAE2cwAHkqQcAGZAQAP7aCAAguzUAJCUKACdmAwCwglsAPYQNAGAAUQAqCk0Br2wEAN8NOwCVhA4AfknNEPH7JAJbIRQBRGwhAHfhxgTBiAgAoDlNAnqkXgHC9WcAa4EDAJUoXQNAERoAADiGATKb6gkpA4kFJGQCCIsmYAF03v8A+me5AORHug8EogMAvYQFAAAAAADX3YsRL8pVAP0YBQBOWgkbJecPAfIpKgAAAAAAWCYeFaJAwjBeqWUJUFcUACfoDgCQex0AqWAZAO1lAQCoi4QAF8MqC8qxKAHnZgQA2oLXAAe8CgpVVgMAnnhXAGexGgESeyAAPh7dBUF7DwDJnDQBbs+YF4IWykPnJVAB1sMQAEeg+wA+nUwAVq18AKaILQA=",
                        "dtype": "i4"
                      },
                      "yaxis": "y"
                    },
                    {
                      "hovertemplate": "Trade bloc=Other<br>year=2011<br>category=Passenger Vehicles<br>Real GDP=%{x}<br>Export=%{y}<extra></extra>",
                      "legendgroup": "Other",
                      "marker": {
                        "color": "#636efa",
                        "symbol": "circle"
                      },
                      "mode": "markers",
                      "name": "Other",
                      "orientation": "v",
                      "showlegend": false,
                      "type": "scatter",
                      "x": {
                        "bdata": "AACx5nkNYUIAAGBZXG7lQQDQIUNQl3FCAMB5XkWQVUIAABjf+BwFQgCAzDpL2llCAAAglTMN+0EAwOA65cR5QgAAtGktmiZCAACAtbI08EEAACAlgRviQQCAdq0+wEhCAJhcDJe1nkIAACkOshFNQgAAYCvsxyZCAADivP7oJ0IAAOOArK5EQgCA3WfRwFBCAAC2oTW9KkIAAC/g8B8zQgAAoHsHFlFCAAA8J23uE0IAAFQyGo8TQgCAGn6D2EtCABAAsUw+gUIAAIBDOX3SQQAA+BU8hgdCADiL+ILHh0IAgB5UbyRJQgAAACXI8ShCAAD0ptQOEUIAgBkNylJQQgAA3ZjDyDpCABCnZo6Fd0IA4Acgp1NkQgCAlRZXYklCAIA5Eg46T0IAgA43l/x7QgDA3/8ytI5CAABcuTsiIEIAABxy7nc4QgAAiOfkIhVCAAC2ra00JUIAAPYC0LAgQgAAylcSailCAAB2p4KNJkIAgELWsIRMQgAA/TXgWTZCAOAD+5r6ZUIAgNDU+FlCQgAAIPJtXQNCAMDhr+SmV0IAQPhm2fJUQgAApHEeFC5CAIAjqfntTUIAABbWljokQgAAYCj17RxCAIC0saqaQkIAAB3dVqRLQgAAFC0XMVlCAAC6oMDUR0IAAMHTTt5CQgAAwARu+3JCAAAcVaIGYUIAAGoeh5pOQgAA4Fq5yjJCAEAz+yW3UkIAEDQ/ZAhzQgAQcwooWnFCAIBRn30lW0IAADALp9piQgAATpRcdiFCAMDmcaldVEIAANQj7fsVQgDAZ2ts4GNCAAB4fmgSOkIAQFYZ8RxSQgDIe74Ai4NCAADyEensJ0IAAPrvK3suQgAAh4uI90VC",
                        "dtype": "f8"
                      },
                      "xaxis": "x2",
                      "y": [
                        56343179,
                        6975747,
                        735422102,
                        33455010,
                        17196221,
                        63211799,
                        2125494,
                        354374055,
                        872238,
                        11089687,
                        228160,
                        438774450,
                        4306360159,
                        138535419,
                        51167166,
                        746518,
                        12658911,
                        717233,
                        98208084,
                        81660423,
                        19043464,
                        8086582,
                        5141226,
                        24537941,
                        130166702,
                        575771,
                        33125755,
                        5146003729,
                        2396629,
                        47208244,
                        22210782,
                        96111037,
                        3281999,
                        37702541,
                        25366871,
                        1783926,
                        249068816,
                        353397765,
                        336797933,
                        46658881,
                        792072014,
                        1550298,
                        68894109,
                        3868083,
                        1954675,
                        1176742,
                        1114320,
                        3533056,
                        49834602,
                        55764025,
                        8452179,
                        160049936,
                        13423472,
                        256140430,
                        4557603,
                        72295591,
                        16040935,
                        95033071,
                        51078670,
                        23301438,
                        10513133,
                        2569961,
                        308272904,
                        3513189412,
                        5370126,
                        3315546,
                        240762952,
                        369576948,
                        90173276,
                        36084334,
                        115236267,
                        522495,
                        6637551,
                        736463,
                        42929090,
                        24560716,
                        1192574437,
                        1182771875,
                        7730108,
                        48700,
                        59591848
                      ],
                      "yaxis": "y2"
                    },
                    {
                      "hovertemplate": "Trade bloc=Other<br>year=2011<br>category=Trucks<br>Real GDP=%{x}<br>Export=%{y}<extra></extra>",
                      "legendgroup": "Other",
                      "marker": {
                        "color": "#636efa",
                        "symbol": "circle"
                      },
                      "mode": "markers",
                      "name": "Other",
                      "orientation": "v",
                      "showlegend": false,
                      "type": "scatter",
                      "x": {
                        "bdata": "AACx5nkNYUIA0CFDUJdxQgDAeV5FkFVCAACc1RzrGUIAABDFuS0qQgCAzDpL2llCAAAAP/CGDEIAwOA65cR5QgAAtGktmiZCAACAtbI08EEAACAlgRviQQCAdq0+wEhCAJhcDJe1nkIAAGAr7McmQgAA44CsrkRCAIDdZ9HAUEIAALahNb0qQgAAVDIajxNCAIAafoPYS0IAEACxTD6BQgAA+BU8hgdCADiL+ILHh0IAACZNz68iQgCAHlRvJElCAIAZDcpSUEIAAN2Yw8g6QgAQp2aOhXdCAICVFldiSUIAgDkSDjpPQgCADjeX/HtCAMDf/zK0jkIAAFy5OyIgQgAAiOfkIhVCAADKVxJqKUIAgELWsIRMQgAAsB43AQlCAACwJh8380EAAEBr8H/sQQAAiA8OrgZCAADwBrybJEIA4AP7mvplQgCA0NT4WUJCAABYj0AAAUIAQPhm2fJUQgAApHEeFC5CAAAW1pY6JEIAgLSxqppCQgAAHd1WpEtCAAAULRcxWUIAALqgwNRHQgAAwdNO3kJCAADABG77ckIAABxVogZhQgAAYOzNggtCAABqHoeaTkIAAOBaucoyQgAA6IlioSNCAEAz+yW3UkIAEDQ/ZAhzQgAQcwooWnFCAABe9mSfL0IAgFGffSVbQgAAMAun2mJCAMDmcaldVEIAAEAQhy8jQgDAZ2ts4GNCAAB4fmgSOkIAyHu+AIuDQgAAh4uI90VC",
                        "dtype": "f8"
                      },
                      "xaxis": "x3",
                      "y": {
                        "bdata": "6gkpADQflA2GPQAAEtwhAOAuAADG4C4AAAAAAEoRvwAAAAAARo4KAAAAAABVebwKh6DQAn/CWQD92QEA3DcAAK5REQEAAAAAeDk7AFrKCQBwFgQA9GLoAIh8XwJaTAwA9hg5AAAAAACrthkAAAAAAMBbOwF8IBYA8A51APsfSADG8QAAxtQAAFDDAAApGAYA3NYNAMh3AQDUTu8AAAAAAA0AFgBlRo8BAAAAAMRUAADBbqEAgV/eAfNWJwL73SIA3+EAAAAAAAAAAAAADWuTAJQztwMCHAkA8GvkAAAAAAAAAAAA7IJGCREd8QCI9xYAAAAAAAaBJAAO3Q4Ao6EbAAAAAACJ2REAHcABAAPLbQAbK2YA",
                        "dtype": "i4"
                      },
                      "yaxis": "y3"
                    },
                    {
                      "hovertemplate": "Trade bloc=USMCA<br>year=2011<br>category=Parts<br>Real GDP=%{x}<br>Export=%{y}<extra></extra>",
                      "legendgroup": "USMCA",
                      "marker": {
                        "color": "#EF553B",
                        "symbol": "diamond"
                      },
                      "mode": "markers",
                      "name": "USMCA",
                      "orientation": "v",
                      "showlegend": true,
                      "type": "scatter",
                      "x": {
                        "bdata": "AMCuZV8CdUIA4EbdGA9wQg==",
                        "dtype": "f8"
                      },
                      "xaxis": "x",
                      "y": [
                        28560672661,
                        21596577589
                      ],
                      "yaxis": "y"
                    },
                    {
                      "hovertemplate": "Trade bloc=USMCA<br>year=2011<br>category=Passenger Vehicles<br>Real GDP=%{x}<br>Export=%{y}<extra></extra>",
                      "legendgroup": "USMCA",
                      "marker": {
                        "color": "#EF553B",
                        "symbol": "diamond"
                      },
                      "mode": "markers",
                      "name": "USMCA",
                      "orientation": "v",
                      "showlegend": false,
                      "type": "scatter",
                      "x": {
                        "bdata": "AMCuZV8CdUIA4EbdGA9wQg==",
                        "dtype": "f8"
                      },
                      "xaxis": "x2",
                      "y": [
                        17902530002,
                        3174225028
                      ],
                      "yaxis": "y2"
                    },
                    {
                      "hovertemplate": "Trade bloc=USMCA<br>year=2011<br>category=Trucks<br>Real GDP=%{x}<br>Export=%{y}<extra></extra>",
                      "legendgroup": "USMCA",
                      "marker": {
                        "color": "#EF553B",
                        "symbol": "diamond"
                      },
                      "mode": "markers",
                      "name": "USMCA",
                      "orientation": "v",
                      "showlegend": false,
                      "type": "scatter",
                      "x": {
                        "bdata": "AMCuZV8CdUIA4EbdGA9wQg==",
                        "dtype": "f8"
                      },
                      "xaxis": "x3",
                      "y": [
                        5013353082,
                        147360365
                      ],
                      "yaxis": "y3"
                    }
                  ],
                  "name": "2011"
                },
                {
                  "data": [
                    {
                      "hovertemplate": "Trade bloc=Other<br>year=2012<br>category=Parts<br>Real GDP=%{x}<br>Export=%{y}<extra></extra>",
                      "legendgroup": "Other",
                      "marker": {
                        "color": "#636efa",
                        "symbol": "circle"
                      },
                      "mode": "markers",
                      "name": "Other",
                      "orientation": "v",
                      "showlegend": true,
                      "type": "scatter",
                      "x": {
                        "bdata": "AAD8JUMxEEIAAOieJRkEQgAAlcRuzUNCAABsLRj5MkIAAEBfZcrUQQDgZgSr4GBCAACw1mHMAUIAAGA6QjXlQQDQkPqxR3JCAMCYrfOyVUIAAJLjyHomQgAAOJpIEQZCAAAEqXLnGkIAAJ2YVPZCQgAAcDjNDfRBAADeZi6gKkIAANmNk+hZQgAAQPSBO91BAAAwaPBHAkIAAOCAzJ35QQAAKAkiBhpCAAB4letKDEIAAMC/UI4GQgBAiCaiQ3pCAADQsv9WCUIAAKxRgcUmQgAAGO0ENwNCAACAsbEA5kEAAMAyRH7ZQQAAeOs5BxJCAAC8V2GTGUIAAGCDt2fwQQAAwJTFBeNBAAC0IkNGSkIAOFXpmo+gQgCACKrcNE5CAAD4y5nIBUIAAFDqq+QnQgAAmBrZbSBCAAAoHQtfJ0IAAGjmVooTQgCA4pXehURCAABMBxXQG0IAADDDlcBQQgAAABhZk8FBAAAwwjV7K0IAAIFlFTs0QgAAX2Nnd1FCAAAg58SBFEIAAADN9kYUQgAAAGORF+tBAAC09IxYJkIAAMAnHy/uQQAA1zD1a0tCAKA3JGpGgUIAAKAVA0zzQQAASJ1dZwdCAABAolF100EAAChnbRIJQgAARldi5IdCAACA8FtsJEIAABP0NAxHQgAAABJJaMlBAACgfr2vKUIAAICa/QnPQQAA4OjvC+5BAAAUnB/DEUIAQPlI15lQQgAA/TPrbDpCAACYVdViDUIAAH+eHc54QgBARYxvjWVCAIBlUO5eV0IAAL8UakhJQgCAz9Wu/U9CAKA0HK4ce0IAABjc0N8JQgBw7ONBII9CAACOSpKGIEIAgKVrMzRDQgAAjlhNiSxCAAAAhiXQokEAACzB+BY6QgAAwAT0wfRBAABogXCMBUIAAExJLK4WQgAAGqfpvyVCAADAom934EEAAOAByPjlQQAARv0VbCFCAAAGXGrVKUIAAHxGG6MoQgAAgPkqWANCAAAggMgB/kEAAJFtShROQgAAwDwLrOlBAAA40rDcCEIAAOiWCNgAQgAAgM8BE/RBAAAgVE8ZBEIAALAT/nT5QQAAYOcMjQFCAACAiDa560EAAHttGQk3QgAAAF04fghCAAA8MpYeJkIAANBzghICQgAAdEjJ4RNCAODbiJXDZUIAAKDyI8lCQgAASIp4nwRCAACQX/nE/kEAgCvdBKdYQgAAmN9l7ABCAMAJ+puEVUIAAAmBS18wQgAA8a3y1U5CAAAAIjE9rkEAAN6tJS0mQgAA4KJAGhBCAAC0MIW5HEIAgM3WFL9DQgCAqhlkjE1CAMABMpaSWUIAgMXtnd1GQgCA97GIKkBCAAC7K0I6Q0IAsOc2+r5zQgAAkBt3TPpBAACAuIB4x0EAAABSAq6rQQCglNPBAWJCAACwP7qcDEIAAIAtXZnSQQCAkzEH9k9CAAB7aDYWM0IAAO4v3g4jQgAAAKMBANJBAMDxlfQpU0IAQGvKc31zQgAgLjLi2nBCAACmDBotMUIAAIBlpejIQQAAQPI6DNtBAAAAqMX7xUEAALZuYSYmQgAAoGC8KPNBAEAC/a8IW0IAYBEtkhNjQgAAkAG6XPlBAAAa54g/IkIAQFzcRtdVQgAAQHmcd9VBAAAgrJMv8kEAANSckHUXQgAAfn+h/iNCAEDOERXUZEIAAAxyZFYaQgAAewWTHDpCAEBHuopxUkIAqPOFf9aDQgAAsuaexShCAAC2nLFSMEIAgFlSFS1HQgAAGrZCPCpCAAAAL9x7EUIAAGy2p34RQg==",
                        "dtype": "f8"
                      },
                      "xaxis": "x",
                      "y": {
                        "bdata": "bm8QBd5nCAC0RpwAA0PAANqCFgDiF9MHLSkHAFlMOgBXGsp2z9CGBMRfGABDf/MARjCTAITDGgAvkGUA1HbJAOnvnSEy3HoAMcBJA8T+IAD97R0BB2MMAK20AQBo3SU9eKISAFL8JwDwpAYAAAAAAE/2BgAg5dcAxBsjAKiPRwDPRAAAz+hRItMjeWF4mvARfBQWAGudqwMovjkAjRoPAB5fDgBhEoMCXMARAOd65wBbzA0AAROsBz3w6wR94usEbcbRAXVpTQArcAAAvXMcAFj3BADUi4gF8RD/HZdcDQC1GzMAvqICAGuIQgFX5r9jnfC9AaAdVADDIggAZGmsBgAAAACINKgAOw+SAj/+NhGf5JsDY+47AO5ovBKztGAFeB0AADJzigDYJnAFaz+EEND45wDoRZRZGEZfAaW58AAwN00AVFMAAABL6AMK5SUAK6MAAGulcwC8QxYC6AkAAFybMgDsSg0BxnouAHD5CgBULAoA5c0AAF3kywG32QwAZG4QAFpBCwAp3oEAIX4DAGffAQCR6BYBdSIFAG7KmwC3fwkBMPMKAC3kPQDLzAUA870JDvDVawJYOVwB0VkvABJe2gXVkgEAkXBQAmo6LQECKHQA+moBAGUHDwS4yjUARnccAaMPEw0+4A0F4Hm1B3KD3wDxxgcBtXjmABl5qxEQSwMA90QCAOwsAAComEARS249AHTcAgB15nAbDX4hAYv6HACcMwAABW2oFTb8Wyu3/5wKoOYUAADrDACIJxQATw4YAKYNAAARJdcBzapWCao/OgGWggIAo5S8AOuPghNyywMAcZhlAEtCGAHdZCAAs0bgBRfmEACHPPYAyPw6HrjYn0HwJQMBhAwrAAqdJAESwXYAAH2tAFpmMAA=",
                        "dtype": "i4"
                      },
                      "yaxis": "y"
                    },
                    {
                      "hovertemplate": "Trade bloc=Other<br>year=2012<br>category=Passenger Vehicles<br>Real GDP=%{x}<br>Export=%{y}<extra></extra>",
                      "legendgroup": "Other",
                      "marker": {
                        "color": "#636efa",
                        "symbol": "circle"
                      },
                      "mode": "markers",
                      "name": "Other",
                      "orientation": "v",
                      "showlegend": false,
                      "type": "scatter",
                      "x": {
                        "bdata": "AOBmBKvgYEIAAGA6QjXlQQDQkPqxR3JCAMCYrfOyVUIAADiaSBEGQgAA2Y2T6FlCAADggMyd+UEAQIgmokN6QgAArFGBxSZCAABgg7dn8EEAAMCUxQXjQQAAtCJDRkpCADhV6ZqPoEIAgAiq3DROQgAAUOqr5CdCAAAoHQtfJ0IAgOKV3oVEQgAAMMOVwFBCAAAwwjV7K0IAAIFlFTs0QgAAX2Nnd1FCAAAg58SBFEIAAADN9kYUQgAA1zD1a0tCAKA3JGpGgUIAAECiUXXTQQAAKGdtEglCAABGV2Lkh0IAABP0NAxHQgAAoH69rylCAAAUnB/DEUIAQPlI15lQQgAA/TPrbDpCAAB/nh3OeEIAQEWMb41lQgAAvxRqSElCAIDP1a79T0IAoDQcrhx7QgBw7ONBII9CAACOSpKGIEIAACzB+BY6QgAATEksrhZCAAAap+m/JUIAAEb9FWwhQgAABlxq1SlCAAB8RhujKEIAAJFtShROQgAAe20ZCTdCAODbiJXDZUIAAKDyI8lCQgAASIp4nwRCAIAr3QSnWEIAwAn6m4RVQgAACYFLXzBCAADxrfLVTkIAAN6tJS0mQgAAtDCFuRxCAIDN1hS/Q0IAgKoZZIxNQgDAATKWkllCAIDF7Z3dRkIAALsrQjpDQgCw5zb6vnNCAKCU08EBYkIAgJMxB/ZPQgAAe2g2FjNCAMDxlfQpU0IAQGvKc31zQgAgLjLi2nBCAEAC/a8IW0IAYBEtkhNjQgAAGueIPyJCAEBc3EbXVUIAANSckHUXQgBAzhEV1GRCAAB7BZMcOkIAQEe6inFSQgCo84V/1oNCAACy5p7FKEIAALacsVIwQgCAWVIVLUdC",
                        "dtype": "f8"
                      },
                      "xaxis": "x2",
                      "y": [
                        107308929,
                        9507242,
                        1081054868,
                        55625661,
                        16425671,
                        64619302,
                        286196,
                        291421152,
                        2258127,
                        11471462,
                        38000,
                        440786062,
                        4959652931,
                        197451155,
                        56439113,
                        1600820,
                        17810541,
                        898158,
                        105993111,
                        103012702,
                        46031948,
                        14429676,
                        6324488,
                        20185144,
                        150476263,
                        817095,
                        29650163,
                        5857684381,
                        898577,
                        57517946,
                        27602821,
                        86608888,
                        6521617,
                        37550067,
                        39809547,
                        2029148,
                        132979877,
                        262213813,
                        503077329,
                        68625847,
                        929300775,
                        1490273,
                        98962303,
                        2598797,
                        578654,
                        465072,
                        735278,
                        11064769,
                        77108134,
                        84284824,
                        9270403,
                        205928159,
                        18297823,
                        430201685,
                        526291,
                        108303345,
                        17123590,
                        128344912,
                        77953150,
                        44777236,
                        2324102,
                        5096742,
                        648273226,
                        4838045032,
                        8938237,
                        7600790,
                        283378565,
                        570039460,
                        62650666,
                        43236531,
                        170920898,
                        760681,
                        9780797,
                        2813997,
                        45420799,
                        24956827,
                        1818622363,
                        1220801862,
                        5434043,
                        100000,
                        38911711
                      ],
                      "yaxis": "y2"
                    },
                    {
                      "hovertemplate": "Trade bloc=Other<br>year=2012<br>category=Trucks<br>Real GDP=%{x}<br>Export=%{y}<extra></extra>",
                      "legendgroup": "Other",
                      "marker": {
                        "color": "#636efa",
                        "symbol": "circle"
                      },
                      "mode": "markers",
                      "name": "Other",
                      "orientation": "v",
                      "showlegend": false,
                      "type": "scatter",
                      "x": {
                        "bdata": "AOBmBKvgYEIA0JD6sUdyQgDAmK3zslVCAAAEqXLnGkIAAN5mLqAqQgAA2Y2T6FlCAAB4letKDEIAQIgmokN6QgAArFGBxSZCAABgg7dn8EEAAMCUxQXjQQAAtCJDRkpCADhV6ZqPoEIAAFDqq+QnQgCA4pXehURCAAAww5XAUEIAADDCNXsrQgAAAM32RhRCAADXMPVrS0IAoDckakaBQgAAKGdtEglCAABGV2Lkh0IAAIDwW2wkQgAAE/Q0DEdCAED5SNeZUEIAAP0z62w6QgAAf54dznhCAAC/FGpISUIAgM/Vrv1PQgCgNByuHHtCAHDs40Egj0IAAI5KkoYgQgAATEksrhZCAAAGXGrVKUIAAJFtShROQgAAONKw3AhCAACAzwET9EEAAICINrnrQQAAAF04fghCAAA8MpYeJkIA4NuIlcNlQgAAoPIjyUJCAACY32XsAEIAwAn6m4RVQgAACYFLXzBCAADerSUtJkIAgM3WFL9DQgCAqhlkjE1CAMABMpaSWUIAgMXtnd1GQgAAuytCOkNCALDnNvq+c0IAoJTTwQFiQgAAsD+6nAxCAICTMQf2T0IAAHtoNhYzQgAA7i/eDiNCAMDxlfQpU0IAQGvKc31zQgAgLjLi2nBCAACmDBotMUIAQAL9rwhbQgBgES2SE2NCAEBc3EbXVUIAAH5/of4jQgBAzhEV1GRCAAB7BZMcOkIAqPOFf9aDQgCAWVIVLUdC",
                        "dtype": "f8"
                      },
                      "xaxis": "x3",
                      "y": {
                        "bdata": "50hpAKyQuBRyDQEA1+oSANUvAADwNw4AAAAAAIct+gDIrwAAhjsOAAAAAABUP9EHJnFZCELmxACtWgAAER4FAMNLmwDQ9QIAOI0oAO6LVwBvsgQA0kuUAPynXwCAGgYA9Uo6AAAAAAA76G0AAAAAAHJyqACMxAYAQ+pVAGDcpQDW7QcAAAAAALAMBwC8ygcArOgHAAAAAADtg28AkLkLAKn3EgCmSrMBfzAEAHqlAACWlV4AkqjWASLTsQLizUAARn8PAFWFDAAAAAAAa6efAOGcRwUX3gIAJ9KfAQAAAAAAAAAA07nCCPThhADwPzsAkF8BABCIDQArDAYA5BQJADDqBAC8nwkAAAAAAFexUwAxaEQA",
                        "dtype": "i4"
                      },
                      "yaxis": "y3"
                    },
                    {
                      "hovertemplate": "Trade bloc=USMCA<br>year=2012<br>category=Parts<br>Real GDP=%{x}<br>Export=%{y}<extra></extra>",
                      "legendgroup": "USMCA",
                      "marker": {
                        "color": "#EF553B",
                        "symbol": "diamond"
                      },
                      "mode": "markers",
                      "name": "USMCA",
                      "orientation": "v",
                      "showlegend": true,
                      "type": "scatter",
                      "x": {
                        "bdata": "AEB0dMxgdUIAwGxOLKFwQg==",
                        "dtype": "f8"
                      },
                      "xaxis": "x",
                      "y": [
                        31998428903,
                        24577884819
                      ],
                      "yaxis": "y"
                    },
                    {
                      "hovertemplate": "Trade bloc=USMCA<br>year=2012<br>category=Passenger Vehicles<br>Real GDP=%{x}<br>Export=%{y}<extra></extra>",
                      "legendgroup": "USMCA",
                      "marker": {
                        "color": "#EF553B",
                        "symbol": "diamond"
                      },
                      "mode": "markers",
                      "name": "USMCA",
                      "orientation": "v",
                      "showlegend": false,
                      "type": "scatter",
                      "x": {
                        "bdata": "AEB0dMxgdUIAwGxOLKFwQg==",
                        "dtype": "f8"
                      },
                      "xaxis": "x2",
                      "y": [
                        18776536663,
                        3607341712
                      ],
                      "yaxis": "y2"
                    },
                    {
                      "hovertemplate": "Trade bloc=USMCA<br>year=2012<br>category=Trucks<br>Real GDP=%{x}<br>Export=%{y}<extra></extra>",
                      "legendgroup": "USMCA",
                      "marker": {
                        "color": "#EF553B",
                        "symbol": "diamond"
                      },
                      "mode": "markers",
                      "name": "USMCA",
                      "orientation": "v",
                      "showlegend": false,
                      "type": "scatter",
                      "x": {
                        "bdata": "AEB0dMxgdUIAwGxOLKFwQg==",
                        "dtype": "f8"
                      },
                      "xaxis": "x3",
                      "y": [
                        5557753481,
                        211011092
                      ],
                      "yaxis": "y3"
                    }
                  ],
                  "name": "2012"
                },
                {
                  "data": [
                    {
                      "hovertemplate": "Trade bloc=Other<br>year=2013<br>category=Parts<br>Real GDP=%{x}<br>Export=%{y}<extra></extra>",
                      "legendgroup": "Other",
                      "marker": {
                        "color": "#636efa",
                        "symbol": "circle"
                      },
                      "mode": "markers",
                      "name": "Other",
                      "orientation": "v",
                      "showlegend": true,
                      "type": "scatter",
                      "x": {
                        "bdata": "AADoh20ZEUIAADiC/HAEQgCAcOk8UURCAAAro77pM0IAAIDJaKrUQQBgZBaYSGFCAADAJ75iAkIAAMDGcJLmQQAAoE54wXJCAEC+LQalVUIAAFiLD8snQgAAEF+HbwVCAABAePlTHEIAAMswQBpEQgAAoD7u2fNBAABeekHkKkIAgLiq1vxZQgAAQPPYiN5BAAAoan6YA0IAACDEdIv5QQAAwGvkyhtCAACYVR71DEIAAJiqbg8JQgAATaqqDXtCAACIBirNCEIAACaM3aUmQgAAsCX1UwRCAADgBA8W50EAAMB1hafZQQAAsB3ecRNCAABw33TaGkIAAAD0cZ3wQQAAgJEhM9hBAIDBGs0kS0IAaE1uZNmhQgCAn9ndwU9CAABAA9+gBUIAAEqoRH0oQgAAzgFoMiJCAAB0polXJ0IAAEi8z0ASQgCAYTasg0RCAADQIQEsHkIAwEadT/xQQgAAAPmMk8FBAACc+mDWLEIAAIE+j7A1QgAAtvcf2VFCAAD4fV70FEIAAHCdJKIUQgAAIHJdI+xBAABCK+q1KEIAAEDL8JzvQQAAviwuJ0tCAOhRtPxogUIAALB/tl/zQQAA4GQzuQhCAABAsGsE1EEAACC84FsKQgAo39IB/IdCAABKKK/qJUIAAPKxJYZGQgAAgCI1AcpBAACesLOiKkIAAADhWwbQQQAAQAP0JO9BAAAYJA9CEkIAAN+Gph1RQgAANrZk9jpCAACwrU65DkIA4GgOpGN6QgBALt8NwGZCAIAbON8DV0IAgE0VTdZJQgCA6RAlplBCAJD8Ln+eekIAAMg+GwIKQgBIwmcHwI9CAAAgtfz0IEIAgANELFtEQgAALBa/ni1CAAAApnpEpEEAAG+BvmM6QgAAwAL/BfdBAACYmTRHB0IAALQo4CcXQgAAxpwLlSZCAABgtP/C4EEAAGAWbOHnQQAATOqUICJCAAAw2i2nKkIAAOqOTUkrQgAA2BsWygNCAAAQAmWh/0EAAHKUuH1PQgAAoARxdutBAACIP050CUIAAFCeVecBQgAA8FFR6PRBAABAkzbGBEIAAHBqYcL7QQAAQCxxmANCAACgeBe17EEAAG24MPw3QgAAWCVDGgpCAACaYLf7J0IAAFBuRhYDQgAAkII1lRRCAMDjUebBZUIAAGvVrEVDQgAAcGmYowVCAABQotIzAEIAgLdZDExaQgAAGLohawFCAIAhV5a8VUIAAHdHZzoxQgDAMEBVF1BCAAAA3CZSrUEAAPSnMJQnQgAAjCrttxBCAAAwdFobH0IAgItT7uZEQgCAyhAHi09CAAAbkGG/WUIAgDHWAqRGQgCA9/t4EEFCAIBb+PpHQ0IA8Aquthd0QgAA4Dg6ivtBAAAAFfN+x0EAAAA0yhitQQCgkfeLiWJCAABonW1NDUIAAIARD9XSQQCAdKAawFBCAAABE5Q4M0IAAPRMreYiQgAAwJ5c8dJBAICDMOSjU0IAYISbWht0QgAgVNlLnXBCAACs20LfMUIAAIDB2lXKQQAAwERLjtpBAACA51qGxkEAABynPpUmQgAAsAiduPNBAAC13WxXW0IAwL90F2tjQgAA4DYwPftBAACMwlZ8I0IAABvIim1WQgAAgBQ3ItZBAABg4ro+80EAAHBqbT4YQgAAfJICeyRCAECjlI2YZkIAADxSPEgbQgAAL5mcHzpCAACVBT5gU0IAiNg46DGEQgAA0j+36ylCAAC7I5iDMUIAgMbkk3ZIQgAA8n84gCtCAAB4djpeEkIAAPTfwdcRQg==",
                        "dtype": "f8"
                      },
                      "xaxis": "x",
                      "y": [
                        34468998,
                        461640,
                        15008419,
                        9315286,
                        1653023,
                        190842426,
                        751870,
                        3276031,
                        1562343737,
                        55555402,
                        3807417,
                        22205045,
                        20095230,
                        2636661,
                        6698820,
                        3287218,
                        465364239,
                        9563204,
                        93662333,
                        1949904,
                        29190365,
                        10957063,
                        472537,
                        1104052084,
                        2344629,
                        2101107,
                        2019393,
                        200224,
                        18331,
                        15741818,
                        5831028,
                        3553468,
                        0,
                        570730432,
                        2314160979,
                        312274724,
                        3490080,
                        48493016,
                        1843788,
                        767870,
                        960501,
                        42471464,
                        909037,
                        16772729,
                        786175,
                        100804851,
                        94381236,
                        99634391,
                        30301365,
                        4053620,
                        46917,
                        2370454,
                        375103,
                        83353492,
                        535973902,
                        895372,
                        2669940,
                        351486,
                        16308736,
                        1804848263,
                        28507861,
                        4124994,
                        915892,
                        95481606,
                        14425,
                        16776654,
                        36954227,
                        407605181,
                        92969576,
                        3865733,
                        248635578,
                        77695405,
                        46300,
                        14641548,
                        73515136,
                        344945305,
                        17282144,
                        1376096141,
                        18832480,
                        12892039,
                        6141035,
                        33539,
                        60087406,
                        10404043,
                        89431,
                        6377152,
                        38744939,
                        32020,
                        2868206,
                        13878094,
                        4515846,
                        1213815,
                        1961764,
                        84367,
                        42437742,
                        477762,
                        1161407,
                        759058,
                        9265250,
                        367291,
                        503082,
                        9364842,
                        145622,
                        23448021,
                        9199694,
                        2250117,
                        3578128,
                        14435,
                        407035347,
                        44998331,
                        25223070,
                        1242227,
                        102893180,
                        833290,
                        46660439,
                        19211965,
                        7124747,
                        32903,
                        72506835,
                        1422715,
                        19250068,
                        233487915,
                        81791169,
                        142392259,
                        13010909,
                        19533304,
                        48991465,
                        499132773,
                        99677,
                        504080,
                        4484,
                        318293065,
                        4211576,
                        273729,
                        411067066,
                        17985236,
                        2438945,
                        22041,
                        326654470,
                        848136251,
                        257201767,
                        2042100,
                        1848152,
                        2478472,
                        1693432,
                        0,
                        18219525,
                        154815081,
                        26180643,
                        134355,
                        19223423,
                        377190132,
                        0,
                        9859455,
                        27680222,
                        1466624,
                        109604456,
                        1590396,
                        14982747,
                        576057127,
                        1008999915,
                        14248645,
                        3651418,
                        24360791,
                        8838474,
                        21916577,
                        3144054
                      ],
                      "yaxis": "y"
                    },
                    {
                      "hovertemplate": "Trade bloc=Other<br>year=2013<br>category=Passenger Vehicles<br>Real GDP=%{x}<br>Export=%{y}<extra></extra>",
                      "legendgroup": "Other",
                      "marker": {
                        "color": "#636efa",
                        "symbol": "circle"
                      },
                      "mode": "markers",
                      "name": "Other",
                      "orientation": "v",
                      "showlegend": false,
                      "type": "scatter",
                      "x": {
                        "bdata": "AGBkFphIYUIAAMDGcJLmQQAAoE54wXJCAEC+LQalVUIAABBfh28FQgCAuKrW/FlCAAAgxHSL+UEAAE2qqg17QgAAJozdpSZCAAAA9HGd8EEAAICRITPYQQCAwRrNJEtCAGhNbmTZoUIAgJ/Z3cFPQgAASqhEfShCAAB0polXJ0IAgGE2rINEQgDARp1P/FBCAACc+mDWLEIAAIE+j7A1QgAAtvcf2VFCAAD4fV70FEIAAHCdJKIUQgAAviwuJ0tCAOhRtPxogUIAAECwawTUQQAAILzgWwpCACjf0gH8h0IAAPKxJYZGQgAAnrCzoipCAAAYJA9CEkIAAN+Gph1RQgAANrZk9jpCAOBoDqRjekIAQC7fDcBmQgCATRVN1klCAIDpECWmUEIAkPwuf556QgBIwmcHwI9CAAAgtfz0IEIAAG+BvmM6QgAAtCjgJxdCAADGnAuVJkIAAEzqlCAiQgAAMNotpypCAADqjk1JK0IAAHKUuH1PQgAAbbgw/DdCAMDjUebBZUIAAGvVrEVDQgAAcGmYowVCAIC3WQxMWkIAgCFXlrxVQgAAd0dnOjFCAMAwQFUXUEIAAPSnMJQnQgAAMHRaGx9CAICLU+7mREIAgMoQB4tPQgAAG5Bhv1lCAIAx1gKkRkIAgFv4+kdDQgDwCq62F3RCAKCR94uJYkIAgHSgGsBQQgAAAROUODNCAICDMOSjU0IAYISbWht0QgAgVNlLnXBCAAC13WxXW0IAwL90F2tjQgAAjMJWfCNCAAAbyIptVkIAAHBqbT4YQgBAo5SNmGZCAAAvmZwfOkIAAJUFPmBTQgCI2DjoMYRCAADSP7frKUIAALsjmIMxQgCAxuSTdkhC",
                        "dtype": "f8"
                      },
                      "xaxis": "x2",
                      "y": [
                        121653269,
                        8369200,
                        1388250828,
                        34806106,
                        19376365,
                        98848903,
                        485839,
                        266438853,
                        1741591,
                        10054580,
                        0,
                        551588503,
                        7531612003,
                        249480612,
                        40123236,
                        854515,
                        663650,
                        857882,
                        88084312,
                        111604295,
                        14889372,
                        17241612,
                        8897880,
                        36264307,
                        83459912,
                        1341886,
                        31027228,
                        4745975309,
                        1053700,
                        41574501,
                        19798692,
                        87166103,
                        28744883,
                        47737219,
                        69216992,
                        898344,
                        157441372,
                        192555067,
                        461660396,
                        95237684,
                        1003267181,
                        2297532,
                        98805997,
                        8335789,
                        434411,
                        879571,
                        1300316,
                        13886035,
                        129593450,
                        79504775,
                        7876226,
                        217484326,
                        181616582,
                        390442371,
                        212983,
                        111294141,
                        29986359,
                        123854687,
                        78088873,
                        74021185,
                        2956672,
                        6662596,
                        1136572739,
                        4740250708,
                        9330513,
                        41233,
                        280905141,
                        713276427,
                        42536644,
                        37212095,
                        218488408,
                        546940,
                        19487131,
                        2850631,
                        43680621,
                        109364694,
                        2141941944,
                        1209237409,
                        8268804,
                        0,
                        14129289
                      ],
                      "yaxis": "y2"
                    },
                    {
                      "hovertemplate": "Trade bloc=Other<br>year=2013<br>category=Trucks<br>Real GDP=%{x}<br>Export=%{y}<extra></extra>",
                      "legendgroup": "Other",
                      "marker": {
                        "color": "#636efa",
                        "symbol": "circle"
                      },
                      "mode": "markers",
                      "name": "Other",
                      "orientation": "v",
                      "showlegend": false,
                      "type": "scatter",
                      "x": {
                        "bdata": "AGBkFphIYUIAAKBOeMFyQgBAvi0GpVVCAABAePlTHEIAAF56QeQqQgCAuKrW/FlCAACYVR71DEIAAE2qqg17QgAAJozdpSZCAAAA9HGd8EEAAICRITPYQQCAwRrNJEtCAGhNbmTZoUIAAEqoRH0oQgCAYTasg0RCAMBGnU/8UEIAAJz6YNYsQgAAcJ0kohRCAAC+LC4nS0IA6FG0/GiBQgAAILzgWwpCACjf0gH8h0IAAEoor+olQgAA8rElhkZCAADfhqYdUUIAADa2ZPY6QgDgaA6kY3pCAIBNFU3WSUIAgOkQJaZQQgCQ/C5/nnpCAEjCZwfAj0IAACC1/PQgQgAAtCjgJxdCAAAw2i2nKkIAAHKUuH1PQgAAiD9OdAlCAADwUVHo9EEAAKB4F7XsQQAAWCVDGgpCAACaYLf7J0IAwONR5sFlQgAAa9WsRUNCAAAYuiFrAUIAgCFXlrxVQgAAd0dnOjFCAAD0pzCUJ0IAgItT7uZEQgCAyhAHi09CAAAbkGG/WUIAgDHWAqRGQgCAW/j6R0NCAPAKrrYXdEIAoJH3i4liQgAAaJ1tTQ1CAIB0oBrAUEIAAAETlDgzQgAA9Eyt5iJCAICDMOSjU0IAYISbWht0QgAgVNlLnXBCAACs20LfMUIAALXdbFdbQgDAv3QXa2NCAAAbyIptVkIAAHySAnskQgBAo5SNmGZCAAAvmZwfOkIAiNg46DGEQgCAxuSTdkhC",
                        "dtype": "f8"
                      },
                      "xaxis": "x3",
                      "y": {
                        "bdata": "Ce2JAEDAQxDvmwAA+EQQAAAAAAAqaxQAAAAAAEqNlQAAAAAA3oQOAAAAAABrpJgFgXx4BczJoQAAAAAAugYGAJViugCAPgAAh4oWAMQjEADZWQsATV5nAKZMNQAAAAAAU1EOAAAAAAD8sgUAcBEBAM/4mABQyhgAXTcWAVTPOABTxQEAAAAAAGNvBgAAAAAAmIIIAAAAAAAYyV8ATJQBAOBpHABaJEsBAAAAAHbMAQDJJ3sA+LrxAOmwYQN7dksAHSUKAGi/AADKJwIACkxNABKpYAZy0xEAV9WlAAAAAAAx5wAAetnPB0qdYgAB8qAAAAAAAIA4EABzrQ0AxD8fAMXKBgAF9h0AAAAAAMu8iQC2lQwA",
                        "dtype": "i4"
                      },
                      "yaxis": "y3"
                    },
                    {
                      "hovertemplate": "Trade bloc=USMCA<br>year=2013<br>category=Parts<br>Real GDP=%{x}<br>Export=%{y}<extra></extra>",
                      "legendgroup": "USMCA",
                      "marker": {
                        "color": "#EF553B",
                        "symbol": "diamond"
                      },
                      "mode": "markers",
                      "name": "USMCA",
                      "orientation": "v",
                      "showlegend": true,
                      "type": "scatter",
                      "x": {
                        "bdata": "ADBZ8xXgdUIAIIPRcsVwQg==",
                        "dtype": "f8"
                      },
                      "xaxis": "x",
                      "y": [
                        31955532884,
                        27020301970
                      ],
                      "yaxis": "y"
                    },
                    {
                      "hovertemplate": "Trade bloc=USMCA<br>year=2013<br>category=Passenger Vehicles<br>Real GDP=%{x}<br>Export=%{y}<extra></extra>",
                      "legendgroup": "USMCA",
                      "marker": {
                        "color": "#EF553B",
                        "symbol": "diamond"
                      },
                      "mode": "markers",
                      "name": "USMCA",
                      "orientation": "v",
                      "showlegend": false,
                      "type": "scatter",
                      "x": {
                        "bdata": "ADBZ8xXgdUIAIIPRcsVwQg==",
                        "dtype": "f8"
                      },
                      "xaxis": "x2",
                      "y": [
                        20348261635,
                        3631801923
                      ],
                      "yaxis": "y2"
                    },
                    {
                      "hovertemplate": "Trade bloc=USMCA<br>year=2013<br>category=Trucks<br>Real GDP=%{x}<br>Export=%{y}<extra></extra>",
                      "legendgroup": "USMCA",
                      "marker": {
                        "color": "#EF553B",
                        "symbol": "diamond"
                      },
                      "mode": "markers",
                      "name": "USMCA",
                      "orientation": "v",
                      "showlegend": false,
                      "type": "scatter",
                      "x": {
                        "bdata": "ADBZ8xXgdUIAIIPRcsVwQg==",
                        "dtype": "f8"
                      },
                      "xaxis": "x3",
                      "y": [
                        5181614688,
                        271544253
                      ],
                      "yaxis": "y3"
                    }
                  ],
                  "name": "2013"
                },
                {
                  "data": [
                    {
                      "hovertemplate": "Trade bloc=Other<br>year=2014<br>category=Parts<br>Real GDP=%{x}<br>Export=%{y}<extra></extra>",
                      "legendgroup": "Other",
                      "marker": {
                        "color": "#636efa",
                        "symbol": "circle"
                      },
                      "mode": "markers",
                      "name": "Other",
                      "orientation": "v",
                      "showlegend": true,
                      "type": "scatter",
                      "x": {
                        "bdata": "AAC4WbGQEUIAAACWN+YEQgCA8Rp9JkVCAACnIJbfNEIAAAA9tR7VQQDgwspr2WBCAAAwfy8MA0IAACDgwjbmQQCQsewUPnNCAACsM+fOVUIAAPCddnUoQgAAGHbm1AVCAABconOMHUIAAMcFK1JFQgAAkFEe3vNBAAA+ZexVK0IAQFEOTHJaQgAAALnuw99BAACgJ23XBEIAAFAqbZn4QQAAgOlnTx1CAADAo6dKDUIAAKDA7XwKQgDgFaeRMHtCAABYLe8tCEIAABjH6dwmQgAAEPQfNQVCAABg/64Q6EEAAABrRtXZQQAAwO4cABVCAADgtqljHEIAABChWg7xQQAAAE8nONhBAAAfbF6hS0IAsBMWWy6jQgAA1tzQl1BCAADI79oQB0IAALQiVVspQgAAAPv95iNCAADAtj42J0IAANzQ0e0RQgAAiXqV+URCAADYtL6DIEIAgATl4TNRQgAAgP2f/MFBAADQQlvjLkIAAJ/eNps2QgDAc0VbXlJCAADY9yNRFUIAAKBUqFEVQgAAIEfMiuxBAADOg8s+K0IAAEAAN7HwQQCAz+/yBUtCAHCX3XWVgUIAAJDHJn3zQQAAgLNNyglCAADA6ky800EAAKgw5m8LQgBgLeo2gYhCAADKVvCKJkIAgAT/07NGQgAAgOz86ctBAABKOLnRK0IAAMBd7S3QQQAAgKVqq+9BAAAs4v7QEkIAQP/GsJZRQgAApEqRITxCAACAEQM+D0IAwBLMP1h8QgDAVTCl42dCAEAfipEpWEIAgGmC0D9MQgCA73gTR1FCAID1+WaeekIAALgYCTAKQgAQ3MYa2I9CAAB8uOOHIUIAgALMCjZFQgAA4KFoGy9CAAAAQguGpEEAAKOtlYU6QgAAsD0s8/dBAAAgadEMCUIAAFzuD6QXQgAAjmamJCdCAACgBWYM4UEAAIAkTQzoQQAAPFGmzyJCAACAMihaK0IAAOawN7oqQgAAsNZAcwRCAAAYi3K0AEIAgM2r+7BQQgAAQBoVn+1BAAAwxrVjC0IAAIg5GEUDQgAAwKkezfVBAABIVr2RBUIAALBHrCX9QQAAOPb/IwVCAABgZS047UEAAB42KKM4QgAAaNb3HAxCAABIUVPxKUIAACjt+D8EQgAAaHT30RVCAKA4b7gbZkIAAFLfdAJEQgAAuMOwrAZCAABArFNHAUIAwPZQ0vRbQgAAgIr1DAJCAMAgr44uVkIAABOgZXMxQgBAYAPnwFBCAAAA+DG4rkEAAJq4aasoQgAAWACX+xJCAAC2PcFgIEIAAPEHZmZFQgDAQI7QxVBCAMAa+cvBWkIAABVy+85GQgCAikSA+UFCAAAkNiUTREIAoCvHlT10QgAA0NMGPf1BAAAAxKSmx0EAAABAPoauQQDgP7eJSGNCAAComVIgD0IAAADK+JjTQQAAxzPdaFFCAABhRtO9M0IAAGaNXGwjQgAAQAAIK9NBAAA0HvrqU0IAoKwQMsB0QgBQCJH33XBCAADXAhIDM0IAAAC7rlTMQQAAAN2U6NpBAACA/nLOxkEAANgBu6InQgAAIEWDxfNBAABKkx34W0IAYL4I6N9jQgAAYFpkEP1BAACuSi3MJEIAQPHYEKZWQgAAgPSiH9dBAADQuUNU9EEAADgOxyMZQgAAIEgJHSVCAABgIku2Z0IAADxG36wcQgAAqgiTfTdCAIDn5N4uVEIAKFQgEdeEQgAAJv+hwipCAAAaEcq3MkIAgK+SxghKQgAABL7vcitCAAC80eo6E0IAACAPVUQSQg==",
                        "dtype": "f8"
                      },
                      "xaxis": "x",
                      "y": [
                        23578362,
                        439331,
                        17725937,
                        8448753,
                        2065959,
                        245597949,
                        364358,
                        3420666,
                        1498106291,
                        64214953,
                        2028163,
                        18427944,
                        11531022,
                        2263612,
                        9321815,
                        2348603,
                        528302233,
                        9478902,
                        127545072,
                        2080643,
                        33393938,
                        5792317,
                        379306,
                        1088344768,
                        1857194,
                        2405174,
                        1323885,
                        17384,
                        17561,
                        21522031,
                        4722153,
                        3916493,
                        261918,
                        552671388,
                        2638629452,
                        355879821,
                        1455878,
                        53918812,
                        2685633,
                        1865850,
                        582238,
                        43065049,
                        1193694,
                        28944551,
                        920539,
                        109025999,
                        98479654,
                        185533837,
                        34273206,
                        6705119,
                        893500,
                        4356546,
                        754033,
                        64890016,
                        515511083,
                        1021010,
                        2680046,
                        471482,
                        17280525,
                        1924245843,
                        15551209,
                        12296072,
                        1315229,
                        95170028,
                        18559,
                        16296355,
                        40708695,
                        835494401,
                        93129516,
                        5105191,
                        281141201,
                        59436995,
                        77045,
                        20086824,
                        93072466,
                        516425504,
                        22927214,
                        1464297206,
                        40593926,
                        12145213,
                        5655552,
                        31919,
                        61820377,
                        1877948,
                        96113,
                        9089500,
                        32964097,
                        6699,
                        2969184,
                        14416900,
                        7810337,
                        903034,
                        341413,
                        153502,
                        58533009,
                        497392,
                        385056,
                        646368,
                        9957373,
                        429835,
                        248991,
                        3511557,
                        88527,
                        8954413,
                        6145047,
                        565278,
                        4682292,
                        766456,
                        694469849,
                        50777913,
                        24373253,
                        1311584,
                        94083158,
                        1279727,
                        45915269,
                        23905354,
                        9077498,
                        66219,
                        71019491,
                        1104157,
                        18277681,
                        250751775,
                        65231954,
                        166719366,
                        11994467,
                        25606601,
                        76605584,
                        550860451,
                        52359,
                        731278,
                        17972,
                        337292405,
                        2511834,
                        260873,
                        379666593,
                        23373454,
                        1961082,
                        122828,
                        366223215,
                        929064784,
                        305227544,
                        1987367,
                        2335432,
                        2941601,
                        1641835,
                        71073,
                        8940793,
                        148645172,
                        23490076,
                        159700,
                        6637095,
                        279184889,
                        2535,
                        7360934,
                        26800518,
                        4709862,
                        159146108,
                        1353212,
                        8897667,
                        739281221,
                        1450308912,
                        12452645,
                        1185630,
                        26047211,
                        8637806,
                        7370731,
                        4071269
                      ],
                      "yaxis": "y"
                    },
                    {
                      "hovertemplate": "Trade bloc=Other<br>year=2014<br>category=Passenger Vehicles<br>Real GDP=%{x}<br>Export=%{y}<extra></extra>",
                      "legendgroup": "Other",
                      "marker": {
                        "color": "#636efa",
                        "symbol": "circle"
                      },
                      "mode": "markers",
                      "name": "Other",
                      "orientation": "v",
                      "showlegend": false,
                      "type": "scatter",
                      "x": {
                        "bdata": "AODCymvZYEIAACDgwjbmQQCQsewUPnNCAACsM+fOVUIAABh25tQFQgBAUQ5MclpCAABQKm2Z+EEA4BWnkTB7QgAAGMfp3CZCAAAQoVoO8UEAAABPJzjYQQAAH2xeoUtCALATFlsuo0IAANbc0JdQQgAAtCJVWylCAADAtj42J0IAAIl6lflEQgCABOXhM1FCAADQQlvjLkIAAJ/eNps2QgDAc0VbXlJCAADY9yNRFUIAAKBUqFEVQgCAz+/yBUtCAHCX3XWVgUIAAMDqTLzTQQAAqDDmbwtCAGAt6jaBiEIAgAT/07NGQgAASji50StCAAAs4v7QEkIAQP/GsJZRQgAApEqRITxCAMASzD9YfEIAwFUwpeNnQgCAaYLQP0xCAIDveBNHUUIAgPX5Zp56QgAQ3MYa2I9CAAB8uOOHIUIAAKOtlYU6QgAAXO4PpBdCAACOZqYkJ0IAADxRps8iQgAAgDIoWitCAADmsDe6KkIAgM2r+7BQQgAAHjYoozhCAKA4b7gbZkIAAFLfdAJEQgAAuMOwrAZCAMD2UNL0W0IAwCCvji5WQgAAE6BlczFCAEBgA+fAUEIAAJq4aasoQgAAtj3BYCBCAADxB2ZmRUIAwECO0MVQQgDAGvnLwVpCAAAVcvvORkIAACQ2JRNEQgCgK8eVPXRCAOA/t4lIY0IAAMcz3WhRQgAAYUbTvTNCAAA0HvrqU0IAoKwQMsB0QgBQCJH33XBCAABKkx34W0IAYL4I6N9jQgAArkotzCRCAEDx2BCmVkIAADgOxyMZQgAAYCJLtmdCAACqCJN9N0IAgOfk3i5UQgAoVCAR14RCAAAm/6HCKkIAABoRyrcyQgCAr5LGCEpC",
                        "dtype": "f8"
                      },
                      "xaxis": "x2",
                      "y": [
                        14175813,
                        7242837,
                        1847630380,
                        45558575,
                        23265071,
                        293220511,
                        894226,
                        289946103,
                        1896621,
                        11850075,
                        1921635,
                        442866660,
                        9942175219,
                        281985984,
                        53269500,
                        3032374,
                        1507379,
                        1781935,
                        94675800,
                        90084212,
                        22587615,
                        21459489,
                        15173535,
                        12331764,
                        136175566,
                        2258006,
                        23523810,
                        5272829307,
                        2022483,
                        48394673,
                        19544071,
                        163406906,
                        27214879,
                        47367090,
                        30783828,
                        649859,
                        231684657,
                        250934632,
                        546601968,
                        69229247,
                        715925198,
                        1656652,
                        96162193,
                        3566436,
                        526304,
                        3741542,
                        4142491,
                        25286405,
                        62648642,
                        174342737,
                        10842518,
                        205248413,
                        396056249,
                        349673700,
                        547938,
                        117202356,
                        37056798,
                        141060779,
                        53779673,
                        85600468,
                        3195153,
                        7984798,
                        1405495083,
                        3794319146,
                        8547247,
                        199668,
                        250340454,
                        943071401,
                        63114858,
                        41312324,
                        283760185,
                        881721,
                        24703118,
                        3429764,
                        59984987,
                        48694999,
                        2162718008,
                        1472157278,
                        11472332,
                        68919,
                        29568386
                      ],
                      "yaxis": "y2"
                    },
                    {
                      "hovertemplate": "Trade bloc=Other<br>year=2014<br>category=Trucks<br>Real GDP=%{x}<br>Export=%{y}<extra></extra>",
                      "legendgroup": "Other",
                      "marker": {
                        "color": "#636efa",
                        "symbol": "circle"
                      },
                      "mode": "markers",
                      "name": "Other",
                      "orientation": "v",
                      "showlegend": false,
                      "type": "scatter",
                      "x": {
                        "bdata": "AODCymvZYEIAkLHsFD5zQgAArDPnzlVCAABconOMHUIAAD5l7FUrQgBAUQ5MclpCAADAo6dKDUIA4BWnkTB7QgAAGMfp3CZCAAAQoVoO8UEAAABPJzjYQQAAH2xeoUtCALATFlsuo0IAALQiVVspQgAAiXqV+URCAIAE5eEzUUIAANBCW+MuQgAAoFSoURVCAIDP7/IFS0IAcJfddZWBQgAAqDDmbwtCAGAt6jaBiEIAAMpW8IomQgCABP/Ts0ZCAED/xrCWUUIAAKRKkSE8QgDAEsw/WHxCAIBpgtA/TEIAgO94E0dRQgCA9flmnnpCABDcxhrYj0IAAHy444chQgAAXO4PpBdCAACAMihaK0IAgM2r+7BQQgAAMMa1YwtCAADAqR7N9UEAAGBlLTjtQQAAaNb3HAxCAABIUVPxKUIAoDhvuBtmQgAAUt90AkRCAACAivUMAkIAwCCvji5WQgAAE6BlczFCAACauGmrKEIAAPEHZmZFQgDAQI7QxVBCAMAa+cvBWkIAABVy+85GQgAAJDYlE0RCAKArx5U9dEIA4D+3iUhjQgAAqJlSIA9CAADHM91oUUIAAGFG070zQgAAZo1cbCNCAAA0HvrqU0IAoKwQMsB0QgBQCJH33XBCAADXAhIDM0IAAEqTHfhbQgBgvgjo32NCAEDx2BCmVkIAACBICR0lQgAAYCJLtmdCAACqCJN9N0IAKFQgEdeEQgCAr5LGCEpC",
                        "dtype": "f8"
                      },
                      "xaxis": "x3",
                      "y": {
                        "bdata": "XRgUAZHkPwu4PgMA/wgoAAAAAABmyTsAAAAAANIGnQAAAAAAjWkXAPMITwB/iYsCnI20A7DVwgAAAAAAGpYCABlzlQBtEQMA+5kTAM34MACyAQMAa2SuAE0fEgDAXBUAszwDAIiKBgDkDgAA6sAAAFXyMgK8OQ4AoxQbAX+gVQEAAAAAoNYBALMtAQAAAAAAAAAAABRQAACn/HkA8DgPAGm7IgDB/8kBAAAAAIEKAQDZDlYAjMeKASSMBAOzKKkA7cwAAJAUAQDorAEA3Xh+AAMi7wbGkAMAwQ5oAAAAAAAAAAAApHFjCPObwwCcugoAAAAAAO64NQDXIwcAS4xEAAAAAABCxx4AAAAAAMPprgB+8WYA",
                        "dtype": "i4"
                      },
                      "yaxis": "y3"
                    },
                    {
                      "hovertemplate": "Trade bloc=USMCA<br>year=2014<br>category=Parts<br>Real GDP=%{x}<br>Export=%{y}<extra></extra>",
                      "legendgroup": "USMCA",
                      "marker": {
                        "color": "#EF553B",
                        "symbol": "diamond"
                      },
                      "mode": "markers",
                      "name": "USMCA",
                      "orientation": "v",
                      "showlegend": true,
                      "type": "scatter",
                      "x": {
                        "bdata": "AHDemQCBdkIAcBxB8jBxQg==",
                        "dtype": "f8"
                      },
                      "xaxis": "x",
                      "y": [
                        30835751278,
                        29697309738
                      ],
                      "yaxis": "y"
                    },
                    {
                      "hovertemplate": "Trade bloc=USMCA<br>year=2014<br>category=Passenger Vehicles<br>Real GDP=%{x}<br>Export=%{y}<extra></extra>",
                      "legendgroup": "USMCA",
                      "marker": {
                        "color": "#EF553B",
                        "symbol": "diamond"
                      },
                      "mode": "markers",
                      "name": "USMCA",
                      "orientation": "v",
                      "showlegend": false,
                      "type": "scatter",
                      "x": {
                        "bdata": "AHDemQCBdkIAcBxB8jBxQg==",
                        "dtype": "f8"
                      },
                      "xaxis": "x2",
                      "y": [
                        21865353045,
                        3540262939
                      ],
                      "yaxis": "y2"
                    },
                    {
                      "hovertemplate": "Trade bloc=USMCA<br>year=2014<br>category=Trucks<br>Real GDP=%{x}<br>Export=%{y}<extra></extra>",
                      "legendgroup": "USMCA",
                      "marker": {
                        "color": "#EF553B",
                        "symbol": "diamond"
                      },
                      "mode": "markers",
                      "name": "USMCA",
                      "orientation": "v",
                      "showlegend": false,
                      "type": "scatter",
                      "x": {
                        "bdata": "AHDemQCBdkIAcBxB8jBxQg==",
                        "dtype": "f8"
                      },
                      "xaxis": "x3",
                      "y": [
                        4998684617,
                        394054683
                      ],
                      "yaxis": "y3"
                    }
                  ],
                  "name": "2014"
                },
                {
                  "data": [
                    {
                      "hovertemplate": "Trade bloc=Other<br>year=2015<br>category=Parts<br>Real GDP=%{x}<br>Export=%{y}<extra></extra>",
                      "legendgroup": "Other",
                      "marker": {
                        "color": "#636efa",
                        "symbol": "circle"
                      },
                      "mode": "markers",
                      "name": "Other",
                      "orientation": "v",
                      "showlegend": true,
                      "type": "scatter",
                      "x": {
                        "bdata": "AAAwNfTREUIAAJB1Z10FQgCAvJjA00VCAACaygESNUIAAEAgkmvVQQCghDw6T2FCAABwNTmoA0IAAMAPTBPmQQDg4aT4qXNCAAClda0XVkIAALQoLrcoQgAAAIibDAZCAABAkShKHkIAAKl40rdGQgAAYLkVs/NBAABo2e5JKkIAAM42GtZaQgAAADLpVuBBAAAgX0w2BUIAAIDMQ8r4QQAAoEHcux5CAAA4/jOODkIAAGC99jMJQgDgjX7DOXpCAACgYKUVCEIAAJ7fxKMnQgAAmGIDCgZCAABAu2og50EAAABVLRPaQQAABESSgxZCAADwmoT/HUIAAADkDorxQQAAgMwPRdlBAAA7a5U5TEIAGJfqCYWkQgBAxIpgFVFCAABYLF8pB0IAAGi6ZkgqQgAA4v+SVSVCAAA6MkvAJ0IAAEDrvYoSQgCAwD3ZA0ZCAAACkiSoIUIAQJjvjpBRQgAAgBhLYcFBAABsKvOFMEIAAPAjJKI2QgDArMfxK1NCAAAApBzUFUIAABhF+rUVQgAAQO5cIO1BAABM4aUTLkIAAFCRj3HxQQAA4bE4JktCABBX3nrFgUIAAJB1H9fzQQAAkHVmygpCAAAAmFOJ1EEAAKCNRVsMQgBorKbk6IhCAACsmFMFJ0IAALdBj6ZGQgAAgBeQts1BAADqFij1LEIAAIAp/yvRQQAAILgl4+9BAAAU3fiJE0IAQBJ9NAJSQgAAn7UhKT1CAABcrm1QEEIAwPYwepx+QgDAzSTdDWlCAABYaG7RV0IAAG/B+5lRQgAANgUMqlFCAHA8VcHaekIAALD2z20KQgDw3AyqK5BCAAA+Ve73IUIAAPHiM3dFQgAAsBuBUzBCAAAAzO3VpkEAAHbT1K06QgAAcG7O4PhBAADougjfCkIAANCxCIkYQgAA2HcKQCdCAACAyL6U4UEAAICOKAvoQQAAglURWCNCAACwQxf5K0IAAAytKfokQgAA6Kw8FwVCAABYHjAsAUIAAOUci4pRQgAA4ARoxO5BAACQy6MGDUIAAMBkth8FQgAAgAEu+fZBAAAoxYVdBkIAAMBXbwz9QQAAcOvLpAVCAACgq8g17kEAAGE/LbU5QgAASPULMQ5CAABOJL7BK0IAANinBh0FQgAAGFARsBZCAMB0o72TZkIAgFd8fr9EQgAAKObdwgdCAACwyKAJAkIAAOyJq7JcQgAA0BgjvwJCAECtBweYVkIAABVkh1MyQgCA4UnOdVFCAAAAYIeesEEAAChhCvgpQgAASF9FOxRCAABAsL3cIEIAgA7KkRhGQgCAIjpm1lFCAMAtIl3xW0IAgHdrzytHQgAAvO451EJCAAD02GO1REIAUCPwXddzQgAA0PT20/9BAAAA8cSPyEEAAAA2j/6uQQAAAAJXLmRCAACgqdWNEEIAAABmL1jVQQBAXTWJ7VFCAADtqXTDNEIAAOSIXeMjQgAAwL9HfdNBAIC+42AuVEIA4Ciua1V1QgAQpV5QjXFCAAB89MbPM0IAAACnBofMQQAAACma79pBAACAUfFwx0EAAChmTxYoQgAA4NzCGPNBAACR/uIzXUIAYLFflTNkQgAA0HNA0P5BAACSAC4UJkIAAKWpx1tXQgAAAChystdBAACw2tVw9UEAANhcbf8YQgAAMklXUSVCAKDEw6MnaUIAAMjRtCkeQgAA7VXeMTVCAMBA0oiNVUIAoPHTqE2FQgAAfOoH3CpCAAAzn7IRNEIAgJ4udNpLQgAAsgrHwyNCAAB4Vq/KE0IAAKhqkJcSQg==",
                        "dtype": "f8"
                      },
                      "xaxis": "x",
                      "y": [
                        47856294,
                        510662,
                        11482732,
                        7507091,
                        1951995,
                        242506091,
                        273858,
                        5477941,
                        1345828779,
                        64782785,
                        4098168,
                        17884593,
                        14610689,
                        2508333,
                        12221773,
                        1523866,
                        539470416,
                        10133985,
                        107948349,
                        2066505,
                        21072834,
                        1682732,
                        92654,
                        1047190278,
                        1226499,
                        1177074,
                        458384,
                        29585,
                        38162,
                        21239821,
                        4983162,
                        5296896,
                        258183,
                        461186270,
                        2478130561,
                        296352874,
                        2109589,
                        81266191,
                        2777722,
                        1212710,
                        264087,
                        42542045,
                        998589,
                        28527800,
                        1080843,
                        110770051,
                        73332291,
                        184811981,
                        42578740,
                        1586602,
                        1379059,
                        5538636,
                        562508,
                        43375936,
                        490471870,
                        780878,
                        2869639,
                        634690,
                        10121959,
                        2047764612,
                        16363042,
                        9142126,
                        1310043,
                        116741974,
                        16480,
                        20469135,
                        56798005,
                        537955591,
                        116516371,
                        4982858,
                        305747277,
                        46821354,
                        0,
                        25033450,
                        80400572,
                        815200667,
                        36787480,
                        1597308771,
                        32547159,
                        12470134,
                        4157535,
                        87953,
                        56771576,
                        639502,
                        140952,
                        3541932,
                        31922606,
                        3396,
                        3516834,
                        6390249,
                        14738290,
                        843900,
                        513227,
                        132294,
                        52055554,
                        670261,
                        723424,
                        647406,
                        2753499,
                        266011,
                        16040,
                        6201391,
                        127020,
                        6430339,
                        7348584,
                        786851,
                        1816343,
                        64924,
                        883936506,
                        56287533,
                        29712751,
                        442776,
                        84301513,
                        6851302,
                        42381577,
                        29891766,
                        51643107,
                        524955,
                        86170753,
                        558441,
                        15049596,
                        227896722,
                        40901127,
                        208144114,
                        14811202,
                        29006267,
                        39908432,
                        387379262,
                        35937,
                        135282,
                        327080,
                        356535052,
                        2347397,
                        206697,
                        315126587,
                        33428182,
                        4116728,
                        50105,
                        426365605,
                        979093563,
                        432215756,
                        1472676,
                        1831779,
                        2172500,
                        2158144,
                        0,
                        12566224,
                        141821981,
                        24192910,
                        273436,
                        11244031,
                        338813681,
                        0,
                        3971123,
                        28865745,
                        2741865,
                        211512820,
                        1149641,
                        8026879,
                        714172553,
                        1601666669,
                        10300575,
                        1370041,
                        32177576,
                        3166858,
                        6330607,
                        2719465
                      ],
                      "yaxis": "y"
                    },
                    {
                      "hovertemplate": "Trade bloc=Other<br>year=2015<br>category=Passenger Vehicles<br>Real GDP=%{x}<br>Export=%{y}<extra></extra>",
                      "legendgroup": "Other",
                      "marker": {
                        "color": "#636efa",
                        "symbol": "circle"
                      },
                      "mode": "markers",
                      "name": "Other",
                      "orientation": "v",
                      "showlegend": false,
                      "type": "scatter",
                      "x": {
                        "bdata": "AKCEPDpPYUIAAMAPTBPmQQDg4aT4qXNCAAClda0XVkIAAACImwwGQgAAzjYa1lpCAACAzEPK+EEA4I1+wzl6QgAAnt/EoydCAAAA5A6K8UEAAIDMD0XZQQAAO2uVOUxCABiX6gmFpEIAQMSKYBVRQgAAaLpmSCpCAAA6MkvAJ0IAgMA92QNGQgBAmO+OkFFCAABsKvOFMEIAAPAjJKI2QgDArMfxK1NCAAAApBzUFUIAABhF+rUVQgAA4bE4JktCABBX3nrFgUIAAACYU4nUQQAAoI1FWwxCAGispuToiEIAALdBj6ZGQgAA6hYo9SxCAAAU3fiJE0IAQBJ9NAJSQgAAn7UhKT1CAMD2MHqcfkIAwM0k3Q1pQgAAb8H7mVFCAAA2BQyqUUIAcDxVwdp6QgDw3AyqK5BCAAA+Ve73IUIAAHbT1K06QgAA0LEIiRhCAADYdwpAJ0IAAIJVEVgjQgAAsEMX+StCAAAMrSn6JEIAAOUci4pRQgAAYT8ttTlCAMB0o72TZkIAgFd8fr9EQgAAKObdwgdCAADsiauyXEIAQK0HB5hWQgAAFWSHUzJCAIDhSc51UUIAAChhCvgpQgAAQLC93CBCAIAOypEYRkIAgCI6ZtZRQgDALSJd8VtCAIB3a88rR0IAAPTYY7VEQgBQI/Bd13NCAAAAAlcuZEIAQF01ie1RQgAA7al0wzRCAIC+42AuVEIA4Ciua1V1QgAQpV5QjXFCAACR/uIzXUIAYLFflTNkQgAAkgAuFCZCAAClqcdbV0IAANhcbf8YQgCgxMOjJ2lCAADtVd4xNUIAwEDSiI1VQgCg8dOoTYVCAAB86gfcKkIAADOfshE0QgCAni502ktC",
                        "dtype": "f8"
                      },
                      "xaxis": "x2",
                      "y": [
                        13835790,
                        6246460,
                        1649200775,
                        32287603,
                        16619474,
                        315292947,
                        723316,
                        202952824,
                        1605440,
                        12544001,
                        103691,
                        370393149,
                        8264903454,
                        211000738,
                        67245990,
                        2210945,
                        4284707,
                        3064977,
                        90059232,
                        44349698,
                        3145506,
                        21122396,
                        10849454,
                        5828370,
                        81941164,
                        1340793,
                        10910880,
                        5910717531,
                        1290024,
                        56281744,
                        18797601,
                        230370062,
                        19984780,
                        43835280,
                        19937605,
                        1392415,
                        223266441,
                        159290682,
                        521764341,
                        52905656,
                        721990856,
                        70817,
                        112462809,
                        1979300,
                        1651126,
                        0,
                        6667292,
                        37720145,
                        55128939,
                        161612514,
                        10903346,
                        82122786,
                        163138436,
                        369335759,
                        585909,
                        114484478,
                        35987448,
                        133106601,
                        73930875,
                        76375005,
                        3511594,
                        8223314,
                        244587047,
                        3790058130,
                        3978431,
                        129931,
                        193313555,
                        1234509992,
                        53668148,
                        32917130,
                        282867693,
                        801438,
                        11542029,
                        4083436,
                        30894229,
                        13256532,
                        2122690664,
                        1749937335,
                        6567627,
                        1020740,
                        54133469
                      ],
                      "yaxis": "y2"
                    },
                    {
                      "hovertemplate": "Trade bloc=Other<br>year=2015<br>category=Trucks<br>Real GDP=%{x}<br>Export=%{y}<extra></extra>",
                      "legendgroup": "Other",
                      "marker": {
                        "color": "#636efa",
                        "symbol": "circle"
                      },
                      "mode": "markers",
                      "name": "Other",
                      "orientation": "v",
                      "showlegend": false,
                      "type": "scatter",
                      "x": {
                        "bdata": "AKCEPDpPYUIA4OGk+KlzQgAApXWtF1ZCAABAkShKHkIAAGjZ7kkqQgAAzjYa1lpCAAA4/jOODkIA4I1+wzl6QgAAnt/EoydCAAAA5A6K8UEAAIDMD0XZQQAAO2uVOUxCABiX6gmFpEIAAGi6ZkgqQgCAwD3ZA0ZCAECY746QUUIAAGwq84UwQgAAGEX6tRVCAADhsTgmS0IAEFfeesWBQgAAoI1FWwxCAGispuToiEIAAKyYUwUnQgAAt0GPpkZCAEASfTQCUkIAAJ+1ISk9QgDA9jB6nH5CAABvwfuZUUIAADYFDKpRQgBwPFXB2npCAPDcDKorkEIAAD5V7vchQgAA0LEIiRhCAACwQxf5K0IAAOUci4pRQgAAkMujBg1CAACAAS759kEAAKCryDXuQQAASPULMQ5CAABOJL7BK0IAwHSjvZNmQgCAV3x+v0RCAADQGCO/AkIAQK0HB5hWQgAAFWSHUzJCAAAoYQr4KUIAgA7KkRhGQgCAIjpm1lFCAMAtIl3xW0IAgHdrzytHQgAA9NhjtURCAFAj8F3Xc0IAAAACVy5kQgAAoKnVjRBCAEBdNYntUUIAAO2pdMM0QgAA5Ihd4yNCAIC+42AuVEIA4Ciua1V1QgAQpV5QjXFCAAB89MbPM0IAAJH+4jNdQgBgsV+VM2RCAAClqcdbV0IAADJJV1ElQgCgxMOjJ2lCAADtVd4xNUIAoPHTqE2FQgCAni502ktC",
                        "dtype": "f8"
                      },
                      "xaxis": "x3",
                      "y": {
                        "bdata": "dmBUAHHYKQeD8ycAD+sKAAAAAACd/zMAAAAAAJvamwBGFAAAPdIXAMJYUQCRw2wCHMU7BBTPAQEAAAAA/ZQFAJPbpQDsLAAAJO4BAGH1EADkkgAA1JxVALszBAAAAAAAjPgAAJIVBwD1jRgAAAAAAAkGzQFdRgUA0wxqAHFHEQGIhAIAAAAAAAsuAAArsBAAAAAAACDLAAA5GCsAHosJAMWsEgBDUiwBAAAAAAAAAAD2VxMAj/ipAItM4wGcqEcBOKMGAAAAAAAAAAAAyYMWAJl4VwdblAMA3NwFAAAAAAAAAAAA3RbfALLFXwBXiQoAAAAAAGewCAB/jwgA2OBHAAAAAAA5dBgAk4cBAJhJTQDqhoMB",
                        "dtype": "i4"
                      },
                      "yaxis": "y3"
                    },
                    {
                      "hovertemplate": "Trade bloc=USMCA<br>year=2015<br>category=Parts<br>Real GDP=%{x}<br>Export=%{y}<extra></extra>",
                      "legendgroup": "USMCA",
                      "marker": {
                        "color": "#EF553B",
                        "symbol": "diamond"
                      },
                      "mode": "markers",
                      "name": "USMCA",
                      "orientation": "v",
                      "showlegend": true,
                      "type": "scatter",
                      "x": {
                        "bdata": "AJA1e3KmdkIAMKzF36dxQg==",
                        "dtype": "f8"
                      },
                      "xaxis": "x",
                      "y": [
                        29818284887,
                        30563675255
                      ],
                      "yaxis": "y"
                    },
                    {
                      "hovertemplate": "Trade bloc=USMCA<br>year=2015<br>category=Passenger Vehicles<br>Real GDP=%{x}<br>Export=%{y}<extra></extra>",
                      "legendgroup": "USMCA",
                      "marker": {
                        "color": "#EF553B",
                        "symbol": "diamond"
                      },
                      "mode": "markers",
                      "name": "USMCA",
                      "orientation": "v",
                      "showlegend": false,
                      "type": "scatter",
                      "x": {
                        "bdata": "AJA1e3KmdkIAMKzF36dxQg==",
                        "dtype": "f8"
                      },
                      "xaxis": "x2",
                      "y": [
                        21023836427,
                        3084575996
                      ],
                      "yaxis": "y2"
                    },
                    {
                      "hovertemplate": "Trade bloc=USMCA<br>year=2015<br>category=Trucks<br>Real GDP=%{x}<br>Export=%{y}<extra></extra>",
                      "legendgroup": "USMCA",
                      "marker": {
                        "color": "#EF553B",
                        "symbol": "diamond"
                      },
                      "mode": "markers",
                      "name": "USMCA",
                      "orientation": "v",
                      "showlegend": false,
                      "type": "scatter",
                      "x": {
                        "bdata": "AJA1e3KmdkIAMKzF36dxQg==",
                        "dtype": "f8"
                      },
                      "xaxis": "x3",
                      "y": [
                        4568516286,
                        326924602
                      ],
                      "yaxis": "y3"
                    }
                  ],
                  "name": "2015"
                },
                {
                  "data": [
                    {
                      "hovertemplate": "Trade bloc=Other<br>year=2016<br>category=Parts<br>Real GDP=%{x}<br>Export=%{y}<extra></extra>",
                      "legendgroup": "Other",
                      "marker": {
                        "color": "#636efa",
                        "symbol": "circle"
                      },
                      "mode": "markers",
                      "name": "Other",
                      "orientation": "v",
                      "showlegend": true,
                      "type": "scatter",
                      "x": {
                        "bdata": "AACYhBE5EkIAADAaMzMGQgAARbesrUZCAAC7xNaGNEIAAICag03WQQCAAx4L82BCAAAItUmyA0IAAGBtenTmQQCwLMLgNHRCAICKsmuPVkIAAOpFV/UnQgAAKD9XywVCAACopfpxH0IAAHWGh1VIQgAAwBN0DfRBAABopOefKUIAAO7lGChbQgAAIFkxWeBBAAD4DafrBUIAAJCJjqD4QQAA1nurBSBCAAB4otGLD0IAAMBrygQLQgAAcorTXXlCAABIyt18B0IAAFoC71ooQgAAGL4pWgdCAAAA9eT85kEAAIAg7DDbQQAAoOY1SxhCAAAEWthbH0IAACDviBvyQQAAANZceNpBAIAxPkC4TEIAbpgX9uilQgAAy42qcFFCAACgMmQmBUIAACr3SGMrQgAA8N5R3SZCAAA+lr2SKEIAAET0xcITQgCAvnJNlUZCAABcX5kUIkIAQDBYvRpSQgAAAICvocFBAABGCDGiMUIAAM62R3o2QgDABXpGAVRCAADUXf9hFkIAAPwN42EWQgAAINQCfe5BAAAqGP90MEIAAHDbxd7xQQAAYAH62EtCABiSXZvsgUIAAODqDUz0QQAAKPfWWQtCAABAzH7v1EEAAJBwu1UNQgB4UHM5e4lCAABoyiLMJ0IAgARJt6RGQgAAgKcE085BAABGk6q7LUIAAIAs0RrSQQAAUFH6jPBBAADYj7JMFEIAAFFEf2ZSQgAAwvEt3z1CAABcirJXEUIAcGiLvZGAQgCAgpStUGpCAMBQ1ezqWUIAgGNHE9FRQgBApm24c1JCABCiDL4ve0IAAJh828oKQgDIfMLeSpBCAABQdKlTIkIAAJJgprNFQgAA18ObAzFCAAAAVkp0qEEAAAtqrXU7QgAAINry9PlBAADYLCPCDEIAAARlTikZQgAAnHyRnCdCAADgRyw34kEAAADBcqvnQQAALBNi3CNCAAB2ZpVdLUIAABaFsNUkQgAAgCDW7gVCAACwuBeaAUIAwNHeXFJSQgAAoFZGXfBBAAAwvNrEDkIAAKBLOfwFQgAAQAdWQ/dBAACYRas6B0IAAODJ7mX+QQAAWK1X9wVCAAAg9d8Z70EAAFAVetc5QgAAyEsUnA9CAADeolBiLUIAANBD2h4FQgAAbCE5yRZCACBns9sfZ0IAgMWoOIhFQgAAUN1v2AhCAACgnbgSA0IAwNdQ4jtcQgAA8IzTRwNCAMDyOmXbVkIAANOGSEAzQgCAVMSkm1JCAAAAMM+LsEEAAPac/CcrQgAAQEKXVxVCAAD4B/uUIUIAgOITMfhGQgAA7z/fHFNCAICE6THKXEIAgOgssaJHQgCAXGLtZ0NCAADFlgFNRUIAAFiGNOFzQgAA0Lw63QBCAAAAtMaFykEAAACoqEywQQDARs9ghmRCAAA8vTGbEUIAAIAsT+7XQQDAi02ImVJCAACPu/0qNUIAANLH230kQgAAgOBrktRBAAARNrZQVEIAED27XPZ1QgCg6RFNEHJCAAB09BXQNEIAAIB5O6bNQQAAgID529tBAACA1bxpyEEAANq+IuwoQgAAAE+kKPJBAEDg94zjXUIAgBFIkZ5kQgAACERFeABCAAAgSlKYJ0IAwK7eMSlYQgAAAK8KadhBAADQHS9Y9kEAAGQKpiUXQgAAxpxSjiVCAAApZaL9aUIAAJiR4ZofQgAAvR5QtjVCAECvQWTAVkIAmMOHdraFQgAAENM4UCtCAACsRXlCNUIAAIJZe7dNQgAAGMdq6SFCAADwqvGIFEIAAJhgibsSQg==",
                        "dtype": "f8"
                      },
                      "xaxis": "x",
                      "y": [
                        25713675,
                        1920330,
                        12244491,
                        4956200,
                        2108686,
                        294437733,
                        196899,
                        4680455,
                        1103599186,
                        73086327,
                        2981152,
                        21709483,
                        14202141,
                        2313097,
                        8908947,
                        3169511,
                        452350955,
                        8149229,
                        31671930,
                        2361120,
                        17563022,
                        486919,
                        252158,
                        1150546155,
                        1201619,
                        1628065,
                        278209,
                        1613074,
                        130442,
                        24555179,
                        3912269,
                        4542221,
                        40497,
                        346452658,
                        2981733038,
                        217884676,
                        1752822,
                        82791898,
                        2398464,
                        898285,
                        256693,
                        38008711,
                        604308,
                        30146373,
                        895447,
                        117167211,
                        63733888,
                        92023830,
                        58449413,
                        11126428,
                        337821,
                        7077497,
                        1101343,
                        32972933,
                        375099447,
                        963338,
                        1154658,
                        387100,
                        12034766,
                        2166246857,
                        20843414,
                        8702511,
                        2194889,
                        110992010,
                        31704,
                        13691974,
                        73033569,
                        410655109,
                        108641404,
                        4994484,
                        295449548,
                        35508016,
                        31500,
                        23770118,
                        71889998,
                        640403425,
                        17291274,
                        1655238034,
                        44618687,
                        15636223,
                        3258042,
                        7331,
                        48948263,
                        2256566,
                        126199,
                        5858778,
                        40619891,
                        0,
                        3764465,
                        5936145,
                        12654527,
                        553620,
                        728698,
                        101539,
                        51692404,
                        382452,
                        1103393,
                        422678,
                        2508412,
                        662731,
                        110555,
                        2736542,
                        161598,
                        9062396,
                        2593459,
                        913790,
                        1168799,
                        417168,
                        1217291957,
                        54146743,
                        33946105,
                        456818,
                        63097471,
                        14415057,
                        34340925,
                        33552592,
                        19063226,
                        61672,
                        93084394,
                        1175743,
                        149076134,
                        176574196,
                        49804353,
                        254082426,
                        14212797,
                        23848588,
                        28449267,
                        370823660,
                        199988,
                        114467,
                        0,
                        321605115,
                        2202056,
                        271694,
                        295956400,
                        34910046,
                        3055306,
                        28639,
                        350103921,
                        1007860549,
                        405918606,
                        2643229,
                        2332327,
                        2635748,
                        1828384,
                        21075,
                        7967643,
                        108492170,
                        26315282,
                        896068,
                        3961268,
                        626638946,
                        0,
                        7310783,
                        30814936,
                        1574221,
                        189706981,
                        892305,
                        6911988,
                        630178851,
                        1554672633,
                        9068500,
                        188793,
                        31429581,
                        3689085,
                        7499872,
                        1397133
                      ],
                      "yaxis": "y"
                    },
                    {
                      "hovertemplate": "Trade bloc=Other<br>year=2016<br>category=Passenger Vehicles<br>Real GDP=%{x}<br>Export=%{y}<extra></extra>",
                      "legendgroup": "Other",
                      "marker": {
                        "color": "#636efa",
                        "symbol": "circle"
                      },
                      "mode": "markers",
                      "name": "Other",
                      "orientation": "v",
                      "showlegend": false,
                      "type": "scatter",
                      "x": {
                        "bdata": "AIADHgvzYEIAAGBtenTmQQCwLMLgNHRCAICKsmuPVkIAACg/V8sFQgAA7uUYKFtCAACQiY6g+EEAAHKK0115QgAAWgLvWihCAAAg74gb8kEAAADWXHjaQQCAMT5AuExCAG6YF/bopUIAAMuNqnBRQgAAKvdIYytCAAA+lr2SKEIAgL5yTZVGQgBAMFi9GlJCAABGCDGiMUIAAM62R3o2QgDABXpGAVRCAADUXf9hFkIAAPwN42EWQgAAYAH62EtCABiSXZvsgUIAAEDMfu/UQQAAkHC7VQ1CAHhQczl7iUIAgARJt6RGQgAARpOquy1CAADYj7JMFEIAAFFEf2ZSQgAAwvEt3z1CAHBoi72RgEIAgIKUrVBqQgCAY0cT0VFCAECmbbhzUkIAEKIMvi97QgDIfMLeSpBCAABQdKlTIkIAAAtqrXU7QgAABGVOKRlCAACcfJGcJ0IAACwTYtwjQgAAdmaVXS1CAAAWhbDVJEIAwNHeXFJSQgAAUBV61zlCACBns9sfZ0IAgMWoOIhFQgAAUN1v2AhCAMDXUOI7XEIAwPI6ZdtWQgAA04ZIQDNCAIBUxKSbUkIAAPac/CcrQgAA+Af7lCFCAIDiEzH4RkIAAO8/3xxTQgCAhOkxylxCAIDoLLGiR0IAAMWWAU1FQgAAWIY04XNCAMBGz2CGZEIAwItNiJlSQgAAj7v9KjVCAAARNrZQVEIAED27XPZ1QgCg6RFNEHJCAEDg94zjXUIAgBFIkZ5kQgAAIEpSmCdCAMCu3jEpWEIAAGQKpiUXQgAAKWWi/WlCAAC9HlC2NUIAQK9BZMBWQgCYw4d2toVCAAAQ0zhQK0IAAKxFeUI1QgAAgll7t01C",
                        "dtype": "f8"
                      },
                      "xaxis": "x2",
                      "y": [
                        56046094,
                        9734037,
                        1281662454,
                        59426407,
                        20717103,
                        383954529,
                        1297239,
                        88329238,
                        3787456,
                        14305804,
                        10500,
                        344376624,
                        8211990469,
                        165347657,
                        62406211,
                        2482329,
                        19396218,
                        7813957,
                        95744563,
                        42827035,
                        4963726,
                        21286992,
                        2966964,
                        11376413,
                        176954319,
                        735136,
                        3510644,
                        6356555766,
                        2129856,
                        49321451,
                        18066553,
                        237543285,
                        34201129,
                        70154029,
                        10152601,
                        7409657,
                        271082347,
                        238889221,
                        444064087,
                        58090668,
                        592218399,
                        451950,
                        109872536,
                        1425140,
                        107625,
                        2131152,
                        1388589,
                        28195992,
                        36470874,
                        160665373,
                        11747824,
                        41318499,
                        304334828,
                        372484866,
                        282200,
                        118141796,
                        23334787,
                        125668067,
                        61642138,
                        58997511,
                        3734030,
                        19097636,
                        152532410,
                        2881392553,
                        3620740,
                        3440079,
                        126487240,
                        1551940345,
                        93252688,
                        70953842,
                        313186875,
                        407572,
                        13449100,
                        6799483,
                        26307714,
                        27247352,
                        1605293038,
                        1956269578,
                        7027131,
                        0,
                        82883954
                      ],
                      "yaxis": "y2"
                    },
                    {
                      "hovertemplate": "Trade bloc=Other<br>year=2016<br>category=Trucks<br>Real GDP=%{x}<br>Export=%{y}<extra></extra>",
                      "legendgroup": "Other",
                      "marker": {
                        "color": "#636efa",
                        "symbol": "circle"
                      },
                      "mode": "markers",
                      "name": "Other",
                      "orientation": "v",
                      "showlegend": false,
                      "type": "scatter",
                      "x": {
                        "bdata": "AIADHgvzYEIAsCzC4DR0QgCAirJrj1ZCAACopfpxH0IAAGik558pQgAA7uUYKFtCAAB4otGLD0IAAHKK0115QgAAWgLvWihCAAAg74gb8kEAAADWXHjaQQCAMT5AuExCAG6YF/bopUIAACr3SGMrQgCAvnJNlUZCAEAwWL0aUkIAAEYIMaIxQgAA/A3jYRZCAABgAfrYS0IAGJJdm+yBQgAAkHC7VQ1CAHhQczl7iUIAAGjKIswnQgCABEm3pEZCAABRRH9mUkIAAMLxLd89QgBwaIu9kYBCAIBjRxPRUUIAQKZtuHNSQgAQogy+L3tCAMh8wt5KkEIAAFB0qVMiQgAABGVOKRlCAAB2ZpVdLUIAwNHeXFJSQgAAMLzaxA5CAABAB1ZD90EAACD13xnvQQAAyEsUnA9CAADeolBiLUIAIGez2x9nQgCAxag4iEVCAADwjNNHA0IAwPI6ZdtWQgAA04ZIQDNCAAD2nPwnK0IAgOITMfhGQgAA7z/fHFNCAICE6THKXEIAgOgssaJHQgAAxZYBTUVCAABYhjThc0IAwEbPYIZkQgAAPL0xmxFCAMCLTYiZUkIAAI+7/So1QgAA0sfbfSRCAAARNrZQVEIAED27XPZ1QgCg6RFNEHJCAAB09BXQNEIAQOD3jONdQgCAEUiRnmRCAMCu3jEpWEIAAMacUo4lQgAAKWWi/WlCAAC9HlC2NUIAmMOHdraFQgAAgll7t01C",
                        "dtype": "f8"
                      },
                      "xaxis": "x3",
                      "y": {
                        "bdata": "lQg3AJ2tOAWUkQcAjXAYAAAAAAAO8hIAkGUAAHXEFwBMvAIAV7klAOhnAAALMTcCG8IgBCXvugD6hQAAjU4OADgO4wDkWQYAmBMQAErJHQCucSsAsGGeAIdNBQAAAAAA6OUEALqpAAD+HwEAcBcAAD9DJgEcBg8Aq7xhACFkdgCygwEAAAAAALszAADqugAA6G4DAAAAAAAOPBAAI5kCAP97MgDCr8cAAAAAADrpaQCGJHoAa8JjAELfzQGIG2sAiYQCAC6oAABgoQIA0xwDAH7u5gKwhwEALl0AAPBGAAAAAAAAkgd0AJ9GPAA8RAQAAAAAALSDDQCgaAYAmosIAAAAAADSTgsAh74KAGiDnwA9POAB",
                        "dtype": "i4"
                      },
                      "yaxis": "y3"
                    },
                    {
                      "hovertemplate": "Trade bloc=USMCA<br>year=2016<br>category=Parts<br>Real GDP=%{x}<br>Export=%{y}<extra></extra>",
                      "legendgroup": "USMCA",
                      "marker": {
                        "color": "#EF553B",
                        "symbol": "diamond"
                      },
                      "mode": "markers",
                      "name": "USMCA",
                      "orientation": "v",
                      "showlegend": true,
                      "type": "scatter",
                      "x": {
                        "bdata": "AMDJwaridkIAEBsT/fdxQg==",
                        "dtype": "f8"
                      },
                      "xaxis": "x",
                      "y": [
                        31123213547,
                        28853002029
                      ],
                      "yaxis": "y"
                    },
                    {
                      "hovertemplate": "Trade bloc=USMCA<br>year=2016<br>category=Passenger Vehicles<br>Real GDP=%{x}<br>Export=%{y}<extra></extra>",
                      "legendgroup": "USMCA",
                      "marker": {
                        "color": "#EF553B",
                        "symbol": "diamond"
                      },
                      "mode": "markers",
                      "name": "USMCA",
                      "orientation": "v",
                      "showlegend": false,
                      "type": "scatter",
                      "x": {
                        "bdata": "AMDJwaridkIAEBsT/fdxQg==",
                        "dtype": "f8"
                      },
                      "xaxis": "x2",
                      "y": [
                        22206354040,
                        3604195477
                      ],
                      "yaxis": "y2"
                    },
                    {
                      "hovertemplate": "Trade bloc=USMCA<br>year=2016<br>category=Trucks<br>Real GDP=%{x}<br>Export=%{y}<extra></extra>",
                      "legendgroup": "USMCA",
                      "marker": {
                        "color": "#EF553B",
                        "symbol": "diamond"
                      },
                      "mode": "markers",
                      "name": "USMCA",
                      "orientation": "v",
                      "showlegend": false,
                      "type": "scatter",
                      "x": {
                        "bdata": "AMDJwaridkIAEBsT/fdxQg==",
                        "dtype": "f8"
                      },
                      "xaxis": "x3",
                      "y": [
                        3960625475,
                        369550136
                      ],
                      "yaxis": "y3"
                    }
                  ],
                  "name": "2016"
                },
                {
                  "data": [
                    {
                      "hovertemplate": "Trade bloc=Other<br>year=2017<br>category=Parts<br>Real GDP=%{x}<br>Export=%{y}<extra></extra>",
                      "legendgroup": "Other",
                      "marker": {
                        "color": "#636efa",
                        "symbol": "circle"
                      },
                      "mode": "markers",
                      "name": "Other",
                      "orientation": "v",
                      "showlegend": true,
                      "type": "scatter",
                      "x": {
                        "bdata": "AAB8jY20EkIAAOD/ye0GQgAAsoHCBEdCAAAmZxp/NEIAAMDHZejWQQBgI+lWbWFCAACgonUsBUIAAEBhqQnoQQDALWjMqnRCAABgFqcSV0IAABg7w/4nQgAAIP9uhwZCAACkgmGAIEIAgDAqEvBJQgAAgBEMFPRBAACUgANGKkIAgNiKmo5bQgAAAERSDeBBAACgwOspB0IAACClPYT5QQAAoE2+sSBCAADIPudIEEIAADioXyEMQgAgqSy7s3lCAACAy8LMB0IAABbsIwYpQgAAiIwEzQhCAAAgpFEa50EAAIBhvG3cQQAAdAtqQRpCAACWCRA8IEIAANDoIa/yQQAAAL4lq9tBAIB0dhIcTUIACvVgfWunQgBASm5brVFCAABg7Hf3A0IAAJ4Ly4YsQgAATm4YjyhCAABwGyNhKUIAAETgseUUQgAAEOlmwEdCAACYxRrBIkIAgFY+ZqhSQgAAAB0oTcBBAADOCcZTMkIAAC9n1dE3QgBALTpo11RCAAAgOsniFkIAALhOv6QXQgAAQMK27u5BAACheO8HMkIAALBZrdPyQQCAchp5xExCAMAfPjdMgkIAAPAYGiv1QQAAyO/uegtCAABAgvbx1UEAADggOtkOQgC4K5RlLIpCAAAg9lu7KUIAgDzbG/pGQgAAgC+jGNBBAADKJBimLkIAAIBY+PLSQQAA8BY1K/FBAADwfF5IFUIAAP8dUBlTQgAA0C6QGj9CAADIwfAREkIAiHyh+7GBQgCAWpQ2pmtCAADXK/OhWkIAgFJJcptTQgBAHKsOQVNCAGBzE1ufe0IAAHClPw8LQgAoQv6+kJBCAAC8/LbHIkIAAI56bpdGQgAADF/GqjFCAAAA/P5eqUEAAFhgbCo6QgAAwD/qL/tBAAD4MpO9DkIAAFQwPgQaQgAA7ggn0ydCAABAntWk4UEAAMCXN0DoQQAAeCDjxiRCAABmr5rALUIAALYUmOMmQgAAqGqvywZCAABAHFZOAkIAQJcjAGNTQgAAMFukhfFBAADspSM2EEIAAEjfUtYIQgAAMKPEuPhBAACYD9kkCEIAAHBH4Kr/QQAAUMdSNAdCAAAwa7JI8EEAAI66FCY7QgAApFXIOBBCAACwcuQvL0IAABCRT+cEQgAAxE3j1BhCAGB5lIXEZ0IAgObqdkJGQgAAsIMA/wlCAACIdB4HBEIAANfxIXZcQgAA8IU4fQNCAMB4GI9rV0IAAOCjRE8zQgBAuVHMblNCAAAAnrgBsEEAAFgiULcsQgAAjCC1GBZCAADeNnttIkIAgArXTYxHQgBAFRj/b1RCAIA27/BFXkIAgL1wQWtIQgCAsAGHHUNCAIAk+ecLR0IAUKiVHz50QgAAkMhihgFCAAAAdkLlykEAAACIR/iwQQDAfDZ9xGRCAAAcaBDpEkIAAMC+V5jZQQBAfJGzblNCAACqzsXGNUIAALDiTI0lQgAAwNZhNNVBAMAy6e6MVEIAYGgmAqh2QgAwuwY5lnJCAACb/1AoNkIAAICUALfNQQAAwOAFzdxBAACAJknEyEEAAAwiYxkpQgAAUPpwcfJBAMCqETRvXkIAwGj5gOZkQgAAQDSgowFCAACA48gwKUIAgAOvlytZQgAAANkrotdBAADw5nQ990EAAOiuHQgWQgAAblnQCSZCAKDZMsrwa0IAAIKlHkwgQgAATNR8OTZCAADYdDTrVkIAQKG0H0qGQgAAWLfpyStCAAB4da8xNkIAgFmfdMdPQgAAVKfaACFCAAAE8UtCFUIAANy5k54TQg==",
                        "dtype": "f8"
                      },
                      "xaxis": "x",
                      "y": [
                        20570029,
                        5172783,
                        6901383,
                        5614603,
                        2625430,
                        337505174,
                        254384,
                        6886698,
                        1253573329,
                        101466010,
                        2632965,
                        22756065,
                        11305792,
                        2014108,
                        14560314,
                        1715537,
                        465583319,
                        6112274,
                        37652669,
                        2882126,
                        18893138,
                        140451,
                        349325,
                        2151894655,
                        822702,
                        1725646,
                        290892,
                        13737,
                        693122,
                        43218466,
                        3300575,
                        6592142,
                        30810,
                        354715298,
                        3579444167,
                        276159730,
                        593408,
                        71508025,
                        3367168,
                        1029373,
                        1599469,
                        66702074,
                        575969,
                        31410871,
                        1485579,
                        138024293,
                        72919337,
                        104499461,
                        48505067,
                        2196961,
                        433547,
                        7049813,
                        700610,
                        31218389,
                        370145368,
                        1178980,
                        770177,
                        1240852,
                        16256815,
                        2410629208,
                        28258321,
                        4762055,
                        2488872,
                        115630005,
                        6540,
                        10616148,
                        66855294,
                        484700880,
                        139660913,
                        4547734,
                        489410495,
                        41544003,
                        206706,
                        25552095,
                        71645872,
                        830109945,
                        19460651,
                        1807250383,
                        19517296,
                        10279434,
                        3670021,
                        44495,
                        54304914,
                        897137,
                        75449,
                        6872292,
                        42689266,
                        0,
                        4113445,
                        9800926,
                        9930039,
                        1111242,
                        1144762,
                        166846,
                        112323979,
                        539102,
                        761294,
                        1087185,
                        1672348,
                        981232,
                        56235,
                        9797253,
                        226214,
                        11390381,
                        3411409,
                        847492,
                        1057037,
                        103864,
                        1492418379,
                        57751526,
                        28561339,
                        1009598,
                        86699777,
                        17664377,
                        35785706,
                        29786714,
                        16697744,
                        15150,
                        112191992,
                        2723289,
                        363150347,
                        190599792,
                        62563880,
                        216610152,
                        15322626,
                        27138188,
                        30906984,
                        455808510,
                        191756,
                        5837910,
                        253185,
                        242928779,
                        4249605,
                        265016,
                        351984525,
                        33933214,
                        1820494,
                        2761,
                        435020549,
                        905188373,
                        388715005,
                        1004228,
                        2537221,
                        2892176,
                        2166122,
                        53360,
                        17676134,
                        126792974,
                        21275232,
                        12046,
                        5123451,
                        664058505,
                        0,
                        7979962,
                        24215268,
                        2461345,
                        231117905,
                        2000316,
                        13528049,
                        653391770,
                        1665771847,
                        14715038,
                        545343,
                        25034395,
                        4031396,
                        3876426,
                        2571513
                      ],
                      "yaxis": "y"
                    },
                    {
                      "hovertemplate": "Trade bloc=Other<br>year=2017<br>category=Passenger Vehicles<br>Real GDP=%{x}<br>Export=%{y}<extra></extra>",
                      "legendgroup": "Other",
                      "marker": {
                        "color": "#636efa",
                        "symbol": "circle"
                      },
                      "mode": "markers",
                      "name": "Other",
                      "orientation": "v",
                      "showlegend": false,
                      "type": "scatter",
                      "x": {
                        "bdata": "AGAj6VZtYUIAAEBhqQnoQQDALWjMqnRCAABgFqcSV0IAACD/bocGQgCA2IqajltCAAAgpT2E+UEAIKksu7N5QgAAFuwjBilCAADQ6CGv8kEAAAC+JavbQQCAdHYSHE1CAAr1YH1rp0IAQEpuW61RQgAAngvLhixCAABwGyNhKUIAABDpZsBHQgCAVj5mqFJCAADOCcZTMkIAAC9n1dE3QgBALTpo11RCAAAgOsniFkIAALhOv6QXQgCAchp5xExCAMAfPjdMgkIAAECC9vHVQQAAOCA62Q5CALgrlGUsikIAgDzbG/pGQgAAyiQYpi5CAADwfF5IFUIAAP8dUBlTQgAA0C6QGj9CAIh8ofuxgUIAgFqUNqZrQgCAUklym1NCAEAcqw5BU0IAYHMTW597QgAoQv6+kJBCAAC8/LbHIkIAAFhgbCo6QgAAVDA+BBpCAADuCCfTJ0IAAHgg48YkQgAAZq+awC1CAAC2FJjjJkIAQJcjAGNTQgAAjroUJjtCAGB5lIXEZ0IAgObqdkJGQgAAsIMA/wlCAADX8SF2XEIAwHgYj2tXQgAA4KNETzNCAEC5UcxuU0IAAFgiULcsQgAA3jZ7bSJCAIAK102MR0IAQBUY/29UQgCANu/wRV5CAIC9cEFrSEIAgCT55wtHQgBQqJUfPnRCAMB8Nn3EZEIAQHyRs25TQgAAqs7FxjVCAMAy6e6MVEIAYGgmAqh2QgAwuwY5lnJCAMCqETRvXkIAwGj5gOZkQgAAgOPIMClCAIADr5crWUIAAOiuHQgWQgCg2TLK8GtCAABM1Hw5NkIAANh0NOtWQgBAobQfSoZCAABYt+nJK0IAAHh1rzE2QgCAWZ90x09C",
                        "dtype": "f8"
                      },
                      "xaxis": "x2",
                      "y": [
                        73542037,
                        11331096,
                        1608810594,
                        36796521,
                        15346269,
                        594035964,
                        3015079,
                        74084633,
                        1690391,
                        11820301,
                        0,
                        433854294,
                        9526202379,
                        171969958,
                        64871018,
                        3395205,
                        17501872,
                        4466888,
                        100594175,
                        43168607,
                        1831558,
                        18453547,
                        4641462,
                        19621136,
                        131600529,
                        1657615,
                        4686363,
                        5721504301,
                        2002123,
                        55599254,
                        20884685,
                        320977953,
                        25382315,
                        71221465,
                        14466080,
                        332440,
                        210791355,
                        158440489,
                        532470229,
                        65836994,
                        571170463,
                        974167,
                        111707925,
                        3544709,
                        1451621,
                        3479438,
                        757006,
                        9744450,
                        45956100,
                        219290747,
                        9340688,
                        33002263,
                        614308143,
                        216037770,
                        1027699,
                        113884527,
                        20382691,
                        152747891,
                        64939751,
                        61652466,
                        3626119,
                        14622858,
                        88289258,
                        1668277941,
                        1274461,
                        1632518,
                        93960407,
                        1514422023,
                        62570654,
                        126277990,
                        331424925,
                        372274,
                        3258224,
                        4095963,
                        14621158,
                        28868243,
                        1366056839,
                        1567256690,
                        9193466,
                        42500,
                        54490994
                      ],
                      "yaxis": "y2"
                    },
                    {
                      "hovertemplate": "Trade bloc=Other<br>year=2017<br>category=Trucks<br>Real GDP=%{x}<br>Export=%{y}<extra></extra>",
                      "legendgroup": "Other",
                      "marker": {
                        "color": "#636efa",
                        "symbol": "circle"
                      },
                      "mode": "markers",
                      "name": "Other",
                      "orientation": "v",
                      "showlegend": false,
                      "type": "scatter",
                      "x": {
                        "bdata": "AGAj6VZtYUIAwC1ozKp0QgAAYBanEldCAACkgmGAIEIAAJSAA0YqQgCA2IqajltCAADIPudIEEIAIKksu7N5QgAAFuwjBilCAADQ6CGv8kEAAAC+JavbQQCAdHYSHE1CAAr1YH1rp0IAAJ4Ly4YsQgAAEOlmwEdCAIBWPmaoUkIAAM4JxlMyQgAAuE6/pBdCAIByGnnETEIAwB8+N0yCQgAAOCA62Q5CALgrlGUsikIAACD2W7spQgCAPNsb+kZCAAD/HVAZU0IAANAukBo/QgCIfKH7sYFCAIBSSXKbU0IAQByrDkFTQgBgcxNbn3tCAChC/r6QkEIAALz8tsciQgAAVDA+BBpCAABmr5rALUIAQJcjAGNTQgAA7KUjNhBCAAAwo8S4+EEAADBrskjwQQAApFXIOBBCAACwcuQvL0IAYHmUhcRnQgCA5up2QkZCAADwhTh9A0IAwHgYj2tXQgAA4KNETzNCAABYIlC3LEIAgArXTYxHQgBAFRj/b1RCAIA27/BFXkIAgL1wQWtIQgCAJPnnC0dCAFColR8+dEIAwHw2fcRkQgAAHGgQ6RJCAEB8kbNuU0IAAKrOxcY1QgAAsOJMjSVCAMAy6e6MVEIAYGgmAqh2QgAwuwY5lnJCAACb/1AoNkIAwKoRNG9eQgDAaPmA5mRCAIADr5crWUIAAG5Z0AkmQgCg2TLK8GtCAABM1Hw5NkIAQKG0H0qGQgCAWZ90x09C",
                        "dtype": "f8"
                      },
                      "xaxis": "x3",
                      "y": {
                        "bdata": "+ZAYAKEwigX7BhcAAAAAAAAAAAAwPUAAAAAAABBYLQAIUgAAce9BAAAAAACSb8gC4hVQChh8YAEAAAAAtBwCAEyz7gIAAAAABKABAKxdDgAEDgAAN7hLACQTOgCYOgAAf4YQAJxMFwA2jQkAqBYAAABCawEjuwoAPrZwALOz0wAhsRkAOMcAAJBfAQDwGQoAAAAAAAAAAADKESQAKBcCAAgWNgAhIWgAAAAAAFA1AgAjDi0AW73EAE/7cgLo1DIAAAAAACyYBAAAAAAAXAwKAFTY1QLUQwEAK7QAAAAAAABAHwAAJJVHAB0i3wD97AAAAAAAAJUQAgCGlg4AjIAOAMAnCQAGsgkA5PEGAJtPOwBmKn8A",
                        "dtype": "i4"
                      },
                      "yaxis": "y3"
                    },
                    {
                      "hovertemplate": "Trade bloc=USMCA<br>year=2017<br>category=Parts<br>Real GDP=%{x}<br>Export=%{y}<extra></extra>",
                      "legendgroup": "USMCA",
                      "marker": {
                        "color": "#EF553B",
                        "symbol": "diamond"
                      },
                      "mode": "markers",
                      "name": "USMCA",
                      "orientation": "v",
                      "showlegend": true,
                      "type": "scatter",
                      "x": {
                        "bdata": "AIA0yGiUd0IAgMR+Fk5yQg==",
                        "dtype": "f8"
                      },
                      "xaxis": "x",
                      "y": [
                        31683450146,
                        30293476225
                      ],
                      "yaxis": "y"
                    },
                    {
                      "hovertemplate": "Trade bloc=USMCA<br>year=2017<br>category=Passenger Vehicles<br>Real GDP=%{x}<br>Export=%{y}<extra></extra>",
                      "legendgroup": "USMCA",
                      "marker": {
                        "color": "#EF553B",
                        "symbol": "diamond"
                      },
                      "mode": "markers",
                      "name": "USMCA",
                      "orientation": "v",
                      "showlegend": false,
                      "type": "scatter",
                      "x": {
                        "bdata": "AIA0yGiUd0IAgMR+Fk5yQg==",
                        "dtype": "f8"
                      },
                      "xaxis": "x2",
                      "y": [
                        23537578145,
                        3449264042
                      ],
                      "yaxis": "y2"
                    },
                    {
                      "hovertemplate": "Trade bloc=USMCA<br>year=2017<br>category=Trucks<br>Real GDP=%{x}<br>Export=%{y}<extra></extra>",
                      "legendgroup": "USMCA",
                      "marker": {
                        "color": "#EF553B",
                        "symbol": "diamond"
                      },
                      "mode": "markers",
                      "name": "USMCA",
                      "orientation": "v",
                      "showlegend": false,
                      "type": "scatter",
                      "x": {
                        "bdata": "AIA0yGiUd0IAgMR+Fk5yQg==",
                        "dtype": "f8"
                      },
                      "xaxis": "x3",
                      "y": [
                        4926195306,
                        227108247
                      ],
                      "yaxis": "y3"
                    }
                  ],
                  "name": "2017"
                },
                {
                  "data": [
                    {
                      "hovertemplate": "Trade bloc=Other<br>year=2018<br>category=Parts<br>Real GDP=%{x}<br>Export=%{y}<extra></extra>",
                      "legendgroup": "Other",
                      "marker": {
                        "color": "#636efa",
                        "symbol": "circle"
                      },
                      "mode": "markers",
                      "name": "Other",
                      "orientation": "v",
                      "showlegend": true,
                      "type": "scatter",
                      "x": {
                        "bdata": "AAAw8H/tEkIAADgrS8UHQgCAYChCV0dCAACQQwg6NEIAAMAnBHLYQQDArIyR+GBCAADQylJGBkIAACCTK53oQQBA060XQ3VCAMBsEmOlV0IAAKDB7VooQgAAyEHEEQdCAABYDhfXIEIAgErMFdZLQgAA0Buz1/NBAACgQtQZK0IAgAJAFhNcQgAAoFL1OuBBAABwEBC3CEIAAAAc+Gf5QQAAoA1AZiFCAACg0XfoEEIAAHBdBE8NQgCQ6nQXKXpCAACYpvPPB0IAAPJrdqkpQgAAANFXcApCAADAHol550EAAEDahHvdQQAAhPNMjxxCAADQz3TgIEIAAODTPXvzQQAAwC6Pt9xBAAB1eGlFTkIAgICNlgCpQgDAa+hmIVJCAADgGK+BA0IAAJTF00UtQgAAnrGWvylCAAAUuNsdKkIAAFiuNTUWQgCA1Pd+bEhCAAAcK5XYI0IAgG+jPQFTQgAAgHjZyMBBAAB64sWgM0IAAOZQgxE4QgCAy+7X81VCAADMQCBwF0IAAFg+roQYQgAAID8IA+9BAACFfZBCM0IAAFCQa4vzQQAA715UHE1CAMArT1CZgkIAACCDgZD1QQAACFbhtQtCAAAAmGqI10EAANTb+lsQQgDw7/Ezd4pCAABI1sdTK0IAADkZjnNHQgAAgElbzNBBAADom2axL0IAAADlb6nTQQAA0Atl7vFBAABAzdsZFkIAgPosgqRTQgAAEU56bEBCAAAcVhz0EkIAIEJfV9aCQgCgGOl1FG1CAEAFraIkWkIAgN1xIRZVQgAA0mhpBlRCAODYls/Ze0IAALgXK5ILQgBYdtgHrJBCAACabvojI0IAAFJgjYRHQgAAmAI4qjJCAAAASvxAqkEAALXoLuI6QgAAEF92NfxBAACMpqFUEEIAANS/RyMbQgAAGI8zYCdCAAAg6vRh4UEAAOD5FIjoQQAAuFl9zCVCAAAwi1Q7LkIAAETc6looQgAAQAoZhgdCAAAI61saA0IAAP/rXFNUQgAAsMIDBvNBAAD8aykAEUIAABgEbp8KQgAAILXJ5vlBAABomX8cCUIAAMjIo3oAQgAAQPFkAAlCAABg9WAc8UEAADdBJfs7QgAApBOByRBCAACJHzKSMEIAABAOCCAFQgAALA5vuRpCAIChkfRNaEIAACkCPAhHQgAAkKkrHwlCAADgYNt4BUIAQMksOgJdQgAA8KvwDARCAAAtD0KdV0IAALij5I4zQgAAdTnVoFRCAAAAoDoGsEEAAJgeWtctQgAAHDrpCBZCAADKJqQEI0IAAICwlntIQgDAFWPIu1VCAGCr6f4UYEIAABNubyNJQgAAIcj0WUNCAACFBwl1SEIAMA8qmc90QgAAKKt3BANCAACAqEi7ykEAAABAeraxQQCg8LIMcGVCAAAYTagVFEIAAMBy/tvaQQCAuUttGlRCAAB6BDqpNkIAAE5T6H4mQgAAwP9xydVBAACpqNXeVEIAkAFYo1B3QgBQrKYzCHNCAAA+CFqrNkIAAIAWaU/OQQAAwKfdod1BAAAA66CNyUEAAJSHIG0oQgAAYC8SW/NBAMC1nHcDX0IAYD9UjX9lQgAA8DTQ+gJCAAAC2GiRKkIAAAxzsjtaQgAAAKAtotdBAAAgl7xa+EEAAED8h9AVQgAAPlTonSZCAMAeylDIbEIAAHCAIFMhQgAAgCL1/zZCAIBggEs4V0IAAGdFTpqGQgAAOpWi1StCAAAHmYptN0IAAJ1JYhNRQgAAZmibISFCAABEo90dFkIAAIhHNJoUQg==",
                        "dtype": "f8"
                      },
                      "xaxis": "x",
                      "y": [
                        26164153,
                        4221500,
                        8189964,
                        2502012,
                        3930383,
                        267488553,
                        722445,
                        5902518,
                        1303241107,
                        109798202,
                        3436230,
                        27087389,
                        12888386,
                        2559118,
                        6398764,
                        7154677,
                        515144060,
                        6338149,
                        46841986,
                        11052152,
                        20431050,
                        282428,
                        565763,
                        1229461048,
                        1062530,
                        3382045,
                        1228615,
                        25236,
                        889355,
                        60350387,
                        3388536,
                        9734090,
                        119163,
                        374391440,
                        3661971653,
                        314549123,
                        736826,
                        60763210,
                        3329143,
                        1197045,
                        530679,
                        76792179,
                        865384,
                        25706439,
                        1821895,
                        173808472,
                        97865701,
                        75266817,
                        49420699,
                        6927640,
                        459879,
                        7897965,
                        1113239,
                        38559965,
                        447151657,
                        2614505,
                        1337442,
                        1923265,
                        18265727,
                        2510446944,
                        24600185,
                        6225550,
                        1598011,
                        103035050,
                        16896,
                        10286756,
                        78084055,
                        621361030,
                        139797521,
                        5389578,
                        637471291,
                        53641754,
                        78250,
                        26231197,
                        62301926,
                        837015834,
                        18846746,
                        1927854286,
                        19286251,
                        11587280,
                        3512585,
                        83065,
                        49709935,
                        1247764,
                        54975,
                        5586506,
                        36677305,
                        0,
                        4610985,
                        13021472,
                        13687122,
                        529481,
                        905031,
                        139464,
                        130120507,
                        1102103,
                        1295311,
                        4878691,
                        3865631,
                        511336,
                        87436,
                        7769016,
                        375658,
                        13545715,
                        2877225,
                        684480,
                        1556642,
                        276051,
                        1681991811,
                        62567461,
                        18785611,
                        1068524,
                        146609191,
                        20872417,
                        50374983,
                        35884247,
                        14814522,
                        118845,
                        137864187,
                        1958876,
                        317786352,
                        255870008,
                        61227407,
                        207882527,
                        24040431,
                        40794518,
                        36052315,
                        426559099,
                        319619,
                        555989,
                        0,
                        214759592,
                        7530094,
                        840748,
                        377015084,
                        21753633,
                        1977046,
                        445926,
                        669255366,
                        793461244,
                        503597784,
                        2332787,
                        2122074,
                        2549720,
                        1511188,
                        120152,
                        16258566,
                        136636377,
                        23642786,
                        30112,
                        6397327,
                        546413048,
                        46738,
                        12559443,
                        24062285,
                        2402871,
                        259980315,
                        1125374,
                        13599272,
                        580421751,
                        2060875606,
                        14059852,
                        1474911,
                        33166877,
                        1051329,
                        30225559,
                        3456721
                      ],
                      "yaxis": "y"
                    },
                    {
                      "hovertemplate": "Trade bloc=Other<br>year=2018<br>category=Passenger Vehicles<br>Real GDP=%{x}<br>Export=%{y}<extra></extra>",
                      "legendgroup": "Other",
                      "marker": {
                        "color": "#636efa",
                        "symbol": "circle"
                      },
                      "mode": "markers",
                      "name": "Other",
                      "orientation": "v",
                      "showlegend": false,
                      "type": "scatter",
                      "x": {
                        "bdata": "AMCsjJH4YEIAACCTK53oQQBA060XQ3VCAMBsEmOlV0IAAMhBxBEHQgCAAkAWE1xCAAAAHPhn+UEAkOp0Fyl6QgAA8mt2qSlCAADg0z1780EAAMAuj7fcQQAAdXhpRU5CAICAjZYAqUIAwGvoZiFSQgAAlMXTRS1CAAAUuNsdKkIAgNT3fmxIQgCAb6M9AVNCAAB64sWgM0IAAOZQgxE4QgCAy+7X81VCAADMQCBwF0IAAFg+roQYQgAA715UHE1CAMArT1CZgkIAAACYaojXQQAA1Nv6WxBCAPDv8TN3ikIAADkZjnNHQgAA6JtmsS9CAABAzdsZFkIAgPosgqRTQgAAEU56bEBCACBCX1fWgkIAoBjpdRRtQgCA3XEhFlVCAADSaGkGVEIA4NiWz9l7QgBYdtgHrJBCAACabvojI0IAALXoLuI6QgAA1L9HIxtCAAAYjzNgJ0IAALhZfcwlQgAAMItUOy5CAABE3OpaKEIAAP/rXFNUQgAAN0El+ztCAIChkfRNaEIAACkCPAhHQgAAkKkrHwlCAEDJLDoCXUIAAC0PQp1XQgAAuKPkjjNCAAB1OdWgVEIAAJgeWtctQgAAyiakBCNCAACAsJZ7SEIAwBVjyLtVQgBgq+n+FGBCAAATbm8jSUIAAIUHCXVIQgAwDyqZz3RCAKDwsgxwZUIAgLlLbRpUQgAAegQ6qTZCAACpqNXeVEIAkAFYo1B3QgBQrKYzCHNCAMC1nHcDX0IAYD9UjX9lQgAAAthokSpCAAAMc7I7WkIAAED8h9AVQgDAHspQyGxCAACAIvX/NkIAgGCASzhXQgAAZ0VOmoZCAAA6laLVK0IAAAeZim03QgAAnUliE1FC",
                        "dtype": "f8"
                      },
                      "xaxis": "x2",
                      "y": [
                        48930379,
                        6767617,
                        1448697550,
                        43838723,
                        13184597,
                        655488140,
                        1499148,
                        128777921,
                        7336746,
                        13059073,
                        0,
                        560908805,
                        6238289558,
                        194269638,
                        64118215,
                        6161742,
                        13220866,
                        5178401,
                        118752989,
                        75250703,
                        4170168,
                        15307376,
                        2506986,
                        110386603,
                        114913870,
                        1559847,
                        7070709,
                        5416613521,
                        1526668,
                        57087868,
                        19866458,
                        38801520,
                        26091535,
                        93093376,
                        13055655,
                        123229,
                        184955775,
                        277578037,
                        551558693,
                        65652648,
                        711397450,
                        1360686,
                        100109233,
                        11699912,
                        244354,
                        3204245,
                        357694,
                        20864910,
                        71974659,
                        247177626,
                        3264284,
                        91445501,
                        821280121,
                        192184374,
                        511700,
                        124324508,
                        35911494,
                        120189071,
                        63763349,
                        59711851,
                        7042200,
                        8836638,
                        257831139,
                        1775740598,
                        34658555,
                        967247,
                        69398820,
                        1652562353,
                        74173125,
                        138563096,
                        389531201,
                        502360,
                        7935822,
                        2624958,
                        11662023,
                        19326342,
                        1244937033,
                        1286841146,
                        11272690,
                        269700,
                        36753021
                      ],
                      "yaxis": "y2"
                    },
                    {
                      "hovertemplate": "Trade bloc=Other<br>year=2018<br>category=Trucks<br>Real GDP=%{x}<br>Export=%{y}<extra></extra>",
                      "legendgroup": "Other",
                      "marker": {
                        "color": "#636efa",
                        "symbol": "circle"
                      },
                      "mode": "markers",
                      "name": "Other",
                      "orientation": "v",
                      "showlegend": false,
                      "type": "scatter",
                      "x": {
                        "bdata": "AMCsjJH4YEIAQNOtF0N1QgDAbBJjpVdCAABYDhfXIEIAAKBC1BkrQgCAAkAWE1xCAACg0XfoEEIAkOp0Fyl6QgAA8mt2qSlCAADg0z1780EAAMAuj7fcQQAAdXhpRU5CAICAjZYAqUIAAJTF00UtQgCA1Pd+bEhCAIBvoz0BU0IAAHrixaAzQgAAWD6uhBhCAADvXlQcTUIAwCtPUJmCQgAA1Nv6WxBCAPDv8TN3ikIAAEjWx1MrQgAAORmOc0dCAID6LIKkU0IAABFOemxAQgAgQl9X1oJCAIDdcSEWVUIAANJoaQZUQgDg2JbP2XtCAFh22AeskEIAAJpu+iMjQgAA1L9HIxtCAAAwi1Q7LkIAAP/rXFNUQgAA/GspABFCAAAgtcnm+UEAAGD1YBzxQQAApBOByRBCAACJHzKSMEIAgKGR9E1oQgAAKQI8CEdCAADwq/AMBEIAAC0PQp1XQgAAuKPkjjNCAACYHlrXLUIAAICwlntIQgDAFWPIu1VCAGCr6f4UYEIAABNubyNJQgAAhQcJdUhCADAPKpnPdEIAoPCyDHBlQgAAGE2oFRRCAIC5S20aVEIAAHoEOqk2QgAATlPofiZCAACpqNXeVEIAkAFYo1B3QgBQrKYzCHNCAAA+CFqrNkIAwLWcdwNfQgBgP1SNf2VCAAAMc7I7WkIAAD5U6J0mQgDAHspQyGxCAACAIvX/NkIAAGdFTpqGQgAAnUliE1FC",
                        "dtype": "f8"
                      },
                      "xaxis": "x3",
                      "y": {
                        "bdata": "OiQMABkt4gbY1gAA6yYCAAAAAABQcEcAAAAAAJDwLgCjGCEAjAYpAAAAAADqcGcDiSqNBDFTpQAeiAEA0M8AAB3iXwMAAAAAFoAQAFK8CQDwRwEAF3XhAIUODQAAAAAAyFYMAFx9HAA5lgsAMG8BAGxo5gEwjgQA1QRTACwrbAAA1DAAAAAAAACwFQDkLAcAlwYGAAAAAACsLgcAoIYBAG33LQCEeZgAAAAAAOZaAQA9rDEAKhM4AbZougG/CzUAvGICAMVIAACQZQAAMzwFAMsfeAGVWwUAAAAAAAAAAAALsQcAxao6AIgHTQFRRgIAAAAAAMDQJQBLlzkAneoUAB4xKQA6sw0ATKIGAB8LTgCmjB0A",
                        "dtype": "i4"
                      },
                      "yaxis": "y3"
                    },
                    {
                      "hovertemplate": "Trade bloc=USMCA<br>year=2018<br>category=Parts<br>Real GDP=%{x}<br>Export=%{y}<extra></extra>",
                      "legendgroup": "USMCA",
                      "marker": {
                        "color": "#EF553B",
                        "symbol": "diamond"
                      },
                      "mode": "markers",
                      "name": "USMCA",
                      "orientation": "v",
                      "showlegend": true,
                      "type": "scatter",
                      "x": {
                        "bdata": "ABDEXfw5eEIAINdZgKpyQg==",
                        "dtype": "f8"
                      },
                      "xaxis": "x",
                      "y": [
                        30749813818,
                        32762586770
                      ],
                      "yaxis": "y"
                    },
                    {
                      "hovertemplate": "Trade bloc=USMCA<br>year=2018<br>category=Passenger Vehicles<br>Real GDP=%{x}<br>Export=%{y}<extra></extra>",
                      "legendgroup": "USMCA",
                      "marker": {
                        "color": "#EF553B",
                        "symbol": "diamond"
                      },
                      "mode": "markers",
                      "name": "USMCA",
                      "orientation": "v",
                      "showlegend": false,
                      "type": "scatter",
                      "x": {
                        "bdata": "ABDEXfw5eEIAINdZgKpyQg==",
                        "dtype": "f8"
                      },
                      "xaxis": "x2",
                      "y": [
                        22743027693,
                        3254667672
                      ],
                      "yaxis": "y2"
                    },
                    {
                      "hovertemplate": "Trade bloc=USMCA<br>year=2018<br>category=Trucks<br>Real GDP=%{x}<br>Export=%{y}<extra></extra>",
                      "legendgroup": "USMCA",
                      "marker": {
                        "color": "#EF553B",
                        "symbol": "diamond"
                      },
                      "mode": "markers",
                      "name": "USMCA",
                      "orientation": "v",
                      "showlegend": false,
                      "type": "scatter",
                      "x": {
                        "bdata": "ABDEXfw5eEIAINdZgKpyQg==",
                        "dtype": "f8"
                      },
                      "xaxis": "x3",
                      "y": [
                        6239555595,
                        268254721
                      ],
                      "yaxis": "y3"
                    }
                  ],
                  "name": "2018"
                },
                {
                  "data": [
                    {
                      "hovertemplate": "Trade bloc=Other<br>year=2019<br>category=Parts<br>Real GDP=%{x}<br>Export=%{y}<extra></extra>",
                      "legendgroup": "Other",
                      "marker": {
                        "color": "#636efa",
                        "symbol": "circle"
                      },
                      "mode": "markers",
                      "name": "Other",
                      "orientation": "v",
                      "showlegend": true,
                      "type": "scatter",
                      "x": {
                        "bdata": "AACYVwmrE0IAAJC7zkIIQgCAMycJjUdCAACsGasVNEIAAEDOiDjZQQAAScijoWBCAABIMrP3B0IAAOAPgBDoQQBw/qxKuXVCAMA2XJ8PWEIAALAFi/UoQgAA6NY24AZCAACkapcvIUIAAIDTwQdOQgAAgFnZ+PNBAABAhy5+K0IAAPDXqMJcQgAAAN5G7OBBAABwhHVpCkIAAEB78Xv5QQAAAOL8yCFCAABkHnJlEUIAAIDUfTIOQgAwEibZenpCAAAwbcu7CEIAAB6kXqIqQgAAGNPx/gtCAADAXnbm50EAAIBP6IffQQAAmEmY0x5CAAAgQZh2IUIAAJARhj70QQAAQCh1m91BAIAUXpJ2TkIAqBMIAoWqQgDAvxZRtVJCAACALta5A0IAAObL/fotQgAACEKieitCAADENCbtKkIAABjoP4MXQgCAdC1yS0lCAAA+oVe3JEIAAEgqgVRTQgAAgEl+csFBAAAJ2K+WNEIAAKNRtBs4QgBAG8jcK1dCAABYmmACGEIAAHwsl24ZQgAAcCD9cvBBAABhB/beNEIAAPCMTW7zQQAA1KHqgE1CANCFx9j5gkIAAHBrjyX2QQAA6IcEzAxCAAAAP0L/2EEAAKjHUj0RQgCwAXsiuopCAADk3QwbLUIAAGVRRPxHQgAAQPJy6dBBAAAbyrF7MEIAAEDblcHUQQAAcHcc5PJBAAAE2a2qFkIAAJd2aVBTQgCAxmXyQUFCAABEx2pOE0IAaNgCCZGDQgCgUZYeim5CAABe1yFXWUIAgLniOSZWQgDABoigxFRCAGCkzGj4e0IAAMDUJdELQgBAX67dmpBCAAAc5sl5I0IAAGEjepNIQgAAE6GVnjNCAAAAuGAcq0EAAFG3+307QgAAAOGxgf1BAADMmsw4EUIAAIhHM1IbQgAANPxlwiVCAABASdsi4UEAACA1Iu3nQQAAwj+C0SZCAAAm8RsQL0IAAO4xF7snQgAAWBy/jwhCAABore4xBEIAAFRE/zhVQgAAIDErV/RBAABEFcXZEUIAANDs0bULQgAA4LAPt/pBAABgWV3WCUIAADDGfxABQgAASMT1ZgpCAAAw41nO8UEAAAjyOso8QgAAfMMcLRFCAADxZUupMUIAAKhcpvIEQgAAoDHfgBxCAMCQ5hDdaEIAgMDB4JBHQgAAoC/eZAhCAACQtVy/BkIAwN3vOqZdQgAAqNyo1QRCAICqAjHhV0IAABEoYlYzQgBA3pu6JFVCAAAAIG8OsEEAANwDaMQuQgAAaCOnBRdCAACcihPxIkIAALuvBQhJQgAA8Ug0EFdCAKCIsZLRYEIAAHPNIdRJQgAAOiQNfENCAICWFaxqSUIAIAf0s0R1QgAAUAtp0ARCAAAA6u/ry0EAAAD40BGyQQCgITCwymVCAABA198CFUIAAEAFKFfcQQDAyIu+XVRCAADMtkEtN0IAAOSVxUgnQgAAgHz4KtZBAADo97jsVEIAMLSuktZ3QgAAJxzBZ3NCAABIZY6eNkIAAACvZjPPQQAAwIW9bN1BAACAzVq5yUEAAEoT6+QnQgAAQArtlPNBAEAYTOXNX0IAYJzSZr5lQgAAcJFdYgRCAAA4LOQbLEIAQDFRtMlaQgAAwJKlKt1BAADAC6uN+UEAANg34eoVQgAAxqbX+SZCAKBYVqAEbUIAALCHsXAiQgAAAs5XvDdCAABArC16V0IACGWHTfiGQgAAkjfJFyxCAACvjisEOUIAQHnnFVVSQgAAZmibISFCAABEeHhvFkIAAEzHN0wTQg==",
                        "dtype": "f8"
                      },
                      "xaxis": "x",
                      "y": [
                        23166924,
                        4673425,
                        7768895,
                        2771089,
                        3433798,
                        194986715,
                        418773,
                        6126684,
                        1299923847,
                        86947159,
                        3811689,
                        24267066,
                        7488067,
                        1566354,
                        5832595,
                        2049165,
                        570884549,
                        6156466,
                        46003033,
                        4781226,
                        17524036,
                        371080,
                        614914,
                        1132108057,
                        773516,
                        2472278,
                        684646,
                        0,
                        808806,
                        57646799,
                        3787931,
                        8419728,
                        218235,
                        415207483,
                        2587226278,
                        289664557,
                        1463988,
                        54909273,
                        3132831,
                        2168638,
                        640337,
                        84738748,
                        1717172,
                        32796330,
                        2608010,
                        163529280,
                        81014308,
                        66714462,
                        49712161,
                        5118820,
                        472630,
                        8079183,
                        557786,
                        36934653,
                        475124247,
                        2470679,
                        2162469,
                        2054858,
                        26164364,
                        2182973052,
                        25030544,
                        6921523,
                        1603847,
                        86430040,
                        18390,
                        10028287,
                        75881705,
                        529905366,
                        147575930,
                        5486108,
                        541940971,
                        54640693,
                        143820,
                        29928099,
                        62632177,
                        719312974,
                        18025311,
                        1548224267,
                        12377284,
                        8926268,
                        6412976,
                        30379,
                        79327933,
                        902673,
                        43761,
                        6463974,
                        25530959,
                        0,
                        3877113,
                        22622557,
                        10411146,
                        812298,
                        537885,
                        18441,
                        116993968,
                        420850,
                        2019734,
                        1940517,
                        5537216,
                        889889,
                        56821,
                        19252144,
                        311473,
                        11537717,
                        4236370,
                        806760,
                        1659838,
                        195727,
                        1221606616,
                        58282996,
                        16751059,
                        1538478,
                        178965164,
                        10597558,
                        61505152,
                        28354638,
                        12618886,
                        77602,
                        109434971,
                        493241,
                        205890762,
                        227439394,
                        51361753,
                        251238270,
                        21511945,
                        48471631,
                        35345979,
                        458945462,
                        125435,
                        370892,
                        187038,
                        213157286,
                        10195215,
                        703893,
                        367196103,
                        21927554,
                        5843178,
                        5282808,
                        713160443,
                        718152373,
                        643684034,
                        1367688,
                        2107242,
                        2094087,
                        1603680,
                        44885,
                        20357156,
                        155891421,
                        28677197,
                        336203,
                        3328015,
                        819004819,
                        24857,
                        11193519,
                        21800713,
                        5477512,
                        291533862,
                        622996,
                        23367155,
                        611809884,
                        1957206938,
                        30473819,
                        3761909,
                        56847600,
                        1549232,
                        5358788,
                        3562230
                      ],
                      "yaxis": "y"
                    },
                    {
                      "hovertemplate": "Trade bloc=Other<br>year=2019<br>category=Passenger Vehicles<br>Real GDP=%{x}<br>Export=%{y}<extra></extra>",
                      "legendgroup": "Other",
                      "marker": {
                        "color": "#636efa",
                        "symbol": "circle"
                      },
                      "mode": "markers",
                      "name": "Other",
                      "orientation": "v",
                      "showlegend": false,
                      "type": "scatter",
                      "x": {
                        "bdata": "AABJyKOhYEIAAOAPgBDoQQBw/qxKuXVCAMA2XJ8PWEIAAOjWNuAGQgAA8NeowlxCAABAe/F7+UEAMBIm2Xp6QgAAHqReoipCAACQEYY+9EEAAEAodZvdQQCAFF6Sdk5CAKgTCAKFqkIAwL8WUbVSQgAA5sv9+i1CAADENCbtKkIAgHQtcktJQgAASCqBVFNCAAAJ2K+WNEIAAKNRtBs4QgBAG8jcK1dCAABYmmACGEIAAHwsl24ZQgAA1KHqgE1CANCFx9j5gkIAAAA/Qv/YQQAAqMdSPRFCALABeyK6ikIAAGVRRPxHQgAAG8qxezBCAAAE2a2qFkIAAJd2aVBTQgCAxmXyQUFCAGjYAgmRg0IAoFGWHopuQgCAueI5JlZCAMAGiKDEVEIAYKTMaPh7QgBAX67dmpBCAAAc5sl5I0IAAFG3+307QgAAiEczUhtCAAA0/GXCJUIAAMI/gtEmQgAAJvEbEC9CAADuMRe7J0IAAFRE/zhVQgAACPI6yjxCAMCQ5hDdaEIAgMDB4JBHQgAAoC/eZAhCAMDd7zqmXUIAgKoCMeFXQgAAEShiVjNCAEDem7okVUIAANwDaMQuQgAAnIoT8SJCAAC7rwUISUIAAPFINBBXQgCgiLGS0WBCAABzzSHUSUIAgJYVrGpJQgAgB/SzRHVCAKAhMLDKZUIAwMiLvl1UQgAAzLZBLTdCAADo97jsVEIAMLSuktZ3QgAAJxzBZ3NCAEAYTOXNX0IAYJzSZr5lQgAAOCzkGyxCAEAxUbTJWkIAANg34eoVQgCgWFagBG1CAAACzle8N0IAAECsLXpXQgAIZYdN+IZCAACSN8kXLEIAAK+OKwQ5QgBAeecVVVJC",
                        "dtype": "f8"
                      },
                      "xaxis": "x2",
                      "y": [
                        15749407,
                        7087182,
                        1677167447,
                        32518220,
                        19812451,
                        4893851817,
                        1169151,
                        141879346,
                        4902688,
                        17009436,
                        0,
                        350486465,
                        6984084476,
                        199658871,
                        43069872,
                        2459350,
                        12582948,
                        10446991,
                        106241819,
                        45678350,
                        4622146,
                        17950646,
                        1209431,
                        70790799,
                        94801219,
                        1783909,
                        7221751,
                        6651557562,
                        609602,
                        44390382,
                        24532666,
                        130252776,
                        39764987,
                        9268613,
                        12758744,
                        7206334,
                        200045891,
                        149037113,
                        995427820,
                        45537891,
                        709668452,
                        975113,
                        57002102,
                        25667644,
                        415376,
                        1218509,
                        5558464,
                        19064049,
                        239167626,
                        291443228,
                        378109,
                        83327387,
                        28274707,
                        196140559,
                        768227,
                        99926576,
                        25820003,
                        91395510,
                        36459074,
                        86837649,
                        6715529,
                        14863111,
                        231003380,
                        1517237225,
                        54270042,
                        6437385,
                        91612730,
                        1890693470,
                        66816563,
                        112303256,
                        151195992,
                        256013,
                        9175621,
                        5039142,
                        16661616,
                        29619978,
                        1154707351,
                        1174407794,
                        11693478,
                        360114,
                        53760301
                      ],
                      "yaxis": "y2"
                    },
                    {
                      "hovertemplate": "Trade bloc=Other<br>year=2019<br>category=Trucks<br>Real GDP=%{x}<br>Export=%{y}<extra></extra>",
                      "legendgroup": "Other",
                      "marker": {
                        "color": "#636efa",
                        "symbol": "circle"
                      },
                      "mode": "markers",
                      "name": "Other",
                      "orientation": "v",
                      "showlegend": false,
                      "type": "scatter",
                      "x": {
                        "bdata": "AABJyKOhYEIAcP6sSrl1QgDANlyfD1hCAACkapcvIUIAAECHLn4rQgAA8NeowlxCAABkHnJlEUIAMBIm2Xp6QgAAHqReoipCAACQEYY+9EEAAEAodZvdQQCAFF6Sdk5CAKgTCAKFqkIAAObL/fotQgCAdC1yS0lCAABIKoFUU0IAAAnYr5Y0QgAAfCyXbhlCAADUoeqATUIA0IXH2PmCQgAAqMdSPRFCALABeyK6ikIAAOTdDBstQgAAZVFE/EdCAACXdmlQU0IAgMZl8kFBQgBo2AIJkYNCAIC54jkmVkIAwAaIoMRUQgBgpMxo+HtCAEBfrt2akEIAABzmyXkjQgAAiEczUhtCAAAm8RsQL0IAAFRE/zhVQgAARBXF2RFCAADgsA+3+kEAADDjWc7xQQAAfMMcLRFCAADxZUupMUIAwJDmEN1oQgCAwMHgkEdCAACo3KjVBEIAgKoCMeFXQgAAEShiVjNCAADcA2jELkIAALuvBQhJQgAA8Ug0EFdCAKCIsZLRYEIAAHPNIdRJQgCAlhWsaklCACAH9LNEdUIAoCEwsMplQgAAQNffAhVCAMDIi75dVEIAAMy2QS03QgAA5JXFSCdCAADo97jsVEIAMLSuktZ3QgAAJxzBZ3NCAABIZY6eNkIAQBhM5c1fQgBgnNJmvmVCAEAxUbTJWkIAAMam1/kmQgCgWFagBG1CAAACzle8N0IACGWHTfiGQgBAeecVVVJC",
                        "dtype": "f8"
                      },
                      "xaxis": "x3",
                      "y": {
                        "bdata": "GCGkAMLzfgRRERcACMocAAAAAABnJ0EAAAAAAD3KKwAAAAAAmoIrAAAAAADPEK4DGbisAyPSZwCL9QEAECcAAKxuywMUaQAAEkAJAIvQHQCpKQ0ApEuRAHB9AwAAAAAAFzcEABwfAQDaGQEAWJgAAF+R1AKcfhcASqNEAN88sAG4ggEAAAAAADQLAADbtgIA7RcBAAAAAADT6QsAnpoEAOXjRwCaG4sAAAAAAOLZDwDMbU0Ay7s9AHdaFAKuIFcAYokDAM0rAgAAAAAAUqIFAIbgtQGiYAIAUssAAAAAAABnlQcAu1UIAE7fSAEe4QQAAAAAAJgSEAA1QwIArgIOAACnLwDcNgEAoEwBAOq8SQDe2C8A",
                        "dtype": "i4"
                      },
                      "yaxis": "y3"
                    },
                    {
                      "hovertemplate": "Trade bloc=USMCA<br>year=2019<br>category=Parts<br>Real GDP=%{x}<br>Export=%{y}<extra></extra>",
                      "legendgroup": "USMCA",
                      "marker": {
                        "color": "#EF553B",
                        "symbol": "diamond"
                      },
                      "mode": "markers",
                      "name": "USMCA",
                      "orientation": "v",
                      "showlegend": true,
                      "type": "scatter",
                      "x": {
                        "bdata": "AHAvs1iweEIA4BKVvJdyQg==",
                        "dtype": "f8"
                      },
                      "xaxis": "x",
                      "y": [
                        29422005117,
                        33351165102
                      ],
                      "yaxis": "y"
                    },
                    {
                      "hovertemplate": "Trade bloc=USMCA<br>year=2019<br>category=Passenger Vehicles<br>Real GDP=%{x}<br>Export=%{y}<extra></extra>",
                      "legendgroup": "USMCA",
                      "marker": {
                        "color": "#EF553B",
                        "symbol": "diamond"
                      },
                      "mode": "markers",
                      "name": "USMCA",
                      "orientation": "v",
                      "showlegend": false,
                      "type": "scatter",
                      "x": {
                        "bdata": "AHAvs1iweEIA4BKVvJdyQg==",
                        "dtype": "f8"
                      },
                      "xaxis": "x2",
                      "y": [
                        23932510142,
                        3227885847
                      ],
                      "yaxis": "y2"
                    },
                    {
                      "hovertemplate": "Trade bloc=USMCA<br>year=2019<br>category=Trucks<br>Real GDP=%{x}<br>Export=%{y}<extra></extra>",
                      "legendgroup": "USMCA",
                      "marker": {
                        "color": "#EF553B",
                        "symbol": "diamond"
                      },
                      "mode": "markers",
                      "name": "USMCA",
                      "orientation": "v",
                      "showlegend": false,
                      "type": "scatter",
                      "x": {
                        "bdata": "AHAvs1iweEIA4BKVvJdyQg==",
                        "dtype": "f8"
                      },
                      "xaxis": "x3",
                      "y": [
                        6427563893,
                        320500812
                      ],
                      "yaxis": "y3"
                    }
                  ],
                  "name": "2019"
                },
                {
                  "data": [
                    {
                      "hovertemplate": "Trade bloc=Other<br>year=2020<br>category=Parts<br>Real GDP=%{x}<br>Export=%{y}<extra></extra>",
                      "legendgroup": "Other",
                      "marker": {
                        "color": "#636efa",
                        "symbol": "circle"
                      },
                      "mode": "markers",
                      "name": "Other",
                      "orientation": "v",
                      "showlegend": true,
                      "type": "scatter",
                      "x": {
                        "bdata": "AAAUYKg0E0IAAOAb/3QHQgCA2H6VX0ZCAACKIsXzMkIAAADuQ3bUQQAAVsA5+F1CAABo+e09BkIAAACTuMHhQQCg1xKksnVCAABUHHGKVkIAAGKnP+knQgAAkBC6RwJCAACwAYQrIEIAgM4U1RBPQgAAgGUk9/BBAACaN9VOK0IAQKW5xGFbQgAAQLXtI91BAAAYjrFtC0IAAOArhL73QQAA1isnOyBCAADgjivfEEIAAAC9tI8LQgAwYcO4nHlCAAD49pEDCUIAAPbbG8cpQgAAADsOjwxCAAAAt3r650EAAEBchvjYQQAAROD9uh1CAABQHTeCIUIAAEBcvT3zQQAAQDqs391BAADm7HeXTEIAivkt4iOrQgAAtBopXVFCAADwClN9AkIAAGIGA7MsQgAAIG/bqytCAADmHjewKEIAADxRZMEWQgCA5G/u80dCAADasWATJUIAAAB6avxSQgAAAJDvab1BAABeeMX0MkIAAGHWH+E1QgBA8gx0/ldCAADE0DwdFkIAAIBu1rIYQgAAQMPd9O9BAABDLLgiNkIAAAB9vx7wQQAA1EnFxExCAOD0QGSQgUIAAAB+zZX0QQAA+KGJRAxCAAAADRwl2UEAAABatCcQQgD4+prwoYlCAADmJFhBLUIAgHf9l8dFQgAAAOO5K81BAADdglkwMEIAAAAiqjLVQQAAkOPVGvtBAADk0XaiFEIAAJaYzwxSQgAAB6hDgkBCAAAwFmT3EUIA8NV+oG+CQgCg66Ki6G1CAIDhIiwvWkIAgJhcGLxXQgDAqDMlWVRCADDOjmh9eUIAAAj7tA4JQgCA/o9Q049CAABCy85CI0IAgE+vMPZHQgAAKnPikDNCAAAABn22qkEAAEp06Co6QgAA0NGuZftBAAAoFvpOEUIAABg7jl8aQgAA9LVWGiFCAABA+yF630EAAGC5czbnQQAAPIcC1CZCAAD8nYznLkIAABjvPqwVQgAAyKTyzgZCAACI8vVaBEIAQIbdhhBUQgAAANkZS+tBAACQh1ikEUIAAKDSlccKQgAAgE1lnvpBAAAQHTQUBkIAAIAY7U3/QQAAuETnMglCAADA4zcp7kEAAOwJLrk6QgAAzBN99xBCAABhLTEQMEIAABA1M0ADQgAAGLP20xtCAMCfRN7mZ0IAgJSVV35HQgAA4OYy2QdCAABQ+yCOB0IAAAzTCh5dQgAAmPmX2wNCAICA6g2TV0IAAEQFE68yQgDARBvE31RCAAAAoKkvrkEAABrcu0gpQgAADLb5ShZCAABEBlPJIkIAgF3baUtGQgAAZ4Q53lRCAOBMHO55YEIAADiFobVHQgAA7KGYykJCAIDwkJd7SEIAoIImOLR0QgAAoHulHARCAAAAX78Ny0EAAADKPIuyQQDgYalu9mRCAABQFhBLFUIAAAA8aQPZQQAAYuvallNCAADpAtqTNkIAACI0RlUmQgAAwG0Xa9VBAMBlTkWiU0IAEIbHR6t3QgDA8EtHSHFCAAAaZsWSNUIAAACHLW3KQQAAAGCnQdZBAACAGzugyEEAAHLl4gYnQgAA8PUZdPBBAAA8ip8qX0IAQA0YL0dlQgAAiED5RwVCAADCHDurLEIAwEGEzypZQgAAoK6QPuNBAABwAv0P+kEAAGTLWvcTQgAA+E3G5yRCAIDmEcqObUIAAMj+A/wiQgAA6BNP2DZCAEDTLkBQVkIAmOkV0JqEQgAAWqypBipCAAAQDkpoOUIAwNrVj9tSQgAAZmibISFCAAAgA4PPFUIAANxbC8oRQg==",
                        "dtype": "f8"
                      },
                      "xaxis": "x",
                      "y": [
                        25039002,
                        3877790,
                        5478721,
                        2001058,
                        3224913,
                        174470821,
                        749807,
                        3672123,
                        1175605909,
                        64445779,
                        2220066,
                        20818527,
                        6429524,
                        1457734,
                        4974101,
                        5937043,
                        395908355,
                        3207846,
                        26753925,
                        3545342,
                        19969942,
                        54372,
                        304000,
                        905093821,
                        1800707,
                        2833376,
                        2070800,
                        37866,
                        1402858,
                        24198001,
                        2489275,
                        5238255,
                        60971,
                        345175980,
                        3427468841,
                        185373314,
                        1361734,
                        39533553,
                        3921405,
                        1056296,
                        405528,
                        52463903,
                        734807,
                        20719550,
                        1264799,
                        124325928,
                        82589444,
                        70412790,
                        37259237,
                        1393622,
                        602447,
                        4875952,
                        231277,
                        15872427,
                        343901049,
                        1048198,
                        1552557,
                        2066359,
                        21188575,
                        1760177517,
                        39294777,
                        6563786,
                        2465847,
                        83488740,
                        6076,
                        23197067,
                        53466989,
                        445266685,
                        111879122,
                        3083269,
                        445003237,
                        51337057,
                        57000,
                        20946422,
                        70826414,
                        770453789,
                        15154041,
                        1150140916,
                        17139939,
                        10069100,
                        4352683,
                        66210,
                        52322871,
                        1880178,
                        61328,
                        7972779,
                        9716239,
                        0,
                        2840645,
                        38603582,
                        8443909,
                        260554,
                        395149,
                        413318,
                        94116882,
                        124465,
                        2864992,
                        903520,
                        4654536,
                        177387,
                        1590452,
                        15835664,
                        206966,
                        12761544,
                        2871983,
                        1232342,
                        276735,
                        87857,
                        1035973664,
                        50889282,
                        24813939,
                        1685396,
                        179082807,
                        9211720,
                        53966084,
                        34397533,
                        7947297,
                        52837,
                        57023545,
                        403253,
                        147073770,
                        181306543,
                        33202093,
                        281647518,
                        11029339,
                        30581356,
                        35439157,
                        469713939,
                        203254,
                        336255,
                        0,
                        182033187,
                        13609945,
                        2298741,
                        311582899,
                        17937504,
                        2103133,
                        52699,
                        579335659,
                        557704924,
                        987679314,
                        887195,
                        1249310,
                        2967640,
                        1199846,
                        83920,
                        11142036,
                        94208867,
                        30544666,
                        23605,
                        3655847,
                        695753791,
                        3888,
                        11161131,
                        22791600,
                        2110641,
                        254236166,
                        570583,
                        52221109,
                        558029444,
                        1179319222,
                        11060287,
                        3049102,
                        35866046,
                        4048783,
                        3403296,
                        7466523
                      ],
                      "yaxis": "y"
                    },
                    {
                      "hovertemplate": "Trade bloc=Other<br>year=2020<br>category=Passenger Vehicles<br>Real GDP=%{x}<br>Export=%{y}<extra></extra>",
                      "legendgroup": "Other",
                      "marker": {
                        "color": "#636efa",
                        "symbol": "circle"
                      },
                      "mode": "markers",
                      "name": "Other",
                      "orientation": "v",
                      "showlegend": false,
                      "type": "scatter",
                      "x": {
                        "bdata": "AABWwDn4XUIAAACTuMHhQQCg1xKksnVCAABUHHGKVkIAAJAQukcCQgBApbnEYVtCAADgK4S+90EAMGHDuJx5QgAA9tsbxylCAABAXL0980EAAEA6rN/dQQAA5ux3l0xCAIr5LeIjq0IAALQaKV1RQgAAYgYDsyxCAADmHjewKEIAgORv7vNHQgAAAHpq/FJCAABeeMX0MkIAAGHWH+E1QgBA8gx0/ldCAADE0DwdFkIAAIBu1rIYQgAA1EnFxExCAOD0QGSQgUIAAAANHCXZQQAAAFq0JxBCAPj6mvChiUIAgHf9l8dFQgAA3YJZMDBCAADk0XaiFEIAAJaYzwxSQgAAB6hDgkBCAPDVfqBvgkIAoOuiouhtQgCAmFwYvFdCAMCoMyVZVEIAMM6OaH15QgCA/o9Q049CAABCy85CI0IAAEp06Co6QgAAGDuOXxpCAAD0tVYaIUIAADyHAtQmQgAA/J2M5y5CAAAY7z6sFUIAQIbdhhBUQgAA7AkuuTpCAMCfRN7mZ0IAgJSVV35HQgAA4OYy2QdCAAAM0woeXUIAgIDqDZNXQgAARAUTrzJCAMBEG8TfVEIAABrcu0gpQgAARAZTySJCAIBd22lLRkIAAGeEOd5UQgDgTBzueWBCAAA4haG1R0IAgPCQl3tIQgCggiY4tHRCAOBhqW72ZEIAAGLr2pZTQgAA6QLakzZCAMBlTkWiU0IAEIbHR6t3QgDA8EtHSHFCAAA8ip8qX0IAQA0YL0dlQgAAwhw7qyxCAMBBhM8qWUIAAGTLWvcTQgCA5hHKjm1CAADoE0/YNkIAQNMuQFBWQgCY6RXQmoRCAABarKkGKkIAABAOSmg5QgDA2tWP21JC",
                        "dtype": "f8"
                      },
                      "xaxis": "x2",
                      "y": [
                        62244380,
                        3370933,
                        974348597,
                        15910668,
                        18099665,
                        3648827771,
                        1081955,
                        113296615,
                        4945273,
                        15894466,
                        138000,
                        100695235,
                        5957317167,
                        130809933,
                        34386328,
                        268909,
                        10728541,
                        4694658,
                        104635349,
                        18645549,
                        6185307,
                        8472323,
                        2810210,
                        47521589,
                        48353196,
                        1831733,
                        14543009,
                        6498904046,
                        1813410,
                        31634642,
                        10437635,
                        169085190,
                        25975744,
                        8844877,
                        9833520,
                        5970371,
                        202552057,
                        49322510,
                        704973355,
                        37067947,
                        415702501,
                        2526606,
                        22385984,
                        29768593,
                        390000,
                        10281233,
                        3529346,
                        14647045,
                        103936485,
                        113120351,
                        549539,
                        145448265,
                        47730268,
                        126235580,
                        80400,
                        42311033,
                        10875458,
                        53197728,
                        32502075,
                        82112308,
                        3794551,
                        4076408,
                        88908139,
                        1243503839,
                        33326890,
                        1299681,
                        45687887,
                        2550843049,
                        44176731,
                        107808141,
                        41109847,
                        733024,
                        9610412,
                        3282536,
                        12408614,
                        62968869,
                        811436264,
                        1303229728,
                        11027322,
                        7226824,
                        28932934
                      ],
                      "yaxis": "y2"
                    },
                    {
                      "hovertemplate": "Trade bloc=Other<br>year=2020<br>category=Trucks<br>Real GDP=%{x}<br>Export=%{y}<extra></extra>",
                      "legendgroup": "Other",
                      "marker": {
                        "color": "#636efa",
                        "symbol": "circle"
                      },
                      "mode": "markers",
                      "name": "Other",
                      "orientation": "v",
                      "showlegend": false,
                      "type": "scatter",
                      "x": {
                        "bdata": "AABWwDn4XUIAoNcSpLJ1QgAAVBxxilZCAACwAYQrIEIAAJo31U4rQgBApbnEYVtCAADgjivfEEIAMGHDuJx5QgAA9tsbxylCAABAXL0980EAAEA6rN/dQQAA5ux3l0xCAIr5LeIjq0IAAGIGA7MsQgCA5G/u80dCAAAAemr8UkIAAF54xfQyQgAAgG7WshhCAADUScXETEIA4PRAZJCBQgAAAFq0JxBCAPj6mvChiUIAAOYkWEEtQgCAd/2Xx0VCAACWmM8MUkIAAAeoQ4JAQgDw1X6gb4JCAICYXBi8V0IAwKgzJVlUQgAwzo5ofXlCAID+j1DTj0IAAELLzkIjQgAAGDuOXxpCAAD8nYznLkIAQIbdhhBUQgAAkIdYpBFCAACATWWe+kEAAMDjNynuQQAAzBN99xBCAABhLTEQMEIAwJ9E3uZnQgCAlJVXfkdCAACY+ZfbA0IAgIDqDZNXQgAARAUTrzJCAAAa3LtIKUIAgF3baUtGQgAAZ4Q53lRCAOBMHO55YEIAADiFobVHQgCA8JCXe0hCAKCCJji0dEIA4GGpbvZkQgAAUBYQSxVCAABi69qWU0IAAOkC2pM2QgAAIjRGVSZCAMBlTkWiU0IAEIbHR6t3QgDA8EtHSHFCAAAaZsWSNUIAADyKnypfQgBADRgvR2VCAMBBhM8qWUIAAPhNxuckQgCA5hHKjm1CAADoE0/YNkIAmOkV0JqEQgDA2tWP21JC",
                        "dtype": "f8"
                      },
                      "xaxis": "x3",
                      "y": {
                        "bdata": "6lYTAIMVnQSY7AcATRAIAAAAAADZFAoAAAAAAPH7EQAkdwAAZRyHAAAAAABgIZkBYiBgAXX/bACIEwAARxsCAI+KSwMAAAAAWBUBAK16CQDKJQgA3GMpAEdsBwA4bgAA+rkGAM2ACgBdgSsAAAAAACHviwPjkgUAgtySAG+V5AAAAAAAAAAAAFCuAABh0QAAAAAAAAAAAAC6+hgAAAAAAAugEQBvOyYAAAAAAAAAAADz8xYAkWRQAK+utABR+iUAygAcANzJAQBacgEAdPUIAKnYrwIfKwYAZzEJAAAAAAAAAAAAgPQkACvy2QDwaAEAAAAAANNHDABQNAMAaJdCAPtzJwCTnwQAyTgDAAIRKAFS2QoA",
                        "dtype": "i4"
                      },
                      "yaxis": "y3"
                    },
                    {
                      "hovertemplate": "Trade bloc=USMCA<br>year=2020<br>category=Parts<br>Real GDP=%{x}<br>Export=%{y}<extra></extra>",
                      "legendgroup": "USMCA",
                      "marker": {
                        "color": "#EF553B",
                        "symbol": "diamond"
                      },
                      "mode": "markers",
                      "name": "USMCA",
                      "orientation": "v",
                      "showlegend": true,
                      "type": "scatter",
                      "x": {
                        "bdata": "AJAHpelxd0IAoHJKGwpxQg==",
                        "dtype": "f8"
                      },
                      "xaxis": "x",
                      "y": [
                        21979574184,
                        25537022508
                      ],
                      "yaxis": "y"
                    },
                    {
                      "hovertemplate": "Trade bloc=USMCA<br>year=2020<br>category=Passenger Vehicles<br>Real GDP=%{x}<br>Export=%{y}<extra></extra>",
                      "legendgroup": "USMCA",
                      "marker": {
                        "color": "#EF553B",
                        "symbol": "diamond"
                      },
                      "mode": "markers",
                      "name": "USMCA",
                      "orientation": "v",
                      "showlegend": false,
                      "type": "scatter",
                      "x": {
                        "bdata": "AJAHpelxd0IAoHJKGwpxQg==",
                        "dtype": "f8"
                      },
                      "xaxis": "x2",
                      "y": [
                        18595463497,
                        2088545024
                      ],
                      "yaxis": "y2"
                    },
                    {
                      "hovertemplate": "Trade bloc=USMCA<br>year=2020<br>category=Trucks<br>Real GDP=%{x}<br>Export=%{y}<extra></extra>",
                      "legendgroup": "USMCA",
                      "marker": {
                        "color": "#EF553B",
                        "symbol": "diamond"
                      },
                      "mode": "markers",
                      "name": "USMCA",
                      "orientation": "v",
                      "showlegend": false,
                      "type": "scatter",
                      "x": {
                        "bdata": "AJAHpelxd0IAoHJKGwpxQg==",
                        "dtype": "f8"
                      },
                      "xaxis": "x3",
                      "y": [
                        4498169550,
                        202235506
                      ],
                      "yaxis": "y3"
                    }
                  ],
                  "name": "2020"
                },
                {
                  "data": [
                    {
                      "hovertemplate": "Trade bloc=Other<br>year=2021<br>category=Parts<br>Real GDP=%{x}<br>Export=%{y}<extra></extra>",
                      "legendgroup": "Other",
                      "marker": {
                        "color": "#636efa",
                        "symbol": "circle"
                      },
                      "mode": "markers",
                      "name": "Other",
                      "orientation": "v",
                      "showlegend": true,
                      "type": "scatter",
                      "x": {
                        "bdata": "AAAQ/P9xDkIAAKCHno8JQgCAq247OUdCAACA9/MtM0IAAACxYSLWQQAAvCesjGBCAADYcC2IB0IAACAQuQrmQQAwBKLoJ3ZCAEDaSyefV0IAAACAC0EpQgAAiN2+fgVCAAAkFpbfIEIAwOexU5xQQgAAkJIR7PBBAABEZFT5K0IAABom6BRdQgAAQNzjJ+FBAABooSBkDUIAAHBilNb4QQAApAMXOSFCAAAk7loeEkIAADiwe9gOQgAACxH+1HpCAACQX7SdCEIAAFpgj8grQgAAMKCgig5CAADgr8W46EEAAAAfJbraQQAAfM0oph5CAAD8vN4XIkIAAJD/Vy/0QQAAgODXKt5BAIAvFqnTT0IA2CSzUnetQgAA3IlKPVNCAAAo916tAkIAAOyeDfouQgAAbJs2oC1CAACq45DOK0IAAIhrzFgZQgCAzu/86khCAADMQeZhJkIAAKENN2NUQgAAAL8I/75BAACUM8OcNUIAAPU12/A3QgBAY2iUyFhCAABMxDG/GEIAAAChM3caQgAAUDDwhvBBAAB4vWhiN0IAAODOo6ruQQAAd5/giU1CAFjSNdnFgkIAAPAnLgT1QQAASFTErgxCAAAAKnF32kEAAAAm698RQgDAQlfDkopCAAAu0om9LkIAADYjIqpHQgAAAC/Gic5BAAAbQKB9MUIAAMD+4E7WQQAAoANiRQBCAAAkhTg6F0IAQHLEDjdTQgCAVheGs0FCAAAooeXeEkIA0IOG8DiEQgCA3NgmBG9CAIBNGIxrW0IAwNs8zZdbQgBApwkzQlZCAEB/WzLEe0IAAGD23zUKQgCISqyBV5BCAAASgA/3I0IAgKfZ9f1IQgAAZFsVDTVCAAAA0F/6rEEAALXY9Jo6QgAAAEzt5/xBAADE7gG/EUIAAND/SDQcQgAA5P6Zzx9CAAAgxmQY4EEAACD6yF7oQQAAJNDbSChCAABoOeaFMEIAAKQvE8YaQgAAwLF/3gdCAADY1X1IBUIAgDUV0rpUQgAA0Cfow/JBAADoIWUwEkIAAHgXXVcOQgAAEN0B0fpBAADQ25fUBkIAAAAOItUBQgAAmGR9nAlCAADwlCoM8UEAAMNoD+c8QgAAVJLAXhFCAAAMjxxELEIAAPjOzfEDQgAAhLahLB1CAICNcfBmaUIAALrvHY9IQgAAIMl1VwpCAAAIvY/hB0IAwES15y1eQgAA6PTlwARCAMBnG/J+WEIAANjmlCozQgDAyFTaO1ZCAAAAkrcFqkEAANhjm3ItQgAAJOnKLRZCAAC6koCKI0IAAAHfEkZJQgAAW8CED1ZCAMDTJB2eYUIAgJjqBgdJQgAAk3TbGENCAIDFrCzXSUIA8D4BKOt1QgAAoGy1SwZCAAAAT3wjyUEAAADVZuWyQQDAvlFNVGZCAADAy8evFkIAAMCjxibZQQCAXA8lgFVCAAAUlEfdN0IAAMwB7zQoQgAAQHmy99VBAMDt9lKbVEIAYITIHbB4QgAgNpz1b3JCAAA/8CN7NkIAAAAPDIbKQQAAwCiD1thBAAAAKDQkyUEAAEg5vZgmQgAAsD6FDfBBAGDgZC2CYEIAwN7VBnZmQgAAkEgVSAdCAAC+JGPoLUIAgM5Q0I5ZQgAAYEpwRORBAABQ6bKf+0EAAFBOvcgTQgAAinhA5SVCAFAJMTF4cEIAAMDa5KcjQgAAocbRoTdCAABlWAFJV0IAEPmdLV+GQgAA+gcMjCtCAABKaONyO0IAgAY92FZTQgAAZmibISFCAADsraMrF0IAAPDArksTQg==",
                        "dtype": "f8"
                      },
                      "xaxis": "x",
                      "y": [
                        6184292,
                        7711680,
                        5572948,
                        2100680,
                        2959267,
                        219873893,
                        4329968,
                        5148637,
                        1433936916,
                        79682442,
                        2821501,
                        20445459,
                        8684624,
                        1667744,
                        5284812,
                        19200442,
                        544710573,
                        3603901,
                        33214179,
                        5483735,
                        18493381,
                        362204,
                        455262,
                        1184727082,
                        2669894,
                        2987197,
                        5975872,
                        4901,
                        2644239,
                        29882772,
                        3457583,
                        5878623,
                        52684,
                        417044455,
                        3015488759,
                        252918488,
                        798497,
                        50268321,
                        4523225,
                        10157112,
                        1033420,
                        61079522,
                        1178281,
                        38025895,
                        961551,
                        165477510,
                        111612227,
                        97622427,
                        59076781,
                        3045605,
                        1046272,
                        6759167,
                        190985,
                        19966752,
                        354513910,
                        1094875,
                        981006,
                        2029978,
                        50405208,
                        1998615746,
                        48243194,
                        8542416,
                        2013154,
                        138652773,
                        23350,
                        14035763,
                        92699517,
                        391599376,
                        128251995,
                        3648519,
                        612418744,
                        59844500,
                        28500,
                        21866333,
                        76471698,
                        448105213,
                        14491990,
                        1385489032,
                        24431754,
                        15587030,
                        10284682,
                        49116,
                        50561240,
                        1335644,
                        26236,
                        4028658,
                        35599447,
                        0,
                        3771147,
                        59343673,
                        8613633,
                        448765,
                        279740,
                        502877,
                        119996360,
                        426311,
                        4025660,
                        439732,
                        6210708,
                        137385,
                        2624002,
                        11060378,
                        402397,
                        20073856,
                        3350237,
                        527144,
                        1207343,
                        172583,
                        380139125,
                        57482094,
                        20735851,
                        2423289,
                        140273760,
                        3662056,
                        58470213,
                        46299404,
                        10303067,
                        14149,
                        107933858,
                        870531,
                        25928694,
                        228816170,
                        33224630,
                        350589556,
                        11385517,
                        25217541,
                        40075846,
                        711096757,
                        90871,
                        246683,
                        293618,
                        195993684,
                        12929881,
                        142172,
                        303206161,
                        20212833,
                        9129347,
                        0,
                        719695200,
                        581170164,
                        718849670,
                        1550616,
                        1620669,
                        2591507,
                        1175271,
                        145361,
                        18226114,
                        123939260,
                        35865841,
                        571673,
                        3251044,
                        847391360,
                        214587,
                        14903847,
                        22022867,
                        2752953,
                        243505933,
                        2631731,
                        102068107,
                        684101701,
                        1120528399,
                        10448421,
                        3731031,
                        77260861,
                        6519913,
                        8938492,
                        5544365
                      ],
                      "yaxis": "y"
                    },
                    {
                      "hovertemplate": "Trade bloc=Other<br>year=2021<br>category=Passenger Vehicles<br>Real GDP=%{x}<br>Export=%{y}<extra></extra>",
                      "legendgroup": "Other",
                      "marker": {
                        "color": "#636efa",
                        "symbol": "circle"
                      },
                      "mode": "markers",
                      "name": "Other",
                      "orientation": "v",
                      "showlegend": false,
                      "type": "scatter",
                      "x": {
                        "bdata": "AAC8J6yMYEIAACAQuQrmQQAwBKLoJ3ZCAEDaSyefV0IAAIjdvn4FQgAAGiboFF1CAABwYpTW+EEAAAsR/tR6QgAAWmCPyCtCAACQ/1cv9EEAAIDg1yreQQCALxap009CANgks1J3rUIAANyJSj1TQgAA7J4N+i5CAACq45DOK0IAgM7v/OpIQgAAoQ03Y1RCAACUM8OcNUIAAPU12/A3QgBAY2iUyFhCAABMxDG/GEIAAAChM3caQgAAd5/giU1CAFjSNdnFgkIAAAAqcXfaQQAAACbr3xFCAMBCV8OSikIAADYjIqpHQgAAG0CgfTFCAAAkhTg6F0IAQHLEDjdTQgCAVheGs0FCANCDhvA4hEIAgNzYJgRvQgDA2zzNl1tCAECnCTNCVkIAQH9bMsR7QgCISqyBV5BCAAASgA/3I0IAALXY9Jo6QgAA0P9INBxCAADk/pnPH0IAACTQ20goQgAAaDnmhTBCAACkLxPGGkIAgDUV0rpUQgAAw2gP5zxCAICNcfBmaUIAALrvHY9IQgAAIMl1VwpCAMBEtectXkIAwGcb8n5YQgAA2OaUKjNCAMDIVNo7VkIAANhjm3ItQgAAupKAiiNCAAAB3xJGSUIAAFvAhA9WQgDA0yQdnmFCAICY6gYHSUIAgMWsLNdJQgDwPgEo63VCAMC+UU1UZkIAgFwPJYBVQgAAFJRH3TdCAMDt9lKbVEIAYITIHbB4QgAgNpz1b3JCAGDgZC2CYEIAwN7VBnZmQgAAviRj6C1CAIDOUNCOWUIAAFBOvcgTQgBQCTExeHBCAAChxtGhN0IAAGVYAUlXQgAQ+Z0tX4ZCAAD6BwyMK0IAAEpo43I7QgCABj3YVlNC",
                        "dtype": "f8"
                      },
                      "xaxis": "x2",
                      "y": [
                        37404964,
                        5076758,
                        1407252377,
                        28006239,
                        15614240,
                        2870048017,
                        1754782,
                        186674099,
                        7447266,
                        22513086,
                        0,
                        306944867,
                        6278802297,
                        191285585,
                        48288328,
                        564550,
                        11004947,
                        6951215,
                        162813154,
                        23281532,
                        7030729,
                        20638242,
                        18675821,
                        50205662,
                        163967648,
                        3026356,
                        34452891,
                        7258458199,
                        8568116,
                        56827913,
                        21505336,
                        42904384,
                        65674838,
                        22477129,
                        4977126,
                        10948326,
                        273826195,
                        110658042,
                        697982598,
                        50557712,
                        637693091,
                        5533449,
                        61067092,
                        121428517,
                        513231,
                        0,
                        2114464,
                        6049769,
                        246406265,
                        162038815,
                        3040022,
                        254975383,
                        56517106,
                        183533389,
                        1017884,
                        62423192,
                        20811617,
                        81665190,
                        45898139,
                        152317721,
                        9475945,
                        19279796,
                        270210740,
                        1469986454,
                        46976976,
                        2561397,
                        99739705,
                        3163180996,
                        75650721,
                        123628659,
                        63863670,
                        476754,
                        4464311,
                        2369819,
                        20219997,
                        155567374,
                        1070647419,
                        645663973,
                        20504339,
                        9120220,
                        70839687
                      ],
                      "yaxis": "y2"
                    },
                    {
                      "hovertemplate": "Trade bloc=Other<br>year=2021<br>category=Trucks<br>Real GDP=%{x}<br>Export=%{y}<extra></extra>",
                      "legendgroup": "Other",
                      "marker": {
                        "color": "#636efa",
                        "symbol": "circle"
                      },
                      "mode": "markers",
                      "name": "Other",
                      "orientation": "v",
                      "showlegend": false,
                      "type": "scatter",
                      "x": {
                        "bdata": "AAC8J6yMYEIAMASi6Cd2QgBA2ksnn1dCAAAkFpbfIEIAAERkVPkrQgAAGiboFF1CAAAk7loeEkIAAAsR/tR6QgAAWmCPyCtCAACQ/1cv9EEAAIDg1yreQQCALxap009CANgks1J3rUIAAOyeDfouQgCAzu/86khCAAChDTdjVEIAAJQzw5w1QgAAAKEzdxpCAAB3n+CJTUIAWNI12cWCQgAAACbr3xFCAMBCV8OSikIAAC7Sib0uQgAANiMiqkdCAEByxA43U0IAgFYXhrNBQgDQg4bwOIRCAMDbPM2XW0IAQKcJM0JWQgBAf1syxHtCAIhKrIFXkEIAABKAD/cjQgAA0P9INBxCAABoOeaFMEIAgDUV0rpUQgAA6CFlMBJCAAAQ3QHR+kEAAPCUKgzxQQAAVJLAXhFCAAAMjxxELEIAgI1x8GZpQgAAuu8dj0hCAADo9OXABEIAwGcb8n5YQgAA2OaUKjNCAADYY5tyLUIAAAHfEkZJQgAAW8CED1ZCAMDTJB2eYUIAgJjqBgdJQgCAxaws10lCAPA+ASjrdUIAwL5RTVRmQgAAwMvHrxZCAIBcDyWAVUIAABSUR903QgAAzAHvNChCAMDt9lKbVEIAYITIHbB4QgAgNpz1b3JCAAA/8CN7NkIAYOBkLYJgQgDA3tUGdmZCAIDOUNCOWUIAAIp4QOUlQgBQCTExeHBCAAChxtGhN0IAEPmdLV+GQgCABj3YVlNC",
                        "dtype": "f8"
                      },
                      "xaxis": "x3",
                      "y": {
                        "bdata": "JSA3AGfu/gZQNRoAee8HAPpUAQBnFRIAAAAAALt5zQAgTgAA4iUyADhKAADjh60CVBvUANtnigC4FAEAAAAAABUbugYAAAAAdtIDALC0BADXMhwAPiBJAIh5CACqfQUADK0AAMvODgA4NAgAJAgBAG58+wCHzBkA0c1oANsNKgCcBgIAELQZAERIAACIXwQAAAAAAAAAAAApFQMAAAAAAM0fGwDGUSgAAAAAAHAXAAC36kgAz1NnAPOxIACNXBUApR8CAD3HAACEAA0AEhMOAIbrAwGkLAgA9y8OAAAAAAAAAAAALpZNAP8/mgF+NAQAAAAAAD75DwCV6QMAXR25AOypAACOPggAdoMVAIwDIQEOyAEA",
                        "dtype": "i4"
                      },
                      "yaxis": "y3"
                    },
                    {
                      "hovertemplate": "Trade bloc=USMCA<br>year=2021<br>category=Parts<br>Real GDP=%{x}<br>Export=%{y}<extra></extra>",
                      "legendgroup": "USMCA",
                      "marker": {
                        "color": "#EF553B",
                        "symbol": "diamond"
                      },
                      "mode": "markers",
                      "name": "USMCA",
                      "orientation": "v",
                      "showlegend": true,
                      "type": "scatter",
                      "x": {
                        "bdata": "ANA/5A7XeEIAcKWp8hFyQg==",
                        "dtype": "f8"
                      },
                      "xaxis": "x",
                      "y": [
                        21569493812,
                        29079110745
                      ],
                      "yaxis": "y"
                    },
                    {
                      "hovertemplate": "Trade bloc=USMCA<br>year=2021<br>category=Passenger Vehicles<br>Real GDP=%{x}<br>Export=%{y}<extra></extra>",
                      "legendgroup": "USMCA",
                      "marker": {
                        "color": "#EF553B",
                        "symbol": "diamond"
                      },
                      "mode": "markers",
                      "name": "USMCA",
                      "orientation": "v",
                      "showlegend": false,
                      "type": "scatter",
                      "x": {
                        "bdata": "ANA/5A7XeEIAcKWp8hFyQg==",
                        "dtype": "f8"
                      },
                      "xaxis": "x2",
                      "y": [
                        23706809603,
                        2874156753
                      ],
                      "yaxis": "y2"
                    },
                    {
                      "hovertemplate": "Trade bloc=USMCA<br>year=2021<br>category=Trucks<br>Real GDP=%{x}<br>Export=%{y}<extra></extra>",
                      "legendgroup": "USMCA",
                      "marker": {
                        "color": "#EF553B",
                        "symbol": "diamond"
                      },
                      "mode": "markers",
                      "name": "USMCA",
                      "orientation": "v",
                      "showlegend": false,
                      "type": "scatter",
                      "x": {
                        "bdata": "ANA/5A7XeEIAcKWp8hFyQg==",
                        "dtype": "f8"
                      },
                      "xaxis": "x3",
                      "y": [
                        5418459380,
                        207795149
                      ],
                      "yaxis": "y3"
                    }
                  ],
                  "name": "2021"
                },
                {
                  "data": [
                    {
                      "hovertemplate": "Trade bloc=Other<br>year=2022<br>category=Parts<br>Real GDP=%{x}<br>Export=%{y}<extra></extra>",
                      "legendgroup": "Other",
                      "marker": {
                        "color": "#636efa",
                        "symbol": "circle"
                      },
                      "mode": "markers",
                      "name": "Other",
                      "orientation": "v",
                      "showlegend": true,
                      "type": "scatter",
                      "x": {
                        "bdata": "AACQFKSLDEIAAEi6dcsKQgAAH7FCD0hCAABOmHLDM0IAAED0dibYQQDgXKXwa2FCAABwTzl/CkIAAACMXevnQQBA9m+IGHdCAACq3VDeWEIAAGjj2XEqQgAAwOJN1QdCAAAiLovqIUIAgBYgPMpRQgAAALuZ8PNBAABIALqrKkIAwB0kA1JeQgAAoJfWz+JBAABwb5s6D0IAABAnYHL6QQAAok0R2CFCAABk4mjiEkIAAMzA10QQQgBgEX41pHtCAABYiRc3CEIAAEQP0ucsQgAAGOiw/w5CAACgisot6UEAAMA4MfbeQQAA3G1UHCBCAAAq+/PEIkIAAOD8yTn1QQAAALzlTd5BAMDLjZRBUEIAIMe6vmOuQgDAyOs6plRCAAAIyOnzAkIAACGVfjEwQgAAOhmYhS9CAAA4z1zVLUIAAKTQTiwbQgAAZ9SboElCAAB25kJhKEIAgGCZmbNUQgAAgB8DHMFBAACH8pC+NkIAAJUGhlg5QgAAeAONalpCAAAMAWB6GUIAAFjES3saQgAAgLNOtvBBAABn0P2gOEIAANBuP17yQQAA8uWTw01CAEhbMGZBg0IAAKDFevT1QQAASNbPjQ1CAAAA8Z3r20EAAOQ+X9UTQgCYvU7x74pCAAACZfboL0IAAERdFwZJQgAAgOsLY9BBAABWOP44MkIAAEDd1o3XQQAA8EuDkwpCAADcKpswGEIAAGQR2oFSQgCAqx0JdUJCAAA4bamQFEIA0NMs38KFQgCgro/GVHBCAMDcUKZ0XEIAgGqVqvhdQgCA3rQXp1dCAHAJO+UafUIAABB4O5QLQgAMA0XqfpBCAAAuYF9+JEIAgADxscpJQgAAc+r9EjZCAAAAFh9NrkEAAO5KSWc8QgAAwAmEf/9BAAB0kgE6EkIAAPw+vbYcQgAAAHj5nB9CAABAk8d64EEAAECewIrpQQAAvO+c5ihCAAAbZJRXMEIAAMAmCYYVQgAAQAV13AhCAAAAra16BUIAgE0EGpFWQgAAEG0ZXPVBAACAKsHTEkIAAIAl+qIPQgAAwLONo/xBAADw5qrQCEIAAFAMIwMBQgAAMHt15gpCAACwt8Mj8kEAAFwUD1g9QgAAcBvUIBJCAADi4kRoLUIAABDGcwUFQgAA4L020R5CAGDMgI6sakIAAMlZ8GpJQgAASIXfRgtCAAB4RhO5CkIAAHh+IClfQgAAGJh5UwVCAAC51INKWUIAAEwqaLI0QgCAps/QS1dCAAAAHuOtqUEAAACxPk8wQgAA8H7bcRdCAADs/U6TI0IAgFr80ftJQgDANuunu1dCAIBcFCSLYkIAABqenMZKQgCAgNZ05UNCAABvjXzdSkIA0I0wlpp1QgAAqNCGHQhCAACA///Nx0EAAAD0j+2yQQCA77ZKAmlCAAC4s2ePF0IAAECvLFncQQDAm0pBYlZCAAA7xv/3N0IAALQiNNwoQgAAgDHOftZBAEABLSkAVUIA0OCBPVV5QgCwVtWek3NCAABBGy/UNEIAAAAcTUTNQQAAAP3p5t1BAACAXGzsyUEAAJb7VGEmQgAAoJlncPBBAGDodNm/YEIAQDKfDyVnQgAAmMrjJAlCAAAOdvpFL0IAgLqipDdaQgAAgK+mGuBBAACAEv82/UEAAKQcjf8TQgAAUhoZeyZCAMCv+n1hcUIAAPIjwo4kQgAA8R361TBCAEDnn6gIWUIAqKc7UnSHQgAAQvdqyCxCAAADj5gYPUIAQNnnhf1UQgAAZmibISFCAADYF8BgGEIAAFA+8HoUQg==",
                        "dtype": "f8"
                      },
                      "xaxis": "x",
                      "y": [
                        8283,
                        3488232,
                        5011645,
                        6597483,
                        3790972,
                        281936978,
                        28900299,
                        4178191,
                        1557406115,
                        71517290,
                        2644133,
                        24401511,
                        6533276,
                        2045655,
                        7631556,
                        4172208,
                        582511005,
                        4496316,
                        43507274,
                        5791198,
                        24210104,
                        1852805,
                        351861,
                        1266949674,
                        3078755,
                        2834444,
                        7964143,
                        0,
                        1201068,
                        41389630,
                        2820038,
                        5793948,
                        36636,
                        459616052,
                        2685859682,
                        369691028,
                        703199,
                        54827151,
                        2480690,
                        1636633,
                        1373227,
                        59993015,
                        1049906,
                        32134340,
                        1586080,
                        187948027,
                        94145919,
                        154396779,
                        69290825,
                        2203660,
                        579901,
                        7010856,
                        636257,
                        20488003,
                        392897992,
                        1853887,
                        1544946,
                        1453018,
                        39662664,
                        2233079487,
                        41359535,
                        10650129,
                        2734845,
                        142210444,
                        3500,
                        19227685,
                        107496983,
                        402406356,
                        141045561,
                        4309742,
                        797568003,
                        101005969,
                        28500,
                        16326814,
                        103398623,
                        547726530,
                        18092032,
                        1594748758,
                        26248209,
                        20599730,
                        3116980,
                        13981,
                        53345535,
                        2493268,
                        87407,
                        4457159,
                        36797235,
                        0,
                        2878707,
                        69175820,
                        11098384,
                        363368,
                        557328,
                        173607,
                        191673939,
                        830355,
                        4229740,
                        566931,
                        3374346,
                        180728,
                        1672579,
                        5735781,
                        630103,
                        20968511,
                        3207598,
                        98804,
                        454957,
                        357303,
                        424378390,
                        64539575,
                        22432455,
                        5120149,
                        158622685,
                        7751587,
                        69285824,
                        40983187,
                        8724268,
                        82083,
                        127571805,
                        2136976,
                        40387494,
                        234589259,
                        36797746,
                        454044812,
                        14954869,
                        42171849,
                        61044165,
                        85450251,
                        99856,
                        242491,
                        534165,
                        179205922,
                        10737560,
                        309763,
                        448612242,
                        21896736,
                        3323428,
                        3413,
                        699157679,
                        645849525,
                        732024540,
                        1526403,
                        1596145,
                        2659941,
                        1627402,
                        6802,
                        21930700,
                        139669447,
                        34899005,
                        465655,
                        2591528,
                        864045282,
                        877727,
                        18234144,
                        20372425,
                        3374687,
                        367713330,
                        907018,
                        26866660,
                        631816726,
                        1189446915,
                        11557306,
                        6677108,
                        74303343,
                        2466895,
                        14002474,
                        4341149
                      ],
                      "yaxis": "y"
                    },
                    {
                      "hovertemplate": "Trade bloc=Other<br>year=2022<br>category=Passenger Vehicles<br>Real GDP=%{x}<br>Export=%{y}<extra></extra>",
                      "legendgroup": "Other",
                      "marker": {
                        "color": "#636efa",
                        "symbol": "circle"
                      },
                      "mode": "markers",
                      "name": "Other",
                      "orientation": "v",
                      "showlegend": false,
                      "type": "scatter",
                      "x": {
                        "bdata": "AOBcpfBrYUIAAACMXevnQQBA9m+IGHdCAACq3VDeWEIAAMDiTdUHQgDAHSQDUl5CAAAQJ2By+kEAYBF+NaR7QgAARA/S5yxCAADg/Mk59UEAAAC85U3eQQDAy42UQVBCACDHur5jrkIAwMjrOqZUQgAAIZV+MTBCAAA4z1zVLUIAAGfUm6BJQgCAYJmZs1RCAACH8pC+NkIAAJUGhlg5QgAAeAONalpCAAAMAWB6GUIAAFjES3saQgAA8uWTw01CAEhbMGZBg0IAAADxnevbQQAA5D5f1RNCAJi9TvHvikIAAERdFwZJQgAAVjj+ODJCAADcKpswGEIAAGQR2oFSQgCAqx0JdUJCANDTLN/ChUIAoK6PxlRwQgCAapWq+F1CAIDetBenV0IAcAk75Rp9QgAMA0XqfpBCAAAuYF9+JEIAAO5KSWc8QgAA/D69thxCAAAAePmcH0IAALzvnOYoQgAAG2SUVzBCAADAJgmGFUIAgE0EGpFWQgAAXBQPWD1CAGDMgI6sakIAAMlZ8GpJQgAASIXfRgtCAAB4fiApX0IAALnUg0pZQgAATCposjRCAICmz9BLV0IAAACxPk8wQgAA7P1OkyNCAIBa/NH7SUIAwDbrp7tXQgCAXBQki2JCAAAanpzGSkIAAG+NfN1KQgDQjTCWmnVCAIDvtkoCaUIAwJtKQWJWQgAAO8b/9zdCAEABLSkAVUIA0OCBPVV5QgCwVtWek3NCAGDodNm/YEIAQDKfDyVnQgAADnb6RS9CAIC6oqQ3WkIAAKQcjf8TQgDAr/p9YXFCAADxHfrVMEIAQOefqAhZQgCopztSdIdCAABC92rILEIAAAOPmBg9QgBA2eeF/VRC",
                        "dtype": "f8"
                      },
                      "xaxis": "x2",
                      "y": [
                        37026491,
                        6902236,
                        1488875473,
                        13888581,
                        14570016,
                        1771266040,
                        473282,
                        309880339,
                        7295901,
                        23765037,
                        18500,
                        321510562,
                        5024574204,
                        244445147,
                        57479571,
                        2318114,
                        11599868,
                        9015029,
                        155246564,
                        67137270,
                        18429154,
                        29293734,
                        9493684,
                        15024891,
                        60374684,
                        2314508,
                        66752219,
                        7205388022,
                        5031213,
                        62491241,
                        33861034,
                        16497114,
                        22237293,
                        19774638,
                        24958830,
                        15492256,
                        335592273,
                        60234335,
                        740054878,
                        100379177,
                        762253853,
                        7888044,
                        90650112,
                        137577430,
                        7349558,
                        0,
                        3125937,
                        17391552,
                        127498388,
                        134453213,
                        5237190,
                        117715685,
                        29202725,
                        175906566,
                        15000,
                        96602890,
                        13543763,
                        124107718,
                        60554746,
                        114651116,
                        12632010,
                        10996571,
                        27039840,
                        1744865722,
                        22085579,
                        5707452,
                        236222220,
                        3912035009,
                        57106251,
                        210577819,
                        41709489,
                        505274,
                        8203168,
                        3336378,
                        23501964,
                        50437219,
                        1687900533,
                        614243096,
                        10234572,
                        39309821,
                        111384271
                      ],
                      "yaxis": "y2"
                    },
                    {
                      "hovertemplate": "Trade bloc=Other<br>year=2022<br>category=Trucks<br>Real GDP=%{x}<br>Export=%{y}<extra></extra>",
                      "legendgroup": "Other",
                      "marker": {
                        "color": "#636efa",
                        "symbol": "circle"
                      },
                      "mode": "markers",
                      "name": "Other",
                      "orientation": "v",
                      "showlegend": false,
                      "type": "scatter",
                      "x": {
                        "bdata": "AOBcpfBrYUIAQPZviBh3QgAAqt1Q3lhCAAAiLovqIUIAAEgAuqsqQgDAHSQDUl5CAABk4mjiEkIAYBF+NaR7QgAARA/S5yxCAADg/Mk59UEAAAC85U3eQQDAy42UQVBCACDHur5jrkIAACGVfjEwQgAAZ9SboElCAIBgmZmzVEIAAIfykL42QgAAWMRLexpCAADy5ZPDTUIASFswZkGDQgAA5D5f1RNCAJi9TvHvikIAAAJl9ugvQgAARF0XBklCAABkEdqBUkIAgKsdCXVCQgDQ0yzfwoVCAIBqlar4XUIAgN60F6dXQgBwCTvlGn1CAAwDRep+kEIAAC5gX34kQgAA/D69thxCAAAbZJRXMEIAgE0EGpFWQgAAgCrB0xJCAADAs42j/EEAALC3wyPyQQAAcBvUIBJCAADi4kRoLUIAYMyAjqxqQgAAyVnwaklCAAAYmHlTBUIAALnUg0pZQgAATCposjRCAAAAsT5PMEIAgFr80ftJQgDANuunu1dCAIBcFCSLYkIAABqenMZKQgAAb4183UpCANCNMJaadUIAgO+2SgJpQgAAuLNnjxdCAMCbSkFiVkIAADvG//c3QgAAtCI03ChCAEABLSkAVUIA0OCBPVV5QgCwVtWek3NCAABBGy/UNEIAYOh02b9gQgBAMp8PJWdCAIC6oqQ3WkIAAFIaGXsmQgDAr/p9YXFCAADxHfrVMEIAqKc7UnSHQgBA2eeF/VRC",
                        "dtype": "f8"
                      },
                      "xaxis": "x3",
                      "y": {
                        "bdata": "HpogAPq+wgVMxwwASaoKAAAAAAAXEx0AAAAAAHB5XgDgIgIApGs7AAAAAABConkCFsK2AN4nWwBUGwIA/GACAFkCjQTMWwAAKB0BANBLBgChuw0A5MLPAIrPJwBqFAAArEgDACX3BQDQ1AEAAAAAAHs7BwFW0goA1Z4sANsXGwAAAAAAAAAAAPFRAABpiAEAAAAAAAAAAADHqQQAAAAAAIFhEwBx0JoAAAAAAHgHAQBSXlQAWOygAPqSFwARQwcAtqYGAGwPAgAXCw8AeoIBAKGjYABR8woAAAAAAAAAAAAAAAAAyK8AALS/sAAxLBcAAAAAALhTDQBwEQEApcArAAbGAADwXQcAlWkTAFNlWQDYzxYA",
                        "dtype": "i4"
                      },
                      "yaxis": "y3"
                    },
                    {
                      "hovertemplate": "Trade bloc=USMCA<br>year=2022<br>category=Parts<br>Real GDP=%{x}<br>Export=%{y}<extra></extra>",
                      "legendgroup": "USMCA",
                      "marker": {
                        "color": "#EF553B",
                        "symbol": "diamond"
                      },
                      "mode": "markers",
                      "name": "USMCA",
                      "orientation": "v",
                      "showlegend": true,
                      "type": "scatter",
                      "x": {
                        "bdata": "ABAtAXHheUIAIN3Gnb1yQg==",
                        "dtype": "f8"
                      },
                      "xaxis": "x",
                      "y": [
                        25806846862,
                        33202728599
                      ],
                      "yaxis": "y"
                    },
                    {
                      "hovertemplate": "Trade bloc=USMCA<br>year=2022<br>category=Passenger Vehicles<br>Real GDP=%{x}<br>Export=%{y}<extra></extra>",
                      "legendgroup": "USMCA",
                      "marker": {
                        "color": "#EF553B",
                        "symbol": "diamond"
                      },
                      "mode": "markers",
                      "name": "USMCA",
                      "orientation": "v",
                      "showlegend": false,
                      "type": "scatter",
                      "x": {
                        "bdata": "ABAtAXHheUIAIN3Gnb1yQg==",
                        "dtype": "f8"
                      },
                      "xaxis": "x2",
                      "y": [
                        26845856308,
                        3606171154
                      ],
                      "yaxis": "y2"
                    },
                    {
                      "hovertemplate": "Trade bloc=USMCA<br>year=2022<br>category=Trucks<br>Real GDP=%{x}<br>Export=%{y}<extra></extra>",
                      "legendgroup": "USMCA",
                      "marker": {
                        "color": "#EF553B",
                        "symbol": "diamond"
                      },
                      "mode": "markers",
                      "name": "USMCA",
                      "orientation": "v",
                      "showlegend": false,
                      "type": "scatter",
                      "x": {
                        "bdata": "ABAtAXHheUIAIN3Gnb1yQg==",
                        "dtype": "f8"
                      },
                      "xaxis": "x3",
                      "y": [
                        6567662285,
                        304330318
                      ],
                      "yaxis": "y3"
                    }
                  ],
                  "name": "2022"
                }
              ],
              "layout": {
                "annotations": [
                  {
                    "font": {},
                    "showarrow": false,
                    "text": "Parts",
                    "x": 0.15999999999999998,
                    "xanchor": "center",
                    "xref": "paper",
                    "y": 1,
                    "yanchor": "bottom",
                    "yref": "paper"
                  },
                  {
                    "font": {},
                    "showarrow": false,
                    "text": "Passenger Vehicles",
                    "x": 0.49999999999999994,
                    "xanchor": "center",
                    "xref": "paper",
                    "y": 1,
                    "yanchor": "bottom",
                    "yref": "paper"
                  },
                  {
                    "font": {},
                    "showarrow": false,
                    "text": "Trucks",
                    "x": 0.8399999999999999,
                    "xanchor": "center",
                    "xref": "paper",
                    "y": 1,
                    "yanchor": "bottom",
                    "yref": "paper"
                  }
                ],
                "legend": {
                  "title": {},
                  "tracegroupgap": 0
                },
                "margin": {
                  "t": 60
                },
                "sliders": [
                  {
                    "active": 0,
                    "currentvalue": {
                      "prefix": "year="
                    },
                    "len": 0.9,
                    "pad": {
                      "b": 10,
                      "t": 60
                    },
                    "steps": [
                      {
                        "args": [
                          [
                            "2008"
                          ],
                          {
                            "frame": {
                              "duration": 0,
                              "redraw": false
                            },
                            "fromcurrent": true,
                            "mode": "immediate",
                            "transition": {
                              "duration": 0,
                              "easing": "linear"
                            }
                          }
                        ],
                        "label": "2008",
                        "method": "animate"
                      },
                      {
                        "args": [
                          [
                            "2009"
                          ],
                          {
                            "frame": {
                              "duration": 0,
                              "redraw": false
                            },
                            "fromcurrent": true,
                            "mode": "immediate",
                            "transition": {
                              "duration": 0,
                              "easing": "linear"
                            }
                          }
                        ],
                        "label": "2009",
                        "method": "animate"
                      },
                      {
                        "args": [
                          [
                            "2010"
                          ],
                          {
                            "frame": {
                              "duration": 0,
                              "redraw": false
                            },
                            "fromcurrent": true,
                            "mode": "immediate",
                            "transition": {
                              "duration": 0,
                              "easing": "linear"
                            }
                          }
                        ],
                        "label": "2010",
                        "method": "animate"
                      },
                      {
                        "args": [
                          [
                            "2011"
                          ],
                          {
                            "frame": {
                              "duration": 0,
                              "redraw": false
                            },
                            "fromcurrent": true,
                            "mode": "immediate",
                            "transition": {
                              "duration": 0,
                              "easing": "linear"
                            }
                          }
                        ],
                        "label": "2011",
                        "method": "animate"
                      },
                      {
                        "args": [
                          [
                            "2012"
                          ],
                          {
                            "frame": {
                              "duration": 0,
                              "redraw": false
                            },
                            "fromcurrent": true,
                            "mode": "immediate",
                            "transition": {
                              "duration": 0,
                              "easing": "linear"
                            }
                          }
                        ],
                        "label": "2012",
                        "method": "animate"
                      },
                      {
                        "args": [
                          [
                            "2013"
                          ],
                          {
                            "frame": {
                              "duration": 0,
                              "redraw": false
                            },
                            "fromcurrent": true,
                            "mode": "immediate",
                            "transition": {
                              "duration": 0,
                              "easing": "linear"
                            }
                          }
                        ],
                        "label": "2013",
                        "method": "animate"
                      },
                      {
                        "args": [
                          [
                            "2014"
                          ],
                          {
                            "frame": {
                              "duration": 0,
                              "redraw": false
                            },
                            "fromcurrent": true,
                            "mode": "immediate",
                            "transition": {
                              "duration": 0,
                              "easing": "linear"
                            }
                          }
                        ],
                        "label": "2014",
                        "method": "animate"
                      },
                      {
                        "args": [
                          [
                            "2015"
                          ],
                          {
                            "frame": {
                              "duration": 0,
                              "redraw": false
                            },
                            "fromcurrent": true,
                            "mode": "immediate",
                            "transition": {
                              "duration": 0,
                              "easing": "linear"
                            }
                          }
                        ],
                        "label": "2015",
                        "method": "animate"
                      },
                      {
                        "args": [
                          [
                            "2016"
                          ],
                          {
                            "frame": {
                              "duration": 0,
                              "redraw": false
                            },
                            "fromcurrent": true,
                            "mode": "immediate",
                            "transition": {
                              "duration": 0,
                              "easing": "linear"
                            }
                          }
                        ],
                        "label": "2016",
                        "method": "animate"
                      },
                      {
                        "args": [
                          [
                            "2017"
                          ],
                          {
                            "frame": {
                              "duration": 0,
                              "redraw": false
                            },
                            "fromcurrent": true,
                            "mode": "immediate",
                            "transition": {
                              "duration": 0,
                              "easing": "linear"
                            }
                          }
                        ],
                        "label": "2017",
                        "method": "animate"
                      },
                      {
                        "args": [
                          [
                            "2018"
                          ],
                          {
                            "frame": {
                              "duration": 0,
                              "redraw": false
                            },
                            "fromcurrent": true,
                            "mode": "immediate",
                            "transition": {
                              "duration": 0,
                              "easing": "linear"
                            }
                          }
                        ],
                        "label": "2018",
                        "method": "animate"
                      },
                      {
                        "args": [
                          [
                            "2019"
                          ],
                          {
                            "frame": {
                              "duration": 0,
                              "redraw": false
                            },
                            "fromcurrent": true,
                            "mode": "immediate",
                            "transition": {
                              "duration": 0,
                              "easing": "linear"
                            }
                          }
                        ],
                        "label": "2019",
                        "method": "animate"
                      },
                      {
                        "args": [
                          [
                            "2020"
                          ],
                          {
                            "frame": {
                              "duration": 0,
                              "redraw": false
                            },
                            "fromcurrent": true,
                            "mode": "immediate",
                            "transition": {
                              "duration": 0,
                              "easing": "linear"
                            }
                          }
                        ],
                        "label": "2020",
                        "method": "animate"
                      },
                      {
                        "args": [
                          [
                            "2021"
                          ],
                          {
                            "frame": {
                              "duration": 0,
                              "redraw": false
                            },
                            "fromcurrent": true,
                            "mode": "immediate",
                            "transition": {
                              "duration": 0,
                              "easing": "linear"
                            }
                          }
                        ],
                        "label": "2021",
                        "method": "animate"
                      },
                      {
                        "args": [
                          [
                            "2022"
                          ],
                          {
                            "frame": {
                              "duration": 0,
                              "redraw": false
                            },
                            "fromcurrent": true,
                            "mode": "immediate",
                            "transition": {
                              "duration": 0,
                              "easing": "linear"
                            }
                          }
                        ],
                        "label": "2022",
                        "method": "animate"
                      }
                    ],
                    "x": 0.1,
                    "xanchor": "left",
                    "y": 0,
                    "yanchor": "top"
                  }
                ],
                "template": {
                  "data": {
                    "bar": [
                      {
                        "error_x": {
                          "color": "#2a3f5f"
                        },
                        "error_y": {
                          "color": "#2a3f5f"
                        },
                        "marker": {
                          "line": {
                            "color": "#E5ECF6",
                            "width": 0.5
                          },
                          "pattern": {
                            "fillmode": "overlay",
                            "size": 10,
                            "solidity": 0.2
                          }
                        },
                        "type": "bar"
                      }
                    ],
                    "barpolar": [
                      {
                        "marker": {
                          "line": {
                            "color": "#E5ECF6",
                            "width": 0.5
                          },
                          "pattern": {
                            "fillmode": "overlay",
                            "size": 10,
                            "solidity": 0.2
                          }
                        },
                        "type": "barpolar"
                      }
                    ],
                    "carpet": [
                      {
                        "aaxis": {
                          "endlinecolor": "#2a3f5f",
                          "gridcolor": "white",
                          "linecolor": "white",
                          "minorgridcolor": "white",
                          "startlinecolor": "#2a3f5f"
                        },
                        "baxis": {
                          "endlinecolor": "#2a3f5f",
                          "gridcolor": "white",
                          "linecolor": "white",
                          "minorgridcolor": "white",
                          "startlinecolor": "#2a3f5f"
                        },
                        "type": "carpet"
                      }
                    ],
                    "choropleth": [
                      {
                        "colorbar": {
                          "outlinewidth": 0,
                          "ticks": ""
                        },
                        "type": "choropleth"
                      }
                    ],
                    "contour": [
                      {
                        "colorbar": {
                          "outlinewidth": 0,
                          "ticks": ""
                        },
                        "colorscale": [
                          [
                            0,
                            "#0d0887"
                          ],
                          [
                            0.1111111111111111,
                            "#46039f"
                          ],
                          [
                            0.2222222222222222,
                            "#7201a8"
                          ],
                          [
                            0.3333333333333333,
                            "#9c179e"
                          ],
                          [
                            0.4444444444444444,
                            "#bd3786"
                          ],
                          [
                            0.5555555555555556,
                            "#d8576b"
                          ],
                          [
                            0.6666666666666666,
                            "#ed7953"
                          ],
                          [
                            0.7777777777777778,
                            "#fb9f3a"
                          ],
                          [
                            0.8888888888888888,
                            "#fdca26"
                          ],
                          [
                            1,
                            "#f0f921"
                          ]
                        ],
                        "type": "contour"
                      }
                    ],
                    "contourcarpet": [
                      {
                        "colorbar": {
                          "outlinewidth": 0,
                          "ticks": ""
                        },
                        "type": "contourcarpet"
                      }
                    ],
                    "heatmap": [
                      {
                        "colorbar": {
                          "outlinewidth": 0,
                          "ticks": ""
                        },
                        "colorscale": [
                          [
                            0,
                            "#0d0887"
                          ],
                          [
                            0.1111111111111111,
                            "#46039f"
                          ],
                          [
                            0.2222222222222222,
                            "#7201a8"
                          ],
                          [
                            0.3333333333333333,
                            "#9c179e"
                          ],
                          [
                            0.4444444444444444,
                            "#bd3786"
                          ],
                          [
                            0.5555555555555556,
                            "#d8576b"
                          ],
                          [
                            0.6666666666666666,
                            "#ed7953"
                          ],
                          [
                            0.7777777777777778,
                            "#fb9f3a"
                          ],
                          [
                            0.8888888888888888,
                            "#fdca26"
                          ],
                          [
                            1,
                            "#f0f921"
                          ]
                        ],
                        "type": "heatmap"
                      }
                    ],
                    "histogram": [
                      {
                        "marker": {
                          "pattern": {
                            "fillmode": "overlay",
                            "size": 10,
                            "solidity": 0.2
                          }
                        },
                        "type": "histogram"
                      }
                    ],
                    "histogram2d": [
                      {
                        "colorbar": {
                          "outlinewidth": 0,
                          "ticks": ""
                        },
                        "colorscale": [
                          [
                            0,
                            "#0d0887"
                          ],
                          [
                            0.1111111111111111,
                            "#46039f"
                          ],
                          [
                            0.2222222222222222,
                            "#7201a8"
                          ],
                          [
                            0.3333333333333333,
                            "#9c179e"
                          ],
                          [
                            0.4444444444444444,
                            "#bd3786"
                          ],
                          [
                            0.5555555555555556,
                            "#d8576b"
                          ],
                          [
                            0.6666666666666666,
                            "#ed7953"
                          ],
                          [
                            0.7777777777777778,
                            "#fb9f3a"
                          ],
                          [
                            0.8888888888888888,
                            "#fdca26"
                          ],
                          [
                            1,
                            "#f0f921"
                          ]
                        ],
                        "type": "histogram2d"
                      }
                    ],
                    "histogram2dcontour": [
                      {
                        "colorbar": {
                          "outlinewidth": 0,
                          "ticks": ""
                        },
                        "colorscale": [
                          [
                            0,
                            "#0d0887"
                          ],
                          [
                            0.1111111111111111,
                            "#46039f"
                          ],
                          [
                            0.2222222222222222,
                            "#7201a8"
                          ],
                          [
                            0.3333333333333333,
                            "#9c179e"
                          ],
                          [
                            0.4444444444444444,
                            "#bd3786"
                          ],
                          [
                            0.5555555555555556,
                            "#d8576b"
                          ],
                          [
                            0.6666666666666666,
                            "#ed7953"
                          ],
                          [
                            0.7777777777777778,
                            "#fb9f3a"
                          ],
                          [
                            0.8888888888888888,
                            "#fdca26"
                          ],
                          [
                            1,
                            "#f0f921"
                          ]
                        ],
                        "type": "histogram2dcontour"
                      }
                    ],
                    "mesh3d": [
                      {
                        "colorbar": {
                          "outlinewidth": 0,
                          "ticks": ""
                        },
                        "type": "mesh3d"
                      }
                    ],
                    "parcoords": [
                      {
                        "line": {
                          "colorbar": {
                            "outlinewidth": 0,
                            "ticks": ""
                          }
                        },
                        "type": "parcoords"
                      }
                    ],
                    "pie": [
                      {
                        "automargin": true,
                        "type": "pie"
                      }
                    ],
                    "scatter": [
                      {
                        "fillpattern": {
                          "fillmode": "overlay",
                          "size": 10,
                          "solidity": 0.2
                        },
                        "type": "scatter"
                      }
                    ],
                    "scatter3d": [
                      {
                        "line": {
                          "colorbar": {
                            "outlinewidth": 0,
                            "ticks": ""
                          }
                        },
                        "marker": {
                          "colorbar": {
                            "outlinewidth": 0,
                            "ticks": ""
                          }
                        },
                        "type": "scatter3d"
                      }
                    ],
                    "scattercarpet": [
                      {
                        "marker": {
                          "colorbar": {
                            "outlinewidth": 0,
                            "ticks": ""
                          }
                        },
                        "type": "scattercarpet"
                      }
                    ],
                    "scattergeo": [
                      {
                        "marker": {
                          "colorbar": {
                            "outlinewidth": 0,
                            "ticks": ""
                          }
                        },
                        "type": "scattergeo"
                      }
                    ],
                    "scattergl": [
                      {
                        "marker": {
                          "colorbar": {
                            "outlinewidth": 0,
                            "ticks": ""
                          }
                        },
                        "type": "scattergl"
                      }
                    ],
                    "scattermap": [
                      {
                        "marker": {
                          "colorbar": {
                            "outlinewidth": 0,
                            "ticks": ""
                          }
                        },
                        "type": "scattermap"
                      }
                    ],
                    "scattermapbox": [
                      {
                        "marker": {
                          "colorbar": {
                            "outlinewidth": 0,
                            "ticks": ""
                          }
                        },
                        "type": "scattermapbox"
                      }
                    ],
                    "scatterpolar": [
                      {
                        "marker": {
                          "colorbar": {
                            "outlinewidth": 0,
                            "ticks": ""
                          }
                        },
                        "type": "scatterpolar"
                      }
                    ],
                    "scatterpolargl": [
                      {
                        "marker": {
                          "colorbar": {
                            "outlinewidth": 0,
                            "ticks": ""
                          }
                        },
                        "type": "scatterpolargl"
                      }
                    ],
                    "scatterternary": [
                      {
                        "marker": {
                          "colorbar": {
                            "outlinewidth": 0,
                            "ticks": ""
                          }
                        },
                        "type": "scatterternary"
                      }
                    ],
                    "surface": [
                      {
                        "colorbar": {
                          "outlinewidth": 0,
                          "ticks": ""
                        },
                        "colorscale": [
                          [
                            0,
                            "#0d0887"
                          ],
                          [
                            0.1111111111111111,
                            "#46039f"
                          ],
                          [
                            0.2222222222222222,
                            "#7201a8"
                          ],
                          [
                            0.3333333333333333,
                            "#9c179e"
                          ],
                          [
                            0.4444444444444444,
                            "#bd3786"
                          ],
                          [
                            0.5555555555555556,
                            "#d8576b"
                          ],
                          [
                            0.6666666666666666,
                            "#ed7953"
                          ],
                          [
                            0.7777777777777778,
                            "#fb9f3a"
                          ],
                          [
                            0.8888888888888888,
                            "#fdca26"
                          ],
                          [
                            1,
                            "#f0f921"
                          ]
                        ],
                        "type": "surface"
                      }
                    ],
                    "table": [
                      {
                        "cells": {
                          "fill": {
                            "color": "#EBF0F8"
                          },
                          "line": {
                            "color": "white"
                          }
                        },
                        "header": {
                          "fill": {
                            "color": "#C8D4E3"
                          },
                          "line": {
                            "color": "white"
                          }
                        },
                        "type": "table"
                      }
                    ]
                  },
                  "layout": {
                    "annotationdefaults": {
                      "arrowcolor": "#2a3f5f",
                      "arrowhead": 0,
                      "arrowwidth": 1
                    },
                    "autotypenumbers": "strict",
                    "coloraxis": {
                      "colorbar": {
                        "outlinewidth": 0,
                        "ticks": ""
                      }
                    },
                    "colorscale": {
                      "diverging": [
                        [
                          0,
                          "#8e0152"
                        ],
                        [
                          0.1,
                          "#c51b7d"
                        ],
                        [
                          0.2,
                          "#de77ae"
                        ],
                        [
                          0.3,
                          "#f1b6da"
                        ],
                        [
                          0.4,
                          "#fde0ef"
                        ],
                        [
                          0.5,
                          "#f7f7f7"
                        ],
                        [
                          0.6,
                          "#e6f5d0"
                        ],
                        [
                          0.7,
                          "#b8e186"
                        ],
                        [
                          0.8,
                          "#7fbc41"
                        ],
                        [
                          0.9,
                          "#4d9221"
                        ],
                        [
                          1,
                          "#276419"
                        ]
                      ],
                      "sequential": [
                        [
                          0,
                          "#0d0887"
                        ],
                        [
                          0.1111111111111111,
                          "#46039f"
                        ],
                        [
                          0.2222222222222222,
                          "#7201a8"
                        ],
                        [
                          0.3333333333333333,
                          "#9c179e"
                        ],
                        [
                          0.4444444444444444,
                          "#bd3786"
                        ],
                        [
                          0.5555555555555556,
                          "#d8576b"
                        ],
                        [
                          0.6666666666666666,
                          "#ed7953"
                        ],
                        [
                          0.7777777777777778,
                          "#fb9f3a"
                        ],
                        [
                          0.8888888888888888,
                          "#fdca26"
                        ],
                        [
                          1,
                          "#f0f921"
                        ]
                      ],
                      "sequentialminus": [
                        [
                          0,
                          "#0d0887"
                        ],
                        [
                          0.1111111111111111,
                          "#46039f"
                        ],
                        [
                          0.2222222222222222,
                          "#7201a8"
                        ],
                        [
                          0.3333333333333333,
                          "#9c179e"
                        ],
                        [
                          0.4444444444444444,
                          "#bd3786"
                        ],
                        [
                          0.5555555555555556,
                          "#d8576b"
                        ],
                        [
                          0.6666666666666666,
                          "#ed7953"
                        ],
                        [
                          0.7777777777777778,
                          "#fb9f3a"
                        ],
                        [
                          0.8888888888888888,
                          "#fdca26"
                        ],
                        [
                          1,
                          "#f0f921"
                        ]
                      ]
                    },
                    "colorway": [
                      "#636efa",
                      "#EF553B",
                      "#00cc96",
                      "#ab63fa",
                      "#FFA15A",
                      "#19d3f3",
                      "#FF6692",
                      "#B6E880",
                      "#FF97FF",
                      "#FECB52"
                    ],
                    "font": {
                      "color": "#2a3f5f"
                    },
                    "geo": {
                      "bgcolor": "white",
                      "lakecolor": "white",
                      "landcolor": "#E5ECF6",
                      "showlakes": true,
                      "showland": true,
                      "subunitcolor": "white"
                    },
                    "hoverlabel": {
                      "align": "left"
                    },
                    "hovermode": "closest",
                    "mapbox": {
                      "style": "light"
                    },
                    "paper_bgcolor": "white",
                    "plot_bgcolor": "#E5ECF6",
                    "polar": {
                      "angularaxis": {
                        "gridcolor": "white",
                        "linecolor": "white",
                        "ticks": ""
                      },
                      "bgcolor": "#E5ECF6",
                      "radialaxis": {
                        "gridcolor": "white",
                        "linecolor": "white",
                        "ticks": ""
                      }
                    },
                    "scene": {
                      "xaxis": {
                        "backgroundcolor": "#E5ECF6",
                        "gridcolor": "white",
                        "gridwidth": 2,
                        "linecolor": "white",
                        "showbackground": true,
                        "ticks": "",
                        "zerolinecolor": "white"
                      },
                      "yaxis": {
                        "backgroundcolor": "#E5ECF6",
                        "gridcolor": "white",
                        "gridwidth": 2,
                        "linecolor": "white",
                        "showbackground": true,
                        "ticks": "",
                        "zerolinecolor": "white"
                      },
                      "zaxis": {
                        "backgroundcolor": "#E5ECF6",
                        "gridcolor": "white",
                        "gridwidth": 2,
                        "linecolor": "white",
                        "showbackground": true,
                        "ticks": "",
                        "zerolinecolor": "white"
                      }
                    },
                    "shapedefaults": {
                      "line": {
                        "color": "#2a3f5f"
                      }
                    },
                    "ternary": {
                      "aaxis": {
                        "gridcolor": "white",
                        "linecolor": "white",
                        "ticks": ""
                      },
                      "baxis": {
                        "gridcolor": "white",
                        "linecolor": "white",
                        "ticks": ""
                      },
                      "bgcolor": "#E5ECF6",
                      "caxis": {
                        "gridcolor": "white",
                        "linecolor": "white",
                        "ticks": ""
                      }
                    },
                    "title": {
                      "x": 0.05
                    },
                    "xaxis": {
                      "automargin": true,
                      "gridcolor": "white",
                      "linecolor": "white",
                      "ticks": "",
                      "title": {
                        "standoff": 15
                      },
                      "zerolinecolor": "white",
                      "zerolinewidth": 2
                    },
                    "yaxis": {
                      "automargin": true,
                      "gridcolor": "white",
                      "linecolor": "white",
                      "ticks": "",
                      "title": {
                        "standoff": 15
                      },
                      "zerolinecolor": "white",
                      "zerolinewidth": 2
                    }
                  }
                },
                "title": {
                  "font": {
                    "size": 15
                  },
                  "text": "US Exports and Partner GDP with USMCA Highlighted",
                  "x": 0.5,
                  "xanchor": "center",
                  "yanchor": "top"
                },
                "updatemenus": [
                  {
                    "buttons": [
                      {
                        "args": [
                          null,
                          {
                            "frame": {
                              "duration": 500,
                              "redraw": false
                            },
                            "fromcurrent": true,
                            "mode": "immediate",
                            "transition": {
                              "duration": 500,
                              "easing": "linear"
                            }
                          }
                        ],
                        "label": "&#9654;",
                        "method": "animate"
                      },
                      {
                        "args": [
                          [
                            null
                          ],
                          {
                            "frame": {
                              "duration": 0,
                              "redraw": false
                            },
                            "fromcurrent": true,
                            "mode": "immediate",
                            "transition": {
                              "duration": 0,
                              "easing": "linear"
                            }
                          }
                        ],
                        "label": "&#9724;",
                        "method": "animate"
                      }
                    ],
                    "direction": "left",
                    "pad": {
                      "r": 10,
                      "t": 70
                    },
                    "showactive": false,
                    "type": "buttons",
                    "x": 0.1,
                    "xanchor": "right",
                    "y": 0,
                    "yanchor": "top"
                  }
                ],
                "xaxis": {
                  "anchor": "y",
                  "domain": [
                    0,
                    0.31999999999999995
                  ],
                  "title": {},
                  "type": "log"
                },
                "xaxis2": {
                  "anchor": "y2",
                  "domain": [
                    0.33999999999999997,
                    0.6599999999999999
                  ],
                  "matches": "x",
                  "title": {
                    "text": "Real GDP"
                  },
                  "type": "log"
                },
                "xaxis3": {
                  "anchor": "y3",
                  "domain": [
                    0.6799999999999999,
                    0.9999999999999999
                  ],
                  "matches": "x",
                  "title": {
                    "text": "Real GDP"
                  },
                  "type": "log"
                },
                "yaxis": {
                  "anchor": "x",
                  "domain": [
                    0,
                    1
                  ],
                  "title": {},
                  "type": "log"
                },
                "yaxis2": {
                  "anchor": "x2",
                  "domain": [
                    0,
                    1
                  ],
                  "matches": "y",
                  "showticklabels": false,
                  "type": "log"
                },
                "yaxis3": {
                  "anchor": "x3",
                  "domain": [
                    0,
                    1
                  ],
                  "matches": "y",
                  "showticklabels": false,
                  "type": "log"
                }
              }
            }
          },
          "metadata": {},
          "output_type": "display_data"
        }
      ],
      "source": [
        "# make a copy of original cleaned df\n",
        "df = final_df_cleaned.copy()\n",
        "\n",
        "#rename columns for better readability\n",
        "df.rename(columns={\n",
        "    'import_value': 'Import',\n",
        "    'export_value': 'Export',\n",
        "    'gdp': 'Nominal GDP',\n",
        "    'gdp_2015_adj': 'Real GDP',\n",
        "    'country':'Country'\n",
        "}, inplace=True)\n",
        "\n",
        "#find max GDP\n",
        "# Assuming df is your full dataset including all years\n",
        "min_x = df[\"Real GDP\"].min() * 0.9  # add some padding below min\n",
        "max_x = df[\"Real GDP\"].max() * 1.1  # add padding above max\n",
        "min_y = df[\"Export\"].min() * 0.9  # add some padding below min\n",
        "max_y = df[\"Export\"].max() * 1.1  # add padding above max\n",
        "\n",
        "# Add a column to identify USMCA members\n",
        "df[\"Trade bloc\"] = df[\"Country\"].apply(lambda x: \"USMCA\" if x in [\"USA\", \"Mexico\", \"Canada\"] else \"Other\")\n",
        "\n",
        "# Create scatter plot\n",
        "fig = plot_scatter(\n",
        "    df=df,\n",
        "    x='Real GDP',\n",
        "    y='Export',\n",
        "    color=\"Trade bloc\",\n",
        "    symbol=\"Trade bloc\",\n",
        "    facet_col='category',\n",
        "    animation_frame=\"year\",\n",
        "    # range_x=[np.log(min_x), np.log(max_x)],\n",
        "    # range_y=[np.log(min_y), np.log(max_y)],\n",
        "    # range_x=[min_x, max_x],\n",
        "    # range_y=[min_y, max_y],\n",
        "    title='US Exports and Partner GDP with USMCA Highlighted'\n",
        ")\n",
        "\n",
        "# # set axes to log scale\n",
        "fig.update_xaxes(type=\"log\")\n",
        "fig.update_yaxes(type=\"log\")\n",
        "\n",
        "# simplify facet titles by removing \"category=\"\n",
        "fig.for_each_annotation(lambda a: a.update(text=a.text.split(\"=\")[-1]))\n",
        "\n",
        "# plot\n",
        "fig.show()"
      ]
    },
    {
      "cell_type": "code",
      "execution_count": null,
      "metadata": {},
      "outputs": [],
      "source": []
    }
  ],
  "metadata": {
    "deepnote_notebook_id": "95c03b0fc3754d179e960c4358594498",
    "deepnote_persisted_session": {
      "createdAt": "2025-09-12T18:36:31.586Z"
    },
    "kernelspec": {
      "display_name": "Python 3",
      "language": "python",
      "name": "python3"
    },
    "language_info": {
      "codemirror_mode": {
        "name": "ipython",
        "version": 3
      },
      "file_extension": ".py",
      "mimetype": "text/x-python",
      "name": "python",
      "nbconvert_exporter": "python",
      "pygments_lexer": "ipython3",
      "version": "3.12.4"
    }
  },
  "nbformat": 4,
  "nbformat_minor": 0
}
