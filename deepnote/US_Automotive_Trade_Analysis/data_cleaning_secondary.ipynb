{
 "cells": [
  {
   "cell_type": "markdown",
   "id": "0",
   "metadata": {},
   "source": [
    "### Secondary Data Cleaning"
   ]
  },
  {
   "cell_type": "markdown",
   "id": "1",
   "metadata": {},
   "source": [
    "This file is to clean and process secondary data (GDP and MFN tarrif data)\n",
    "which involves following steps\n",
    "\n",
    "1. Standardizing country names\n",
    "2. Clean the data\n",
    "3. Converting wide format to long format\n",
    "4. Merging MFN Tarrif and GDP data\n",
    "5. Writing final data to a csv to be merged with primary data"
   ]
  },
  {
   "cell_type": "code",
   "execution_count": null,
   "id": "2",
   "metadata": {},
   "outputs": [],
   "source": [
    "# import all the modules needed\n",
    "import re\n",
    "import pandas as pd\n",
    "import numpy as np\n",
    "import country_converter as coco"
   ]
  },
  {
   "cell_type": "markdown",
   "id": "3",
   "metadata": {},
   "source": [
    "#### Define helper functions to clean and process data"
   ]
  },
  {
   "cell_type": "code",
   "execution_count": null,
   "id": "4",
   "metadata": {
    "lines_to_next_cell": 0
   },
   "outputs": [],
   "source": [
    "def standardized_country(countries):\n",
    "    \"\"\"\n",
    "    Converts a list of country names or codes to their standardized short names.\n",
    "\n",
    "    Parameters\n",
    "    ----------\n",
    "    countries : list or str\n",
    "        A list of country names or codes, or a single country name/code, to be standardized.\n",
    "\n",
    "    Returns\n",
    "    -------\n",
    "    list or str\n",
    "        The standardized short names of the input countries. \n",
    "        If a single country is provided, returns a string.\n",
    "        If a list is provided, returns a list of strings.\n",
    "\n",
    "    Notes\n",
    "    -----\n",
    "    This function uses the `coco` library to perform the conversion. \n",
    "    The output format is the short name of each country or `not found` \n",
    "    if country name/code is not recognized.\n",
    "    \"\"\"\n",
    "    return coco.convert(names=countries, to='name_short')"
   ]
  },
  {
   "cell_type": "code",
   "execution_count": null,
   "id": "5",
   "metadata": {
    "lines_to_next_cell": 1
   },
   "outputs": [],
   "source": [
    "def clean_secondary_data(df, country_col, value_col, cols_to_keep,\n",
    "                         start_year=2015, end_year=2022, not_found_label=\"not found\"):\n",
    "    \"\"\"\n",
    "    Clean and preprocess a dataframe by standardizing country names, \n",
    "    filtering columns and rows, and melting into long format.\n",
    "\n",
    "    Parameters\n",
    "    ----------\n",
    "    df : pd.DataFrame\n",
    "        The input DataFrame containing data with country and year columns.\n",
    "    country_col : str\n",
    "        The name of the column in `df` containing country names to be standardized.\n",
    "    value_col : str\n",
    "        The name of the value column in the output DataFrame after melting.\n",
    "    cols_to_keep : list of str\n",
    "        The list of columns to keep before melting (e.g., standardized country and year columns).\n",
    "    start_year : int, optional\n",
    "        The first year to consider when dropping rows with missing data.\n",
    "    end_year : int, optional\n",
    "        The last year to consider when dropping rows with missing data.\n",
    "    not_found_label : str, optional (default=\"not found\")\n",
    "        The label used to identify unrecognized countries.\n",
    "\n",
    "    Returns\n",
    "    -------\n",
    "    pd.DataFrame\n",
    "        A cleaned DataFrame with standardized country names, \n",
    "        a 'Year' column, and a column for data values.\n",
    "\n",
    "    Notes\n",
    "    -----\n",
    "    Steps performed:\n",
    "    1. Drop rows with no data between `start_year` and `end_year`.\n",
    "    2. Standardize country names using `standardized_country`.\n",
    "    3. Drop rows where the standardized name equals `not_found_label`.\n",
    "    4. Retain only the specified columns (`cols_to_keep`).\n",
    "    5. Melt the DataFrame into long format with `Year`, `standardized_country`, and values.\n",
    "    \"\"\"\n",
    "    # Drop rows with no data in the given year range\n",
    "    year_cols = [str(y) for y in range(start_year, end_year + 1)]\n",
    "    df = df.dropna(subset=year_cols, how=\"all\").copy()\n",
    "\n",
    "    # Standardize country names\n",
    "    df = df.assign(standardized_country=standardized_country(df[country_col]))\n",
    "\n",
    "    # Drop rows where country standardization failed\n",
    "    df = df.loc[df[\"standardized_country\"] != not_found_label, :]\n",
    "\n",
    "    # Keep only relevant columns\n",
    "    df = df.loc[:, cols_to_keep]\n",
    "\n",
    "    # Melt into long format\n",
    "    melted_df = pd.melt(df, id_vars=[\"standardized_country\"], var_name=\"Year\", value_name=value_col)\n",
    "\n",
    "    return melted_df.copy()"
   ]
  },
  {
   "cell_type": "code",
   "execution_count": null,
   "id": "6",
   "metadata": {
    "lines_to_next_cell": 1
   },
   "outputs": [],
   "source": [
    "def get_cols_to_keep(start_year=2008, end_year=2022, string_col=\"standardized_country\"):\n",
    "    \"\"\"\n",
    "    Generate a list of columns to keep for data cleaning.\n",
    "\n",
    "    Parameters\n",
    "    ----------\n",
    "    start_year : int, optional\n",
    "        The first year to include in the list of columns.\n",
    "    end_year : int, optional\n",
    "        The last year to include in the list of columns.\n",
    "    string_cols : list of str, optional\n",
    "        A list of string column names to include before the year columns.\n",
    "\n",
    "    Returns\n",
    "    -------\n",
    "    list of str\n",
    "        A list of column names including 'standardized_country' and years\n",
    "        from `start_year` to `end_year`.\n",
    "    \"\"\"\n",
    "    years = [str(year) for year in range(start_year, end_year + 1)]\n",
    "    return [string_col] + years"
   ]
  },
  {
   "cell_type": "markdown",
   "id": "7",
   "metadata": {},
   "source": [
    "#### Process GDP Data\n",
    "\n",
    "We have two GDP datasets captured in separate files:\n",
    "\n",
    "1. GDP in Current USD:\n",
    "    This indicator is expressed in current prices, meaning no adjustment has been made\n",
    "    to account for price changes over time. This indicator is expressed in United States dollars.\n",
    "2. GDP in 2015-Adjusted USD:\n",
    "    This indicator is expressed in constant prices, meaning the series has been adjusted\n",
    "    to account for price changes over time. The reference year for this adjustment is 2015.\n",
    "    This indicator is expressed in United States dollars.\n",
    "    It removes the effects of price changes and inflation.\n",
    "\n",
    "Load both GDP datasets for initial EDA; decide later which measure to use based on analysis goals.\n"
   ]
  },
  {
   "cell_type": "code",
   "execution_count": null,
   "id": "8",
   "metadata": {},
   "outputs": [],
   "source": [
    "# Read GDP data files and skip the last 5 footer rows\n",
    "raw_gdp_df = pd.read_csv(\"./../../data/raw/secondary/GDP.csv\",\n",
    "                         skipfooter=5,\n",
    "                         engine=\"python\")\n",
    "raw_gdp_2015_adj_df = pd.read_csv(\"./../../data/raw/secondary/GDP_2015_adjusted.csv\",\n",
    "                                  skipfooter=5,\n",
    "                                  engine=\"python\")\n",
    "\n",
    "print(raw_gdp_df.head(2))\n",
    "print(raw_gdp_2015_adj_df.head(2))"
   ]
  },
  {
   "cell_type": "code",
   "execution_count": null,
   "id": "9",
   "metadata": {},
   "outputs": [],
   "source": [
    "# rows after 216 are not countries but groups such as region, income groups.\n",
    "# Only country level data is required for our analysis. Hence select only countries\n",
    "raw_gdp_df = raw_gdp_df.loc[0:216, :]\n",
    "raw_gdp_2015_adj_df = raw_gdp_2015_adj_df.loc[0:216, :]"
   ]
  },
  {
   "cell_type": "code",
   "execution_count": null,
   "id": "10",
   "metadata": {},
   "outputs": [],
   "source": [
    "# rename columns so that it looks consistent in all sources of data\n",
    "# remove the text in square brackets from the column names\n",
    "# e.g. \"2008 [YR2008]\" to \"2008\"\n",
    "raw_gdp_df = raw_gdp_df.rename(\n",
    "    columns=lambda col: re.sub(r\" \\[YR\\d{4}\\]$\", '', col)\n",
    ")\n",
    "\n",
    "raw_gdp_2015_adj_df = raw_gdp_2015_adj_df.rename(\n",
    "    columns=lambda col: re.sub(r\" \\[YR\\d{4}\\]$\", '', col)\n",
    ")"
   ]
  },
  {
   "cell_type": "code",
   "execution_count": null,
   "id": "11",
   "metadata": {},
   "outputs": [],
   "source": [
    "# get the columns to keep using the function\n",
    "required_columns = get_cols_to_keep(2008,2022)\n",
    "\n",
    "# clean the gdp dataframe by passing the required parameters to the function\n",
    "cleaned_gdp_df = clean_secondary_data(\n",
    "    df=raw_gdp_df,\n",
    "    country_col=\"Country Name\",\n",
    "    value_col=\"GDP\",\n",
    "    cols_to_keep=required_columns)\n",
    "\n",
    "# clean the gdp 2015 adjusted dataframe by passing the required parameters to the function\n",
    "cleaned_gdp_2015_adj_df = clean_secondary_data(\n",
    "    df=raw_gdp_2015_adj_df,\n",
    "    country_col=\"Country Name\",\n",
    "    value_col=\"GDP_2015_adj\",\n",
    "    cols_to_keep=required_columns)\n",
    "\n",
    "# print the dataframes after cleaning\n",
    "print(\"\\n\\n\")\n",
    "print(cleaned_gdp_df.head(2))\n",
    "print(\"\\n\\n\")\n",
    "print(cleaned_gdp_2015_adj_df.head(2))"
   ]
  },
  {
   "cell_type": "code",
   "execution_count": null,
   "id": "12",
   "metadata": {},
   "outputs": [],
   "source": [
    "# merge both GDP dataframes on standardized country and year\n",
    "final_gdp_df = pd.merge(cleaned_gdp_df, cleaned_gdp_2015_adj_df,\n",
    "                        on=[\"standardized_country\", \"Year\"],\n",
    "                        how=\"inner\")\n",
    "final_gdp_df.head(2)"
   ]
  },
  {
   "cell_type": "code",
   "execution_count": null,
   "id": "13",
   "metadata": {},
   "outputs": [],
   "source": [
    "# write the final gdp dataframe to a csv file\n",
    "final_gdp_df.to_csv(\"./../../data/processed/final_gdp_df.csv\", index=False)"
   ]
  },
  {
   "cell_type": "markdown",
   "id": "14",
   "metadata": {},
   "source": [
    "#### Process MFN tarrif data\n",
    "\n",
    "https://wits.worldbank.org/CountryProfile/en/Country/USA/StartYear/1991/EndYear/2022/TradeFlow/Import/Partner/BY-COUNTRY/Indicator/MFN-WGHTD-AVRG\n",
    "\n",
    "https://wits.worldbank.org/CountryProfile/en/Country/USA/StartYear/1991/EndYear/2022/TradeFlow/Import/Partner/BY-COUNTRY/Indicator/MFN-SMPL-AVRG\n",
    "\n",
    "https://wits.worldbank.org/CountryProfile/en/Country/BY-COUNTRY/StartYear/1988/EndYear/2022/TradeFlow/Import/Partner/USA/Indicator/MFN-SMPL-AVRG\n",
    "\n",
    "https://wits.worldbank.org/CountryProfile/en/Country/BY-COUNTRY/StartYear/1988/EndYear/2022/TradeFlow/Import/Partner/USA/Indicator/MFN-WGHTD-AVRG\n",
    "\n",
    "\n",
    "\n",
    "We are using four datasets from the World Bank WITS portal on Most Favored Nation (MFN) tariffs.\n",
    "- **By US (tariffs imposed by the US on imports):**\n",
    "  - Weighted Average (United States MFN Weighted Average by country.xlsx)\n",
    "  - Simple Average (United States MFN Simple Average by country.xlsx)\n",
    "\n",
    "- **On US (tariffs faced by US exports in partner countries):**\n",
    "  - Weighted Average (MFN Weighted Average from United States by country.xlsx)\n",
    "  - Simple Average (MFN Simple Average from United States by country.xlsx)\n",
    "\n",
    "*Weighted = trade-volume adjusted; Simple = unweighted mean.*\n",
    "\n",
    "Load four MFN datasets for initial EDA; decide later which measure to use based on analysis."
   ]
  },
  {
   "cell_type": "code",
   "execution_count": null,
   "id": "15",
   "metadata": {},
   "outputs": [],
   "source": [
    "# get the columns to keep using the function\n",
    "# this is passed as arugument to the clean_secondary_data function while cleaning all four mfn files\n",
    "required_columns = get_cols_to_keep(2008,2022)"
   ]
  },
  {
   "cell_type": "code",
   "execution_count": null,
   "id": "16",
   "metadata": {},
   "outputs": [],
   "source": [
    "# read excel file to get MFN simple avg from United States by country\n",
    "on_us_simple_avg = pd.read_excel(\n",
    "    io = \"./../../data/raw/secondary/MFN Simple Average from United States by country.xlsx\",\n",
    "    sheet_name=\"Partner-Timeseries\")\n",
    "print(\"Raw data\")\n",
    "print(on_us_simple_avg.head(3))\n",
    "\n",
    "# clean the data\n",
    "cleaned_on_us_simple_avg = clean_secondary_data(\n",
    "    df=on_us_simple_avg,\n",
    "    country_col=\"Reporter Name\",\n",
    "    value_col=\"mfn_on_us_simple_avg\",\n",
    "    cols_to_keep=required_columns)\n",
    "\n",
    "# print the cleaned data\n",
    "print(\"Cleaned data\")\n",
    "print(cleaned_on_us_simple_avg.head(3))"
   ]
  },
  {
   "cell_type": "code",
   "execution_count": null,
   "id": "17",
   "metadata": {},
   "outputs": [],
   "source": [
    "# read excel file to get MFN weighted avg from United States by country\n",
    "on_us_weighted_avg = pd.read_excel(\n",
    "    io=\"./../../data/raw/secondary/MFN Weighted Average from United States by country.xlsx\",\n",
    "    sheet_name=\"Partner-Timeseries\")\n",
    "print(\"Raw data\")\n",
    "print(on_us_weighted_avg.head(3))\n",
    "\n",
    "# clean the data\n",
    "cleaned_on_us_weighted_avg = clean_secondary_data(\n",
    "    df=on_us_weighted_avg,\n",
    "    country_col=\"Reporter Name\",\n",
    "    value_col=\"mfn_on_us_weighted_avg\",\n",
    "    cols_to_keep=required_columns)\n",
    "\n",
    "# print the cleaned data\n",
    "print(\"Cleaned data\")\n",
    "print(cleaned_on_us_weighted_avg.head(3))"
   ]
  },
  {
   "cell_type": "code",
   "execution_count": null,
   "id": "18",
   "metadata": {},
   "outputs": [],
   "source": [
    "# read excel file to get United States MFN Simple Average by country\n",
    "by_us_simple_avg = pd.read_excel(\n",
    "    io=\"./../../data/raw/secondary/United States MFN Simple Average by country.xlsx\",\n",
    "    sheet_name=\"Partner-Timeseries\")\n",
    "print(\"Raw data\")\n",
    "print(by_us_simple_avg.head(3))\n",
    "\n",
    "# clean the data\n",
    "cleaned_by_us_simple_avg = clean_secondary_data(\n",
    "    df=by_us_simple_avg,\n",
    "    country_col=\"Partner Name\",\n",
    "    value_col=\"mfn_by_us_simple_avg\",\n",
    "    cols_to_keep=required_columns)\n",
    "\n",
    "# print the cleaned data\n",
    "print(\"Cleaned data\")\n",
    "print(cleaned_by_us_simple_avg.head(3))"
   ]
  },
  {
   "cell_type": "code",
   "execution_count": null,
   "id": "19",
   "metadata": {},
   "outputs": [],
   "source": [
    "# read excel file to get United States MFN Weighted Average by country\n",
    "by_us_weight_avg = pd.read_excel(\n",
    "    io=\"./../../data/raw/secondary/United States MFN Weighted Average by country.xlsx\",\n",
    "    sheet_name=\"Partner-Timeseries\")\n",
    "print(\"Raw data\")\n",
    "print(by_us_weight_avg.head(3))\n",
    "\n",
    "# clean the data\n",
    "cleaned_by_us_weight_avg = clean_secondary_data(\n",
    "    df=by_us_weight_avg,\n",
    "    country_col=\"Partner Name\",\n",
    "    value_col=\"mfn_by_us_weight_avg\",\n",
    "    cols_to_keep=required_columns)\n",
    "\n",
    "# print the cleaned data\n",
    "print(\"Cleaned data\")\n",
    "print(cleaned_by_us_weight_avg.head(3))"
   ]
  },
  {
   "cell_type": "markdown",
   "id": "20",
   "metadata": {},
   "source": [
    "##### Merge all MFN dataframes to get MFN tariffs\n",
    "Both weighted and simple, on the US and by the US, across countries and years.\n"
   ]
  },
  {
   "cell_type": "code",
   "execution_count": null,
   "id": "21",
   "metadata": {
    "lines_to_next_cell": 2
   },
   "outputs": [],
   "source": [
    "# Join all dataframes on standardized_country and Year columns\n",
    "final_tariff_df = (\n",
    "    cleaned_by_us_simple_avg\n",
    "    .merge(cleaned_by_us_weight_avg, on=[\"standardized_country\", \"Year\"], how=\"outer\")\n",
    "    .merge(cleaned_on_us_simple_avg, on=[\"standardized_country\", \"Year\"], how=\"outer\")\n",
    "    .merge(cleaned_on_us_weighted_avg, on=[\"standardized_country\", \"Year\"], how=\"outer\")\n",
    ")\n",
    "\n",
    "final_tariff_df.head(5)"
   ]
  },
  {
   "cell_type": "code",
   "execution_count": null,
   "id": "22",
   "metadata": {
    "lines_to_next_cell": 2
   },
   "outputs": [],
   "source": [
    "# write the final tariff dataframe to a csv file\n",
    "final_tariff_df.to_csv(\"./../../data/processed/final_tariff_df.csv\", index=False)"
   ]
  },
  {
   "cell_type": "code",
   "execution_count": null,
   "id": "23",
   "metadata": {
    "lines_to_next_cell": 2
   },
   "outputs": [],
   "source": [
    "# final_tariff_df[final_tariff_df.isnull().any(axis=1)].to_csv(\"./final_tariff_df_with_nulls.csv\", index=False)"
   ]
  },
  {
   "cell_type": "markdown",
   "id": "24",
   "metadata": {},
   "source": [
    "#### Merge Tariff and GDP Data\n",
    "\n",
    "We merge the GDP datasets with MFN tariff datasets to create a final dataframe.\n",
    "Each row represents a country–year pair, with GDP (current and 2015-adjusted) and\n",
    "MFN tariff (simple and weighted, by US and on US) columns.\n"
   ]
  },
  {
   "cell_type": "code",
   "execution_count": null,
   "id": "25",
   "metadata": {},
   "outputs": [],
   "source": [
    "# merge GDP and Tarrif dfs on standardized_country and Year to get final dataframe\n",
    "final_gdp_tariff_df = final_tariff_df.merge(\n",
    "    final_gdp_df, on=[\"standardized_country\", \"Year\"],\n",
    "    how=\"outer\")\n",
    "\n",
    "# write the final gdp and tarrif dataframe to a csv file\n",
    "final_gdp_tariff_df.to_csv(\"./../../data/processed/final_gdp_tariff_df.csv\", index=False)\n",
    "\n",
    "# show first 5 rows of the final dataframe\n",
    "final_gdp_tariff_df.head(5)"
   ]
  },
  {
   "cell_type": "code",
   "execution_count": null,
   "id": "26",
   "metadata": {},
   "outputs": [],
   "source": [
    "# checking nulls in major patner countries\n",
    "\n",
    "# list of major partner countries\n",
    "major_countries = [\n",
    "    \"China\", \"Germany\", \"Japan\", \"United Kingdom\", \"India\", \"France\", \n",
    "    \"Italy\", \"Canada\", \"South Korea\", \"Russia\", \"Brazil\", \"Australia\", \n",
    "    \"Spain\", \"Mexico\", \"Indonesia\", \"Netherlands\", \"Saudi Arabia\", \n",
    "    \"Turkey\", \"Switzerland\", \"Argentina\", \"Sweden\", \"Poland\", \n",
    "    \"Belgium\", \"Thailand\", \"Austria\", \"Norway\", \"United Arab Emirates\"\n",
    "]\n",
    "\n",
    "major_countries_standardized = standardized_country(major_countries)\n",
    "df = final_gdp_tariff_df.replace(\"..\", np.nan)\n",
    "df.tail(10)\n",
    "df = df[df[\"standardized_country\"].isin(major_countries_standardized)]\n",
    "df[df.isnull().any(axis=1)]"
   ]
  }
 ],
 "metadata": {
  "jupytext": {
   "cell_metadata_filter": "-all",
   "main_language": "python",
   "notebook_metadata_filter": "-all"
  },
  "kernelspec": {
   "display_name": "Python 3",
   "language": "python",
   "name": "python3"
  },
  "language_info": {
   "codemirror_mode": {
    "name": "ipython",
    "version": 3
   },
   "file_extension": ".py",
   "mimetype": "text/x-python",
   "name": "python",
   "nbconvert_exporter": "python",
   "pygments_lexer": "ipython3",
   "version": "3.12.4"
  }
 },
 "nbformat": 4,
 "nbformat_minor": 5
}
