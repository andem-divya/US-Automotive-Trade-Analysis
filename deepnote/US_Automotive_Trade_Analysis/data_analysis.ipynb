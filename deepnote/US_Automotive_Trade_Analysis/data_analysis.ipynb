{
  "cells": [
    {
      "cell_type": "code",
      "metadata": {
        "source_hash": "ad8f3ca4",
        "execution_start": 1757701283110,
        "execution_millis": 218,
        "execution_context_id": "47b0595b-8440-4364-bb63-b5da004eb0ee",
        "cell_id": "bb66837cfd5348d29dc431abc559d551",
        "deepnote_cell_type": "code"
      },
      "source": "!ls",
      "block_group": "bb66837cfd5348d29dc431abc559d551",
      "execution_count": 4,
      "outputs": [
        {
          "name": "stdout",
          "text": "data  notebooks\n",
          "output_type": "stream"
        }
      ],
      "outputs_reference": null,
      "content_dependencies": null
    },
    {
      "cell_type": "code",
      "metadata": {
        "source_hash": "a83c309d",
        "execution_start": 1757701625263,
        "execution_millis": 1,
        "execution_context_id": "47b0595b-8440-4364-bb63-b5da004eb0ee",
        "cell_id": "3183a2c051bf4abb8ac32670b6ac83b0",
        "deepnote_cell_type": "code"
      },
      "source": "# import packages\n\nimport pandas as pd\nimport numpy as np\nimport re",
      "block_group": "01be9589c72f44eead5be53be467fd84",
      "execution_count": 22,
      "outputs": [],
      "outputs_reference": null,
      "content_dependencies": null
    },
    {
      "cell_type": "code",
      "metadata": {
        "source_hash": "9556ef64",
        "execution_start": 1757702025506,
        "execution_millis": 225,
        "execution_context_id": "47b0595b-8440-4364-bb63-b5da004eb0ee",
        "cell_id": "c6040ff7eadd4c999eedae347bf8348e",
        "deepnote_cell_type": "code"
      },
      "source": "\nparts_export_df = pd.read_csv(\"./data/raw/Parts_Exports_Countries.csv\", encoding='utf-16',header=0, sep=\"\\t\")\nparts_export_df.head(4)",
      "block_group": "ae5b3bb2658a42719c04d5ede4ea19dc",
      "execution_count": 49,
      "outputs": [
        {
          "output_type": "execute_result",
          "execution_count": 49,
          "data": {
            "application/vnd.deepnote.dataframe.v3+json": {
              "column_count": 18,
              "columns": [
                {
                  "name": "Partner",
                  "dtype": "object",
                  "stats": {
                    "unique_count": 4,
                    "nan_count": 0,
                    "min": null,
                    "max": null,
                    "histogram": null,
                    "categories": [
                      {
                        "name": "Mexico",
                        "count": 1
                      },
                      {
                        "name": "Canada",
                        "count": 1
                      },
                      {
                        "name": "2 others",
                        "count": 2
                      }
                    ]
                  }
                },
                {
                  "name": "2008",
                  "dtype": "object",
                  "stats": {
                    "unique_count": 4,
                    "nan_count": 0,
                    "min": null,
                    "max": null,
                    "histogram": null,
                    "categories": [
                      {
                        "name": "13,971,074,278",
                        "count": 1
                      },
                      {
                        "name": "28,258,965,666",
                        "count": 1
                      },
                      {
                        "name": "2 others",
                        "count": 2
                      }
                    ]
                  }
                },
                {
                  "name": "2009",
                  "dtype": "object",
                  "stats": {
                    "unique_count": 4,
                    "nan_count": 0,
                    "min": null,
                    "max": null,
                    "histogram": null,
                    "categories": [
                      {
                        "name": "12,156,777,287",
                        "count": 1
                      },
                      {
                        "name": "19,647,146,485",
                        "count": 1
                      },
                      {
                        "name": "2 others",
                        "count": 2
                      }
                    ]
                  }
                },
                {
                  "name": "2010",
                  "dtype": "object",
                  "stats": {
                    "unique_count": 4,
                    "nan_count": 0,
                    "min": null,
                    "max": null,
                    "histogram": null,
                    "categories": [
                      {
                        "name": "17,515,733,063",
                        "count": 1
                      },
                      {
                        "name": "26,021,629,647",
                        "count": 1
                      },
                      {
                        "name": "2 others",
                        "count": 2
                      }
                    ]
                  }
                },
                {
                  "name": "2011",
                  "dtype": "object",
                  "stats": {
                    "unique_count": 4,
                    "nan_count": 0,
                    "min": null,
                    "max": null,
                    "histogram": null,
                    "categories": [
                      {
                        "name": "21,596,577,589",
                        "count": 1
                      },
                      {
                        "name": "28,560,672,661",
                        "count": 1
                      },
                      {
                        "name": "2 others",
                        "count": 2
                      }
                    ]
                  }
                },
                {
                  "name": "2012",
                  "dtype": "object",
                  "stats": {
                    "unique_count": 4,
                    "nan_count": 0,
                    "min": null,
                    "max": null,
                    "histogram": null,
                    "categories": [
                      {
                        "name": "24,577,884,819",
                        "count": 1
                      },
                      {
                        "name": "31,998,428,903",
                        "count": 1
                      },
                      {
                        "name": "2 others",
                        "count": 2
                      }
                    ]
                  }
                },
                {
                  "name": "2013",
                  "dtype": "object",
                  "stats": {
                    "unique_count": 4,
                    "nan_count": 0,
                    "min": null,
                    "max": null,
                    "histogram": null,
                    "categories": [
                      {
                        "name": "27,020,301,970",
                        "count": 1
                      },
                      {
                        "name": "31,955,532,884",
                        "count": 1
                      },
                      {
                        "name": "2 others",
                        "count": 2
                      }
                    ]
                  }
                },
                {
                  "name": "2014",
                  "dtype": "object",
                  "stats": {
                    "unique_count": 4,
                    "nan_count": 0,
                    "min": null,
                    "max": null,
                    "histogram": null,
                    "categories": [
                      {
                        "name": "29,697,309,738",
                        "count": 1
                      },
                      {
                        "name": "30,835,751,278",
                        "count": 1
                      },
                      {
                        "name": "2 others",
                        "count": 2
                      }
                    ]
                  }
                },
                {
                  "name": "2015",
                  "dtype": "object",
                  "stats": {
                    "unique_count": 4,
                    "nan_count": 0,
                    "min": null,
                    "max": null,
                    "histogram": null,
                    "categories": [
                      {
                        "name": "30,563,675,255",
                        "count": 1
                      },
                      {
                        "name": "29,818,284,887",
                        "count": 1
                      },
                      {
                        "name": "2 others",
                        "count": 2
                      }
                    ]
                  }
                },
                {
                  "name": "2016",
                  "dtype": "object",
                  "stats": {
                    "unique_count": 4,
                    "nan_count": 0,
                    "min": null,
                    "max": null,
                    "histogram": null,
                    "categories": [
                      {
                        "name": "28,853,002,029",
                        "count": 1
                      },
                      {
                        "name": "31,123,213,547",
                        "count": 1
                      },
                      {
                        "name": "2 others",
                        "count": 2
                      }
                    ]
                  }
                },
                {
                  "name": "2017",
                  "dtype": "object",
                  "stats": {
                    "unique_count": 4,
                    "nan_count": 0,
                    "min": null,
                    "max": null,
                    "histogram": null,
                    "categories": [
                      {
                        "name": "30,293,476,225",
                        "count": 1
                      },
                      {
                        "name": "31,683,450,146",
                        "count": 1
                      },
                      {
                        "name": "2 others",
                        "count": 2
                      }
                    ]
                  }
                },
                {
                  "name": "2018",
                  "dtype": "object",
                  "stats": {
                    "unique_count": 4,
                    "nan_count": 0,
                    "min": null,
                    "max": null,
                    "histogram": null,
                    "categories": [
                      {
                        "name": "32,762,586,770",
                        "count": 1
                      },
                      {
                        "name": "30,749,813,818",
                        "count": 1
                      },
                      {
                        "name": "2 others",
                        "count": 2
                      }
                    ]
                  }
                },
                {
                  "name": "2019",
                  "dtype": "object",
                  "stats": {
                    "unique_count": 4,
                    "nan_count": 0,
                    "min": null,
                    "max": null,
                    "histogram": null,
                    "categories": [
                      {
                        "name": "33,351,165,102",
                        "count": 1
                      },
                      {
                        "name": "29,422,005,117",
                        "count": 1
                      },
                      {
                        "name": "2 others",
                        "count": 2
                      }
                    ]
                  }
                },
                {
                  "name": "2020",
                  "dtype": "object",
                  "stats": {
                    "unique_count": 4,
                    "nan_count": 0,
                    "min": null,
                    "max": null,
                    "histogram": null,
                    "categories": [
                      {
                        "name": "25,537,022,508",
                        "count": 1
                      },
                      {
                        "name": "21,979,574,184",
                        "count": 1
                      },
                      {
                        "name": "2 others",
                        "count": 2
                      }
                    ]
                  }
                },
                {
                  "name": "2021",
                  "dtype": "object",
                  "stats": {
                    "unique_count": 4,
                    "nan_count": 0,
                    "min": null,
                    "max": null,
                    "histogram": null,
                    "categories": [
                      {
                        "name": "29,079,110,745",
                        "count": 1
                      },
                      {
                        "name": "21,569,493,812",
                        "count": 1
                      },
                      {
                        "name": "2 others",
                        "count": 2
                      }
                    ]
                  }
                },
                {
                  "name": "2022",
                  "dtype": "object",
                  "stats": {
                    "unique_count": 4,
                    "nan_count": 0,
                    "min": null,
                    "max": null,
                    "histogram": null,
                    "categories": [
                      {
                        "name": "33,202,728,599",
                        "count": 1
                      },
                      {
                        "name": "25,806,846,862",
                        "count": 1
                      },
                      {
                        "name": "2 others",
                        "count": 2
                      }
                    ]
                  }
                },
                {
                  "name": "2023",
                  "dtype": "object",
                  "stats": {
                    "unique_count": 4,
                    "nan_count": 0,
                    "min": null,
                    "max": null,
                    "histogram": null,
                    "categories": [
                      {
                        "name": "37,022,191,232",
                        "count": 1
                      },
                      {
                        "name": "31,705,918,255",
                        "count": 1
                      },
                      {
                        "name": "2 others",
                        "count": 2
                      }
                    ]
                  }
                },
                {
                  "name": "2024",
                  "dtype": "object",
                  "stats": {
                    "unique_count": 4,
                    "nan_count": 0,
                    "min": null,
                    "max": null,
                    "histogram": null,
                    "categories": [
                      {
                        "name": "38,841,300,973",
                        "count": 1
                      },
                      {
                        "name": "29,492,074,572",
                        "count": 1
                      },
                      {
                        "name": "2 others",
                        "count": 2
                      }
                    ]
                  }
                },
                {
                  "name": "_deepnote_index_column",
                  "dtype": "int64"
                }
              ],
              "row_count": 4,
              "preview_row_count": 4,
              "rows": [
                {
                  "2008": "13,971,074,278",
                  "2009": "12,156,777,287",
                  "2010": "17,515,733,063",
                  "2011": "21,596,577,589",
                  "2012": "24,577,884,819",
                  "2013": "27,020,301,970",
                  "2014": "29,697,309,738",
                  "2015": "30,563,675,255",
                  "2016": "28,853,002,029",
                  "2017": "30,293,476,225",
                  "2018": "32,762,586,770",
                  "2019": "33,351,165,102",
                  "2020": "25,537,022,508",
                  "2021": "29,079,110,745",
                  "2022": "33,202,728,599",
                  "2023": "37,022,191,232",
                  "2024": "38,841,300,973",
                  "Partner": "Mexico",
                  "_deepnote_index_column": 0
                },
                {
                  "2008": "28,258,965,666",
                  "2009": "19,647,146,485",
                  "2010": "26,021,629,647",
                  "2011": "28,560,672,661",
                  "2012": "31,998,428,903",
                  "2013": "31,955,532,884",
                  "2014": "30,835,751,278",
                  "2015": "29,818,284,887",
                  "2016": "31,123,213,547",
                  "2017": "31,683,450,146",
                  "2018": "30,749,813,818",
                  "2019": "29,422,005,117",
                  "2020": "21,979,574,184",
                  "2021": "21,569,493,812",
                  "2022": "25,806,846,862",
                  "2023": "31,705,918,255",
                  "2024": "29,492,074,572",
                  "Partner": "Canada",
                  "_deepnote_index_column": 1
                },
                {
                  "2008": "958,541,210",
                  "2009": "714,997,863",
                  "2010": "1,121,808,234",
                  "2011": "1,438,835,325",
                  "2012": "1,992,956,503",
                  "2013": "1,562,343,737",
                  "2014": "1,498,106,291",
                  "2015": "1,345,828,779",
                  "2016": "1,103,599,186",
                  "2017": "1,253,573,329",
                  "2018": "1,303,241,107",
                  "2019": "1,299,923,847",
                  "2020": "1,175,605,909",
                  "2021": "1,433,936,916",
                  "2022": "1,557,406,115",
                  "2023": "2,005,328,898",
                  "2024": "2,623,045,523",
                  "Partner": "Australia",
                  "_deepnote_index_column": 2
                },
                {
                  "2008": "1,706,706,846",
                  "2009": "1,265,021,691",
                  "2010": "1,572,329,039",
                  "2011": "1,742,369,410",
                  "2012": "1,673,520,727",
                  "2013": "1,804,848,263",
                  "2014": "1,924,245,843",
                  "2015": "2,047,764,612",
                  "2016": "2,166,246,857",
                  "2017": "2,410,629,208",
                  "2018": "2,510,446,944",
                  "2019": "2,182,973,052",
                  "2020": "1,760,177,517",
                  "2021": "1,998,615,746",
                  "2022": "2,233,079,487",
                  "2023": "2,539,416,813",
                  "2024": "2,353,946,037",
                  "Partner": "Germany",
                  "_deepnote_index_column": 3
                }
              ],
              "type": "dataframe"
            },
            "text/plain": "     Partner            2008            2009            2010            2011  \\\n0     Mexico  13,971,074,278  12,156,777,287  17,515,733,063  21,596,577,589   \n1     Canada  28,258,965,666  19,647,146,485  26,021,629,647  28,560,672,661   \n2  Australia     958,541,210     714,997,863   1,121,808,234   1,438,835,325   \n3    Germany   1,706,706,846   1,265,021,691   1,572,329,039   1,742,369,410   \n\n             2012            2013            2014            2015  \\\n0  24,577,884,819  27,020,301,970  29,697,309,738  30,563,675,255   \n1  31,998,428,903  31,955,532,884  30,835,751,278  29,818,284,887   \n2   1,992,956,503   1,562,343,737   1,498,106,291   1,345,828,779   \n3   1,673,520,727   1,804,848,263   1,924,245,843   2,047,764,612   \n\n             2016            2017            2018            2019  \\\n0  28,853,002,029  30,293,476,225  32,762,586,770  33,351,165,102   \n1  31,123,213,547  31,683,450,146  30,749,813,818  29,422,005,117   \n2   1,103,599,186   1,253,573,329   1,303,241,107   1,299,923,847   \n3   2,166,246,857   2,410,629,208   2,510,446,944   2,182,973,052   \n\n             2020            2021            2022            2023  \\\n0  25,537,022,508  29,079,110,745  33,202,728,599  37,022,191,232   \n1  21,979,574,184  21,569,493,812  25,806,846,862  31,705,918,255   \n2   1,175,605,909   1,433,936,916   1,557,406,115   2,005,328,898   \n3   1,760,177,517   1,998,615,746   2,233,079,487   2,539,416,813   \n\n             2024  \n0  38,841,300,973  \n1  29,492,074,572  \n2   2,623,045,523  \n3   2,353,946,037  ",
            "text/html": "<div>\n<style scoped>\n    .dataframe tbody tr th:only-of-type {\n        vertical-align: middle;\n    }\n\n    .dataframe tbody tr th {\n        vertical-align: top;\n    }\n\n    .dataframe thead th {\n        text-align: right;\n    }\n</style>\n<table border=\"1\" class=\"dataframe\">\n  <thead>\n    <tr style=\"text-align: right;\">\n      <th></th>\n      <th>Partner</th>\n      <th>2008</th>\n      <th>2009</th>\n      <th>2010</th>\n      <th>2011</th>\n      <th>2012</th>\n      <th>2013</th>\n      <th>2014</th>\n      <th>2015</th>\n      <th>2016</th>\n      <th>2017</th>\n      <th>2018</th>\n      <th>2019</th>\n      <th>2020</th>\n      <th>2021</th>\n      <th>2022</th>\n      <th>2023</th>\n      <th>2024</th>\n    </tr>\n  </thead>\n  <tbody>\n    <tr>\n      <th>0</th>\n      <td>Mexico</td>\n      <td>13,971,074,278</td>\n      <td>12,156,777,287</td>\n      <td>17,515,733,063</td>\n      <td>21,596,577,589</td>\n      <td>24,577,884,819</td>\n      <td>27,020,301,970</td>\n      <td>29,697,309,738</td>\n      <td>30,563,675,255</td>\n      <td>28,853,002,029</td>\n      <td>30,293,476,225</td>\n      <td>32,762,586,770</td>\n      <td>33,351,165,102</td>\n      <td>25,537,022,508</td>\n      <td>29,079,110,745</td>\n      <td>33,202,728,599</td>\n      <td>37,022,191,232</td>\n      <td>38,841,300,973</td>\n    </tr>\n    <tr>\n      <th>1</th>\n      <td>Canada</td>\n      <td>28,258,965,666</td>\n      <td>19,647,146,485</td>\n      <td>26,021,629,647</td>\n      <td>28,560,672,661</td>\n      <td>31,998,428,903</td>\n      <td>31,955,532,884</td>\n      <td>30,835,751,278</td>\n      <td>29,818,284,887</td>\n      <td>31,123,213,547</td>\n      <td>31,683,450,146</td>\n      <td>30,749,813,818</td>\n      <td>29,422,005,117</td>\n      <td>21,979,574,184</td>\n      <td>21,569,493,812</td>\n      <td>25,806,846,862</td>\n      <td>31,705,918,255</td>\n      <td>29,492,074,572</td>\n    </tr>\n    <tr>\n      <th>2</th>\n      <td>Australia</td>\n      <td>958,541,210</td>\n      <td>714,997,863</td>\n      <td>1,121,808,234</td>\n      <td>1,438,835,325</td>\n      <td>1,992,956,503</td>\n      <td>1,562,343,737</td>\n      <td>1,498,106,291</td>\n      <td>1,345,828,779</td>\n      <td>1,103,599,186</td>\n      <td>1,253,573,329</td>\n      <td>1,303,241,107</td>\n      <td>1,299,923,847</td>\n      <td>1,175,605,909</td>\n      <td>1,433,936,916</td>\n      <td>1,557,406,115</td>\n      <td>2,005,328,898</td>\n      <td>2,623,045,523</td>\n    </tr>\n    <tr>\n      <th>3</th>\n      <td>Germany</td>\n      <td>1,706,706,846</td>\n      <td>1,265,021,691</td>\n      <td>1,572,329,039</td>\n      <td>1,742,369,410</td>\n      <td>1,673,520,727</td>\n      <td>1,804,848,263</td>\n      <td>1,924,245,843</td>\n      <td>2,047,764,612</td>\n      <td>2,166,246,857</td>\n      <td>2,410,629,208</td>\n      <td>2,510,446,944</td>\n      <td>2,182,973,052</td>\n      <td>1,760,177,517</td>\n      <td>1,998,615,746</td>\n      <td>2,233,079,487</td>\n      <td>2,539,416,813</td>\n      <td>2,353,946,037</td>\n    </tr>\n  </tbody>\n</table>\n</div>"
          },
          "metadata": {}
        }
      ],
      "outputs_reference": null,
      "content_dependencies": null
    },
    {
      "cell_type": "code",
      "metadata": {
        "cell_id": "8ae32f4ef6fa4cfe9ca3d69f223552c6",
        "deepnote_cell_type": "code"
      },
      "source": "",
      "block_group": "59e1c1e347134c988826d3d5dcec2612",
      "execution_count": null,
      "outputs": [],
      "outputs_reference": null,
      "content_dependencies": null
    },
    {
      "cell_type": "markdown",
      "source": "<a style='text-decoration:none;line-height:16px;display:flex;color:#5B5B62;padding:10px;justify-content:end;' href='https://deepnote.com?utm_source=created-in-deepnote-cell&projectId=1414b58c-d851-4542-a845-1dccbe508e47' target=\"_blank\">\n<img alt='Created in deepnote.com' style='display:inline;max-height:16px;margin:0px;margin-right:7.5px;' src='data:image/svg+xml;base64,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' > </img>\nCreated in <span style='font-weight:600;margin-left:4px;'>Deepnote</span></a>",
      "metadata": {
        "created_in_deepnote_cell": true,
        "deepnote_cell_type": "markdown"
      }
    }
  ],
  "nbformat": 4,
  "nbformat_minor": 0,
  "metadata": {
    "deepnote_persisted_session": {
      "createdAt": "2025-09-12T18:36:31.586Z"
    },
    "deepnote_notebook_id": "95c03b0fc3754d179e960c4358594498"
  }
}