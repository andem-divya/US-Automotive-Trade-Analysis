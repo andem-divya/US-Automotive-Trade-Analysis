{
 "cells": [
  {
   "block_group": "bb66837cfd5348d29dc431abc559d551",
   "cell_type": "code",
   "content_dependencies": null,
   "execution_count": null,
   "metadata": {
    "cell_id": "bb66837cfd5348d29dc431abc559d551",
    "deepnote_cell_type": "code",
    "execution_context_id": "47b0595b-8440-4364-bb63-b5da004eb0ee",
    "execution_millis": 218,
    "execution_start": 1757701283110,
    "source_hash": "ad8f3ca4"
   },
   "outputs": [],
   "outputs_reference": null,
   "source": [
    "!ls"
   ]
  },
  {
   "block_group": "01be9589c72f44eead5be53be467fd84",
   "cell_type": "code",
   "content_dependencies": null,
   "execution_count": null,
   "metadata": {
    "cell_id": "3183a2c051bf4abb8ac32670b6ac83b0",
    "deepnote_cell_type": "code",
    "execution_context_id": "47b0595b-8440-4364-bb63-b5da004eb0ee",
    "execution_millis": 1,
    "execution_start": 1757701625263,
    "source_hash": "a83c309d"
   },
   "outputs": [],
   "outputs_reference": null,
   "source": [
    "# import packages\n",
    "\n",
    "import pandas as pd\n",
    "import numpy as np\n",
    "import re"
   ]
  },
  {
   "block_group": "ae5b3bb2658a42719c04d5ede4ea19dc",
   "cell_type": "code",
   "content_dependencies": null,
   "execution_count": null,
   "metadata": {
    "cell_id": "c6040ff7eadd4c999eedae347bf8348e",
    "deepnote_cell_type": "code",
    "execution_context_id": "47b0595b-8440-4364-bb63-b5da004eb0ee",
    "execution_millis": 225,
    "execution_start": 1757702025506,
    "source_hash": "9556ef64"
   },
   "outputs": [],
   "outputs_reference": null,
   "source": [
    "\n",
    "parts_export_df = pd.read_csv(\"./data/raw/Parts_Exports_Countries.csv\", encoding='utf-16',header=0, sep=\"\\t\")\n",
    "parts_export_df.head(4)"
   ]
  },
  {
   "block_group": "59e1c1e347134c988826d3d5dcec2612",
   "cell_type": "code",
   "content_dependencies": null,
   "execution_count": null,
   "metadata": {
    "cell_id": "8ae32f4ef6fa4cfe9ca3d69f223552c6",
    "deepnote_cell_type": "code"
   },
   "outputs": [],
   "outputs_reference": null,
   "source": []
  },
  {
   "cell_type": "markdown",
   "metadata": {
    "created_in_deepnote_cell": true,
    "deepnote_cell_type": "markdown"
   },
   "source": [
    "<a style='text-decoration:none;line-height:16px;display:flex;color:#5B5B62;padding:10px;justify-content:end;' href='https://deepnote.com?utm_source=created-in-deepnote-cell&projectId=1414b58c-d851-4542-a845-1dccbe508e47' target=\"_blank\">\n",
    "<img alt='Created in deepnote.com' style='display:inline;max-height:16px;margin:0px;margin-right:7.5px;' src='data:image/svg+xml;base64,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' > </img>\n",
    "Created in <span style='font-weight:600;margin-left:4px;'>Deepnote</span></a>"
   ]
  }
 ],
 "metadata": {
  "deepnote_notebook_id": "95c03b0fc3754d179e960c4358594498",
  "deepnote_persisted_session": {
   "createdAt": "2025-09-12T18:36:31.586Z"
  }
 },
 "nbformat": 4,
 "nbformat_minor": 0
}
