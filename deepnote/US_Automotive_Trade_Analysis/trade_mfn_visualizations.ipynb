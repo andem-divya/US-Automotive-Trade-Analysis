{
 "cells": [
  {
   "cell_type": "markdown",
   "id": "842fb5f6",
   "metadata": {},
   "source": [
    "### This file analyzes USA's trade volumne with differentr countries identifying top partners for export and import. \n",
    "### Then there are visualizations for exploring USA's export to top 10 countries with tariff imposed by those countries over the years.\n",
    "### Similarly, there are visualizations for exploring USA's imports to top 10 countries with tariff imposed by US over the years."
   ]
  },
  {
   "cell_type": "code",
   "execution_count": 33,
   "id": "6dc77953",
   "metadata": {},
   "outputs": [
    {
     "name": "stdout",
     "output_type": "stream",
     "text": [
      "       country category  year  import_value  export_value  \\\n",
      "0  Afghanistan    Parts  2008         10294      26954442   \n",
      "1  Afghanistan    Parts  2009        161658     102667946   \n",
      "2  Afghanistan    Parts  2010         26552      87621159   \n",
      "3  Afghanistan    Parts  2011          5928      51232064   \n",
      "4  Afghanistan    Parts  2012          2500      84963182   \n",
      "\n",
      "   mfn_by_us_simple_avg  mfn_by_us_weighted_avg  mfn_on_us_simple_avg  \\\n",
      "0                  3.31                    1.64                 7.680   \n",
      "1                  2.83                    1.42                 7.911   \n",
      "2                  2.44                    1.15                 8.142   \n",
      "3                  3.82                    1.36                 8.373   \n",
      "4                  3.69                    1.52                 8.604   \n",
      "\n",
      "   mfn_on_us_weighted_avg           gdp  gdp_2015_adj  \n",
      "0                   5.480  1.010930e+10  1.106040e+10  \n",
      "1                   5.715  1.241615e+10  1.342627e+10  \n",
      "2                   5.950  1.585667e+10  1.535461e+10  \n",
      "3                   6.185  1.780510e+10  1.542008e+10  \n",
      "4                   6.420  1.990733e+10  1.738649e+10  \n"
     ]
    }
   ],
   "source": [
    "## First read the combined primary-secondary data csv file into a dataframe\n",
    "\n",
    "import pandas as pd\n",
    "import numpy as np\n",
    "import plotly.express as px\n",
    "import plotly.graph_objects as go\n",
    "import plotly.io as pio\n",
    "import plotly.figure_factory as ff\n",
    "from plotly.subplots import make_subplots\n",
    "import math\n",
    "import nbformat\n",
    "\n",
    "# Read the CSV file into a DataFrame\n",
    "combined_df = pd.read_csv('./../../data/processed/combined_primary_secondary.csv')\n",
    "# Display the first few rows of the DataFrame\n",
    "print(combined_df.head(5))"
   ]
  },
  {
   "cell_type": "code",
   "execution_count": 9,
   "id": "3cfdbe15",
   "metadata": {},
   "outputs": [],
   "source": [
    "## Keep columns country, category, year, import_value, export_value, mfn_by_us_simple_avg, mfn_on_us_simple_avg\n",
    "combined_df = combined_df[['country', 'category', 'year', 'import_value', 'export_value', 'mfn_by_us_simple_avg', 'mfn_on_us_simple_avg']].copy()\n",
    "\n",
    "# find NaN values in combined_df\n",
    "nan_counts = combined_df.isna().sum()\n",
    "\n",
    "# Replace NaN values with average of the column for numeric columns only\n",
    "numeric_cols = combined_df.select_dtypes(include=[np.number]).columns.tolist()\n",
    "for column in numeric_cols:\n",
    "    mean_value = combined_df[column].mean()\n",
    "    # use .loc to avoid chained assignment warnings\n",
    "    combined_df.loc[:, column] = combined_df[column].fillna(mean_value)\n",
    "\n",
    "nan_counts_after = combined_df.isna().sum()"
   ]
  },
  {
   "cell_type": "code",
   "execution_count": 41,
   "id": "af805f5d",
   "metadata": {},
   "outputs": [
    {
     "data": {
      "text/html": [
       "<div>\n",
       "<style scoped>\n",
       "    .dataframe tbody tr th:only-of-type {\n",
       "        vertical-align: middle;\n",
       "    }\n",
       "\n",
       "    .dataframe tbody tr th {\n",
       "        vertical-align: top;\n",
       "    }\n",
       "\n",
       "    .dataframe thead th {\n",
       "        text-align: right;\n",
       "    }\n",
       "</style>\n",
       "<table border=\"1\" class=\"dataframe\">\n",
       "  <thead>\n",
       "    <tr style=\"text-align: right;\">\n",
       "      <th></th>\n",
       "      <th>country</th>\n",
       "      <th>category</th>\n",
       "      <th>year</th>\n",
       "      <th>import value</th>\n",
       "      <th>export value</th>\n",
       "      <th>mfn_by_us</th>\n",
       "      <th>mfn by us weighted avg</th>\n",
       "      <th>mfn_on_us</th>\n",
       "      <th>mfn on us weighted avg</th>\n",
       "      <th>gdp</th>\n",
       "      <th>gdp 2015 adj</th>\n",
       "    </tr>\n",
       "  </thead>\n",
       "  <tbody>\n",
       "    <tr>\n",
       "      <th>0</th>\n",
       "      <td>Afghanistan</td>\n",
       "      <td>Parts</td>\n",
       "      <td>2008</td>\n",
       "      <td>10294</td>\n",
       "      <td>26954442</td>\n",
       "      <td>3.31</td>\n",
       "      <td>1.64</td>\n",
       "      <td>7.680</td>\n",
       "      <td>5.480</td>\n",
       "      <td>1.010930e+10</td>\n",
       "      <td>1.106040e+10</td>\n",
       "    </tr>\n",
       "    <tr>\n",
       "      <th>1</th>\n",
       "      <td>Afghanistan</td>\n",
       "      <td>Parts</td>\n",
       "      <td>2009</td>\n",
       "      <td>161658</td>\n",
       "      <td>102667946</td>\n",
       "      <td>2.83</td>\n",
       "      <td>1.42</td>\n",
       "      <td>7.911</td>\n",
       "      <td>5.715</td>\n",
       "      <td>1.241615e+10</td>\n",
       "      <td>1.342627e+10</td>\n",
       "    </tr>\n",
       "    <tr>\n",
       "      <th>2</th>\n",
       "      <td>Afghanistan</td>\n",
       "      <td>Parts</td>\n",
       "      <td>2010</td>\n",
       "      <td>26552</td>\n",
       "      <td>87621159</td>\n",
       "      <td>2.44</td>\n",
       "      <td>1.15</td>\n",
       "      <td>8.142</td>\n",
       "      <td>5.950</td>\n",
       "      <td>1.585667e+10</td>\n",
       "      <td>1.535461e+10</td>\n",
       "    </tr>\n",
       "    <tr>\n",
       "      <th>3</th>\n",
       "      <td>Afghanistan</td>\n",
       "      <td>Parts</td>\n",
       "      <td>2011</td>\n",
       "      <td>5928</td>\n",
       "      <td>51232064</td>\n",
       "      <td>3.82</td>\n",
       "      <td>1.36</td>\n",
       "      <td>8.373</td>\n",
       "      <td>6.185</td>\n",
       "      <td>1.780510e+10</td>\n",
       "      <td>1.542008e+10</td>\n",
       "    </tr>\n",
       "    <tr>\n",
       "      <th>4</th>\n",
       "      <td>Afghanistan</td>\n",
       "      <td>Parts</td>\n",
       "      <td>2012</td>\n",
       "      <td>2500</td>\n",
       "      <td>84963182</td>\n",
       "      <td>3.69</td>\n",
       "      <td>1.52</td>\n",
       "      <td>8.604</td>\n",
       "      <td>6.420</td>\n",
       "      <td>1.990733e+10</td>\n",
       "      <td>1.738649e+10</td>\n",
       "    </tr>\n",
       "  </tbody>\n",
       "</table>\n",
       "</div>"
      ],
      "text/plain": [
       "       country category  year  import value  export value  mfn_by_us  \\\n",
       "0  Afghanistan    Parts  2008         10294      26954442       3.31   \n",
       "1  Afghanistan    Parts  2009        161658     102667946       2.83   \n",
       "2  Afghanistan    Parts  2010         26552      87621159       2.44   \n",
       "3  Afghanistan    Parts  2011          5928      51232064       3.82   \n",
       "4  Afghanistan    Parts  2012          2500      84963182       3.69   \n",
       "\n",
       "   mfn by us weighted avg  mfn_on_us  mfn on us weighted avg           gdp  \\\n",
       "0                    1.64      7.680                   5.480  1.010930e+10   \n",
       "1                    1.42      7.911                   5.715  1.241615e+10   \n",
       "2                    1.15      8.142                   5.950  1.585667e+10   \n",
       "3                    1.36      8.373                   6.185  1.780510e+10   \n",
       "4                    1.52      8.604                   6.420  1.990733e+10   \n",
       "\n",
       "   gdp 2015 adj  \n",
       "0  1.106040e+10  \n",
       "1  1.342627e+10  \n",
       "2  1.535461e+10  \n",
       "3  1.542008e+10  \n",
       "4  1.738649e+10  "
      ]
     },
     "execution_count": 41,
     "metadata": {},
     "output_type": "execute_result"
    }
   ],
   "source": [
    "# Normalize column names to a canonical lowercase, space-separated form to avoid KeyErrors\n",
    "def _normalize_cols(df):\n",
    "    mapping = {}\n",
    "    for col in df.columns:\n",
    "        # lower, strip, replace underscores with spaces, collapse multiple spaces\n",
    "        norm = ' '.join(col.lower().strip().replace('_', ' ').split())\n",
    "        mapping[col] = norm\n",
    "    df = df.rename(columns=mapping)\n",
    "    return df\n",
    "\n",
    "combined_df = _normalize_cols(combined_df)\n",
    "\n",
    "# If some expected MFN columns exist with different names, map them to canonical names\n",
    "col_map = {}\n",
    "if 'mfn by us simple avg' in combined_df.columns:\n",
    "    col_map['mfn by us simple avg'] = 'mfn_by_us'\n",
    "if 'mfn on us simple avg' in combined_df.columns:\n",
    "    col_map['mfn on us simple avg'] = 'mfn_on_us'\n",
    "if 'import value' in combined_df.columns:\n",
    "    col_map['import value'] = 'import value'  # already canonical\n",
    "if 'export value' in combined_df.columns:\n",
    "    col_map['export value'] = 'export value'\n",
    "# Apply any mapped renames (to shorter canonical MFN names)\n",
    "combined_df = combined_df.rename(columns=col_map)\n",
    "combined_df.head(5)"
   ]
  },
  {
   "cell_type": "markdown",
   "id": "ccb304e0",
   "metadata": {},
   "source": [
    "##### Function to create a horizontal bar chart for countries on Y axis and their total export/import value on X axis"
   ]
  },
  {
   "cell_type": "code",
   "execution_count": 18,
   "id": "cdab86ef",
   "metadata": {},
   "outputs": [],
   "source": [
    "def plot_trade_value_by_country(df, value_col, country_col='country', top_n=20,\n",
    "                                show_values=False, value_format=',.0f'):\n",
    "    \"\"\"Plot horizontal bar chart showing top N countries\n",
    "\n",
    "    Args:\n",
    "        df: DataFrame containing country and value columns.\n",
    "        value_col: name of numeric value column (will be coerced).\n",
    "        country_col: name of country/name column to display on the y-axis.\n",
    "        top_n: how many countries to show (default 20).\n",
    "        show_values: if True, display numeric values on the bars.\n",
    "        value_format: d3 format string for value text (default no decimals).\n",
    "    Returns:\n",
    "        Plotly figure object.\n",
    "    \"\"\"\n",
    "\n",
    "    # Validate columns\n",
    "    if country_col not in df.columns or value_col not in df.columns:\n",
    "        raise ValueError(f\"DataFrame must contain columns: {value_col} and {country_col}. Available columns: {df.columns.tolist()}\")\n",
    "\n",
    "    # Coerce to numeric and drop invalid rows\n",
    "    df[value_col] = df[value_col].astype(str).str.replace(',', '', regex=False)\n",
    "    df[value_col] = pd.to_numeric(df[value_col], errors='coerce')\n",
    "    df = df.dropna(subset=[value_col]).copy()\n",
    "\n",
    "    # Aggregate and select top N\n",
    "    agg = df.groupby(country_col)[value_col].sum().nlargest(top_n).reset_index()\n",
    "\n",
    "    # Set figure height so labels don't overlap (approx 30 px per row + padding)\n",
    "    height = max(400, 30 * len(agg) + 120)\n",
    "\n",
    "    # Create horizontal bar chart\n",
    "    fig = px.bar(agg, x=value_col, y=country_col, orientation='h',\n",
    "                 title=f'Aggregate {value_col} by Country (Top {len(agg)})',\n",
    "                 height=height)\n",
    "\n",
    "\n",
    "    # Keep the ordering so the largest is at the top\n",
    "    fig.update_layout(\n",
    "        yaxis=dict(\n",
    "            categoryorder='total ascending'\n",
    "        ),\n",
    "        xaxis=dict(\n",
    "            showgrid=False\n",
    "        )\n",
    "    )\n",
    "\n",
    "    return fig"
   ]
  },
  {
   "cell_type": "code",
   "execution_count": 19,
   "id": "064b261e",
   "metadata": {},
   "outputs": [
    {
     "data": {
      "application/vnd.plotly.v1+json": {
       "config": {
        "plotlyServerURL": "https://plot.ly"
       },
       "data": [
        {
         "hovertemplate": "export value=%{x}<br>country=%{y}<extra></extra>",
         "legendgroup": "",
         "marker": {
          "color": "#636efa",
          "pattern": {
           "shape": ""
          }
         },
         "name": "",
         "orientation": "h",
         "showlegend": false,
         "textposition": "auto",
         "type": "bar",
         "x": [
          926963047113,
          529116733589,
          140066686149,
          137515566013,
          49594767072,
          48097182738,
          41216337339,
          37685141221,
          35648501653,
          35278258015,
          28573076768,
          23185812962,
          14552072559,
          13687440277,
          12774352424,
          12150256853,
          11427845486,
          11083668422,
          9861208153,
          9124553626
         ],
         "xaxis": "x",
         "y": [
          "Canada",
          "Mexico",
          "China",
          "Germany",
          "Saudi Arabia",
          "Australia",
          "United Kingdom",
          "South Korea",
          "United Arab Emirates",
          "Japan",
          "Belgium",
          "Brazil",
          "Chile",
          "Netherlands",
          "Kuwait",
          "South Africa",
          "Italy",
          "Russia",
          "France",
          "Thailand"
         ],
         "yaxis": "y"
        }
       ],
       "layout": {
        "barmode": "relative",
        "height": 720,
        "legend": {
         "tracegroupgap": 0
        },
        "template": {
         "data": {
          "bar": [
           {
            "error_x": {
             "color": "#2a3f5f"
            },
            "error_y": {
             "color": "#2a3f5f"
            },
            "marker": {
             "line": {
              "color": "#E5ECF6",
              "width": 0.5
             },
             "pattern": {
              "fillmode": "overlay",
              "size": 10,
              "solidity": 0.2
             }
            },
            "type": "bar"
           }
          ],
          "barpolar": [
           {
            "marker": {
             "line": {
              "color": "#E5ECF6",
              "width": 0.5
             },
             "pattern": {
              "fillmode": "overlay",
              "size": 10,
              "solidity": 0.2
             }
            },
            "type": "barpolar"
           }
          ],
          "carpet": [
           {
            "aaxis": {
             "endlinecolor": "#2a3f5f",
             "gridcolor": "white",
             "linecolor": "white",
             "minorgridcolor": "white",
             "startlinecolor": "#2a3f5f"
            },
            "baxis": {
             "endlinecolor": "#2a3f5f",
             "gridcolor": "white",
             "linecolor": "white",
             "minorgridcolor": "white",
             "startlinecolor": "#2a3f5f"
            },
            "type": "carpet"
           }
          ],
          "choropleth": [
           {
            "colorbar": {
             "outlinewidth": 0,
             "ticks": ""
            },
            "type": "choropleth"
           }
          ],
          "contour": [
           {
            "colorbar": {
             "outlinewidth": 0,
             "ticks": ""
            },
            "colorscale": [
             [
              0,
              "#0d0887"
             ],
             [
              0.1111111111111111,
              "#46039f"
             ],
             [
              0.2222222222222222,
              "#7201a8"
             ],
             [
              0.3333333333333333,
              "#9c179e"
             ],
             [
              0.4444444444444444,
              "#bd3786"
             ],
             [
              0.5555555555555556,
              "#d8576b"
             ],
             [
              0.6666666666666666,
              "#ed7953"
             ],
             [
              0.7777777777777778,
              "#fb9f3a"
             ],
             [
              0.8888888888888888,
              "#fdca26"
             ],
             [
              1,
              "#f0f921"
             ]
            ],
            "type": "contour"
           }
          ],
          "contourcarpet": [
           {
            "colorbar": {
             "outlinewidth": 0,
             "ticks": ""
            },
            "type": "contourcarpet"
           }
          ],
          "heatmap": [
           {
            "colorbar": {
             "outlinewidth": 0,
             "ticks": ""
            },
            "colorscale": [
             [
              0,
              "#0d0887"
             ],
             [
              0.1111111111111111,
              "#46039f"
             ],
             [
              0.2222222222222222,
              "#7201a8"
             ],
             [
              0.3333333333333333,
              "#9c179e"
             ],
             [
              0.4444444444444444,
              "#bd3786"
             ],
             [
              0.5555555555555556,
              "#d8576b"
             ],
             [
              0.6666666666666666,
              "#ed7953"
             ],
             [
              0.7777777777777778,
              "#fb9f3a"
             ],
             [
              0.8888888888888888,
              "#fdca26"
             ],
             [
              1,
              "#f0f921"
             ]
            ],
            "type": "heatmap"
           }
          ],
          "histogram": [
           {
            "marker": {
             "pattern": {
              "fillmode": "overlay",
              "size": 10,
              "solidity": 0.2
             }
            },
            "type": "histogram"
           }
          ],
          "histogram2d": [
           {
            "colorbar": {
             "outlinewidth": 0,
             "ticks": ""
            },
            "colorscale": [
             [
              0,
              "#0d0887"
             ],
             [
              0.1111111111111111,
              "#46039f"
             ],
             [
              0.2222222222222222,
              "#7201a8"
             ],
             [
              0.3333333333333333,
              "#9c179e"
             ],
             [
              0.4444444444444444,
              "#bd3786"
             ],
             [
              0.5555555555555556,
              "#d8576b"
             ],
             [
              0.6666666666666666,
              "#ed7953"
             ],
             [
              0.7777777777777778,
              "#fb9f3a"
             ],
             [
              0.8888888888888888,
              "#fdca26"
             ],
             [
              1,
              "#f0f921"
             ]
            ],
            "type": "histogram2d"
           }
          ],
          "histogram2dcontour": [
           {
            "colorbar": {
             "outlinewidth": 0,
             "ticks": ""
            },
            "colorscale": [
             [
              0,
              "#0d0887"
             ],
             [
              0.1111111111111111,
              "#46039f"
             ],
             [
              0.2222222222222222,
              "#7201a8"
             ],
             [
              0.3333333333333333,
              "#9c179e"
             ],
             [
              0.4444444444444444,
              "#bd3786"
             ],
             [
              0.5555555555555556,
              "#d8576b"
             ],
             [
              0.6666666666666666,
              "#ed7953"
             ],
             [
              0.7777777777777778,
              "#fb9f3a"
             ],
             [
              0.8888888888888888,
              "#fdca26"
             ],
             [
              1,
              "#f0f921"
             ]
            ],
            "type": "histogram2dcontour"
           }
          ],
          "mesh3d": [
           {
            "colorbar": {
             "outlinewidth": 0,
             "ticks": ""
            },
            "type": "mesh3d"
           }
          ],
          "parcoords": [
           {
            "line": {
             "colorbar": {
              "outlinewidth": 0,
              "ticks": ""
             }
            },
            "type": "parcoords"
           }
          ],
          "pie": [
           {
            "automargin": true,
            "type": "pie"
           }
          ],
          "scatter": [
           {
            "fillpattern": {
             "fillmode": "overlay",
             "size": 10,
             "solidity": 0.2
            },
            "type": "scatter"
           }
          ],
          "scatter3d": [
           {
            "line": {
             "colorbar": {
              "outlinewidth": 0,
              "ticks": ""
             }
            },
            "marker": {
             "colorbar": {
              "outlinewidth": 0,
              "ticks": ""
             }
            },
            "type": "scatter3d"
           }
          ],
          "scattercarpet": [
           {
            "marker": {
             "colorbar": {
              "outlinewidth": 0,
              "ticks": ""
             }
            },
            "type": "scattercarpet"
           }
          ],
          "scattergeo": [
           {
            "marker": {
             "colorbar": {
              "outlinewidth": 0,
              "ticks": ""
             }
            },
            "type": "scattergeo"
           }
          ],
          "scattergl": [
           {
            "marker": {
             "colorbar": {
              "outlinewidth": 0,
              "ticks": ""
             }
            },
            "type": "scattergl"
           }
          ],
          "scattermap": [
           {
            "marker": {
             "colorbar": {
              "outlinewidth": 0,
              "ticks": ""
             }
            },
            "type": "scattermap"
           }
          ],
          "scattermapbox": [
           {
            "marker": {
             "colorbar": {
              "outlinewidth": 0,
              "ticks": ""
             }
            },
            "type": "scattermapbox"
           }
          ],
          "scatterpolar": [
           {
            "marker": {
             "colorbar": {
              "outlinewidth": 0,
              "ticks": ""
             }
            },
            "type": "scatterpolar"
           }
          ],
          "scatterpolargl": [
           {
            "marker": {
             "colorbar": {
              "outlinewidth": 0,
              "ticks": ""
             }
            },
            "type": "scatterpolargl"
           }
          ],
          "scatterternary": [
           {
            "marker": {
             "colorbar": {
              "outlinewidth": 0,
              "ticks": ""
             }
            },
            "type": "scatterternary"
           }
          ],
          "surface": [
           {
            "colorbar": {
             "outlinewidth": 0,
             "ticks": ""
            },
            "colorscale": [
             [
              0,
              "#0d0887"
             ],
             [
              0.1111111111111111,
              "#46039f"
             ],
             [
              0.2222222222222222,
              "#7201a8"
             ],
             [
              0.3333333333333333,
              "#9c179e"
             ],
             [
              0.4444444444444444,
              "#bd3786"
             ],
             [
              0.5555555555555556,
              "#d8576b"
             ],
             [
              0.6666666666666666,
              "#ed7953"
             ],
             [
              0.7777777777777778,
              "#fb9f3a"
             ],
             [
              0.8888888888888888,
              "#fdca26"
             ],
             [
              1,
              "#f0f921"
             ]
            ],
            "type": "surface"
           }
          ],
          "table": [
           {
            "cells": {
             "fill": {
              "color": "#EBF0F8"
             },
             "line": {
              "color": "white"
             }
            },
            "header": {
             "fill": {
              "color": "#C8D4E3"
             },
             "line": {
              "color": "white"
             }
            },
            "type": "table"
           }
          ]
         },
         "layout": {
          "annotationdefaults": {
           "arrowcolor": "#2a3f5f",
           "arrowhead": 0,
           "arrowwidth": 1
          },
          "autotypenumbers": "strict",
          "coloraxis": {
           "colorbar": {
            "outlinewidth": 0,
            "ticks": ""
           }
          },
          "colorscale": {
           "diverging": [
            [
             0,
             "#8e0152"
            ],
            [
             0.1,
             "#c51b7d"
            ],
            [
             0.2,
             "#de77ae"
            ],
            [
             0.3,
             "#f1b6da"
            ],
            [
             0.4,
             "#fde0ef"
            ],
            [
             0.5,
             "#f7f7f7"
            ],
            [
             0.6,
             "#e6f5d0"
            ],
            [
             0.7,
             "#b8e186"
            ],
            [
             0.8,
             "#7fbc41"
            ],
            [
             0.9,
             "#4d9221"
            ],
            [
             1,
             "#276419"
            ]
           ],
           "sequential": [
            [
             0,
             "#0d0887"
            ],
            [
             0.1111111111111111,
             "#46039f"
            ],
            [
             0.2222222222222222,
             "#7201a8"
            ],
            [
             0.3333333333333333,
             "#9c179e"
            ],
            [
             0.4444444444444444,
             "#bd3786"
            ],
            [
             0.5555555555555556,
             "#d8576b"
            ],
            [
             0.6666666666666666,
             "#ed7953"
            ],
            [
             0.7777777777777778,
             "#fb9f3a"
            ],
            [
             0.8888888888888888,
             "#fdca26"
            ],
            [
             1,
             "#f0f921"
            ]
           ],
           "sequentialminus": [
            [
             0,
             "#0d0887"
            ],
            [
             0.1111111111111111,
             "#46039f"
            ],
            [
             0.2222222222222222,
             "#7201a8"
            ],
            [
             0.3333333333333333,
             "#9c179e"
            ],
            [
             0.4444444444444444,
             "#bd3786"
            ],
            [
             0.5555555555555556,
             "#d8576b"
            ],
            [
             0.6666666666666666,
             "#ed7953"
            ],
            [
             0.7777777777777778,
             "#fb9f3a"
            ],
            [
             0.8888888888888888,
             "#fdca26"
            ],
            [
             1,
             "#f0f921"
            ]
           ]
          },
          "colorway": [
           "#636efa",
           "#EF553B",
           "#00cc96",
           "#ab63fa",
           "#FFA15A",
           "#19d3f3",
           "#FF6692",
           "#B6E880",
           "#FF97FF",
           "#FECB52"
          ],
          "font": {
           "color": "#2a3f5f"
          },
          "geo": {
           "bgcolor": "white",
           "lakecolor": "white",
           "landcolor": "#E5ECF6",
           "showlakes": true,
           "showland": true,
           "subunitcolor": "white"
          },
          "hoverlabel": {
           "align": "left"
          },
          "hovermode": "closest",
          "mapbox": {
           "style": "light"
          },
          "paper_bgcolor": "white",
          "plot_bgcolor": "#E5ECF6",
          "polar": {
           "angularaxis": {
            "gridcolor": "white",
            "linecolor": "white",
            "ticks": ""
           },
           "bgcolor": "#E5ECF6",
           "radialaxis": {
            "gridcolor": "white",
            "linecolor": "white",
            "ticks": ""
           }
          },
          "scene": {
           "xaxis": {
            "backgroundcolor": "#E5ECF6",
            "gridcolor": "white",
            "gridwidth": 2,
            "linecolor": "white",
            "showbackground": true,
            "ticks": "",
            "zerolinecolor": "white"
           },
           "yaxis": {
            "backgroundcolor": "#E5ECF6",
            "gridcolor": "white",
            "gridwidth": 2,
            "linecolor": "white",
            "showbackground": true,
            "ticks": "",
            "zerolinecolor": "white"
           },
           "zaxis": {
            "backgroundcolor": "#E5ECF6",
            "gridcolor": "white",
            "gridwidth": 2,
            "linecolor": "white",
            "showbackground": true,
            "ticks": "",
            "zerolinecolor": "white"
           }
          },
          "shapedefaults": {
           "line": {
            "color": "#2a3f5f"
           }
          },
          "ternary": {
           "aaxis": {
            "gridcolor": "white",
            "linecolor": "white",
            "ticks": ""
           },
           "baxis": {
            "gridcolor": "white",
            "linecolor": "white",
            "ticks": ""
           },
           "bgcolor": "#E5ECF6",
           "caxis": {
            "gridcolor": "white",
            "linecolor": "white",
            "ticks": ""
           }
          },
          "title": {
           "x": 0.05
          },
          "xaxis": {
           "automargin": true,
           "gridcolor": "white",
           "linecolor": "white",
           "ticks": "",
           "title": {
            "standoff": 15
           },
           "zerolinecolor": "white",
           "zerolinewidth": 2
          },
          "yaxis": {
           "automargin": true,
           "gridcolor": "white",
           "linecolor": "white",
           "ticks": "",
           "title": {
            "standoff": 15
           },
           "zerolinecolor": "white",
           "zerolinewidth": 2
          }
         }
        },
        "title": {
         "text": "Aggregate export value by Country (Top 20)"
        },
        "xaxis": {
         "anchor": "y",
         "domain": [
          0,
          1
         ],
         "showgrid": false,
         "title": {
          "text": "export value"
         }
        },
        "yaxis": {
         "anchor": "x",
         "categoryorder": "total ascending",
         "domain": [
          0,
          1
         ],
         "title": {
          "text": "country"
         }
        }
       }
      }
     },
     "metadata": {},
     "output_type": "display_data"
    }
   ],
   "source": [
    "# Plot Export Trade by Country:\n",
    "fig = plot_trade_value_by_country(combined_df, value_col='export value', country_col='country', top_n=20, show_values=True)\n",
    "fig.show()"
   ]
  },
  {
   "cell_type": "code",
   "execution_count": 20,
   "id": "66f521df",
   "metadata": {},
   "outputs": [
    {
     "data": {
      "application/vnd.plotly.v1+json": {
       "config": {
        "plotlyServerURL": "https://plot.ly"
       },
       "data": [
        {
         "hovertemplate": "import value=%{x}<br>country=%{y}<extra></extra>",
         "legendgroup": "",
         "marker": {
          "color": "#636efa",
          "pattern": {
           "shape": ""
          }
         },
         "name": "",
         "orientation": "h",
         "showlegend": false,
         "textposition": "auto",
         "type": "bar",
         "x": [
          1753027224928,
          937204935294,
          867484069812,
          498774348631,
          412636348509,
          272016845544,
          124882210406,
          66326943380,
          55756375390,
          49676556448,
          45997196518,
          37042484786,
          36413270294,
          29971522888,
          29657887798,
          25399841493,
          23210318865,
          21398845724,
          21135168101,
          20884218201
         ],
         "xaxis": "x",
         "y": [
          "Mexico",
          "Canada",
          "Japan",
          "Germany",
          "South Korea",
          "China",
          "United Kingdom",
          "Italy",
          "Thailand",
          "Taiwan",
          "Slovakia",
          "Sweden",
          "Austria",
          "South Africa",
          "India",
          "Hungary",
          "Spain",
          "Vietnam",
          "Brazil",
          "Belgium"
         ],
         "yaxis": "y"
        }
       ],
       "layout": {
        "barmode": "relative",
        "height": 720,
        "legend": {
         "tracegroupgap": 0
        },
        "template": {
         "data": {
          "bar": [
           {
            "error_x": {
             "color": "#2a3f5f"
            },
            "error_y": {
             "color": "#2a3f5f"
            },
            "marker": {
             "line": {
              "color": "#E5ECF6",
              "width": 0.5
             },
             "pattern": {
              "fillmode": "overlay",
              "size": 10,
              "solidity": 0.2
             }
            },
            "type": "bar"
           }
          ],
          "barpolar": [
           {
            "marker": {
             "line": {
              "color": "#E5ECF6",
              "width": 0.5
             },
             "pattern": {
              "fillmode": "overlay",
              "size": 10,
              "solidity": 0.2
             }
            },
            "type": "barpolar"
           }
          ],
          "carpet": [
           {
            "aaxis": {
             "endlinecolor": "#2a3f5f",
             "gridcolor": "white",
             "linecolor": "white",
             "minorgridcolor": "white",
             "startlinecolor": "#2a3f5f"
            },
            "baxis": {
             "endlinecolor": "#2a3f5f",
             "gridcolor": "white",
             "linecolor": "white",
             "minorgridcolor": "white",
             "startlinecolor": "#2a3f5f"
            },
            "type": "carpet"
           }
          ],
          "choropleth": [
           {
            "colorbar": {
             "outlinewidth": 0,
             "ticks": ""
            },
            "type": "choropleth"
           }
          ],
          "contour": [
           {
            "colorbar": {
             "outlinewidth": 0,
             "ticks": ""
            },
            "colorscale": [
             [
              0,
              "#0d0887"
             ],
             [
              0.1111111111111111,
              "#46039f"
             ],
             [
              0.2222222222222222,
              "#7201a8"
             ],
             [
              0.3333333333333333,
              "#9c179e"
             ],
             [
              0.4444444444444444,
              "#bd3786"
             ],
             [
              0.5555555555555556,
              "#d8576b"
             ],
             [
              0.6666666666666666,
              "#ed7953"
             ],
             [
              0.7777777777777778,
              "#fb9f3a"
             ],
             [
              0.8888888888888888,
              "#fdca26"
             ],
             [
              1,
              "#f0f921"
             ]
            ],
            "type": "contour"
           }
          ],
          "contourcarpet": [
           {
            "colorbar": {
             "outlinewidth": 0,
             "ticks": ""
            },
            "type": "contourcarpet"
           }
          ],
          "heatmap": [
           {
            "colorbar": {
             "outlinewidth": 0,
             "ticks": ""
            },
            "colorscale": [
             [
              0,
              "#0d0887"
             ],
             [
              0.1111111111111111,
              "#46039f"
             ],
             [
              0.2222222222222222,
              "#7201a8"
             ],
             [
              0.3333333333333333,
              "#9c179e"
             ],
             [
              0.4444444444444444,
              "#bd3786"
             ],
             [
              0.5555555555555556,
              "#d8576b"
             ],
             [
              0.6666666666666666,
              "#ed7953"
             ],
             [
              0.7777777777777778,
              "#fb9f3a"
             ],
             [
              0.8888888888888888,
              "#fdca26"
             ],
             [
              1,
              "#f0f921"
             ]
            ],
            "type": "heatmap"
           }
          ],
          "histogram": [
           {
            "marker": {
             "pattern": {
              "fillmode": "overlay",
              "size": 10,
              "solidity": 0.2
             }
            },
            "type": "histogram"
           }
          ],
          "histogram2d": [
           {
            "colorbar": {
             "outlinewidth": 0,
             "ticks": ""
            },
            "colorscale": [
             [
              0,
              "#0d0887"
             ],
             [
              0.1111111111111111,
              "#46039f"
             ],
             [
              0.2222222222222222,
              "#7201a8"
             ],
             [
              0.3333333333333333,
              "#9c179e"
             ],
             [
              0.4444444444444444,
              "#bd3786"
             ],
             [
              0.5555555555555556,
              "#d8576b"
             ],
             [
              0.6666666666666666,
              "#ed7953"
             ],
             [
              0.7777777777777778,
              "#fb9f3a"
             ],
             [
              0.8888888888888888,
              "#fdca26"
             ],
             [
              1,
              "#f0f921"
             ]
            ],
            "type": "histogram2d"
           }
          ],
          "histogram2dcontour": [
           {
            "colorbar": {
             "outlinewidth": 0,
             "ticks": ""
            },
            "colorscale": [
             [
              0,
              "#0d0887"
             ],
             [
              0.1111111111111111,
              "#46039f"
             ],
             [
              0.2222222222222222,
              "#7201a8"
             ],
             [
              0.3333333333333333,
              "#9c179e"
             ],
             [
              0.4444444444444444,
              "#bd3786"
             ],
             [
              0.5555555555555556,
              "#d8576b"
             ],
             [
              0.6666666666666666,
              "#ed7953"
             ],
             [
              0.7777777777777778,
              "#fb9f3a"
             ],
             [
              0.8888888888888888,
              "#fdca26"
             ],
             [
              1,
              "#f0f921"
             ]
            ],
            "type": "histogram2dcontour"
           }
          ],
          "mesh3d": [
           {
            "colorbar": {
             "outlinewidth": 0,
             "ticks": ""
            },
            "type": "mesh3d"
           }
          ],
          "parcoords": [
           {
            "line": {
             "colorbar": {
              "outlinewidth": 0,
              "ticks": ""
             }
            },
            "type": "parcoords"
           }
          ],
          "pie": [
           {
            "automargin": true,
            "type": "pie"
           }
          ],
          "scatter": [
           {
            "fillpattern": {
             "fillmode": "overlay",
             "size": 10,
             "solidity": 0.2
            },
            "type": "scatter"
           }
          ],
          "scatter3d": [
           {
            "line": {
             "colorbar": {
              "outlinewidth": 0,
              "ticks": ""
             }
            },
            "marker": {
             "colorbar": {
              "outlinewidth": 0,
              "ticks": ""
             }
            },
            "type": "scatter3d"
           }
          ],
          "scattercarpet": [
           {
            "marker": {
             "colorbar": {
              "outlinewidth": 0,
              "ticks": ""
             }
            },
            "type": "scattercarpet"
           }
          ],
          "scattergeo": [
           {
            "marker": {
             "colorbar": {
              "outlinewidth": 0,
              "ticks": ""
             }
            },
            "type": "scattergeo"
           }
          ],
          "scattergl": [
           {
            "marker": {
             "colorbar": {
              "outlinewidth": 0,
              "ticks": ""
             }
            },
            "type": "scattergl"
           }
          ],
          "scattermap": [
           {
            "marker": {
             "colorbar": {
              "outlinewidth": 0,
              "ticks": ""
             }
            },
            "type": "scattermap"
           }
          ],
          "scattermapbox": [
           {
            "marker": {
             "colorbar": {
              "outlinewidth": 0,
              "ticks": ""
             }
            },
            "type": "scattermapbox"
           }
          ],
          "scatterpolar": [
           {
            "marker": {
             "colorbar": {
              "outlinewidth": 0,
              "ticks": ""
             }
            },
            "type": "scatterpolar"
           }
          ],
          "scatterpolargl": [
           {
            "marker": {
             "colorbar": {
              "outlinewidth": 0,
              "ticks": ""
             }
            },
            "type": "scatterpolargl"
           }
          ],
          "scatterternary": [
           {
            "marker": {
             "colorbar": {
              "outlinewidth": 0,
              "ticks": ""
             }
            },
            "type": "scatterternary"
           }
          ],
          "surface": [
           {
            "colorbar": {
             "outlinewidth": 0,
             "ticks": ""
            },
            "colorscale": [
             [
              0,
              "#0d0887"
             ],
             [
              0.1111111111111111,
              "#46039f"
             ],
             [
              0.2222222222222222,
              "#7201a8"
             ],
             [
              0.3333333333333333,
              "#9c179e"
             ],
             [
              0.4444444444444444,
              "#bd3786"
             ],
             [
              0.5555555555555556,
              "#d8576b"
             ],
             [
              0.6666666666666666,
              "#ed7953"
             ],
             [
              0.7777777777777778,
              "#fb9f3a"
             ],
             [
              0.8888888888888888,
              "#fdca26"
             ],
             [
              1,
              "#f0f921"
             ]
            ],
            "type": "surface"
           }
          ],
          "table": [
           {
            "cells": {
             "fill": {
              "color": "#EBF0F8"
             },
             "line": {
              "color": "white"
             }
            },
            "header": {
             "fill": {
              "color": "#C8D4E3"
             },
             "line": {
              "color": "white"
             }
            },
            "type": "table"
           }
          ]
         },
         "layout": {
          "annotationdefaults": {
           "arrowcolor": "#2a3f5f",
           "arrowhead": 0,
           "arrowwidth": 1
          },
          "autotypenumbers": "strict",
          "coloraxis": {
           "colorbar": {
            "outlinewidth": 0,
            "ticks": ""
           }
          },
          "colorscale": {
           "diverging": [
            [
             0,
             "#8e0152"
            ],
            [
             0.1,
             "#c51b7d"
            ],
            [
             0.2,
             "#de77ae"
            ],
            [
             0.3,
             "#f1b6da"
            ],
            [
             0.4,
             "#fde0ef"
            ],
            [
             0.5,
             "#f7f7f7"
            ],
            [
             0.6,
             "#e6f5d0"
            ],
            [
             0.7,
             "#b8e186"
            ],
            [
             0.8,
             "#7fbc41"
            ],
            [
             0.9,
             "#4d9221"
            ],
            [
             1,
             "#276419"
            ]
           ],
           "sequential": [
            [
             0,
             "#0d0887"
            ],
            [
             0.1111111111111111,
             "#46039f"
            ],
            [
             0.2222222222222222,
             "#7201a8"
            ],
            [
             0.3333333333333333,
             "#9c179e"
            ],
            [
             0.4444444444444444,
             "#bd3786"
            ],
            [
             0.5555555555555556,
             "#d8576b"
            ],
            [
             0.6666666666666666,
             "#ed7953"
            ],
            [
             0.7777777777777778,
             "#fb9f3a"
            ],
            [
             0.8888888888888888,
             "#fdca26"
            ],
            [
             1,
             "#f0f921"
            ]
           ],
           "sequentialminus": [
            [
             0,
             "#0d0887"
            ],
            [
             0.1111111111111111,
             "#46039f"
            ],
            [
             0.2222222222222222,
             "#7201a8"
            ],
            [
             0.3333333333333333,
             "#9c179e"
            ],
            [
             0.4444444444444444,
             "#bd3786"
            ],
            [
             0.5555555555555556,
             "#d8576b"
            ],
            [
             0.6666666666666666,
             "#ed7953"
            ],
            [
             0.7777777777777778,
             "#fb9f3a"
            ],
            [
             0.8888888888888888,
             "#fdca26"
            ],
            [
             1,
             "#f0f921"
            ]
           ]
          },
          "colorway": [
           "#636efa",
           "#EF553B",
           "#00cc96",
           "#ab63fa",
           "#FFA15A",
           "#19d3f3",
           "#FF6692",
           "#B6E880",
           "#FF97FF",
           "#FECB52"
          ],
          "font": {
           "color": "#2a3f5f"
          },
          "geo": {
           "bgcolor": "white",
           "lakecolor": "white",
           "landcolor": "#E5ECF6",
           "showlakes": true,
           "showland": true,
           "subunitcolor": "white"
          },
          "hoverlabel": {
           "align": "left"
          },
          "hovermode": "closest",
          "mapbox": {
           "style": "light"
          },
          "paper_bgcolor": "white",
          "plot_bgcolor": "#E5ECF6",
          "polar": {
           "angularaxis": {
            "gridcolor": "white",
            "linecolor": "white",
            "ticks": ""
           },
           "bgcolor": "#E5ECF6",
           "radialaxis": {
            "gridcolor": "white",
            "linecolor": "white",
            "ticks": ""
           }
          },
          "scene": {
           "xaxis": {
            "backgroundcolor": "#E5ECF6",
            "gridcolor": "white",
            "gridwidth": 2,
            "linecolor": "white",
            "showbackground": true,
            "ticks": "",
            "zerolinecolor": "white"
           },
           "yaxis": {
            "backgroundcolor": "#E5ECF6",
            "gridcolor": "white",
            "gridwidth": 2,
            "linecolor": "white",
            "showbackground": true,
            "ticks": "",
            "zerolinecolor": "white"
           },
           "zaxis": {
            "backgroundcolor": "#E5ECF6",
            "gridcolor": "white",
            "gridwidth": 2,
            "linecolor": "white",
            "showbackground": true,
            "ticks": "",
            "zerolinecolor": "white"
           }
          },
          "shapedefaults": {
           "line": {
            "color": "#2a3f5f"
           }
          },
          "ternary": {
           "aaxis": {
            "gridcolor": "white",
            "linecolor": "white",
            "ticks": ""
           },
           "baxis": {
            "gridcolor": "white",
            "linecolor": "white",
            "ticks": ""
           },
           "bgcolor": "#E5ECF6",
           "caxis": {
            "gridcolor": "white",
            "linecolor": "white",
            "ticks": ""
           }
          },
          "title": {
           "x": 0.05
          },
          "xaxis": {
           "automargin": true,
           "gridcolor": "white",
           "linecolor": "white",
           "ticks": "",
           "title": {
            "standoff": 15
           },
           "zerolinecolor": "white",
           "zerolinewidth": 2
          },
          "yaxis": {
           "automargin": true,
           "gridcolor": "white",
           "linecolor": "white",
           "ticks": "",
           "title": {
            "standoff": 15
           },
           "zerolinecolor": "white",
           "zerolinewidth": 2
          }
         }
        },
        "title": {
         "text": "Aggregate import value by Country (Top 20)"
        },
        "xaxis": {
         "anchor": "y",
         "domain": [
          0,
          1
         ],
         "showgrid": false,
         "title": {
          "text": "import value"
         }
        },
        "yaxis": {
         "anchor": "x",
         "categoryorder": "total ascending",
         "domain": [
          0,
          1
         ],
         "title": {
          "text": "country"
         }
        }
       }
      }
     },
     "metadata": {},
     "output_type": "display_data"
    }
   ],
   "source": [
    "# Plot Import Trade by Country:\n",
    "fig = plot_trade_value_by_country(combined_df, value_col='import value', country_col='country', top_n=20, show_values=True)\n",
    "fig.show()"
   ]
  },
  {
   "cell_type": "markdown",
   "id": "197c804d",
   "metadata": {},
   "source": [
    "#### Explore relationship between export value and tariff for top N countries"
   ]
  },
  {
   "cell_type": "code",
   "execution_count": 24,
   "id": "5b6b2ea0",
   "metadata": {},
   "outputs": [],
   "source": [
    "# Function to create a scatter plot with animation on year to see correlation between tariff and export value for top 20 countries\n",
    "\n",
    "def plot_animated_scatter(df, x_col, y_col, size_col, color_col, animation_col, title):\n",
    "    \"\"\"Create animated scatter with correct hovertemplate using custom_data for the year.\n",
    "    \"\"\"\n",
    "    # Defensive copy and type coercion\n",
    "    df = df.copy()\n",
    "    # Clean numeric columns\n",
    "    df[x_col] = pd.to_numeric(df[x_col].astype(str).str.replace(',', ''), errors='coerce')\n",
    "    df[y_col] = pd.to_numeric(df[y_col], errors='coerce')\n",
    "    df = df.dropna(subset=[x_col, y_col, color_col, animation_col])\n",
    "\n",
    "    # Use custom_data to pass the animation frame (year) into the hovertemplate\n",
    "    fig = px.scatter(\n",
    "        df,\n",
    "        x=x_col,\n",
    "        y=y_col,\n",
    "        size=size_col,\n",
    "        color=color_col,\n",
    "        animation_frame=animation_col,\n",
    "        animation_group=color_col,\n",
    "        custom_data=[animation_col],\n",
    "        size_max=60,\n",
    "        title=title,\n",
    "        labels={x_col: \"Export value\", y_col: \"Tariff Rate\", color_col: \"Country\", animation_col: \"Year\"},\n",
    "        hover_name=color_col,\n",
    "        template=\"plotly_white\"\n",
    "    )\n",
    "\n",
    "    # Define the hovertemplate once\n",
    "    hover_template = (\n",
    "        \"<b>%{hovertext}</b><br><br>\"\n",
    "        \"Export Value: $%{x:,.0f}<br>\"\n",
    "        \"Tariff Rate: %{y:.2f}%<br>\"\n",
    "        \"Year: %{customdata[0]}<extra></extra>\"\n",
    "    )\n",
    "\n",
    "    # Apply to base traces\n",
    "    fig.update_traces(hovertemplate=hover_template)\n",
    "\n",
    "    # Also apply to each trace inside each animation frame (ensures it's preserved during animation)\n",
    "    if hasattr(fig, 'frames') and fig.frames:\n",
    "        for frame in fig.frames:\n",
    "            # frame.data is a tuple/list of traces for that frame\n",
    "            for trace in frame.data:\n",
    "                # set hovertemplate for that trace\n",
    "                trace.hovertemplate = hover_template\n",
    "\n",
    "    # Set the scale for Y axis\n",
    "    fig.update_yaxes(range=[0, 15], tick0=0, dtick=5)\n",
    "\n",
    "    # Keep log x-axis if desired (optional) and style\n",
    "    fig.update_layout(\n",
    "        xaxis=dict(type='log', title='Export Value (log scale)'),\n",
    "        yaxis=dict(title='Tariff Rate (%)'),\n",
    "        legend_title_text='Country'\n",
    "    )\n",
    "\n",
    "    return fig"
   ]
  },
  {
   "cell_type": "code",
   "execution_count": 26,
   "id": "2e96608e",
   "metadata": {},
   "outputs": [
    {
     "data": {
      "application/vnd.plotly.v1+json": {
       "config": {
        "plotlyServerURL": "https://plot.ly"
       },
       "data": [
        {
         "customdata": {
          "bdata": "6AfoBw==",
          "dtype": "i2",
          "shape": "2, 1"
         },
         "hovertemplate": "<b>%{hovertext}</b><br><br>Export Value: $%{x:,.0f}<br>Tariff Rate: %{y:.2f}%<br>Year: %{customdata[0]}<extra></extra>",
         "hovertext": [
          "Mexico",
          "Mexico"
         ],
         "ids": [
          "Mexico",
          "Mexico"
         ],
         "legendgroup": "Mexico",
         "marker": {
          "color": "#636efa",
          "size": [
           38841300973,
           5273695629
          ],
          "sizemode": "area",
          "sizeref": 10789250.270277778,
          "symbol": "circle"
         },
         "mode": "markers",
         "name": "Mexico",
         "orientation": "v",
         "showlegend": true,
         "type": "scatter",
         "x": [
          38841300973,
          5273695629
         ],
         "xaxis": "x",
         "y": {
          "bdata": "ii8+mYf3H0CKLz6Zh/cfQA==",
          "dtype": "f8"
         },
         "yaxis": "y"
        },
        {
         "customdata": {
          "bdata": "6AfoB+gH",
          "dtype": "i2",
          "shape": "3, 1"
         },
         "hovertemplate": "<b>%{hovertext}</b><br><br>Export Value: $%{x:,.0f}<br>Tariff Rate: %{y:.2f}%<br>Year: %{customdata[0]}<extra></extra>",
         "hovertext": [
          "Canada",
          "Canada",
          "Canada"
         ],
         "ids": [
          "Canada",
          "Canada",
          "Canada"
         ],
         "legendgroup": "Canada",
         "marker": {
          "color": "#EF553B",
          "size": [
           29492074572,
           23242066773,
           7476019988
          ],
          "sizemode": "area",
          "sizeref": 10789250.270277778,
          "symbol": "circle"
         },
         "mode": "markers",
         "name": "Canada",
         "orientation": "v",
         "showlegend": true,
         "type": "scatter",
         "x": [
          29492074572,
          23242066773,
          7476019988
         ],
         "xaxis": "x",
         "y": {
          "bdata": "ii8+mYf3H0CKLz6Zh/cfQIovPpmH9x9A",
          "dtype": "f8"
         },
         "yaxis": "y"
        },
        {
         "customdata": {
          "bdata": "6AfoBw==",
          "dtype": "i2",
          "shape": "2, 1"
         },
         "hovertemplate": "<b>%{hovertext}</b><br><br>Export Value: $%{x:,.0f}<br>Tariff Rate: %{y:.2f}%<br>Year: %{customdata[0]}<extra></extra>",
         "hovertext": [
          "Germany",
          "Germany"
         ],
         "ids": [
          "Germany",
          "Germany"
         ],
         "legendgroup": "Germany",
         "marker": {
          "color": "#00cc96",
          "size": [
           7538936258,
           2353946037
          ],
          "sizemode": "area",
          "sizeref": 10789250.270277778,
          "symbol": "circle"
         },
         "mode": "markers",
         "name": "Germany",
         "orientation": "v",
         "showlegend": true,
         "type": "scatter",
         "x": [
          7538936258,
          2353946037
         ],
         "xaxis": "x",
         "y": {
          "bdata": "ii8+mYf3H0CKLz6Zh/cfQA==",
          "dtype": "f8"
         },
         "yaxis": "y"
        },
        {
         "customdata": {
          "bdata": "6AfoBw==",
          "dtype": "i2",
          "shape": "2, 1"
         },
         "hovertemplate": "<b>%{hovertext}</b><br><br>Export Value: $%{x:,.0f}<br>Tariff Rate: %{y:.2f}%<br>Year: %{customdata[0]}<extra></extra>",
         "hovertext": [
          "China",
          "China"
         ],
         "ids": [
          "China",
          "China"
         ],
         "legendgroup": "China",
         "marker": {
          "color": "#ab63fa",
          "size": [
           4775689891,
           2258581718
          ],
          "sizemode": "area",
          "sizeref": 10789250.270277778,
          "symbol": "circle"
         },
         "mode": "markers",
         "name": "China",
         "orientation": "v",
         "showlegend": true,
         "type": "scatter",
         "x": [
          4775689891,
          2258581718
         ],
         "xaxis": "x",
         "y": {
          "bdata": "ii8+mYf3H0CKLz6Zh/cfQA==",
          "dtype": "f8"
         },
         "yaxis": "y"
        },
        {
         "customdata": {
          "bdata": "6AfoBw==",
          "dtype": "i2",
          "shape": "2, 1"
         },
         "hovertemplate": "<b>%{hovertext}</b><br><br>Export Value: $%{x:,.0f}<br>Tariff Rate: %{y:.2f}%<br>Year: %{customdata[0]}<extra></extra>",
         "hovertext": [
          "Australia",
          "Australia"
         ],
         "ids": [
          "Australia",
          "Australia"
         ],
         "legendgroup": "Australia",
         "marker": {
          "color": "#FFA15A",
          "size": [
           2623045523,
           1480522756
          ],
          "sizemode": "area",
          "sizeref": 10789250.270277778,
          "symbol": "circle"
         },
         "mode": "markers",
         "name": "Australia",
         "orientation": "v",
         "showlegend": true,
         "type": "scatter",
         "x": [
          2623045523,
          1480522756
         ],
         "xaxis": "x",
         "y": {
          "bdata": "ii8+mYf3H0CKLz6Zh/cfQA==",
          "dtype": "f8"
         },
         "yaxis": "y"
        },
        {
         "customdata": {
          "bdata": "6Ac=",
          "dtype": "i2",
          "shape": "1, 1"
         },
         "hovertemplate": "<b>%{hovertext}</b><br><br>Export Value: $%{x:,.0f}<br>Tariff Rate: %{y:.2f}%<br>Year: %{customdata[0]}<extra></extra>",
         "hovertext": [
          "United Arab Emirates"
         ],
         "ids": [
          "United Arab Emirates"
         ],
         "legendgroup": "United Arab Emirates",
         "marker": {
          "color": "#19d3f3",
          "size": [
           2160723518
          ],
          "sizemode": "area",
          "sizeref": 10789250.270277778,
          "symbol": "circle"
         },
         "mode": "markers",
         "name": "United Arab Emirates",
         "orientation": "v",
         "showlegend": true,
         "type": "scatter",
         "x": [
          2160723518
         ],
         "xaxis": "x",
         "y": {
          "bdata": "ii8+mYf3H0A=",
          "dtype": "f8"
         },
         "yaxis": "y"
        },
        {
         "customdata": {
          "bdata": "6Ac=",
          "dtype": "i2",
          "shape": "1, 1"
         },
         "hovertemplate": "<b>%{hovertext}</b><br><br>Export Value: $%{x:,.0f}<br>Tariff Rate: %{y:.2f}%<br>Year: %{customdata[0]}<extra></extra>",
         "hovertext": [
          "South Korea"
         ],
         "ids": [
          "South Korea"
         ],
         "legendgroup": "South Korea",
         "marker": {
          "color": "#FF6692",
          "size": {
           "bdata": "84C6fg==",
           "dtype": "i4"
          },
          "sizemode": "area",
          "sizeref": 10789250.270277778,
          "symbol": "circle"
         },
         "mode": "markers",
         "name": "South Korea",
         "orientation": "v",
         "showlegend": true,
         "type": "scatter",
         "x": {
          "bdata": "84C6fg==",
          "dtype": "i4"
         },
         "xaxis": "x",
         "y": {
          "bdata": "ii8+mYf3H0A=",
          "dtype": "f8"
         },
         "yaxis": "y"
        },
        {
         "customdata": {
          "bdata": "6Ac=",
          "dtype": "i2",
          "shape": "1, 1"
         },
         "hovertemplate": "<b>%{hovertext}</b><br><br>Export Value: $%{x:,.0f}<br>Tariff Rate: %{y:.2f}%<br>Year: %{customdata[0]}<extra></extra>",
         "hovertext": [
          "Saudi Arabia"
         ],
         "ids": [
          "Saudi Arabia"
         ],
         "legendgroup": "Saudi Arabia",
         "marker": {
          "color": "#B6E880",
          "size": {
           "bdata": "Zd35aA==",
           "dtype": "i4"
          },
          "sizemode": "area",
          "sizeref": 10789250.270277778,
          "symbol": "circle"
         },
         "mode": "markers",
         "name": "Saudi Arabia",
         "orientation": "v",
         "showlegend": true,
         "type": "scatter",
         "x": {
          "bdata": "Zd35aA==",
          "dtype": "i4"
         },
         "xaxis": "x",
         "y": {
          "bdata": "ii8+mYf3H0A=",
          "dtype": "f8"
         },
         "yaxis": "y"
        },
        {
         "customdata": {
          "bdata": "6Ac=",
          "dtype": "i2",
          "shape": "1, 1"
         },
         "hovertemplate": "<b>%{hovertext}</b><br><br>Export Value: $%{x:,.0f}<br>Tariff Rate: %{y:.2f}%<br>Year: %{customdata[0]}<extra></extra>",
         "hovertext": [
          "Belgium"
         ],
         "ids": [
          "Belgium"
         ],
         "legendgroup": "Belgium",
         "marker": {
          "color": "#FF97FF",
          "size": {
           "bdata": "ZTNJYA==",
           "dtype": "i4"
          },
          "sizemode": "area",
          "sizeref": 10789250.270277778,
          "symbol": "circle"
         },
         "mode": "markers",
         "name": "Belgium",
         "orientation": "v",
         "showlegend": true,
         "type": "scatter",
         "x": {
          "bdata": "ZTNJYA==",
          "dtype": "i4"
         },
         "xaxis": "x",
         "y": {
          "bdata": "ii8+mYf3H0A=",
          "dtype": "f8"
         },
         "yaxis": "y"
        },
        {
         "customdata": {
          "bdata": "6AfoBw==",
          "dtype": "i2",
          "shape": "2, 1"
         },
         "hovertemplate": "<b>%{hovertext}</b><br><br>Export Value: $%{x:,.0f}<br>Tariff Rate: %{y:.2f}%<br>Year: %{customdata[0]}<extra></extra>",
         "hovertext": [
          "Japan",
          "Japan"
         ],
         "ids": [
          "Japan",
          "Japan"
         ],
         "legendgroup": "Japan",
         "marker": {
          "color": "#FECB52",
          "size": {
           "bdata": "22XCX9//IzA=",
           "dtype": "i4"
          },
          "sizemode": "area",
          "sizeref": 10789250.270277778,
          "symbol": "circle"
         },
         "mode": "markers",
         "name": "Japan",
         "orientation": "v",
         "showlegend": true,
         "type": "scatter",
         "x": {
          "bdata": "22XCX9//IzA=",
          "dtype": "i4"
         },
         "xaxis": "x",
         "y": {
          "bdata": "ii8+mYf3H0CKLz6Zh/cfQA==",
          "dtype": "f8"
         },
         "yaxis": "y"
        },
        {
         "customdata": {
          "bdata": "6Ac=",
          "dtype": "i2",
          "shape": "1, 1"
         },
         "hovertemplate": "<b>%{hovertext}</b><br><br>Export Value: $%{x:,.0f}<br>Tariff Rate: %{y:.2f}%<br>Year: %{customdata[0]}<extra></extra>",
         "hovertext": [
          "United Kingdom"
         ],
         "ids": [
          "United Kingdom"
         ],
         "legendgroup": "United Kingdom",
         "marker": {
          "color": "#636efa",
          "size": {
           "bdata": "2sYyTA==",
           "dtype": "i4"
          },
          "sizemode": "area",
          "sizeref": 10789250.270277778,
          "symbol": "circle"
         },
         "mode": "markers",
         "name": "United Kingdom",
         "orientation": "v",
         "showlegend": true,
         "type": "scatter",
         "x": {
          "bdata": "2sYyTA==",
          "dtype": "i4"
         },
         "xaxis": "x",
         "y": {
          "bdata": "ii8+mYf3H0A=",
          "dtype": "f8"
         },
         "yaxis": "y"
        },
        {
         "customdata": {
          "bdata": "6Ac=",
          "dtype": "i2",
          "shape": "1, 1"
         },
         "hovertemplate": "<b>%{hovertext}</b><br><br>Export Value: $%{x:,.0f}<br>Tariff Rate: %{y:.2f}%<br>Year: %{customdata[0]}<extra></extra>",
         "hovertext": [
          "Brazil"
         ],
         "ids": [
          "Brazil"
         ],
         "legendgroup": "Brazil",
         "marker": {
          "color": "#EF553B",
          "size": {
           "bdata": "BAzrSQ==",
           "dtype": "i4"
          },
          "sizemode": "area",
          "sizeref": 10789250.270277778,
          "symbol": "circle"
         },
         "mode": "markers",
         "name": "Brazil",
         "orientation": "v",
         "showlegend": true,
         "type": "scatter",
         "x": {
          "bdata": "BAzrSQ==",
          "dtype": "i4"
         },
         "xaxis": "x",
         "y": {
          "bdata": "ii8+mYf3H0A=",
          "dtype": "f8"
         },
         "yaxis": "y"
        },
        {
         "customdata": {
          "bdata": "6Ac=",
          "dtype": "i2",
          "shape": "1, 1"
         },
         "hovertemplate": "<b>%{hovertext}</b><br><br>Export Value: $%{x:,.0f}<br>Tariff Rate: %{y:.2f}%<br>Year: %{customdata[0]}<extra></extra>",
         "hovertext": [
          "Thailand"
         ],
         "ids": [
          "Thailand"
         ],
         "legendgroup": "Thailand",
         "marker": {
          "color": "#00cc96",
          "size": {
           "bdata": "lUqvNw==",
           "dtype": "i4"
          },
          "sizemode": "area",
          "sizeref": 10789250.270277778,
          "symbol": "circle"
         },
         "mode": "markers",
         "name": "Thailand",
         "orientation": "v",
         "showlegend": true,
         "type": "scatter",
         "x": {
          "bdata": "lUqvNw==",
          "dtype": "i4"
         },
         "xaxis": "x",
         "y": {
          "bdata": "ii8+mYf3H0A=",
          "dtype": "f8"
         },
         "yaxis": "y"
        }
       ],
       "frames": [
        {
         "data": [
          {
           "customdata": {
            "bdata": "6AfoBw==",
            "dtype": "i2",
            "shape": "2, 1"
           },
           "hovertemplate": "<b>%{hovertext}</b><br><br>Export Value: $%{x:,.0f}<br>Tariff Rate: %{y:.2f}%<br>Year: %{customdata[0]}<extra></extra>",
           "hovertext": [
            "Mexico",
            "Mexico"
           ],
           "ids": [
            "Mexico",
            "Mexico"
           ],
           "legendgroup": "Mexico",
           "marker": {
            "color": "#636efa",
            "size": [
             38841300973,
             5273695629
            ],
            "sizemode": "area",
            "sizeref": 10789250.270277778,
            "symbol": "circle"
           },
           "mode": "markers",
           "name": "Mexico",
           "orientation": "v",
           "showlegend": true,
           "type": "scatter",
           "x": [
            38841300973,
            5273695629
           ],
           "xaxis": "x",
           "y": {
            "bdata": "ii8+mYf3H0CKLz6Zh/cfQA==",
            "dtype": "f8"
           },
           "yaxis": "y"
          },
          {
           "customdata": {
            "bdata": "6AfoB+gH",
            "dtype": "i2",
            "shape": "3, 1"
           },
           "hovertemplate": "<b>%{hovertext}</b><br><br>Export Value: $%{x:,.0f}<br>Tariff Rate: %{y:.2f}%<br>Year: %{customdata[0]}<extra></extra>",
           "hovertext": [
            "Canada",
            "Canada",
            "Canada"
           ],
           "ids": [
            "Canada",
            "Canada",
            "Canada"
           ],
           "legendgroup": "Canada",
           "marker": {
            "color": "#EF553B",
            "size": [
             29492074572,
             23242066773,
             7476019988
            ],
            "sizemode": "area",
            "sizeref": 10789250.270277778,
            "symbol": "circle"
           },
           "mode": "markers",
           "name": "Canada",
           "orientation": "v",
           "showlegend": true,
           "type": "scatter",
           "x": [
            29492074572,
            23242066773,
            7476019988
           ],
           "xaxis": "x",
           "y": {
            "bdata": "ii8+mYf3H0CKLz6Zh/cfQIovPpmH9x9A",
            "dtype": "f8"
           },
           "yaxis": "y"
          },
          {
           "customdata": {
            "bdata": "6AfoBw==",
            "dtype": "i2",
            "shape": "2, 1"
           },
           "hovertemplate": "<b>%{hovertext}</b><br><br>Export Value: $%{x:,.0f}<br>Tariff Rate: %{y:.2f}%<br>Year: %{customdata[0]}<extra></extra>",
           "hovertext": [
            "Germany",
            "Germany"
           ],
           "ids": [
            "Germany",
            "Germany"
           ],
           "legendgroup": "Germany",
           "marker": {
            "color": "#00cc96",
            "size": [
             7538936258,
             2353946037
            ],
            "sizemode": "area",
            "sizeref": 10789250.270277778,
            "symbol": "circle"
           },
           "mode": "markers",
           "name": "Germany",
           "orientation": "v",
           "showlegend": true,
           "type": "scatter",
           "x": [
            7538936258,
            2353946037
           ],
           "xaxis": "x",
           "y": {
            "bdata": "ii8+mYf3H0CKLz6Zh/cfQA==",
            "dtype": "f8"
           },
           "yaxis": "y"
          },
          {
           "customdata": {
            "bdata": "6AfoBw==",
            "dtype": "i2",
            "shape": "2, 1"
           },
           "hovertemplate": "<b>%{hovertext}</b><br><br>Export Value: $%{x:,.0f}<br>Tariff Rate: %{y:.2f}%<br>Year: %{customdata[0]}<extra></extra>",
           "hovertext": [
            "China",
            "China"
           ],
           "ids": [
            "China",
            "China"
           ],
           "legendgroup": "China",
           "marker": {
            "color": "#ab63fa",
            "size": [
             4775689891,
             2258581718
            ],
            "sizemode": "area",
            "sizeref": 10789250.270277778,
            "symbol": "circle"
           },
           "mode": "markers",
           "name": "China",
           "orientation": "v",
           "showlegend": true,
           "type": "scatter",
           "x": [
            4775689891,
            2258581718
           ],
           "xaxis": "x",
           "y": {
            "bdata": "ii8+mYf3H0CKLz6Zh/cfQA==",
            "dtype": "f8"
           },
           "yaxis": "y"
          },
          {
           "customdata": {
            "bdata": "6AfoBw==",
            "dtype": "i2",
            "shape": "2, 1"
           },
           "hovertemplate": "<b>%{hovertext}</b><br><br>Export Value: $%{x:,.0f}<br>Tariff Rate: %{y:.2f}%<br>Year: %{customdata[0]}<extra></extra>",
           "hovertext": [
            "Australia",
            "Australia"
           ],
           "ids": [
            "Australia",
            "Australia"
           ],
           "legendgroup": "Australia",
           "marker": {
            "color": "#FFA15A",
            "size": [
             2623045523,
             1480522756
            ],
            "sizemode": "area",
            "sizeref": 10789250.270277778,
            "symbol": "circle"
           },
           "mode": "markers",
           "name": "Australia",
           "orientation": "v",
           "showlegend": true,
           "type": "scatter",
           "x": [
            2623045523,
            1480522756
           ],
           "xaxis": "x",
           "y": {
            "bdata": "ii8+mYf3H0CKLz6Zh/cfQA==",
            "dtype": "f8"
           },
           "yaxis": "y"
          },
          {
           "customdata": {
            "bdata": "6Ac=",
            "dtype": "i2",
            "shape": "1, 1"
           },
           "hovertemplate": "<b>%{hovertext}</b><br><br>Export Value: $%{x:,.0f}<br>Tariff Rate: %{y:.2f}%<br>Year: %{customdata[0]}<extra></extra>",
           "hovertext": [
            "United Arab Emirates"
           ],
           "ids": [
            "United Arab Emirates"
           ],
           "legendgroup": "United Arab Emirates",
           "marker": {
            "color": "#19d3f3",
            "size": [
             2160723518
            ],
            "sizemode": "area",
            "sizeref": 10789250.270277778,
            "symbol": "circle"
           },
           "mode": "markers",
           "name": "United Arab Emirates",
           "orientation": "v",
           "showlegend": true,
           "type": "scatter",
           "x": [
            2160723518
           ],
           "xaxis": "x",
           "y": {
            "bdata": "ii8+mYf3H0A=",
            "dtype": "f8"
           },
           "yaxis": "y"
          },
          {
           "customdata": {
            "bdata": "6Ac=",
            "dtype": "i2",
            "shape": "1, 1"
           },
           "hovertemplate": "<b>%{hovertext}</b><br><br>Export Value: $%{x:,.0f}<br>Tariff Rate: %{y:.2f}%<br>Year: %{customdata[0]}<extra></extra>",
           "hovertext": [
            "South Korea"
           ],
           "ids": [
            "South Korea"
           ],
           "legendgroup": "South Korea",
           "marker": {
            "color": "#FF6692",
            "size": {
             "bdata": "84C6fg==",
             "dtype": "i4"
            },
            "sizemode": "area",
            "sizeref": 10789250.270277778,
            "symbol": "circle"
           },
           "mode": "markers",
           "name": "South Korea",
           "orientation": "v",
           "showlegend": true,
           "type": "scatter",
           "x": {
            "bdata": "84C6fg==",
            "dtype": "i4"
           },
           "xaxis": "x",
           "y": {
            "bdata": "ii8+mYf3H0A=",
            "dtype": "f8"
           },
           "yaxis": "y"
          },
          {
           "customdata": {
            "bdata": "6Ac=",
            "dtype": "i2",
            "shape": "1, 1"
           },
           "hovertemplate": "<b>%{hovertext}</b><br><br>Export Value: $%{x:,.0f}<br>Tariff Rate: %{y:.2f}%<br>Year: %{customdata[0]}<extra></extra>",
           "hovertext": [
            "Saudi Arabia"
           ],
           "ids": [
            "Saudi Arabia"
           ],
           "legendgroup": "Saudi Arabia",
           "marker": {
            "color": "#B6E880",
            "size": {
             "bdata": "Zd35aA==",
             "dtype": "i4"
            },
            "sizemode": "area",
            "sizeref": 10789250.270277778,
            "symbol": "circle"
           },
           "mode": "markers",
           "name": "Saudi Arabia",
           "orientation": "v",
           "showlegend": true,
           "type": "scatter",
           "x": {
            "bdata": "Zd35aA==",
            "dtype": "i4"
           },
           "xaxis": "x",
           "y": {
            "bdata": "ii8+mYf3H0A=",
            "dtype": "f8"
           },
           "yaxis": "y"
          },
          {
           "customdata": {
            "bdata": "6Ac=",
            "dtype": "i2",
            "shape": "1, 1"
           },
           "hovertemplate": "<b>%{hovertext}</b><br><br>Export Value: $%{x:,.0f}<br>Tariff Rate: %{y:.2f}%<br>Year: %{customdata[0]}<extra></extra>",
           "hovertext": [
            "Belgium"
           ],
           "ids": [
            "Belgium"
           ],
           "legendgroup": "Belgium",
           "marker": {
            "color": "#FF97FF",
            "size": {
             "bdata": "ZTNJYA==",
             "dtype": "i4"
            },
            "sizemode": "area",
            "sizeref": 10789250.270277778,
            "symbol": "circle"
           },
           "mode": "markers",
           "name": "Belgium",
           "orientation": "v",
           "showlegend": true,
           "type": "scatter",
           "x": {
            "bdata": "ZTNJYA==",
            "dtype": "i4"
           },
           "xaxis": "x",
           "y": {
            "bdata": "ii8+mYf3H0A=",
            "dtype": "f8"
           },
           "yaxis": "y"
          },
          {
           "customdata": {
            "bdata": "6AfoBw==",
            "dtype": "i2",
            "shape": "2, 1"
           },
           "hovertemplate": "<b>%{hovertext}</b><br><br>Export Value: $%{x:,.0f}<br>Tariff Rate: %{y:.2f}%<br>Year: %{customdata[0]}<extra></extra>",
           "hovertext": [
            "Japan",
            "Japan"
           ],
           "ids": [
            "Japan",
            "Japan"
           ],
           "legendgroup": "Japan",
           "marker": {
            "color": "#FECB52",
            "size": {
             "bdata": "22XCX9//IzA=",
             "dtype": "i4"
            },
            "sizemode": "area",
            "sizeref": 10789250.270277778,
            "symbol": "circle"
           },
           "mode": "markers",
           "name": "Japan",
           "orientation": "v",
           "showlegend": true,
           "type": "scatter",
           "x": {
            "bdata": "22XCX9//IzA=",
            "dtype": "i4"
           },
           "xaxis": "x",
           "y": {
            "bdata": "ii8+mYf3H0CKLz6Zh/cfQA==",
            "dtype": "f8"
           },
           "yaxis": "y"
          },
          {
           "customdata": {
            "bdata": "6Ac=",
            "dtype": "i2",
            "shape": "1, 1"
           },
           "hovertemplate": "<b>%{hovertext}</b><br><br>Export Value: $%{x:,.0f}<br>Tariff Rate: %{y:.2f}%<br>Year: %{customdata[0]}<extra></extra>",
           "hovertext": [
            "United Kingdom"
           ],
           "ids": [
            "United Kingdom"
           ],
           "legendgroup": "United Kingdom",
           "marker": {
            "color": "#636efa",
            "size": {
             "bdata": "2sYyTA==",
             "dtype": "i4"
            },
            "sizemode": "area",
            "sizeref": 10789250.270277778,
            "symbol": "circle"
           },
           "mode": "markers",
           "name": "United Kingdom",
           "orientation": "v",
           "showlegend": true,
           "type": "scatter",
           "x": {
            "bdata": "2sYyTA==",
            "dtype": "i4"
           },
           "xaxis": "x",
           "y": {
            "bdata": "ii8+mYf3H0A=",
            "dtype": "f8"
           },
           "yaxis": "y"
          },
          {
           "customdata": {
            "bdata": "6Ac=",
            "dtype": "i2",
            "shape": "1, 1"
           },
           "hovertemplate": "<b>%{hovertext}</b><br><br>Export Value: $%{x:,.0f}<br>Tariff Rate: %{y:.2f}%<br>Year: %{customdata[0]}<extra></extra>",
           "hovertext": [
            "Brazil"
           ],
           "ids": [
            "Brazil"
           ],
           "legendgroup": "Brazil",
           "marker": {
            "color": "#EF553B",
            "size": {
             "bdata": "BAzrSQ==",
             "dtype": "i4"
            },
            "sizemode": "area",
            "sizeref": 10789250.270277778,
            "symbol": "circle"
           },
           "mode": "markers",
           "name": "Brazil",
           "orientation": "v",
           "showlegend": true,
           "type": "scatter",
           "x": {
            "bdata": "BAzrSQ==",
            "dtype": "i4"
           },
           "xaxis": "x",
           "y": {
            "bdata": "ii8+mYf3H0A=",
            "dtype": "f8"
           },
           "yaxis": "y"
          },
          {
           "customdata": {
            "bdata": "6Ac=",
            "dtype": "i2",
            "shape": "1, 1"
           },
           "hovertemplate": "<b>%{hovertext}</b><br><br>Export Value: $%{x:,.0f}<br>Tariff Rate: %{y:.2f}%<br>Year: %{customdata[0]}<extra></extra>",
           "hovertext": [
            "Thailand"
           ],
           "ids": [
            "Thailand"
           ],
           "legendgroup": "Thailand",
           "marker": {
            "color": "#00cc96",
            "size": {
             "bdata": "lUqvNw==",
             "dtype": "i4"
            },
            "sizemode": "area",
            "sizeref": 10789250.270277778,
            "symbol": "circle"
           },
           "mode": "markers",
           "name": "Thailand",
           "orientation": "v",
           "showlegend": true,
           "type": "scatter",
           "x": {
            "bdata": "lUqvNw==",
            "dtype": "i4"
           },
           "xaxis": "x",
           "y": {
            "bdata": "ii8+mYf3H0A=",
            "dtype": "f8"
           },
           "yaxis": "y"
          }
         ],
         "name": "2024"
        },
        {
         "data": [
          {
           "customdata": {
            "bdata": "5wfnBw==",
            "dtype": "i2",
            "shape": "2, 1"
           },
           "hovertemplate": "<b>%{hovertext}</b><br><br>Export Value: $%{x:,.0f}<br>Tariff Rate: %{y:.2f}%<br>Year: %{customdata[0]}<extra></extra>",
           "hovertext": [
            "Mexico",
            "Mexico"
           ],
           "ids": [
            "Mexico",
            "Mexico"
           ],
           "legendgroup": "Mexico",
           "marker": {
            "color": "#636efa",
            "size": [
             37022191232,
             4839937174
            ],
            "sizemode": "area",
            "sizeref": 10789250.270277778,
            "symbol": "circle"
           },
           "mode": "markers",
           "name": "Mexico",
           "orientation": "v",
           "showlegend": true,
           "type": "scatter",
           "x": [
            37022191232,
            4839937174
           ],
           "xaxis": "x",
           "y": {
            "bdata": "ii8+mYf3H0CKLz6Zh/cfQA==",
            "dtype": "f8"
           },
           "yaxis": "y"
          },
          {
           "customdata": {
            "bdata": "5wfnB+cH",
            "dtype": "i2",
            "shape": "3, 1"
           },
           "hovertemplate": "<b>%{hovertext}</b><br><br>Export Value: $%{x:,.0f}<br>Tariff Rate: %{y:.2f}%<br>Year: %{customdata[0]}<extra></extra>",
           "hovertext": [
            "Canada",
            "Canada",
            "Canada"
           ],
           "ids": [
            "Canada",
            "Canada",
            "Canada"
           ],
           "legendgroup": "Canada",
           "marker": {
            "color": "#EF553B",
            "size": [
             31705918255,
             25301461937,
             7626994363
            ],
            "sizemode": "area",
            "sizeref": 10789250.270277778,
            "symbol": "circle"
           },
           "mode": "markers",
           "name": "Canada",
           "orientation": "v",
           "showlegend": true,
           "type": "scatter",
           "x": [
            31705918255,
            25301461937,
            7626994363
           ],
           "xaxis": "x",
           "y": {
            "bdata": "ii8+mYf3H0CKLz6Zh/cfQIovPpmH9x9A",
            "dtype": "f8"
           },
           "yaxis": "y"
          },
          {
           "customdata": {
            "bdata": "5wfnBw==",
            "dtype": "i2",
            "shape": "2, 1"
           },
           "hovertemplate": "<b>%{hovertext}</b><br><br>Export Value: $%{x:,.0f}<br>Tariff Rate: %{y:.2f}%<br>Year: %{customdata[0]}<extra></extra>",
           "hovertext": [
            "Germany",
            "Germany"
           ],
           "ids": [
            "Germany",
            "Germany"
           ],
           "legendgroup": "Germany",
           "marker": {
            "color": "#00cc96",
            "size": [
             8496591494,
             2539416813
            ],
            "sizemode": "area",
            "sizeref": 10789250.270277778,
            "symbol": "circle"
           },
           "mode": "markers",
           "name": "Germany",
           "orientation": "v",
           "showlegend": true,
           "type": "scatter",
           "x": [
            8496591494,
            2539416813
           ],
           "xaxis": "x",
           "y": {
            "bdata": "ii8+mYf3H0CKLz6Zh/cfQA==",
            "dtype": "f8"
           },
           "yaxis": "y"
          },
          {
           "customdata": {
            "bdata": "5wfnBw==",
            "dtype": "i2",
            "shape": "2, 1"
           },
           "hovertemplate": "<b>%{hovertext}</b><br><br>Export Value: $%{x:,.0f}<br>Tariff Rate: %{y:.2f}%<br>Year: %{customdata[0]}<extra></extra>",
           "hovertext": [
            "China",
            "China"
           ],
           "ids": [
            "China",
            "China"
           ],
           "legendgroup": "China",
           "marker": {
            "color": "#ab63fa",
            "size": [
             6063085338,
             2590883187
            ],
            "sizemode": "area",
            "sizeref": 10789250.270277778,
            "symbol": "circle"
           },
           "mode": "markers",
           "name": "China",
           "orientation": "v",
           "showlegend": true,
           "type": "scatter",
           "x": [
            6063085338,
            2590883187
           ],
           "xaxis": "x",
           "y": {
            "bdata": "ii8+mYf3H0CKLz6Zh/cfQA==",
            "dtype": "f8"
           },
           "yaxis": "y"
          },
          {
           "customdata": {
            "bdata": "5wfnBw==",
            "dtype": "i2",
            "shape": "2, 1"
           },
           "hovertemplate": "<b>%{hovertext}</b><br><br>Export Value: $%{x:,.0f}<br>Tariff Rate: %{y:.2f}%<br>Year: %{customdata[0]}<extra></extra>",
           "hovertext": [
            "Australia",
            "Australia"
           ],
           "ids": [
            "Australia",
            "Australia"
           ],
           "legendgroup": "Australia",
           "marker": {
            "color": "#FFA15A",
            "size": {
             "bdata": "AuSGd0+WsGU=",
             "dtype": "i4"
            },
            "sizemode": "area",
            "sizeref": 10789250.270277778,
            "symbol": "circle"
           },
           "mode": "markers",
           "name": "Australia",
           "orientation": "v",
           "showlegend": true,
           "type": "scatter",
           "x": {
            "bdata": "AuSGd0+WsGU=",
            "dtype": "i4"
           },
           "xaxis": "x",
           "y": {
            "bdata": "ii8+mYf3H0CKLz6Zh/cfQA==",
            "dtype": "f8"
           },
           "yaxis": "y"
          },
          {
           "customdata": {
            "bdata": "5wc=",
            "dtype": "i2",
            "shape": "1, 1"
           },
           "hovertemplate": "<b>%{hovertext}</b><br><br>Export Value: $%{x:,.0f}<br>Tariff Rate: %{y:.2f}%<br>Year: %{customdata[0]}<extra></extra>",
           "hovertext": [
            "United Arab Emirates"
           ],
           "ids": [
            "United Arab Emirates"
           ],
           "legendgroup": "United Arab Emirates",
           "marker": {
            "color": "#19d3f3",
            "size": [
             2166286395
            ],
            "sizemode": "area",
            "sizeref": 10789250.270277778,
            "symbol": "circle"
           },
           "mode": "markers",
           "name": "United Arab Emirates",
           "orientation": "v",
           "showlegend": true,
           "type": "scatter",
           "x": [
            2166286395
           ],
           "xaxis": "x",
           "y": {
            "bdata": "ii8+mYf3H0A=",
            "dtype": "f8"
           },
           "yaxis": "y"
          },
          {
           "customdata": {
            "bdata": "5wc=",
            "dtype": "i2",
            "shape": "1, 1"
           },
           "hovertemplate": "<b>%{hovertext}</b><br><br>Export Value: $%{x:,.0f}<br>Tariff Rate: %{y:.2f}%<br>Year: %{customdata[0]}<extra></extra>",
           "hovertext": [
            "South Korea"
           ],
           "ids": [
            "South Korea"
           ],
           "legendgroup": "South Korea",
           "marker": {
            "color": "#FF6692",
            "size": [
             2673221895
            ],
            "sizemode": "area",
            "sizeref": 10789250.270277778,
            "symbol": "circle"
           },
           "mode": "markers",
           "name": "South Korea",
           "orientation": "v",
           "showlegend": true,
           "type": "scatter",
           "x": [
            2673221895
           ],
           "xaxis": "x",
           "y": {
            "bdata": "ii8+mYf3H0A=",
            "dtype": "f8"
           },
           "yaxis": "y"
          },
          {
           "customdata": {
            "bdata": "5wc=",
            "dtype": "i2",
            "shape": "1, 1"
           },
           "hovertemplate": "<b>%{hovertext}</b><br><br>Export Value: $%{x:,.0f}<br>Tariff Rate: %{y:.2f}%<br>Year: %{customdata[0]}<extra></extra>",
           "hovertext": [
            "Saudi Arabia"
           ],
           "ids": [
            "Saudi Arabia"
           ],
           "legendgroup": "Saudi Arabia",
           "marker": {
            "color": "#B6E880",
            "size": [
             2339134865
            ],
            "sizemode": "area",
            "sizeref": 10789250.270277778,
            "symbol": "circle"
           },
           "mode": "markers",
           "name": "Saudi Arabia",
           "orientation": "v",
           "showlegend": true,
           "type": "scatter",
           "x": [
            2339134865
           ],
           "xaxis": "x",
           "y": {
            "bdata": "ii8+mYf3H0A=",
            "dtype": "f8"
           },
           "yaxis": "y"
          },
          {
           "customdata": {
            "bdata": "5wc=",
            "dtype": "i2",
            "shape": "1, 1"
           },
           "hovertemplate": "<b>%{hovertext}</b><br><br>Export Value: $%{x:,.0f}<br>Tariff Rate: %{y:.2f}%<br>Year: %{customdata[0]}<extra></extra>",
           "hovertext": [
            "Belgium"
           ],
           "ids": [
            "Belgium"
           ],
           "legendgroup": "Belgium",
           "marker": {
            "color": "#FF97FF",
            "size": [
             2304258681
            ],
            "sizemode": "area",
            "sizeref": 10789250.270277778,
            "symbol": "circle"
           },
           "mode": "markers",
           "name": "Belgium",
           "orientation": "v",
           "showlegend": true,
           "type": "scatter",
           "x": [
            2304258681
           ],
           "xaxis": "x",
           "y": {
            "bdata": "ii8+mYf3H0A=",
            "dtype": "f8"
           },
           "yaxis": "y"
          },
          {
           "customdata": {
            "bdata": "5wfnBw==",
            "dtype": "i2",
            "shape": "2, 1"
           },
           "hovertemplate": "<b>%{hovertext}</b><br><br>Export Value: $%{x:,.0f}<br>Tariff Rate: %{y:.2f}%<br>Year: %{customdata[0]}<extra></extra>",
           "hovertext": [
            "Japan",
            "Japan"
           ],
           "ids": [
            "Japan",
            "Japan"
           ],
           "legendgroup": "Japan",
           "marker": {
            "color": "#FECB52",
            "size": {
             "bdata": "Jmn6XAZBv0M=",
             "dtype": "i4"
            },
            "sizemode": "area",
            "sizeref": 10789250.270277778,
            "symbol": "circle"
           },
           "mode": "markers",
           "name": "Japan",
           "orientation": "v",
           "showlegend": true,
           "type": "scatter",
           "x": {
            "bdata": "Jmn6XAZBv0M=",
            "dtype": "i4"
           },
           "xaxis": "x",
           "y": {
            "bdata": "ii8+mYf3H0CKLz6Zh/cfQA==",
            "dtype": "f8"
           },
           "yaxis": "y"
          },
          {
           "customdata": {
            "bdata": "5wc=",
            "dtype": "i2",
            "shape": "1, 1"
           },
           "hovertemplate": "<b>%{hovertext}</b><br><br>Export Value: $%{x:,.0f}<br>Tariff Rate: %{y:.2f}%<br>Year: %{customdata[0]}<extra></extra>",
           "hovertext": [
            "United Kingdom"
           ],
           "ids": [
            "United Kingdom"
           ],
           "legendgroup": "United Kingdom",
           "marker": {
            "color": "#636efa",
            "size": {
             "bdata": "Avo/SA==",
             "dtype": "i4"
            },
            "sizemode": "area",
            "sizeref": 10789250.270277778,
            "symbol": "circle"
           },
           "mode": "markers",
           "name": "United Kingdom",
           "orientation": "v",
           "showlegend": true,
           "type": "scatter",
           "x": {
            "bdata": "Avo/SA==",
            "dtype": "i4"
           },
           "xaxis": "x",
           "y": {
            "bdata": "ii8+mYf3H0A=",
            "dtype": "f8"
           },
           "yaxis": "y"
          },
          {
           "customdata": {
            "bdata": "5wc=",
            "dtype": "i2",
            "shape": "1, 1"
           },
           "hovertemplate": "<b>%{hovertext}</b><br><br>Export Value: $%{x:,.0f}<br>Tariff Rate: %{y:.2f}%<br>Year: %{customdata[0]}<extra></extra>",
           "hovertext": [
            "Brazil"
           ],
           "ids": [
            "Brazil"
           ],
           "legendgroup": "Brazil",
           "marker": {
            "color": "#EF553B",
            "size": {
             "bdata": "txz9Rg==",
             "dtype": "i4"
            },
            "sizemode": "area",
            "sizeref": 10789250.270277778,
            "symbol": "circle"
           },
           "mode": "markers",
           "name": "Brazil",
           "orientation": "v",
           "showlegend": true,
           "type": "scatter",
           "x": {
            "bdata": "txz9Rg==",
            "dtype": "i4"
           },
           "xaxis": "x",
           "y": {
            "bdata": "ii8+mYf3H0A=",
            "dtype": "f8"
           },
           "yaxis": "y"
          },
          {
           "customdata": {
            "bdata": "5wc=",
            "dtype": "i2",
            "shape": "1, 1"
           },
           "hovertemplate": "<b>%{hovertext}</b><br><br>Export Value: $%{x:,.0f}<br>Tariff Rate: %{y:.2f}%<br>Year: %{customdata[0]}<extra></extra>",
           "hovertext": [
            "Thailand"
           ],
           "ids": [
            "Thailand"
           ],
           "legendgroup": "Thailand",
           "marker": {
            "color": "#00cc96",
            "size": {
             "bdata": "BJtZPg==",
             "dtype": "i4"
            },
            "sizemode": "area",
            "sizeref": 10789250.270277778,
            "symbol": "circle"
           },
           "mode": "markers",
           "name": "Thailand",
           "orientation": "v",
           "showlegend": true,
           "type": "scatter",
           "x": {
            "bdata": "BJtZPg==",
            "dtype": "i4"
           },
           "xaxis": "x",
           "y": {
            "bdata": "ii8+mYf3H0A=",
            "dtype": "f8"
           },
           "yaxis": "y"
          }
         ],
         "name": "2023"
        },
        {
         "data": [
          {
           "customdata": {
            "bdata": "5gfmBw==",
            "dtype": "i2",
            "shape": "2, 1"
           },
           "hovertemplate": "<b>%{hovertext}</b><br><br>Export Value: $%{x:,.0f}<br>Tariff Rate: %{y:.2f}%<br>Year: %{customdata[0]}<extra></extra>",
           "hovertext": [
            "Mexico",
            "Mexico"
           ],
           "ids": [
            "Mexico",
            "Mexico"
           ],
           "legendgroup": "Mexico",
           "marker": {
            "color": "#636efa",
            "size": [
             33202728599,
             3606171154
            ],
            "sizemode": "area",
            "sizeref": 10789250.270277778,
            "symbol": "circle"
           },
           "mode": "markers",
           "name": "Mexico",
           "orientation": "v",
           "showlegend": true,
           "type": "scatter",
           "x": [
            33202728599,
            3606171154
           ],
           "xaxis": "x",
           "y": {
            "bdata": "cT0K16NwGkBxPQrXo3AaQA==",
            "dtype": "f8"
           },
           "yaxis": "y"
          },
          {
           "customdata": {
            "bdata": "5gfmB+YH",
            "dtype": "i2",
            "shape": "3, 1"
           },
           "hovertemplate": "<b>%{hovertext}</b><br><br>Export Value: $%{x:,.0f}<br>Tariff Rate: %{y:.2f}%<br>Year: %{customdata[0]}<extra></extra>",
           "hovertext": [
            "Canada",
            "Canada",
            "Canada"
           ],
           "ids": [
            "Canada",
            "Canada",
            "Canada"
           ],
           "legendgroup": "Canada",
           "marker": {
            "color": "#EF553B",
            "size": [
             26845856308,
             25806846862,
             6567662285
            ],
            "sizemode": "area",
            "sizeref": 10789250.270277778,
            "symbol": "circle"
           },
           "mode": "markers",
           "name": "Canada",
           "orientation": "v",
           "showlegend": true,
           "type": "scatter",
           "x": [
            26845856308,
            25806846862,
            6567662285
           ],
           "xaxis": "x",
           "y": {
            "bdata": "9ihcj8L1CED2KFyPwvUIQPYoXI/C9QhA",
            "dtype": "f8"
           },
           "yaxis": "y"
          },
          {
           "customdata": {
            "bdata": "5gfmBw==",
            "dtype": "i2",
            "shape": "2, 1"
           },
           "hovertemplate": "<b>%{hovertext}</b><br><br>Export Value: $%{x:,.0f}<br>Tariff Rate: %{y:.2f}%<br>Year: %{customdata[0]}<extra></extra>",
           "hovertext": [
            "Germany",
            "Germany"
           ],
           "ids": [
            "Germany",
            "Germany"
           ],
           "legendgroup": "Germany",
           "marker": {
            "color": "#00cc96",
            "size": [
             7205388022,
             2233079487
            ],
            "sizemode": "area",
            "sizeref": 10789250.270277778,
            "symbol": "circle"
           },
           "mode": "markers",
           "name": "Germany",
           "orientation": "v",
           "showlegend": true,
           "type": "scatter",
           "x": [
            7205388022,
            2233079487
           ],
           "xaxis": "x",
           "y": {
            "bdata": "PQrXo3A9E0A9CtejcD0TQA==",
            "dtype": "f8"
           },
           "yaxis": "y"
          },
          {
           "customdata": {
            "bdata": "5gfmBw==",
            "dtype": "i2",
            "shape": "2, 1"
           },
           "hovertemplate": "<b>%{hovertext}</b><br><br>Export Value: $%{x:,.0f}<br>Tariff Rate: %{y:.2f}%<br>Year: %{customdata[0]}<extra></extra>",
           "hovertext": [
            "China",
            "China"
           ],
           "ids": [
            "China",
            "China"
           ],
           "legendgroup": "China",
           "marker": {
            "color": "#ab63fa",
            "size": [
             5024574204,
             2685859682
            ],
            "sizemode": "area",
            "sizeref": 10789250.270277778,
            "symbol": "circle"
           },
           "mode": "markers",
           "name": "China",
           "orientation": "v",
           "showlegend": true,
           "type": "scatter",
           "x": [
            5024574204,
            2685859682
           ],
           "xaxis": "x",
           "y": {
            "bdata": "cT0K16NwHEBxPQrXo3AcQA==",
            "dtype": "f8"
           },
           "yaxis": "y"
          },
          {
           "customdata": {
            "bdata": "5gfmBw==",
            "dtype": "i2",
            "shape": "2, 1"
           },
           "hovertemplate": "<b>%{hovertext}</b><br><br>Export Value: $%{x:,.0f}<br>Tariff Rate: %{y:.2f}%<br>Year: %{customdata[0]}<extra></extra>",
           "hovertext": [
            "Australia",
            "Australia"
           ],
           "ids": [
            "Australia",
            "Australia"
           ],
           "legendgroup": "Australia",
           "marker": {
            "color": "#FFA15A",
            "size": {
             "bdata": "oyHUXNFvvlg=",
             "dtype": "i4"
            },
            "sizemode": "area",
            "sizeref": 10789250.270277778,
            "symbol": "circle"
           },
           "mode": "markers",
           "name": "Australia",
           "orientation": "v",
           "showlegend": true,
           "type": "scatter",
           "x": {
            "bdata": "oyHUXNFvvlg=",
            "dtype": "i4"
           },
           "xaxis": "x",
           "y": {
            "bdata": "mpmZmZmZBUCamZmZmZkFQA==",
            "dtype": "f8"
           },
           "yaxis": "y"
          },
          {
           "customdata": {
            "bdata": "5gc=",
            "dtype": "i2",
            "shape": "1, 1"
           },
           "hovertemplate": "<b>%{hovertext}</b><br><br>Export Value: $%{x:,.0f}<br>Tariff Rate: %{y:.2f}%<br>Year: %{customdata[0]}<extra></extra>",
           "hovertext": [
            "United Arab Emirates"
           ],
           "ids": [
            "United Arab Emirates"
           ],
           "legendgroup": "United Arab Emirates",
           "marker": {
            "color": "#19d3f3",
            "size": {
             "bdata": "dVGbZA==",
             "dtype": "i4"
            },
            "sizemode": "area",
            "sizeref": 10789250.270277778,
            "symbol": "circle"
           },
           "mode": "markers",
           "name": "United Arab Emirates",
           "orientation": "v",
           "showlegend": true,
           "type": "scatter",
           "x": {
            "bdata": "dVGbZA==",
            "dtype": "i4"
           },
           "xaxis": "x",
           "y": {
            "bdata": "w/UoXI/CEkA=",
            "dtype": "f8"
           },
           "yaxis": "y"
          },
          {
           "customdata": {
            "bdata": "5gc=",
            "dtype": "i2",
            "shape": "1, 1"
           },
           "hovertemplate": "<b>%{hovertext}</b><br><br>Export Value: $%{x:,.0f}<br>Tariff Rate: %{y:.2f}%<br>Year: %{customdata[0]}<extra></extra>",
           "hovertext": [
            "South Korea"
           ],
           "ids": [
            "South Korea"
           ],
           "legendgroup": "South Korea",
           "marker": {
            "color": "#FF6692",
            "size": [
             3912035009
            ],
            "sizemode": "area",
            "sizeref": 10789250.270277778,
            "symbol": "circle"
           },
           "mode": "markers",
           "name": "South Korea",
           "orientation": "v",
           "showlegend": true,
           "type": "scatter",
           "x": [
            3912035009
           ],
           "xaxis": "x",
           "y": {
            "bdata": "UrgehevRK0A=",
            "dtype": "f8"
           },
           "yaxis": "y"
          },
          {
           "customdata": {
            "bdata": "5gc=",
            "dtype": "i2",
            "shape": "1, 1"
           },
           "hovertemplate": "<b>%{hovertext}</b><br><br>Export Value: $%{x:,.0f}<br>Tariff Rate: %{y:.2f}%<br>Year: %{customdata[0]}<extra></extra>",
           "hovertext": [
            "Saudi Arabia"
           ],
           "ids": [
            "Saudi Arabia"
           ],
           "legendgroup": "Saudi Arabia",
           "marker": {
            "color": "#B6E880",
            "size": {
             "bdata": "uokAaA==",
             "dtype": "i4"
            },
            "sizemode": "area",
            "sizeref": 10789250.270277778,
            "symbol": "circle"
           },
           "mode": "markers",
           "name": "Saudi Arabia",
           "orientation": "v",
           "showlegend": true,
           "type": "scatter",
           "x": {
            "bdata": "uokAaA==",
            "dtype": "i4"
           },
           "xaxis": "x",
           "y": {
            "bdata": "7FG4HoXrF0A=",
            "dtype": "f8"
           },
           "yaxis": "y"
          },
          {
           "customdata": {
            "bdata": "5gc=",
            "dtype": "i2",
            "shape": "1, 1"
           },
           "hovertemplate": "<b>%{hovertext}</b><br><br>Export Value: $%{x:,.0f}<br>Tariff Rate: %{y:.2f}%<br>Year: %{customdata[0]}<extra></extra>",
           "hovertext": [
            "Belgium"
           ],
           "ids": [
            "Belgium"
           ],
           "legendgroup": "Belgium",
           "marker": {
            "color": "#FF97FF",
            "size": {
             "bdata": "+F+TaQ==",
             "dtype": "i4"
            },
            "sizemode": "area",
            "sizeref": 10789250.270277778,
            "symbol": "circle"
           },
           "mode": "markers",
           "name": "Belgium",
           "orientation": "v",
           "showlegend": true,
           "type": "scatter",
           "x": {
            "bdata": "+F+TaQ==",
            "dtype": "i4"
           },
           "xaxis": "x",
           "y": {
            "bdata": "4XoUrkfhEkA=",
            "dtype": "f8"
           },
           "yaxis": "y"
          },
          {
           "customdata": {
            "bdata": "5gc=",
            "dtype": "i2",
            "shape": "1, 1"
           },
           "hovertemplate": "<b>%{hovertext}</b><br><br>Export Value: $%{x:,.0f}<br>Tariff Rate: %{y:.2f}%<br>Year: %{customdata[0]}<extra></extra>",
           "hovertext": [
            "Japan"
           ],
           "ids": [
            "Japan"
           ],
           "legendgroup": "Japan",
           "marker": {
            "color": "#FECB52",
            "size": {
             "bdata": "Vu8NXw==",
             "dtype": "i4"
            },
            "sizemode": "area",
            "sizeref": 10789250.270277778,
            "symbol": "circle"
           },
           "mode": "markers",
           "name": "Japan",
           "orientation": "v",
           "showlegend": true,
           "type": "scatter",
           "x": {
            "bdata": "Vu8NXw==",
            "dtype": "i4"
           },
           "xaxis": "x",
           "y": {
            "bdata": "mpmZmZmZEEA=",
            "dtype": "f8"
           },
           "yaxis": "y"
          },
          {
           "customdata": {
            "bdata": "5gc=",
            "dtype": "i2",
            "shape": "1, 1"
           },
           "hovertemplate": "<b>%{hovertext}</b><br><br>Export Value: $%{x:,.0f}<br>Tariff Rate: %{y:.2f}%<br>Year: %{customdata[0]}<extra></extra>",
           "hovertext": [
            "United Kingdom"
           ],
           "ids": [
            "United Kingdom"
           ],
           "legendgroup": "United Kingdom",
           "marker": {
            "color": "#636efa",
            "size": {
             "bdata": "A4XlRg==",
             "dtype": "i4"
            },
            "sizemode": "area",
            "sizeref": 10789250.270277778,
            "symbol": "circle"
           },
           "mode": "markers",
           "name": "United Kingdom",
           "orientation": "v",
           "showlegend": true,
           "type": "scatter",
           "x": {
            "bdata": "A4XlRg==",
            "dtype": "i4"
           },
           "xaxis": "x",
           "y": {
            "bdata": "ZmZmZmZmCkA=",
            "dtype": "f8"
           },
           "yaxis": "y"
          },
          {
           "customdata": {
            "bdata": "5gc=",
            "dtype": "i2",
            "shape": "1, 1"
           },
           "hovertemplate": "<b>%{hovertext}</b><br><br>Export Value: $%{x:,.0f}<br>Tariff Rate: %{y:.2f}%<br>Year: %{customdata[0]}<extra></extra>",
           "hovertext": [
            "Brazil"
           ],
           "ids": [
            "Brazil"
           ],
           "legendgroup": "Brazil",
           "marker": {
            "color": "#EF553B",
            "size": {
             "bdata": "Kh6ESw==",
             "dtype": "i4"
            },
            "sizemode": "area",
            "sizeref": 10789250.270277778,
            "symbol": "circle"
           },
           "mode": "markers",
           "name": "Brazil",
           "orientation": "v",
           "showlegend": true,
           "type": "scatter",
           "x": {
            "bdata": "Kh6ESw==",
            "dtype": "i4"
           },
           "xaxis": "x",
           "y": {
            "bdata": "CtejcD0KK0A=",
            "dtype": "f8"
           },
           "yaxis": "y"
          },
          {
           "customdata": {
            "bdata": "5gc=",
            "dtype": "i2",
            "shape": "1, 1"
           },
           "hovertemplate": "<b>%{hovertext}</b><br><br>Export Value: $%{x:,.0f}<br>Tariff Rate: %{y:.2f}%<br>Year: %{customdata[0]}<extra></extra>",
           "hovertext": [
            "Thailand"
           ],
           "ids": [
            "Thailand"
           ],
           "legendgroup": "Thailand",
           "marker": {
            "color": "#00cc96",
            "size": {
             "bdata": "4kiAMw==",
             "dtype": "i4"
            },
            "sizemode": "area",
            "sizeref": 10789250.270277778,
            "symbol": "circle"
           },
           "mode": "markers",
           "name": "Thailand",
           "orientation": "v",
           "showlegend": true,
           "type": "scatter",
           "x": {
            "bdata": "4kiAMw==",
            "dtype": "i4"
           },
           "xaxis": "x",
           "y": {
            "bdata": "pHA9CtejI0A=",
            "dtype": "f8"
           },
           "yaxis": "y"
          },
          {
           "customdata": {
            "bdata": "5gc=",
            "dtype": "i2",
            "shape": "1, 1"
           },
           "hovertemplate": "<b>%{hovertext}</b><br><br>Export Value: $%{x:,.0f}<br>Tariff Rate: %{y:.2f}%<br>Year: %{customdata[0]}<extra></extra>",
           "hovertext": [
            "India"
           ],
           "ids": [
            "India"
           ],
           "legendgroup": "India",
           "marker": {
            "color": "#ab63fa",
            "size": {
             "bdata": "A+yJLw==",
             "dtype": "i4"
            },
            "sizemode": "area",
            "sizeref": 10789250.270277778,
            "symbol": "circle"
           },
           "mode": "markers",
           "name": "India",
           "orientation": "v",
           "showlegend": true,
           "type": "scatter",
           "x": {
            "bdata": "A+yJLw==",
            "dtype": "i4"
           },
           "xaxis": "x",
           "y": {
            "bdata": "w/UoXI9CKUA=",
            "dtype": "f8"
           },
           "yaxis": "y"
          }
         ],
         "name": "2022"
        },
        {
         "data": [
          {
           "customdata": {
            "bdata": "5QflBw==",
            "dtype": "i2",
            "shape": "2, 1"
           },
           "hovertemplate": "<b>%{hovertext}</b><br><br>Export Value: $%{x:,.0f}<br>Tariff Rate: %{y:.2f}%<br>Year: %{customdata[0]}<extra></extra>",
           "hovertext": [
            "Mexico",
            "Mexico"
           ],
           "ids": [
            "Mexico",
            "Mexico"
           ],
           "legendgroup": "Mexico",
           "marker": {
            "color": "#636efa",
            "size": [
             29079110745,
             2874156753
            ],
            "sizemode": "area",
            "sizeref": 10789250.270277778,
            "symbol": "circle"
           },
           "mode": "markers",
           "name": "Mexico",
           "orientation": "v",
           "showlegend": true,
           "type": "scatter",
           "x": [
            29079110745,
            2874156753
           ],
           "xaxis": "x",
           "y": {
            "bdata": "SOF6FK5HGkBI4XoUrkcaQA==",
            "dtype": "f8"
           },
           "yaxis": "y"
          },
          {
           "customdata": {
            "bdata": "5QflB+UH",
            "dtype": "i2",
            "shape": "3, 1"
           },
           "hovertemplate": "<b>%{hovertext}</b><br><br>Export Value: $%{x:,.0f}<br>Tariff Rate: %{y:.2f}%<br>Year: %{customdata[0]}<extra></extra>",
           "hovertext": [
            "Canada",
            "Canada",
            "Canada"
           ],
           "ids": [
            "Canada",
            "Canada",
            "Canada"
           ],
           "legendgroup": "Canada",
           "marker": {
            "color": "#EF553B",
            "size": [
             23706809603,
             21569493812,
             5418459380
            ],
            "sizemode": "area",
            "sizeref": 10789250.270277778,
            "symbol": "circle"
           },
           "mode": "markers",
           "name": "Canada",
           "orientation": "v",
           "showlegend": true,
           "type": "scatter",
           "x": [
            23706809603,
            21569493812,
            5418459380
           ],
           "xaxis": "x",
           "y": {
            "bdata": "SOF6FK5HCUBI4XoUrkcJQEjhehSuRwlA",
            "dtype": "f8"
           },
           "yaxis": "y"
          },
          {
           "customdata": {
            "bdata": "5QflBw==",
            "dtype": "i2",
            "shape": "2, 1"
           },
           "hovertemplate": "<b>%{hovertext}</b><br><br>Export Value: $%{x:,.0f}<br>Tariff Rate: %{y:.2f}%<br>Year: %{customdata[0]}<extra></extra>",
           "hovertext": [
            "Germany",
            "Germany"
           ],
           "ids": [
            "Germany",
            "Germany"
           ],
           "legendgroup": "Germany",
           "marker": {
            "color": "#00cc96",
            "size": [
             7258458199,
             1998615746
            ],
            "sizemode": "area",
            "sizeref": 10789250.270277778,
            "symbol": "circle"
           },
           "mode": "markers",
           "name": "Germany",
           "orientation": "v",
           "showlegend": true,
           "type": "scatter",
           "x": [
            7258458199,
            1998615746
           ],
           "xaxis": "x",
           "y": {
            "bdata": "CtejcD0KFEAK16NwPQoUQA==",
            "dtype": "f8"
           },
           "yaxis": "y"
          },
          {
           "customdata": {
            "bdata": "5QflBw==",
            "dtype": "i2",
            "shape": "2, 1"
           },
           "hovertemplate": "<b>%{hovertext}</b><br><br>Export Value: $%{x:,.0f}<br>Tariff Rate: %{y:.2f}%<br>Year: %{customdata[0]}<extra></extra>",
           "hovertext": [
            "China",
            "China"
           ],
           "ids": [
            "China",
            "China"
           ],
           "legendgroup": "China",
           "marker": {
            "color": "#ab63fa",
            "size": [
             6278802297,
             3015488759
            ],
            "sizemode": "area",
            "sizeref": 10789250.270277778,
            "symbol": "circle"
           },
           "mode": "markers",
           "name": "China",
           "orientation": "v",
           "showlegend": true,
           "type": "scatter",
           "x": [
            6278802297,
            3015488759
           ],
           "xaxis": "x",
           "y": {
            "bdata": "16NwPQrXHEDXo3A9CtccQA==",
            "dtype": "f8"
           },
           "yaxis": "y"
          },
          {
           "customdata": {
            "bdata": "5QflBw==",
            "dtype": "i2",
            "shape": "2, 1"
           },
           "hovertemplate": "<b>%{hovertext}</b><br><br>Export Value: $%{x:,.0f}<br>Tariff Rate: %{y:.2f}%<br>Year: %{customdata[0]}<extra></extra>",
           "hovertext": [
            "Australia",
            "Australia"
           ],
           "ids": [
            "Australia",
            "Australia"
           ],
           "legendgroup": "Australia",
           "marker": {
            "color": "#FFA15A",
            "size": {
             "bdata": "FCR4VZn34FM=",
             "dtype": "i4"
            },
            "sizemode": "area",
            "sizeref": 10789250.270277778,
            "symbol": "circle"
           },
           "mode": "markers",
           "name": "Australia",
           "orientation": "v",
           "showlegend": true,
           "type": "scatter",
           "x": {
            "bdata": "FCR4VZn34FM=",
            "dtype": "i4"
           },
           "xaxis": "x",
           "y": {
            "bdata": "16NwPQrXBUDXo3A9CtcFQA==",
            "dtype": "f8"
           },
           "yaxis": "y"
          },
          {
           "customdata": {
            "bdata": "5Qc=",
            "dtype": "i2",
            "shape": "1, 1"
           },
           "hovertemplate": "<b>%{hovertext}</b><br><br>Export Value: $%{x:,.0f}<br>Tariff Rate: %{y:.2f}%<br>Year: %{customdata[0]}<extra></extra>",
           "hovertext": [
            "United Arab Emirates"
           ],
           "ids": [
            "United Arab Emirates"
           ],
           "legendgroup": "United Arab Emirates",
           "marker": {
            "color": "#19d3f3",
            "size": {
             "bdata": "e8jQPw==",
             "dtype": "i4"
            },
            "sizemode": "area",
            "sizeref": 10789250.270277778,
            "symbol": "circle"
           },
           "mode": "markers",
           "name": "United Arab Emirates",
           "orientation": "v",
           "showlegend": true,
           "type": "scatter",
           "x": {
            "bdata": "e8jQPw==",
            "dtype": "i4"
           },
           "xaxis": "x",
           "y": {
            "bdata": "w/UoXI/CEkA=",
            "dtype": "f8"
           },
           "yaxis": "y"
          },
          {
           "customdata": {
            "bdata": "5Qc=",
            "dtype": "i2",
            "shape": "1, 1"
           },
           "hovertemplate": "<b>%{hovertext}</b><br><br>Export Value: $%{x:,.0f}<br>Tariff Rate: %{y:.2f}%<br>Year: %{customdata[0]}<extra></extra>",
           "hovertext": [
            "South Korea"
           ],
           "ids": [
            "South Korea"
           ],
           "legendgroup": "South Korea",
           "marker": {
            "color": "#FF6692",
            "size": [
             3163180996
            ],
            "sizemode": "area",
            "sizeref": 10789250.270277778,
            "symbol": "circle"
           },
           "mode": "markers",
           "name": "South Korea",
           "orientation": "v",
           "showlegend": true,
           "type": "scatter",
           "x": [
            3163180996
           ],
           "xaxis": "x",
           "y": {
            "bdata": "SOF6FK7HK0A=",
            "dtype": "f8"
           },
           "yaxis": "y"
          },
          {
           "customdata": {
            "bdata": "5Qc=",
            "dtype": "i2",
            "shape": "1, 1"
           },
           "hovertemplate": "<b>%{hovertext}</b><br><br>Export Value: $%{x:,.0f}<br>Tariff Rate: %{y:.2f}%<br>Year: %{customdata[0]}<extra></extra>",
           "hovertext": [
            "Saudi Arabia"
           ],
           "ids": [
            "Saudi Arabia"
           ],
           "legendgroup": "Saudi Arabia",
           "marker": {
            "color": "#B6E880",
            "size": {
             "bdata": "ljaeVw==",
             "dtype": "i4"
            },
            "sizemode": "area",
            "sizeref": 10789250.270277778,
            "symbol": "circle"
           },
           "mode": "markers",
           "name": "Saudi Arabia",
           "orientation": "v",
           "showlegend": true,
           "type": "scatter",
           "x": {
            "bdata": "ljaeVw==",
            "dtype": "i4"
           },
           "xaxis": "x",
           "y": {
            "bdata": "7FG4HoXrF0A=",
            "dtype": "f8"
           },
           "yaxis": "y"
          },
          {
           "customdata": {
            "bdata": "5Qc=",
            "dtype": "i2",
            "shape": "1, 1"
           },
           "hovertemplate": "<b>%{hovertext}</b><br><br>Export Value: $%{x:,.0f}<br>Tariff Rate: %{y:.2f}%<br>Year: %{customdata[0]}<extra></extra>",
           "hovertext": [
            "Belgium"
           ],
           "ids": [
            "Belgium"
           ],
           "legendgroup": "Belgium",
           "marker": {
            "color": "#FF97FF",
            "size": [
             2870048017
            ],
            "sizemode": "area",
            "sizeref": 10789250.270277778,
            "symbol": "circle"
           },
           "mode": "markers",
           "name": "Belgium",
           "orientation": "v",
           "showlegend": true,
           "type": "scatter",
           "x": [
            2870048017
           ],
           "xaxis": "x",
           "y": {
            "bdata": "hetRuB6FE0A=",
            "dtype": "f8"
           },
           "yaxis": "y"
          },
          {
           "customdata": {
            "bdata": "5Qc=",
            "dtype": "i2",
            "shape": "1, 1"
           },
           "hovertemplate": "<b>%{hovertext}</b><br><br>Export Value: $%{x:,.0f}<br>Tariff Rate: %{y:.2f}%<br>Year: %{customdata[0]}<extra></extra>",
           "hovertext": [
            "Japan"
           ],
           "ids": [
            "Japan"
           ],
           "legendgroup": "Japan",
           "marker": {
            "color": "#FECB52",
            "size": {
             "bdata": "iOKUUg==",
             "dtype": "i4"
            },
            "sizemode": "area",
            "sizeref": 10789250.270277778,
            "symbol": "circle"
           },
           "mode": "markers",
           "name": "Japan",
           "orientation": "v",
           "showlegend": true,
           "type": "scatter",
           "x": {
            "bdata": "iOKUUg==",
            "dtype": "i4"
           },
           "xaxis": "x",
           "y": {
            "bdata": "FK5H4XoUEkA=",
            "dtype": "f8"
           },
           "yaxis": "y"
          },
          {
           "customdata": {
            "bdata": "5Qc=",
            "dtype": "i2",
            "shape": "1, 1"
           },
           "hovertemplate": "<b>%{hovertext}</b><br><br>Export Value: $%{x:,.0f}<br>Tariff Rate: %{y:.2f}%<br>Year: %{customdata[0]}<extra></extra>",
           "hovertext": [
            "United Kingdom"
           ],
           "ids": [
            "United Kingdom"
           ],
           "legendgroup": "United Kingdom",
           "marker": {
            "color": "#636efa",
            "size": {
             "bdata": "D+jJQg==",
             "dtype": "i4"
            },
            "sizemode": "area",
            "sizeref": 10789250.270277778,
            "symbol": "circle"
           },
           "mode": "markers",
           "name": "United Kingdom",
           "orientation": "v",
           "showlegend": true,
           "type": "scatter",
           "x": {
            "bdata": "D+jJQg==",
            "dtype": "i4"
           },
           "xaxis": "x",
           "y": {
            "bdata": "cT0K16NwC0A=",
            "dtype": "f8"
           },
           "yaxis": "y"
          },
          {
           "customdata": {
            "bdata": "5Qc=",
            "dtype": "i2",
            "shape": "1, 1"
           },
           "hovertemplate": "<b>%{hovertext}</b><br><br>Export Value: $%{x:,.0f}<br>Tariff Rate: %{y:.2f}%<br>Year: %{customdata[0]}<extra></extra>",
           "hovertext": [
            "Brazil"
           ],
           "ids": [
            "Brazil"
           ],
           "legendgroup": "Brazil",
           "marker": {
            "color": "#EF553B",
            "size": {
             "bdata": "KoCdRg==",
             "dtype": "i4"
            },
            "sizemode": "area",
            "sizeref": 10789250.270277778,
            "symbol": "circle"
           },
           "mode": "markers",
           "name": "Brazil",
           "orientation": "v",
           "showlegend": true,
           "type": "scatter",
           "x": {
            "bdata": "KoCdRg==",
            "dtype": "i4"
           },
           "xaxis": "x",
           "y": {
            "bdata": "uB6F61E4K0A=",
            "dtype": "f8"
           },
           "yaxis": "y"
          },
          {
           "customdata": {
            "bdata": "5Qc=",
            "dtype": "i2",
            "shape": "1, 1"
           },
           "hovertemplate": "<b>%{hovertext}</b><br><br>Export Value: $%{x:,.0f}<br>Tariff Rate: %{y:.2f}%<br>Year: %{customdata[0]}<extra></extra>",
           "hovertext": [
            "Thailand"
           ],
           "ids": [
            "Thailand"
           ],
           "legendgroup": "Thailand",
           "marker": {
            "color": "#00cc96",
            "size": {
             "bdata": "gCqCMg==",
             "dtype": "i4"
            },
            "sizemode": "area",
            "sizeref": 10789250.270277778,
            "symbol": "circle"
           },
           "mode": "markers",
           "name": "Thailand",
           "orientation": "v",
           "showlegend": true,
           "type": "scatter",
           "x": {
            "bdata": "gCqCMg==",
            "dtype": "i4"
           },
           "xaxis": "x",
           "y": {
            "bdata": "CtejcD0KJ0A=",
            "dtype": "f8"
           },
           "yaxis": "y"
          },
          {
           "customdata": {
            "bdata": "5Qc=",
            "dtype": "i2",
            "shape": "1, 1"
           },
           "hovertemplate": "<b>%{hovertext}</b><br><br>Export Value: $%{x:,.0f}<br>Tariff Rate: %{y:.2f}%<br>Year: %{customdata[0]}<extra></extra>",
           "hovertext": [
            "South Africa"
           ],
           "ids": [
            "South Africa"
           ],
           "legendgroup": "South Africa",
           "marker": {
            "color": "#FFA15A",
            "size": {
             "bdata": "YK3lKg==",
             "dtype": "i4"
            },
            "sizemode": "area",
            "sizeref": 10789250.270277778,
            "symbol": "circle"
           },
           "mode": "markers",
           "name": "South Africa",
           "orientation": "v",
           "showlegend": true,
           "type": "scatter",
           "x": {
            "bdata": "YK3lKg==",
            "dtype": "i4"
           },
           "xaxis": "x",
           "y": {
            "bdata": "MzMzMzMzIEA=",
            "dtype": "f8"
           },
           "yaxis": "y"
          }
         ],
         "name": "2021"
        },
        {
         "data": [
          {
           "customdata": {
            "bdata": "5AfkBw==",
            "dtype": "i2",
            "shape": "2, 1"
           },
           "hovertemplate": "<b>%{hovertext}</b><br><br>Export Value: $%{x:,.0f}<br>Tariff Rate: %{y:.2f}%<br>Year: %{customdata[0]}<extra></extra>",
           "hovertext": [
            "Mexico",
            "Mexico"
           ],
           "ids": [
            "Mexico",
            "Mexico"
           ],
           "legendgroup": "Mexico",
           "marker": {
            "color": "#636efa",
            "size": [
             25537022508,
             2088545024
            ],
            "sizemode": "area",
            "sizeref": 10789250.270277778,
            "symbol": "circle"
           },
           "mode": "markers",
           "name": "Mexico",
           "orientation": "v",
           "showlegend": true,
           "type": "scatter",
           "x": [
            25537022508,
            2088545024
           ],
           "xaxis": "x",
           "y": {
            "bdata": "H4XrUbgeGkAfhetRuB4aQA==",
            "dtype": "f8"
           },
           "yaxis": "y"
          },
          {
           "customdata": {
            "bdata": "5AfkB+QH",
            "dtype": "i2",
            "shape": "3, 1"
           },
           "hovertemplate": "<b>%{hovertext}</b><br><br>Export Value: $%{x:,.0f}<br>Tariff Rate: %{y:.2f}%<br>Year: %{customdata[0]}<extra></extra>",
           "hovertext": [
            "Canada",
            "Canada",
            "Canada"
           ],
           "ids": [
            "Canada",
            "Canada",
            "Canada"
           ],
           "legendgroup": "Canada",
           "marker": {
            "color": "#EF553B",
            "size": [
             21979574184,
             18595463497,
             4498169550
            ],
            "sizemode": "area",
            "sizeref": 10789250.270277778,
            "symbol": "circle"
           },
           "mode": "markers",
           "name": "Canada",
           "orientation": "v",
           "showlegend": true,
           "type": "scatter",
           "x": [
            21979574184,
            18595463497,
            4498169550
           ],
           "xaxis": "x",
           "y": {
            "bdata": "7FG4HoXrCUDsUbgehesJQOxRuB6F6wlA",
            "dtype": "f8"
           },
           "yaxis": "y"
          },
          {
           "customdata": {
            "bdata": "5AfkBw==",
            "dtype": "i2",
            "shape": "2, 1"
           },
           "hovertemplate": "<b>%{hovertext}</b><br><br>Export Value: $%{x:,.0f}<br>Tariff Rate: %{y:.2f}%<br>Year: %{customdata[0]}<extra></extra>",
           "hovertext": [
            "Germany",
            "Germany"
           ],
           "ids": [
            "Germany",
            "Germany"
           ],
           "legendgroup": "Germany",
           "marker": {
            "color": "#00cc96",
            "size": [
             6498904046,
             1760177517
            ],
            "sizemode": "area",
            "sizeref": 10789250.270277778,
            "symbol": "circle"
           },
           "mode": "markers",
           "name": "Germany",
           "orientation": "v",
           "showlegend": true,
           "type": "scatter",
           "x": [
            6498904046,
            1760177517
           ],
           "xaxis": "x",
           "y": {
            "bdata": "16NwPQrXE0DXo3A9CtcTQA==",
            "dtype": "f8"
           },
           "yaxis": "y"
          },
          {
           "customdata": {
            "bdata": "5AfkBw==",
            "dtype": "i2",
            "shape": "2, 1"
           },
           "hovertemplate": "<b>%{hovertext}</b><br><br>Export Value: $%{x:,.0f}<br>Tariff Rate: %{y:.2f}%<br>Year: %{customdata[0]}<extra></extra>",
           "hovertext": [
            "China",
            "China"
           ],
           "ids": [
            "China",
            "China"
           ],
           "legendgroup": "China",
           "marker": {
            "color": "#ab63fa",
            "size": [
             5957317167,
             3427468841
            ],
            "sizemode": "area",
            "sizeref": 10789250.270277778,
            "symbol": "circle"
           },
           "mode": "markers",
           "name": "China",
           "orientation": "v",
           "showlegend": true,
           "type": "scatter",
           "x": [
            5957317167,
            3427468841
           ],
           "xaxis": "x",
           "y": {
            "bdata": "9ihcj8L1HED2KFyPwvUcQA==",
            "dtype": "f8"
           },
           "yaxis": "y"
          },
          {
           "customdata": {
            "bdata": "5AfkBw==",
            "dtype": "i2",
            "shape": "2, 1"
           },
           "hovertemplate": "<b>%{hovertext}</b><br><br>Export Value: $%{x:,.0f}<br>Tariff Rate: %{y:.2f}%<br>Year: %{customdata[0]}<extra></extra>",
           "hovertext": [
            "Australia",
            "Australia"
           ],
           "ids": [
            "Australia",
            "Australia"
           ],
           "legendgroup": "Australia",
           "marker": {
            "color": "#FFA15A",
            "size": {
             "bdata": "lVISRjVhEzo=",
             "dtype": "i4"
            },
            "sizemode": "area",
            "sizeref": 10789250.270277778,
            "symbol": "circle"
           },
           "mode": "markers",
           "name": "Australia",
           "orientation": "v",
           "showlegend": true,
           "type": "scatter",
           "x": {
            "bdata": "lVISRjVhEzo=",
            "dtype": "i4"
           },
           "xaxis": "x",
           "y": {
            "bdata": "16NwPQrXBUDXo3A9CtcFQA==",
            "dtype": "f8"
           },
           "yaxis": "y"
          },
          {
           "customdata": {
            "bdata": "5Ac=",
            "dtype": "i2",
            "shape": "1, 1"
           },
           "hovertemplate": "<b>%{hovertext}</b><br><br>Export Value: $%{x:,.0f}<br>Tariff Rate: %{y:.2f}%<br>Year: %{customdata[0]}<extra></extra>",
           "hovertext": [
            "South Korea"
           ],
           "ids": [
            "South Korea"
           ],
           "legendgroup": "South Korea",
           "marker": {
            "color": "#FF6692",
            "size": [
             2550843049
            ],
            "sizemode": "area",
            "sizeref": 10789250.270277778,
            "symbol": "circle"
           },
           "mode": "markers",
           "name": "South Korea",
           "orientation": "v",
           "showlegend": true,
           "type": "scatter",
           "x": [
            2550843049
           ],
           "xaxis": "x",
           "y": {
            "bdata": "XI/C9ShcLEA=",
            "dtype": "f8"
           },
           "yaxis": "y"
          },
          {
           "customdata": {
            "bdata": "5Ac=",
            "dtype": "i2",
            "shape": "1, 1"
           },
           "hovertemplate": "<b>%{hovertext}</b><br><br>Export Value: $%{x:,.0f}<br>Tariff Rate: %{y:.2f}%<br>Year: %{customdata[0]}<extra></extra>",
           "hovertext": [
            "Saudi Arabia"
           ],
           "ids": [
            "Saudi Arabia"
           ],
           "legendgroup": "Saudi Arabia",
           "marker": {
            "color": "#B6E880",
            "size": {
             "bdata": "31weSg==",
             "dtype": "i4"
            },
            "sizemode": "area",
            "sizeref": 10789250.270277778,
            "symbol": "circle"
           },
           "mode": "markers",
           "name": "Saudi Arabia",
           "orientation": "v",
           "showlegend": true,
           "type": "scatter",
           "x": {
            "bdata": "31weSg==",
            "dtype": "i4"
           },
           "xaxis": "x",
           "y": {
            "bdata": "7FG4HoXrF0A=",
            "dtype": "f8"
           },
           "yaxis": "y"
          },
          {
           "customdata": {
            "bdata": "5Ac=",
            "dtype": "i2",
            "shape": "1, 1"
           },
           "hovertemplate": "<b>%{hovertext}</b><br><br>Export Value: $%{x:,.0f}<br>Tariff Rate: %{y:.2f}%<br>Year: %{customdata[0]}<extra></extra>",
           "hovertext": [
            "Belgium"
           ],
           "ids": [
            "Belgium"
           ],
           "legendgroup": "Belgium",
           "marker": {
            "color": "#FF97FF",
            "size": [
             3648827771
            ],
            "sizemode": "area",
            "sizeref": 10789250.270277778,
            "symbol": "circle"
           },
           "mode": "markers",
           "name": "Belgium",
           "orientation": "v",
           "showlegend": true,
           "type": "scatter",
           "x": [
            3648827771
           ],
           "xaxis": "x",
           "y": {
            "bdata": "16NwPQrXEkA=",
            "dtype": "f8"
           },
           "yaxis": "y"
          },
          {
           "customdata": {
            "bdata": "5Ac=",
            "dtype": "i2",
            "shape": "1, 1"
           },
           "hovertemplate": "<b>%{hovertext}</b><br><br>Export Value: $%{x:,.0f}<br>Tariff Rate: %{y:.2f}%<br>Year: %{customdata[0]}<extra></extra>",
           "hovertext": [
            "Japan"
           ],
           "ids": [
            "Japan"
           ],
           "legendgroup": "Japan",
           "marker": {
            "color": "#FECB52",
            "size": {
             "bdata": "9MGNRA==",
             "dtype": "i4"
            },
            "sizemode": "area",
            "sizeref": 10789250.270277778,
            "symbol": "circle"
           },
           "mode": "markers",
           "name": "Japan",
           "orientation": "v",
           "showlegend": true,
           "type": "scatter",
           "x": {
            "bdata": "9MGNRA==",
            "dtype": "i4"
           },
           "xaxis": "x",
           "y": {
            "bdata": "16NwPQrXEUA=",
            "dtype": "f8"
           },
           "yaxis": "y"
          },
          {
           "customdata": {
            "bdata": "5AfkBw==",
            "dtype": "i2",
            "shape": "2, 1"
           },
           "hovertemplate": "<b>%{hovertext}</b><br><br>Export Value: $%{x:,.0f}<br>Tariff Rate: %{y:.2f}%<br>Year: %{customdata[0]}<extra></extra>",
           "hovertext": [
            "United Kingdom",
            "United Kingdom"
           ],
           "ids": [
            "United Kingdom",
            "United Kingdom"
           ],
           "legendgroup": "United Kingdom",
           "marker": {
            "color": "#636efa",
            "size": {
             "bdata": "ILWtTbb7SkY=",
             "dtype": "i4"
            },
            "sizemode": "area",
            "sizeref": 10789250.270277778,
            "symbol": "circle"
           },
           "mode": "markers",
           "name": "United Kingdom",
           "orientation": "v",
           "showlegend": true,
           "type": "scatter",
           "x": {
            "bdata": "ILWtTbb7SkY=",
            "dtype": "i4"
           },
           "xaxis": "x",
           "y": {
            "bdata": "4XoUrkfhEkDhehSuR+ESQA==",
            "dtype": "f8"
           },
           "yaxis": "y"
          },
          {
           "customdata": {
            "bdata": "5Ac=",
            "dtype": "i2",
            "shape": "1, 1"
           },
           "hovertemplate": "<b>%{hovertext}</b><br><br>Export Value: $%{x:,.0f}<br>Tariff Rate: %{y:.2f}%<br>Year: %{customdata[0]}<extra></extra>",
           "hovertext": [
            "Brazil"
           ],
           "ids": [
            "Brazil"
           ],
           "legendgroup": "Brazil",
           "marker": {
            "color": "#EF553B",
            "size": {
             "bdata": "vaLyNQ==",
             "dtype": "i4"
            },
            "sizemode": "area",
            "sizeref": 10789250.270277778,
            "symbol": "circle"
           },
           "mode": "markers",
           "name": "Brazil",
           "orientation": "v",
           "showlegend": true,
           "type": "scatter",
           "x": {
            "bdata": "vaLyNQ==",
            "dtype": "i4"
           },
           "xaxis": "x",
           "y": {
            "bdata": "MzMzMzMzK0A=",
            "dtype": "f8"
           },
           "yaxis": "y"
          },
          {
           "customdata": {
            "bdata": "5Ac=",
            "dtype": "i2",
            "shape": "1, 1"
           },
           "hovertemplate": "<b>%{hovertext}</b><br><br>Export Value: $%{x:,.0f}<br>Tariff Rate: %{y:.2f}%<br>Year: %{customdata[0]}<extra></extra>",
           "hovertext": [
            "Netherlands"
           ],
           "ids": [
            "Netherlands"
           ],
           "legendgroup": "Netherlands",
           "marker": {
            "color": "#19d3f3",
            "size": {
             "bdata": "ILS/PQ==",
             "dtype": "i4"
            },
            "sizemode": "area",
            "sizeref": 10789250.270277778,
            "symbol": "circle"
           },
           "mode": "markers",
           "name": "Netherlands",
           "orientation": "v",
           "showlegend": true,
           "type": "scatter",
           "x": {
            "bdata": "ILS/PQ==",
            "dtype": "i4"
           },
           "xaxis": "x",
           "y": {
            "bdata": "16NwPQrXE0A=",
            "dtype": "f8"
           },
           "yaxis": "y"
          },
          {
           "customdata": {
            "bdata": "5Ac=",
            "dtype": "i2",
            "shape": "1, 1"
           },
           "hovertemplate": "<b>%{hovertext}</b><br><br>Export Value: $%{x:,.0f}<br>Tariff Rate: %{y:.2f}%<br>Year: %{customdata[0]}<extra></extra>",
           "hovertext": [
            "Spain"
           ],
           "ids": [
            "Spain"
           ],
           "legendgroup": "Spain",
           "marker": {
            "color": "#FF6692",
            "size": {
             "bdata": "UsreOg==",
             "dtype": "i4"
            },
            "sizemode": "area",
            "sizeref": 10789250.270277778,
            "symbol": "circle"
           },
           "mode": "markers",
           "name": "Spain",
           "orientation": "v",
           "showlegend": true,
           "type": "scatter",
           "x": {
            "bdata": "UsreOg==",
            "dtype": "i4"
           },
           "xaxis": "x",
           "y": {
            "bdata": "4XoUrkfhEkA=",
            "dtype": "f8"
           },
           "yaxis": "y"
          }
         ],
         "name": "2020"
        },
        {
         "data": [
          {
           "customdata": {
            "bdata": "4wfjBw==",
            "dtype": "i2",
            "shape": "2, 1"
           },
           "hovertemplate": "<b>%{hovertext}</b><br><br>Export Value: $%{x:,.0f}<br>Tariff Rate: %{y:.2f}%<br>Year: %{customdata[0]}<extra></extra>",
           "hovertext": [
            "Mexico",
            "Mexico"
           ],
           "ids": [
            "Mexico",
            "Mexico"
           ],
           "legendgroup": "Mexico",
           "marker": {
            "color": "#636efa",
            "size": [
             33351165102,
             3227885847
            ],
            "sizemode": "area",
            "sizeref": 10789250.270277778,
            "symbol": "circle"
           },
           "mode": "markers",
           "name": "Mexico",
           "orientation": "v",
           "showlegend": true,
           "type": "scatter",
           "x": [
            33351165102,
            3227885847
           ],
           "xaxis": "x",
           "y": {
            "bdata": "9ihcj8L1GUD2KFyPwvUZQA==",
            "dtype": "f8"
           },
           "yaxis": "y"
          },
          {
           "customdata": {
            "bdata": "4wfjB+MH",
            "dtype": "i2",
            "shape": "3, 1"
           },
           "hovertemplate": "<b>%{hovertext}</b><br><br>Export Value: $%{x:,.0f}<br>Tariff Rate: %{y:.2f}%<br>Year: %{customdata[0]}<extra></extra>",
           "hovertext": [
            "Canada",
            "Canada",
            "Canada"
           ],
           "ids": [
            "Canada",
            "Canada",
            "Canada"
           ],
           "legendgroup": "Canada",
           "marker": {
            "color": "#EF553B",
            "size": [
             29422005117,
             23932510142,
             6427563893
            ],
            "sizemode": "area",
            "sizeref": 10789250.270277778,
            "symbol": "circle"
           },
           "mode": "markers",
           "name": "Canada",
           "orientation": "v",
           "showlegend": true,
           "type": "scatter",
           "x": [
            29422005117,
            23932510142,
            6427563893
           ],
           "xaxis": "x",
           "y": {
            "bdata": "zczMzMzMEEDNzMzMzMwQQM3MzMzMzBBA",
            "dtype": "f8"
           },
           "yaxis": "y"
          },
          {
           "customdata": {
            "bdata": "4wfjBw==",
            "dtype": "i2",
            "shape": "2, 1"
           },
           "hovertemplate": "<b>%{hovertext}</b><br><br>Export Value: $%{x:,.0f}<br>Tariff Rate: %{y:.2f}%<br>Year: %{customdata[0]}<extra></extra>",
           "hovertext": [
            "Germany",
            "Germany"
           ],
           "ids": [
            "Germany",
            "Germany"
           ],
           "legendgroup": "Germany",
           "marker": {
            "color": "#00cc96",
            "size": [
             6651557562,
             2182973052
            ],
            "sizemode": "area",
            "sizeref": 10789250.270277778,
            "symbol": "circle"
           },
           "mode": "markers",
           "name": "Germany",
           "orientation": "v",
           "showlegend": true,
           "type": "scatter",
           "x": [
            6651557562,
            2182973052
           ],
           "xaxis": "x",
           "y": {
            "bdata": "XI/C9ShcFEBcj8L1KFwUQA==",
            "dtype": "f8"
           },
           "yaxis": "y"
          },
          {
           "customdata": {
            "bdata": "4wfjBw==",
            "dtype": "i2",
            "shape": "2, 1"
           },
           "hovertemplate": "<b>%{hovertext}</b><br><br>Export Value: $%{x:,.0f}<br>Tariff Rate: %{y:.2f}%<br>Year: %{customdata[0]}<extra></extra>",
           "hovertext": [
            "China",
            "China"
           ],
           "ids": [
            "China",
            "China"
           ],
           "legendgroup": "China",
           "marker": {
            "color": "#ab63fa",
            "size": [
             6984084476,
             2587226278
            ],
            "sizemode": "area",
            "sizeref": 10789250.270277778,
            "symbol": "circle"
           },
           "mode": "markers",
           "name": "China",
           "orientation": "v",
           "showlegend": true,
           "type": "scatter",
           "x": [
            6984084476,
            2587226278
           ],
           "xaxis": "x",
           "y": {
            "bdata": "pHA9CtejHECkcD0K16McQA==",
            "dtype": "f8"
           },
           "yaxis": "y"
          },
          {
           "customdata": {
            "bdata": "4wfjBw==",
            "dtype": "i2",
            "shape": "2, 1"
           },
           "hovertemplate": "<b>%{hovertext}</b><br><br>Export Value: $%{x:,.0f}<br>Tariff Rate: %{y:.2f}%<br>Year: %{customdata[0]}<extra></extra>",
           "hovertext": [
            "Australia",
            "Australia"
           ],
           "ids": [
            "Australia",
            "Australia"
           ],
           "legendgroup": "Australia",
           "marker": {
            "color": "#FFA15A",
            "size": {
             "bdata": "V4v3Y4dDe00=",
             "dtype": "i4"
            },
            "sizemode": "area",
            "sizeref": 10789250.270277778,
            "symbol": "circle"
           },
           "mode": "markers",
           "name": "Australia",
           "orientation": "v",
           "showlegend": true,
           "type": "scatter",
           "x": {
            "bdata": "V4v3Y4dDe00=",
            "dtype": "i4"
           },
           "xaxis": "x",
           "y": {
            "bdata": "w/UoXI/CBUDD9Shcj8IFQA==",
            "dtype": "f8"
           },
           "yaxis": "y"
          },
          {
           "customdata": {
            "bdata": "4wc=",
            "dtype": "i2",
            "shape": "1, 1"
           },
           "hovertemplate": "<b>%{hovertext}</b><br><br>Export Value: $%{x:,.0f}<br>Tariff Rate: %{y:.2f}%<br>Year: %{customdata[0]}<extra></extra>",
           "hovertext": [
            "United Arab Emirates"
           ],
           "ids": [
            "United Arab Emirates"
           ],
           "legendgroup": "United Arab Emirates",
           "marker": {
            "color": "#19d3f3",
            "size": {
             "bdata": "l2/TRA==",
             "dtype": "i4"
            },
            "sizemode": "area",
            "sizeref": 10789250.270277778,
            "symbol": "circle"
           },
           "mode": "markers",
           "name": "United Arab Emirates",
           "orientation": "v",
           "showlegend": true,
           "type": "scatter",
           "x": {
            "bdata": "l2/TRA==",
            "dtype": "i4"
           },
           "xaxis": "x",
           "y": {
            "bdata": "9ihcj8L1EkA=",
            "dtype": "f8"
           },
           "yaxis": "y"
          },
          {
           "customdata": {
            "bdata": "4wc=",
            "dtype": "i2",
            "shape": "1, 1"
           },
           "hovertemplate": "<b>%{hovertext}</b><br><br>Export Value: $%{x:,.0f}<br>Tariff Rate: %{y:.2f}%<br>Year: %{customdata[0]}<extra></extra>",
           "hovertext": [
            "South Korea"
           ],
           "ids": [
            "South Korea"
           ],
           "legendgroup": "South Korea",
           "marker": {
            "color": "#FF6692",
            "size": {
             "bdata": "XrGxcA==",
             "dtype": "i4"
            },
            "sizemode": "area",
            "sizeref": 10789250.270277778,
            "symbol": "circle"
           },
           "mode": "markers",
           "name": "South Korea",
           "orientation": "v",
           "showlegend": true,
           "type": "scatter",
           "x": {
            "bdata": "XrGxcA==",
            "dtype": "i4"
           },
           "xaxis": "x",
           "y": {
            "bdata": "MzMzMzOzK0A=",
            "dtype": "f8"
           },
           "yaxis": "y"
          },
          {
           "customdata": {
            "bdata": "4wc=",
            "dtype": "i2",
            "shape": "1, 1"
           },
           "hovertemplate": "<b>%{hovertext}</b><br><br>Export Value: $%{x:,.0f}<br>Tariff Rate: %{y:.2f}%<br>Year: %{customdata[0]}<extra></extra>",
           "hovertext": [
            "Saudi Arabia"
           ],
           "ids": [
            "Saudi Arabia"
           ],
           "legendgroup": "Saudi Arabia",
           "marker": {
            "color": "#B6E880",
            "size": {
             "bdata": "6TNvWg==",
             "dtype": "i4"
            },
            "sizemode": "area",
            "sizeref": 10789250.270277778,
            "symbol": "circle"
           },
           "mode": "markers",
           "name": "Saudi Arabia",
           "orientation": "v",
           "showlegend": true,
           "type": "scatter",
           "x": {
            "bdata": "6TNvWg==",
            "dtype": "i4"
           },
           "xaxis": "x",
           "y": {
            "bdata": "XI/C9ShcFkA=",
            "dtype": "f8"
           },
           "yaxis": "y"
          },
          {
           "customdata": {
            "bdata": "4wc=",
            "dtype": "i2",
            "shape": "1, 1"
           },
           "hovertemplate": "<b>%{hovertext}</b><br><br>Export Value: $%{x:,.0f}<br>Tariff Rate: %{y:.2f}%<br>Year: %{customdata[0]}<extra></extra>",
           "hovertext": [
            "Belgium"
           ],
           "ids": [
            "Belgium"
           ],
           "legendgroup": "Belgium",
           "marker": {
            "color": "#FF97FF",
            "size": [
             4893851817
            ],
            "sizemode": "area",
            "sizeref": 10789250.270277778,
            "symbol": "circle"
           },
           "mode": "markers",
           "name": "Belgium",
           "orientation": "v",
           "showlegend": true,
           "type": "scatter",
           "x": [
            4893851817
           ],
           "xaxis": "x",
           "y": {
            "bdata": "FK5H4XoUE0A=",
            "dtype": "f8"
           },
           "yaxis": "y"
          },
          {
           "customdata": {
            "bdata": "4wc=",
            "dtype": "i2",
            "shape": "1, 1"
           },
           "hovertemplate": "<b>%{hovertext}</b><br><br>Export Value: $%{x:,.0f}<br>Tariff Rate: %{y:.2f}%<br>Year: %{customdata[0]}<extra></extra>",
           "hovertext": [
            "Japan"
           ],
           "ids": [
            "Japan"
           ],
           "legendgroup": "Japan",
           "marker": {
            "color": "#FECB52",
            "size": {
             "bdata": "CwdIXA==",
             "dtype": "i4"
            },
            "sizemode": "area",
            "sizeref": 10789250.270277778,
            "symbol": "circle"
           },
           "mode": "markers",
           "name": "Japan",
           "orientation": "v",
           "showlegend": true,
           "type": "scatter",
           "x": {
            "bdata": "CwdIXA==",
            "dtype": "i4"
           },
           "xaxis": "x",
           "y": {
            "bdata": "rkfhehSuH0A=",
            "dtype": "f8"
           },
           "yaxis": "y"
          },
          {
           "customdata": {
            "bdata": "4wfjBw==",
            "dtype": "i2",
            "shape": "2, 1"
           },
           "hovertemplate": "<b>%{hovertext}</b><br><br>Export Value: $%{x:,.0f}<br>Tariff Rate: %{y:.2f}%<br>Year: %{customdata[0]}<extra></extra>",
           "hovertext": [
            "United Kingdom",
            "United Kingdom"
           ],
           "ids": [
            "United Kingdom",
            "United Kingdom"
           ],
           "legendgroup": "United Kingdom",
           "marker": {
            "color": "#636efa",
            "size": {
             "bdata": "mpuodHIKAEY=",
             "dtype": "i4"
            },
            "sizemode": "area",
            "sizeref": 10789250.270277778,
            "symbol": "circle"
           },
           "mode": "markers",
           "name": "United Kingdom",
           "orientation": "v",
           "showlegend": true,
           "type": "scatter",
           "x": {
            "bdata": "mpuodHIKAEY=",
            "dtype": "i4"
           },
           "xaxis": "x",
           "y": {
            "bdata": "H4XrUbgeE0AfhetRuB4TQA==",
            "dtype": "f8"
           },
           "yaxis": "y"
          },
          {
           "customdata": {
            "bdata": "4wc=",
            "dtype": "i2",
            "shape": "1, 1"
           },
           "hovertemplate": "<b>%{hovertext}</b><br><br>Export Value: $%{x:,.0f}<br>Tariff Rate: %{y:.2f}%<br>Year: %{customdata[0]}<extra></extra>",
           "hovertext": [
            "Brazil"
           ],
           "ids": [
            "Brazil"
           ],
           "legendgroup": "Brazil",
           "marker": {
            "color": "#EF553B",
            "size": {
             "bdata": "GZl6Qw==",
             "dtype": "i4"
            },
            "sizemode": "area",
            "sizeref": 10789250.270277778,
            "symbol": "circle"
           },
           "mode": "markers",
           "name": "Brazil",
           "orientation": "v",
           "showlegend": true,
           "type": "scatter",
           "x": {
            "bdata": "GZl6Qw==",
            "dtype": "i4"
           },
           "xaxis": "x",
           "y": {
            "bdata": "uB6F61E4K0A=",
            "dtype": "f8"
           },
           "yaxis": "y"
          },
          {
           "customdata": {
            "bdata": "4wc=",
            "dtype": "i2",
            "shape": "1, 1"
           },
           "hovertemplate": "<b>%{hovertext}</b><br><br>Export Value: $%{x:,.0f}<br>Tariff Rate: %{y:.2f}%<br>Year: %{customdata[0]}<extra></extra>",
           "hovertext": [
            "Netherlands"
           ],
           "ids": [
            "Netherlands"
           ],
           "legendgroup": "Netherlands",
           "marker": {
            "color": "#19d3f3",
            "size": {
             "bdata": "2DzQSA==",
             "dtype": "i4"
            },
            "sizemode": "area",
            "sizeref": 10789250.270277778,
            "symbol": "circle"
           },
           "mode": "markers",
           "name": "Netherlands",
           "orientation": "v",
           "showlegend": true,
           "type": "scatter",
           "x": {
            "bdata": "2DzQSA==",
            "dtype": "i4"
           },
           "xaxis": "x",
           "y": {
            "bdata": "AAAAAAAAFEA=",
            "dtype": "f8"
           },
           "yaxis": "y"
          }
         ],
         "name": "2019"
        },
        {
         "data": [
          {
           "customdata": {
            "bdata": "4gfiBw==",
            "dtype": "i2",
            "shape": "2, 1"
           },
           "hovertemplate": "<b>%{hovertext}</b><br><br>Export Value: $%{x:,.0f}<br>Tariff Rate: %{y:.2f}%<br>Year: %{customdata[0]}<extra></extra>",
           "hovertext": [
            "Mexico",
            "Mexico"
           ],
           "ids": [
            "Mexico",
            "Mexico"
           ],
           "legendgroup": "Mexico",
           "marker": {
            "color": "#636efa",
            "size": [
             32762586770,
             3254667672
            ],
            "sizemode": "area",
            "sizeref": 10789250.270277778,
            "symbol": "circle"
           },
           "mode": "markers",
           "name": "Mexico",
           "orientation": "v",
           "showlegend": true,
           "type": "scatter",
           "x": [
            32762586770,
            3254667672
           ],
           "xaxis": "x",
           "y": {
            "bdata": "zczMzMzMGUDNzMzMzMwZQA==",
            "dtype": "f8"
           },
           "yaxis": "y"
          },
          {
           "customdata": {
            "bdata": "4gfiB+IH",
            "dtype": "i2",
            "shape": "3, 1"
           },
           "hovertemplate": "<b>%{hovertext}</b><br><br>Export Value: $%{x:,.0f}<br>Tariff Rate: %{y:.2f}%<br>Year: %{customdata[0]}<extra></extra>",
           "hovertext": [
            "Canada",
            "Canada",
            "Canada"
           ],
           "ids": [
            "Canada",
            "Canada",
            "Canada"
           ],
           "legendgroup": "Canada",
           "marker": {
            "color": "#EF553B",
            "size": [
             30749813818,
             22743027693,
             6239555595
            ],
            "sizemode": "area",
            "sizeref": 10789250.270277778,
            "symbol": "circle"
           },
           "mode": "markers",
           "name": "Canada",
           "orientation": "v",
           "showlegend": true,
           "type": "scatter",
           "x": [
            30749813818,
            22743027693,
            6239555595
           ],
           "xaxis": "x",
           "y": {
            "bdata": "FK5H4XoUCkAUrkfhehQKQBSuR+F6FApA",
            "dtype": "f8"
           },
           "yaxis": "y"
          },
          {
           "customdata": {
            "bdata": "4gfiBw==",
            "dtype": "i2",
            "shape": "2, 1"
           },
           "hovertemplate": "<b>%{hovertext}</b><br><br>Export Value: $%{x:,.0f}<br>Tariff Rate: %{y:.2f}%<br>Year: %{customdata[0]}<extra></extra>",
           "hovertext": [
            "Germany",
            "Germany"
           ],
           "ids": [
            "Germany",
            "Germany"
           ],
           "legendgroup": "Germany",
           "marker": {
            "color": "#00cc96",
            "size": [
             5416613521,
             2510446944
            ],
            "sizemode": "area",
            "sizeref": 10789250.270277778,
            "symbol": "circle"
           },
           "mode": "markers",
           "name": "Germany",
           "orientation": "v",
           "showlegend": true,
           "type": "scatter",
           "x": [
            5416613521,
            2510446944
           ],
           "xaxis": "x",
           "y": {
            "bdata": "MzMzMzMzFEAzMzMzMzMUQA==",
            "dtype": "f8"
           },
           "yaxis": "y"
          },
          {
           "customdata": {
            "bdata": "4gfiBw==",
            "dtype": "i2",
            "shape": "2, 1"
           },
           "hovertemplate": "<b>%{hovertext}</b><br><br>Export Value: $%{x:,.0f}<br>Tariff Rate: %{y:.2f}%<br>Year: %{customdata[0]}<extra></extra>",
           "hovertext": [
            "China",
            "China"
           ],
           "ids": [
            "China",
            "China"
           ],
           "legendgroup": "China",
           "marker": {
            "color": "#ab63fa",
            "size": [
             6238289558,
             3661971653
            ],
            "sizemode": "area",
            "sizeref": 10789250.270277778,
            "symbol": "circle"
           },
           "mode": "markers",
           "name": "China",
           "orientation": "v",
           "showlegend": true,
           "type": "scatter",
           "x": [
            6238289558,
            3661971653
           ],
           "xaxis": "x",
           "y": {
            "bdata": "AAAAAACAI0AAAAAAAIAjQA==",
            "dtype": "f8"
           },
           "yaxis": "y"
          },
          {
           "customdata": {
            "bdata": "4gfiBw==",
            "dtype": "i2",
            "shape": "2, 1"
           },
           "hovertemplate": "<b>%{hovertext}</b><br><br>Export Value: $%{x:,.0f}<br>Tariff Rate: %{y:.2f}%<br>Year: %{customdata[0]}<extra></extra>",
           "hovertext": [
            "Australia",
            "Australia"
           ],
           "ids": [
            "Australia",
            "Australia"
           ],
           "legendgroup": "Australia",
           "marker": {
            "color": "#FFA15A",
            "size": {
             "bdata": "zl5ZVpPhrU0=",
             "dtype": "i4"
            },
            "sizemode": "area",
            "sizeref": 10789250.270277778,
            "symbol": "circle"
           },
           "mode": "markers",
           "name": "Australia",
           "orientation": "v",
           "showlegend": true,
           "type": "scatter",
           "x": {
            "bdata": "zl5ZVpPhrU0=",
            "dtype": "i4"
           },
           "xaxis": "x",
           "y": {
            "bdata": "ZmZmZmZmBkBmZmZmZmYGQA==",
            "dtype": "f8"
           },
           "yaxis": "y"
          },
          {
           "customdata": {
            "bdata": "4gc=",
            "dtype": "i2",
            "shape": "1, 1"
           },
           "hovertemplate": "<b>%{hovertext}</b><br><br>Export Value: $%{x:,.0f}<br>Tariff Rate: %{y:.2f}%<br>Year: %{customdata[0]}<extra></extra>",
           "hovertext": [
            "United Arab Emirates"
           ],
           "ids": [
            "United Arab Emirates"
           ],
           "legendgroup": "United Arab Emirates",
           "marker": {
            "color": "#19d3f3",
            "size": {
             "bdata": "STs0Sg==",
             "dtype": "i4"
            },
            "sizemode": "area",
            "sizeref": 10789250.270277778,
            "symbol": "circle"
           },
           "mode": "markers",
           "name": "United Arab Emirates",
           "orientation": "v",
           "showlegend": true,
           "type": "scatter",
           "x": {
            "bdata": "STs0Sg==",
            "dtype": "i4"
           },
           "xaxis": "x",
           "y": {
            "bdata": "4XoUrkfhFEA=",
            "dtype": "f8"
           },
           "yaxis": "y"
          },
          {
           "customdata": {
            "bdata": "4gc=",
            "dtype": "i2",
            "shape": "1, 1"
           },
           "hovertemplate": "<b>%{hovertext}</b><br><br>Export Value: $%{x:,.0f}<br>Tariff Rate: %{y:.2f}%<br>Year: %{customdata[0]}<extra></extra>",
           "hovertext": [
            "South Korea"
           ],
           "ids": [
            "South Korea"
           ],
           "legendgroup": "South Korea",
           "marker": {
            "color": "#FF6692",
            "size": {
             "bdata": "sRmAYg==",
             "dtype": "i4"
            },
            "sizemode": "area",
            "sizeref": 10789250.270277778,
            "symbol": "circle"
           },
           "mode": "markers",
           "name": "South Korea",
           "orientation": "v",
           "showlegend": true,
           "type": "scatter",
           "x": {
            "bdata": "sRmAYg==",
            "dtype": "i4"
           },
           "xaxis": "x",
           "y": {
            "bdata": "CtejcD0KK0A=",
            "dtype": "f8"
           },
           "yaxis": "y"
          },
          {
           "customdata": {
            "bdata": "4gc=",
            "dtype": "i2",
            "shape": "1, 1"
           },
           "hovertemplate": "<b>%{hovertext}</b><br><br>Export Value: $%{x:,.0f}<br>Tariff Rate: %{y:.2f}%<br>Year: %{customdata[0]}<extra></extra>",
           "hovertext": [
            "Saudi Arabia"
           ],
           "ids": [
            "Saudi Arabia"
           ],
           "legendgroup": "Saudi Arabia",
           "marker": {
            "color": "#B6E880",
            "size": {
             "bdata": "tqbXaQ==",
             "dtype": "i4"
            },
            "sizemode": "area",
            "sizeref": 10789250.270277778,
            "symbol": "circle"
           },
           "mode": "markers",
           "name": "Saudi Arabia",
           "orientation": "v",
           "showlegend": true,
           "type": "scatter",
           "x": {
            "bdata": "tqbXaQ==",
            "dtype": "i4"
           },
           "xaxis": "x",
           "y": {
            "bdata": "zczMzMzMFEA=",
            "dtype": "f8"
           },
           "yaxis": "y"
          },
          {
           "customdata": {
            "bdata": "4gc=",
            "dtype": "i2",
            "shape": "1, 1"
           },
           "hovertemplate": "<b>%{hovertext}</b><br><br>Export Value: $%{x:,.0f}<br>Tariff Rate: %{y:.2f}%<br>Year: %{customdata[0]}<extra></extra>",
           "hovertext": [
            "Japan"
           ],
           "ids": [
            "Japan"
           ],
           "legendgroup": "Japan",
           "marker": {
            "color": "#FECB52",
            "size": {
             "bdata": "zrjocg==",
             "dtype": "i4"
            },
            "sizemode": "area",
            "sizeref": 10789250.270277778,
            "symbol": "circle"
           },
           "mode": "markers",
           "name": "Japan",
           "orientation": "v",
           "showlegend": true,
           "type": "scatter",
           "x": {
            "bdata": "zrjocg==",
            "dtype": "i4"
           },
           "xaxis": "x",
           "y": {
            "bdata": "CtejcD0KE0A=",
            "dtype": "f8"
           },
           "yaxis": "y"
          },
          {
           "customdata": {
            "bdata": "4gfiBw==",
            "dtype": "i2",
            "shape": "2, 1"
           },
           "hovertemplate": "<b>%{hovertext}</b><br><br>Export Value: $%{x:,.0f}<br>Tariff Rate: %{y:.2f}%<br>Year: %{customdata[0]}<extra></extra>",
           "hovertext": [
            "United Kingdom",
            "United Kingdom"
           ],
           "ids": [
            "United Kingdom",
            "United Kingdom"
           ],
           "legendgroup": "United Kingdom",
           "marker": {
            "color": "#636efa",
            "size": {
             "bdata": "VnfWejqjs0w=",
             "dtype": "i4"
            },
            "sizemode": "area",
            "sizeref": 10789250.270277778,
            "symbol": "circle"
           },
           "mode": "markers",
           "name": "United Kingdom",
           "orientation": "v",
           "showlegend": true,
           "type": "scatter",
           "x": {
            "bdata": "VnfWejqjs0w=",
            "dtype": "i4"
           },
           "xaxis": "x",
           "y": {
            "bdata": "CtejcD0KE0AK16NwPQoTQA==",
            "dtype": "f8"
           },
           "yaxis": "y"
          },
          {
           "customdata": {
            "bdata": "4gc=",
            "dtype": "i2",
            "shape": "1, 1"
           },
           "hovertemplate": "<b>%{hovertext}</b><br><br>Export Value: $%{x:,.0f}<br>Tariff Rate: %{y:.2f}%<br>Year: %{customdata[0]}<extra></extra>",
           "hovertext": [
            "Brazil"
           ],
           "ids": [
            "Brazil"
           ],
           "legendgroup": "Brazil",
           "marker": {
            "color": "#EF553B",
            "size": {
             "bdata": "OBZISQ==",
             "dtype": "i4"
            },
            "sizemode": "area",
            "sizeref": 10789250.270277778,
            "symbol": "circle"
           },
           "mode": "markers",
           "name": "Brazil",
           "orientation": "v",
           "showlegend": true,
           "type": "scatter",
           "x": {
            "bdata": "OBZISQ==",
            "dtype": "i4"
           },
           "xaxis": "x",
           "y": {
            "bdata": "XI/C9ShcK0A=",
            "dtype": "f8"
           },
           "yaxis": "y"
          },
          {
           "customdata": {
            "bdata": "4gc=",
            "dtype": "i2",
            "shape": "1, 1"
           },
           "hovertemplate": "<b>%{hovertext}</b><br><br>Export Value: $%{x:,.0f}<br>Tariff Rate: %{y:.2f}%<br>Year: %{customdata[0]}<extra></extra>",
           "hovertext": [
            "Netherlands"
           ],
           "ids": [
            "Netherlands"
           ],
           "legendgroup": "Netherlands",
           "marker": {
            "color": "#19d3f3",
            "size": {
             "bdata": "gyhBZA==",
             "dtype": "i4"
            },
            "sizemode": "area",
            "sizeref": 10789250.270277778,
            "symbol": "circle"
           },
           "mode": "markers",
           "name": "Netherlands",
           "orientation": "v",
           "showlegend": true,
           "type": "scatter",
           "x": {
            "bdata": "gyhBZA==",
            "dtype": "i4"
           },
           "xaxis": "x",
           "y": {
            "bdata": "FK5H4XoUFEA=",
            "dtype": "f8"
           },
           "yaxis": "y"
          },
          {
           "customdata": {
            "bdata": "4gc=",
            "dtype": "i2",
            "shape": "1, 1"
           },
           "hovertemplate": "<b>%{hovertext}</b><br><br>Export Value: $%{x:,.0f}<br>Tariff Rate: %{y:.2f}%<br>Year: %{customdata[0]}<extra></extra>",
           "hovertext": [
            "Italy"
           ],
           "ids": [
            "Italy"
           ],
           "legendgroup": "Italy",
           "marker": {
            "color": "#B6E880",
            "size": {
             "bdata": "GtnjMQ==",
             "dtype": "i4"
            },
            "sizemode": "area",
            "sizeref": 10789250.270277778,
            "symbol": "circle"
           },
           "mode": "markers",
           "name": "Italy",
           "orientation": "v",
           "showlegend": true,
           "type": "scatter",
           "x": {
            "bdata": "GtnjMQ==",
            "dtype": "i4"
           },
           "xaxis": "x",
           "y": {
            "bdata": "zczMzMzMEEA=",
            "dtype": "f8"
           },
           "yaxis": "y"
          }
         ],
         "name": "2018"
        },
        {
         "data": [
          {
           "customdata": {
            "bdata": "4QfhBw==",
            "dtype": "i2",
            "shape": "2, 1"
           },
           "hovertemplate": "<b>%{hovertext}</b><br><br>Export Value: $%{x:,.0f}<br>Tariff Rate: %{y:.2f}%<br>Year: %{customdata[0]}<extra></extra>",
           "hovertext": [
            "Mexico",
            "Mexico"
           ],
           "ids": [
            "Mexico",
            "Mexico"
           ],
           "legendgroup": "Mexico",
           "marker": {
            "color": "#636efa",
            "size": [
             30293476225,
             3449264042
            ],
            "sizemode": "area",
            "sizeref": 10789250.270277778,
            "symbol": "circle"
           },
           "mode": "markers",
           "name": "Mexico",
           "orientation": "v",
           "showlegend": true,
           "type": "scatter",
           "x": [
            30293476225,
            3449264042
           ],
           "xaxis": "x",
           "y": {
            "bdata": "XI/C9ShcGkBcj8L1KFwaQA==",
            "dtype": "f8"
           },
           "yaxis": "y"
          },
          {
           "customdata": {
            "bdata": "4QfhB+EH",
            "dtype": "i2",
            "shape": "3, 1"
           },
           "hovertemplate": "<b>%{hovertext}</b><br><br>Export Value: $%{x:,.0f}<br>Tariff Rate: %{y:.2f}%<br>Year: %{customdata[0]}<extra></extra>",
           "hovertext": [
            "Canada",
            "Canada",
            "Canada"
           ],
           "ids": [
            "Canada",
            "Canada",
            "Canada"
           ],
           "legendgroup": "Canada",
           "marker": {
            "color": "#EF553B",
            "size": [
             31683450146,
             23537578145,
             4926195306
            ],
            "sizemode": "area",
            "sizeref": 10789250.270277778,
            "symbol": "circle"
           },
           "mode": "markers",
           "name": "Canada",
           "orientation": "v",
           "showlegend": true,
           "type": "scatter",
           "x": [
            31683450146,
            23537578145,
            4926195306
           ],
           "xaxis": "x",
           "y": {
            "bdata": "rkfhehSuCUCuR+F6FK4JQK5H4XoUrglA",
            "dtype": "f8"
           },
           "yaxis": "y"
          },
          {
           "customdata": {
            "bdata": "4QfhBw==",
            "dtype": "i2",
            "shape": "2, 1"
           },
           "hovertemplate": "<b>%{hovertext}</b><br><br>Export Value: $%{x:,.0f}<br>Tariff Rate: %{y:.2f}%<br>Year: %{customdata[0]}<extra></extra>",
           "hovertext": [
            "Germany",
            "Germany"
           ],
           "ids": [
            "Germany",
            "Germany"
           ],
           "legendgroup": "Germany",
           "marker": {
            "color": "#00cc96",
            "size": [
             5721504301,
             2410629208
            ],
            "sizemode": "area",
            "sizeref": 10789250.270277778,
            "symbol": "circle"
           },
           "mode": "markers",
           "name": "Germany",
           "orientation": "v",
           "showlegend": true,
           "type": "scatter",
           "x": [
            5721504301,
            2410629208
           ],
           "xaxis": "x",
           "y": {
            "bdata": "7FG4HoXrFEDsUbgehesUQA==",
            "dtype": "f8"
           },
           "yaxis": "y"
          },
          {
           "customdata": {
            "bdata": "4QfhBw==",
            "dtype": "i2",
            "shape": "2, 1"
           },
           "hovertemplate": "<b>%{hovertext}</b><br><br>Export Value: $%{x:,.0f}<br>Tariff Rate: %{y:.2f}%<br>Year: %{customdata[0]}<extra></extra>",
           "hovertext": [
            "China",
            "China"
           ],
           "ids": [
            "China",
            "China"
           ],
           "legendgroup": "China",
           "marker": {
            "color": "#ab63fa",
            "size": [
             9526202379,
             3579444167
            ],
            "sizemode": "area",
            "sizeref": 10789250.270277778,
            "symbol": "circle"
           },
           "mode": "markers",
           "name": "China",
           "orientation": "v",
           "showlegend": true,
           "type": "scatter",
           "x": [
            9526202379,
            3579444167
           ],
           "xaxis": "x",
           "y": {
            "bdata": "9ihcj8J1JUD2KFyPwnUlQA==",
            "dtype": "f8"
           },
           "yaxis": "y"
          },
          {
           "customdata": {
            "bdata": "4QfhBw==",
            "dtype": "i2",
            "shape": "2, 1"
           },
           "hovertemplate": "<b>%{hovertext}</b><br><br>Export Value: $%{x:,.0f}<br>Tariff Rate: %{y:.2f}%<br>Year: %{customdata[0]}<extra></extra>",
           "hovertext": [
            "Australia",
            "Australia"
           ],
           "ids": [
            "Australia",
            "Australia"
           ],
           "legendgroup": "Australia",
           "marker": {
            "color": "#FFA15A",
            "size": {
             "bdata": "YoDkX9ECuEo=",
             "dtype": "i4"
            },
            "sizemode": "area",
            "sizeref": 10789250.270277778,
            "symbol": "circle"
           },
           "mode": "markers",
           "name": "Australia",
           "orientation": "v",
           "showlegend": true,
           "type": "scatter",
           "x": {
            "bdata": "YoDkX9ECuEo=",
            "dtype": "i4"
           },
           "xaxis": "x",
           "y": {
            "bdata": "PQrXo3A9BkA9CtejcD0GQA==",
            "dtype": "f8"
           },
           "yaxis": "y"
          },
          {
           "customdata": {
            "bdata": "4Qc=",
            "dtype": "i2",
            "shape": "1, 1"
           },
           "hovertemplate": "<b>%{hovertext}</b><br><br>Export Value: $%{x:,.0f}<br>Tariff Rate: %{y:.2f}%<br>Year: %{customdata[0]}<extra></extra>",
           "hovertext": [
            "United Arab Emirates"
           ],
           "ids": [
            "United Arab Emirates"
           ],
           "legendgroup": "United Arab Emirates",
           "marker": {
            "color": "#19d3f3",
            "size": {
             "bdata": "h19sUQ==",
             "dtype": "i4"
            },
            "sizemode": "area",
            "sizeref": 10789250.270277778,
            "symbol": "circle"
           },
           "mode": "markers",
           "name": "United Arab Emirates",
           "orientation": "v",
           "showlegend": true,
           "type": "scatter",
           "x": {
            "bdata": "h19sUQ==",
            "dtype": "i4"
           },
           "xaxis": "x",
           "y": {
            "bdata": "AAAAAAAAFUA=",
            "dtype": "f8"
           },
           "yaxis": "y"
          },
          {
           "customdata": {
            "bdata": "4QfhBw==",
            "dtype": "i2",
            "shape": "2, 1"
           },
           "hovertemplate": "<b>%{hovertext}</b><br><br>Export Value: $%{x:,.0f}<br>Tariff Rate: %{y:.2f}%<br>Year: %{customdata[0]}<extra></extra>",
           "hovertext": [
            "South Korea",
            "South Korea"
           ],
           "ids": [
            "South Korea",
            "South Korea"
           ],
           "legendgroup": "South Korea",
           "marker": {
            "color": "#FF6692",
            "size": {
             "bdata": "Bz9EWhUU9DU=",
             "dtype": "i4"
            },
            "sizemode": "area",
            "sizeref": 10789250.270277778,
            "symbol": "circle"
           },
           "mode": "markers",
           "name": "South Korea",
           "orientation": "v",
           "showlegend": true,
           "type": "scatter",
           "x": {
            "bdata": "Bz9EWhUU9DU=",
            "dtype": "i4"
           },
           "xaxis": "x",
           "y": {
            "bdata": "j8L1KFwPK0CPwvUoXA8rQA==",
            "dtype": "f8"
           },
           "yaxis": "y"
          },
          {
           "customdata": {
            "bdata": "4Qc=",
            "dtype": "i2",
            "shape": "1, 1"
           },
           "hovertemplate": "<b>%{hovertext}</b><br><br>Export Value: $%{x:,.0f}<br>Tariff Rate: %{y:.2f}%<br>Year: %{customdata[0]}<extra></extra>",
           "hovertext": [
            "Saudi Arabia"
           ],
           "ids": [
            "Saudi Arabia"
           ],
           "legendgroup": "Saudi Arabia",
           "marker": {
            "color": "#B6E880",
            "size": {
             "bdata": "teZvYw==",
             "dtype": "i4"
            },
            "sizemode": "area",
            "sizeref": 10789250.270277778,
            "symbol": "circle"
           },
           "mode": "markers",
           "name": "Saudi Arabia",
           "orientation": "v",
           "showlegend": true,
           "type": "scatter",
           "x": {
            "bdata": "teZvYw==",
            "dtype": "i4"
           },
           "xaxis": "x",
           "y": {
            "bdata": "PQrXo3A9E0A=",
            "dtype": "f8"
           },
           "yaxis": "y"
          },
          {
           "customdata": {
            "bdata": "4Qc=",
            "dtype": "i2",
            "shape": "1, 1"
           },
           "hovertemplate": "<b>%{hovertext}</b><br><br>Export Value: $%{x:,.0f}<br>Tariff Rate: %{y:.2f}%<br>Year: %{customdata[0]}<extra></extra>",
           "hovertext": [
            "Japan"
           ],
           "ids": [
            "Japan"
           ],
           "legendgroup": "Japan",
           "marker": {
            "color": "#FECB52",
            "size": {
             "bdata": "z3O4aw==",
             "dtype": "i4"
            },
            "sizemode": "area",
            "sizeref": 10789250.270277778,
            "symbol": "circle"
           },
           "mode": "markers",
           "name": "Japan",
           "orientation": "v",
           "showlegend": true,
           "type": "scatter",
           "x": {
            "bdata": "z3O4aw==",
            "dtype": "i4"
           },
           "xaxis": "x",
           "y": {
            "bdata": "hetRuB6FEkA=",
            "dtype": "f8"
           },
           "yaxis": "y"
          },
          {
           "customdata": {
            "bdata": "4QfhBw==",
            "dtype": "i2",
            "shape": "2, 1"
           },
           "hovertemplate": "<b>%{hovertext}</b><br><br>Export Value: $%{x:,.0f}<br>Tariff Rate: %{y:.2f}%<br>Year: %{customdata[0]}<extra></extra>",
           "hovertext": [
            "United Kingdom",
            "United Kingdom"
           ],
           "ids": [
            "United Kingdom",
            "United Kingdom"
           ],
           "legendgroup": "United Kingdom",
           "marker": {
            "color": "#636efa",
            "size": {
             "bdata": "R6lJY3Jwal0=",
             "dtype": "i4"
            },
            "sizemode": "area",
            "sizeref": 10789250.270277778,
            "symbol": "circle"
           },
           "mode": "markers",
           "name": "United Kingdom",
           "orientation": "v",
           "showlegend": true,
           "type": "scatter",
           "x": {
            "bdata": "R6lJY3Jwal0=",
            "dtype": "i4"
           },
           "xaxis": "x",
           "y": {
            "bdata": "SOF6FK5HE0BI4XoUrkcTQA==",
            "dtype": "f8"
           },
           "yaxis": "y"
          },
          {
           "customdata": {
            "bdata": "4Qc=",
            "dtype": "i2",
            "shape": "1, 1"
           },
           "hovertemplate": "<b>%{hovertext}</b><br><br>Export Value: $%{x:,.0f}<br>Tariff Rate: %{y:.2f}%<br>Year: %{customdata[0]}<extra></extra>",
           "hovertext": [
            "Brazil"
           ],
           "ids": [
            "Brazil"
           ],
           "legendgroup": "Brazil",
           "marker": {
            "color": "#EF553B",
            "size": [
             2151894655
            ],
            "sizemode": "area",
            "sizeref": 10789250.270277778,
            "symbol": "circle"
           },
           "mode": "markers",
           "name": "Brazil",
           "orientation": "v",
           "showlegend": true,
           "type": "scatter",
           "x": [
            2151894655
           ],
           "xaxis": "x",
           "y": {
            "bdata": "MzMzMzMzK0A=",
            "dtype": "f8"
           },
           "yaxis": "y"
          },
          {
           "customdata": {
            "bdata": "4Qc=",
            "dtype": "i2",
            "shape": "1, 1"
           },
           "hovertemplate": "<b>%{hovertext}</b><br><br>Export Value: $%{x:,.0f}<br>Tariff Rate: %{y:.2f}%<br>Year: %{customdata[0]}<extra></extra>",
           "hovertext": [
            "Netherlands"
           ],
           "ids": [
            "Netherlands"
           ],
           "legendgroup": "Netherlands",
           "marker": {
            "color": "#19d3f3",
            "size": {
             "bdata": "S3/0WA==",
             "dtype": "i4"
            },
            "sizemode": "area",
            "sizeref": 10789250.270277778,
            "symbol": "circle"
           },
           "mode": "markers",
           "name": "Netherlands",
           "orientation": "v",
           "showlegend": true,
           "type": "scatter",
           "x": {
            "bdata": "S3/0WA==",
            "dtype": "i4"
           },
           "xaxis": "x",
           "y": {
            "bdata": "mpmZmZmZE0A=",
            "dtype": "f8"
           },
           "yaxis": "y"
          }
         ],
         "name": "2017"
        },
        {
         "data": [
          {
           "customdata": {
            "bdata": "4AfgBw==",
            "dtype": "i2",
            "shape": "2, 1"
           },
           "hovertemplate": "<b>%{hovertext}</b><br><br>Export Value: $%{x:,.0f}<br>Tariff Rate: %{y:.2f}%<br>Year: %{customdata[0]}<extra></extra>",
           "hovertext": [
            "Mexico",
            "Mexico"
           ],
           "ids": [
            "Mexico",
            "Mexico"
           ],
           "legendgroup": "Mexico",
           "marker": {
            "color": "#636efa",
            "size": [
             28853002029,
             3604195477
            ],
            "sizemode": "area",
            "sizeref": 10789250.270277778,
            "symbol": "circle"
           },
           "mode": "markers",
           "name": "Mexico",
           "orientation": "v",
           "showlegend": true,
           "type": "scatter",
           "x": [
            28853002029,
            3604195477
           ],
           "xaxis": "x",
           "y": {
            "bdata": "mpmZmZmZGkCamZmZmZkaQA==",
            "dtype": "f8"
           },
           "yaxis": "y"
          },
          {
           "customdata": {
            "bdata": "4AfgB+AH",
            "dtype": "i2",
            "shape": "3, 1"
           },
           "hovertemplate": "<b>%{hovertext}</b><br><br>Export Value: $%{x:,.0f}<br>Tariff Rate: %{y:.2f}%<br>Year: %{customdata[0]}<extra></extra>",
           "hovertext": [
            "Canada",
            "Canada",
            "Canada"
           ],
           "ids": [
            "Canada",
            "Canada",
            "Canada"
           ],
           "legendgroup": "Canada",
           "marker": {
            "color": "#EF553B",
            "size": [
             31123213547,
             22206354040,
             3960625475
            ],
            "sizemode": "area",
            "sizeref": 10789250.270277778,
            "symbol": "circle"
           },
           "mode": "markers",
           "name": "Canada",
           "orientation": "v",
           "showlegend": true,
           "type": "scatter",
           "x": [
            31123213547,
            22206354040,
            3960625475
           ],
           "xaxis": "x",
           "y": {
            "bdata": "j8L1KFyPCkCPwvUoXI8KQI/C9ShcjwpA",
            "dtype": "f8"
           },
           "yaxis": "y"
          },
          {
           "customdata": {
            "bdata": "4AfgBw==",
            "dtype": "i2",
            "shape": "2, 1"
           },
           "hovertemplate": "<b>%{hovertext}</b><br><br>Export Value: $%{x:,.0f}<br>Tariff Rate: %{y:.2f}%<br>Year: %{customdata[0]}<extra></extra>",
           "hovertext": [
            "Germany",
            "Germany"
           ],
           "ids": [
            "Germany",
            "Germany"
           ],
           "legendgroup": "Germany",
           "marker": {
            "color": "#00cc96",
            "size": [
             6356555766,
             2166246857
            ],
            "sizemode": "area",
            "sizeref": 10789250.270277778,
            "symbol": "circle"
           },
           "mode": "markers",
           "name": "Germany",
           "orientation": "v",
           "showlegend": true,
           "type": "scatter",
           "x": [
            6356555766,
            2166246857
           ],
           "xaxis": "x",
           "y": {
            "bdata": "mpmZmZmZFECamZmZmZkUQA==",
            "dtype": "f8"
           },
           "yaxis": "y"
          },
          {
           "customdata": {
            "bdata": "4AfgBw==",
            "dtype": "i2",
            "shape": "2, 1"
           },
           "hovertemplate": "<b>%{hovertext}</b><br><br>Export Value: $%{x:,.0f}<br>Tariff Rate: %{y:.2f}%<br>Year: %{customdata[0]}<extra></extra>",
           "hovertext": [
            "China",
            "China"
           ],
           "ids": [
            "China",
            "China"
           ],
           "legendgroup": "China",
           "marker": {
            "color": "#ab63fa",
            "size": [
             8211990469,
             2981733038
            ],
            "sizemode": "area",
            "sizeref": 10789250.270277778,
            "symbol": "circle"
           },
           "mode": "markers",
           "name": "China",
           "orientation": "v",
           "showlegend": true,
           "type": "scatter",
           "x": [
            8211990469,
            2981733038
           ],
           "xaxis": "x",
           "y": {
            "bdata": "16NwPQrXJUDXo3A9CtclQA==",
            "dtype": "f8"
           },
           "yaxis": "y"
          },
          {
           "customdata": {
            "bdata": "4AfgBw==",
            "dtype": "i2",
            "shape": "2, 1"
           },
           "hovertemplate": "<b>%{hovertext}</b><br><br>Export Value: $%{x:,.0f}<br>Tariff Rate: %{y:.2f}%<br>Year: %{customdata[0]}<extra></extra>",
           "hovertext": [
            "Australia",
            "Australia"
           ],
           "ids": [
            "Australia",
            "Australia"
           ],
           "legendgroup": "Australia",
           "marker": {
            "color": "#FFA15A",
            "size": {
             "bdata": "9p1kTFKWx0E=",
             "dtype": "i4"
            },
            "sizemode": "area",
            "sizeref": 10789250.270277778,
            "symbol": "circle"
           },
           "mode": "markers",
           "name": "Australia",
           "orientation": "v",
           "showlegend": true,
           "type": "scatter",
           "x": {
            "bdata": "9p1kTFKWx0E=",
            "dtype": "i4"
           },
           "xaxis": "x",
           "y": {
            "bdata": "UrgehetRBkBSuB6F61EGQA==",
            "dtype": "f8"
           },
           "yaxis": "y"
          },
          {
           "customdata": {
            "bdata": "4Ac=",
            "dtype": "i2",
            "shape": "1, 1"
           },
           "hovertemplate": "<b>%{hovertext}</b><br><br>Export Value: $%{x:,.0f}<br>Tariff Rate: %{y:.2f}%<br>Year: %{customdata[0]}<extra></extra>",
           "hovertext": [
            "United Arab Emirates"
           ],
           "ids": [
            "United Arab Emirates"
           ],
           "legendgroup": "United Arab Emirates",
           "marker": {
            "color": "#19d3f3",
            "size": {
             "bdata": "7tOuXw==",
             "dtype": "i4"
            },
            "sizemode": "area",
            "sizeref": 10789250.270277778,
            "symbol": "circle"
           },
           "mode": "markers",
           "name": "United Arab Emirates",
           "orientation": "v",
           "showlegend": true,
           "type": "scatter",
           "x": {
            "bdata": "7tOuXw==",
            "dtype": "i4"
           },
           "xaxis": "x",
           "y": {
            "bdata": "uB6F61G4EkA=",
            "dtype": "f8"
           },
           "yaxis": "y"
          },
          {
           "customdata": {
            "bdata": "4AfgBw==",
            "dtype": "i2",
            "shape": "2, 1"
           },
           "hovertemplate": "<b>%{hovertext}</b><br><br>Export Value: $%{x:,.0f}<br>Tariff Rate: %{y:.2f}%<br>Year: %{customdata[0]}<extra></extra>",
           "hovertext": [
            "South Korea",
            "South Korea"
           ],
           "ids": [
            "South Korea",
            "South Korea"
           ],
           "legendgroup": "South Korea",
           "marker": {
            "color": "#FF6692",
            "size": {
             "bdata": "+bqAXEW7Ejw=",
             "dtype": "i4"
            },
            "sizemode": "area",
            "sizeref": 10789250.270277778,
            "symbol": "circle"
           },
           "mode": "markers",
           "name": "South Korea",
           "orientation": "v",
           "showlegend": true,
           "type": "scatter",
           "x": {
            "bdata": "+bqAXEW7Ejw=",
            "dtype": "i4"
           },
           "xaxis": "x",
           "y": {
            "bdata": "PQrXo3A9K0A9CtejcD0rQA==",
            "dtype": "f8"
           },
           "yaxis": "y"
          },
          {
           "customdata": {
            "bdata": "4Ac=",
            "dtype": "i2",
            "shape": "1, 1"
           },
           "hovertemplate": "<b>%{hovertext}</b><br><br>Export Value: $%{x:,.0f}<br>Tariff Rate: %{y:.2f}%<br>Year: %{customdata[0]}<extra></extra>",
           "hovertext": [
            "Saudi Arabia"
           ],
           "ids": [
            "Saudi Arabia"
           ],
           "legendgroup": "Saudi Arabia",
           "marker": {
            "color": "#B6E880",
            "size": [
             2881392553
            ],
            "sizemode": "area",
            "sizeref": 10789250.270277778,
            "symbol": "circle"
           },
           "mode": "markers",
           "name": "Saudi Arabia",
           "orientation": "v",
           "showlegend": true,
           "type": "scatter",
           "x": [
            2881392553
           ],
           "xaxis": "x",
           "y": {
            "bdata": "j8L1KFyPE0A=",
            "dtype": "f8"
           },
           "yaxis": "y"
          },
          {
           "customdata": {
            "bdata": "4Ac=",
            "dtype": "i2",
            "shape": "1, 1"
           },
           "hovertemplate": "<b>%{hovertext}</b><br><br>Export Value: $%{x:,.0f}<br>Tariff Rate: %{y:.2f}%<br>Year: %{customdata[0]}<extra></extra>",
           "hovertext": [
            "Japan"
           ],
           "ids": [
            "Japan"
           ],
           "legendgroup": "Japan",
           "marker": {
            "color": "#FECB52",
            "size": {
             "bdata": "ku2oYg==",
             "dtype": "i4"
            },
            "sizemode": "area",
            "sizeref": 10789250.270277778,
            "symbol": "circle"
           },
           "mode": "markers",
           "name": "Japan",
           "orientation": "v",
           "showlegend": true,
           "type": "scatter",
           "x": {
            "bdata": "ku2oYg==",
            "dtype": "i4"
           },
           "xaxis": "x",
           "y": {
            "bdata": "w/UoXI/CEUA=",
            "dtype": "f8"
           },
           "yaxis": "y"
          },
          {
           "customdata": {
            "bdata": "4AfgBw==",
            "dtype": "i2",
            "shape": "2, 1"
           },
           "hovertemplate": "<b>%{hovertext}</b><br><br>Export Value: $%{x:,.0f}<br>Tariff Rate: %{y:.2f}%<br>Year: %{customdata[0]}<extra></extra>",
           "hovertext": [
            "United Kingdom",
            "United Kingdom"
           ],
           "ids": [
            "United Kingdom",
            "United Kingdom"
           ],
           "legendgroup": "United Kingdom",
           "marker": {
            "color": "#636efa",
            "size": {
             "bdata": "Ck6adPlrqlw=",
             "dtype": "i4"
            },
            "sizemode": "area",
            "sizeref": 10789250.270277778,
            "symbol": "circle"
           },
           "mode": "markers",
           "name": "United Kingdom",
           "orientation": "v",
           "showlegend": true,
           "type": "scatter",
           "x": {
            "bdata": "Ck6adPlrqlw=",
            "dtype": "i4"
           },
           "xaxis": "x",
           "y": {
            "bdata": "rkfhehSuE0CuR+F6FK4TQA==",
            "dtype": "f8"
           },
           "yaxis": "y"
          },
          {
           "customdata": {
            "bdata": "4Ac=",
            "dtype": "i2",
            "shape": "1, 1"
           },
           "hovertemplate": "<b>%{hovertext}</b><br><br>Export Value: $%{x:,.0f}<br>Tariff Rate: %{y:.2f}%<br>Year: %{customdata[0]}<extra></extra>",
           "hovertext": [
            "Brazil"
           ],
           "ids": [
            "Brazil"
           ],
           "legendgroup": "Brazil",
           "marker": {
            "color": "#EF553B",
            "size": {
             "bdata": "6/CTRA==",
             "dtype": "i4"
            },
            "sizemode": "area",
            "sizeref": 10789250.270277778,
            "symbol": "circle"
           },
           "mode": "markers",
           "name": "Brazil",
           "orientation": "v",
           "showlegend": true,
           "type": "scatter",
           "x": {
            "bdata": "6/CTRA==",
            "dtype": "i4"
           },
           "xaxis": "x",
           "y": {
            "bdata": "MzMzMzMzK0A=",
            "dtype": "f8"
           },
           "yaxis": "y"
          },
          {
           "customdata": {
            "bdata": "4Ac=",
            "dtype": "i2",
            "shape": "1, 1"
           },
           "hovertemplate": "<b>%{hovertext}</b><br><br>Export Value: $%{x:,.0f}<br>Tariff Rate: %{y:.2f}%<br>Year: %{customdata[0]}<extra></extra>",
           "hovertext": [
            "Netherlands"
           ],
           "ids": [
            "Netherlands"
           ],
           "legendgroup": "Netherlands",
           "marker": {
            "color": "#19d3f3",
            "size": {
             "bdata": "tWaOSA==",
             "dtype": "i4"
            },
            "sizemode": "area",
            "sizeref": 10789250.270277778,
            "symbol": "circle"
           },
           "mode": "markers",
           "name": "Netherlands",
           "orientation": "v",
           "showlegend": true,
           "type": "scatter",
           "x": {
            "bdata": "tWaOSA==",
            "dtype": "i4"
           },
           "xaxis": "x",
           "y": {
            "bdata": "H4XrUbgeFEA=",
            "dtype": "f8"
           },
           "yaxis": "y"
          }
         ],
         "name": "2016"
        },
        {
         "data": [
          {
           "customdata": {
            "bdata": "3wffBw==",
            "dtype": "i2",
            "shape": "2, 1"
           },
           "hovertemplate": "<b>%{hovertext}</b><br><br>Export Value: $%{x:,.0f}<br>Tariff Rate: %{y:.2f}%<br>Year: %{customdata[0]}<extra></extra>",
           "hovertext": [
            "Mexico",
            "Mexico"
           ],
           "ids": [
            "Mexico",
            "Mexico"
           ],
           "legendgroup": "Mexico",
           "marker": {
            "color": "#636efa",
            "size": [
             30563675255,
             3084575996
            ],
            "sizemode": "area",
            "sizeref": 10789250.270277778,
            "symbol": "circle"
           },
           "mode": "markers",
           "name": "Mexico",
           "orientation": "v",
           "showlegend": true,
           "type": "scatter",
           "x": [
            30563675255,
            3084575996
           ],
           "xaxis": "x",
           "y": {
            "bdata": "j8L1KFyPGkCPwvUoXI8aQA==",
            "dtype": "f8"
           },
           "yaxis": "y"
          },
          {
           "customdata": {
            "bdata": "3wffB98H",
            "dtype": "i2",
            "shape": "3, 1"
           },
           "hovertemplate": "<b>%{hovertext}</b><br><br>Export Value: $%{x:,.0f}<br>Tariff Rate: %{y:.2f}%<br>Year: %{customdata[0]}<extra></extra>",
           "hovertext": [
            "Canada",
            "Canada",
            "Canada"
           ],
           "ids": [
            "Canada",
            "Canada",
            "Canada"
           ],
           "legendgroup": "Canada",
           "marker": {
            "color": "#EF553B",
            "size": [
             29818284887,
             21023836427,
             4568516286
            ],
            "sizemode": "area",
            "sizeref": 10789250.270277778,
            "symbol": "circle"
           },
           "mode": "markers",
           "name": "Canada",
           "orientation": "v",
           "showlegend": true,
           "type": "scatter",
           "x": [
            29818284887,
            21023836427,
            4568516286
           ],
           "xaxis": "x",
           "y": {
            "bdata": "exSuR+F6CkB7FK5H4XoKQHsUrkfhegpA",
            "dtype": "f8"
           },
           "yaxis": "y"
          },
          {
           "customdata": {
            "bdata": "3wffBw==",
            "dtype": "i2",
            "shape": "2, 1"
           },
           "hovertemplate": "<b>%{hovertext}</b><br><br>Export Value: $%{x:,.0f}<br>Tariff Rate: %{y:.2f}%<br>Year: %{customdata[0]}<extra></extra>",
           "hovertext": [
            "Germany",
            "Germany"
           ],
           "ids": [
            "Germany",
            "Germany"
           ],
           "legendgroup": "Germany",
           "marker": {
            "color": "#00cc96",
            "size": [
             5910717531,
             2047764612
            ],
            "sizemode": "area",
            "sizeref": 10789250.270277778,
            "symbol": "circle"
           },
           "mode": "markers",
           "name": "Germany",
           "orientation": "v",
           "showlegend": true,
           "type": "scatter",
           "x": [
            5910717531,
            2047764612
           ],
           "xaxis": "x",
           "y": {
            "bdata": "FK5H4XoUFUAUrkfhehQVQA==",
            "dtype": "f8"
           },
           "yaxis": "y"
          },
          {
           "customdata": {
            "bdata": "3wffBw==",
            "dtype": "i2",
            "shape": "2, 1"
           },
           "hovertemplate": "<b>%{hovertext}</b><br><br>Export Value: $%{x:,.0f}<br>Tariff Rate: %{y:.2f}%<br>Year: %{customdata[0]}<extra></extra>",
           "hovertext": [
            "China",
            "China"
           ],
           "ids": [
            "China",
            "China"
           ],
           "legendgroup": "China",
           "marker": {
            "color": "#ab63fa",
            "size": [
             8264903454,
             2478130561
            ],
            "sizemode": "area",
            "sizeref": 10789250.270277778,
            "symbol": "circle"
           },
           "mode": "markers",
           "name": "China",
           "orientation": "v",
           "showlegend": true,
           "type": "scatter",
           "x": [
            8264903454,
            2478130561
           ],
           "xaxis": "x",
           "y": {
            "bdata": "rkfhehQuJkCuR+F6FC4mQA==",
            "dtype": "f8"
           },
           "yaxis": "y"
          },
          {
           "customdata": {
            "bdata": "3wffBw==",
            "dtype": "i2",
            "shape": "2, 1"
           },
           "hovertemplate": "<b>%{hovertext}</b><br><br>Export Value: $%{x:,.0f}<br>Tariff Rate: %{y:.2f}%<br>Year: %{customdata[0]}<extra></extra>",
           "hovertext": [
            "Australia",
            "Australia"
           ],
           "ids": [
            "Australia",
            "Australia"
           ],
           "legendgroup": "Australia",
           "marker": {
            "color": "#FFA15A",
            "size": {
             "bdata": "h85MYqu3N1A=",
             "dtype": "i4"
            },
            "sizemode": "area",
            "sizeref": 10789250.270277778,
            "symbol": "circle"
           },
           "mode": "markers",
           "name": "Australia",
           "orientation": "v",
           "showlegend": true,
           "type": "scatter",
           "x": {
            "bdata": "h85MYqu3N1A=",
            "dtype": "i4"
           },
           "xaxis": "x",
           "y": {
            "bdata": "UrgehetRBkBSuB6F61EGQA==",
            "dtype": "f8"
           },
           "yaxis": "y"
          },
          {
           "customdata": {
            "bdata": "3wc=",
            "dtype": "i2",
            "shape": "1, 1"
           },
           "hovertemplate": "<b>%{hovertext}</b><br><br>Export Value: $%{x:,.0f}<br>Tariff Rate: %{y:.2f}%<br>Year: %{customdata[0]}<extra></extra>",
           "hovertext": [
            "United Arab Emirates"
           ],
           "ids": [
            "United Arab Emirates"
           ],
           "legendgroup": "United Arab Emirates",
           "marker": {
            "color": "#19d3f3",
            "size": {
             "bdata": "aLCFfg==",
             "dtype": "i4"
            },
            "sizemode": "area",
            "sizeref": 10789250.270277778,
            "symbol": "circle"
           },
           "mode": "markers",
           "name": "United Arab Emirates",
           "orientation": "v",
           "showlegend": true,
           "type": "scatter",
           "x": {
            "bdata": "aLCFfg==",
            "dtype": "i4"
           },
           "xaxis": "x",
           "y": {
            "bdata": "H4XrUbgeE0A=",
            "dtype": "f8"
           },
           "yaxis": "y"
          },
          {
           "customdata": {
            "bdata": "3wffBw==",
            "dtype": "i2",
            "shape": "2, 1"
           },
           "hovertemplate": "<b>%{hovertext}</b><br><br>Export Value: $%{x:,.0f}<br>Tariff Rate: %{y:.2f}%<br>Year: %{customdata[0]}<extra></extra>",
           "hovertext": [
            "South Korea",
            "South Korea"
           ],
           "ids": [
            "South Korea",
            "South Korea"
           ],
           "legendgroup": "South Korea",
           "marker": {
            "color": "#FF6692",
            "size": {
             "bdata": "qCCVSTvIWzo=",
             "dtype": "i4"
            },
            "sizemode": "area",
            "sizeref": 10789250.270277778,
            "symbol": "circle"
           },
           "mode": "markers",
           "name": "South Korea",
           "orientation": "v",
           "showlegend": true,
           "type": "scatter",
           "x": {
            "bdata": "qCCVSTvIWzo=",
            "dtype": "i4"
           },
           "xaxis": "x",
           "y": {
            "bdata": "j8L1KFyPK0CPwvUoXI8rQA==",
            "dtype": "f8"
           },
           "yaxis": "y"
          },
          {
           "customdata": {
            "bdata": "3wc=",
            "dtype": "i2",
            "shape": "1, 1"
           },
           "hovertemplate": "<b>%{hovertext}</b><br><br>Export Value: $%{x:,.0f}<br>Tariff Rate: %{y:.2f}%<br>Year: %{customdata[0]}<extra></extra>",
           "hovertext": [
            "Saudi Arabia"
           ],
           "ids": [
            "Saudi Arabia"
           ],
           "legendgroup": "Saudi Arabia",
           "marker": {
            "color": "#B6E880",
            "size": [
             3790058130
            ],
            "sizemode": "area",
            "sizeref": 10789250.270277778,
            "symbol": "circle"
           },
           "mode": "markers",
           "name": "Saudi Arabia",
           "orientation": "v",
           "showlegend": true,
           "type": "scatter",
           "x": [
            3790058130
           ],
           "xaxis": "x",
           "y": {
            "bdata": "4XoUrkfhE0A=",
            "dtype": "f8"
           },
           "yaxis": "y"
          },
          {
           "customdata": {
            "bdata": "3wc=",
            "dtype": "i2",
            "shape": "1, 1"
           },
           "hovertemplate": "<b>%{hovertext}</b><br><br>Export Value: $%{x:,.0f}<br>Tariff Rate: %{y:.2f}%<br>Year: %{customdata[0]}<extra></extra>",
           "hovertext": [
            "Japan"
           ],
           "ids": [
            "Japan"
           ],
           "legendgroup": "Japan",
           "marker": {
            "color": "#FECB52",
            "size": {
             "bdata": "Y/80Xw==",
             "dtype": "i4"
            },
            "sizemode": "area",
            "sizeref": 10789250.270277778,
            "symbol": "circle"
           },
           "mode": "markers",
           "name": "Japan",
           "orientation": "v",
           "showlegend": true,
           "type": "scatter",
           "x": {
            "bdata": "Y/80Xw==",
            "dtype": "i4"
           },
           "xaxis": "x",
           "y": {
            "bdata": "w/UoXI/CEEA=",
            "dtype": "f8"
           },
           "yaxis": "y"
          },
          {
           "customdata": {
            "bdata": "3wffBw==",
            "dtype": "i2",
            "shape": "2, 1"
           },
           "hovertemplate": "<b>%{hovertext}</b><br><br>Export Value: $%{x:,.0f}<br>Tariff Rate: %{y:.2f}%<br>Year: %{customdata[0]}<extra></extra>",
           "hovertext": [
            "United Kingdom",
            "United Kingdom"
           ],
           "ids": [
            "United Kingdom",
            "United Kingdom"
           ],
           "legendgroup": "United Kingdom",
           "marker": {
            "color": "#636efa",
            "size": {
             "bdata": "t+xNaG1+d18=",
             "dtype": "i4"
            },
            "sizemode": "area",
            "sizeref": 10789250.270277778,
            "symbol": "circle"
           },
           "mode": "markers",
           "name": "United Kingdom",
           "orientation": "v",
           "showlegend": true,
           "type": "scatter",
           "x": {
            "bdata": "t+xNaG1+d18=",
            "dtype": "i4"
           },
           "xaxis": "x",
           "y": {
            "bdata": "pHA9CtejE0CkcD0K16MTQA==",
            "dtype": "f8"
           },
           "yaxis": "y"
          },
          {
           "customdata": {
            "bdata": "3wc=",
            "dtype": "i2",
            "shape": "1, 1"
           },
           "hovertemplate": "<b>%{hovertext}</b><br><br>Export Value: $%{x:,.0f}<br>Tariff Rate: %{y:.2f}%<br>Year: %{customdata[0]}<extra></extra>",
           "hovertext": [
            "Brazil"
           ],
           "ids": [
            "Brazil"
           ],
           "legendgroup": "Brazil",
           "marker": {
            "color": "#EF553B",
            "size": {
             "bdata": "BttqPg==",
             "dtype": "i4"
            },
            "sizemode": "area",
            "sizeref": 10789250.270277778,
            "symbol": "circle"
           },
           "mode": "markers",
           "name": "Brazil",
           "orientation": "v",
           "showlegend": true,
           "type": "scatter",
           "x": {
            "bdata": "BttqPg==",
            "dtype": "i4"
           },
           "xaxis": "x",
           "y": {
            "bdata": "16NwPQpXK0A=",
            "dtype": "f8"
           },
           "yaxis": "y"
          },
          {
           "customdata": {
            "bdata": "3wc=",
            "dtype": "i2",
            "shape": "1, 1"
           },
           "hovertemplate": "<b>%{hovertext}</b><br><br>Export Value: $%{x:,.0f}<br>Tariff Rate: %{y:.2f}%<br>Year: %{customdata[0]}<extra></extra>",
           "hovertext": [
            "Netherlands"
           ],
           "ids": [
            "Netherlands"
           ],
           "legendgroup": "Netherlands",
           "marker": {
            "color": "#19d3f3",
            "size": {
             "bdata": "+syvNA==",
             "dtype": "i4"
            },
            "sizemode": "area",
            "sizeref": 10789250.270277778,
            "symbol": "circle"
           },
           "mode": "markers",
           "name": "Netherlands",
           "orientation": "v",
           "showlegend": true,
           "type": "scatter",
           "x": {
            "bdata": "+syvNA==",
            "dtype": "i4"
           },
           "xaxis": "x",
           "y": {
            "bdata": "mpmZmZmZFEA=",
            "dtype": "f8"
           },
           "yaxis": "y"
          }
         ],
         "name": "2015"
        },
        {
         "data": [
          {
           "customdata": {
            "bdata": "3gfeBw==",
            "dtype": "i2",
            "shape": "2, 1"
           },
           "hovertemplate": "<b>%{hovertext}</b><br><br>Export Value: $%{x:,.0f}<br>Tariff Rate: %{y:.2f}%<br>Year: %{customdata[0]}<extra></extra>",
           "hovertext": [
            "Mexico",
            "Mexico"
           ],
           "ids": [
            "Mexico",
            "Mexico"
           ],
           "legendgroup": "Mexico",
           "marker": {
            "color": "#636efa",
            "size": [
             29697309738,
             3540262939
            ],
            "sizemode": "area",
            "sizeref": 10789250.270277778,
            "symbol": "circle"
           },
           "mode": "markers",
           "name": "Mexico",
           "orientation": "v",
           "showlegend": true,
           "type": "scatter",
           "x": [
            29697309738,
            3540262939
           ],
           "xaxis": "x",
           "y": {
            "bdata": "4XoUrkfhG0DhehSuR+EbQA==",
            "dtype": "f8"
           },
           "yaxis": "y"
          },
          {
           "customdata": {
            "bdata": "3gfeB94H",
            "dtype": "i2",
            "shape": "3, 1"
           },
           "hovertemplate": "<b>%{hovertext}</b><br><br>Export Value: $%{x:,.0f}<br>Tariff Rate: %{y:.2f}%<br>Year: %{customdata[0]}<extra></extra>",
           "hovertext": [
            "Canada",
            "Canada",
            "Canada"
           ],
           "ids": [
            "Canada",
            "Canada",
            "Canada"
           ],
           "legendgroup": "Canada",
           "marker": {
            "color": "#EF553B",
            "size": [
             30835751278,
             21865353045,
             4998684617
            ],
            "sizemode": "area",
            "sizeref": 10789250.270277778,
            "symbol": "circle"
           },
           "mode": "markers",
           "name": "Canada",
           "orientation": "v",
           "showlegend": true,
           "type": "scatter",
           "x": [
            30835751278,
            21865353045,
            4998684617
           ],
           "xaxis": "x",
           "y": {
            "bdata": "uB6F61G4CkC4HoXrUbgKQLgehetRuApA",
            "dtype": "f8"
           },
           "yaxis": "y"
          },
          {
           "customdata": {
            "bdata": "3gfeBw==",
            "dtype": "i2",
            "shape": "2, 1"
           },
           "hovertemplate": "<b>%{hovertext}</b><br><br>Export Value: $%{x:,.0f}<br>Tariff Rate: %{y:.2f}%<br>Year: %{customdata[0]}<extra></extra>",
           "hovertext": [
            "Germany",
            "Germany"
           ],
           "ids": [
            "Germany",
            "Germany"
           ],
           "legendgroup": "Germany",
           "marker": {
            "color": "#00cc96",
            "size": [
             5272829307,
             1924245843
            ],
            "sizemode": "area",
            "sizeref": 10789250.270277778,
            "symbol": "circle"
           },
           "mode": "markers",
           "name": "Germany",
           "orientation": "v",
           "showlegend": true,
           "type": "scatter",
           "x": [
            5272829307,
            1924245843
           ],
           "xaxis": "x",
           "y": {
            "bdata": "XI/C9ShcFUBcj8L1KFwVQA==",
            "dtype": "f8"
           },
           "yaxis": "y"
          },
          {
           "customdata": {
            "bdata": "3gfeBw==",
            "dtype": "i2",
            "shape": "2, 1"
           },
           "hovertemplate": "<b>%{hovertext}</b><br><br>Export Value: $%{x:,.0f}<br>Tariff Rate: %{y:.2f}%<br>Year: %{customdata[0]}<extra></extra>",
           "hovertext": [
            "China",
            "China"
           ],
           "ids": [
            "China",
            "China"
           ],
           "legendgroup": "China",
           "marker": {
            "color": "#ab63fa",
            "size": [
             9942175219,
             2638629452
            ],
            "sizemode": "area",
            "sizeref": 10789250.270277778,
            "symbol": "circle"
           },
           "mode": "markers",
           "name": "China",
           "orientation": "v",
           "showlegend": true,
           "type": "scatter",
           "x": [
            9942175219,
            2638629452
           ],
           "xaxis": "x",
           "y": {
            "bdata": "rkfhehQuI0CuR+F6FC4jQA==",
            "dtype": "f8"
           },
           "yaxis": "y"
          },
          {
           "customdata": {
            "bdata": "3gfeBw==",
            "dtype": "i2",
            "shape": "2, 1"
           },
           "hovertemplate": "<b>%{hovertext}</b><br><br>Export Value: $%{x:,.0f}<br>Tariff Rate: %{y:.2f}%<br>Year: %{customdata[0]}<extra></extra>",
           "hovertext": [
            "Australia",
            "Australia"
           ],
           "ids": [
            "Australia",
            "Australia"
           ],
           "legendgroup": "Australia",
           "marker": {
            "color": "#FFA15A",
            "size": {
             "bdata": "LJogbrNJS1k=",
             "dtype": "i4"
            },
            "sizemode": "area",
            "sizeref": 10789250.270277778,
            "symbol": "circle"
           },
           "mode": "markers",
           "name": "Australia",
           "orientation": "v",
           "showlegend": true,
           "type": "scatter",
           "x": {
            "bdata": "LJogbrNJS1k=",
            "dtype": "i4"
           },
           "xaxis": "x",
           "y": {
            "bdata": "KVyPwvUoCEApXI/C9SgIQA==",
            "dtype": "f8"
           },
           "yaxis": "y"
          },
          {
           "customdata": {
            "bdata": "3gc=",
            "dtype": "i2",
            "shape": "1, 1"
           },
           "hovertemplate": "<b>%{hovertext}</b><br><br>Export Value: $%{x:,.0f}<br>Tariff Rate: %{y:.2f}%<br>Year: %{customdata[0]}<extra></extra>",
           "hovertext": [
            "United Arab Emirates"
           ],
           "ids": [
            "United Arab Emirates"
           ],
           "legendgroup": "United Arab Emirates",
           "marker": {
            "color": "#19d3f3",
            "size": [
             2162718008
            ],
            "sizemode": "area",
            "sizeref": 10789250.270277778,
            "symbol": "circle"
           },
           "mode": "markers",
           "name": "United Arab Emirates",
           "orientation": "v",
           "showlegend": true,
           "type": "scatter",
           "x": [
            2162718008
           ],
           "xaxis": "x",
           "y": {
            "bdata": "H4XrUbgeE0A=",
            "dtype": "f8"
           },
           "yaxis": "y"
          },
          {
           "customdata": {
            "bdata": "3gfeBw==",
            "dtype": "i2",
            "shape": "2, 1"
           },
           "hovertemplate": "<b>%{hovertext}</b><br><br>Export Value: $%{x:,.0f}<br>Tariff Rate: %{y:.2f}%<br>Year: %{customdata[0]}<extra></extra>",
           "hovertext": [
            "South Korea",
            "South Korea"
           ],
           "ids": [
            "South Korea",
            "South Korea"
           ],
           "legendgroup": "South Korea",
           "marker": {
            "color": "#FF6692",
            "size": {
             "bdata": "qSA2OFBnYDc=",
             "dtype": "i4"
            },
            "sizemode": "area",
            "sizeref": 10789250.270277778,
            "symbol": "circle"
           },
           "mode": "markers",
           "name": "South Korea",
           "orientation": "v",
           "showlegend": true,
           "type": "scatter",
           "x": {
            "bdata": "qSA2OFBnYDc=",
            "dtype": "i4"
           },
           "xaxis": "x",
           "y": {
            "bdata": "16NwPQpXKUDXo3A9ClcpQA==",
            "dtype": "f8"
           },
           "yaxis": "y"
          },
          {
           "customdata": {
            "bdata": "3gc=",
            "dtype": "i2",
            "shape": "1, 1"
           },
           "hovertemplate": "<b>%{hovertext}</b><br><br>Export Value: $%{x:,.0f}<br>Tariff Rate: %{y:.2f}%<br>Year: %{customdata[0]}<extra></extra>",
           "hovertext": [
            "Saudi Arabia"
           ],
           "ids": [
            "Saudi Arabia"
           ],
           "legendgroup": "Saudi Arabia",
           "marker": {
            "color": "#B6E880",
            "size": [
             3794319146
            ],
            "sizemode": "area",
            "sizeref": 10789250.270277778,
            "symbol": "circle"
           },
           "mode": "markers",
           "name": "Saudi Arabia",
           "orientation": "v",
           "showlegend": true,
           "type": "scatter",
           "x": [
            3794319146
           ],
           "xaxis": "x",
           "y": {
            "bdata": "7FG4HoXrEUA=",
            "dtype": "f8"
           },
           "yaxis": "y"
          },
          {
           "customdata": {
            "bdata": "3gc=",
            "dtype": "i2",
            "shape": "1, 1"
           },
           "hovertemplate": "<b>%{hovertext}</b><br><br>Export Value: $%{x:,.0f}<br>Tariff Rate: %{y:.2f}%<br>Year: %{customdata[0]}<extra></extra>",
           "hovertext": [
            "Japan"
           ],
           "ids": [
            "Japan"
           ],
           "legendgroup": "Japan",
           "marker": {
            "color": "#FECB52",
            "size": {
             "bdata": "9mZHVw==",
             "dtype": "i4"
            },
            "sizemode": "area",
            "sizeref": 10789250.270277778,
            "symbol": "circle"
           },
           "mode": "markers",
           "name": "Japan",
           "orientation": "v",
           "showlegend": true,
           "type": "scatter",
           "x": {
            "bdata": "9mZHVw==",
            "dtype": "i4"
           },
           "xaxis": "x",
           "y": {
            "bdata": "mpmZmZmZEkA=",
            "dtype": "f8"
           },
           "yaxis": "y"
          },
          {
           "customdata": {
            "bdata": "3gfeBw==",
            "dtype": "i2",
            "shape": "2, 1"
           },
           "hovertemplate": "<b>%{hovertext}</b><br><br>Export Value: $%{x:,.0f}<br>Tariff Rate: %{y:.2f}%<br>Year: %{customdata[0]}<extra></extra>",
           "hovertext": [
            "United Kingdom",
            "United Kingdom"
           ],
           "ids": [
            "United Kingdom",
            "United Kingdom"
           ],
           "legendgroup": "United Kingdom",
           "marker": {
            "color": "#636efa",
            "size": {
             "bdata": "Xla/VzD1cVY=",
             "dtype": "i4"
            },
            "sizemode": "area",
            "sizeref": 10789250.270277778,
            "symbol": "circle"
           },
           "mode": "markers",
           "name": "United Kingdom",
           "orientation": "v",
           "showlegend": true,
           "type": "scatter",
           "x": {
            "bdata": "Xla/VzD1cVY=",
            "dtype": "i4"
           },
           "xaxis": "x",
           "y": {
            "bdata": "hetRuB6FE0CF61G4HoUTQA==",
            "dtype": "f8"
           },
           "yaxis": "y"
          },
          {
           "customdata": {
            "bdata": "3gc=",
            "dtype": "i2",
            "shape": "1, 1"
           },
           "hovertemplate": "<b>%{hovertext}</b><br><br>Export Value: $%{x:,.0f}<br>Tariff Rate: %{y:.2f}%<br>Year: %{customdata[0]}<extra></extra>",
           "hovertext": [
            "Brazil"
           ],
           "ids": [
            "Brazil"
           ],
           "legendgroup": "Brazil",
           "marker": {
            "color": "#EF553B",
            "size": {
             "bdata": "wNLeQA==",
             "dtype": "i4"
            },
            "sizemode": "area",
            "sizeref": 10789250.270277778,
            "symbol": "circle"
           },
           "mode": "markers",
           "name": "Brazil",
           "orientation": "v",
           "showlegend": true,
           "type": "scatter",
           "x": {
            "bdata": "wNLeQA==",
            "dtype": "i4"
           },
           "xaxis": "x",
           "y": {
            "bdata": "UrgehetRK0A=",
            "dtype": "f8"
           },
           "yaxis": "y"
          },
          {
           "customdata": {
            "bdata": "3gc=",
            "dtype": "i2",
            "shape": "1, 1"
           },
           "hovertemplate": "<b>%{hovertext}</b><br><br>Export Value: $%{x:,.0f}<br>Tariff Rate: %{y:.2f}%<br>Year: %{customdata[0]}<extra></extra>",
           "hovertext": [
            "Russia"
           ],
           "ids": [
            "Russia"
           ],
           "legendgroup": "Russia",
           "marker": {
            "color": "#FF97FF",
            "size": {
             "bdata": "KyfGUw==",
             "dtype": "i4"
            },
            "sizemode": "area",
            "sizeref": 10789250.270277778,
            "symbol": "circle"
           },
           "mode": "markers",
           "name": "Russia",
           "orientation": "v",
           "showlegend": true,
           "type": "scatter",
           "x": {
            "bdata": "KyfGUw==",
            "dtype": "i4"
           },
           "xaxis": "x",
           "y": {
            "bdata": "SOF6FK5HH0A=",
            "dtype": "f8"
           },
           "yaxis": "y"
          }
         ],
         "name": "2014"
        },
        {
         "data": [
          {
           "customdata": {
            "bdata": "3QfdBw==",
            "dtype": "i2",
            "shape": "2, 1"
           },
           "hovertemplate": "<b>%{hovertext}</b><br><br>Export Value: $%{x:,.0f}<br>Tariff Rate: %{y:.2f}%<br>Year: %{customdata[0]}<extra></extra>",
           "hovertext": [
            "Mexico",
            "Mexico"
           ],
           "ids": [
            "Mexico",
            "Mexico"
           ],
           "legendgroup": "Mexico",
           "marker": {
            "color": "#636efa",
            "size": [
             27020301970,
             3631801923
            ],
            "sizemode": "area",
            "sizeref": 10789250.270277778,
            "symbol": "circle"
           },
           "mode": "markers",
           "name": "Mexico",
           "orientation": "v",
           "showlegend": true,
           "type": "scatter",
           "x": [
            27020301970,
            3631801923
           ],
           "xaxis": "x",
           "y": {
            "bdata": "uB6F61G4HEC4HoXrUbgcQA==",
            "dtype": "f8"
           },
           "yaxis": "y"
          },
          {
           "customdata": {
            "bdata": "3QfdB90H",
            "dtype": "i2",
            "shape": "3, 1"
           },
           "hovertemplate": "<b>%{hovertext}</b><br><br>Export Value: $%{x:,.0f}<br>Tariff Rate: %{y:.2f}%<br>Year: %{customdata[0]}<extra></extra>",
           "hovertext": [
            "Canada",
            "Canada",
            "Canada"
           ],
           "ids": [
            "Canada",
            "Canada",
            "Canada"
           ],
           "legendgroup": "Canada",
           "marker": {
            "color": "#EF553B",
            "size": [
             31955532884,
             20348261635,
             5181614688
            ],
            "sizemode": "area",
            "sizeref": 10789250.270277778,
            "symbol": "circle"
           },
           "mode": "markers",
           "name": "Canada",
           "orientation": "v",
           "showlegend": true,
           "type": "scatter",
           "x": [
            31955532884,
            20348261635,
            5181614688
           ],
           "xaxis": "x",
           "y": {
            "bdata": "7FG4HoXrC0DsUbgehesLQOxRuB6F6wtA",
            "dtype": "f8"
           },
           "yaxis": "y"
          },
          {
           "customdata": {
            "bdata": "3QfdBw==",
            "dtype": "i2",
            "shape": "2, 1"
           },
           "hovertemplate": "<b>%{hovertext}</b><br><br>Export Value: $%{x:,.0f}<br>Tariff Rate: %{y:.2f}%<br>Year: %{customdata[0]}<extra></extra>",
           "hovertext": [
            "Germany",
            "Germany"
           ],
           "ids": [
            "Germany",
            "Germany"
           ],
           "legendgroup": "Germany",
           "marker": {
            "color": "#00cc96",
            "size": [
             4745975309,
             1804848263
            ],
            "sizemode": "area",
            "sizeref": 10789250.270277778,
            "symbol": "circle"
           },
           "mode": "markers",
           "name": "Germany",
           "orientation": "v",
           "showlegend": true,
           "type": "scatter",
           "x": [
            4745975309,
            1804848263
           ],
           "xaxis": "x",
           "y": {
            "bdata": "j8L1KFyPFUCPwvUoXI8VQA==",
            "dtype": "f8"
           },
           "yaxis": "y"
          },
          {
           "customdata": {
            "bdata": "3QfdBw==",
            "dtype": "i2",
            "shape": "2, 1"
           },
           "hovertemplate": "<b>%{hovertext}</b><br><br>Export Value: $%{x:,.0f}<br>Tariff Rate: %{y:.2f}%<br>Year: %{customdata[0]}<extra></extra>",
           "hovertext": [
            "China",
            "China"
           ],
           "ids": [
            "China",
            "China"
           ],
           "legendgroup": "China",
           "marker": {
            "color": "#ab63fa",
            "size": [
             7531612003,
             2314160979
            ],
            "sizemode": "area",
            "sizeref": 10789250.270277778,
            "symbol": "circle"
           },
           "mode": "markers",
           "name": "China",
           "orientation": "v",
           "showlegend": true,
           "type": "scatter",
           "x": [
            7531612003,
            2314160979
           ],
           "xaxis": "x",
           "y": {
            "bdata": "MzMzMzMzI0AzMzMzMzMjQA==",
            "dtype": "f8"
           },
           "yaxis": "y"
          },
          {
           "customdata": {
            "bdata": "3QfdBw==",
            "dtype": "i2",
            "shape": "2, 1"
           },
           "hovertemplate": "<b>%{hovertext}</b><br><br>Export Value: $%{x:,.0f}<br>Tariff Rate: %{y:.2f}%<br>Year: %{customdata[0]}<extra></extra>",
           "hovertext": [
            "Australia",
            "Australia"
           ],
           "ids": [
            "Australia",
            "Australia"
           ],
           "legendgroup": "Australia",
           "marker": {
            "color": "#FFA15A",
            "size": {
             "bdata": "OXkfXcwGv1I=",
             "dtype": "i4"
            },
            "sizemode": "area",
            "sizeref": 10789250.270277778,
            "symbol": "circle"
           },
           "mode": "markers",
           "name": "Australia",
           "orientation": "v",
           "showlegend": true,
           "type": "scatter",
           "x": {
            "bdata": "OXkfXcwGv1I=",
            "dtype": "i4"
           },
           "xaxis": "x",
           "y": {
            "bdata": "PQrXo3A9CEA9CtejcD0IQA==",
            "dtype": "f8"
           },
           "yaxis": "y"
          },
          {
           "customdata": {
            "bdata": "3Qc=",
            "dtype": "i2",
            "shape": "1, 1"
           },
           "hovertemplate": "<b>%{hovertext}</b><br><br>Export Value: $%{x:,.0f}<br>Tariff Rate: %{y:.2f}%<br>Year: %{customdata[0]}<extra></extra>",
           "hovertext": [
            "United Arab Emirates"
           ],
           "ids": [
            "United Arab Emirates"
           ],
           "legendgroup": "United Arab Emirates",
           "marker": {
            "color": "#19d3f3",
            "size": {
             "bdata": "uHCrfw==",
             "dtype": "i4"
            },
            "sizemode": "area",
            "sizeref": 10789250.270277778,
            "symbol": "circle"
           },
           "mode": "markers",
           "name": "United Arab Emirates",
           "orientation": "v",
           "showlegend": true,
           "type": "scatter",
           "x": {
            "bdata": "uHCrfw==",
            "dtype": "i4"
           },
           "xaxis": "x",
           "y": {
            "bdata": "SOF6FK5HE0A=",
            "dtype": "f8"
           },
           "yaxis": "y"
          },
          {
           "customdata": {
            "bdata": "3Qc=",
            "dtype": "i2",
            "shape": "1, 1"
           },
           "hovertemplate": "<b>%{hovertext}</b><br><br>Export Value: $%{x:,.0f}<br>Tariff Rate: %{y:.2f}%<br>Year: %{customdata[0]}<extra></extra>",
           "hovertext": [
            "South Korea"
           ],
           "ids": [
            "South Korea"
           ],
           "legendgroup": "South Korea",
           "marker": {
            "color": "#FF6692",
            "size": {
             "bdata": "O4iNMg==",
             "dtype": "i4"
            },
            "sizemode": "area",
            "sizeref": 10789250.270277778,
            "symbol": "circle"
           },
           "mode": "markers",
           "name": "South Korea",
           "orientation": "v",
           "showlegend": true,
           "type": "scatter",
           "x": {
            "bdata": "O4iNMg==",
            "dtype": "i4"
           },
           "xaxis": "x",
           "y": {
            "bdata": "ZmZmZmZmKUA=",
            "dtype": "f8"
           },
           "yaxis": "y"
          },
          {
           "customdata": {
            "bdata": "3Qc=",
            "dtype": "i2",
            "shape": "1, 1"
           },
           "hovertemplate": "<b>%{hovertext}</b><br><br>Export Value: $%{x:,.0f}<br>Tariff Rate: %{y:.2f}%<br>Year: %{customdata[0]}<extra></extra>",
           "hovertext": [
            "Saudi Arabia"
           ],
           "ids": [
            "Saudi Arabia"
           ],
           "legendgroup": "Saudi Arabia",
           "marker": {
            "color": "#B6E880",
            "size": [
             4740250708
            ],
            "sizemode": "area",
            "sizeref": 10789250.270277778,
            "symbol": "circle"
           },
           "mode": "markers",
           "name": "Saudi Arabia",
           "orientation": "v",
           "showlegend": true,
           "type": "scatter",
           "x": [
            4740250708
           ],
           "xaxis": "x",
           "y": {
            "bdata": "zczMzMzMEUA=",
            "dtype": "f8"
           },
           "yaxis": "y"
          },
          {
           "customdata": {
            "bdata": "3Qc=",
            "dtype": "i2",
            "shape": "1, 1"
           },
           "hovertemplate": "<b>%{hovertext}</b><br><br>Export Value: $%{x:,.0f}<br>Tariff Rate: %{y:.2f}%<br>Year: %{customdata[0]}<extra></extra>",
           "hovertext": [
            "Japan"
           ],
           "ids": [
            "Japan"
           ],
           "legendgroup": "Japan",
           "marker": {
            "color": "#FECB52",
            "size": {
             "bdata": "jY8FUg==",
             "dtype": "i4"
            },
            "sizemode": "area",
            "sizeref": 10789250.270277778,
            "symbol": "circle"
           },
           "mode": "markers",
           "name": "Japan",
           "orientation": "v",
           "showlegend": true,
           "type": "scatter",
           "x": {
            "bdata": "jY8FUg==",
            "dtype": "i4"
           },
           "xaxis": "x",
           "y": {
            "bdata": "CtejcD0KB0A=",
            "dtype": "f8"
           },
           "yaxis": "y"
          },
          {
           "customdata": {
            "bdata": "3QfdBw==",
            "dtype": "i2",
            "shape": "2, 1"
           },
           "hovertemplate": "<b>%{hovertext}</b><br><br>Export Value: $%{x:,.0f}<br>Tariff Rate: %{y:.2f}%<br>Year: %{customdata[0]}<extra></extra>",
           "hovertext": [
            "United Kingdom",
            "United Kingdom"
           ],
           "ids": [
            "United Kingdom",
            "United Kingdom"
           ],
           "legendgroup": "United Kingdom",
           "marker": {
            "color": "#636efa",
            "size": {
             "bdata": "oX8TSOsdJDw=",
             "dtype": "i4"
            },
            "sizemode": "area",
            "sizeref": 10789250.270277778,
            "symbol": "circle"
           },
           "mode": "markers",
           "name": "United Kingdom",
           "orientation": "v",
           "showlegend": true,
           "type": "scatter",
           "x": {
            "bdata": "oX8TSOsdJDw=",
            "dtype": "i4"
           },
           "xaxis": "x",
           "y": {
            "bdata": "j8L1KFyPE0CPwvUoXI8TQA==",
            "dtype": "f8"
           },
           "yaxis": "y"
          },
          {
           "customdata": {
            "bdata": "3Qc=",
            "dtype": "i2",
            "shape": "1, 1"
           },
           "hovertemplate": "<b>%{hovertext}</b><br><br>Export Value: $%{x:,.0f}<br>Tariff Rate: %{y:.2f}%<br>Year: %{customdata[0]}<extra></extra>",
           "hovertext": [
            "Brazil"
           ],
           "ids": [
            "Brazil"
           ],
           "legendgroup": "Brazil",
           "marker": {
            "color": "#EF553B",
            "size": {
             "bdata": "dH/OQQ==",
             "dtype": "i4"
            },
            "sizemode": "area",
            "sizeref": 10789250.270277778,
            "symbol": "circle"
           },
           "mode": "markers",
           "name": "Brazil",
           "orientation": "v",
           "showlegend": true,
           "type": "scatter",
           "x": {
            "bdata": "dH/OQQ==",
            "dtype": "i4"
           },
           "xaxis": "x",
           "y": {
            "bdata": "9ihcj8J1K0A=",
            "dtype": "f8"
           },
           "yaxis": "y"
          },
          {
           "customdata": {
            "bdata": "3Qc=",
            "dtype": "i2",
            "shape": "1, 1"
           },
           "hovertemplate": "<b>%{hovertext}</b><br><br>Export Value: $%{x:,.0f}<br>Tariff Rate: %{y:.2f}%<br>Year: %{customdata[0]}<extra></extra>",
           "hovertext": [
            "Russia"
           ],
           "ids": [
            "Russia"
           ],
           "legendgroup": "Russia",
           "marker": {
            "color": "#FF97FF",
            "size": {
             "bdata": "Q7m+Qw==",
             "dtype": "i4"
            },
            "sizemode": "area",
            "sizeref": 10789250.270277778,
            "symbol": "circle"
           },
           "mode": "markers",
           "name": "Russia",
           "orientation": "v",
           "showlegend": true,
           "type": "scatter",
           "x": {
            "bdata": "Q7m+Qw==",
            "dtype": "i4"
           },
           "xaxis": "x",
           "y": {
            "bdata": "rkfhehQuIUA=",
            "dtype": "f8"
           },
           "yaxis": "y"
          },
          {
           "customdata": {
            "bdata": "3Qc=",
            "dtype": "i2",
            "shape": "1, 1"
           },
           "hovertemplate": "<b>%{hovertext}</b><br><br>Export Value: $%{x:,.0f}<br>Tariff Rate: %{y:.2f}%<br>Year: %{customdata[0]}<extra></extra>",
           "hovertext": [
            "Kuwait"
           ],
           "ids": [
            "Kuwait"
           ],
           "legendgroup": "Kuwait",
           "marker": {
            "color": "#FECB52",
            "size": {
             "bdata": "baTMOw==",
             "dtype": "i4"
            },
            "sizemode": "area",
            "sizeref": 10789250.270277778,
            "symbol": "circle"
           },
           "mode": "markers",
           "name": "Kuwait",
           "orientation": "v",
           "showlegend": true,
           "type": "scatter",
           "x": {
            "bdata": "baTMOw==",
            "dtype": "i4"
           },
           "xaxis": "x",
           "y": {
            "bdata": "zczMzMzMEUA=",
            "dtype": "f8"
           },
           "yaxis": "y"
          }
         ],
         "name": "2013"
        },
        {
         "data": [
          {
           "customdata": {
            "bdata": "3AfcBw==",
            "dtype": "i2",
            "shape": "2, 1"
           },
           "hovertemplate": "<b>%{hovertext}</b><br><br>Export Value: $%{x:,.0f}<br>Tariff Rate: %{y:.2f}%<br>Year: %{customdata[0]}<extra></extra>",
           "hovertext": [
            "Mexico",
            "Mexico"
           ],
           "ids": [
            "Mexico",
            "Mexico"
           ],
           "legendgroup": "Mexico",
           "marker": {
            "color": "#636efa",
            "size": [
             24577884819,
             3607341712
            ],
            "sizemode": "area",
            "sizeref": 10789250.270277778,
            "symbol": "circle"
           },
           "mode": "markers",
           "name": "Mexico",
           "orientation": "v",
           "showlegend": true,
           "type": "scatter",
           "x": [
            24577884819,
            3607341712
           ],
           "xaxis": "x",
           "y": {
            "bdata": "XI/C9ShcHkBcj8L1KFweQA==",
            "dtype": "f8"
           },
           "yaxis": "y"
          },
          {
           "customdata": {
            "bdata": "3AfcB9wH",
            "dtype": "i2",
            "shape": "3, 1"
           },
           "hovertemplate": "<b>%{hovertext}</b><br><br>Export Value: $%{x:,.0f}<br>Tariff Rate: %{y:.2f}%<br>Year: %{customdata[0]}<extra></extra>",
           "hovertext": [
            "Canada",
            "Canada",
            "Canada"
           ],
           "ids": [
            "Canada",
            "Canada",
            "Canada"
           ],
           "legendgroup": "Canada",
           "marker": {
            "color": "#EF553B",
            "size": [
             31998428903,
             18776536663,
             5557753481
            ],
            "sizemode": "area",
            "sizeref": 10789250.270277778,
            "symbol": "circle"
           },
           "mode": "markers",
           "name": "Canada",
           "orientation": "v",
           "showlegend": true,
           "type": "scatter",
           "x": [
            31998428903,
            18776536663,
            5557753481
           ],
           "xaxis": "x",
           "y": {
            "bdata": "exSuR+F6DEB7FK5H4XoMQHsUrkfhegxA",
            "dtype": "f8"
           },
           "yaxis": "y"
          },
          {
           "customdata": {
            "bdata": "3AfcBw==",
            "dtype": "i2",
            "shape": "2, 1"
           },
           "hovertemplate": "<b>%{hovertext}</b><br><br>Export Value: $%{x:,.0f}<br>Tariff Rate: %{y:.2f}%<br>Year: %{customdata[0]}<extra></extra>",
           "hovertext": [
            "Germany",
            "Germany"
           ],
           "ids": [
            "Germany",
            "Germany"
           ],
           "legendgroup": "Germany",
           "marker": {
            "color": "#00cc96",
            "size": [
             5857684381,
             1673520727
            ],
            "sizemode": "area",
            "sizeref": 10789250.270277778,
            "symbol": "circle"
           },
           "mode": "markers",
           "name": "Germany",
           "orientation": "v",
           "showlegend": true,
           "type": "scatter",
           "x": [
            5857684381,
            1673520727
           ],
           "xaxis": "x",
           "y": {
            "bdata": "9ihcj8L1FED2KFyPwvUUQA==",
            "dtype": "f8"
           },
           "yaxis": "y"
          },
          {
           "customdata": {
            "bdata": "3AfcBw==",
            "dtype": "i2",
            "shape": "2, 1"
           },
           "hovertemplate": "<b>%{hovertext}</b><br><br>Export Value: $%{x:,.0f}<br>Tariff Rate: %{y:.2f}%<br>Year: %{customdata[0]}<extra></extra>",
           "hovertext": [
            "China",
            "China"
           ],
           "ids": [
            "China",
            "China"
           ],
           "legendgroup": "China",
           "marker": {
            "color": "#ab63fa",
            "size": [
             4959652931,
             1635328979
            ],
            "sizemode": "area",
            "sizeref": 10789250.270277778,
            "symbol": "circle"
           },
           "mode": "markers",
           "name": "China",
           "orientation": "v",
           "showlegend": true,
           "type": "scatter",
           "x": [
            4959652931,
            1635328979
           ],
           "xaxis": "x",
           "y": {
            "bdata": "uB6F61E4I0C4HoXrUTgjQA==",
            "dtype": "f8"
           },
           "yaxis": "y"
          },
          {
           "customdata": {
            "bdata": "3AfcBw==",
            "dtype": "i2",
            "shape": "2, 1"
           },
           "hovertemplate": "<b>%{hovertext}</b><br><br>Export Value: $%{x:,.0f}<br>Tariff Rate: %{y:.2f}%<br>Year: %{customdata[0]}<extra></extra>",
           "hovertext": [
            "Australia",
            "Australia"
           ],
           "ids": [
            "Australia",
            "Australia"
           ],
           "legendgroup": "Australia",
           "marker": {
            "color": "#FFA15A",
            "size": {
             "bdata": "VxrKdpSWb0A=",
             "dtype": "i4"
            },
            "sizemode": "area",
            "sizeref": 10789250.270277778,
            "symbol": "circle"
           },
           "mode": "markers",
           "name": "Australia",
           "orientation": "v",
           "showlegend": true,
           "type": "scatter",
           "x": {
            "bdata": "VxrKdpSWb0A=",
            "dtype": "i4"
           },
           "xaxis": "x",
           "y": {
            "bdata": "FK5H4XoUCEAUrkfhehQIQA==",
            "dtype": "f8"
           },
           "yaxis": "y"
          },
          {
           "customdata": {
            "bdata": "3Ac=",
            "dtype": "i2",
            "shape": "1, 1"
           },
           "hovertemplate": "<b>%{hovertext}</b><br><br>Export Value: $%{x:,.0f}<br>Tariff Rate: %{y:.2f}%<br>Year: %{customdata[0]}<extra></extra>",
           "hovertext": [
            "United Arab Emirates"
           ],
           "ids": [
            "United Arab Emirates"
           ],
           "legendgroup": "United Arab Emirates",
           "marker": {
            "color": "#19d3f3",
            "size": {
             "bdata": "m/llbA==",
             "dtype": "i4"
            },
            "sizemode": "area",
            "sizeref": 10789250.270277778,
            "symbol": "circle"
           },
           "mode": "markers",
           "name": "United Arab Emirates",
           "orientation": "v",
           "showlegend": true,
           "type": "scatter",
           "x": {
            "bdata": "m/llbA==",
            "dtype": "i4"
           },
           "xaxis": "x",
           "y": {
            "bdata": "PQrXo3A9E0A=",
            "dtype": "f8"
           },
           "yaxis": "y"
          },
          {
           "customdata": {
            "bdata": "3Ac=",
            "dtype": "i2",
            "shape": "1, 1"
           },
           "hovertemplate": "<b>%{hovertext}</b><br><br>Export Value: $%{x:,.0f}<br>Tariff Rate: %{y:.2f}%<br>Year: %{customdata[0]}<extra></extra>",
           "hovertext": [
            "South Korea"
           ],
           "ids": [
            "South Korea"
           ],
           "legendgroup": "South Korea",
           "marker": {
            "color": "#FF6692",
            "size": {
             "bdata": "NvxbKw==",
             "dtype": "i4"
            },
            "sizemode": "area",
            "sizeref": 10789250.270277778,
            "symbol": "circle"
           },
           "mode": "markers",
           "name": "South Korea",
           "orientation": "v",
           "showlegend": true,
           "type": "scatter",
           "x": {
            "bdata": "NvxbKw==",
            "dtype": "i4"
           },
           "xaxis": "x",
           "y": {
            "bdata": "zczMzMxMKEA=",
            "dtype": "f8"
           },
           "yaxis": "y"
          },
          {
           "customdata": {
            "bdata": "3Ac=",
            "dtype": "i2",
            "shape": "1, 1"
           },
           "hovertemplate": "<b>%{hovertext}</b><br><br>Export Value: $%{x:,.0f}<br>Tariff Rate: %{y:.2f}%<br>Year: %{customdata[0]}<extra></extra>",
           "hovertext": [
            "Saudi Arabia"
           ],
           "ids": [
            "Saudi Arabia"
           ],
           "legendgroup": "Saudi Arabia",
           "marker": {
            "color": "#B6E880",
            "size": [
             4838045032
            ],
            "sizemode": "area",
            "sizeref": 10789250.270277778,
            "symbol": "circle"
           },
           "mode": "markers",
           "name": "Saudi Arabia",
           "orientation": "v",
           "showlegend": true,
           "type": "scatter",
           "x": [
            4838045032
           ],
           "xaxis": "x",
           "y": {
            "bdata": "zczMzMzMEUA=",
            "dtype": "f8"
           },
           "yaxis": "y"
          },
          {
           "customdata": {
            "bdata": "3Ac=",
            "dtype": "i2",
            "shape": "1, 1"
           },
           "hovertemplate": "<b>%{hovertext}</b><br><br>Export Value: $%{x:,.0f}<br>Tariff Rate: %{y:.2f}%<br>Year: %{customdata[0]}<extra></extra>",
           "hovertext": [
            "Japan"
           ],
           "ids": [
            "Japan"
           ],
           "legendgroup": "Japan",
           "marker": {
            "color": "#FECB52",
            "size": {
             "bdata": "6EWUWQ==",
             "dtype": "i4"
            },
            "sizemode": "area",
            "sizeref": 10789250.270277778,
            "symbol": "circle"
           },
           "mode": "markers",
           "name": "Japan",
           "orientation": "v",
           "showlegend": true,
           "type": "scatter",
           "x": {
            "bdata": "6EWUWQ==",
            "dtype": "i4"
           },
           "xaxis": "x",
           "y": {
            "bdata": "pHA9CtejEUA=",
            "dtype": "f8"
           },
           "yaxis": "y"
          },
          {
           "customdata": {
            "bdata": "3AfcBw==",
            "dtype": "i2",
            "shape": "2, 1"
           },
           "hovertemplate": "<b>%{hovertext}</b><br><br>Export Value: $%{x:,.0f}<br>Tariff Rate: %{y:.2f}%<br>Year: %{customdata[0]}<extra></extra>",
           "hovertext": [
            "United Kingdom",
            "United Kingdom"
           ],
           "ids": [
            "United Kingdom",
            "United Kingdom"
           ],
           "legendgroup": "United Kingdom",
           "marker": {
            "color": "#636efa",
            "size": {
             "bdata": "RvXDSLjYn0E=",
             "dtype": "i4"
            },
            "sizemode": "area",
            "sizeref": 10789250.270277778,
            "symbol": "circle"
           },
           "mode": "markers",
           "name": "United Kingdom",
           "orientation": "v",
           "showlegend": true,
           "type": "scatter",
           "x": {
            "bdata": "RvXDSLjYn0E=",
            "dtype": "i4"
           },
           "xaxis": "x",
           "y": {
            "bdata": "exSuR+F6E0B7FK5H4XoTQA==",
            "dtype": "f8"
           },
           "yaxis": "y"
          },
          {
           "customdata": {
            "bdata": "3Ac=",
            "dtype": "i2",
            "shape": "1, 1"
           },
           "hovertemplate": "<b>%{hovertext}</b><br><br>Export Value: $%{x:,.0f}<br>Tariff Rate: %{y:.2f}%<br>Year: %{customdata[0]}<extra></extra>",
           "hovertext": [
            "Brazil"
           ],
           "ids": [
            "Brazil"
           ],
           "legendgroup": "Brazil",
           "marker": {
            "color": "#EF553B",
            "size": {
             "bdata": "aN0lPQ==",
             "dtype": "i4"
            },
            "sizemode": "area",
            "sizeref": 10789250.270277778,
            "symbol": "circle"
           },
           "mode": "markers",
           "name": "Brazil",
           "orientation": "v",
           "showlegend": true,
           "type": "scatter",
           "x": {
            "bdata": "aN0lPQ==",
            "dtype": "i4"
           },
           "xaxis": "x",
           "y": {
            "bdata": "exSuR+F6K0A=",
            "dtype": "f8"
           },
           "yaxis": "y"
          },
          {
           "customdata": {
            "bdata": "3Ac=",
            "dtype": "i2",
            "shape": "1, 1"
           },
           "hovertemplate": "<b>%{hovertext}</b><br><br>Export Value: $%{x:,.0f}<br>Tariff Rate: %{y:.2f}%<br>Year: %{customdata[0]}<extra></extra>",
           "hovertext": [
            "Kuwait"
           ],
           "ids": [
            "Kuwait"
           ],
           "legendgroup": "Kuwait",
           "marker": {
            "color": "#FECB52",
            "size": {
             "bdata": "JwFkNw==",
             "dtype": "i4"
            },
            "sizemode": "area",
            "sizeref": 10789250.270277778,
            "symbol": "circle"
           },
           "mode": "markers",
           "name": "Kuwait",
           "orientation": "v",
           "showlegend": true,
           "type": "scatter",
           "x": {
            "bdata": "JwFkNw==",
            "dtype": "i4"
           },
           "xaxis": "x",
           "y": {
            "bdata": "H4XrUbgeEkA=",
            "dtype": "f8"
           },
           "yaxis": "y"
          },
          {
           "customdata": {
            "bdata": "3Ac=",
            "dtype": "i2",
            "shape": "1, 1"
           },
           "hovertemplate": "<b>%{hovertext}</b><br><br>Export Value: $%{x:,.0f}<br>Tariff Rate: %{y:.2f}%<br>Year: %{customdata[0]}<extra></extra>",
           "hovertext": [
            "Venezuela"
           ],
           "ids": [
            "Venezuela"
           ],
           "legendgroup": "Venezuela",
           "marker": {
            "color": "#636efa",
            "size": {
             "bdata": "tBo4Og==",
             "dtype": "i4"
            },
            "sizemode": "area",
            "sizeref": 10789250.270277778,
            "symbol": "circle"
           },
           "mode": "markers",
           "name": "Venezuela",
           "orientation": "v",
           "showlegend": true,
           "type": "scatter",
           "x": {
            "bdata": "tBo4Og==",
            "dtype": "i4"
           },
           "xaxis": "x",
           "y": {
            "bdata": "ii8+mYf3H0A=",
            "dtype": "f8"
           },
           "yaxis": "y"
          }
         ],
         "name": "2012"
        },
        {
         "data": [
          {
           "customdata": {
            "bdata": "2wfbBw==",
            "dtype": "i2",
            "shape": "2, 1"
           },
           "hovertemplate": "<b>%{hovertext}</b><br><br>Export Value: $%{x:,.0f}<br>Tariff Rate: %{y:.2f}%<br>Year: %{customdata[0]}<extra></extra>",
           "hovertext": [
            "Mexico",
            "Mexico"
           ],
           "ids": [
            "Mexico",
            "Mexico"
           ],
           "legendgroup": "Mexico",
           "marker": {
            "color": "#636efa",
            "size": [
             21596577589,
             3174225028
            ],
            "sizemode": "area",
            "sizeref": 10789250.270277778,
            "symbol": "circle"
           },
           "mode": "markers",
           "name": "Mexico",
           "orientation": "v",
           "showlegend": true,
           "type": "scatter",
           "x": [
            21596577589,
            3174225028
           ],
           "xaxis": "x",
           "y": {
            "bdata": "mpmZmZkZIECamZmZmRkgQA==",
            "dtype": "f8"
           },
           "yaxis": "y"
          },
          {
           "customdata": {
            "bdata": "2wfbB9sH",
            "dtype": "i2",
            "shape": "3, 1"
           },
           "hovertemplate": "<b>%{hovertext}</b><br><br>Export Value: $%{x:,.0f}<br>Tariff Rate: %{y:.2f}%<br>Year: %{customdata[0]}<extra></extra>",
           "hovertext": [
            "Canada",
            "Canada",
            "Canada"
           ],
           "ids": [
            "Canada",
            "Canada",
            "Canada"
           ],
           "legendgroup": "Canada",
           "marker": {
            "color": "#EF553B",
            "size": [
             28560672661,
             17902530002,
             5013353082
            ],
            "sizemode": "area",
            "sizeref": 10789250.270277778,
            "symbol": "circle"
           },
           "mode": "markers",
           "name": "Canada",
           "orientation": "v",
           "showlegend": true,
           "type": "scatter",
           "x": [
            28560672661,
            17902530002,
            5013353082
           ],
           "xaxis": "x",
           "y": {
            "bdata": "MzMzMzMzDUAzMzMzMzMNQDMzMzMzMw1A",
            "dtype": "f8"
           },
           "yaxis": "y"
          },
          {
           "customdata": {
            "bdata": "2wfbBw==",
            "dtype": "i2",
            "shape": "2, 1"
           },
           "hovertemplate": "<b>%{hovertext}</b><br><br>Export Value: $%{x:,.0f}<br>Tariff Rate: %{y:.2f}%<br>Year: %{customdata[0]}<extra></extra>",
           "hovertext": [
            "Germany",
            "Germany"
           ],
           "ids": [
            "Germany",
            "Germany"
           ],
           "legendgroup": "Germany",
           "marker": {
            "color": "#00cc96",
            "size": [
             5146003729,
             1742369410
            ],
            "sizemode": "area",
            "sizeref": 10789250.270277778,
            "symbol": "circle"
           },
           "mode": "markers",
           "name": "Germany",
           "orientation": "v",
           "showlegend": true,
           "type": "scatter",
           "x": [
            5146003729,
            1742369410
           ],
           "xaxis": "x",
           "y": {
            "bdata": "16NwPQrXFEDXo3A9CtcUQA==",
            "dtype": "f8"
           },
           "yaxis": "y"
          },
          {
           "customdata": {
            "bdata": "2wfbBw==",
            "dtype": "i2",
            "shape": "2, 1"
           },
           "hovertemplate": "<b>%{hovertext}</b><br><br>Export Value: $%{x:,.0f}<br>Tariff Rate: %{y:.2f}%<br>Year: %{customdata[0]}<extra></extra>",
           "hovertext": [
            "China",
            "China"
           ],
           "ids": [
            "China",
            "China"
           ],
           "legendgroup": "China",
           "marker": {
            "color": "#ab63fa",
            "size": [
             4306360159,
             1556518483
            ],
            "sizemode": "area",
            "sizeref": 10789250.270277778,
            "symbol": "circle"
           },
           "mode": "markers",
           "name": "China",
           "orientation": "v",
           "showlegend": true,
           "type": "scatter",
           "x": [
            4306360159,
            1556518483
           ],
           "xaxis": "x",
           "y": {
            "bdata": "PQrXo3A9I0A9CtejcD0jQA==",
            "dtype": "f8"
           },
           "yaxis": "y"
          },
          {
           "customdata": {
            "bdata": "2wfbBw==",
            "dtype": "i2",
            "shape": "2, 1"
           },
           "hovertemplate": "<b>%{hovertext}</b><br><br>Export Value: $%{x:,.0f}<br>Tariff Rate: %{y:.2f}%<br>Year: %{customdata[0]}<extra></extra>",
           "hovertext": [
            "Australia",
            "Australia"
           ],
           "ids": [
            "Australia",
            "Australia"
           ],
           "legendgroup": "Australia",
           "marker": {
            "color": "#FFA15A",
            "size": {
             "bdata": "feLCVZam1Ss=",
             "dtype": "i4"
            },
            "sizemode": "area",
            "sizeref": 10789250.270277778,
            "symbol": "circle"
           },
           "mode": "markers",
           "name": "Australia",
           "orientation": "v",
           "showlegend": true,
           "type": "scatter",
           "x": {
            "bdata": "feLCVZam1Ss=",
            "dtype": "i4"
           },
           "xaxis": "x",
           "y": {
            "bdata": "ZmZmZmZmCEBmZmZmZmYIQA==",
            "dtype": "f8"
           },
           "yaxis": "y"
          },
          {
           "customdata": {
            "bdata": "2wc=",
            "dtype": "i2",
            "shape": "1, 1"
           },
           "hovertemplate": "<b>%{hovertext}</b><br><br>Export Value: $%{x:,.0f}<br>Tariff Rate: %{y:.2f}%<br>Year: %{customdata[0]}<extra></extra>",
           "hovertext": [
            "United Arab Emirates"
           ],
           "ids": [
            "United Arab Emirates"
           ],
           "legendgroup": "United Arab Emirates",
           "marker": {
            "color": "#19d3f3",
            "size": {
             "bdata": "5T0VRw==",
             "dtype": "i4"
            },
            "sizemode": "area",
            "sizeref": 10789250.270277778,
            "symbol": "circle"
           },
           "mode": "markers",
           "name": "United Arab Emirates",
           "orientation": "v",
           "showlegend": true,
           "type": "scatter",
           "x": {
            "bdata": "5T0VRw==",
            "dtype": "i4"
           },
           "xaxis": "x",
           "y": {
            "bdata": "FK5H4XoUE0A=",
            "dtype": "f8"
           },
           "yaxis": "y"
          },
          {
           "customdata": {
            "bdata": "2wc=",
            "dtype": "i2",
            "shape": "1, 1"
           },
           "hovertemplate": "<b>%{hovertext}</b><br><br>Export Value: $%{x:,.0f}<br>Tariff Rate: %{y:.2f}%<br>Year: %{customdata[0]}<extra></extra>",
           "hovertext": [
            "South Korea"
           ],
           "ids": [
            "South Korea"
           ],
           "legendgroup": "South Korea",
           "marker": {
            "color": "#FF6692",
            "size": {
             "bdata": "okDCMA==",
             "dtype": "i4"
            },
            "sizemode": "area",
            "sizeref": 10789250.270277778,
            "symbol": "circle"
           },
           "mode": "markers",
           "name": "South Korea",
           "orientation": "v",
           "showlegend": true,
           "type": "scatter",
           "x": {
            "bdata": "okDCMA==",
            "dtype": "i4"
           },
           "xaxis": "x",
           "y": {
            "bdata": "SOF6FK7HJ0A=",
            "dtype": "f8"
           },
           "yaxis": "y"
          },
          {
           "customdata": {
            "bdata": "2wc=",
            "dtype": "i2",
            "shape": "1, 1"
           },
           "hovertemplate": "<b>%{hovertext}</b><br><br>Export Value: $%{x:,.0f}<br>Tariff Rate: %{y:.2f}%<br>Year: %{customdata[0]}<extra></extra>",
           "hovertext": [
            "Saudi Arabia"
           ],
           "ids": [
            "Saudi Arabia"
           ],
           "legendgroup": "Saudi Arabia",
           "marker": {
            "color": "#B6E880",
            "size": [
             3513189412
            ],
            "sizemode": "area",
            "sizeref": 10789250.270277778,
            "symbol": "circle"
           },
           "mode": "markers",
           "name": "Saudi Arabia",
           "orientation": "v",
           "showlegend": true,
           "type": "scatter",
           "x": [
            3513189412
           ],
           "xaxis": "x",
           "y": {
            "bdata": "CtejcD0KE0A=",
            "dtype": "f8"
           },
           "yaxis": "y"
          },
          {
           "customdata": {
            "bdata": "2wc=",
            "dtype": "i2",
            "shape": "1, 1"
           },
           "hovertemplate": "<b>%{hovertext}</b><br><br>Export Value: $%{x:,.0f}<br>Tariff Rate: %{y:.2f}%<br>Year: %{customdata[0]}<extra></extra>",
           "hovertext": [
            "Japan"
           ],
           "ids": [
            "Japan"
           ],
           "legendgroup": "Japan",
           "marker": {
            "color": "#FECB52",
            "size": {
             "bdata": "DAJkVg==",
             "dtype": "i4"
            },
            "sizemode": "area",
            "sizeref": 10789250.270277778,
            "symbol": "circle"
           },
           "mode": "markers",
           "name": "Japan",
           "orientation": "v",
           "showlegend": true,
           "type": "scatter",
           "x": {
            "bdata": "DAJkVg==",
            "dtype": "i4"
           },
           "xaxis": "x",
           "y": {
            "bdata": "pHA9CtejEkA=",
            "dtype": "f8"
           },
           "yaxis": "y"
          },
          {
           "customdata": {
            "bdata": "2wfbBw==",
            "dtype": "i2",
            "shape": "2, 1"
           },
           "hovertemplate": "<b>%{hovertext}</b><br><br>Export Value: $%{x:,.0f}<br>Tariff Rate: %{y:.2f}%<br>Year: %{customdata[0]}<extra></extra>",
           "hovertext": [
            "United Kingdom",
            "United Kingdom"
           ],
           "ids": [
            "United Kingdom",
            "United Kingdom"
           ],
           "legendgroup": "United Kingdom",
           "marker": {
            "color": "#636efa",
            "size": {
             "bdata": "o6p/RoIWykM=",
             "dtype": "i4"
            },
            "sizemode": "area",
            "sizeref": 10789250.270277778,
            "symbol": "circle"
           },
           "mode": "markers",
           "name": "United Kingdom",
           "orientation": "v",
           "showlegend": true,
           "type": "scatter",
           "x": {
            "bdata": "o6p/RoIWykM=",
            "dtype": "i4"
           },
           "xaxis": "x",
           "y": {
            "bdata": "exSuR+F6E0B7FK5H4XoTQA==",
            "dtype": "f8"
           },
           "yaxis": "y"
          },
          {
           "customdata": {
            "bdata": "2wc=",
            "dtype": "i2",
            "shape": "1, 1"
           },
           "hovertemplate": "<b>%{hovertext}</b><br><br>Export Value: $%{x:,.0f}<br>Tariff Rate: %{y:.2f}%<br>Year: %{customdata[0]}<extra></extra>",
           "hovertext": [
            "Brazil"
           ],
           "ids": [
            "Brazil"
           ],
           "legendgroup": "Brazil",
           "marker": {
            "color": "#EF553B",
            "size": {
             "bdata": "dtj8QA==",
             "dtype": "i4"
            },
            "sizemode": "area",
            "sizeref": 10789250.270277778,
            "symbol": "circle"
           },
           "mode": "markers",
           "name": "Brazil",
           "orientation": "v",
           "showlegend": true,
           "type": "scatter",
           "x": {
            "bdata": "dtj8QA==",
            "dtype": "i4"
           },
           "xaxis": "x",
           "y": {
            "bdata": "hetRuB6FK0A=",
            "dtype": "f8"
           },
           "yaxis": "y"
          },
          {
           "customdata": {
            "bdata": "2wc=",
            "dtype": "i2",
            "shape": "1, 1"
           },
           "hovertemplate": "<b>%{hovertext}</b><br><br>Export Value: $%{x:,.0f}<br>Tariff Rate: %{y:.2f}%<br>Year: %{customdata[0]}<extra></extra>",
           "hovertext": [
            "Kuwait"
           ],
           "ids": [
            "Kuwait"
           ],
           "legendgroup": "Kuwait",
           "marker": {
            "color": "#FECB52",
            "size": {
             "bdata": "Tg82Lw==",
             "dtype": "i4"
            },
            "sizemode": "area",
            "sizeref": 10789250.270277778,
            "symbol": "circle"
           },
           "mode": "markers",
           "name": "Kuwait",
           "orientation": "v",
           "showlegend": true,
           "type": "scatter",
           "x": {
            "bdata": "Tg82Lw==",
            "dtype": "i4"
           },
           "xaxis": "x",
           "y": {
            "bdata": "cT0K16NwEkA=",
            "dtype": "f8"
           },
           "yaxis": "y"
          },
          {
           "customdata": {
            "bdata": "2wc=",
            "dtype": "i2",
            "shape": "1, 1"
           },
           "hovertemplate": "<b>%{hovertext}</b><br><br>Export Value: $%{x:,.0f}<br>Tariff Rate: %{y:.2f}%<br>Year: %{customdata[0]}<extra></extra>",
           "hovertext": [
            "Venezuela"
           ],
           "ids": [
            "Venezuela"
           ],
           "legendgroup": "Venezuela",
           "marker": {
            "color": "#636efa",
            "size": {
             "bdata": "J/KGLw==",
             "dtype": "i4"
            },
            "sizemode": "area",
            "sizeref": 10789250.270277778,
            "symbol": "circle"
           },
           "mode": "markers",
           "name": "Venezuela",
           "orientation": "v",
           "showlegend": true,
           "type": "scatter",
           "x": {
            "bdata": "J/KGLw==",
            "dtype": "i4"
           },
           "xaxis": "x",
           "y": {
            "bdata": "ii8+mYf3H0A=",
            "dtype": "f8"
           },
           "yaxis": "y"
          }
         ],
         "name": "2011"
        },
        {
         "data": [
          {
           "customdata": {
            "bdata": "2gfaBw==",
            "dtype": "i2",
            "shape": "2, 1"
           },
           "hovertemplate": "<b>%{hovertext}</b><br><br>Export Value: $%{x:,.0f}<br>Tariff Rate: %{y:.2f}%<br>Year: %{customdata[0]}<extra></extra>",
           "hovertext": [
            "Mexico",
            "Mexico"
           ],
           "ids": [
            "Mexico",
            "Mexico"
           ],
           "legendgroup": "Mexico",
           "marker": {
            "color": "#636efa",
            "size": [
             17515733063,
             2842508188
            ],
            "sizemode": "area",
            "sizeref": 10789250.270277778,
            "symbol": "circle"
           },
           "mode": "markers",
           "name": "Mexico",
           "orientation": "v",
           "showlegend": true,
           "type": "scatter",
           "x": [
            17515733063,
            2842508188
           ],
           "xaxis": "x",
           "y": {
            "bdata": "H4XrUbieIUAfhetRuJ4hQA==",
            "dtype": "f8"
           },
           "yaxis": "y"
          },
          {
           "customdata": {
            "bdata": "2gfaB9oH",
            "dtype": "i2",
            "shape": "3, 1"
           },
           "hovertemplate": "<b>%{hovertext}</b><br><br>Export Value: $%{x:,.0f}<br>Tariff Rate: %{y:.2f}%<br>Year: %{customdata[0]}<extra></extra>",
           "hovertext": [
            "Canada",
            "Canada",
            "Canada"
           ],
           "ids": [
            "Canada",
            "Canada",
            "Canada"
           ],
           "legendgroup": "Canada",
           "marker": {
            "color": "#EF553B",
            "size": [
             26021629647,
             16995719535,
             3970350074
            ],
            "sizemode": "area",
            "sizeref": 10789250.270277778,
            "symbol": "circle"
           },
           "mode": "markers",
           "name": "Canada",
           "orientation": "v",
           "showlegend": true,
           "type": "scatter",
           "x": [
            26021629647,
            16995719535,
            3970350074
           ],
           "xaxis": "x",
           "y": {
            "bdata": "mpmZmZmZDUCamZmZmZkNQJqZmZmZmQ1A",
            "dtype": "f8"
           },
           "yaxis": "y"
          },
          {
           "customdata": {
            "bdata": "2gfaBw==",
            "dtype": "i2",
            "shape": "2, 1"
           },
           "hovertemplate": "<b>%{hovertext}</b><br><br>Export Value: $%{x:,.0f}<br>Tariff Rate: %{y:.2f}%<br>Year: %{customdata[0]}<extra></extra>",
           "hovertext": [
            "Germany",
            "Germany"
           ],
           "ids": [
            "Germany",
            "Germany"
           ],
           "legendgroup": "Germany",
           "marker": {
            "color": "#00cc96",
            "size": [
             3633810812,
             1572329039
            ],
            "sizemode": "area",
            "sizeref": 10789250.270277778,
            "symbol": "circle"
           },
           "mode": "markers",
           "name": "Germany",
           "orientation": "v",
           "showlegend": true,
           "type": "scatter",
           "x": [
            3633810812,
            1572329039
           ],
           "xaxis": "x",
           "y": {
            "bdata": "w/UoXI/CFEDD9Shcj8IUQA==",
            "dtype": "f8"
           },
           "yaxis": "y"
          },
          {
           "customdata": {
            "bdata": "2gfaBw==",
            "dtype": "i2",
            "shape": "2, 1"
           },
           "hovertemplate": "<b>%{hovertext}</b><br><br>Export Value: $%{x:,.0f}<br>Tariff Rate: %{y:.2f}%<br>Year: %{customdata[0]}<extra></extra>",
           "hovertext": [
            "China",
            "China"
           ],
           "ids": [
            "China",
            "China"
           ],
           "legendgroup": "China",
           "marker": {
            "color": "#ab63fa",
            "size": [
             2921382708,
             1332387970
            ],
            "sizemode": "area",
            "sizeref": 10789250.270277778,
            "symbol": "circle"
           },
           "mode": "markers",
           "name": "China",
           "orientation": "v",
           "showlegend": true,
           "type": "scatter",
           "x": [
            2921382708,
            1332387970
           ],
           "xaxis": "x",
           "y": {
            "bdata": "KVyPwvUoI0ApXI/C9SgjQA==",
            "dtype": "f8"
           },
           "yaxis": "y"
          },
          {
           "customdata": {
            "bdata": "2gc=",
            "dtype": "i2",
            "shape": "1, 1"
           },
           "hovertemplate": "<b>%{hovertext}</b><br><br>Export Value: $%{x:,.0f}<br>Tariff Rate: %{y:.2f}%<br>Year: %{customdata[0]}<extra></extra>",
           "hovertext": [
            "Australia"
           ],
           "ids": [
            "Australia"
           ],
           "legendgroup": "Australia",
           "marker": {
            "color": "#FFA15A",
            "size": {
             "bdata": "am/dQg==",
             "dtype": "i4"
            },
            "sizemode": "area",
            "sizeref": 10789250.270277778,
            "symbol": "circle"
           },
           "mode": "markers",
           "name": "Australia",
           "orientation": "v",
           "showlegend": true,
           "type": "scatter",
           "x": {
            "bdata": "am/dQg==",
            "dtype": "i4"
           },
           "xaxis": "x",
           "y": {
            "bdata": "pHA9CtejCEA=",
            "dtype": "f8"
           },
           "yaxis": "y"
          },
          {
           "customdata": {
            "bdata": "2gc=",
            "dtype": "i2",
            "shape": "1, 1"
           },
           "hovertemplate": "<b>%{hovertext}</b><br><br>Export Value: $%{x:,.0f}<br>Tariff Rate: %{y:.2f}%<br>Year: %{customdata[0]}<extra></extra>",
           "hovertext": [
            "United Arab Emirates"
           ],
           "ids": [
            "United Arab Emirates"
           ],
           "legendgroup": "United Arab Emirates",
           "marker": {
            "color": "#19d3f3",
            "size": {
             "bdata": "cEZLPg==",
             "dtype": "i4"
            },
            "sizemode": "area",
            "sizeref": 10789250.270277778,
            "symbol": "circle"
           },
           "mode": "markers",
           "name": "United Arab Emirates",
           "orientation": "v",
           "showlegend": true,
           "type": "scatter",
           "x": {
            "bdata": "cEZLPg==",
            "dtype": "i4"
           },
           "xaxis": "x",
           "y": {
            "bdata": "SOF6FK7HE0A=",
            "dtype": "f8"
           },
           "yaxis": "y"
          },
          {
           "customdata": {
            "bdata": "2gc=",
            "dtype": "i2",
            "shape": "1, 1"
           },
           "hovertemplate": "<b>%{hovertext}</b><br><br>Export Value: $%{x:,.0f}<br>Tariff Rate: %{y:.2f}%<br>Year: %{customdata[0]}<extra></extra>",
           "hovertext": [
            "South Korea"
           ],
           "ids": [
            "South Korea"
           ],
           "legendgroup": "South Korea",
           "marker": {
            "color": "#FF6692",
            "size": {
             "bdata": "Xu6jHQ==",
             "dtype": "i4"
            },
            "sizemode": "area",
            "sizeref": 10789250.270277778,
            "symbol": "circle"
           },
           "mode": "markers",
           "name": "South Korea",
           "orientation": "v",
           "showlegend": true,
           "type": "scatter",
           "x": {
            "bdata": "Xu6jHQ==",
            "dtype": "i4"
           },
           "xaxis": "x",
           "y": {
            "bdata": "uB6F61E4KEA=",
            "dtype": "f8"
           },
           "yaxis": "y"
          },
          {
           "customdata": {
            "bdata": "2gc=",
            "dtype": "i2",
            "shape": "1, 1"
           },
           "hovertemplate": "<b>%{hovertext}</b><br><br>Export Value: $%{x:,.0f}<br>Tariff Rate: %{y:.2f}%<br>Year: %{customdata[0]}<extra></extra>",
           "hovertext": [
            "Saudi Arabia"
           ],
           "ids": [
            "Saudi Arabia"
           ],
           "legendgroup": "Saudi Arabia",
           "marker": {
            "color": "#B6E880",
            "size": [
             2938581471
            ],
            "sizemode": "area",
            "sizeref": 10789250.270277778,
            "symbol": "circle"
           },
           "mode": "markers",
           "name": "Saudi Arabia",
           "orientation": "v",
           "showlegend": true,
           "type": "scatter",
           "x": [
            2938581471
           ],
           "xaxis": "x",
           "y": {
            "bdata": "HoXrUbgeDEA=",
            "dtype": "f8"
           },
           "yaxis": "y"
          },
          {
           "customdata": {
            "bdata": "2gc=",
            "dtype": "i2",
            "shape": "1, 1"
           },
           "hovertemplate": "<b>%{hovertext}</b><br><br>Export Value: $%{x:,.0f}<br>Tariff Rate: %{y:.2f}%<br>Year: %{customdata[0]}<extra></extra>",
           "hovertext": [
            "Japan"
           ],
           "ids": [
            "Japan"
           ],
           "legendgroup": "Japan",
           "marker": {
            "color": "#FECB52",
            "size": {
             "bdata": "DuCFTg==",
             "dtype": "i4"
            },
            "sizemode": "area",
            "sizeref": 10789250.270277778,
            "symbol": "circle"
           },
           "mode": "markers",
           "name": "Japan",
           "orientation": "v",
           "showlegend": true,
           "type": "scatter",
           "x": {
            "bdata": "DuCFTg==",
            "dtype": "i4"
           },
           "xaxis": "x",
           "y": {
            "bdata": "uB6F61G4EEA=",
            "dtype": "f8"
           },
           "yaxis": "y"
          },
          {
           "customdata": {
            "bdata": "2gfaBw==",
            "dtype": "i2",
            "shape": "2, 1"
           },
           "hovertemplate": "<b>%{hovertext}</b><br><br>Export Value: $%{x:,.0f}<br>Tariff Rate: %{y:.2f}%<br>Year: %{customdata[0]}<extra></extra>",
           "hovertext": [
            "United Kingdom",
            "United Kingdom"
           ],
           "ids": [
            "United Kingdom",
            "United Kingdom"
           ],
           "legendgroup": "United Kingdom",
           "marker": {
            "color": "#636efa",
            "size": {
             "bdata": "dim6N36A4y8=",
             "dtype": "i4"
            },
            "sizemode": "area",
            "sizeref": 10789250.270277778,
            "symbol": "circle"
           },
           "mode": "markers",
           "name": "United Kingdom",
           "orientation": "v",
           "showlegend": true,
           "type": "scatter",
           "x": {
            "bdata": "dim6N36A4y8=",
            "dtype": "i4"
           },
           "xaxis": "x",
           "y": {
            "bdata": "j8L1KFyPE0CPwvUoXI8TQA==",
            "dtype": "f8"
           },
           "yaxis": "y"
          },
          {
           "customdata": {
            "bdata": "2gc=",
            "dtype": "i2",
            "shape": "1, 1"
           },
           "hovertemplate": "<b>%{hovertext}</b><br><br>Export Value: $%{x:,.0f}<br>Tariff Rate: %{y:.2f}%<br>Year: %{customdata[0]}<extra></extra>",
           "hovertext": [
            "Brazil"
           ],
           "ids": [
            "Brazil"
           ],
           "legendgroup": "Brazil",
           "marker": {
            "color": "#EF553B",
            "size": {
             "bdata": "mDa2OA==",
             "dtype": "i4"
            },
            "sizemode": "area",
            "sizeref": 10789250.270277778,
            "symbol": "circle"
           },
           "mode": "markers",
           "name": "Brazil",
           "orientation": "v",
           "showlegend": true,
           "type": "scatter",
           "x": {
            "bdata": "mDa2OA==",
            "dtype": "i4"
           },
           "xaxis": "x",
           "y": {
            "bdata": "j8L1KFyPK0A=",
            "dtype": "f8"
           },
           "yaxis": "y"
          },
          {
           "customdata": {
            "bdata": "2gc=",
            "dtype": "i2",
            "shape": "1, 1"
           },
           "hovertemplate": "<b>%{hovertext}</b><br><br>Export Value: $%{x:,.0f}<br>Tariff Rate: %{y:.2f}%<br>Year: %{customdata[0]}<extra></extra>",
           "hovertext": [
            "Kuwait"
           ],
           "ids": [
            "Kuwait"
           ],
           "legendgroup": "Kuwait",
           "marker": {
            "color": "#FECB52",
            "size": {
             "bdata": "+BYoKg==",
             "dtype": "i4"
            },
            "sizemode": "area",
            "sizeref": 10789250.270277778,
            "symbol": "circle"
           },
           "mode": "markers",
           "name": "Kuwait",
           "orientation": "v",
           "showlegend": true,
           "type": "scatter",
           "x": {
            "bdata": "+BYoKg==",
            "dtype": "i4"
           },
           "xaxis": "x",
           "y": {
            "bdata": "cT0K16NwEkA=",
            "dtype": "f8"
           },
           "yaxis": "y"
          },
          {
           "customdata": {
            "bdata": "2gc=",
            "dtype": "i2",
            "shape": "1, 1"
           },
           "hovertemplate": "<b>%{hovertext}</b><br><br>Export Value: $%{x:,.0f}<br>Tariff Rate: %{y:.2f}%<br>Year: %{customdata[0]}<extra></extra>",
           "hovertext": [
            "Venezuela"
           ],
           "ids": [
            "Venezuela"
           ],
           "legendgroup": "Venezuela",
           "marker": {
            "color": "#636efa",
            "size": {
             "bdata": "WF4zJw==",
             "dtype": "i4"
            },
            "sizemode": "area",
            "sizeref": 10789250.270277778,
            "symbol": "circle"
           },
           "mode": "markers",
           "name": "Venezuela",
           "orientation": "v",
           "showlegend": true,
           "type": "scatter",
           "x": {
            "bdata": "WF4zJw==",
            "dtype": "i4"
           },
           "xaxis": "x",
           "y": {
            "bdata": "ii8+mYf3H0A=",
            "dtype": "f8"
           },
           "yaxis": "y"
          },
          {
           "customdata": {
            "bdata": "2gc=",
            "dtype": "i2",
            "shape": "1, 1"
           },
           "hovertemplate": "<b>%{hovertext}</b><br><br>Export Value: $%{x:,.0f}<br>Tariff Rate: %{y:.2f}%<br>Year: %{customdata[0]}<extra></extra>",
           "hovertext": [
            "France"
           ],
           "ids": [
            "France"
           ],
           "legendgroup": "France",
           "marker": {
            "color": "#EF553B",
            "size": {
             "bdata": "rwzCJA==",
             "dtype": "i4"
            },
            "sizemode": "area",
            "sizeref": 10789250.270277778,
            "symbol": "circle"
           },
           "mode": "markers",
           "name": "France",
           "orientation": "v",
           "showlegend": true,
           "type": "scatter",
           "x": {
            "bdata": "rwzCJA==",
            "dtype": "i4"
           },
           "xaxis": "x",
           "y": {
            "bdata": "exSuR+F6E0A=",
            "dtype": "f8"
           },
           "yaxis": "y"
          }
         ],
         "name": "2010"
        },
        {
         "data": [
          {
           "customdata": {
            "bdata": "2QfZBw==",
            "dtype": "i2",
            "shape": "2, 1"
           },
           "hovertemplate": "<b>%{hovertext}</b><br><br>Export Value: $%{x:,.0f}<br>Tariff Rate: %{y:.2f}%<br>Year: %{customdata[0]}<extra></extra>",
           "hovertext": [
            "Mexico",
            "Mexico"
           ],
           "ids": [
            "Mexico",
            "Mexico"
           ],
           "legendgroup": "Mexico",
           "marker": {
            "color": "#636efa",
            "size": [
             12156777287,
             1987600598
            ],
            "sizemode": "area",
            "sizeref": 10789250.270277778,
            "symbol": "circle"
           },
           "mode": "markers",
           "name": "Mexico",
           "orientation": "v",
           "showlegend": true,
           "type": "scatter",
           "x": [
            12156777287,
            1987600598
           ],
           "xaxis": "x",
           "y": {
            "bdata": "hetRuB6FJkCF61G4HoUmQA==",
            "dtype": "f8"
           },
           "yaxis": "y"
          },
          {
           "customdata": {
            "bdata": "2QfZB9kH",
            "dtype": "i2",
            "shape": "3, 1"
           },
           "hovertemplate": "<b>%{hovertext}</b><br><br>Export Value: $%{x:,.0f}<br>Tariff Rate: %{y:.2f}%<br>Year: %{customdata[0]}<extra></extra>",
           "hovertext": [
            "Canada",
            "Canada",
            "Canada"
           ],
           "ids": [
            "Canada",
            "Canada",
            "Canada"
           ],
           "legendgroup": "Canada",
           "marker": {
            "color": "#EF553B",
            "size": [
             19647146485,
             12652204453,
             2563237026
            ],
            "sizemode": "area",
            "sizeref": 10789250.270277778,
            "symbol": "circle"
           },
           "mode": "markers",
           "name": "Canada",
           "orientation": "v",
           "showlegend": true,
           "type": "scatter",
           "x": [
            19647146485,
            12652204453,
            2563237026
           ],
           "xaxis": "x",
           "y": {
            "bdata": "AAAAAAAAEkAAAAAAAAASQAAAAAAAABJA",
            "dtype": "f8"
           },
           "yaxis": "y"
          },
          {
           "customdata": {
            "bdata": "2QfZBw==",
            "dtype": "i2",
            "shape": "2, 1"
           },
           "hovertemplate": "<b>%{hovertext}</b><br><br>Export Value: $%{x:,.0f}<br>Tariff Rate: %{y:.2f}%<br>Year: %{customdata[0]}<extra></extra>",
           "hovertext": [
            "Germany",
            "Germany"
           ],
           "ids": [
            "Germany",
            "Germany"
           ],
           "legendgroup": "Germany",
           "marker": {
            "color": "#00cc96",
            "size": [
             4359799043,
             1265021691
            ],
            "sizemode": "area",
            "sizeref": 10789250.270277778,
            "symbol": "circle"
           },
           "mode": "markers",
           "name": "Germany",
           "orientation": "v",
           "showlegend": true,
           "type": "scatter",
           "x": [
            4359799043,
            1265021691
           ],
           "xaxis": "x",
           "y": {
            "bdata": "j8L1KFyPFECPwvUoXI8UQA==",
            "dtype": "f8"
           },
           "yaxis": "y"
          },
          {
           "customdata": {
            "bdata": "2QfZBw==",
            "dtype": "i2",
            "shape": "2, 1"
           },
           "hovertemplate": "<b>%{hovertext}</b><br><br>Export Value: $%{x:,.0f}<br>Tariff Rate: %{y:.2f}%<br>Year: %{customdata[0]}<extra></extra>",
           "hovertext": [
            "China",
            "China"
           ],
           "ids": [
            "China",
            "China"
           ],
           "legendgroup": "China",
           "marker": {
            "color": "#ab63fa",
            "size": {
             "bdata": "V4ivOmsq+Sw=",
             "dtype": "i4"
            },
            "sizemode": "area",
            "sizeref": 10789250.270277778,
            "symbol": "circle"
           },
           "mode": "markers",
           "name": "China",
           "orientation": "v",
           "showlegend": true,
           "type": "scatter",
           "x": {
            "bdata": "V4ivOmsq+Sw=",
            "dtype": "i4"
           },
           "xaxis": "x",
           "y": {
            "bdata": "UrgehevRIkBSuB6F69EiQA==",
            "dtype": "f8"
           },
           "yaxis": "y"
          },
          {
           "customdata": {
            "bdata": "2Qc=",
            "dtype": "i2",
            "shape": "1, 1"
           },
           "hovertemplate": "<b>%{hovertext}</b><br><br>Export Value: $%{x:,.0f}<br>Tariff Rate: %{y:.2f}%<br>Year: %{customdata[0]}<extra></extra>",
           "hovertext": [
            "Australia"
           ],
           "ids": [
            "Australia"
           ],
           "legendgroup": "Australia",
           "marker": {
            "color": "#FFA15A",
            "size": {
             "bdata": "ZwCeKg==",
             "dtype": "i4"
            },
            "sizemode": "area",
            "sizeref": 10789250.270277778,
            "symbol": "circle"
           },
           "mode": "markers",
           "name": "Australia",
           "orientation": "v",
           "showlegend": true,
           "type": "scatter",
           "x": {
            "bdata": "ZwCeKg==",
            "dtype": "i4"
           },
           "xaxis": "x",
           "y": {
            "bdata": "zczMzMzMDkA=",
            "dtype": "f8"
           },
           "yaxis": "y"
          },
          {
           "customdata": {
            "bdata": "2Qc=",
            "dtype": "i2",
            "shape": "1, 1"
           },
           "hovertemplate": "<b>%{hovertext}</b><br><br>Export Value: $%{x:,.0f}<br>Tariff Rate: %{y:.2f}%<br>Year: %{customdata[0]}<extra></extra>",
           "hovertext": [
            "United Arab Emirates"
           ],
           "ids": [
            "United Arab Emirates"
           ],
           "legendgroup": "United Arab Emirates",
           "marker": {
            "color": "#19d3f3",
            "size": {
             "bdata": "2kHRIA==",
             "dtype": "i4"
            },
            "sizemode": "area",
            "sizeref": 10789250.270277778,
            "symbol": "circle"
           },
           "mode": "markers",
           "name": "United Arab Emirates",
           "orientation": "v",
           "showlegend": true,
           "type": "scatter",
           "x": {
            "bdata": "2kHRIA==",
            "dtype": "i4"
           },
           "xaxis": "x",
           "y": {
            "bdata": "exSuR+F6FEA=",
            "dtype": "f8"
           },
           "yaxis": "y"
          },
          {
           "customdata": {
            "bdata": "2Qc=",
            "dtype": "i2",
            "shape": "1, 1"
           },
           "hovertemplate": "<b>%{hovertext}</b><br><br>Export Value: $%{x:,.0f}<br>Tariff Rate: %{y:.2f}%<br>Year: %{customdata[0]}<extra></extra>",
           "hovertext": [
            "Saudi Arabia"
           ],
           "ids": [
            "Saudi Arabia"
           ],
           "legendgroup": "Saudi Arabia",
           "marker": {
            "color": "#B6E880",
            "size": {
             "bdata": "QCk/Uw==",
             "dtype": "i4"
            },
            "sizemode": "area",
            "sizeref": 10789250.270277778,
            "symbol": "circle"
           },
           "mode": "markers",
           "name": "Saudi Arabia",
           "orientation": "v",
           "showlegend": true,
           "type": "scatter",
           "x": {
            "bdata": "QCk/Uw==",
            "dtype": "i4"
           },
           "xaxis": "x",
           "y": {
            "bdata": "KVyPwvUoAkA=",
            "dtype": "f8"
           },
           "yaxis": "y"
          },
          {
           "customdata": {
            "bdata": "2Qc=",
            "dtype": "i2",
            "shape": "1, 1"
           },
           "hovertemplate": "<b>%{hovertext}</b><br><br>Export Value: $%{x:,.0f}<br>Tariff Rate: %{y:.2f}%<br>Year: %{customdata[0]}<extra></extra>",
           "hovertext": [
            "Belgium"
           ],
           "ids": [
            "Belgium"
           ],
           "legendgroup": "Belgium",
           "marker": {
            "color": "#FF97FF",
            "size": {
             "bdata": "Z8gJFA==",
             "dtype": "i4"
            },
            "sizemode": "area",
            "sizeref": 10789250.270277778,
            "symbol": "circle"
           },
           "mode": "markers",
           "name": "Belgium",
           "orientation": "v",
           "showlegend": true,
           "type": "scatter",
           "x": {
            "bdata": "Z8gJFA==",
            "dtype": "i4"
           },
           "xaxis": "x",
           "y": {
            "bdata": "pHA9CtejEkA=",
            "dtype": "f8"
           },
           "yaxis": "y"
          },
          {
           "customdata": {
            "bdata": "2Qc=",
            "dtype": "i2",
            "shape": "1, 1"
           },
           "hovertemplate": "<b>%{hovertext}</b><br><br>Export Value: $%{x:,.0f}<br>Tariff Rate: %{y:.2f}%<br>Year: %{customdata[0]}<extra></extra>",
           "hovertext": [
            "Japan"
           ],
           "ids": [
            "Japan"
           ],
           "legendgroup": "Japan",
           "marker": {
            "color": "#FECB52",
            "size": {
             "bdata": "T2IJMg==",
             "dtype": "i4"
            },
            "sizemode": "area",
            "sizeref": 10789250.270277778,
            "symbol": "circle"
           },
           "mode": "markers",
           "name": "Japan",
           "orientation": "v",
           "showlegend": true,
           "type": "scatter",
           "x": {
            "bdata": "T2IJMg==",
            "dtype": "i4"
           },
           "xaxis": "x",
           "y": {
            "bdata": "ZmZmZmZmEkA=",
            "dtype": "f8"
           },
           "yaxis": "y"
          },
          {
           "customdata": {
            "bdata": "2QfZBw==",
            "dtype": "i2",
            "shape": "2, 1"
           },
           "hovertemplate": "<b>%{hovertext}</b><br><br>Export Value: $%{x:,.0f}<br>Tariff Rate: %{y:.2f}%<br>Year: %{customdata[0]}<extra></extra>",
           "hovertext": [
            "United Kingdom",
            "United Kingdom"
           ],
           "ids": [
            "United Kingdom",
            "United Kingdom"
           ],
           "legendgroup": "United Kingdom",
           "marker": {
            "color": "#636efa",
            "size": {
             "bdata": "9jOPJJdJhRw=",
             "dtype": "i4"
            },
            "sizemode": "area",
            "sizeref": 10789250.270277778,
            "symbol": "circle"
           },
           "mode": "markers",
           "name": "United Kingdom",
           "orientation": "v",
           "showlegend": true,
           "type": "scatter",
           "x": {
            "bdata": "9jOPJJdJhRw=",
            "dtype": "i4"
           },
           "xaxis": "x",
           "y": {
            "bdata": "7FG4HoXrEkDsUbgehesSQA==",
            "dtype": "f8"
           },
           "yaxis": "y"
          },
          {
           "customdata": {
            "bdata": "2Qc=",
            "dtype": "i2",
            "shape": "1, 1"
           },
           "hovertemplate": "<b>%{hovertext}</b><br><br>Export Value: $%{x:,.0f}<br>Tariff Rate: %{y:.2f}%<br>Year: %{customdata[0]}<extra></extra>",
           "hovertext": [
            "Brazil"
           ],
           "ids": [
            "Brazil"
           ],
           "legendgroup": "Brazil",
           "marker": {
            "color": "#EF553B",
            "size": {
             "bdata": "6xChIQ==",
             "dtype": "i4"
            },
            "sizemode": "area",
            "sizeref": 10789250.270277778,
            "symbol": "circle"
           },
           "mode": "markers",
           "name": "Brazil",
           "orientation": "v",
           "showlegend": true,
           "type": "scatter",
           "x": {
            "bdata": "6xChIQ==",
            "dtype": "i4"
           },
           "xaxis": "x",
           "y": {
            "bdata": "exSuR+F6K0A=",
            "dtype": "f8"
           },
           "yaxis": "y"
          },
          {
           "customdata": {
            "bdata": "2Qc=",
            "dtype": "i2",
            "shape": "1, 1"
           },
           "hovertemplate": "<b>%{hovertext}</b><br><br>Export Value: $%{x:,.0f}<br>Tariff Rate: %{y:.2f}%<br>Year: %{customdata[0]}<extra></extra>",
           "hovertext": [
            "Kuwait"
           ],
           "ids": [
            "Kuwait"
           ],
           "legendgroup": "Kuwait",
           "marker": {
            "color": "#FECB52",
            "size": {
             "bdata": "wJRBGQ==",
             "dtype": "i4"
            },
            "sizemode": "area",
            "sizeref": 10789250.270277778,
            "symbol": "circle"
           },
           "mode": "markers",
           "name": "Kuwait",
           "orientation": "v",
           "showlegend": true,
           "type": "scatter",
           "x": {
            "bdata": "wJRBGQ==",
            "dtype": "i4"
           },
           "xaxis": "x",
           "y": {
            "bdata": "XI/C9ShcEkA=",
            "dtype": "f8"
           },
           "yaxis": "y"
          },
          {
           "customdata": {
            "bdata": "2Qc=",
            "dtype": "i2",
            "shape": "1, 1"
           },
           "hovertemplate": "<b>%{hovertext}</b><br><br>Export Value: $%{x:,.0f}<br>Tariff Rate: %{y:.2f}%<br>Year: %{customdata[0]}<extra></extra>",
           "hovertext": [
            "Venezuela"
           ],
           "ids": [
            "Venezuela"
           ],
           "legendgroup": "Venezuela",
           "marker": {
            "color": "#636efa",
            "size": {
             "bdata": "TftBKA==",
             "dtype": "i4"
            },
            "sizemode": "area",
            "sizeref": 10789250.270277778,
            "symbol": "circle"
           },
           "mode": "markers",
           "name": "Venezuela",
           "orientation": "v",
           "showlegend": true,
           "type": "scatter",
           "x": {
            "bdata": "TftBKA==",
            "dtype": "i4"
           },
           "xaxis": "x",
           "y": {
            "bdata": "ii8+mYf3H0A=",
            "dtype": "f8"
           },
           "yaxis": "y"
          },
          {
           "customdata": {
            "bdata": "2Qc=",
            "dtype": "i2",
            "shape": "1, 1"
           },
           "hovertemplate": "<b>%{hovertext}</b><br><br>Export Value: $%{x:,.0f}<br>Tariff Rate: %{y:.2f}%<br>Year: %{customdata[0]}<extra></extra>",
           "hovertext": [
            "France"
           ],
           "ids": [
            "France"
           ],
           "legendgroup": "France",
           "marker": {
            "color": "#EF553B",
            "size": {
             "bdata": "ygjMHA==",
             "dtype": "i4"
            },
            "sizemode": "area",
            "sizeref": 10789250.270277778,
            "symbol": "circle"
           },
           "mode": "markers",
           "name": "France",
           "orientation": "v",
           "showlegend": true,
           "type": "scatter",
           "x": {
            "bdata": "ygjMHA==",
            "dtype": "i4"
           },
           "xaxis": "x",
           "y": {
            "bdata": "UrgehetREkA=",
            "dtype": "f8"
           },
           "yaxis": "y"
          }
         ],
         "name": "2009"
        },
        {
         "data": [
          {
           "customdata": {
            "bdata": "2AfYBw==",
            "dtype": "i2",
            "shape": "2, 1"
           },
           "hovertemplate": "<b>%{hovertext}</b><br><br>Export Value: $%{x:,.0f}<br>Tariff Rate: %{y:.2f}%<br>Year: %{customdata[0]}<extra></extra>",
           "hovertext": [
            "Mexico",
            "Mexico"
           ],
           "ids": [
            "Mexico",
            "Mexico"
           ],
           "legendgroup": "Mexico",
           "marker": {
            "color": "#636efa",
            "size": [
             13971074278,
             4053831183
            ],
            "sizemode": "area",
            "sizeref": 10789250.270277778,
            "symbol": "circle"
           },
           "mode": "markers",
           "name": "Mexico",
           "orientation": "v",
           "showlegend": true,
           "type": "scatter",
           "x": [
            13971074278,
            4053831183
           ],
           "xaxis": "x",
           "y": {
            "bdata": "exSuR+H6KEB7FK5H4fooQA==",
            "dtype": "f8"
           },
           "yaxis": "y"
          },
          {
           "customdata": {
            "bdata": "2AfYB9gH",
            "dtype": "i2",
            "shape": "3, 1"
           },
           "hovertemplate": "<b>%{hovertext}</b><br><br>Export Value: $%{x:,.0f}<br>Tariff Rate: %{y:.2f}%<br>Year: %{customdata[0]}<extra></extra>",
           "hovertext": [
            "Canada",
            "Canada",
            "Canada"
           ],
           "ids": [
            "Canada",
            "Canada",
            "Canada"
           ],
           "legendgroup": "Canada",
           "marker": {
            "color": "#EF553B",
            "size": [
             28258965666,
             17859000199,
             3804919203
            ],
            "sizemode": "area",
            "sizeref": 10789250.270277778,
            "symbol": "circle"
           },
           "mode": "markers",
           "name": "Canada",
           "orientation": "v",
           "showlegend": true,
           "type": "scatter",
           "x": [
            28258965666,
            17859000199,
            3804919203
           ],
           "xaxis": "x",
           "y": {
            "bdata": "rkfhehSuEkCuR+F6FK4SQK5H4XoUrhJA",
            "dtype": "f8"
           },
           "yaxis": "y"
          },
          {
           "customdata": {
            "bdata": "2AfYBw==",
            "dtype": "i2",
            "shape": "2, 1"
           },
           "hovertemplate": "<b>%{hovertext}</b><br><br>Export Value: $%{x:,.0f}<br>Tariff Rate: %{y:.2f}%<br>Year: %{customdata[0]}<extra></extra>",
           "hovertext": [
            "Germany",
            "Germany"
           ],
           "ids": [
            "Germany",
            "Germany"
           ],
           "legendgroup": "Germany",
           "marker": {
            "color": "#00cc96",
            "size": [
             7271930736,
             1706706846
            ],
            "sizemode": "area",
            "sizeref": 10789250.270277778,
            "symbol": "circle"
           },
           "mode": "markers",
           "name": "Germany",
           "orientation": "v",
           "showlegend": true,
           "type": "scatter",
           "x": [
            7271930736,
            1706706846
           ],
           "xaxis": "x",
           "y": {
            "bdata": "w/UoXI/CEkDD9Shcj8ISQA==",
            "dtype": "f8"
           },
           "yaxis": "y"
          },
          {
           "customdata": {
            "bdata": "2AfYBw==",
            "dtype": "i2",
            "shape": "2, 1"
           },
           "hovertemplate": "<b>%{hovertext}</b><br><br>Export Value: $%{x:,.0f}<br>Tariff Rate: %{y:.2f}%<br>Year: %{customdata[0]}<extra></extra>",
           "hovertext": [
            "China",
            "China"
           ],
           "ids": [
            "China",
            "China"
           ],
           "legendgroup": "China",
           "marker": {
            "color": "#ab63fa",
            "size": {
             "bdata": "UCB6NqhWoCg=",
             "dtype": "i4"
            },
            "sizemode": "area",
            "sizeref": 10789250.270277778,
            "symbol": "circle"
           },
           "mode": "markers",
           "name": "China",
           "orientation": "v",
           "showlegend": true,
           "type": "scatter",
           "x": {
            "bdata": "UCB6NqhWoCg=",
            "dtype": "i4"
           },
           "xaxis": "x",
           "y": {
            "bdata": "CtejcD0KI0AK16NwPQojQA==",
            "dtype": "f8"
           },
           "yaxis": "y"
          },
          {
           "customdata": {
            "bdata": "2Ac=",
            "dtype": "i2",
            "shape": "1, 1"
           },
           "hovertemplate": "<b>%{hovertext}</b><br><br>Export Value: $%{x:,.0f}<br>Tariff Rate: %{y:.2f}%<br>Year: %{customdata[0]}<extra></extra>",
           "hovertext": [
            "Australia"
           ],
           "ids": [
            "Australia"
           ],
           "legendgroup": "Australia",
           "marker": {
            "color": "#FFA15A",
            "size": {
             "bdata": "mi0iOQ==",
             "dtype": "i4"
            },
            "sizemode": "area",
            "sizeref": 10789250.270277778,
            "symbol": "circle"
           },
           "mode": "markers",
           "name": "Australia",
           "orientation": "v",
           "showlegend": true,
           "type": "scatter",
           "x": {
            "bdata": "mi0iOQ==",
            "dtype": "i4"
           },
           "xaxis": "x",
           "y": {
            "bdata": "cT0K16NwEkA=",
            "dtype": "f8"
           },
           "yaxis": "y"
          },
          {
           "customdata": {
            "bdata": "2Ac=",
            "dtype": "i2",
            "shape": "1, 1"
           },
           "hovertemplate": "<b>%{hovertext}</b><br><br>Export Value: $%{x:,.0f}<br>Tariff Rate: %{y:.2f}%<br>Year: %{customdata[0]}<extra></extra>",
           "hovertext": [
            "United Arab Emirates"
           ],
           "ids": [
            "United Arab Emirates"
           ],
           "legendgroup": "United Arab Emirates",
           "marker": {
            "color": "#19d3f3",
            "size": {
             "bdata": "V91Baw==",
             "dtype": "i4"
            },
            "sizemode": "area",
            "sizeref": 10789250.270277778,
            "symbol": "circle"
           },
           "mode": "markers",
           "name": "United Arab Emirates",
           "orientation": "v",
           "showlegend": true,
           "type": "scatter",
           "x": {
            "bdata": "V91Baw==",
            "dtype": "i4"
           },
           "xaxis": "x",
           "y": {
            "bdata": "j8L1KFyPFEA=",
            "dtype": "f8"
           },
           "yaxis": "y"
          },
          {
           "customdata": {
            "bdata": "2Ac=",
            "dtype": "i2",
            "shape": "1, 1"
           },
           "hovertemplate": "<b>%{hovertext}</b><br><br>Export Value: $%{x:,.0f}<br>Tariff Rate: %{y:.2f}%<br>Year: %{customdata[0]}<extra></extra>",
           "hovertext": [
            "Saudi Arabia"
           ],
           "ids": [
            "Saudi Arabia"
           ],
           "legendgroup": "Saudi Arabia",
           "marker": {
            "color": "#B6E880",
            "size": [
             2687034032
            ],
            "sizemode": "area",
            "sizeref": 10789250.270277778,
            "symbol": "circle"
           },
           "mode": "markers",
           "name": "Saudi Arabia",
           "orientation": "v",
           "showlegend": true,
           "type": "scatter",
           "x": [
            2687034032
           ],
           "xaxis": "x",
           "y": {
            "bdata": "16NwPQrXCUA=",
            "dtype": "f8"
           },
           "yaxis": "y"
          },
          {
           "customdata": {
            "bdata": "2Ac=",
            "dtype": "i2",
            "shape": "1, 1"
           },
           "hovertemplate": "<b>%{hovertext}</b><br><br>Export Value: $%{x:,.0f}<br>Tariff Rate: %{y:.2f}%<br>Year: %{customdata[0]}<extra></extra>",
           "hovertext": [
            "Japan"
           ],
           "ids": [
            "Japan"
           ],
           "legendgroup": "Japan",
           "marker": {
            "color": "#FECB52",
            "size": {
             "bdata": "leCxXA==",
             "dtype": "i4"
            },
            "sizemode": "area",
            "sizeref": 10789250.270277778,
            "symbol": "circle"
           },
           "mode": "markers",
           "name": "Japan",
           "orientation": "v",
           "showlegend": true,
           "type": "scatter",
           "x": {
            "bdata": "leCxXA==",
            "dtype": "i4"
           },
           "xaxis": "x",
           "y": {
            "bdata": "KVyPwvUoEkA=",
            "dtype": "f8"
           },
           "yaxis": "y"
          },
          {
           "customdata": {
            "bdata": "2AfYBw==",
            "dtype": "i2",
            "shape": "2, 1"
           },
           "hovertemplate": "<b>%{hovertext}</b><br><br>Export Value: $%{x:,.0f}<br>Tariff Rate: %{y:.2f}%<br>Year: %{customdata[0]}<extra></extra>",
           "hovertext": [
            "United Kingdom",
            "United Kingdom"
           ],
           "ids": [
            "United Kingdom",
            "United Kingdom"
           ],
           "legendgroup": "United Kingdom",
           "marker": {
            "color": "#636efa",
            "size": {
             "bdata": "DLMsPsQtojQ=",
             "dtype": "i4"
            },
            "sizemode": "area",
            "sizeref": 10789250.270277778,
            "symbol": "circle"
           },
           "mode": "markers",
           "name": "United Kingdom",
           "orientation": "v",
           "showlegend": true,
           "type": "scatter",
           "x": {
            "bdata": "DLMsPsQtojQ=",
            "dtype": "i4"
           },
           "xaxis": "x",
           "y": {
            "bdata": "4XoUrkfhEkDhehSuR+ESQA==",
            "dtype": "f8"
           },
           "yaxis": "y"
          },
          {
           "customdata": {
            "bdata": "2Ac=",
            "dtype": "i2",
            "shape": "1, 1"
           },
           "hovertemplate": "<b>%{hovertext}</b><br><br>Export Value: $%{x:,.0f}<br>Tariff Rate: %{y:.2f}%<br>Year: %{customdata[0]}<extra></extra>",
           "hovertext": [
            "Brazil"
           ],
           "ids": [
            "Brazil"
           ],
           "legendgroup": "Brazil",
           "marker": {
            "color": "#EF553B",
            "size": {
             "bdata": "Cn/QMg==",
             "dtype": "i4"
            },
            "sizemode": "area",
            "sizeref": 10789250.270277778,
            "symbol": "circle"
           },
           "mode": "markers",
           "name": "Brazil",
           "orientation": "v",
           "showlegend": true,
           "type": "scatter",
           "x": {
            "bdata": "Cn/QMg==",
            "dtype": "i4"
           },
           "xaxis": "x",
           "y": {
            "bdata": "MzMzMzOzKkA=",
            "dtype": "f8"
           },
           "yaxis": "y"
          },
          {
           "customdata": {
            "bdata": "2Ac=",
            "dtype": "i2",
            "shape": "1, 1"
           },
           "hovertemplate": "<b>%{hovertext}</b><br><br>Export Value: $%{x:,.0f}<br>Tariff Rate: %{y:.2f}%<br>Year: %{customdata[0]}<extra></extra>",
           "hovertext": [
            "Russia"
           ],
           "ids": [
            "Russia"
           ],
           "legendgroup": "Russia",
           "marker": {
            "color": "#FF97FF",
            "size": {
             "bdata": "wSfwJA==",
             "dtype": "i4"
            },
            "sizemode": "area",
            "sizeref": 10789250.270277778,
            "symbol": "circle"
           },
           "mode": "markers",
           "name": "Russia",
           "orientation": "v",
           "showlegend": true,
           "type": "scatter",
           "x": {
            "bdata": "wSfwJA==",
            "dtype": "i4"
           },
           "xaxis": "x",
           "y": {
            "bdata": "MzMzMzOzI0A=",
            "dtype": "f8"
           },
           "yaxis": "y"
          },
          {
           "customdata": {
            "bdata": "2Ac=",
            "dtype": "i2",
            "shape": "1, 1"
           },
           "hovertemplate": "<b>%{hovertext}</b><br><br>Export Value: $%{x:,.0f}<br>Tariff Rate: %{y:.2f}%<br>Year: %{customdata[0]}<extra></extra>",
           "hovertext": [
            "Kuwait"
           ],
           "ids": [
            "Kuwait"
           ],
           "legendgroup": "Kuwait",
           "marker": {
            "color": "#FECB52",
            "size": {
             "bdata": "WigRLA==",
             "dtype": "i4"
            },
            "sizemode": "area",
            "sizeref": 10789250.270277778,
            "symbol": "circle"
           },
           "mode": "markers",
           "name": "Kuwait",
           "orientation": "v",
           "showlegend": true,
           "type": "scatter",
           "x": {
            "bdata": "WigRLA==",
            "dtype": "i4"
           },
           "xaxis": "x",
           "y": {
            "bdata": "SOF6FK5HEkA=",
            "dtype": "f8"
           },
           "yaxis": "y"
          },
          {
           "customdata": {
            "bdata": "2Ac=",
            "dtype": "i2",
            "shape": "1, 1"
           },
           "hovertemplate": "<b>%{hovertext}</b><br><br>Export Value: $%{x:,.0f}<br>Tariff Rate: %{y:.2f}%<br>Year: %{customdata[0]}<extra></extra>",
           "hovertext": [
            "Venezuela"
           ],
           "ids": [
            "Venezuela"
           ],
           "legendgroup": "Venezuela",
           "marker": {
            "color": "#636efa",
            "size": {
             "bdata": "KTfFNA==",
             "dtype": "i4"
            },
            "sizemode": "area",
            "sizeref": 10789250.270277778,
            "symbol": "circle"
           },
           "mode": "markers",
           "name": "Venezuela",
           "orientation": "v",
           "showlegend": true,
           "type": "scatter",
           "x": {
            "bdata": "KTfFNA==",
            "dtype": "i4"
           },
           "xaxis": "x",
           "y": {
            "bdata": "ii8+mYf3H0A=",
            "dtype": "f8"
           },
           "yaxis": "y"
          },
          {
           "customdata": {
            "bdata": "2Ac=",
            "dtype": "i2",
            "shape": "1, 1"
           },
           "hovertemplate": "<b>%{hovertext}</b><br><br>Export Value: $%{x:,.0f}<br>Tariff Rate: %{y:.2f}%<br>Year: %{customdata[0]}<extra></extra>",
           "hovertext": [
            "France"
           ],
           "ids": [
            "France"
           ],
           "legendgroup": "France",
           "marker": {
            "color": "#EF553B",
            "size": {
             "bdata": "wVLGLA==",
             "dtype": "i4"
            },
            "sizemode": "area",
            "sizeref": 10789250.270277778,
            "symbol": "circle"
           },
           "mode": "markers",
           "name": "France",
           "orientation": "v",
           "showlegend": true,
           "type": "scatter",
           "x": {
            "bdata": "wVLGLA==",
            "dtype": "i4"
           },
           "xaxis": "x",
           "y": {
            "bdata": "pHA9CtejEkA=",
            "dtype": "f8"
           },
           "yaxis": "y"
          }
         ],
         "name": "2008"
        }
       ],
       "layout": {
        "legend": {
         "itemsizing": "constant",
         "title": {
          "text": "Country"
         },
         "tracegroupgap": 0
        },
        "sliders": [
         {
          "active": 0,
          "currentvalue": {
           "prefix": "Year="
          },
          "len": 0.9,
          "pad": {
           "b": 10,
           "t": 60
          },
          "steps": [
           {
            "args": [
             [
              "2024"
             ],
             {
              "frame": {
               "duration": 0,
               "redraw": false
              },
              "fromcurrent": true,
              "mode": "immediate",
              "transition": {
               "duration": 0,
               "easing": "linear"
              }
             }
            ],
            "label": "2024",
            "method": "animate"
           },
           {
            "args": [
             [
              "2023"
             ],
             {
              "frame": {
               "duration": 0,
               "redraw": false
              },
              "fromcurrent": true,
              "mode": "immediate",
              "transition": {
               "duration": 0,
               "easing": "linear"
              }
             }
            ],
            "label": "2023",
            "method": "animate"
           },
           {
            "args": [
             [
              "2022"
             ],
             {
              "frame": {
               "duration": 0,
               "redraw": false
              },
              "fromcurrent": true,
              "mode": "immediate",
              "transition": {
               "duration": 0,
               "easing": "linear"
              }
             }
            ],
            "label": "2022",
            "method": "animate"
           },
           {
            "args": [
             [
              "2021"
             ],
             {
              "frame": {
               "duration": 0,
               "redraw": false
              },
              "fromcurrent": true,
              "mode": "immediate",
              "transition": {
               "duration": 0,
               "easing": "linear"
              }
             }
            ],
            "label": "2021",
            "method": "animate"
           },
           {
            "args": [
             [
              "2020"
             ],
             {
              "frame": {
               "duration": 0,
               "redraw": false
              },
              "fromcurrent": true,
              "mode": "immediate",
              "transition": {
               "duration": 0,
               "easing": "linear"
              }
             }
            ],
            "label": "2020",
            "method": "animate"
           },
           {
            "args": [
             [
              "2019"
             ],
             {
              "frame": {
               "duration": 0,
               "redraw": false
              },
              "fromcurrent": true,
              "mode": "immediate",
              "transition": {
               "duration": 0,
               "easing": "linear"
              }
             }
            ],
            "label": "2019",
            "method": "animate"
           },
           {
            "args": [
             [
              "2018"
             ],
             {
              "frame": {
               "duration": 0,
               "redraw": false
              },
              "fromcurrent": true,
              "mode": "immediate",
              "transition": {
               "duration": 0,
               "easing": "linear"
              }
             }
            ],
            "label": "2018",
            "method": "animate"
           },
           {
            "args": [
             [
              "2017"
             ],
             {
              "frame": {
               "duration": 0,
               "redraw": false
              },
              "fromcurrent": true,
              "mode": "immediate",
              "transition": {
               "duration": 0,
               "easing": "linear"
              }
             }
            ],
            "label": "2017",
            "method": "animate"
           },
           {
            "args": [
             [
              "2016"
             ],
             {
              "frame": {
               "duration": 0,
               "redraw": false
              },
              "fromcurrent": true,
              "mode": "immediate",
              "transition": {
               "duration": 0,
               "easing": "linear"
              }
             }
            ],
            "label": "2016",
            "method": "animate"
           },
           {
            "args": [
             [
              "2015"
             ],
             {
              "frame": {
               "duration": 0,
               "redraw": false
              },
              "fromcurrent": true,
              "mode": "immediate",
              "transition": {
               "duration": 0,
               "easing": "linear"
              }
             }
            ],
            "label": "2015",
            "method": "animate"
           },
           {
            "args": [
             [
              "2014"
             ],
             {
              "frame": {
               "duration": 0,
               "redraw": false
              },
              "fromcurrent": true,
              "mode": "immediate",
              "transition": {
               "duration": 0,
               "easing": "linear"
              }
             }
            ],
            "label": "2014",
            "method": "animate"
           },
           {
            "args": [
             [
              "2013"
             ],
             {
              "frame": {
               "duration": 0,
               "redraw": false
              },
              "fromcurrent": true,
              "mode": "immediate",
              "transition": {
               "duration": 0,
               "easing": "linear"
              }
             }
            ],
            "label": "2013",
            "method": "animate"
           },
           {
            "args": [
             [
              "2012"
             ],
             {
              "frame": {
               "duration": 0,
               "redraw": false
              },
              "fromcurrent": true,
              "mode": "immediate",
              "transition": {
               "duration": 0,
               "easing": "linear"
              }
             }
            ],
            "label": "2012",
            "method": "animate"
           },
           {
            "args": [
             [
              "2011"
             ],
             {
              "frame": {
               "duration": 0,
               "redraw": false
              },
              "fromcurrent": true,
              "mode": "immediate",
              "transition": {
               "duration": 0,
               "easing": "linear"
              }
             }
            ],
            "label": "2011",
            "method": "animate"
           },
           {
            "args": [
             [
              "2010"
             ],
             {
              "frame": {
               "duration": 0,
               "redraw": false
              },
              "fromcurrent": true,
              "mode": "immediate",
              "transition": {
               "duration": 0,
               "easing": "linear"
              }
             }
            ],
            "label": "2010",
            "method": "animate"
           },
           {
            "args": [
             [
              "2009"
             ],
             {
              "frame": {
               "duration": 0,
               "redraw": false
              },
              "fromcurrent": true,
              "mode": "immediate",
              "transition": {
               "duration": 0,
               "easing": "linear"
              }
             }
            ],
            "label": "2009",
            "method": "animate"
           },
           {
            "args": [
             [
              "2008"
             ],
             {
              "frame": {
               "duration": 0,
               "redraw": false
              },
              "fromcurrent": true,
              "mode": "immediate",
              "transition": {
               "duration": 0,
               "easing": "linear"
              }
             }
            ],
            "label": "2008",
            "method": "animate"
           }
          ],
          "x": 0.1,
          "xanchor": "left",
          "y": 0,
          "yanchor": "top"
         }
        ],
        "template": {
         "data": {
          "bar": [
           {
            "error_x": {
             "color": "#2a3f5f"
            },
            "error_y": {
             "color": "#2a3f5f"
            },
            "marker": {
             "line": {
              "color": "white",
              "width": 0.5
             },
             "pattern": {
              "fillmode": "overlay",
              "size": 10,
              "solidity": 0.2
             }
            },
            "type": "bar"
           }
          ],
          "barpolar": [
           {
            "marker": {
             "line": {
              "color": "white",
              "width": 0.5
             },
             "pattern": {
              "fillmode": "overlay",
              "size": 10,
              "solidity": 0.2
             }
            },
            "type": "barpolar"
           }
          ],
          "carpet": [
           {
            "aaxis": {
             "endlinecolor": "#2a3f5f",
             "gridcolor": "#C8D4E3",
             "linecolor": "#C8D4E3",
             "minorgridcolor": "#C8D4E3",
             "startlinecolor": "#2a3f5f"
            },
            "baxis": {
             "endlinecolor": "#2a3f5f",
             "gridcolor": "#C8D4E3",
             "linecolor": "#C8D4E3",
             "minorgridcolor": "#C8D4E3",
             "startlinecolor": "#2a3f5f"
            },
            "type": "carpet"
           }
          ],
          "choropleth": [
           {
            "colorbar": {
             "outlinewidth": 0,
             "ticks": ""
            },
            "type": "choropleth"
           }
          ],
          "contour": [
           {
            "colorbar": {
             "outlinewidth": 0,
             "ticks": ""
            },
            "colorscale": [
             [
              0,
              "#0d0887"
             ],
             [
              0.1111111111111111,
              "#46039f"
             ],
             [
              0.2222222222222222,
              "#7201a8"
             ],
             [
              0.3333333333333333,
              "#9c179e"
             ],
             [
              0.4444444444444444,
              "#bd3786"
             ],
             [
              0.5555555555555556,
              "#d8576b"
             ],
             [
              0.6666666666666666,
              "#ed7953"
             ],
             [
              0.7777777777777778,
              "#fb9f3a"
             ],
             [
              0.8888888888888888,
              "#fdca26"
             ],
             [
              1,
              "#f0f921"
             ]
            ],
            "type": "contour"
           }
          ],
          "contourcarpet": [
           {
            "colorbar": {
             "outlinewidth": 0,
             "ticks": ""
            },
            "type": "contourcarpet"
           }
          ],
          "heatmap": [
           {
            "colorbar": {
             "outlinewidth": 0,
             "ticks": ""
            },
            "colorscale": [
             [
              0,
              "#0d0887"
             ],
             [
              0.1111111111111111,
              "#46039f"
             ],
             [
              0.2222222222222222,
              "#7201a8"
             ],
             [
              0.3333333333333333,
              "#9c179e"
             ],
             [
              0.4444444444444444,
              "#bd3786"
             ],
             [
              0.5555555555555556,
              "#d8576b"
             ],
             [
              0.6666666666666666,
              "#ed7953"
             ],
             [
              0.7777777777777778,
              "#fb9f3a"
             ],
             [
              0.8888888888888888,
              "#fdca26"
             ],
             [
              1,
              "#f0f921"
             ]
            ],
            "type": "heatmap"
           }
          ],
          "histogram": [
           {
            "marker": {
             "pattern": {
              "fillmode": "overlay",
              "size": 10,
              "solidity": 0.2
             }
            },
            "type": "histogram"
           }
          ],
          "histogram2d": [
           {
            "colorbar": {
             "outlinewidth": 0,
             "ticks": ""
            },
            "colorscale": [
             [
              0,
              "#0d0887"
             ],
             [
              0.1111111111111111,
              "#46039f"
             ],
             [
              0.2222222222222222,
              "#7201a8"
             ],
             [
              0.3333333333333333,
              "#9c179e"
             ],
             [
              0.4444444444444444,
              "#bd3786"
             ],
             [
              0.5555555555555556,
              "#d8576b"
             ],
             [
              0.6666666666666666,
              "#ed7953"
             ],
             [
              0.7777777777777778,
              "#fb9f3a"
             ],
             [
              0.8888888888888888,
              "#fdca26"
             ],
             [
              1,
              "#f0f921"
             ]
            ],
            "type": "histogram2d"
           }
          ],
          "histogram2dcontour": [
           {
            "colorbar": {
             "outlinewidth": 0,
             "ticks": ""
            },
            "colorscale": [
             [
              0,
              "#0d0887"
             ],
             [
              0.1111111111111111,
              "#46039f"
             ],
             [
              0.2222222222222222,
              "#7201a8"
             ],
             [
              0.3333333333333333,
              "#9c179e"
             ],
             [
              0.4444444444444444,
              "#bd3786"
             ],
             [
              0.5555555555555556,
              "#d8576b"
             ],
             [
              0.6666666666666666,
              "#ed7953"
             ],
             [
              0.7777777777777778,
              "#fb9f3a"
             ],
             [
              0.8888888888888888,
              "#fdca26"
             ],
             [
              1,
              "#f0f921"
             ]
            ],
            "type": "histogram2dcontour"
           }
          ],
          "mesh3d": [
           {
            "colorbar": {
             "outlinewidth": 0,
             "ticks": ""
            },
            "type": "mesh3d"
           }
          ],
          "parcoords": [
           {
            "line": {
             "colorbar": {
              "outlinewidth": 0,
              "ticks": ""
             }
            },
            "type": "parcoords"
           }
          ],
          "pie": [
           {
            "automargin": true,
            "type": "pie"
           }
          ],
          "scatter": [
           {
            "fillpattern": {
             "fillmode": "overlay",
             "size": 10,
             "solidity": 0.2
            },
            "type": "scatter"
           }
          ],
          "scatter3d": [
           {
            "line": {
             "colorbar": {
              "outlinewidth": 0,
              "ticks": ""
             }
            },
            "marker": {
             "colorbar": {
              "outlinewidth": 0,
              "ticks": ""
             }
            },
            "type": "scatter3d"
           }
          ],
          "scattercarpet": [
           {
            "marker": {
             "colorbar": {
              "outlinewidth": 0,
              "ticks": ""
             }
            },
            "type": "scattercarpet"
           }
          ],
          "scattergeo": [
           {
            "marker": {
             "colorbar": {
              "outlinewidth": 0,
              "ticks": ""
             }
            },
            "type": "scattergeo"
           }
          ],
          "scattergl": [
           {
            "marker": {
             "colorbar": {
              "outlinewidth": 0,
              "ticks": ""
             }
            },
            "type": "scattergl"
           }
          ],
          "scattermap": [
           {
            "marker": {
             "colorbar": {
              "outlinewidth": 0,
              "ticks": ""
             }
            },
            "type": "scattermap"
           }
          ],
          "scattermapbox": [
           {
            "marker": {
             "colorbar": {
              "outlinewidth": 0,
              "ticks": ""
             }
            },
            "type": "scattermapbox"
           }
          ],
          "scatterpolar": [
           {
            "marker": {
             "colorbar": {
              "outlinewidth": 0,
              "ticks": ""
             }
            },
            "type": "scatterpolar"
           }
          ],
          "scatterpolargl": [
           {
            "marker": {
             "colorbar": {
              "outlinewidth": 0,
              "ticks": ""
             }
            },
            "type": "scatterpolargl"
           }
          ],
          "scatterternary": [
           {
            "marker": {
             "colorbar": {
              "outlinewidth": 0,
              "ticks": ""
             }
            },
            "type": "scatterternary"
           }
          ],
          "surface": [
           {
            "colorbar": {
             "outlinewidth": 0,
             "ticks": ""
            },
            "colorscale": [
             [
              0,
              "#0d0887"
             ],
             [
              0.1111111111111111,
              "#46039f"
             ],
             [
              0.2222222222222222,
              "#7201a8"
             ],
             [
              0.3333333333333333,
              "#9c179e"
             ],
             [
              0.4444444444444444,
              "#bd3786"
             ],
             [
              0.5555555555555556,
              "#d8576b"
             ],
             [
              0.6666666666666666,
              "#ed7953"
             ],
             [
              0.7777777777777778,
              "#fb9f3a"
             ],
             [
              0.8888888888888888,
              "#fdca26"
             ],
             [
              1,
              "#f0f921"
             ]
            ],
            "type": "surface"
           }
          ],
          "table": [
           {
            "cells": {
             "fill": {
              "color": "#EBF0F8"
             },
             "line": {
              "color": "white"
             }
            },
            "header": {
             "fill": {
              "color": "#C8D4E3"
             },
             "line": {
              "color": "white"
             }
            },
            "type": "table"
           }
          ]
         },
         "layout": {
          "annotationdefaults": {
           "arrowcolor": "#2a3f5f",
           "arrowhead": 0,
           "arrowwidth": 1
          },
          "autotypenumbers": "strict",
          "coloraxis": {
           "colorbar": {
            "outlinewidth": 0,
            "ticks": ""
           }
          },
          "colorscale": {
           "diverging": [
            [
             0,
             "#8e0152"
            ],
            [
             0.1,
             "#c51b7d"
            ],
            [
             0.2,
             "#de77ae"
            ],
            [
             0.3,
             "#f1b6da"
            ],
            [
             0.4,
             "#fde0ef"
            ],
            [
             0.5,
             "#f7f7f7"
            ],
            [
             0.6,
             "#e6f5d0"
            ],
            [
             0.7,
             "#b8e186"
            ],
            [
             0.8,
             "#7fbc41"
            ],
            [
             0.9,
             "#4d9221"
            ],
            [
             1,
             "#276419"
            ]
           ],
           "sequential": [
            [
             0,
             "#0d0887"
            ],
            [
             0.1111111111111111,
             "#46039f"
            ],
            [
             0.2222222222222222,
             "#7201a8"
            ],
            [
             0.3333333333333333,
             "#9c179e"
            ],
            [
             0.4444444444444444,
             "#bd3786"
            ],
            [
             0.5555555555555556,
             "#d8576b"
            ],
            [
             0.6666666666666666,
             "#ed7953"
            ],
            [
             0.7777777777777778,
             "#fb9f3a"
            ],
            [
             0.8888888888888888,
             "#fdca26"
            ],
            [
             1,
             "#f0f921"
            ]
           ],
           "sequentialminus": [
            [
             0,
             "#0d0887"
            ],
            [
             0.1111111111111111,
             "#46039f"
            ],
            [
             0.2222222222222222,
             "#7201a8"
            ],
            [
             0.3333333333333333,
             "#9c179e"
            ],
            [
             0.4444444444444444,
             "#bd3786"
            ],
            [
             0.5555555555555556,
             "#d8576b"
            ],
            [
             0.6666666666666666,
             "#ed7953"
            ],
            [
             0.7777777777777778,
             "#fb9f3a"
            ],
            [
             0.8888888888888888,
             "#fdca26"
            ],
            [
             1,
             "#f0f921"
            ]
           ]
          },
          "colorway": [
           "#636efa",
           "#EF553B",
           "#00cc96",
           "#ab63fa",
           "#FFA15A",
           "#19d3f3",
           "#FF6692",
           "#B6E880",
           "#FF97FF",
           "#FECB52"
          ],
          "font": {
           "color": "#2a3f5f"
          },
          "geo": {
           "bgcolor": "white",
           "lakecolor": "white",
           "landcolor": "white",
           "showlakes": true,
           "showland": true,
           "subunitcolor": "#C8D4E3"
          },
          "hoverlabel": {
           "align": "left"
          },
          "hovermode": "closest",
          "mapbox": {
           "style": "light"
          },
          "paper_bgcolor": "white",
          "plot_bgcolor": "white",
          "polar": {
           "angularaxis": {
            "gridcolor": "#EBF0F8",
            "linecolor": "#EBF0F8",
            "ticks": ""
           },
           "bgcolor": "white",
           "radialaxis": {
            "gridcolor": "#EBF0F8",
            "linecolor": "#EBF0F8",
            "ticks": ""
           }
          },
          "scene": {
           "xaxis": {
            "backgroundcolor": "white",
            "gridcolor": "#DFE8F3",
            "gridwidth": 2,
            "linecolor": "#EBF0F8",
            "showbackground": true,
            "ticks": "",
            "zerolinecolor": "#EBF0F8"
           },
           "yaxis": {
            "backgroundcolor": "white",
            "gridcolor": "#DFE8F3",
            "gridwidth": 2,
            "linecolor": "#EBF0F8",
            "showbackground": true,
            "ticks": "",
            "zerolinecolor": "#EBF0F8"
           },
           "zaxis": {
            "backgroundcolor": "white",
            "gridcolor": "#DFE8F3",
            "gridwidth": 2,
            "linecolor": "#EBF0F8",
            "showbackground": true,
            "ticks": "",
            "zerolinecolor": "#EBF0F8"
           }
          },
          "shapedefaults": {
           "line": {
            "color": "#2a3f5f"
           }
          },
          "ternary": {
           "aaxis": {
            "gridcolor": "#DFE8F3",
            "linecolor": "#A2B1C6",
            "ticks": ""
           },
           "baxis": {
            "gridcolor": "#DFE8F3",
            "linecolor": "#A2B1C6",
            "ticks": ""
           },
           "bgcolor": "white",
           "caxis": {
            "gridcolor": "#DFE8F3",
            "linecolor": "#A2B1C6",
            "ticks": ""
           }
          },
          "title": {
           "x": 0.05
          },
          "xaxis": {
           "automargin": true,
           "gridcolor": "#EBF0F8",
           "linecolor": "#EBF0F8",
           "ticks": "",
           "title": {
            "standoff": 15
           },
           "zerolinecolor": "#EBF0F8",
           "zerolinewidth": 2
          },
          "yaxis": {
           "automargin": true,
           "gridcolor": "#EBF0F8",
           "linecolor": "#EBF0F8",
           "ticks": "",
           "title": {
            "standoff": 15
           },
           "zerolinecolor": "#EBF0F8",
           "zerolinewidth": 2
          }
         }
        },
        "title": {
         "text": "Correlation between Export Value and Tariff Rate (Top 20 Countries by Export Value)"
        },
        "updatemenus": [
         {
          "buttons": [
           {
            "args": [
             null,
             {
              "frame": {
               "duration": 500,
               "redraw": false
              },
              "fromcurrent": true,
              "mode": "immediate",
              "transition": {
               "duration": 500,
               "easing": "linear"
              }
             }
            ],
            "label": "&#9654;",
            "method": "animate"
           },
           {
            "args": [
             [
              null
             ],
             {
              "frame": {
               "duration": 0,
               "redraw": false
              },
              "fromcurrent": true,
              "mode": "immediate",
              "transition": {
               "duration": 0,
               "easing": "linear"
              }
             }
            ],
            "label": "&#9724;",
            "method": "animate"
           }
          ],
          "direction": "left",
          "pad": {
           "r": 10,
           "t": 70
          },
          "showactive": false,
          "type": "buttons",
          "x": 0.1,
          "xanchor": "right",
          "y": 0,
          "yanchor": "top"
         }
        ],
        "xaxis": {
         "anchor": "y",
         "domain": [
          0,
          1
         ],
         "title": {
          "text": "Export Value (log scale)"
         },
         "type": "log"
        },
        "yaxis": {
         "anchor": "x",
         "domain": [
          0,
          1
         ],
         "dtick": 5,
         "range": [
          0,
          15
         ],
         "tick0": 0,
         "title": {
          "text": "Tariff Rate (%)"
         }
        }
       }
      }
     },
     "metadata": {},
     "output_type": "display_data"
    }
   ],
   "source": [
    "# build a new dataframe from combined_df with only country, year, Export_value and mfn_on_us_simple_avg\n",
    "export_tariff_df = combined_df[['country', 'year', 'export value', 'mfn_on_us']].copy()\n",
    "\n",
    "# sort new dataframe by year and Export_value in descending order\n",
    "export_tariff_df = export_tariff_df.sort_values(by=['year', 'export value'], ascending=[False, False])\n",
    "\n",
    "# Keep only top 20 countries by Export_value for each year\n",
    "export_tariff_df = export_tariff_df.groupby('year').head(20).reset_index(drop=True) \n",
    "\n",
    "# Plot the animated scatter using the new dataframe\n",
    "if __name__ == \"__main__\":\n",
    "\n",
    "    fig = plot_animated_scatter(\n",
    "        export_tariff_df,\n",
    "        x_col='export value',\n",
    "        y_col='mfn_on_us',\n",
    "        size_col='export value',\n",
    "        color_col='country',\n",
    "        animation_col='year',\n",
    "        title='Correlation between Export Value and Tariff Rate (Top 20 Countries by Export Value)'\n",
    "    )\n",
    "\n",
    "    fig.show()"
   ]
  },
  {
   "cell_type": "code",
   "execution_count": 27,
   "id": "6bc50182",
   "metadata": {},
   "outputs": [],
   "source": [
    "# Function to create a scatter plot with animation on year to see correlation between tariff and import value for top 20 countries\n",
    "\n",
    "def plot_animated_scatter(df, x_col, y_col, size_col, color_col, title, animation_col=None):\n",
    "    \"\"\"Create animated scatter with correct hovertemplate using custom_data for the year.\n",
    "    \"\"\"\n",
    "    # Defensive copy and type coercion\n",
    "    df = df.copy()\n",
    "    # Clean numeric columns\n",
    "    df[x_col] = pd.to_numeric(df[x_col].astype(str).str.replace(',', ''), errors='coerce')\n",
    "    df[y_col] = pd.to_numeric(df[y_col], errors='coerce')\n",
    "    df = df.dropna(subset=[x_col, y_col, color_col, animation_col])\n",
    "\n",
    "    # Use custom_data to pass the animation frame (year) into the hovertemplate\n",
    "    fig = px.scatter(\n",
    "        df,\n",
    "        x=x_col,\n",
    "        y=y_col,\n",
    "        size=size_col,\n",
    "        color=color_col,\n",
    "        animation_frame=animation_col,\n",
    "        animation_group=color_col,\n",
    "        custom_data=[animation_col],\n",
    "        size_max=60,\n",
    "        title=title,\n",
    "        labels={x_col: \"Import Value\", y_col: \"Tariff Rate\", color_col: \"Country\", animation_col: \"Year\"},\n",
    "        hover_name=color_col,\n",
    "        template=\"plotly_white\"\n",
    "    )\n",
    "\n",
    "    # Define the hovertemplate once\n",
    "    hover_template = (\n",
    "        \"<b>%{hovertext}</b><br><br>\"\n",
    "        \"Import Value: $%{x:,.0f}<br>\"\n",
    "        \"Tariff Rate: %{y:.2f}%<br>\"\n",
    "        \"Year: %{customdata[0]}<extra></extra>\"\n",
    "    )\n",
    "\n",
    "    # Apply to base traces\n",
    "    fig.update_traces(hovertemplate=hover_template)\n",
    "\n",
    "    # Also apply to each trace inside each animation frame (ensures it's preserved during animation)\n",
    "    if hasattr(fig, 'frames') and fig.frames:\n",
    "        for frame in fig.frames:\n",
    "            # frame.data is a tuple/list of traces for that frame\n",
    "            for trace in frame.data:\n",
    "                # set hovertemplate for that trace\n",
    "                trace.hovertemplate = hover_template\n",
    "\n",
    "    # Keep log x-axis if desired (optional) and style\n",
    "    fig.update_layout(\n",
    "        xaxis=dict(type='log', title='Import Value (log scale)'),\n",
    "        yaxis=dict(title='Tariff Rate (%)'),\n",
    "        legend_title_text='Country'\n",
    "    )\n",
    "\n",
    "    return fig"
   ]
  },
  {
   "cell_type": "code",
   "execution_count": 28,
   "id": "9e29fe86",
   "metadata": {},
   "outputs": [
    {
     "data": {
      "application/vnd.plotly.v1+json": {
       "config": {
        "plotlyServerURL": "https://plot.ly"
       },
       "data": [
        {
         "customdata": {
          "bdata": "6AfoB+gH",
          "dtype": "i2",
          "shape": "3, 1"
         },
         "hovertemplate": "<b>%{hovertext}</b><br><br>Import Value: $%{x:,.0f}<br>Tariff Rate: %{y:.2f}%<br>Year: %{customdata[0]}<extra></extra>",
         "hovertext": [
          "Mexico",
          "Mexico",
          "Mexico"
         ],
         "ids": [
          "Mexico",
          "Mexico",
          "Mexico"
         ],
         "legendgroup": "Mexico",
         "marker": {
          "color": "#636efa",
          "size": [
           81174684076,
           78500641070,
           15451523439
          ],
          "sizemode": "area",
          "sizeref": 22548523.354444444,
          "symbol": "circle"
         },
         "mode": "markers",
         "name": "Mexico",
         "orientation": "v",
         "showlegend": true,
         "type": "scatter",
         "x": [
          81174684076,
          78500641070,
          15451523439
         ],
         "xaxis": "x",
         "y": {
          "bdata": "XHz3tLCUD0BcfPe0sJQPQFx897SwlA9A",
          "dtype": "f8"
         },
         "yaxis": "y"
        },
        {
         "customdata": {
          "bdata": "6AfoBw==",
          "dtype": "i2",
          "shape": "2, 1"
         },
         "hovertemplate": "<b>%{hovertext}</b><br><br>Import Value: $%{x:,.0f}<br>Tariff Rate: %{y:.2f}%<br>Year: %{customdata[0]}<extra></extra>",
         "hovertext": [
          "Japan",
          "Japan"
         ],
         "ids": [
          "Japan",
          "Japan"
         ],
         "legendgroup": "Japan",
         "marker": {
          "color": "#EF553B",
          "size": [
           39725339667,
           15796292742
          ],
          "sizemode": "area",
          "sizeref": 22548523.354444444,
          "symbol": "circle"
         },
         "mode": "markers",
         "name": "Japan",
         "orientation": "v",
         "showlegend": true,
         "type": "scatter",
         "x": [
          39725339667,
          15796292742
         ],
         "xaxis": "x",
         "y": {
          "bdata": "XHz3tLCUD0BcfPe0sJQPQA==",
          "dtype": "f8"
         },
         "yaxis": "y"
        },
        {
         "customdata": {
          "bdata": "6AfoBw==",
          "dtype": "i2",
          "shape": "2, 1"
         },
         "hovertemplate": "<b>%{hovertext}</b><br><br>Import Value: $%{x:,.0f}<br>Tariff Rate: %{y:.2f}%<br>Year: %{customdata[0]}<extra></extra>",
         "hovertext": [
          "South Korea",
          "South Korea"
         ],
         "ids": [
          "South Korea",
          "South Korea"
         ],
         "legendgroup": "South Korea",
         "marker": {
          "color": "#00cc96",
          "size": [
           36642853694,
           12665621866
          ],
          "sizemode": "area",
          "sizeref": 22548523.354444444,
          "symbol": "circle"
         },
         "mode": "markers",
         "name": "South Korea",
         "orientation": "v",
         "showlegend": true,
         "type": "scatter",
         "x": [
          36642853694,
          12665621866
         ],
         "xaxis": "x",
         "y": {
          "bdata": "XHz3tLCUD0BcfPe0sJQPQA==",
          "dtype": "f8"
         },
         "yaxis": "y"
        },
        {
         "customdata": {
          "bdata": "6AfoB+gH",
          "dtype": "i2",
          "shape": "3, 1"
         },
         "hovertemplate": "<b>%{hovertext}</b><br><br>Import Value: $%{x:,.0f}<br>Tariff Rate: %{y:.2f}%<br>Year: %{customdata[0]}<extra></extra>",
         "hovertext": [
          "Canada",
          "Canada",
          "Canada"
         ],
         "ids": [
          "Canada",
          "Canada",
          "Canada"
         ],
         "legendgroup": "Canada",
         "marker": {
          "color": "#ab63fa",
          "size": [
           31162253504,
           19471943968,
           4248283326
          ],
          "sizemode": "area",
          "sizeref": 22548523.354444444,
          "symbol": "circle"
         },
         "mode": "markers",
         "name": "Canada",
         "orientation": "v",
         "showlegend": true,
         "type": "scatter",
         "x": [
          31162253504,
          19471943968,
          4248283326
         ],
         "xaxis": "x",
         "y": {
          "bdata": "XHz3tLCUD0BcfPe0sJQPQFx897SwlA9A",
          "dtype": "f8"
         },
         "yaxis": "y"
        },
        {
         "customdata": {
          "bdata": "6AfoBw==",
          "dtype": "i2",
          "shape": "2, 1"
         },
         "hovertemplate": "<b>%{hovertext}</b><br><br>Import Value: $%{x:,.0f}<br>Tariff Rate: %{y:.2f}%<br>Year: %{customdata[0]}<extra></extra>",
         "hovertext": [
          "Germany",
          "Germany"
         ],
         "ids": [
          "Germany",
          "Germany"
         ],
         "legendgroup": "Germany",
         "marker": {
          "color": "#FFA15A",
          "size": [
           24781801585,
           10105682683
          ],
          "sizemode": "area",
          "sizeref": 22548523.354444444,
          "symbol": "circle"
         },
         "mode": "markers",
         "name": "Germany",
         "orientation": "v",
         "showlegend": true,
         "type": "scatter",
         "x": [
          24781801585,
          10105682683
         ],
         "xaxis": "x",
         "y": {
          "bdata": "XHz3tLCUD0BcfPe0sJQPQA==",
          "dtype": "f8"
         },
         "yaxis": "y"
        },
        {
         "customdata": {
          "bdata": "6Ac=",
          "dtype": "i2",
          "shape": "1, 1"
         },
         "hovertemplate": "<b>%{hovertext}</b><br><br>Import Value: $%{x:,.0f}<br>Tariff Rate: %{y:.2f}%<br>Year: %{customdata[0]}<extra></extra>",
         "hovertext": [
          "China"
         ],
         "ids": [
          "China"
         ],
         "legendgroup": "China",
         "marker": {
          "color": "#19d3f3",
          "size": [
           18256097508
          ],
          "sizemode": "area",
          "sizeref": 22548523.354444444,
          "symbol": "circle"
         },
         "mode": "markers",
         "name": "China",
         "orientation": "v",
         "showlegend": true,
         "type": "scatter",
         "x": [
          18256097508
         ],
         "xaxis": "x",
         "y": {
          "bdata": "XHz3tLCUD0A=",
          "dtype": "f8"
         },
         "yaxis": "y"
        },
        {
         "customdata": {
          "bdata": "6Ac=",
          "dtype": "i2",
          "shape": "1, 1"
         },
         "hovertemplate": "<b>%{hovertext}</b><br><br>Import Value: $%{x:,.0f}<br>Tariff Rate: %{y:.2f}%<br>Year: %{customdata[0]}<extra></extra>",
         "hovertext": [
          "United Kingdom"
         ],
         "ids": [
          "United Kingdom"
         ],
         "legendgroup": "United Kingdom",
         "marker": {
          "color": "#FF6692",
          "size": [
           8192232841
          ],
          "sizemode": "area",
          "sizeref": 22548523.354444444,
          "symbol": "circle"
         },
         "mode": "markers",
         "name": "United Kingdom",
         "orientation": "v",
         "showlegend": true,
         "type": "scatter",
         "x": [
          8192232841
         ],
         "xaxis": "x",
         "y": {
          "bdata": "XHz3tLCUD0A=",
          "dtype": "f8"
         },
         "yaxis": "y"
        },
        {
         "customdata": {
          "bdata": "6Ac=",
          "dtype": "i2",
          "shape": "1, 1"
         },
         "hovertemplate": "<b>%{hovertext}</b><br><br>Import Value: $%{x:,.0f}<br>Tariff Rate: %{y:.2f}%<br>Year: %{customdata[0]}<extra></extra>",
         "hovertext": [
          "Slovakia"
         ],
         "ids": [
          "Slovakia"
         ],
         "legendgroup": "Slovakia",
         "marker": {
          "color": "#B6E880",
          "size": [
           6245791159
          ],
          "sizemode": "area",
          "sizeref": 22548523.354444444,
          "symbol": "circle"
         },
         "mode": "markers",
         "name": "Slovakia",
         "orientation": "v",
         "showlegend": true,
         "type": "scatter",
         "x": [
          6245791159
         ],
         "xaxis": "x",
         "y": {
          "bdata": "XHz3tLCUD0A=",
          "dtype": "f8"
         },
         "yaxis": "y"
        },
        {
         "customdata": {
          "bdata": "6Ac=",
          "dtype": "i2",
          "shape": "1, 1"
         },
         "hovertemplate": "<b>%{hovertext}</b><br><br>Import Value: $%{x:,.0f}<br>Tariff Rate: %{y:.2f}%<br>Year: %{customdata[0]}<extra></extra>",
         "hovertext": [
          "Thailand"
         ],
         "ids": [
          "Thailand"
         ],
         "legendgroup": "Thailand",
         "marker": {
          "color": "#FF97FF",
          "size": [
           5429559847
          ],
          "sizemode": "area",
          "sizeref": 22548523.354444444,
          "symbol": "circle"
         },
         "mode": "markers",
         "name": "Thailand",
         "orientation": "v",
         "showlegend": true,
         "type": "scatter",
         "x": [
          5429559847
         ],
         "xaxis": "x",
         "y": {
          "bdata": "XHz3tLCUD0A=",
          "dtype": "f8"
         },
         "yaxis": "y"
        },
        {
         "customdata": {
          "bdata": "6Ac=",
          "dtype": "i2",
          "shape": "1, 1"
         },
         "hovertemplate": "<b>%{hovertext}</b><br><br>Import Value: $%{x:,.0f}<br>Tariff Rate: %{y:.2f}%<br>Year: %{customdata[0]}<extra></extra>",
         "hovertext": [
          "Sweden"
         ],
         "ids": [
          "Sweden"
         ],
         "legendgroup": "Sweden",
         "marker": {
          "color": "#FECB52",
          "size": [
           3857096488
          ],
          "sizemode": "area",
          "sizeref": 22548523.354444444,
          "symbol": "circle"
         },
         "mode": "markers",
         "name": "Sweden",
         "orientation": "v",
         "showlegend": true,
         "type": "scatter",
         "x": [
          3857096488
         ],
         "xaxis": "x",
         "y": {
          "bdata": "XHz3tLCUD0A=",
          "dtype": "f8"
         },
         "yaxis": "y"
        },
        {
         "customdata": {
          "bdata": "6Ac=",
          "dtype": "i2",
          "shape": "1, 1"
         },
         "hovertemplate": "<b>%{hovertext}</b><br><br>Import Value: $%{x:,.0f}<br>Tariff Rate: %{y:.2f}%<br>Year: %{customdata[0]}<extra></extra>",
         "hovertext": [
          "Taiwan"
         ],
         "ids": [
          "Taiwan"
         ],
         "legendgroup": "Taiwan",
         "marker": {
          "color": "#636efa",
          "size": [
           3405834903
          ],
          "sizemode": "area",
          "sizeref": 22548523.354444444,
          "symbol": "circle"
         },
         "mode": "markers",
         "name": "Taiwan",
         "orientation": "v",
         "showlegend": true,
         "type": "scatter",
         "x": [
          3405834903
         ],
         "xaxis": "x",
         "y": {
          "bdata": "XHz3tLCUD0A=",
          "dtype": "f8"
         },
         "yaxis": "y"
        },
        {
         "customdata": {
          "bdata": "6Ac=",
          "dtype": "i2",
          "shape": "1, 1"
         },
         "hovertemplate": "<b>%{hovertext}</b><br><br>Import Value: $%{x:,.0f}<br>Tariff Rate: %{y:.2f}%<br>Year: %{customdata[0]}<extra></extra>",
         "hovertext": [
          "Italy"
         ],
         "ids": [
          "Italy"
         ],
         "legendgroup": "Italy",
         "marker": {
          "color": "#EF553B",
          "size": [
           3330114153
          ],
          "sizemode": "area",
          "sizeref": 22548523.354444444,
          "symbol": "circle"
         },
         "mode": "markers",
         "name": "Italy",
         "orientation": "v",
         "showlegend": true,
         "type": "scatter",
         "x": [
          3330114153
         ],
         "xaxis": "x",
         "y": {
          "bdata": "XHz3tLCUD0A=",
          "dtype": "f8"
         },
         "yaxis": "y"
        },
        {
         "customdata": {
          "bdata": "6Ac=",
          "dtype": "i2",
          "shape": "1, 1"
         },
         "hovertemplate": "<b>%{hovertext}</b><br><br>Import Value: $%{x:,.0f}<br>Tariff Rate: %{y:.2f}%<br>Year: %{customdata[0]}<extra></extra>",
         "hovertext": [
          "Vietnam"
         ],
         "ids": [
          "Vietnam"
         ],
         "legendgroup": "Vietnam",
         "marker": {
          "color": "#00cc96",
          "size": [
           3164928360
          ],
          "sizemode": "area",
          "sizeref": 22548523.354444444,
          "symbol": "circle"
         },
         "mode": "markers",
         "name": "Vietnam",
         "orientation": "v",
         "showlegend": true,
         "type": "scatter",
         "x": [
          3164928360
         ],
         "xaxis": "x",
         "y": {
          "bdata": "XHz3tLCUD0A=",
          "dtype": "f8"
         },
         "yaxis": "y"
        }
       ],
       "frames": [
        {
         "data": [
          {
           "customdata": {
            "bdata": "6AfoB+gH",
            "dtype": "i2",
            "shape": "3, 1"
           },
           "hovertemplate": "<b>%{hovertext}</b><br><br>Import Value: $%{x:,.0f}<br>Tariff Rate: %{y:.2f}%<br>Year: %{customdata[0]}<extra></extra>",
           "hovertext": [
            "Mexico",
            "Mexico",
            "Mexico"
           ],
           "ids": [
            "Mexico",
            "Mexico",
            "Mexico"
           ],
           "legendgroup": "Mexico",
           "marker": {
            "color": "#636efa",
            "size": [
             81174684076,
             78500641070,
             15451523439
            ],
            "sizemode": "area",
            "sizeref": 22548523.354444444,
            "symbol": "circle"
           },
           "mode": "markers",
           "name": "Mexico",
           "orientation": "v",
           "showlegend": true,
           "type": "scatter",
           "x": [
            81174684076,
            78500641070,
            15451523439
           ],
           "xaxis": "x",
           "y": {
            "bdata": "XHz3tLCUD0BcfPe0sJQPQFx897SwlA9A",
            "dtype": "f8"
           },
           "yaxis": "y"
          },
          {
           "customdata": {
            "bdata": "6AfoBw==",
            "dtype": "i2",
            "shape": "2, 1"
           },
           "hovertemplate": "<b>%{hovertext}</b><br><br>Import Value: $%{x:,.0f}<br>Tariff Rate: %{y:.2f}%<br>Year: %{customdata[0]}<extra></extra>",
           "hovertext": [
            "Japan",
            "Japan"
           ],
           "ids": [
            "Japan",
            "Japan"
           ],
           "legendgroup": "Japan",
           "marker": {
            "color": "#EF553B",
            "size": [
             39725339667,
             15796292742
            ],
            "sizemode": "area",
            "sizeref": 22548523.354444444,
            "symbol": "circle"
           },
           "mode": "markers",
           "name": "Japan",
           "orientation": "v",
           "showlegend": true,
           "type": "scatter",
           "x": [
            39725339667,
            15796292742
           ],
           "xaxis": "x",
           "y": {
            "bdata": "XHz3tLCUD0BcfPe0sJQPQA==",
            "dtype": "f8"
           },
           "yaxis": "y"
          },
          {
           "customdata": {
            "bdata": "6AfoBw==",
            "dtype": "i2",
            "shape": "2, 1"
           },
           "hovertemplate": "<b>%{hovertext}</b><br><br>Import Value: $%{x:,.0f}<br>Tariff Rate: %{y:.2f}%<br>Year: %{customdata[0]}<extra></extra>",
           "hovertext": [
            "South Korea",
            "South Korea"
           ],
           "ids": [
            "South Korea",
            "South Korea"
           ],
           "legendgroup": "South Korea",
           "marker": {
            "color": "#00cc96",
            "size": [
             36642853694,
             12665621866
            ],
            "sizemode": "area",
            "sizeref": 22548523.354444444,
            "symbol": "circle"
           },
           "mode": "markers",
           "name": "South Korea",
           "orientation": "v",
           "showlegend": true,
           "type": "scatter",
           "x": [
            36642853694,
            12665621866
           ],
           "xaxis": "x",
           "y": {
            "bdata": "XHz3tLCUD0BcfPe0sJQPQA==",
            "dtype": "f8"
           },
           "yaxis": "y"
          },
          {
           "customdata": {
            "bdata": "6AfoB+gH",
            "dtype": "i2",
            "shape": "3, 1"
           },
           "hovertemplate": "<b>%{hovertext}</b><br><br>Import Value: $%{x:,.0f}<br>Tariff Rate: %{y:.2f}%<br>Year: %{customdata[0]}<extra></extra>",
           "hovertext": [
            "Canada",
            "Canada",
            "Canada"
           ],
           "ids": [
            "Canada",
            "Canada",
            "Canada"
           ],
           "legendgroup": "Canada",
           "marker": {
            "color": "#ab63fa",
            "size": [
             31162253504,
             19471943968,
             4248283326
            ],
            "sizemode": "area",
            "sizeref": 22548523.354444444,
            "symbol": "circle"
           },
           "mode": "markers",
           "name": "Canada",
           "orientation": "v",
           "showlegend": true,
           "type": "scatter",
           "x": [
            31162253504,
            19471943968,
            4248283326
           ],
           "xaxis": "x",
           "y": {
            "bdata": "XHz3tLCUD0BcfPe0sJQPQFx897SwlA9A",
            "dtype": "f8"
           },
           "yaxis": "y"
          },
          {
           "customdata": {
            "bdata": "6AfoBw==",
            "dtype": "i2",
            "shape": "2, 1"
           },
           "hovertemplate": "<b>%{hovertext}</b><br><br>Import Value: $%{x:,.0f}<br>Tariff Rate: %{y:.2f}%<br>Year: %{customdata[0]}<extra></extra>",
           "hovertext": [
            "Germany",
            "Germany"
           ],
           "ids": [
            "Germany",
            "Germany"
           ],
           "legendgroup": "Germany",
           "marker": {
            "color": "#FFA15A",
            "size": [
             24781801585,
             10105682683
            ],
            "sizemode": "area",
            "sizeref": 22548523.354444444,
            "symbol": "circle"
           },
           "mode": "markers",
           "name": "Germany",
           "orientation": "v",
           "showlegend": true,
           "type": "scatter",
           "x": [
            24781801585,
            10105682683
           ],
           "xaxis": "x",
           "y": {
            "bdata": "XHz3tLCUD0BcfPe0sJQPQA==",
            "dtype": "f8"
           },
           "yaxis": "y"
          },
          {
           "customdata": {
            "bdata": "6Ac=",
            "dtype": "i2",
            "shape": "1, 1"
           },
           "hovertemplate": "<b>%{hovertext}</b><br><br>Import Value: $%{x:,.0f}<br>Tariff Rate: %{y:.2f}%<br>Year: %{customdata[0]}<extra></extra>",
           "hovertext": [
            "China"
           ],
           "ids": [
            "China"
           ],
           "legendgroup": "China",
           "marker": {
            "color": "#19d3f3",
            "size": [
             18256097508
            ],
            "sizemode": "area",
            "sizeref": 22548523.354444444,
            "symbol": "circle"
           },
           "mode": "markers",
           "name": "China",
           "orientation": "v",
           "showlegend": true,
           "type": "scatter",
           "x": [
            18256097508
           ],
           "xaxis": "x",
           "y": {
            "bdata": "XHz3tLCUD0A=",
            "dtype": "f8"
           },
           "yaxis": "y"
          },
          {
           "customdata": {
            "bdata": "6Ac=",
            "dtype": "i2",
            "shape": "1, 1"
           },
           "hovertemplate": "<b>%{hovertext}</b><br><br>Import Value: $%{x:,.0f}<br>Tariff Rate: %{y:.2f}%<br>Year: %{customdata[0]}<extra></extra>",
           "hovertext": [
            "United Kingdom"
           ],
           "ids": [
            "United Kingdom"
           ],
           "legendgroup": "United Kingdom",
           "marker": {
            "color": "#FF6692",
            "size": [
             8192232841
            ],
            "sizemode": "area",
            "sizeref": 22548523.354444444,
            "symbol": "circle"
           },
           "mode": "markers",
           "name": "United Kingdom",
           "orientation": "v",
           "showlegend": true,
           "type": "scatter",
           "x": [
            8192232841
           ],
           "xaxis": "x",
           "y": {
            "bdata": "XHz3tLCUD0A=",
            "dtype": "f8"
           },
           "yaxis": "y"
          },
          {
           "customdata": {
            "bdata": "6Ac=",
            "dtype": "i2",
            "shape": "1, 1"
           },
           "hovertemplate": "<b>%{hovertext}</b><br><br>Import Value: $%{x:,.0f}<br>Tariff Rate: %{y:.2f}%<br>Year: %{customdata[0]}<extra></extra>",
           "hovertext": [
            "Slovakia"
           ],
           "ids": [
            "Slovakia"
           ],
           "legendgroup": "Slovakia",
           "marker": {
            "color": "#B6E880",
            "size": [
             6245791159
            ],
            "sizemode": "area",
            "sizeref": 22548523.354444444,
            "symbol": "circle"
           },
           "mode": "markers",
           "name": "Slovakia",
           "orientation": "v",
           "showlegend": true,
           "type": "scatter",
           "x": [
            6245791159
           ],
           "xaxis": "x",
           "y": {
            "bdata": "XHz3tLCUD0A=",
            "dtype": "f8"
           },
           "yaxis": "y"
          },
          {
           "customdata": {
            "bdata": "6Ac=",
            "dtype": "i2",
            "shape": "1, 1"
           },
           "hovertemplate": "<b>%{hovertext}</b><br><br>Import Value: $%{x:,.0f}<br>Tariff Rate: %{y:.2f}%<br>Year: %{customdata[0]}<extra></extra>",
           "hovertext": [
            "Thailand"
           ],
           "ids": [
            "Thailand"
           ],
           "legendgroup": "Thailand",
           "marker": {
            "color": "#FF97FF",
            "size": [
             5429559847
            ],
            "sizemode": "area",
            "sizeref": 22548523.354444444,
            "symbol": "circle"
           },
           "mode": "markers",
           "name": "Thailand",
           "orientation": "v",
           "showlegend": true,
           "type": "scatter",
           "x": [
            5429559847
           ],
           "xaxis": "x",
           "y": {
            "bdata": "XHz3tLCUD0A=",
            "dtype": "f8"
           },
           "yaxis": "y"
          },
          {
           "customdata": {
            "bdata": "6Ac=",
            "dtype": "i2",
            "shape": "1, 1"
           },
           "hovertemplate": "<b>%{hovertext}</b><br><br>Import Value: $%{x:,.0f}<br>Tariff Rate: %{y:.2f}%<br>Year: %{customdata[0]}<extra></extra>",
           "hovertext": [
            "Sweden"
           ],
           "ids": [
            "Sweden"
           ],
           "legendgroup": "Sweden",
           "marker": {
            "color": "#FECB52",
            "size": [
             3857096488
            ],
            "sizemode": "area",
            "sizeref": 22548523.354444444,
            "symbol": "circle"
           },
           "mode": "markers",
           "name": "Sweden",
           "orientation": "v",
           "showlegend": true,
           "type": "scatter",
           "x": [
            3857096488
           ],
           "xaxis": "x",
           "y": {
            "bdata": "XHz3tLCUD0A=",
            "dtype": "f8"
           },
           "yaxis": "y"
          },
          {
           "customdata": {
            "bdata": "6Ac=",
            "dtype": "i2",
            "shape": "1, 1"
           },
           "hovertemplate": "<b>%{hovertext}</b><br><br>Import Value: $%{x:,.0f}<br>Tariff Rate: %{y:.2f}%<br>Year: %{customdata[0]}<extra></extra>",
           "hovertext": [
            "Taiwan"
           ],
           "ids": [
            "Taiwan"
           ],
           "legendgroup": "Taiwan",
           "marker": {
            "color": "#636efa",
            "size": [
             3405834903
            ],
            "sizemode": "area",
            "sizeref": 22548523.354444444,
            "symbol": "circle"
           },
           "mode": "markers",
           "name": "Taiwan",
           "orientation": "v",
           "showlegend": true,
           "type": "scatter",
           "x": [
            3405834903
           ],
           "xaxis": "x",
           "y": {
            "bdata": "XHz3tLCUD0A=",
            "dtype": "f8"
           },
           "yaxis": "y"
          },
          {
           "customdata": {
            "bdata": "6Ac=",
            "dtype": "i2",
            "shape": "1, 1"
           },
           "hovertemplate": "<b>%{hovertext}</b><br><br>Import Value: $%{x:,.0f}<br>Tariff Rate: %{y:.2f}%<br>Year: %{customdata[0]}<extra></extra>",
           "hovertext": [
            "Italy"
           ],
           "ids": [
            "Italy"
           ],
           "legendgroup": "Italy",
           "marker": {
            "color": "#EF553B",
            "size": [
             3330114153
            ],
            "sizemode": "area",
            "sizeref": 22548523.354444444,
            "symbol": "circle"
           },
           "mode": "markers",
           "name": "Italy",
           "orientation": "v",
           "showlegend": true,
           "type": "scatter",
           "x": [
            3330114153
           ],
           "xaxis": "x",
           "y": {
            "bdata": "XHz3tLCUD0A=",
            "dtype": "f8"
           },
           "yaxis": "y"
          },
          {
           "customdata": {
            "bdata": "6Ac=",
            "dtype": "i2",
            "shape": "1, 1"
           },
           "hovertemplate": "<b>%{hovertext}</b><br><br>Import Value: $%{x:,.0f}<br>Tariff Rate: %{y:.2f}%<br>Year: %{customdata[0]}<extra></extra>",
           "hovertext": [
            "Vietnam"
           ],
           "ids": [
            "Vietnam"
           ],
           "legendgroup": "Vietnam",
           "marker": {
            "color": "#00cc96",
            "size": [
             3164928360
            ],
            "sizemode": "area",
            "sizeref": 22548523.354444444,
            "symbol": "circle"
           },
           "mode": "markers",
           "name": "Vietnam",
           "orientation": "v",
           "showlegend": true,
           "type": "scatter",
           "x": [
            3164928360
           ],
           "xaxis": "x",
           "y": {
            "bdata": "XHz3tLCUD0A=",
            "dtype": "f8"
           },
           "yaxis": "y"
          }
         ],
         "name": "2024"
        },
        {
         "data": [
          {
           "customdata": {
            "bdata": "5wfnB+cH",
            "dtype": "i2",
            "shape": "3, 1"
           },
           "hovertemplate": "<b>%{hovertext}</b><br><br>Import Value: $%{x:,.0f}<br>Tariff Rate: %{y:.2f}%<br>Year: %{customdata[0]}<extra></extra>",
           "hovertext": [
            "Mexico",
            "Mexico",
            "Mexico"
           ],
           "ids": [
            "Mexico",
            "Mexico",
            "Mexico"
           ],
           "legendgroup": "Mexico",
           "marker": {
            "color": "#636efa",
            "size": [
             78428415520,
             69356724303,
             16307092056
            ],
            "sizemode": "area",
            "sizeref": 22548523.354444444,
            "symbol": "circle"
           },
           "mode": "markers",
           "name": "Mexico",
           "orientation": "v",
           "showlegend": true,
           "type": "scatter",
           "x": [
            78428415520,
            69356724303,
            16307092056
           ],
           "xaxis": "x",
           "y": {
            "bdata": "XHz3tLCUD0BcfPe0sJQPQFx897SwlA9A",
            "dtype": "f8"
           },
           "yaxis": "y"
          },
          {
           "customdata": {
            "bdata": "5wfnBw==",
            "dtype": "i2",
            "shape": "2, 1"
           },
           "hovertemplate": "<b>%{hovertext}</b><br><br>Import Value: $%{x:,.0f}<br>Tariff Rate: %{y:.2f}%<br>Year: %{customdata[0]}<extra></extra>",
           "hovertext": [
            "Japan",
            "Japan"
           ],
           "ids": [
            "Japan",
            "Japan"
           ],
           "legendgroup": "Japan",
           "marker": {
            "color": "#EF553B",
            "size": [
             39891766155,
             15432910506
            ],
            "sizemode": "area",
            "sizeref": 22548523.354444444,
            "symbol": "circle"
           },
           "mode": "markers",
           "name": "Japan",
           "orientation": "v",
           "showlegend": true,
           "type": "scatter",
           "x": [
            39891766155,
            15432910506
           ],
           "xaxis": "x",
           "y": {
            "bdata": "XHz3tLCUD0BcfPe0sJQPQA==",
            "dtype": "f8"
           },
           "yaxis": "y"
          },
          {
           "customdata": {
            "bdata": "5wfnBw==",
            "dtype": "i2",
            "shape": "2, 1"
           },
           "hovertemplate": "<b>%{hovertext}</b><br><br>Import Value: $%{x:,.0f}<br>Tariff Rate: %{y:.2f}%<br>Year: %{customdata[0]}<extra></extra>",
           "hovertext": [
            "South Korea",
            "South Korea"
           ],
           "ids": [
            "South Korea",
            "South Korea"
           ],
           "legendgroup": "South Korea",
           "marker": {
            "color": "#00cc96",
            "size": [
             29787589656,
             13488669813
            ],
            "sizemode": "area",
            "sizeref": 22548523.354444444,
            "symbol": "circle"
           },
           "mode": "markers",
           "name": "South Korea",
           "orientation": "v",
           "showlegend": true,
           "type": "scatter",
           "x": [
            29787589656,
            13488669813
           ],
           "xaxis": "x",
           "y": {
            "bdata": "XHz3tLCUD0BcfPe0sJQPQA==",
            "dtype": "f8"
           },
           "yaxis": "y"
          },
          {
           "customdata": {
            "bdata": "5wfnB+cH",
            "dtype": "i2",
            "shape": "3, 1"
           },
           "hovertemplate": "<b>%{hovertext}</b><br><br>Import Value: $%{x:,.0f}<br>Tariff Rate: %{y:.2f}%<br>Year: %{customdata[0]}<extra></extra>",
           "hovertext": [
            "Canada",
            "Canada",
            "Canada"
           ],
           "ids": [
            "Canada",
            "Canada",
            "Canada"
           ],
           "legendgroup": "Canada",
           "marker": {
            "color": "#ab63fa",
            "size": [
             37073386033,
             19978830504,
             3216484889
            ],
            "sizemode": "area",
            "sizeref": 22548523.354444444,
            "symbol": "circle"
           },
           "mode": "markers",
           "name": "Canada",
           "orientation": "v",
           "showlegend": true,
           "type": "scatter",
           "x": [
            37073386033,
            19978830504,
            3216484889
           ],
           "xaxis": "x",
           "y": {
            "bdata": "XHz3tLCUD0BcfPe0sJQPQFx897SwlA9A",
            "dtype": "f8"
           },
           "yaxis": "y"
          },
          {
           "customdata": {
            "bdata": "5wfnBw==",
            "dtype": "i2",
            "shape": "2, 1"
           },
           "hovertemplate": "<b>%{hovertext}</b><br><br>Import Value: $%{x:,.0f}<br>Tariff Rate: %{y:.2f}%<br>Year: %{customdata[0]}<extra></extra>",
           "hovertext": [
            "Germany",
            "Germany"
           ],
           "ids": [
            "Germany",
            "Germany"
           ],
           "legendgroup": "Germany",
           "marker": {
            "color": "#FFA15A",
            "size": [
             23431123581,
             11019179553
            ],
            "sizemode": "area",
            "sizeref": 22548523.354444444,
            "symbol": "circle"
           },
           "mode": "markers",
           "name": "Germany",
           "orientation": "v",
           "showlegend": true,
           "type": "scatter",
           "x": [
            23431123581,
            11019179553
           ],
           "xaxis": "x",
           "y": {
            "bdata": "XHz3tLCUD0BcfPe0sJQPQA==",
            "dtype": "f8"
           },
           "yaxis": "y"
          },
          {
           "customdata": {
            "bdata": "5wc=",
            "dtype": "i2",
            "shape": "1, 1"
           },
           "hovertemplate": "<b>%{hovertext}</b><br><br>Import Value: $%{x:,.0f}<br>Tariff Rate: %{y:.2f}%<br>Year: %{customdata[0]}<extra></extra>",
           "hovertext": [
            "China"
           ],
           "ids": [
            "China"
           ],
           "legendgroup": "China",
           "marker": {
            "color": "#19d3f3",
            "size": [
             17949957301
            ],
            "sizemode": "area",
            "sizeref": 22548523.354444444,
            "symbol": "circle"
           },
           "mode": "markers",
           "name": "China",
           "orientation": "v",
           "showlegend": true,
           "type": "scatter",
           "x": [
            17949957301
           ],
           "xaxis": "x",
           "y": {
            "bdata": "XHz3tLCUD0A=",
            "dtype": "f8"
           },
           "yaxis": "y"
          },
          {
           "customdata": {
            "bdata": "5wc=",
            "dtype": "i2",
            "shape": "1, 1"
           },
           "hovertemplate": "<b>%{hovertext}</b><br><br>Import Value: $%{x:,.0f}<br>Tariff Rate: %{y:.2f}%<br>Year: %{customdata[0]}<extra></extra>",
           "hovertext": [
            "United Kingdom"
           ],
           "ids": [
            "United Kingdom"
           ],
           "legendgroup": "United Kingdom",
           "marker": {
            "color": "#FF6692",
            "size": [
             6376395457
            ],
            "sizemode": "area",
            "sizeref": 22548523.354444444,
            "symbol": "circle"
           },
           "mode": "markers",
           "name": "United Kingdom",
           "orientation": "v",
           "showlegend": true,
           "type": "scatter",
           "x": [
            6376395457
           ],
           "xaxis": "x",
           "y": {
            "bdata": "XHz3tLCUD0A=",
            "dtype": "f8"
           },
           "yaxis": "y"
          },
          {
           "customdata": {
            "bdata": "5wc=",
            "dtype": "i2",
            "shape": "1, 1"
           },
           "hovertemplate": "<b>%{hovertext}</b><br><br>Import Value: $%{x:,.0f}<br>Tariff Rate: %{y:.2f}%<br>Year: %{customdata[0]}<extra></extra>",
           "hovertext": [
            "Slovakia"
           ],
           "ids": [
            "Slovakia"
           ],
           "legendgroup": "Slovakia",
           "marker": {
            "color": "#B6E880",
            "size": [
             6488076212
            ],
            "sizemode": "area",
            "sizeref": 22548523.354444444,
            "symbol": "circle"
           },
           "mode": "markers",
           "name": "Slovakia",
           "orientation": "v",
           "showlegend": true,
           "type": "scatter",
           "x": [
            6488076212
           ],
           "xaxis": "x",
           "y": {
            "bdata": "XHz3tLCUD0A=",
            "dtype": "f8"
           },
           "yaxis": "y"
          },
          {
           "customdata": {
            "bdata": "5wc=",
            "dtype": "i2",
            "shape": "1, 1"
           },
           "hovertemplate": "<b>%{hovertext}</b><br><br>Import Value: $%{x:,.0f}<br>Tariff Rate: %{y:.2f}%<br>Year: %{customdata[0]}<extra></extra>",
           "hovertext": [
            "Thailand"
           ],
           "ids": [
            "Thailand"
           ],
           "legendgroup": "Thailand",
           "marker": {
            "color": "#FF97FF",
            "size": [
             4978253421
            ],
            "sizemode": "area",
            "sizeref": 22548523.354444444,
            "symbol": "circle"
           },
           "mode": "markers",
           "name": "Thailand",
           "orientation": "v",
           "showlegend": true,
           "type": "scatter",
           "x": [
            4978253421
           ],
           "xaxis": "x",
           "y": {
            "bdata": "XHz3tLCUD0A=",
            "dtype": "f8"
           },
           "yaxis": "y"
          },
          {
           "customdata": {
            "bdata": "5wc=",
            "dtype": "i2",
            "shape": "1, 1"
           },
           "hovertemplate": "<b>%{hovertext}</b><br><br>Import Value: $%{x:,.0f}<br>Tariff Rate: %{y:.2f}%<br>Year: %{customdata[0]}<extra></extra>",
           "hovertext": [
            "Sweden"
           ],
           "ids": [
            "Sweden"
           ],
           "legendgroup": "Sweden",
           "marker": {
            "color": "#FECB52",
            "size": [
             3875914329
            ],
            "sizemode": "area",
            "sizeref": 22548523.354444444,
            "symbol": "circle"
           },
           "mode": "markers",
           "name": "Sweden",
           "orientation": "v",
           "showlegend": true,
           "type": "scatter",
           "x": [
            3875914329
           ],
           "xaxis": "x",
           "y": {
            "bdata": "XHz3tLCUD0A=",
            "dtype": "f8"
           },
           "yaxis": "y"
          },
          {
           "customdata": {
            "bdata": "5wc=",
            "dtype": "i2",
            "shape": "1, 1"
           },
           "hovertemplate": "<b>%{hovertext}</b><br><br>Import Value: $%{x:,.0f}<br>Tariff Rate: %{y:.2f}%<br>Year: %{customdata[0]}<extra></extra>",
           "hovertext": [
            "Taiwan"
           ],
           "ids": [
            "Taiwan"
           ],
           "legendgroup": "Taiwan",
           "marker": {
            "color": "#636efa",
            "size": [
             3309373023
            ],
            "sizemode": "area",
            "sizeref": 22548523.354444444,
            "symbol": "circle"
           },
           "mode": "markers",
           "name": "Taiwan",
           "orientation": "v",
           "showlegend": true,
           "type": "scatter",
           "x": [
            3309373023
           ],
           "xaxis": "x",
           "y": {
            "bdata": "XHz3tLCUD0A=",
            "dtype": "f8"
           },
           "yaxis": "y"
          },
          {
           "customdata": {
            "bdata": "5wc=",
            "dtype": "i2",
            "shape": "1, 1"
           },
           "hovertemplate": "<b>%{hovertext}</b><br><br>Import Value: $%{x:,.0f}<br>Tariff Rate: %{y:.2f}%<br>Year: %{customdata[0]}<extra></extra>",
           "hovertext": [
            "Italy"
           ],
           "ids": [
            "Italy"
           ],
           "legendgroup": "Italy",
           "marker": {
            "color": "#EF553B",
            "size": [
             4190431185
            ],
            "sizemode": "area",
            "sizeref": 22548523.354444444,
            "symbol": "circle"
           },
           "mode": "markers",
           "name": "Italy",
           "orientation": "v",
           "showlegend": true,
           "type": "scatter",
           "x": [
            4190431185
           ],
           "xaxis": "x",
           "y": {
            "bdata": "XHz3tLCUD0A=",
            "dtype": "f8"
           },
           "yaxis": "y"
          },
          {
           "customdata": {
            "bdata": "5wc=",
            "dtype": "i2",
            "shape": "1, 1"
           },
           "hovertemplate": "<b>%{hovertext}</b><br><br>Import Value: $%{x:,.0f}<br>Tariff Rate: %{y:.2f}%<br>Year: %{customdata[0]}<extra></extra>",
           "hovertext": [
            "India"
           ],
           "ids": [
            "India"
           ],
           "legendgroup": "India",
           "marker": {
            "color": "#ab63fa",
            "size": [
             2853567100
            ],
            "sizemode": "area",
            "sizeref": 22548523.354444444,
            "symbol": "circle"
           },
           "mode": "markers",
           "name": "India",
           "orientation": "v",
           "showlegend": true,
           "type": "scatter",
           "x": [
            2853567100
           ],
           "xaxis": "x",
           "y": {
            "bdata": "XHz3tLCUD0A=",
            "dtype": "f8"
           },
           "yaxis": "y"
          }
         ],
         "name": "2023"
        },
        {
         "data": [
          {
           "customdata": {
            "bdata": "5gfmB+YH",
            "dtype": "i2",
            "shape": "3, 1"
           },
           "hovertemplate": "<b>%{hovertext}</b><br><br>Import Value: $%{x:,.0f}<br>Tariff Rate: %{y:.2f}%<br>Year: %{customdata[0]}<extra></extra>",
           "hovertext": [
            "Mexico",
            "Mexico",
            "Mexico"
           ],
           "ids": [
            "Mexico",
            "Mexico",
            "Mexico"
           ],
           "legendgroup": "Mexico",
           "marker": {
            "color": "#636efa",
            "size": [
             69168574013,
             57842360371,
             14666196761
            ],
            "sizemode": "area",
            "sizeref": 22548523.354444444,
            "symbol": "circle"
           },
           "mode": "markers",
           "name": "Mexico",
           "orientation": "v",
           "showlegend": true,
           "type": "scatter",
           "x": [
            69168574013,
            57842360371,
            14666196761
           ],
           "xaxis": "x",
           "y": {
            "bdata": "hetRuB6FDUCF61G4HoUNQIXrUbgehQ1A",
            "dtype": "f8"
           },
           "yaxis": "y"
          },
          {
           "customdata": {
            "bdata": "5gfmBw==",
            "dtype": "i2",
            "shape": "2, 1"
           },
           "hovertemplate": "<b>%{hovertext}</b><br><br>Import Value: $%{x:,.0f}<br>Tariff Rate: %{y:.2f}%<br>Year: %{customdata[0]}<extra></extra>",
           "hovertext": [
            "Japan",
            "Japan"
           ],
           "ids": [
            "Japan",
            "Japan"
           ],
           "legendgroup": "Japan",
           "marker": {
            "color": "#EF553B",
            "size": [
             32585002786,
             16345065543
            ],
            "sizemode": "area",
            "sizeref": 22548523.354444444,
            "symbol": "circle"
           },
           "mode": "markers",
           "name": "Japan",
           "orientation": "v",
           "showlegend": true,
           "type": "scatter",
           "x": [
            32585002786,
            16345065543
           ],
           "xaxis": "x",
           "y": {
            "bdata": "H4XrUbgeDUAfhetRuB4NQA==",
            "dtype": "f8"
           },
           "yaxis": "y"
          },
          {
           "customdata": {
            "bdata": "5gfmBw==",
            "dtype": "i2",
            "shape": "2, 1"
           },
           "hovertemplate": "<b>%{hovertext}</b><br><br>Import Value: $%{x:,.0f}<br>Tariff Rate: %{y:.2f}%<br>Year: %{customdata[0]}<extra></extra>",
           "hovertext": [
            "South Korea",
            "South Korea"
           ],
           "ids": [
            "South Korea",
            "South Korea"
           ],
           "legendgroup": "South Korea",
           "marker": {
            "color": "#00cc96",
            "size": [
             21720475665,
             13630449464
            ],
            "sizemode": "area",
            "sizeref": 22548523.354444444,
            "symbol": "circle"
           },
           "mode": "markers",
           "name": "South Korea",
           "orientation": "v",
           "showlegend": true,
           "type": "scatter",
           "x": [
            21720475665,
            13630449464
           ],
           "xaxis": "x",
           "y": {
            "bdata": "7FG4HoXrDUDsUbgehesNQA==",
            "dtype": "f8"
           },
           "yaxis": "y"
          },
          {
           "customdata": {
            "bdata": "5gfmBw==",
            "dtype": "i2",
            "shape": "2, 1"
           },
           "hovertemplate": "<b>%{hovertext}</b><br><br>Import Value: $%{x:,.0f}<br>Tariff Rate: %{y:.2f}%<br>Year: %{customdata[0]}<extra></extra>",
           "hovertext": [
            "Canada",
            "Canada"
           ],
           "ids": [
            "Canada",
            "Canada"
           ],
           "legendgroup": "Canada",
           "marker": {
            "color": "#ab63fa",
            "size": [
             27137396399,
             18372153389
            ],
            "sizemode": "area",
            "sizeref": 22548523.354444444,
            "symbol": "circle"
           },
           "mode": "markers",
           "name": "Canada",
           "orientation": "v",
           "showlegend": true,
           "type": "scatter",
           "x": [
            27137396399,
            18372153389
           ],
           "xaxis": "x",
           "y": {
            "bdata": "CtejcD0KC0AK16NwPQoLQA==",
            "dtype": "f8"
           },
           "yaxis": "y"
          },
          {
           "customdata": {
            "bdata": "5gfmBw==",
            "dtype": "i2",
            "shape": "2, 1"
           },
           "hovertemplate": "<b>%{hovertext}</b><br><br>Import Value: $%{x:,.0f}<br>Tariff Rate: %{y:.2f}%<br>Year: %{customdata[0]}<extra></extra>",
           "hovertext": [
            "Germany",
            "Germany"
           ],
           "ids": [
            "Germany",
            "Germany"
           ],
           "legendgroup": "Germany",
           "marker": {
            "color": "#FFA15A",
            "size": [
             19113463716,
             10298200293
            ],
            "sizemode": "area",
            "sizeref": 22548523.354444444,
            "symbol": "circle"
           },
           "mode": "markers",
           "name": "Germany",
           "orientation": "v",
           "showlegend": true,
           "type": "scatter",
           "x": [
            19113463716,
            10298200293
           ],
           "xaxis": "x",
           "y": {
            "bdata": "hetRuB6FC0CF61G4HoULQA==",
            "dtype": "f8"
           },
           "yaxis": "y"
          },
          {
           "customdata": {
            "bdata": "5gc=",
            "dtype": "i2",
            "shape": "1, 1"
           },
           "hovertemplate": "<b>%{hovertext}</b><br><br>Import Value: $%{x:,.0f}<br>Tariff Rate: %{y:.2f}%<br>Year: %{customdata[0]}<extra></extra>",
           "hovertext": [
            "China"
           ],
           "ids": [
            "China"
           ],
           "legendgroup": "China",
           "marker": {
            "color": "#19d3f3",
            "size": [
             18472060296
            ],
            "sizemode": "area",
            "sizeref": 22548523.354444444,
            "symbol": "circle"
           },
           "mode": "markers",
           "name": "China",
           "orientation": "v",
           "showlegend": true,
           "type": "scatter",
           "x": [
            18472060296
           ],
           "xaxis": "x",
           "y": {
            "bdata": "4XoUrkfhDEA=",
            "dtype": "f8"
           },
           "yaxis": "y"
          },
          {
           "customdata": {
            "bdata": "5gc=",
            "dtype": "i2",
            "shape": "1, 1"
           },
           "hovertemplate": "<b>%{hovertext}</b><br><br>Import Value: $%{x:,.0f}<br>Tariff Rate: %{y:.2f}%<br>Year: %{customdata[0]}<extra></extra>",
           "hovertext": [
            "United Kingdom"
           ],
           "ids": [
            "United Kingdom"
           ],
           "legendgroup": "United Kingdom",
           "marker": {
            "color": "#FF6692",
            "size": [
             6211449255
            ],
            "sizemode": "area",
            "sizeref": 22548523.354444444,
            "symbol": "circle"
           },
           "mode": "markers",
           "name": "United Kingdom",
           "orientation": "v",
           "showlegend": true,
           "type": "scatter",
           "x": [
            6211449255
           ],
           "xaxis": "x",
           "y": {
            "bdata": "zczMzMzMDEA=",
            "dtype": "f8"
           },
           "yaxis": "y"
          },
          {
           "customdata": {
            "bdata": "5gc=",
            "dtype": "i2",
            "shape": "1, 1"
           },
           "hovertemplate": "<b>%{hovertext}</b><br><br>Import Value: $%{x:,.0f}<br>Tariff Rate: %{y:.2f}%<br>Year: %{customdata[0]}<extra></extra>",
           "hovertext": [
            "Slovakia"
           ],
           "ids": [
            "Slovakia"
           ],
           "legendgroup": "Slovakia",
           "marker": {
            "color": "#B6E880",
            "size": [
             4764578585
            ],
            "sizemode": "area",
            "sizeref": 22548523.354444444,
            "symbol": "circle"
           },
           "mode": "markers",
           "name": "Slovakia",
           "orientation": "v",
           "showlegend": true,
           "type": "scatter",
           "x": [
            4764578585
           ],
           "xaxis": "x",
           "y": {
            "bdata": "H4XrUbgeDUA=",
            "dtype": "f8"
           },
           "yaxis": "y"
          },
          {
           "customdata": {
            "bdata": "5gc=",
            "dtype": "i2",
            "shape": "1, 1"
           },
           "hovertemplate": "<b>%{hovertext}</b><br><br>Import Value: $%{x:,.0f}<br>Tariff Rate: %{y:.2f}%<br>Year: %{customdata[0]}<extra></extra>",
           "hovertext": [
            "Thailand"
           ],
           "ids": [
            "Thailand"
           ],
           "legendgroup": "Thailand",
           "marker": {
            "color": "#FF97FF",
            "size": [
             5491856200
            ],
            "sizemode": "area",
            "sizeref": 22548523.354444444,
            "symbol": "circle"
           },
           "mode": "markers",
           "name": "Thailand",
           "orientation": "v",
           "showlegend": true,
           "type": "scatter",
           "x": [
            5491856200
           ],
           "xaxis": "x",
           "y": {
            "bdata": "9ihcj8L1DkA=",
            "dtype": "f8"
           },
           "yaxis": "y"
          },
          {
           "customdata": {
            "bdata": "5gc=",
            "dtype": "i2",
            "shape": "1, 1"
           },
           "hovertemplate": "<b>%{hovertext}</b><br><br>Import Value: $%{x:,.0f}<br>Tariff Rate: %{y:.2f}%<br>Year: %{customdata[0]}<extra></extra>",
           "hovertext": [
            "Sweden"
           ],
           "ids": [
            "Sweden"
           ],
           "legendgroup": "Sweden",
           "marker": {
            "color": "#FECB52",
            "size": [
             3229537374
            ],
            "sizemode": "area",
            "sizeref": 22548523.354444444,
            "symbol": "circle"
           },
           "mode": "markers",
           "name": "Sweden",
           "orientation": "v",
           "showlegend": true,
           "type": "scatter",
           "x": [
            3229537374
           ],
           "xaxis": "x",
           "y": {
            "bdata": "9ihcj8L1CEA=",
            "dtype": "f8"
           },
           "yaxis": "y"
          },
          {
           "customdata": {
            "bdata": "5gc=",
            "dtype": "i2",
            "shape": "1, 1"
           },
           "hovertemplate": "<b>%{hovertext}</b><br><br>Import Value: $%{x:,.0f}<br>Tariff Rate: %{y:.2f}%<br>Year: %{customdata[0]}<extra></extra>",
           "hovertext": [
            "Taiwan"
           ],
           "ids": [
            "Taiwan"
           ],
           "legendgroup": "Taiwan",
           "marker": {
            "color": "#636efa",
            "size": [
             3920276478
            ],
            "sizemode": "area",
            "sizeref": 22548523.354444444,
            "symbol": "circle"
           },
           "mode": "markers",
           "name": "Taiwan",
           "orientation": "v",
           "showlegend": true,
           "type": "scatter",
           "x": [
            3920276478
           ],
           "xaxis": "x",
           "y": {
            "bdata": "XHz3tLCUD0A=",
            "dtype": "f8"
           },
           "yaxis": "y"
          },
          {
           "customdata": {
            "bdata": "5gc=",
            "dtype": "i2",
            "shape": "1, 1"
           },
           "hovertemplate": "<b>%{hovertext}</b><br><br>Import Value: $%{x:,.0f}<br>Tariff Rate: %{y:.2f}%<br>Year: %{customdata[0]}<extra></extra>",
           "hovertext": [
            "Italy"
           ],
           "ids": [
            "Italy"
           ],
           "legendgroup": "Italy",
           "marker": {
            "color": "#EF553B",
            "size": [
             3279159679
            ],
            "sizemode": "area",
            "sizeref": 22548523.354444444,
            "symbol": "circle"
           },
           "mode": "markers",
           "name": "Italy",
           "orientation": "v",
           "showlegend": true,
           "type": "scatter",
           "x": [
            3279159679
           ],
           "xaxis": "x",
           "y": {
            "bdata": "uB6F61G4DkA=",
            "dtype": "f8"
           },
           "yaxis": "y"
          },
          {
           "customdata": {
            "bdata": "5gc=",
            "dtype": "i2",
            "shape": "1, 1"
           },
           "hovertemplate": "<b>%{hovertext}</b><br><br>Import Value: $%{x:,.0f}<br>Tariff Rate: %{y:.2f}%<br>Year: %{customdata[0]}<extra></extra>",
           "hovertext": [
            "Vietnam"
           ],
           "ids": [
            "Vietnam"
           ],
           "legendgroup": "Vietnam",
           "marker": {
            "color": "#00cc96",
            "size": [
             2692478540
            ],
            "sizemode": "area",
            "sizeref": 22548523.354444444,
            "symbol": "circle"
           },
           "mode": "markers",
           "name": "Vietnam",
           "orientation": "v",
           "showlegend": true,
           "type": "scatter",
           "x": [
            2692478540
           ],
           "xaxis": "x",
           "y": {
            "bdata": "mpmZmZmZDUA=",
            "dtype": "f8"
           },
           "yaxis": "y"
          },
          {
           "customdata": {
            "bdata": "5gc=",
            "dtype": "i2",
            "shape": "1, 1"
           },
           "hovertemplate": "<b>%{hovertext}</b><br><br>Import Value: $%{x:,.0f}<br>Tariff Rate: %{y:.2f}%<br>Year: %{customdata[0]}<extra></extra>",
           "hovertext": [
            "India"
           ],
           "ids": [
            "India"
           ],
           "legendgroup": "India",
           "marker": {
            "color": "#ab63fa",
            "size": [
             2826721234
            ],
            "sizemode": "area",
            "sizeref": 22548523.354444444,
            "symbol": "circle"
           },
           "mode": "markers",
           "name": "India",
           "orientation": "v",
           "showlegend": true,
           "type": "scatter",
           "x": [
            2826721234
           ],
           "xaxis": "x",
           "y": {
            "bdata": "pHA9CtejDkA=",
            "dtype": "f8"
           },
           "yaxis": "y"
          }
         ],
         "name": "2022"
        },
        {
         "data": [
          {
           "customdata": {
            "bdata": "5QflB+UH",
            "dtype": "i2",
            "shape": "3, 1"
           },
           "hovertemplate": "<b>%{hovertext}</b><br><br>Import Value: $%{x:,.0f}<br>Tariff Rate: %{y:.2f}%<br>Year: %{customdata[0]}<extra></extra>",
           "hovertext": [
            "Mexico",
            "Mexico",
            "Mexico"
           ],
           "ids": [
            "Mexico",
            "Mexico",
            "Mexico"
           ],
           "legendgroup": "Mexico",
           "marker": {
            "color": "#636efa",
            "size": [
             59610423614,
             51303097839,
             10918155452
            ],
            "sizemode": "area",
            "sizeref": 22548523.354444444,
            "symbol": "circle"
           },
           "mode": "markers",
           "name": "Mexico",
           "orientation": "v",
           "showlegend": true,
           "type": "scatter",
           "x": [
            59610423614,
            51303097839,
            10918155452
           ],
           "xaxis": "x",
           "y": {
            "bdata": "cT0K16NwDUBxPQrXo3ANQHE9CtejcA1A",
            "dtype": "f8"
           },
           "yaxis": "y"
          },
          {
           "customdata": {
            "bdata": "5QflBw==",
            "dtype": "i2",
            "shape": "2, 1"
           },
           "hovertemplate": "<b>%{hovertext}</b><br><br>Import Value: $%{x:,.0f}<br>Tariff Rate: %{y:.2f}%<br>Year: %{customdata[0]}<extra></extra>",
           "hovertext": [
            "Japan",
            "Japan"
           ],
           "ids": [
            "Japan",
            "Japan"
           ],
           "legendgroup": "Japan",
           "marker": {
            "color": "#EF553B",
            "size": [
             32377415684,
             14877594850
            ],
            "sizemode": "area",
            "sizeref": 22548523.354444444,
            "symbol": "circle"
           },
           "mode": "markers",
           "name": "Japan",
           "orientation": "v",
           "showlegend": true,
           "type": "scatter",
           "x": [
            32377415684,
            14877594850
           ],
           "xaxis": "x",
           "y": {
            "bdata": "rkfhehSuDUCuR+F6FK4NQA==",
            "dtype": "f8"
           },
           "yaxis": "y"
          },
          {
           "customdata": {
            "bdata": "5QflBw==",
            "dtype": "i2",
            "shape": "2, 1"
           },
           "hovertemplate": "<b>%{hovertext}</b><br><br>Import Value: $%{x:,.0f}<br>Tariff Rate: %{y:.2f}%<br>Year: %{customdata[0]}<extra></extra>",
           "hovertext": [
            "South Korea",
            "South Korea"
           ],
           "ids": [
            "South Korea",
            "South Korea"
           ],
           "legendgroup": "South Korea",
           "marker": {
            "color": "#00cc96",
            "size": [
             17555217671,
             10227123126
            ],
            "sizemode": "area",
            "sizeref": 22548523.354444444,
            "symbol": "circle"
           },
           "mode": "markers",
           "name": "South Korea",
           "orientation": "v",
           "showlegend": true,
           "type": "scatter",
           "x": [
            17555217671,
            10227123126
           ],
           "xaxis": "x",
           "y": {
            "bdata": "4XoUrkfhDEDhehSuR+EMQA==",
            "dtype": "f8"
           },
           "yaxis": "y"
          },
          {
           "customdata": {
            "bdata": "5QflBw==",
            "dtype": "i2",
            "shape": "2, 1"
           },
           "hovertemplate": "<b>%{hovertext}</b><br><br>Import Value: $%{x:,.0f}<br>Tariff Rate: %{y:.2f}%<br>Year: %{customdata[0]}<extra></extra>",
           "hovertext": [
            "Canada",
            "Canada"
           ],
           "ids": [
            "Canada",
            "Canada"
           ],
           "legendgroup": "Canada",
           "marker": {
            "color": "#ab63fa",
            "size": [
             23633799798,
             16340810874
            ],
            "sizemode": "area",
            "sizeref": 22548523.354444444,
            "symbol": "circle"
           },
           "mode": "markers",
           "name": "Canada",
           "orientation": "v",
           "showlegend": true,
           "type": "scatter",
           "x": [
            23633799798,
            16340810874
           ],
           "xaxis": "x",
           "y": {
            "bdata": "MzMzMzMzC0AzMzMzMzMLQA==",
            "dtype": "f8"
           },
           "yaxis": "y"
          },
          {
           "customdata": {
            "bdata": "5QflBw==",
            "dtype": "i2",
            "shape": "2, 1"
           },
           "hovertemplate": "<b>%{hovertext}</b><br><br>Import Value: $%{x:,.0f}<br>Tariff Rate: %{y:.2f}%<br>Year: %{customdata[0]}<extra></extra>",
           "hovertext": [
            "Germany",
            "Germany"
           ],
           "ids": [
            "Germany",
            "Germany"
           ],
           "legendgroup": "Germany",
           "marker": {
            "color": "#FFA15A",
            "size": [
             14309278555,
             10129752795
            ],
            "sizemode": "area",
            "sizeref": 22548523.354444444,
            "symbol": "circle"
           },
           "mode": "markers",
           "name": "Germany",
           "orientation": "v",
           "showlegend": true,
           "type": "scatter",
           "x": [
            14309278555,
            10129752795
           ],
           "xaxis": "x",
           "y": {
            "bdata": "KVyPwvUoDEApXI/C9SgMQA==",
            "dtype": "f8"
           },
           "yaxis": "y"
          },
          {
           "customdata": {
            "bdata": "5Qc=",
            "dtype": "i2",
            "shape": "1, 1"
           },
           "hovertemplate": "<b>%{hovertext}</b><br><br>Import Value: $%{x:,.0f}<br>Tariff Rate: %{y:.2f}%<br>Year: %{customdata[0]}<extra></extra>",
           "hovertext": [
            "China"
           ],
           "ids": [
            "China"
           ],
           "legendgroup": "China",
           "marker": {
            "color": "#19d3f3",
            "size": [
             15029348913
            ],
            "sizemode": "area",
            "sizeref": 22548523.354444444,
            "symbol": "circle"
           },
           "mode": "markers",
           "name": "China",
           "orientation": "v",
           "showlegend": true,
           "type": "scatter",
           "x": [
            15029348913
           ],
           "xaxis": "x",
           "y": {
            "bdata": "4XoUrkfhDEA=",
            "dtype": "f8"
           },
           "yaxis": "y"
          },
          {
           "customdata": {
            "bdata": "5Qc=",
            "dtype": "i2",
            "shape": "1, 1"
           },
           "hovertemplate": "<b>%{hovertext}</b><br><br>Import Value: $%{x:,.0f}<br>Tariff Rate: %{y:.2f}%<br>Year: %{customdata[0]}<extra></extra>",
           "hovertext": [
            "United Kingdom"
           ],
           "ids": [
            "United Kingdom"
           ],
           "legendgroup": "United Kingdom",
           "marker": {
            "color": "#FF6692",
            "size": [
             6644753636
            ],
            "sizemode": "area",
            "sizeref": 22548523.354444444,
            "symbol": "circle"
           },
           "mode": "markers",
           "name": "United Kingdom",
           "orientation": "v",
           "showlegend": true,
           "type": "scatter",
           "x": [
            6644753636
           ],
           "xaxis": "x",
           "y": {
            "bdata": "w/UoXI/CDUA=",
            "dtype": "f8"
           },
           "yaxis": "y"
          },
          {
           "customdata": {
            "bdata": "5Qc=",
            "dtype": "i2",
            "shape": "1, 1"
           },
           "hovertemplate": "<b>%{hovertext}</b><br><br>Import Value: $%{x:,.0f}<br>Tariff Rate: %{y:.2f}%<br>Year: %{customdata[0]}<extra></extra>",
           "hovertext": [
            "Slovakia"
           ],
           "ids": [
            "Slovakia"
           ],
           "legendgroup": "Slovakia",
           "marker": {
            "color": "#B6E880",
            "size": [
             3417914262
            ],
            "sizemode": "area",
            "sizeref": 22548523.354444444,
            "symbol": "circle"
           },
           "mode": "markers",
           "name": "Slovakia",
           "orientation": "v",
           "showlegend": true,
           "type": "scatter",
           "x": [
            3417914262
           ],
           "xaxis": "x",
           "y": {
            "bdata": "zczMzMzMDEA=",
            "dtype": "f8"
           },
           "yaxis": "y"
          },
          {
           "customdata": {
            "bdata": "5Qc=",
            "dtype": "i2",
            "shape": "1, 1"
           },
           "hovertemplate": "<b>%{hovertext}</b><br><br>Import Value: $%{x:,.0f}<br>Tariff Rate: %{y:.2f}%<br>Year: %{customdata[0]}<extra></extra>",
           "hovertext": [
            "Thailand"
           ],
           "ids": [
            "Thailand"
           ],
           "legendgroup": "Thailand",
           "marker": {
            "color": "#FF97FF",
            "size": [
             4764315890
            ],
            "sizemode": "area",
            "sizeref": 22548523.354444444,
            "symbol": "circle"
           },
           "mode": "markers",
           "name": "Thailand",
           "orientation": "v",
           "showlegend": true,
           "type": "scatter",
           "x": [
            4764315890
           ],
           "xaxis": "x",
           "y": {
            "bdata": "CtejcD0KEEA=",
            "dtype": "f8"
           },
           "yaxis": "y"
          },
          {
           "customdata": {
            "bdata": "5Qc=",
            "dtype": "i2",
            "shape": "1, 1"
           },
           "hovertemplate": "<b>%{hovertext}</b><br><br>Import Value: $%{x:,.0f}<br>Tariff Rate: %{y:.2f}%<br>Year: %{customdata[0]}<extra></extra>",
           "hovertext": [
            "Sweden"
           ],
           "ids": [
            "Sweden"
           ],
           "legendgroup": "Sweden",
           "marker": {
            "color": "#FECB52",
            "size": [
             2809827301
            ],
            "sizemode": "area",
            "sizeref": 22548523.354444444,
            "symbol": "circle"
           },
           "mode": "markers",
           "name": "Sweden",
           "orientation": "v",
           "showlegend": true,
           "type": "scatter",
           "x": [
            2809827301
           ],
           "xaxis": "x",
           "y": {
            "bdata": "mpmZmZmZCUA=",
            "dtype": "f8"
           },
           "yaxis": "y"
          },
          {
           "customdata": {
            "bdata": "5Qc=",
            "dtype": "i2",
            "shape": "1, 1"
           },
           "hovertemplate": "<b>%{hovertext}</b><br><br>Import Value: $%{x:,.0f}<br>Tariff Rate: %{y:.2f}%<br>Year: %{customdata[0]}<extra></extra>",
           "hovertext": [
            "Taiwan"
           ],
           "ids": [
            "Taiwan"
           ],
           "legendgroup": "Taiwan",
           "marker": {
            "color": "#636efa",
            "size": [
             3581173809
            ],
            "sizemode": "area",
            "sizeref": 22548523.354444444,
            "symbol": "circle"
           },
           "mode": "markers",
           "name": "Taiwan",
           "orientation": "v",
           "showlegend": true,
           "type": "scatter",
           "x": [
            3581173809
           ],
           "xaxis": "x",
           "y": {
            "bdata": "XHz3tLCUD0A=",
            "dtype": "f8"
           },
           "yaxis": "y"
          },
          {
           "customdata": {
            "bdata": "5Qc=",
            "dtype": "i2",
            "shape": "1, 1"
           },
           "hovertemplate": "<b>%{hovertext}</b><br><br>Import Value: $%{x:,.0f}<br>Tariff Rate: %{y:.2f}%<br>Year: %{customdata[0]}<extra></extra>",
           "hovertext": [
            "Italy"
           ],
           "ids": [
            "Italy"
           ],
           "legendgroup": "Italy",
           "marker": {
            "color": "#EF553B",
            "size": [
             2826344267
            ],
            "sizemode": "area",
            "sizeref": 22548523.354444444,
            "symbol": "circle"
           },
           "mode": "markers",
           "name": "Italy",
           "orientation": "v",
           "showlegend": true,
           "type": "scatter",
           "x": [
            2826344267
           ],
           "xaxis": "x",
           "y": {
            "bdata": "MzMzMzMzD0A=",
            "dtype": "f8"
           },
           "yaxis": "y"
          },
          {
           "customdata": {
            "bdata": "5Qc=",
            "dtype": "i2",
            "shape": "1, 1"
           },
           "hovertemplate": "<b>%{hovertext}</b><br><br>Import Value: $%{x:,.0f}<br>Tariff Rate: %{y:.2f}%<br>Year: %{customdata[0]}<extra></extra>",
           "hovertext": [
            "Vietnam"
           ],
           "ids": [
            "Vietnam"
           ],
           "legendgroup": "Vietnam",
           "marker": {
            "color": "#00cc96",
            "size": [
             2169979224
            ],
            "sizemode": "area",
            "sizeref": 22548523.354444444,
            "symbol": "circle"
           },
           "mode": "markers",
           "name": "Vietnam",
           "orientation": "v",
           "showlegend": true,
           "type": "scatter",
           "x": [
            2169979224
           ],
           "xaxis": "x",
           "y": {
            "bdata": "UrgehetRDkA=",
            "dtype": "f8"
           },
           "yaxis": "y"
          },
          {
           "customdata": {
            "bdata": "5Qc=",
            "dtype": "i2",
            "shape": "1, 1"
           },
           "hovertemplate": "<b>%{hovertext}</b><br><br>Import Value: $%{x:,.0f}<br>Tariff Rate: %{y:.2f}%<br>Year: %{customdata[0]}<extra></extra>",
           "hovertext": [
            "India"
           ],
           "ids": [
            "India"
           ],
           "legendgroup": "India",
           "marker": {
            "color": "#ab63fa",
            "size": [
             2431942676
            ],
            "sizemode": "area",
            "sizeref": 22548523.354444444,
            "symbol": "circle"
           },
           "mode": "markers",
           "name": "India",
           "orientation": "v",
           "showlegend": true,
           "type": "scatter",
           "x": [
            2431942676
           ],
           "xaxis": "x",
           "y": {
            "bdata": "SOF6FK5HD0A=",
            "dtype": "f8"
           },
           "yaxis": "y"
          }
         ],
         "name": "2021"
        },
        {
         "data": [
          {
           "customdata": {
            "bdata": "5AfkB+QH",
            "dtype": "i2",
            "shape": "3, 1"
           },
           "hovertemplate": "<b>%{hovertext}</b><br><br>Import Value: $%{x:,.0f}<br>Tariff Rate: %{y:.2f}%<br>Year: %{customdata[0]}<extra></extra>",
           "hovertext": [
            "Mexico",
            "Mexico",
            "Mexico"
           ],
           "ids": [
            "Mexico",
            "Mexico",
            "Mexico"
           ],
           "legendgroup": "Mexico",
           "marker": {
            "color": "#636efa",
            "size": [
             51167030575,
             47585409558,
             8906939258
            ],
            "sizemode": "area",
            "sizeref": 22548523.354444444,
            "symbol": "circle"
           },
           "mode": "markers",
           "name": "Mexico",
           "orientation": "v",
           "showlegend": true,
           "type": "scatter",
           "x": [
            51167030575,
            47585409558,
            8906939258
           ],
           "xaxis": "x",
           "y": {
            "bdata": "cT0K16NwDUBxPQrXo3ANQHE9CtejcA1A",
            "dtype": "f8"
           },
           "yaxis": "y"
          },
          {
           "customdata": {
            "bdata": "5AfkBw==",
            "dtype": "i2",
            "shape": "2, 1"
           },
           "hovertemplate": "<b>%{hovertext}</b><br><br>Import Value: $%{x:,.0f}<br>Tariff Rate: %{y:.2f}%<br>Year: %{customdata[0]}<extra></extra>",
           "hovertext": [
            "Japan",
            "Japan"
           ],
           "ids": [
            "Japan",
            "Japan"
           ],
           "legendgroup": "Japan",
           "marker": {
            "color": "#EF553B",
            "size": [
             31894492076,
             12017934653
            ],
            "sizemode": "area",
            "sizeref": 22548523.354444444,
            "symbol": "circle"
           },
           "mode": "markers",
           "name": "Japan",
           "orientation": "v",
           "showlegend": true,
           "type": "scatter",
           "x": [
            31894492076,
            12017934653
           ],
           "xaxis": "x",
           "y": {
            "bdata": "4XoUrkfhDEDhehSuR+EMQA==",
            "dtype": "f8"
           },
           "yaxis": "y"
          },
          {
           "customdata": {
            "bdata": "5AfkBw==",
            "dtype": "i2",
            "shape": "2, 1"
           },
           "hovertemplate": "<b>%{hovertext}</b><br><br>Import Value: $%{x:,.0f}<br>Tariff Rate: %{y:.2f}%<br>Year: %{customdata[0]}<extra></extra>",
           "hovertext": [
            "South Korea",
            "South Korea"
           ],
           "ids": [
            "South Korea",
            "South Korea"
           ],
           "legendgroup": "South Korea",
           "marker": {
            "color": "#00cc96",
            "size": [
             16236348499,
             8150002576
            ],
            "sizemode": "area",
            "sizeref": 22548523.354444444,
            "symbol": "circle"
           },
           "mode": "markers",
           "name": "South Korea",
           "orientation": "v",
           "showlegend": true,
           "type": "scatter",
           "x": [
            16236348499,
            8150002576
           ],
           "xaxis": "x",
           "y": {
            "bdata": "zczMzMzMDEDNzMzMzMwMQA==",
            "dtype": "f8"
           },
           "yaxis": "y"
          },
          {
           "customdata": {
            "bdata": "5AfkB+QH",
            "dtype": "i2",
            "shape": "3, 1"
           },
           "hovertemplate": "<b>%{hovertext}</b><br><br>Import Value: $%{x:,.0f}<br>Tariff Rate: %{y:.2f}%<br>Year: %{customdata[0]}<extra></extra>",
           "hovertext": [
            "Canada",
            "Canada",
            "Canada"
           ],
           "ids": [
            "Canada",
            "Canada",
            "Canada"
           ],
           "legendgroup": "Canada",
           "marker": {
            "color": "#ab63fa",
            "size": [
             28157779659,
             13974490137,
             2005274979
            ],
            "sizemode": "area",
            "sizeref": 22548523.354444444,
            "symbol": "circle"
           },
           "mode": "markers",
           "name": "Canada",
           "orientation": "v",
           "showlegend": true,
           "type": "scatter",
           "x": [
            28157779659,
            13974490137,
            2005274979
           ],
           "xaxis": "x",
           "y": {
            "bdata": "exSuR+F6CkB7FK5H4XoKQHsUrkfhegpA",
            "dtype": "f8"
           },
           "yaxis": "y"
          },
          {
           "customdata": {
            "bdata": "5AfkBw==",
            "dtype": "i2",
            "shape": "2, 1"
           },
           "hovertemplate": "<b>%{hovertext}</b><br><br>Import Value: $%{x:,.0f}<br>Tariff Rate: %{y:.2f}%<br>Year: %{customdata[0]}<extra></extra>",
           "hovertext": [
            "Germany",
            "Germany"
           ],
           "ids": [
            "Germany",
            "Germany"
           ],
           "legendgroup": "Germany",
           "marker": {
            "color": "#FFA15A",
            "size": [
             12062241485,
             8421935729
            ],
            "sizemode": "area",
            "sizeref": 22548523.354444444,
            "symbol": "circle"
           },
           "mode": "markers",
           "name": "Germany",
           "orientation": "v",
           "showlegend": true,
           "type": "scatter",
           "x": [
            12062241485,
            8421935729
           ],
           "xaxis": "x",
           "y": {
            "bdata": "cT0K16NwC0BxPQrXo3ALQA==",
            "dtype": "f8"
           },
           "yaxis": "y"
          },
          {
           "customdata": {
            "bdata": "5Ac=",
            "dtype": "i2",
            "shape": "1, 1"
           },
           "hovertemplate": "<b>%{hovertext}</b><br><br>Import Value: $%{x:,.0f}<br>Tariff Rate: %{y:.2f}%<br>Year: %{customdata[0]}<extra></extra>",
           "hovertext": [
            "China"
           ],
           "ids": [
            "China"
           ],
           "legendgroup": "China",
           "marker": {
            "color": "#19d3f3",
            "size": [
             11312325340
            ],
            "sizemode": "area",
            "sizeref": 22548523.354444444,
            "symbol": "circle"
           },
           "mode": "markers",
           "name": "China",
           "orientation": "v",
           "showlegend": true,
           "type": "scatter",
           "x": [
            11312325340
           ],
           "xaxis": "x",
           "y": {
            "bdata": "UrgehetRDEA=",
            "dtype": "f8"
           },
           "yaxis": "y"
          },
          {
           "customdata": {
            "bdata": "5Ac=",
            "dtype": "i2",
            "shape": "1, 1"
           },
           "hovertemplate": "<b>%{hovertext}</b><br><br>Import Value: $%{x:,.0f}<br>Tariff Rate: %{y:.2f}%<br>Year: %{customdata[0]}<extra></extra>",
           "hovertext": [
            "United Kingdom"
           ],
           "ids": [
            "United Kingdom"
           ],
           "legendgroup": "United Kingdom",
           "marker": {
            "color": "#FF6692",
            "size": [
             6083881420
            ],
            "sizemode": "area",
            "sizeref": 22548523.354444444,
            "symbol": "circle"
           },
           "mode": "markers",
           "name": "United Kingdom",
           "orientation": "v",
           "showlegend": true,
           "type": "scatter",
           "x": [
            6083881420
           ],
           "xaxis": "x",
           "y": {
            "bdata": "j8L1KFyPDEA=",
            "dtype": "f8"
           },
           "yaxis": "y"
          },
          {
           "customdata": {
            "bdata": "5Ac=",
            "dtype": "i2",
            "shape": "1, 1"
           },
           "hovertemplate": "<b>%{hovertext}</b><br><br>Import Value: $%{x:,.0f}<br>Tariff Rate: %{y:.2f}%<br>Year: %{customdata[0]}<extra></extra>",
           "hovertext": [
            "Slovakia"
           ],
           "ids": [
            "Slovakia"
           ],
           "legendgroup": "Slovakia",
           "marker": {
            "color": "#B6E880",
            "size": [
             3832626730
            ],
            "sizemode": "area",
            "sizeref": 22548523.354444444,
            "symbol": "circle"
           },
           "mode": "markers",
           "name": "Slovakia",
           "orientation": "v",
           "showlegend": true,
           "type": "scatter",
           "x": [
            3832626730
           ],
           "xaxis": "x",
           "y": {
            "bdata": "SOF6FK5HDUA=",
            "dtype": "f8"
           },
           "yaxis": "y"
          },
          {
           "customdata": {
            "bdata": "5Ac=",
            "dtype": "i2",
            "shape": "1, 1"
           },
           "hovertemplate": "<b>%{hovertext}</b><br><br>Import Value: $%{x:,.0f}<br>Tariff Rate: %{y:.2f}%<br>Year: %{customdata[0]}<extra></extra>",
           "hovertext": [
            "Thailand"
           ],
           "ids": [
            "Thailand"
           ],
           "legendgroup": "Thailand",
           "marker": {
            "color": "#FF97FF",
            "size": [
             4128353999
            ],
            "sizemode": "area",
            "sizeref": 22548523.354444444,
            "symbol": "circle"
           },
           "mode": "markers",
           "name": "Thailand",
           "orientation": "v",
           "showlegend": true,
           "type": "scatter",
           "x": [
            4128353999
           ],
           "xaxis": "x",
           "y": {
            "bdata": "MzMzMzMzD0A=",
            "dtype": "f8"
           },
           "yaxis": "y"
          },
          {
           "customdata": {
            "bdata": "5Ac=",
            "dtype": "i2",
            "shape": "1, 1"
           },
           "hovertemplate": "<b>%{hovertext}</b><br><br>Import Value: $%{x:,.0f}<br>Tariff Rate: %{y:.2f}%<br>Year: %{customdata[0]}<extra></extra>",
           "hovertext": [
            "Sweden"
           ],
           "ids": [
            "Sweden"
           ],
           "legendgroup": "Sweden",
           "marker": {
            "color": "#FECB52",
            "size": [
             2362887714
            ],
            "sizemode": "area",
            "sizeref": 22548523.354444444,
            "symbol": "circle"
           },
           "mode": "markers",
           "name": "Sweden",
           "orientation": "v",
           "showlegend": true,
           "type": "scatter",
           "x": [
            2362887714
           ],
           "xaxis": "x",
           "y": {
            "bdata": "4XoUrkfhCEA=",
            "dtype": "f8"
           },
           "yaxis": "y"
          },
          {
           "customdata": {
            "bdata": "5Ac=",
            "dtype": "i2",
            "shape": "1, 1"
           },
           "hovertemplate": "<b>%{hovertext}</b><br><br>Import Value: $%{x:,.0f}<br>Tariff Rate: %{y:.2f}%<br>Year: %{customdata[0]}<extra></extra>",
           "hovertext": [
            "Taiwan"
           ],
           "ids": [
            "Taiwan"
           ],
           "legendgroup": "Taiwan",
           "marker": {
            "color": "#636efa",
            "size": [
             3250032670
            ],
            "sizemode": "area",
            "sizeref": 22548523.354444444,
            "symbol": "circle"
           },
           "mode": "markers",
           "name": "Taiwan",
           "orientation": "v",
           "showlegend": true,
           "type": "scatter",
           "x": [
            3250032670
           ],
           "xaxis": "x",
           "y": {
            "bdata": "XHz3tLCUD0A=",
            "dtype": "f8"
           },
           "yaxis": "y"
          },
          {
           "customdata": {
            "bdata": "5Ac=",
            "dtype": "i2",
            "shape": "1, 1"
           },
           "hovertemplate": "<b>%{hovertext}</b><br><br>Import Value: $%{x:,.0f}<br>Tariff Rate: %{y:.2f}%<br>Year: %{customdata[0]}<extra></extra>",
           "hovertext": [
            "Italy"
           ],
           "ids": [
            "Italy"
           ],
           "legendgroup": "Italy",
           "marker": {
            "color": "#EF553B",
            "size": [
             3145842613
            ],
            "sizemode": "area",
            "sizeref": 22548523.354444444,
            "symbol": "circle"
           },
           "mode": "markers",
           "name": "Italy",
           "orientation": "v",
           "showlegend": true,
           "type": "scatter",
           "x": [
            3145842613
           ],
           "xaxis": "x",
           "y": {
            "bdata": "exSuR+F6DkA=",
            "dtype": "f8"
           },
           "yaxis": "y"
          },
          {
           "customdata": {
            "bdata": "5Ac=",
            "dtype": "i2",
            "shape": "1, 1"
           },
           "hovertemplate": "<b>%{hovertext}</b><br><br>Import Value: $%{x:,.0f}<br>Tariff Rate: %{y:.2f}%<br>Year: %{customdata[0]}<extra></extra>",
           "hovertext": [
            "Vietnam"
           ],
           "ids": [
            "Vietnam"
           ],
           "legendgroup": "Vietnam",
           "marker": {
            "color": "#00cc96",
            "size": {
             "bdata": "NZuKYw==",
             "dtype": "i4"
            },
            "sizemode": "area",
            "sizeref": 22548523.354444444,
            "symbol": "circle"
           },
           "mode": "markers",
           "name": "Vietnam",
           "orientation": "v",
           "showlegend": true,
           "type": "scatter",
           "x": {
            "bdata": "NZuKYw==",
            "dtype": "i4"
           },
           "xaxis": "x",
           "y": {
            "bdata": "PQrXo3A9DkA=",
            "dtype": "f8"
           },
           "yaxis": "y"
          }
         ],
         "name": "2020"
        },
        {
         "data": [
          {
           "customdata": {
            "bdata": "4wfjB+MH",
            "dtype": "i2",
            "shape": "3, 1"
           },
           "hovertemplate": "<b>%{hovertext}</b><br><br>Import Value: $%{x:,.0f}<br>Tariff Rate: %{y:.2f}%<br>Year: %{customdata[0]}<extra></extra>",
           "hovertext": [
            "Mexico",
            "Mexico",
            "Mexico"
           ],
           "ids": [
            "Mexico",
            "Mexico",
            "Mexico"
           ],
           "legendgroup": "Mexico",
           "marker": {
            "color": "#636efa",
            "size": [
             60348061297,
             58368891071,
             13100052463
            ],
            "sizemode": "area",
            "sizeref": 22548523.354444444,
            "symbol": "circle"
           },
           "mode": "markers",
           "name": "Mexico",
           "orientation": "v",
           "showlegend": true,
           "type": "scatter",
           "x": [
            60348061297,
            58368891071,
            13100052463
           ],
           "xaxis": "x",
           "y": {
            "bdata": "16NwPQrXDUDXo3A9CtcNQNejcD0K1w1A",
            "dtype": "f8"
           },
           "yaxis": "y"
          },
          {
           "customdata": {
            "bdata": "4wfjBw==",
            "dtype": "i2",
            "shape": "2, 1"
           },
           "hovertemplate": "<b>%{hovertext}</b><br><br>Import Value: $%{x:,.0f}<br>Tariff Rate: %{y:.2f}%<br>Year: %{customdata[0]}<extra></extra>",
           "hovertext": [
            "Japan",
            "Japan"
           ],
           "ids": [
            "Japan",
            "Japan"
           ],
           "legendgroup": "Japan",
           "marker": {
            "color": "#EF553B",
            "size": [
             38693100053,
             14874584199
            ],
            "sizemode": "area",
            "sizeref": 22548523.354444444,
            "symbol": "circle"
           },
           "mode": "markers",
           "name": "Japan",
           "orientation": "v",
           "showlegend": true,
           "type": "scatter",
           "x": [
            38693100053,
            14874584199
           ],
           "xaxis": "x",
           "y": {
            "bdata": "mpmZmZmZDUCamZmZmZkNQA==",
            "dtype": "f8"
           },
           "yaxis": "y"
          },
          {
           "customdata": {
            "bdata": "4wfjBw==",
            "dtype": "i2",
            "shape": "2, 1"
           },
           "hovertemplate": "<b>%{hovertext}</b><br><br>Import Value: $%{x:,.0f}<br>Tariff Rate: %{y:.2f}%<br>Year: %{customdata[0]}<extra></extra>",
           "hovertext": [
            "South Korea",
            "South Korea"
           ],
           "ids": [
            "South Korea",
            "South Korea"
           ],
           "legendgroup": "South Korea",
           "marker": {
            "color": "#00cc96",
            "size": [
             15901735828,
             9402583183
            ],
            "sizemode": "area",
            "sizeref": 22548523.354444444,
            "symbol": "circle"
           },
           "mode": "markers",
           "name": "South Korea",
           "orientation": "v",
           "showlegend": true,
           "type": "scatter",
           "x": [
            15901735828,
            9402583183
           ],
           "xaxis": "x",
           "y": {
            "bdata": "cT0K16NwDUBxPQrXo3ANQA==",
            "dtype": "f8"
           },
           "yaxis": "y"
          },
          {
           "customdata": {
            "bdata": "4wfjB+MH",
            "dtype": "i2",
            "shape": "3, 1"
           },
           "hovertemplate": "<b>%{hovertext}</b><br><br>Import Value: $%{x:,.0f}<br>Tariff Rate: %{y:.2f}%<br>Year: %{customdata[0]}<extra></extra>",
           "hovertext": [
            "Canada",
            "Canada",
            "Canada"
           ],
           "ids": [
            "Canada",
            "Canada",
            "Canada"
           ],
           "legendgroup": "Canada",
           "marker": {
            "color": "#ab63fa",
            "size": [
             38799560043,
             16793901417,
             2986691372
            ],
            "sizemode": "area",
            "sizeref": 22548523.354444444,
            "symbol": "circle"
           },
           "mode": "markers",
           "name": "Canada",
           "orientation": "v",
           "showlegend": true,
           "type": "scatter",
           "x": [
            38799560043,
            16793901417,
            2986691372
           ],
           "xaxis": "x",
           "y": {
            "bdata": "4XoUrkfhCkDhehSuR+EKQOF6FK5H4QpA",
            "dtype": "f8"
           },
           "yaxis": "y"
          },
          {
           "customdata": {
            "bdata": "4wfjBw==",
            "dtype": "i2",
            "shape": "2, 1"
           },
           "hovertemplate": "<b>%{hovertext}</b><br><br>Import Value: $%{x:,.0f}<br>Tariff Rate: %{y:.2f}%<br>Year: %{customdata[0]}<extra></extra>",
           "hovertext": [
            "Germany",
            "Germany"
           ],
           "ids": [
            "Germany",
            "Germany"
           ],
           "legendgroup": "Germany",
           "marker": {
            "color": "#FFA15A",
            "size": [
             17405348715,
             9228203576
            ],
            "sizemode": "area",
            "sizeref": 22548523.354444444,
            "symbol": "circle"
           },
           "mode": "markers",
           "name": "Germany",
           "orientation": "v",
           "showlegend": true,
           "type": "scatter",
           "x": [
            17405348715,
            9228203576
           ],
           "xaxis": "x",
           "y": {
            "bdata": "j8L1KFyPDECPwvUoXI8MQA==",
            "dtype": "f8"
           },
           "yaxis": "y"
          },
          {
           "customdata": {
            "bdata": "4wc=",
            "dtype": "i2",
            "shape": "1, 1"
           },
           "hovertemplate": "<b>%{hovertext}</b><br><br>Import Value: $%{x:,.0f}<br>Tariff Rate: %{y:.2f}%<br>Year: %{customdata[0]}<extra></extra>",
           "hovertext": [
            "China"
           ],
           "ids": [
            "China"
           ],
           "legendgroup": "China",
           "marker": {
            "color": "#19d3f3",
            "size": [
             15435614082
            ],
            "sizemode": "area",
            "sizeref": 22548523.354444444,
            "symbol": "circle"
           },
           "mode": "markers",
           "name": "China",
           "orientation": "v",
           "showlegend": true,
           "type": "scatter",
           "x": [
            15435614082
           ],
           "xaxis": "x",
           "y": {
            "bdata": "zczMzMzMDEA=",
            "dtype": "f8"
           },
           "yaxis": "y"
          },
          {
           "customdata": {
            "bdata": "4wc=",
            "dtype": "i2",
            "shape": "1, 1"
           },
           "hovertemplate": "<b>%{hovertext}</b><br><br>Import Value: $%{x:,.0f}<br>Tariff Rate: %{y:.2f}%<br>Year: %{customdata[0]}<extra></extra>",
           "hovertext": [
            "United Kingdom"
           ],
           "ids": [
            "United Kingdom"
           ],
           "legendgroup": "United Kingdom",
           "marker": {
            "color": "#FF6692",
            "size": [
             9648466775
            ],
            "sizemode": "area",
            "sizeref": 22548523.354444444,
            "symbol": "circle"
           },
           "mode": "markers",
           "name": "United Kingdom",
           "orientation": "v",
           "showlegend": true,
           "type": "scatter",
           "x": [
            9648466775
           ],
           "xaxis": "x",
           "y": {
            "bdata": "hetRuB6FDUA=",
            "dtype": "f8"
           },
           "yaxis": "y"
          },
          {
           "customdata": {
            "bdata": "4wc=",
            "dtype": "i2",
            "shape": "1, 1"
           },
           "hovertemplate": "<b>%{hovertext}</b><br><br>Import Value: $%{x:,.0f}<br>Tariff Rate: %{y:.2f}%<br>Year: %{customdata[0]}<extra></extra>",
           "hovertext": [
            "Slovakia"
           ],
           "ids": [
            "Slovakia"
           ],
           "legendgroup": "Slovakia",
           "marker": {
            "color": "#B6E880",
            "size": [
             3829218618
            ],
            "sizemode": "area",
            "sizeref": 22548523.354444444,
            "symbol": "circle"
           },
           "mode": "markers",
           "name": "Slovakia",
           "orientation": "v",
           "showlegend": true,
           "type": "scatter",
           "x": [
            3829218618
           ],
           "xaxis": "x",
           "y": {
            "bdata": "9ihcj8L1DEA=",
            "dtype": "f8"
           },
           "yaxis": "y"
          },
          {
           "customdata": {
            "bdata": "4wc=",
            "dtype": "i2",
            "shape": "1, 1"
           },
           "hovertemplate": "<b>%{hovertext}</b><br><br>Import Value: $%{x:,.0f}<br>Tariff Rate: %{y:.2f}%<br>Year: %{customdata[0]}<extra></extra>",
           "hovertext": [
            "Thailand"
           ],
           "ids": [
            "Thailand"
           ],
           "legendgroup": "Thailand",
           "marker": {
            "color": "#FF97FF",
            "size": [
             4323542535
            ],
            "sizemode": "area",
            "sizeref": 22548523.354444444,
            "symbol": "circle"
           },
           "mode": "markers",
           "name": "Thailand",
           "orientation": "v",
           "showlegend": true,
           "type": "scatter",
           "x": [
            4323542535
           ],
           "xaxis": "x",
           "y": {
            "bdata": "SOF6FK5HEEA=",
            "dtype": "f8"
           },
           "yaxis": "y"
          },
          {
           "customdata": {
            "bdata": "4wc=",
            "dtype": "i2",
            "shape": "1, 1"
           },
           "hovertemplate": "<b>%{hovertext}</b><br><br>Import Value: $%{x:,.0f}<br>Tariff Rate: %{y:.2f}%<br>Year: %{customdata[0]}<extra></extra>",
           "hovertext": [
            "Sweden"
           ],
           "ids": [
            "Sweden"
           ],
           "legendgroup": "Sweden",
           "marker": {
            "color": "#FECB52",
            "size": {
             "bdata": "GtjGeQ==",
             "dtype": "i4"
            },
            "sizemode": "area",
            "sizeref": 22548523.354444444,
            "symbol": "circle"
           },
           "mode": "markers",
           "name": "Sweden",
           "orientation": "v",
           "showlegend": true,
           "type": "scatter",
           "x": {
            "bdata": "GtjGeQ==",
            "dtype": "i4"
           },
           "xaxis": "x",
           "y": {
            "bdata": "AAAAAAAACkA=",
            "dtype": "f8"
           },
           "yaxis": "y"
          },
          {
           "customdata": {
            "bdata": "4wc=",
            "dtype": "i2",
            "shape": "1, 1"
           },
           "hovertemplate": "<b>%{hovertext}</b><br><br>Import Value: $%{x:,.0f}<br>Tariff Rate: %{y:.2f}%<br>Year: %{customdata[0]}<extra></extra>",
           "hovertext": [
            "Taiwan"
           ],
           "ids": [
            "Taiwan"
           ],
           "legendgroup": "Taiwan",
           "marker": {
            "color": "#636efa",
            "size": [
             3401556773
            ],
            "sizemode": "area",
            "sizeref": 22548523.354444444,
            "symbol": "circle"
           },
           "mode": "markers",
           "name": "Taiwan",
           "orientation": "v",
           "showlegend": true,
           "type": "scatter",
           "x": [
            3401556773
           ],
           "xaxis": "x",
           "y": {
            "bdata": "XHz3tLCUD0A=",
            "dtype": "f8"
           },
           "yaxis": "y"
          },
          {
           "customdata": {
            "bdata": "4wc=",
            "dtype": "i2",
            "shape": "1, 1"
           },
           "hovertemplate": "<b>%{hovertext}</b><br><br>Import Value: $%{x:,.0f}<br>Tariff Rate: %{y:.2f}%<br>Year: %{customdata[0]}<extra></extra>",
           "hovertext": [
            "Italy"
           ],
           "ids": [
            "Italy"
           ],
           "legendgroup": "Italy",
           "marker": {
            "color": "#EF553B",
            "size": [
             3345794443
            ],
            "sizemode": "area",
            "sizeref": 22548523.354444444,
            "symbol": "circle"
           },
           "mode": "markers",
           "name": "Italy",
           "orientation": "v",
           "showlegend": true,
           "type": "scatter",
           "x": [
            3345794443
           ],
           "xaxis": "x",
           "y": {
            "bdata": "j8L1KFyPDkA=",
            "dtype": "f8"
           },
           "yaxis": "y"
          },
          {
           "customdata": {
            "bdata": "4wc=",
            "dtype": "i2",
            "shape": "1, 1"
           },
           "hovertemplate": "<b>%{hovertext}</b><br><br>Import Value: $%{x:,.0f}<br>Tariff Rate: %{y:.2f}%<br>Year: %{customdata[0]}<extra></extra>",
           "hovertext": [
            "India"
           ],
           "ids": [
            "India"
           ],
           "legendgroup": "India",
           "marker": {
            "color": "#ab63fa",
            "size": {
             "bdata": "WxZjdQ==",
             "dtype": "i4"
            },
            "sizemode": "area",
            "sizeref": 22548523.354444444,
            "symbol": "circle"
           },
           "mode": "markers",
           "name": "India",
           "orientation": "v",
           "showlegend": true,
           "type": "scatter",
           "x": {
            "bdata": "WxZjdQ==",
            "dtype": "i4"
           },
           "xaxis": "x",
           "y": {
            "bdata": "uB6F61G4DkA=",
            "dtype": "f8"
           },
           "yaxis": "y"
          }
         ],
         "name": "2019"
        },
        {
         "data": [
          {
           "customdata": {
            "bdata": "4gfiB+IH",
            "dtype": "i2",
            "shape": "3, 1"
           },
           "hovertemplate": "<b>%{hovertext}</b><br><br>Import Value: $%{x:,.0f}<br>Tariff Rate: %{y:.2f}%<br>Year: %{customdata[0]}<extra></extra>",
           "hovertext": [
            "Mexico",
            "Mexico",
            "Mexico"
           ],
           "ids": [
            "Mexico",
            "Mexico",
            "Mexico"
           ],
           "legendgroup": "Mexico",
           "marker": {
            "color": "#636efa",
            "size": [
             58754883804,
             52627752862,
             12130263340
            ],
            "sizemode": "area",
            "sizeref": 22548523.354444444,
            "symbol": "circle"
           },
           "mode": "markers",
           "name": "Mexico",
           "orientation": "v",
           "showlegend": true,
           "type": "scatter",
           "x": [
            58754883804,
            52627752862,
            12130263340
           ],
           "xaxis": "x",
           "y": {
            "bdata": "KVyPwvUoEkApXI/C9SgSQClcj8L1KBJA",
            "dtype": "f8"
           },
           "yaxis": "y"
          },
          {
           "customdata": {
            "bdata": "4gfiBw==",
            "dtype": "i2",
            "shape": "2, 1"
           },
           "hovertemplate": "<b>%{hovertext}</b><br><br>Import Value: $%{x:,.0f}<br>Tariff Rate: %{y:.2f}%<br>Year: %{customdata[0]}<extra></extra>",
           "hovertext": [
            "Japan",
            "Japan"
           ],
           "ids": [
            "Japan",
            "Japan"
           ],
           "legendgroup": "Japan",
           "marker": {
            "color": "#EF553B",
            "size": [
             40288044223,
             16091542006
            ],
            "sizemode": "area",
            "sizeref": 22548523.354444444,
            "symbol": "circle"
           },
           "mode": "markers",
           "name": "Japan",
           "orientation": "v",
           "showlegend": true,
           "type": "scatter",
           "x": [
            40288044223,
            16091542006
           ],
           "xaxis": "x",
           "y": {
            "bdata": "4XoUrkfhEUDhehSuR+ERQA==",
            "dtype": "f8"
           },
           "yaxis": "y"
          },
          {
           "customdata": {
            "bdata": "4gfiBw==",
            "dtype": "i2",
            "shape": "2, 1"
           },
           "hovertemplate": "<b>%{hovertext}</b><br><br>Import Value: $%{x:,.0f}<br>Tariff Rate: %{y:.2f}%<br>Year: %{customdata[0]}<extra></extra>",
           "hovertext": [
            "South Korea",
            "South Korea"
           ],
           "ids": [
            "South Korea",
            "South Korea"
           ],
           "legendgroup": "South Korea",
           "marker": {
            "color": "#00cc96",
            "size": [
             13822767271,
             8849858101
            ],
            "sizemode": "area",
            "sizeref": 22548523.354444444,
            "symbol": "circle"
           },
           "mode": "markers",
           "name": "South Korea",
           "orientation": "v",
           "showlegend": true,
           "type": "scatter",
           "x": [
            13822767271,
            8849858101
           ],
           "xaxis": "x",
           "y": {
            "bdata": "exSuR+F6EkB7FK5H4XoSQA==",
            "dtype": "f8"
           },
           "yaxis": "y"
          },
          {
           "customdata": {
            "bdata": "4gfiB+IH",
            "dtype": "i2",
            "shape": "3, 1"
           },
           "hovertemplate": "<b>%{hovertext}</b><br><br>Import Value: $%{x:,.0f}<br>Tariff Rate: %{y:.2f}%<br>Year: %{customdata[0]}<extra></extra>",
           "hovertext": [
            "Canada",
            "Canada",
            "Canada"
           ],
           "ids": [
            "Canada",
            "Canada",
            "Canada"
           ],
           "legendgroup": "Canada",
           "marker": {
            "color": "#ab63fa",
            "size": [
             38440314044,
             17198978697,
             2811898830
            ],
            "sizemode": "area",
            "sizeref": 22548523.354444444,
            "symbol": "circle"
           },
           "mode": "markers",
           "name": "Canada",
           "orientation": "v",
           "showlegend": true,
           "type": "scatter",
           "x": [
            38440314044,
            17198978697,
            2811898830
           ],
           "xaxis": "x",
           "y": {
            "bdata": "XI/C9ShcEEBcj8L1KFwQQFyPwvUoXBBA",
            "dtype": "f8"
           },
           "yaxis": "y"
          },
          {
           "customdata": {
            "bdata": "4gfiBw==",
            "dtype": "i2",
            "shape": "2, 1"
           },
           "hovertemplate": "<b>%{hovertext}</b><br><br>Import Value: $%{x:,.0f}<br>Tariff Rate: %{y:.2f}%<br>Year: %{customdata[0]}<extra></extra>",
           "hovertext": [
            "Germany",
            "Germany"
           ],
           "ids": [
            "Germany",
            "Germany"
           ],
           "legendgroup": "Germany",
           "marker": {
            "color": "#FFA15A",
            "size": [
             18129534818,
             9600802614
            ],
            "sizemode": "area",
            "sizeref": 22548523.354444444,
            "symbol": "circle"
           },
           "mode": "markers",
           "name": "Germany",
           "orientation": "v",
           "showlegend": true,
           "type": "scatter",
           "x": [
            18129534818,
            9600802614
           ],
           "xaxis": "x",
           "y": {
            "bdata": "j8L1KFyPEUCPwvUoXI8RQA==",
            "dtype": "f8"
           },
           "yaxis": "y"
          },
          {
           "customdata": {
            "bdata": "4gfiBw==",
            "dtype": "i2",
            "shape": "2, 1"
           },
           "hovertemplate": "<b>%{hovertext}</b><br><br>Import Value: $%{x:,.0f}<br>Tariff Rate: %{y:.2f}%<br>Year: %{customdata[0]}<extra></extra>",
           "hovertext": [
            "China",
            "China"
           ],
           "ids": [
            "China",
            "China"
           ],
           "legendgroup": "China",
           "marker": {
            "color": "#19d3f3",
            "size": [
             20090586473,
             1716348389
            ],
            "sizemode": "area",
            "sizeref": 22548523.354444444,
            "symbol": "circle"
           },
           "mode": "markers",
           "name": "China",
           "orientation": "v",
           "showlegend": true,
           "type": "scatter",
           "x": [
            20090586473,
            1716348389
           ],
           "xaxis": "x",
           "y": {
            "bdata": "7FG4HoXrEEDsUbgehesQQA==",
            "dtype": "f8"
           },
           "yaxis": "y"
          },
          {
           "customdata": {
            "bdata": "4gc=",
            "dtype": "i2",
            "shape": "1, 1"
           },
           "hovertemplate": "<b>%{hovertext}</b><br><br>Import Value: $%{x:,.0f}<br>Tariff Rate: %{y:.2f}%<br>Year: %{customdata[0]}<extra></extra>",
           "hovertext": [
            "United Kingdom"
           ],
           "ids": [
            "United Kingdom"
           ],
           "legendgroup": "United Kingdom",
           "marker": {
            "color": "#FF6692",
            "size": [
             9527332126
            ],
            "sizemode": "area",
            "sizeref": 22548523.354444444,
            "symbol": "circle"
           },
           "mode": "markers",
           "name": "United Kingdom",
           "orientation": "v",
           "showlegend": true,
           "type": "scatter",
           "x": [
            9527332126
           ],
           "xaxis": "x",
           "y": {
            "bdata": "zczMzMzMEUA=",
            "dtype": "f8"
           },
           "yaxis": "y"
          },
          {
           "customdata": {
            "bdata": "4gc=",
            "dtype": "i2",
            "shape": "1, 1"
           },
           "hovertemplate": "<b>%{hovertext}</b><br><br>Import Value: $%{x:,.0f}<br>Tariff Rate: %{y:.2f}%<br>Year: %{customdata[0]}<extra></extra>",
           "hovertext": [
            "Slovakia"
           ],
           "ids": [
            "Slovakia"
           ],
           "legendgroup": "Slovakia",
           "marker": {
            "color": "#B6E880",
            "size": [
             2958499428
            ],
            "sizemode": "area",
            "sizeref": 22548523.354444444,
            "symbol": "circle"
           },
           "mode": "markers",
           "name": "Slovakia",
           "orientation": "v",
           "showlegend": true,
           "type": "scatter",
           "x": [
            2958499428
           ],
           "xaxis": "x",
           "y": {
            "bdata": "KVyPwvUoDEA=",
            "dtype": "f8"
           },
           "yaxis": "y"
          },
          {
           "customdata": {
            "bdata": "4gc=",
            "dtype": "i2",
            "shape": "1, 1"
           },
           "hovertemplate": "<b>%{hovertext}</b><br><br>Import Value: $%{x:,.0f}<br>Tariff Rate: %{y:.2f}%<br>Year: %{customdata[0]}<extra></extra>",
           "hovertext": [
            "Thailand"
           ],
           "ids": [
            "Thailand"
           ],
           "legendgroup": "Thailand",
           "marker": {
            "color": "#FF97FF",
            "size": [
             3495731216
            ],
            "sizemode": "area",
            "sizeref": 22548523.354444444,
            "symbol": "circle"
           },
           "mode": "markers",
           "name": "Thailand",
           "orientation": "v",
           "showlegend": true,
           "type": "scatter",
           "x": [
            3495731216
           ],
           "xaxis": "x",
           "y": {
            "bdata": "PQrXo3A9EEA=",
            "dtype": "f8"
           },
           "yaxis": "y"
          },
          {
           "customdata": {
            "bdata": "4gc=",
            "dtype": "i2",
            "shape": "1, 1"
           },
           "hovertemplate": "<b>%{hovertext}</b><br><br>Import Value: $%{x:,.0f}<br>Tariff Rate: %{y:.2f}%<br>Year: %{customdata[0]}<extra></extra>",
           "hovertext": [
            "Taiwan"
           ],
           "ids": [
            "Taiwan"
           ],
           "legendgroup": "Taiwan",
           "marker": {
            "color": "#636efa",
            "size": [
             3232923730
            ],
            "sizemode": "area",
            "sizeref": 22548523.354444444,
            "symbol": "circle"
           },
           "mode": "markers",
           "name": "Taiwan",
           "orientation": "v",
           "showlegend": true,
           "type": "scatter",
           "x": [
            3232923730
           ],
           "xaxis": "x",
           "y": {
            "bdata": "XHz3tLCUD0A=",
            "dtype": "f8"
           },
           "yaxis": "y"
          },
          {
           "customdata": {
            "bdata": "4gc=",
            "dtype": "i2",
            "shape": "1, 1"
           },
           "hovertemplate": "<b>%{hovertext}</b><br><br>Import Value: $%{x:,.0f}<br>Tariff Rate: %{y:.2f}%<br>Year: %{customdata[0]}<extra></extra>",
           "hovertext": [
            "Italy"
           ],
           "ids": [
            "Italy"
           ],
           "legendgroup": "Italy",
           "marker": {
            "color": "#EF553B",
            "size": [
             4447460207
            ],
            "sizemode": "area",
            "sizeref": 22548523.354444444,
            "symbol": "circle"
           },
           "mode": "markers",
           "name": "Italy",
           "orientation": "v",
           "showlegend": true,
           "type": "scatter",
           "x": [
            4447460207
           ],
           "xaxis": "x",
           "y": {
            "bdata": "MzMzMzMzD0A=",
            "dtype": "f8"
           },
           "yaxis": "y"
          },
          {
           "customdata": {
            "bdata": "4gc=",
            "dtype": "i2",
            "shape": "1, 1"
           },
           "hovertemplate": "<b>%{hovertext}</b><br><br>Import Value: $%{x:,.0f}<br>Tariff Rate: %{y:.2f}%<br>Year: %{customdata[0]}<extra></extra>",
           "hovertext": [
            "India"
           ],
           "ids": [
            "India"
           ],
           "legendgroup": "India",
           "marker": {
            "color": "#ab63fa",
            "size": {
             "bdata": "6Zf1ag==",
             "dtype": "i4"
            },
            "sizemode": "area",
            "sizeref": 22548523.354444444,
            "symbol": "circle"
           },
           "mode": "markers",
           "name": "India",
           "orientation": "v",
           "showlegend": true,
           "type": "scatter",
           "x": {
            "bdata": "6Zf1ag==",
            "dtype": "i4"
           },
           "xaxis": "x",
           "y": {
            "bdata": "16NwPQrXEkA=",
            "dtype": "f8"
           },
           "yaxis": "y"
          }
         ],
         "name": "2018"
        },
        {
         "data": [
          {
           "customdata": {
            "bdata": "4QfhB+EH",
            "dtype": "i2",
            "shape": "3, 1"
           },
           "hovertemplate": "<b>%{hovertext}</b><br><br>Import Value: $%{x:,.0f}<br>Tariff Rate: %{y:.2f}%<br>Year: %{customdata[0]}<extra></extra>",
           "hovertext": [
            "Mexico",
            "Mexico",
            "Mexico"
           ],
           "ids": [
            "Mexico",
            "Mexico",
            "Mexico"
           ],
           "legendgroup": "Mexico",
           "marker": {
            "color": "#636efa",
            "size": [
             54875399564,
             46948659226,
             10785705176
            ],
            "sizemode": "area",
            "sizeref": 22548523.354444444,
            "symbol": "circle"
           },
           "mode": "markers",
           "name": "Mexico",
           "orientation": "v",
           "showlegend": true,
           "type": "scatter",
           "x": [
            54875399564,
            46948659226,
            10785705176
           ],
           "xaxis": "x",
           "y": {
            "bdata": "cT0K16NwEUBxPQrXo3ARQHE9CtejcBFA",
            "dtype": "f8"
           },
           "yaxis": "y"
          },
          {
           "customdata": {
            "bdata": "4QfhBw==",
            "dtype": "i2",
            "shape": "2, 1"
           },
           "hovertemplate": "<b>%{hovertext}</b><br><br>Import Value: $%{x:,.0f}<br>Tariff Rate: %{y:.2f}%<br>Year: %{customdata[0]}<extra></extra>",
           "hovertext": [
            "Japan",
            "Japan"
           ],
           "ids": [
            "Japan",
            "Japan"
           ],
           "legendgroup": "Japan",
           "marker": {
            "color": "#EF553B",
            "size": [
             39789881012,
             16263593388
            ],
            "sizemode": "area",
            "sizeref": 22548523.354444444,
            "symbol": "circle"
           },
           "mode": "markers",
           "name": "Japan",
           "orientation": "v",
           "showlegend": true,
           "type": "scatter",
           "x": [
            39789881012,
            16263593388
           ],
           "xaxis": "x",
           "y": {
            "bdata": "AAAAAAAAEUAAAAAAAAARQA==",
            "dtype": "f8"
           },
           "yaxis": "y"
          },
          {
           "customdata": {
            "bdata": "4QfhBw==",
            "dtype": "i2",
            "shape": "2, 1"
           },
           "hovertemplate": "<b>%{hovertext}</b><br><br>Import Value: $%{x:,.0f}<br>Tariff Rate: %{y:.2f}%<br>Year: %{customdata[0]}<extra></extra>",
           "hovertext": [
            "South Korea",
            "South Korea"
           ],
           "ids": [
            "South Korea",
            "South Korea"
           ],
           "legendgroup": "South Korea",
           "marker": {
            "color": "#00cc96",
            "size": [
             15731937656,
             8277533229
            ],
            "sizemode": "area",
            "sizeref": 22548523.354444444,
            "symbol": "circle"
           },
           "mode": "markers",
           "name": "South Korea",
           "orientation": "v",
           "showlegend": true,
           "type": "scatter",
           "x": [
            15731937656,
            8277533229
           ],
           "xaxis": "x",
           "y": {
            "bdata": "hetRuB6FEUCF61G4HoURQA==",
            "dtype": "f8"
           },
           "yaxis": "y"
          },
          {
           "customdata": {
            "bdata": "4QfhB+EH",
            "dtype": "i2",
            "shape": "3, 1"
           },
           "hovertemplate": "<b>%{hovertext}</b><br><br>Import Value: $%{x:,.0f}<br>Tariff Rate: %{y:.2f}%<br>Year: %{customdata[0]}<extra></extra>",
           "hovertext": [
            "Canada",
            "Canada",
            "Canada"
           ],
           "ids": [
            "Canada",
            "Canada",
            "Canada"
           ],
           "legendgroup": "Canada",
           "marker": {
            "color": "#ab63fa",
            "size": [
             42515580112,
             16088967821,
             2528602377
            ],
            "sizemode": "area",
            "sizeref": 22548523.354444444,
            "symbol": "circle"
           },
           "mode": "markers",
           "name": "Canada",
           "orientation": "v",
           "showlegend": true,
           "type": "scatter",
           "x": [
            42515580112,
            16088967821,
            2528602377
           ],
           "xaxis": "x",
           "y": {
            "bdata": "MzMzMzMzD0AzMzMzMzMPQDMzMzMzMw9A",
            "dtype": "f8"
           },
           "yaxis": "y"
          },
          {
           "customdata": {
            "bdata": "4QfhBw==",
            "dtype": "i2",
            "shape": "2, 1"
           },
           "hovertemplate": "<b>%{hovertext}</b><br><br>Import Value: $%{x:,.0f}<br>Tariff Rate: %{y:.2f}%<br>Year: %{customdata[0]}<extra></extra>",
           "hovertext": [
            "Germany",
            "Germany"
           ],
           "ids": [
            "Germany",
            "Germany"
           ],
           "legendgroup": "Germany",
           "marker": {
            "color": "#FFA15A",
            "size": [
             20170493140,
             9864882597
            ],
            "sizemode": "area",
            "sizeref": 22548523.354444444,
            "symbol": "circle"
           },
           "mode": "markers",
           "name": "Germany",
           "orientation": "v",
           "showlegend": true,
           "type": "scatter",
           "x": [
            20170493140,
            9864882597
           ],
           "xaxis": "x",
           "y": {
            "bdata": "cT0K16NwEEBxPQrXo3AQQA==",
            "dtype": "f8"
           },
           "yaxis": "y"
          },
          {
           "customdata": {
            "bdata": "4Qc=",
            "dtype": "i2",
            "shape": "1, 1"
           },
           "hovertemplate": "<b>%{hovertext}</b><br><br>Import Value: $%{x:,.0f}<br>Tariff Rate: %{y:.2f}%<br>Year: %{customdata[0]}<extra></extra>",
           "hovertext": [
            "China"
           ],
           "ids": [
            "China"
           ],
           "legendgroup": "China",
           "marker": {
            "color": "#19d3f3",
            "size": [
             17595619105
            ],
            "sizemode": "area",
            "sizeref": 22548523.354444444,
            "symbol": "circle"
           },
           "mode": "markers",
           "name": "China",
           "orientation": "v",
           "showlegend": true,
           "type": "scatter",
           "x": [
            17595619105
           ],
           "xaxis": "x",
           "y": {
            "bdata": "SOF6FK5HEEA=",
            "dtype": "f8"
           },
           "yaxis": "y"
          },
          {
           "customdata": {
            "bdata": "4Qc=",
            "dtype": "i2",
            "shape": "1, 1"
           },
           "hovertemplate": "<b>%{hovertext}</b><br><br>Import Value: $%{x:,.0f}<br>Tariff Rate: %{y:.2f}%<br>Year: %{customdata[0]}<extra></extra>",
           "hovertext": [
            "United Kingdom"
           ],
           "ids": [
            "United Kingdom"
           ],
           "legendgroup": "United Kingdom",
           "marker": {
            "color": "#FF6692",
            "size": [
             8582116668
            ],
            "sizemode": "area",
            "sizeref": 22548523.354444444,
            "symbol": "circle"
           },
           "mode": "markers",
           "name": "United Kingdom",
           "orientation": "v",
           "showlegend": true,
           "type": "scatter",
           "x": [
            8582116668
           ],
           "xaxis": "x",
           "y": {
            "bdata": "cT0K16NwEEA=",
            "dtype": "f8"
           },
           "yaxis": "y"
          },
          {
           "customdata": {
            "bdata": "4Qc=",
            "dtype": "i2",
            "shape": "1, 1"
           },
           "hovertemplate": "<b>%{hovertext}</b><br><br>Import Value: $%{x:,.0f}<br>Tariff Rate: %{y:.2f}%<br>Year: %{customdata[0]}<extra></extra>",
           "hovertext": [
            "Slovakia"
           ],
           "ids": [
            "Slovakia"
           ],
           "legendgroup": "Slovakia",
           "marker": {
            "color": "#B6E880",
            "size": {
             "bdata": "fhX+dg==",
             "dtype": "i4"
            },
            "sizemode": "area",
            "sizeref": 22548523.354444444,
            "symbol": "circle"
           },
           "mode": "markers",
           "name": "Slovakia",
           "orientation": "v",
           "showlegend": true,
           "type": "scatter",
           "x": {
            "bdata": "fhX+dg==",
            "dtype": "i4"
           },
           "xaxis": "x",
           "y": {
            "bdata": "CtejcD0KC0A=",
            "dtype": "f8"
           },
           "yaxis": "y"
          },
          {
           "customdata": {
            "bdata": "4Qc=",
            "dtype": "i2",
            "shape": "1, 1"
           },
           "hovertemplate": "<b>%{hovertext}</b><br><br>Import Value: $%{x:,.0f}<br>Tariff Rate: %{y:.2f}%<br>Year: %{customdata[0]}<extra></extra>",
           "hovertext": [
            "Thailand"
           ],
           "ids": [
            "Thailand"
           ],
           "legendgroup": "Thailand",
           "marker": {
            "color": "#FF97FF",
            "size": [
             3188483865
            ],
            "sizemode": "area",
            "sizeref": 22548523.354444444,
            "symbol": "circle"
           },
           "mode": "markers",
           "name": "Thailand",
           "orientation": "v",
           "showlegend": true,
           "type": "scatter",
           "x": [
            3188483865
           ],
           "xaxis": "x",
           "y": {
            "bdata": "w/UoXI/CFEA=",
            "dtype": "f8"
           },
           "yaxis": "y"
          },
          {
           "customdata": {
            "bdata": "4Qc=",
            "dtype": "i2",
            "shape": "1, 1"
           },
           "hovertemplate": "<b>%{hovertext}</b><br><br>Import Value: $%{x:,.0f}<br>Tariff Rate: %{y:.2f}%<br>Year: %{customdata[0]}<extra></extra>",
           "hovertext": [
            "Sweden"
           ],
           "ids": [
            "Sweden"
           ],
           "legendgroup": "Sweden",
           "marker": {
            "color": "#FECB52",
            "size": {
             "bdata": "w6ugeA==",
             "dtype": "i4"
            },
            "sizemode": "area",
            "sizeref": 22548523.354444444,
            "symbol": "circle"
           },
           "mode": "markers",
           "name": "Sweden",
           "orientation": "v",
           "showlegend": true,
           "type": "scatter",
           "x": {
            "bdata": "w6ugeA==",
            "dtype": "i4"
           },
           "xaxis": "x",
           "y": {
            "bdata": "zczMzMzMBkA=",
            "dtype": "f8"
           },
           "yaxis": "y"
          },
          {
           "customdata": {
            "bdata": "4Qc=",
            "dtype": "i2",
            "shape": "1, 1"
           },
           "hovertemplate": "<b>%{hovertext}</b><br><br>Import Value: $%{x:,.0f}<br>Tariff Rate: %{y:.2f}%<br>Year: %{customdata[0]}<extra></extra>",
           "hovertext": [
            "Taiwan"
           ],
           "ids": [
            "Taiwan"
           ],
           "legendgroup": "Taiwan",
           "marker": {
            "color": "#636efa",
            "size": [
             3159774612
            ],
            "sizemode": "area",
            "sizeref": 22548523.354444444,
            "symbol": "circle"
           },
           "mode": "markers",
           "name": "Taiwan",
           "orientation": "v",
           "showlegend": true,
           "type": "scatter",
           "x": [
            3159774612
           ],
           "xaxis": "x",
           "y": {
            "bdata": "XHz3tLCUD0A=",
            "dtype": "f8"
           },
           "yaxis": "y"
          },
          {
           "customdata": {
            "bdata": "4Qc=",
            "dtype": "i2",
            "shape": "1, 1"
           },
           "hovertemplate": "<b>%{hovertext}</b><br><br>Import Value: $%{x:,.0f}<br>Tariff Rate: %{y:.2f}%<br>Year: %{customdata[0]}<extra></extra>",
           "hovertext": [
            "Italy"
           ],
           "ids": [
            "Italy"
           ],
           "legendgroup": "Italy",
           "marker": {
            "color": "#EF553B",
            "size": [
             4770253186
            ],
            "sizemode": "area",
            "sizeref": 22548523.354444444,
            "symbol": "circle"
           },
           "mode": "markers",
           "name": "Italy",
           "orientation": "v",
           "showlegend": true,
           "type": "scatter",
           "x": [
            4770253186
           ],
           "xaxis": "x",
           "y": {
            "bdata": "hetRuB6FEUA=",
            "dtype": "f8"
           },
           "yaxis": "y"
          },
          {
           "customdata": {
            "bdata": "4Qc=",
            "dtype": "i2",
            "shape": "1, 1"
           },
           "hovertemplate": "<b>%{hovertext}</b><br><br>Import Value: $%{x:,.0f}<br>Tariff Rate: %{y:.2f}%<br>Year: %{customdata[0]}<extra></extra>",
           "hovertext": [
            "India"
           ],
           "ids": [
            "India"
           ],
           "legendgroup": "India",
           "marker": {
            "color": "#ab63fa",
            "size": {
             "bdata": "rUc+Vw==",
             "dtype": "i4"
            },
            "sizemode": "area",
            "sizeref": 22548523.354444444,
            "symbol": "circle"
           },
           "mode": "markers",
           "name": "India",
           "orientation": "v",
           "showlegend": true,
           "type": "scatter",
           "x": {
            "bdata": "rUc+Vw==",
            "dtype": "i4"
           },
           "xaxis": "x",
           "y": {
            "bdata": "CtejcD0KEkA=",
            "dtype": "f8"
           },
           "yaxis": "y"
          }
         ],
         "name": "2017"
        },
        {
         "data": [
          {
           "customdata": {
            "bdata": "4AfgB+AH",
            "dtype": "i2",
            "shape": "3, 1"
           },
           "hovertemplate": "<b>%{hovertext}</b><br><br>Import Value: $%{x:,.0f}<br>Tariff Rate: %{y:.2f}%<br>Year: %{customdata[0]}<extra></extra>",
           "hovertext": [
            "Mexico",
            "Mexico",
            "Mexico"
           ],
           "ids": [
            "Mexico",
            "Mexico",
            "Mexico"
           ],
           "legendgroup": "Mexico",
           "marker": {
            "color": "#636efa",
            "size": [
             55060069069,
             40823169021,
             8960154469
            ],
            "sizemode": "area",
            "sizeref": 22548523.354444444,
            "symbol": "circle"
           },
           "mode": "markers",
           "name": "Mexico",
           "orientation": "v",
           "showlegend": true,
           "type": "scatter",
           "x": [
            55060069069,
            40823169021,
            8960154469
           ],
           "xaxis": "x",
           "y": {
            "bdata": "mpmZmZmZDUCamZmZmZkNQJqZmZmZmQ1A",
            "dtype": "f8"
           },
           "yaxis": "y"
          },
          {
           "customdata": {
            "bdata": "4AfgBw==",
            "dtype": "i2",
            "shape": "2, 1"
           },
           "hovertemplate": "<b>%{hovertext}</b><br><br>Import Value: $%{x:,.0f}<br>Tariff Rate: %{y:.2f}%<br>Year: %{customdata[0]}<extra></extra>",
           "hovertext": [
            "Japan",
            "Japan"
           ],
           "ids": [
            "Japan",
            "Japan"
           ],
           "legendgroup": "Japan",
           "marker": {
            "color": "#EF553B",
            "size": [
             39176825564,
             15066724847
            ],
            "sizemode": "area",
            "sizeref": 22548523.354444444,
            "symbol": "circle"
           },
           "mode": "markers",
           "name": "Japan",
           "orientation": "v",
           "showlegend": true,
           "type": "scatter",
           "x": [
            39176825564,
            15066724847
           ],
           "xaxis": "x",
           "y": {
            "bdata": "SOF6FK5HDUBI4XoUrkcNQA==",
            "dtype": "f8"
           },
           "yaxis": "y"
          },
          {
           "customdata": {
            "bdata": "4AfgBw==",
            "dtype": "i2",
            "shape": "2, 1"
           },
           "hovertemplate": "<b>%{hovertext}</b><br><br>Import Value: $%{x:,.0f}<br>Tariff Rate: %{y:.2f}%<br>Year: %{customdata[0]}<extra></extra>",
           "hovertext": [
            "South Korea",
            "South Korea"
           ],
           "ids": [
            "South Korea",
            "South Korea"
           ],
           "legendgroup": "South Korea",
           "marker": {
            "color": "#00cc96",
            "size": [
             16068131383,
             9243791142
            ],
            "sizemode": "area",
            "sizeref": 22548523.354444444,
            "symbol": "circle"
           },
           "mode": "markers",
           "name": "South Korea",
           "orientation": "v",
           "showlegend": true,
           "type": "scatter",
           "x": [
            16068131383,
            9243791142
           ],
           "xaxis": "x",
           "y": {
            "bdata": "mpmZmZmZDUCamZmZmZkNQA==",
            "dtype": "f8"
           },
           "yaxis": "y"
          },
          {
           "customdata": {
            "bdata": "4AfgB+AH",
            "dtype": "i2",
            "shape": "3, 1"
           },
           "hovertemplate": "<b>%{hovertext}</b><br><br>Import Value: $%{x:,.0f}<br>Tariff Rate: %{y:.2f}%<br>Year: %{customdata[0]}<extra></extra>",
           "hovertext": [
            "Canada",
            "Canada",
            "Canada"
           ],
           "ids": [
            "Canada",
            "Canada",
            "Canada"
           ],
           "legendgroup": "Canada",
           "marker": {
            "color": "#ab63fa",
            "size": [
             44807750244,
             17063179854,
             1981288553
            ],
            "sizemode": "area",
            "sizeref": 22548523.354444444,
            "symbol": "circle"
           },
           "mode": "markers",
           "name": "Canada",
           "orientation": "v",
           "showlegend": true,
           "type": "scatter",
           "x": [
            44807750244,
            17063179854,
            1981288553
           ],
           "xaxis": "x",
           "y": {
            "bdata": "j8L1KFyPCkCPwvUoXI8KQI/C9ShcjwpA",
            "dtype": "f8"
           },
           "yaxis": "y"
          },
          {
           "customdata": {
            "bdata": "4AfgBw==",
            "dtype": "i2",
            "shape": "2, 1"
           },
           "hovertemplate": "<b>%{hovertext}</b><br><br>Import Value: $%{x:,.0f}<br>Tariff Rate: %{y:.2f}%<br>Year: %{customdata[0]}<extra></extra>",
           "hovertext": [
            "Germany",
            "Germany"
           ],
           "ids": [
            "Germany",
            "Germany"
           ],
           "legendgroup": "Germany",
           "marker": {
            "color": "#FFA15A",
            "size": [
             21581904388,
             10045185014
            ],
            "sizemode": "area",
            "sizeref": 22548523.354444444,
            "symbol": "circle"
           },
           "mode": "markers",
           "name": "Germany",
           "orientation": "v",
           "showlegend": true,
           "type": "scatter",
           "x": [
            21581904388,
            10045185014
           ],
           "xaxis": "x",
           "y": {
            "bdata": "PQrXo3A9DEA9CtejcD0MQA==",
            "dtype": "f8"
           },
           "yaxis": "y"
          },
          {
           "customdata": {
            "bdata": "4Ac=",
            "dtype": "i2",
            "shape": "1, 1"
           },
           "hovertemplate": "<b>%{hovertext}</b><br><br>Import Value: $%{x:,.0f}<br>Tariff Rate: %{y:.2f}%<br>Year: %{customdata[0]}<extra></extra>",
           "hovertext": [
            "China"
           ],
           "ids": [
            "China"
           ],
           "legendgroup": "China",
           "marker": {
            "color": "#19d3f3",
            "size": [
             17380229562
            ],
            "sizemode": "area",
            "sizeref": 22548523.354444444,
            "symbol": "circle"
           },
           "mode": "markers",
           "name": "China",
           "orientation": "v",
           "showlegend": true,
           "type": "scatter",
           "x": [
            17380229562
           ],
           "xaxis": "x",
           "y": {
            "bdata": "zczMzMzMDEA=",
            "dtype": "f8"
           },
           "yaxis": "y"
          },
          {
           "customdata": {
            "bdata": "4Ac=",
            "dtype": "i2",
            "shape": "1, 1"
           },
           "hovertemplate": "<b>%{hovertext}</b><br><br>Import Value: $%{x:,.0f}<br>Tariff Rate: %{y:.2f}%<br>Year: %{customdata[0]}<extra></extra>",
           "hovertext": [
            "United Kingdom"
           ],
           "ids": [
            "United Kingdom"
           ],
           "legendgroup": "United Kingdom",
           "marker": {
            "color": "#FF6692",
            "size": [
             8638752105
            ],
            "sizemode": "area",
            "sizeref": 22548523.354444444,
            "symbol": "circle"
           },
           "mode": "markers",
           "name": "United Kingdom",
           "orientation": "v",
           "showlegend": true,
           "type": "scatter",
           "x": [
            8638752105
           ],
           "xaxis": "x",
           "y": {
            "bdata": "zczMzMzMDEA=",
            "dtype": "f8"
           },
           "yaxis": "y"
          },
          {
           "customdata": {
            "bdata": "4Ac=",
            "dtype": "i2",
            "shape": "1, 1"
           },
           "hovertemplate": "<b>%{hovertext}</b><br><br>Import Value: $%{x:,.0f}<br>Tariff Rate: %{y:.2f}%<br>Year: %{customdata[0]}<extra></extra>",
           "hovertext": [
            "Slovakia"
           ],
           "ids": [
            "Slovakia"
           ],
           "legendgroup": "Slovakia",
           "marker": {
            "color": "#B6E880",
            "size": {
             "bdata": "rEASXQ==",
             "dtype": "i4"
            },
            "sizemode": "area",
            "sizeref": 22548523.354444444,
            "symbol": "circle"
           },
           "mode": "markers",
           "name": "Slovakia",
           "orientation": "v",
           "showlegend": true,
           "type": "scatter",
           "x": {
            "bdata": "rEASXQ==",
            "dtype": "i4"
           },
           "xaxis": "x",
           "y": {
            "bdata": "exSuR+F6DkA=",
            "dtype": "f8"
           },
           "yaxis": "y"
          },
          {
           "customdata": {
            "bdata": "4Ac=",
            "dtype": "i2",
            "shape": "1, 1"
           },
           "hovertemplate": "<b>%{hovertext}</b><br><br>Import Value: $%{x:,.0f}<br>Tariff Rate: %{y:.2f}%<br>Year: %{customdata[0]}<extra></extra>",
           "hovertext": [
            "Thailand"
           ],
           "ids": [
            "Thailand"
           ],
           "legendgroup": "Thailand",
           "marker": {
            "color": "#FF97FF",
            "size": [
             2993391631
            ],
            "sizemode": "area",
            "sizeref": 22548523.354444444,
            "symbol": "circle"
           },
           "mode": "markers",
           "name": "Thailand",
           "orientation": "v",
           "showlegend": true,
           "type": "scatter",
           "x": [
            2993391631
           ],
           "xaxis": "x",
           "y": {
            "bdata": "cT0K16NwEEA=",
            "dtype": "f8"
           },
           "yaxis": "y"
          },
          {
           "customdata": {
            "bdata": "4Ac=",
            "dtype": "i2",
            "shape": "1, 1"
           },
           "hovertemplate": "<b>%{hovertext}</b><br><br>Import Value: $%{x:,.0f}<br>Tariff Rate: %{y:.2f}%<br>Year: %{customdata[0]}<extra></extra>",
           "hovertext": [
            "Sweden"
           ],
           "ids": [
            "Sweden"
           ],
           "legendgroup": "Sweden",
           "marker": {
            "color": "#FECB52",
            "size": {
             "bdata": "4BAIaQ==",
             "dtype": "i4"
            },
            "sizemode": "area",
            "sizeref": 22548523.354444444,
            "symbol": "circle"
           },
           "mode": "markers",
           "name": "Sweden",
           "orientation": "v",
           "showlegend": true,
           "type": "scatter",
           "x": {
            "bdata": "4BAIaQ==",
            "dtype": "i4"
           },
           "xaxis": "x",
           "y": {
            "bdata": "pHA9CtejCEA=",
            "dtype": "f8"
           },
           "yaxis": "y"
          },
          {
           "customdata": {
            "bdata": "4Ac=",
            "dtype": "i2",
            "shape": "1, 1"
           },
           "hovertemplate": "<b>%{hovertext}</b><br><br>Import Value: $%{x:,.0f}<br>Tariff Rate: %{y:.2f}%<br>Year: %{customdata[0]}<extra></extra>",
           "hovertext": [
            "Taiwan"
           ],
           "ids": [
            "Taiwan"
           ],
           "legendgroup": "Taiwan",
           "marker": {
            "color": "#636efa",
            "size": [
             2956621139
            ],
            "sizemode": "area",
            "sizeref": 22548523.354444444,
            "symbol": "circle"
           },
           "mode": "markers",
           "name": "Taiwan",
           "orientation": "v",
           "showlegend": true,
           "type": "scatter",
           "x": [
            2956621139
           ],
           "xaxis": "x",
           "y": {
            "bdata": "XHz3tLCUD0A=",
            "dtype": "f8"
           },
           "yaxis": "y"
          },
          {
           "customdata": {
            "bdata": "4Ac=",
            "dtype": "i2",
            "shape": "1, 1"
           },
           "hovertemplate": "<b>%{hovertext}</b><br><br>Import Value: $%{x:,.0f}<br>Tariff Rate: %{y:.2f}%<br>Year: %{customdata[0]}<extra></extra>",
           "hovertext": [
            "Italy"
           ],
           "ids": [
            "Italy"
           ],
           "legendgroup": "Italy",
           "marker": {
            "color": "#EF553B",
            "size": [
             3853051945
            ],
            "sizemode": "area",
            "sizeref": 22548523.354444444,
            "symbol": "circle"
           },
           "mode": "markers",
           "name": "Italy",
           "orientation": "v",
           "showlegend": true,
           "type": "scatter",
           "x": [
            3853051945
           ],
           "xaxis": "x",
           "y": {
            "bdata": "H4XrUbgeD0A=",
            "dtype": "f8"
           },
           "yaxis": "y"
          },
          {
           "customdata": {
            "bdata": "4Ac=",
            "dtype": "i2",
            "shape": "1, 1"
           },
           "hovertemplate": "<b>%{hovertext}</b><br><br>Import Value: $%{x:,.0f}<br>Tariff Rate: %{y:.2f}%<br>Year: %{customdata[0]}<extra></extra>",
           "hovertext": [
            "South Africa"
           ],
           "ids": [
            "South Africa"
           ],
           "legendgroup": "South Africa",
           "marker": {
            "color": "#FFA15A",
            "size": {
             "bdata": "f/WxWQ==",
             "dtype": "i4"
            },
            "sizemode": "area",
            "sizeref": 22548523.354444444,
            "symbol": "circle"
           },
           "mode": "markers",
           "name": "South Africa",
           "orientation": "v",
           "showlegend": true,
           "type": "scatter",
           "x": {
            "bdata": "f/WxWQ==",
            "dtype": "i4"
           },
           "xaxis": "x",
           "y": {
            "bdata": "7FG4HoXrCUA=",
            "dtype": "f8"
           },
           "yaxis": "y"
          }
         ],
         "name": "2016"
        },
        {
         "data": [
          {
           "customdata": {
            "bdata": "3wffB98H",
            "dtype": "i2",
            "shape": "3, 1"
           },
           "hovertemplate": "<b>%{hovertext}</b><br><br>Import Value: $%{x:,.0f}<br>Tariff Rate: %{y:.2f}%<br>Year: %{customdata[0]}<extra></extra>",
           "hovertext": [
            "Mexico",
            "Mexico",
            "Mexico"
           ],
           "ids": [
            "Mexico",
            "Mexico",
            "Mexico"
           ],
           "legendgroup": "Mexico",
           "marker": {
            "color": "#636efa",
            "size": [
             53092684136,
             37941553504,
             12558603819
            ],
            "sizemode": "area",
            "sizeref": 22548523.354444444,
            "symbol": "circle"
           },
           "mode": "markers",
           "name": "Mexico",
           "orientation": "v",
           "showlegend": true,
           "type": "scatter",
           "x": [
            53092684136,
            37941553504,
            12558603819
           ],
           "xaxis": "x",
           "y": {
            "bdata": "7FG4HoXrDUDsUbgehesNQOxRuB6F6w1A",
            "dtype": "f8"
           },
           "yaxis": "y"
          },
          {
           "customdata": {
            "bdata": "3wffBw==",
            "dtype": "i2",
            "shape": "2, 1"
           },
           "hovertemplate": "<b>%{hovertext}</b><br><br>Import Value: $%{x:,.0f}<br>Tariff Rate: %{y:.2f}%<br>Year: %{customdata[0]}<extra></extra>",
           "hovertext": [
            "Japan",
            "Japan"
           ],
           "ids": [
            "Japan",
            "Japan"
           ],
           "legendgroup": "Japan",
           "marker": {
            "color": "#EF553B",
            "size": [
             35719455071,
             14856976990
            ],
            "sizemode": "area",
            "sizeref": 22548523.354444444,
            "symbol": "circle"
           },
           "mode": "markers",
           "name": "Japan",
           "orientation": "v",
           "showlegend": true,
           "type": "scatter",
           "x": [
            35719455071,
            14856976990
           ],
           "xaxis": "x",
           "y": {
            "bdata": "mpmZmZmZDUCamZmZmZkNQA==",
            "dtype": "f8"
           },
           "yaxis": "y"
          },
          {
           "customdata": {
            "bdata": "3wffBw==",
            "dtype": "i2",
            "shape": "2, 1"
           },
           "hovertemplate": "<b>%{hovertext}</b><br><br>Import Value: $%{x:,.0f}<br>Tariff Rate: %{y:.2f}%<br>Year: %{customdata[0]}<extra></extra>",
           "hovertext": [
            "South Korea",
            "South Korea"
           ],
           "ids": [
            "South Korea",
            "South Korea"
           ],
           "legendgroup": "South Korea",
           "marker": {
            "color": "#00cc96",
            "size": [
             17276220698,
             9100812768
            ],
            "sizemode": "area",
            "sizeref": 22548523.354444444,
            "symbol": "circle"
           },
           "mode": "markers",
           "name": "South Korea",
           "orientation": "v",
           "showlegend": true,
           "type": "scatter",
           "x": [
            17276220698,
            9100812768
           ],
           "xaxis": "x",
           "y": {
            "bdata": "rkfhehSuDUCuR+F6FK4NQA==",
            "dtype": "f8"
           },
           "yaxis": "y"
          },
          {
           "customdata": {
            "bdata": "3wffB98H",
            "dtype": "i2",
            "shape": "3, 1"
           },
           "hovertemplate": "<b>%{hovertext}</b><br><br>Import Value: $%{x:,.0f}<br>Tariff Rate: %{y:.2f}%<br>Year: %{customdata[0]}<extra></extra>",
           "hovertext": [
            "Canada",
            "Canada",
            "Canada"
           ],
           "ids": [
            "Canada",
            "Canada",
            "Canada"
           ],
           "legendgroup": "Canada",
           "marker": {
            "color": "#ab63fa",
            "size": [
             41935396360,
             17732540454,
             2008123444
            ],
            "sizemode": "area",
            "sizeref": 22548523.354444444,
            "symbol": "circle"
           },
           "mode": "markers",
           "name": "Canada",
           "orientation": "v",
           "showlegend": true,
           "type": "scatter",
           "x": [
            41935396360,
            17732540454,
            2008123444
           ],
           "xaxis": "x",
           "y": {
            "bdata": "9ihcj8L1CkD2KFyPwvUKQPYoXI/C9QpA",
            "dtype": "f8"
           },
           "yaxis": "y"
          },
          {
           "customdata": {
            "bdata": "3wffBw==",
            "dtype": "i2",
            "shape": "2, 1"
           },
           "hovertemplate": "<b>%{hovertext}</b><br><br>Import Value: $%{x:,.0f}<br>Tariff Rate: %{y:.2f}%<br>Year: %{customdata[0]}<extra></extra>",
           "hovertext": [
            "Germany",
            "Germany"
           ],
           "ids": [
            "Germany",
            "Germany"
           ],
           "legendgroup": "Germany",
           "marker": {
            "color": "#FFA15A",
            "size": [
             26065786538,
             11296248615
            ],
            "sizemode": "area",
            "sizeref": 22548523.354444444,
            "symbol": "circle"
           },
           "mode": "markers",
           "name": "Germany",
           "orientation": "v",
           "showlegend": true,
           "type": "scatter",
           "x": [
            26065786538,
            11296248615
           ],
           "xaxis": "x",
           "y": {
            "bdata": "UrgehetRDEBSuB6F61EMQA==",
            "dtype": "f8"
           },
           "yaxis": "y"
          },
          {
           "customdata": {
            "bdata": "3wc=",
            "dtype": "i2",
            "shape": "1, 1"
           },
           "hovertemplate": "<b>%{hovertext}</b><br><br>Import Value: $%{x:,.0f}<br>Tariff Rate: %{y:.2f}%<br>Year: %{customdata[0]}<extra></extra>",
           "hovertext": [
            "China"
           ],
           "ids": [
            "China"
           ],
           "legendgroup": "China",
           "marker": {
            "color": "#19d3f3",
            "size": [
             18766792194
            ],
            "sizemode": "area",
            "sizeref": 22548523.354444444,
            "symbol": "circle"
           },
           "mode": "markers",
           "name": "China",
           "orientation": "v",
           "showlegend": true,
           "type": "scatter",
           "x": [
            18766792194
           ],
           "xaxis": "x",
           "y": {
            "bdata": "zczMzMzMDEA=",
            "dtype": "f8"
           },
           "yaxis": "y"
          },
          {
           "customdata": {
            "bdata": "3wc=",
            "dtype": "i2",
            "shape": "1, 1"
           },
           "hovertemplate": "<b>%{hovertext}</b><br><br>Import Value: $%{x:,.0f}<br>Tariff Rate: %{y:.2f}%<br>Year: %{customdata[0]}<extra></extra>",
           "hovertext": [
            "United Kingdom"
           ],
           "ids": [
            "United Kingdom"
           ],
           "legendgroup": "United Kingdom",
           "marker": {
            "color": "#FF6692",
            "size": [
             6674118529
            ],
            "sizemode": "area",
            "sizeref": 22548523.354444444,
            "symbol": "circle"
           },
           "mode": "markers",
           "name": "United Kingdom",
           "orientation": "v",
           "showlegend": true,
           "type": "scatter",
           "x": [
            6674118529
           ],
           "xaxis": "x",
           "y": {
            "bdata": "pHA9CtejDEA=",
            "dtype": "f8"
           },
           "yaxis": "y"
          },
          {
           "customdata": {
            "bdata": "3wc=",
            "dtype": "i2",
            "shape": "1, 1"
           },
           "hovertemplate": "<b>%{hovertext}</b><br><br>Import Value: $%{x:,.0f}<br>Tariff Rate: %{y:.2f}%<br>Year: %{customdata[0]}<extra></extra>",
           "hovertext": [
            "Thailand"
           ],
           "ids": [
            "Thailand"
           ],
           "legendgroup": "Thailand",
           "marker": {
            "color": "#FF97FF",
            "size": [
             2546040612
            ],
            "sizemode": "area",
            "sizeref": 22548523.354444444,
            "symbol": "circle"
           },
           "mode": "markers",
           "name": "Thailand",
           "orientation": "v",
           "showlegend": true,
           "type": "scatter",
           "x": [
            2546040612
           ],
           "xaxis": "x",
           "y": {
            "bdata": "16NwPQrXEEA=",
            "dtype": "f8"
           },
           "yaxis": "y"
          },
          {
           "customdata": {
            "bdata": "3wc=",
            "dtype": "i2",
            "shape": "1, 1"
           },
           "hovertemplate": "<b>%{hovertext}</b><br><br>Import Value: $%{x:,.0f}<br>Tariff Rate: %{y:.2f}%<br>Year: %{customdata[0]}<extra></extra>",
           "hovertext": [
            "Taiwan"
           ],
           "ids": [
            "Taiwan"
           ],
           "legendgroup": "Taiwan",
           "marker": {
            "color": "#636efa",
            "size": [
             3123297613
            ],
            "sizemode": "area",
            "sizeref": 22548523.354444444,
            "symbol": "circle"
           },
           "mode": "markers",
           "name": "Taiwan",
           "orientation": "v",
           "showlegend": true,
           "type": "scatter",
           "x": [
            3123297613
           ],
           "xaxis": "x",
           "y": {
            "bdata": "XHz3tLCUD0A=",
            "dtype": "f8"
           },
           "yaxis": "y"
          },
          {
           "customdata": {
            "bdata": "3wffBw==",
            "dtype": "i2",
            "shape": "2, 1"
           },
           "hovertemplate": "<b>%{hovertext}</b><br><br>Import Value: $%{x:,.0f}<br>Tariff Rate: %{y:.2f}%<br>Year: %{customdata[0]}<extra></extra>",
           "hovertext": [
            "Italy",
            "Italy"
           ],
           "ids": [
            "Italy",
            "Italy"
           ],
           "legendgroup": "Italy",
           "marker": {
            "color": "#EF553B",
            "size": [
             3828827610,
             1642110509
            ],
            "sizemode": "area",
            "sizeref": 22548523.354444444,
            "symbol": "circle"
           },
           "mode": "markers",
           "name": "Italy",
           "orientation": "v",
           "showlegend": true,
           "type": "scatter",
           "x": [
            3828827610,
            1642110509
           ],
           "xaxis": "x",
           "y": {
            "bdata": "zczMzMzMDkDNzMzMzMwOQA==",
            "dtype": "f8"
           },
           "yaxis": "y"
          },
          {
           "customdata": {
            "bdata": "3wc=",
            "dtype": "i2",
            "shape": "1, 1"
           },
           "hovertemplate": "<b>%{hovertext}</b><br><br>Import Value: $%{x:,.0f}<br>Tariff Rate: %{y:.2f}%<br>Year: %{customdata[0]}<extra></extra>",
           "hovertext": [
            "India"
           ],
           "ids": [
            "India"
           ],
           "legendgroup": "India",
           "marker": {
            "color": "#ab63fa",
            "size": {
             "bdata": "nq3QUw==",
             "dtype": "i4"
            },
            "sizemode": "area",
            "sizeref": 22548523.354444444,
            "symbol": "circle"
           },
           "mode": "markers",
           "name": "India",
           "orientation": "v",
           "showlegend": true,
           "type": "scatter",
           "x": {
            "bdata": "nq3QUw==",
            "dtype": "i4"
           },
           "xaxis": "x",
           "y": {
            "bdata": "H4XrUbgeD0A=",
            "dtype": "f8"
           },
           "yaxis": "y"
          },
          {
           "customdata": {
            "bdata": "3wc=",
            "dtype": "i2",
            "shape": "1, 1"
           },
           "hovertemplate": "<b>%{hovertext}</b><br><br>Import Value: $%{x:,.0f}<br>Tariff Rate: %{y:.2f}%<br>Year: %{customdata[0]}<extra></extra>",
           "hovertext": [
            "Hungary"
           ],
           "ids": [
            "Hungary"
           ],
           "legendgroup": "Hungary",
           "marker": {
            "color": "#19d3f3",
            "size": {
             "bdata": "l69kew==",
             "dtype": "i4"
            },
            "sizemode": "area",
            "sizeref": 22548523.354444444,
            "symbol": "circle"
           },
           "mode": "markers",
           "name": "Hungary",
           "orientation": "v",
           "showlegend": true,
           "type": "scatter",
           "x": {
            "bdata": "l69kew==",
            "dtype": "i4"
           },
           "xaxis": "x",
           "y": {
            "bdata": "AAAAAAAADkA=",
            "dtype": "f8"
           },
           "yaxis": "y"
          }
         ],
         "name": "2015"
        },
        {
         "data": [
          {
           "customdata": {
            "bdata": "3gfeB94H",
            "dtype": "i2",
            "shape": "3, 1"
           },
           "hovertemplate": "<b>%{hovertext}</b><br><br>Import Value: $%{x:,.0f}<br>Tariff Rate: %{y:.2f}%<br>Year: %{customdata[0]}<extra></extra>",
           "hovertext": [
            "Mexico",
            "Mexico",
            "Mexico"
           ],
           "ids": [
            "Mexico",
            "Mexico",
            "Mexico"
           ],
           "legendgroup": "Mexico",
           "marker": {
            "color": "#636efa",
            "size": [
             49392488940,
             34765986007,
             11854480141
            ],
            "sizemode": "area",
            "sizeref": 22548523.354444444,
            "symbol": "circle"
           },
           "mode": "markers",
           "name": "Mexico",
           "orientation": "v",
           "showlegend": true,
           "type": "scatter",
           "x": [
            49392488940,
            34765986007,
            11854480141
           ],
           "xaxis": "x",
           "y": {
            "bdata": "PQrXo3A9DkA9CtejcD0OQD0K16NwPQ5A",
            "dtype": "f8"
           },
           "yaxis": "y"
          },
          {
           "customdata": {
            "bdata": "3gfeBw==",
            "dtype": "i2",
            "shape": "2, 1"
           },
           "hovertemplate": "<b>%{hovertext}</b><br><br>Import Value: $%{x:,.0f}<br>Tariff Rate: %{y:.2f}%<br>Year: %{customdata[0]}<extra></extra>",
           "hovertext": [
            "Japan",
            "Japan"
           ],
           "ids": [
            "Japan",
            "Japan"
           ],
           "legendgroup": "Japan",
           "marker": {
            "color": "#EF553B",
            "size": [
             33871909060,
             15917353696
            ],
            "sizemode": "area",
            "sizeref": 22548523.354444444,
            "symbol": "circle"
           },
           "mode": "markers",
           "name": "Japan",
           "orientation": "v",
           "showlegend": true,
           "type": "scatter",
           "x": [
            33871909060,
            15917353696
           ],
           "xaxis": "x",
           "y": {
            "bdata": "XI/C9ShcDUBcj8L1KFwNQA==",
            "dtype": "f8"
           },
           "yaxis": "y"
          },
          {
           "customdata": {
            "bdata": "3gfeBw==",
            "dtype": "i2",
            "shape": "2, 1"
           },
           "hovertemplate": "<b>%{hovertext}</b><br><br>Import Value: $%{x:,.0f}<br>Tariff Rate: %{y:.2f}%<br>Year: %{customdata[0]}<extra></extra>",
           "hovertext": [
            "South Korea",
            "South Korea"
           ],
           "ids": [
            "South Korea",
            "South Korea"
           ],
           "legendgroup": "South Korea",
           "marker": {
            "color": "#00cc96",
            "size": [
             14572994553,
             8717061853
            ],
            "sizemode": "area",
            "sizeref": 22548523.354444444,
            "symbol": "circle"
           },
           "mode": "markers",
           "name": "South Korea",
           "orientation": "v",
           "showlegend": true,
           "type": "scatter",
           "x": [
            14572994553,
            8717061853
           ],
           "xaxis": "x",
           "y": {
            "bdata": "FK5H4XoUDkAUrkfhehQOQA==",
            "dtype": "f8"
           },
           "yaxis": "y"
          },
          {
           "customdata": {
            "bdata": "3gfeB94H",
            "dtype": "i2",
            "shape": "3, 1"
           },
           "hovertemplate": "<b>%{hovertext}</b><br><br>Import Value: $%{x:,.0f}<br>Tariff Rate: %{y:.2f}%<br>Year: %{customdata[0]}<extra></extra>",
           "hovertext": [
            "Canada",
            "Canada",
            "Canada"
           ],
           "ids": [
            "Canada",
            "Canada",
            "Canada"
           ],
           "legendgroup": "Canada",
           "marker": {
            "color": "#ab63fa",
            "size": [
             42855259815,
             18249568941,
             1695594176
            ],
            "sizemode": "area",
            "sizeref": 22548523.354444444,
            "symbol": "circle"
           },
           "mode": "markers",
           "name": "Canada",
           "orientation": "v",
           "showlegend": true,
           "type": "scatter",
           "x": [
            42855259815,
            18249568941,
            1695594176
           ],
           "xaxis": "x",
           "y": {
            "bdata": "4XoUrkfhCkDhehSuR+EKQOF6FK5H4QpA",
            "dtype": "f8"
           },
           "yaxis": "y"
          },
          {
           "customdata": {
            "bdata": "3gfeBw==",
            "dtype": "i2",
            "shape": "2, 1"
           },
           "hovertemplate": "<b>%{hovertext}</b><br><br>Import Value: $%{x:,.0f}<br>Tariff Rate: %{y:.2f}%<br>Year: %{customdata[0]}<extra></extra>",
           "hovertext": [
            "Germany",
            "Germany"
           ],
           "ids": [
            "Germany",
            "Germany"
           ],
           "legendgroup": "Germany",
           "marker": {
            "color": "#FFA15A",
            "size": [
             25630373121,
             10721233560
            ],
            "sizemode": "area",
            "sizeref": 22548523.354444444,
            "symbol": "circle"
           },
           "mode": "markers",
           "name": "Germany",
           "orientation": "v",
           "showlegend": true,
           "type": "scatter",
           "x": [
            25630373121,
            10721233560
           ],
           "xaxis": "x",
           "y": {
            "bdata": "pHA9CtejDECkcD0K16MMQA==",
            "dtype": "f8"
           },
           "yaxis": "y"
          },
          {
           "customdata": {
            "bdata": "3gc=",
            "dtype": "i2",
            "shape": "1, 1"
           },
           "hovertemplate": "<b>%{hovertext}</b><br><br>Import Value: $%{x:,.0f}<br>Tariff Rate: %{y:.2f}%<br>Year: %{customdata[0]}<extra></extra>",
           "hovertext": [
            "China"
           ],
           "ids": [
            "China"
           ],
           "legendgroup": "China",
           "marker": {
            "color": "#19d3f3",
            "size": [
             18551959719
            ],
            "sizemode": "area",
            "sizeref": 22548523.354444444,
            "symbol": "circle"
           },
           "mode": "markers",
           "name": "China",
           "orientation": "v",
           "showlegend": true,
           "type": "scatter",
           "x": [
            18551959719
           ],
           "xaxis": "x",
           "y": {
            "bdata": "uB6F61G4DEA=",
            "dtype": "f8"
           },
           "yaxis": "y"
          },
          {
           "customdata": {
            "bdata": "3gfeBw==",
            "dtype": "i2",
            "shape": "2, 1"
           },
           "hovertemplate": "<b>%{hovertext}</b><br><br>Import Value: $%{x:,.0f}<br>Tariff Rate: %{y:.2f}%<br>Year: %{customdata[0]}<extra></extra>",
           "hovertext": [
            "United Kingdom",
            "United Kingdom"
           ],
           "ids": [
            "United Kingdom",
            "United Kingdom"
           ],
           "legendgroup": "United Kingdom",
           "marker": {
            "color": "#FF6692",
            "size": [
             5168724266,
             1402222540
            ],
            "sizemode": "area",
            "sizeref": 22548523.354444444,
            "symbol": "circle"
           },
           "mode": "markers",
           "name": "United Kingdom",
           "orientation": "v",
           "showlegend": true,
           "type": "scatter",
           "x": [
            5168724266,
            1402222540
           ],
           "xaxis": "x",
           "y": {
            "bdata": "uB6F61G4DEC4HoXrUbgMQA==",
            "dtype": "f8"
           },
           "yaxis": "y"
          },
          {
           "customdata": {
            "bdata": "3gc=",
            "dtype": "i2",
            "shape": "1, 1"
           },
           "hovertemplate": "<b>%{hovertext}</b><br><br>Import Value: $%{x:,.0f}<br>Tariff Rate: %{y:.2f}%<br>Year: %{customdata[0]}<extra></extra>",
           "hovertext": [
            "Thailand"
           ],
           "ids": [
            "Thailand"
           ],
           "legendgroup": "Thailand",
           "marker": {
            "color": "#FF97FF",
            "size": {
             "bdata": "pjx+ew==",
             "dtype": "i4"
            },
            "sizemode": "area",
            "sizeref": 22548523.354444444,
            "symbol": "circle"
           },
           "mode": "markers",
           "name": "Thailand",
           "orientation": "v",
           "showlegend": true,
           "type": "scatter",
           "x": {
            "bdata": "pjx+ew==",
            "dtype": "i4"
           },
           "xaxis": "x",
           "y": {
            "bdata": "mpmZmZmZEEA=",
            "dtype": "f8"
           },
           "yaxis": "y"
          },
          {
           "customdata": {
            "bdata": "3gc=",
            "dtype": "i2",
            "shape": "1, 1"
           },
           "hovertemplate": "<b>%{hovertext}</b><br><br>Import Value: $%{x:,.0f}<br>Tariff Rate: %{y:.2f}%<br>Year: %{customdata[0]}<extra></extra>",
           "hovertext": [
            "Taiwan"
           ],
           "ids": [
            "Taiwan"
           ],
           "legendgroup": "Taiwan",
           "marker": {
            "color": "#636efa",
            "size": [
             2903187952
            ],
            "sizemode": "area",
            "sizeref": 22548523.354444444,
            "symbol": "circle"
           },
           "mode": "markers",
           "name": "Taiwan",
           "orientation": "v",
           "showlegend": true,
           "type": "scatter",
           "x": [
            2903187952
           ],
           "xaxis": "x",
           "y": {
            "bdata": "XHz3tLCUD0A=",
            "dtype": "f8"
           },
           "yaxis": "y"
          },
          {
           "customdata": {
            "bdata": "3gfeBw==",
            "dtype": "i2",
            "shape": "2, 1"
           },
           "hovertemplate": "<b>%{hovertext}</b><br><br>Import Value: $%{x:,.0f}<br>Tariff Rate: %{y:.2f}%<br>Year: %{customdata[0]}<extra></extra>",
           "hovertext": [
            "Italy",
            "Italy"
           ],
           "ids": [
            "Italy",
            "Italy"
           ],
           "legendgroup": "Italy",
           "marker": {
            "color": "#EF553B",
            "size": {
             "bdata": "0MiBdi6C+l8=",
             "dtype": "i4"
            },
            "sizemode": "area",
            "sizeref": 22548523.354444444,
            "symbol": "circle"
           },
           "mode": "markers",
           "name": "Italy",
           "orientation": "v",
           "showlegend": true,
           "type": "scatter",
           "x": {
            "bdata": "0MiBdi6C+l8=",
            "dtype": "i4"
           },
           "xaxis": "x",
           "y": {
            "bdata": "CtejcD0KD0AK16NwPQoPQA==",
            "dtype": "f8"
           },
           "yaxis": "y"
          },
          {
           "customdata": {
            "bdata": "3gc=",
            "dtype": "i2",
            "shape": "1, 1"
           },
           "hovertemplate": "<b>%{hovertext}</b><br><br>Import Value: $%{x:,.0f}<br>Tariff Rate: %{y:.2f}%<br>Year: %{customdata[0]}<extra></extra>",
           "hovertext": [
            "Hungary"
           ],
           "ids": [
            "Hungary"
           ],
           "legendgroup": "Hungary",
           "marker": {
            "color": "#19d3f3",
            "size": {
             "bdata": "W90hXQ==",
             "dtype": "i4"
            },
            "sizemode": "area",
            "sizeref": 22548523.354444444,
            "symbol": "circle"
           },
           "mode": "markers",
           "name": "Hungary",
           "orientation": "v",
           "showlegend": true,
           "type": "scatter",
           "x": {
            "bdata": "W90hXQ==",
            "dtype": "i4"
           },
           "xaxis": "x",
           "y": {
            "bdata": "7FG4HoXrDUA=",
            "dtype": "f8"
           },
           "yaxis": "y"
          }
         ],
         "name": "2014"
        },
        {
         "data": [
          {
           "customdata": {
            "bdata": "3QfdB90H",
            "dtype": "i2",
            "shape": "3, 1"
           },
           "hovertemplate": "<b>%{hovertext}</b><br><br>Import Value: $%{x:,.0f}<br>Tariff Rate: %{y:.2f}%<br>Year: %{customdata[0]}<extra></extra>",
           "hovertext": [
            "Mexico",
            "Mexico",
            "Mexico"
           ],
           "ids": [
            "Mexico",
            "Mexico",
            "Mexico"
           ],
           "legendgroup": "Mexico",
           "marker": {
            "color": "#636efa",
            "size": [
             44294482700,
             31418054674,
             8891081921
            ],
            "sizemode": "area",
            "sizeref": 22548523.354444444,
            "symbol": "circle"
           },
           "mode": "markers",
           "name": "Mexico",
           "orientation": "v",
           "showlegend": true,
           "type": "scatter",
           "x": [
            44294482700,
            31418054674,
            8891081921
           ],
           "xaxis": "x",
           "y": {
            "bdata": "7FG4HoXrDUDsUbgehesNQOxRuB6F6w1A",
            "dtype": "f8"
           },
           "yaxis": "y"
          },
          {
           "customdata": {
            "bdata": "3QfdBw==",
            "dtype": "i2",
            "shape": "2, 1"
           },
           "hovertemplate": "<b>%{hovertext}</b><br><br>Import Value: $%{x:,.0f}<br>Tariff Rate: %{y:.2f}%<br>Year: %{customdata[0]}<extra></extra>",
           "hovertext": [
            "Japan",
            "Japan"
           ],
           "ids": [
            "Japan",
            "Japan"
           ],
           "legendgroup": "Japan",
           "marker": {
            "color": "#EF553B",
            "size": [
             37762015587,
             15944917135
            ],
            "sizemode": "area",
            "sizeref": 22548523.354444444,
            "symbol": "circle"
           },
           "mode": "markers",
           "name": "Japan",
           "orientation": "v",
           "showlegend": true,
           "type": "scatter",
           "x": [
            37762015587,
            15944917135
           ],
           "xaxis": "x",
           "y": {
            "bdata": "hetRuB6FDUCF61G4HoUNQA==",
            "dtype": "f8"
           },
           "yaxis": "y"
          },
          {
           "customdata": {
            "bdata": "3QfdBw==",
            "dtype": "i2",
            "shape": "2, 1"
           },
           "hovertemplate": "<b>%{hovertext}</b><br><br>Import Value: $%{x:,.0f}<br>Tariff Rate: %{y:.2f}%<br>Year: %{customdata[0]}<extra></extra>",
           "hovertext": [
            "South Korea",
            "South Korea"
           ],
           "ids": [
            "South Korea",
            "South Korea"
           ],
           "legendgroup": "South Korea",
           "marker": {
            "color": "#00cc96",
            "size": [
             12144483959,
             8151020724
            ],
            "sizemode": "area",
            "sizeref": 22548523.354444444,
            "symbol": "circle"
           },
           "mode": "markers",
           "name": "South Korea",
           "orientation": "v",
           "showlegend": true,
           "type": "scatter",
           "x": [
            12144483959,
            8151020724
           ],
           "xaxis": "x",
           "y": {
            "bdata": "cT0K16NwDUBxPQrXo3ANQA==",
            "dtype": "f8"
           },
           "yaxis": "y"
          },
          {
           "customdata": {
            "bdata": "3QfdB90H",
            "dtype": "i2",
            "shape": "3, 1"
           },
           "hovertemplate": "<b>%{hovertext}</b><br><br>Import Value: $%{x:,.0f}<br>Tariff Rate: %{y:.2f}%<br>Year: %{customdata[0]}<extra></extra>",
           "hovertext": [
            "Canada",
            "Canada",
            "Canada"
           ],
           "ids": [
            "Canada",
            "Canada",
            "Canada"
           ],
           "legendgroup": "Canada",
           "marker": {
            "color": "#ab63fa",
            "size": [
             43332601057,
             16925380707,
             1422671677
            ],
            "sizemode": "area",
            "sizeref": 22548523.354444444,
            "symbol": "circle"
           },
           "mode": "markers",
           "name": "Canada",
           "orientation": "v",
           "showlegend": true,
           "type": "scatter",
           "x": [
            43332601057,
            16925380707,
            1422671677
           ],
           "xaxis": "x",
           "y": {
            "bdata": "CtejcD0KC0AK16NwPQoLQArXo3A9CgtA",
            "dtype": "f8"
           },
           "yaxis": "y"
          },
          {
           "customdata": {
            "bdata": "3QfdBw==",
            "dtype": "i2",
            "shape": "2, 1"
           },
           "hovertemplate": "<b>%{hovertext}</b><br><br>Import Value: $%{x:,.0f}<br>Tariff Rate: %{y:.2f}%<br>Year: %{customdata[0]}<extra></extra>",
           "hovertext": [
            "Germany",
            "Germany"
           ],
           "ids": [
            "Germany",
            "Germany"
           ],
           "legendgroup": "Germany",
           "marker": {
            "color": "#FFA15A",
            "size": [
             25586772272,
             9822019503
            ],
            "sizemode": "area",
            "sizeref": 22548523.354444444,
            "symbol": "circle"
           },
           "mode": "markers",
           "name": "Germany",
           "orientation": "v",
           "showlegend": true,
           "type": "scatter",
           "x": [
            25586772272,
            9822019503
           ],
           "xaxis": "x",
           "y": {
            "bdata": "exSuR+F6DEB7FK5H4XoMQA==",
            "dtype": "f8"
           },
           "yaxis": "y"
          },
          {
           "customdata": {
            "bdata": "3Qc=",
            "dtype": "i2",
            "shape": "1, 1"
           },
           "hovertemplate": "<b>%{hovertext}</b><br><br>Import Value: $%{x:,.0f}<br>Tariff Rate: %{y:.2f}%<br>Year: %{customdata[0]}<extra></extra>",
           "hovertext": [
            "China"
           ],
           "ids": [
            "China"
           ],
           "legendgroup": "China",
           "marker": {
            "color": "#19d3f3",
            "size": [
             16307354437
            ],
            "sizemode": "area",
            "sizeref": 22548523.354444444,
            "symbol": "circle"
           },
           "mode": "markers",
           "name": "China",
           "orientation": "v",
           "showlegend": true,
           "type": "scatter",
           "x": [
            16307354437
           ],
           "xaxis": "x",
           "y": {
            "bdata": "cT0K16NwDUA=",
            "dtype": "f8"
           },
           "yaxis": "y"
          },
          {
           "customdata": {
            "bdata": "3QfdBw==",
            "dtype": "i2",
            "shape": "2, 1"
           },
           "hovertemplate": "<b>%{hovertext}</b><br><br>Import Value: $%{x:,.0f}<br>Tariff Rate: %{y:.2f}%<br>Year: %{customdata[0]}<extra></extra>",
           "hovertext": [
            "United Kingdom",
            "United Kingdom"
           ],
           "ids": [
            "United Kingdom",
            "United Kingdom"
           ],
           "legendgroup": "United Kingdom",
           "marker": {
            "color": "#FF6692",
            "size": [
             5045802801,
             1297172815
            ],
            "sizemode": "area",
            "sizeref": 22548523.354444444,
            "symbol": "circle"
           },
           "mode": "markers",
           "name": "United Kingdom",
           "orientation": "v",
           "showlegend": true,
           "type": "scatter",
           "x": [
            5045802801,
            1297172815
           ],
           "xaxis": "x",
           "y": {
            "bdata": "zczMzMzMDEDNzMzMzMwMQA==",
            "dtype": "f8"
           },
           "yaxis": "y"
          },
          {
           "customdata": {
            "bdata": "3Qc=",
            "dtype": "i2",
            "shape": "1, 1"
           },
           "hovertemplate": "<b>%{hovertext}</b><br><br>Import Value: $%{x:,.0f}<br>Tariff Rate: %{y:.2f}%<br>Year: %{customdata[0]}<extra></extra>",
           "hovertext": [
            "Thailand"
           ],
           "ids": [
            "Thailand"
           ],
           "legendgroup": "Thailand",
           "marker": {
            "color": "#FF97FF",
            "size": {
             "bdata": "2chybg==",
             "dtype": "i4"
            },
            "sizemode": "area",
            "sizeref": 22548523.354444444,
            "symbol": "circle"
           },
           "mode": "markers",
           "name": "Thailand",
           "orientation": "v",
           "showlegend": true,
           "type": "scatter",
           "x": {
            "bdata": "2chybg==",
            "dtype": "i4"
           },
           "xaxis": "x",
           "y": {
            "bdata": "7FG4HoXrEEA=",
            "dtype": "f8"
           },
           "yaxis": "y"
          },
          {
           "customdata": {
            "bdata": "3Qc=",
            "dtype": "i2",
            "shape": "1, 1"
           },
           "hovertemplate": "<b>%{hovertext}</b><br><br>Import Value: $%{x:,.0f}<br>Tariff Rate: %{y:.2f}%<br>Year: %{customdata[0]}<extra></extra>",
           "hovertext": [
            "Taiwan"
           ],
           "ids": [
            "Taiwan"
           ],
           "legendgroup": "Taiwan",
           "marker": {
            "color": "#636efa",
            "size": [
             2694156933
            ],
            "sizemode": "area",
            "sizeref": 22548523.354444444,
            "symbol": "circle"
           },
           "mode": "markers",
           "name": "Taiwan",
           "orientation": "v",
           "showlegend": true,
           "type": "scatter",
           "x": [
            2694156933
           ],
           "xaxis": "x",
           "y": {
            "bdata": "XHz3tLCUD0A=",
            "dtype": "f8"
           },
           "yaxis": "y"
          },
          {
           "customdata": {
            "bdata": "3Qc=",
            "dtype": "i2",
            "shape": "1, 1"
           },
           "hovertemplate": "<b>%{hovertext}</b><br><br>Import Value: $%{x:,.0f}<br>Tariff Rate: %{y:.2f}%<br>Year: %{customdata[0]}<extra></extra>",
           "hovertext": [
            "Italy"
           ],
           "ids": [
            "Italy"
           ],
           "legendgroup": "Italy",
           "marker": {
            "color": "#EF553B",
            "size": {
             "bdata": "9sL3Ug==",
             "dtype": "i4"
            },
            "sizemode": "area",
            "sizeref": 22548523.354444444,
            "symbol": "circle"
           },
           "mode": "markers",
           "name": "Italy",
           "orientation": "v",
           "showlegend": true,
           "type": "scatter",
           "x": {
            "bdata": "9sL3Ug==",
            "dtype": "i4"
           },
           "xaxis": "x",
           "y": {
            "bdata": "CtejcD0KD0A=",
            "dtype": "f8"
           },
           "yaxis": "y"
          },
          {
           "customdata": {
            "bdata": "3Qc=",
            "dtype": "i2",
            "shape": "1, 1"
           },
           "hovertemplate": "<b>%{hovertext}</b><br><br>Import Value: $%{x:,.0f}<br>Tariff Rate: %{y:.2f}%<br>Year: %{customdata[0]}<extra></extra>",
           "hovertext": [
            "South Africa"
           ],
           "ids": [
            "South Africa"
           ],
           "legendgroup": "South Africa",
           "marker": {
            "color": "#FFA15A",
            "size": [
             2165580306
            ],
            "sizemode": "area",
            "sizeref": 22548523.354444444,
            "symbol": "circle"
           },
           "mode": "markers",
           "name": "South Africa",
           "orientation": "v",
           "showlegend": true,
           "type": "scatter",
           "x": [
            2165580306
           ],
           "xaxis": "x",
           "y": {
            "bdata": "UrgehetRCEA=",
            "dtype": "f8"
           },
           "yaxis": "y"
          },
          {
           "customdata": {
            "bdata": "3Qc=",
            "dtype": "i2",
            "shape": "1, 1"
           },
           "hovertemplate": "<b>%{hovertext}</b><br><br>Import Value: $%{x:,.0f}<br>Tariff Rate: %{y:.2f}%<br>Year: %{customdata[0]}<extra></extra>",
           "hovertext": [
            "Brazil"
           ],
           "ids": [
            "Brazil"
           ],
           "legendgroup": "Brazil",
           "marker": {
            "color": "#FF6692",
            "size": {
             "bdata": "FaJoRA==",
             "dtype": "i4"
            },
            "sizemode": "area",
            "sizeref": 22548523.354444444,
            "symbol": "circle"
           },
           "mode": "markers",
           "name": "Brazil",
           "orientation": "v",
           "showlegend": true,
           "type": "scatter",
           "x": {
            "bdata": "FaJoRA==",
            "dtype": "i4"
           },
           "xaxis": "x",
           "y": {
            "bdata": "pHA9CtejDEA=",
            "dtype": "f8"
           },
           "yaxis": "y"
          }
         ],
         "name": "2013"
        },
        {
         "data": [
          {
           "customdata": {
            "bdata": "3AfcB9wH",
            "dtype": "i2",
            "shape": "3, 1"
           },
           "hovertemplate": "<b>%{hovertext}</b><br><br>Import Value: $%{x:,.0f}<br>Tariff Rate: %{y:.2f}%<br>Year: %{customdata[0]}<extra></extra>",
           "hovertext": [
            "Mexico",
            "Mexico",
            "Mexico"
           ],
           "ids": [
            "Mexico",
            "Mexico",
            "Mexico"
           ],
           "legendgroup": "Mexico",
           "marker": {
            "color": "#636efa",
            "size": [
             41020973160,
             27642492816,
             7828114341
            ],
            "sizemode": "area",
            "sizeref": 22548523.354444444,
            "symbol": "circle"
           },
           "mode": "markers",
           "name": "Mexico",
           "orientation": "v",
           "showlegend": true,
           "type": "scatter",
           "x": [
            41020973160,
            27642492816,
            7828114341
           ],
           "xaxis": "x",
           "y": {
            "bdata": "hetRuB6FDUCF61G4HoUNQIXrUbgehQ1A",
            "dtype": "f8"
           },
           "yaxis": "y"
          },
          {
           "customdata": {
            "bdata": "3AfcBw==",
            "dtype": "i2",
            "shape": "2, 1"
           },
           "hovertemplate": "<b>%{hovertext}</b><br><br>Import Value: $%{x:,.0f}<br>Tariff Rate: %{y:.2f}%<br>Year: %{customdata[0]}<extra></extra>",
           "hovertext": [
            "Japan",
            "Japan"
           ],
           "ids": [
            "Japan",
            "Japan"
           ],
           "legendgroup": "Japan",
           "marker": {
            "color": "#EF553B",
            "size": [
             37659177338,
             18307896233
            ],
            "sizemode": "area",
            "sizeref": 22548523.354444444,
            "symbol": "circle"
           },
           "mode": "markers",
           "name": "Japan",
           "orientation": "v",
           "showlegend": true,
           "type": "scatter",
           "x": [
            37659177338,
            18307896233
           ],
           "xaxis": "x",
           "y": {
            "bdata": "MzMzMzMzDUAzMzMzMzMNQA==",
            "dtype": "f8"
           },
           "yaxis": "y"
          },
          {
           "customdata": {
            "bdata": "3AfcBw==",
            "dtype": "i2",
            "shape": "2, 1"
           },
           "hovertemplate": "<b>%{hovertext}</b><br><br>Import Value: $%{x:,.0f}<br>Tariff Rate: %{y:.2f}%<br>Year: %{customdata[0]}<extra></extra>",
           "hovertext": [
            "South Korea",
            "South Korea"
           ],
           "ids": [
            "South Korea",
            "South Korea"
           ],
           "legendgroup": "South Korea",
           "marker": {
            "color": "#00cc96",
            "size": [
             10619174559,
             7956312637
            ],
            "sizemode": "area",
            "sizeref": 22548523.354444444,
            "symbol": "circle"
           },
           "mode": "markers",
           "name": "South Korea",
           "orientation": "v",
           "showlegend": true,
           "type": "scatter",
           "x": [
            10619174559,
            7956312637
           ],
           "xaxis": "x",
           "y": {
            "bdata": "KVyPwvUoDkApXI/C9SgOQA==",
            "dtype": "f8"
           },
           "yaxis": "y"
          },
          {
           "customdata": {
            "bdata": "3AfcB9wH",
            "dtype": "i2",
            "shape": "3, 1"
           },
           "hovertemplate": "<b>%{hovertext}</b><br><br>Import Value: $%{x:,.0f}<br>Tariff Rate: %{y:.2f}%<br>Year: %{customdata[0]}<extra></extra>",
           "hovertext": [
            "Canada",
            "Canada",
            "Canada"
           ],
           "ids": [
            "Canada",
            "Canada",
            "Canada"
           ],
           "legendgroup": "Canada",
           "marker": {
            "color": "#ab63fa",
            "size": [
             45334797409,
             17434686725,
             1365059745
            ],
            "sizemode": "area",
            "sizeref": 22548523.354444444,
            "symbol": "circle"
           },
           "mode": "markers",
           "name": "Canada",
           "orientation": "v",
           "showlegend": true,
           "type": "scatter",
           "x": [
            45334797409,
            17434686725,
            1365059745
           ],
           "xaxis": "x",
           "y": {
            "bdata": "CtejcD0KC0AK16NwPQoLQArXo3A9CgtA",
            "dtype": "f8"
           },
           "yaxis": "y"
          },
          {
           "customdata": {
            "bdata": "3AfcBw==",
            "dtype": "i2",
            "shape": "2, 1"
           },
           "hovertemplate": "<b>%{hovertext}</b><br><br>Import Value: $%{x:,.0f}<br>Tariff Rate: %{y:.2f}%<br>Year: %{customdata[0]}<extra></extra>",
           "hovertext": [
            "Germany",
            "Germany"
           ],
           "ids": [
            "Germany",
            "Germany"
           ],
           "legendgroup": "Germany",
           "marker": {
            "color": "#FFA15A",
            "size": [
             23456840603,
             9683282781
            ],
            "sizemode": "area",
            "sizeref": 22548523.354444444,
            "symbol": "circle"
           },
           "mode": "markers",
           "name": "Germany",
           "orientation": "v",
           "showlegend": true,
           "type": "scatter",
           "x": [
            23456840603,
            9683282781
           ],
           "xaxis": "x",
           "y": {
            "bdata": "uB6F61G4DEC4HoXrUbgMQA==",
            "dtype": "f8"
           },
           "yaxis": "y"
          },
          {
           "customdata": {
            "bdata": "3Ac=",
            "dtype": "i2",
            "shape": "1, 1"
           },
           "hovertemplate": "<b>%{hovertext}</b><br><br>Import Value: $%{x:,.0f}<br>Tariff Rate: %{y:.2f}%<br>Year: %{customdata[0]}<extra></extra>",
           "hovertext": [
            "China"
           ],
           "ids": [
            "China"
           ],
           "legendgroup": "China",
           "marker": {
            "color": "#19d3f3",
            "size": [
             14976119807
            ],
            "sizemode": "area",
            "sizeref": 22548523.354444444,
            "symbol": "circle"
           },
           "mode": "markers",
           "name": "China",
           "orientation": "v",
           "showlegend": true,
           "type": "scatter",
           "x": [
            14976119807
           ],
           "xaxis": "x",
           "y": {
            "bdata": "hetRuB6FDUA=",
            "dtype": "f8"
           },
           "yaxis": "y"
          },
          {
           "customdata": {
            "bdata": "3Ac=",
            "dtype": "i2",
            "shape": "1, 1"
           },
           "hovertemplate": "<b>%{hovertext}</b><br><br>Import Value: $%{x:,.0f}<br>Tariff Rate: %{y:.2f}%<br>Year: %{customdata[0]}<extra></extra>",
           "hovertext": [
            "United Kingdom"
           ],
           "ids": [
            "United Kingdom"
           ],
           "legendgroup": "United Kingdom",
           "marker": {
            "color": "#FF6692",
            "size": [
             4449856662
            ],
            "sizemode": "area",
            "sizeref": 22548523.354444444,
            "symbol": "circle"
           },
           "mode": "markers",
           "name": "United Kingdom",
           "orientation": "v",
           "showlegend": true,
           "type": "scatter",
           "x": [
            4449856662
           ],
           "xaxis": "x",
           "y": {
            "bdata": "MzMzMzMzDUA=",
            "dtype": "f8"
           },
           "yaxis": "y"
          },
          {
           "customdata": {
            "bdata": "3Ac=",
            "dtype": "i2",
            "shape": "1, 1"
           },
           "hovertemplate": "<b>%{hovertext}</b><br><br>Import Value: $%{x:,.0f}<br>Tariff Rate: %{y:.2f}%<br>Year: %{customdata[0]}<extra></extra>",
           "hovertext": [
            "Thailand"
           ],
           "ids": [
            "Thailand"
           ],
           "legendgroup": "Thailand",
           "marker": {
            "color": "#FF97FF",
            "size": {
             "bdata": "/wfteQ==",
             "dtype": "i4"
            },
            "sizemode": "area",
            "sizeref": 22548523.354444444,
            "symbol": "circle"
           },
           "mode": "markers",
           "name": "Thailand",
           "orientation": "v",
           "showlegend": true,
           "type": "scatter",
           "x": {
            "bdata": "/wfteQ==",
            "dtype": "i4"
           },
           "xaxis": "x",
           "y": {
            "bdata": "cT0K16NwEUA=",
            "dtype": "f8"
           },
           "yaxis": "y"
          },
          {
           "customdata": {
            "bdata": "3Ac=",
            "dtype": "i2",
            "shape": "1, 1"
           },
           "hovertemplate": "<b>%{hovertext}</b><br><br>Import Value: $%{x:,.0f}<br>Tariff Rate: %{y:.2f}%<br>Year: %{customdata[0]}<extra></extra>",
           "hovertext": [
            "Taiwan"
           ],
           "ids": [
            "Taiwan"
           ],
           "legendgroup": "Taiwan",
           "marker": {
            "color": "#636efa",
            "size": [
             2580488618
            ],
            "sizemode": "area",
            "sizeref": 22548523.354444444,
            "symbol": "circle"
           },
           "mode": "markers",
           "name": "Taiwan",
           "orientation": "v",
           "showlegend": true,
           "type": "scatter",
           "x": [
            2580488618
           ],
           "xaxis": "x",
           "y": {
            "bdata": "XHz3tLCUD0A=",
            "dtype": "f8"
           },
           "yaxis": "y"
          },
          {
           "customdata": {
            "bdata": "3Ac=",
            "dtype": "i2",
            "shape": "1, 1"
           },
           "hovertemplate": "<b>%{hovertext}</b><br><br>Import Value: $%{x:,.0f}<br>Tariff Rate: %{y:.2f}%<br>Year: %{customdata[0]}<extra></extra>",
           "hovertext": [
            "India"
           ],
           "ids": [
            "India"
           ],
           "legendgroup": "India",
           "marker": {
            "color": "#ab63fa",
            "size": {
             "bdata": "RuDeRQ==",
             "dtype": "i4"
            },
            "sizemode": "area",
            "sizeref": 22548523.354444444,
            "symbol": "circle"
           },
           "mode": "markers",
           "name": "India",
           "orientation": "v",
           "showlegend": true,
           "type": "scatter",
           "x": {
            "bdata": "RuDeRQ==",
            "dtype": "i4"
           },
           "xaxis": "x",
           "y": {
            "bdata": "hetRuB6FD0A=",
            "dtype": "f8"
           },
           "yaxis": "y"
          },
          {
           "customdata": {
            "bdata": "3Ac=",
            "dtype": "i2",
            "shape": "1, 1"
           },
           "hovertemplate": "<b>%{hovertext}</b><br><br>Import Value: $%{x:,.0f}<br>Tariff Rate: %{y:.2f}%<br>Year: %{customdata[0]}<extra></extra>",
           "hovertext": [
            "South Africa"
           ],
           "ids": [
            "South Africa"
           ],
           "legendgroup": "South Africa",
           "marker": {
            "color": "#FFA15A",
            "size": {
             "bdata": "LDFmcA==",
             "dtype": "i4"
            },
            "sizemode": "area",
            "sizeref": 22548523.354444444,
            "symbol": "circle"
           },
           "mode": "markers",
           "name": "South Africa",
           "orientation": "v",
           "showlegend": true,
           "type": "scatter",
           "x": {
            "bdata": "LDFmcA==",
            "dtype": "i4"
           },
           "xaxis": "x",
           "y": {
            "bdata": "AAAAAAAACkA=",
            "dtype": "f8"
           },
           "yaxis": "y"
          },
          {
           "customdata": {
            "bdata": "3Ac=",
            "dtype": "i2",
            "shape": "1, 1"
           },
           "hovertemplate": "<b>%{hovertext}</b><br><br>Import Value: $%{x:,.0f}<br>Tariff Rate: %{y:.2f}%<br>Year: %{customdata[0]}<extra></extra>",
           "hovertext": [
            "Brazil"
           ],
           "ids": [
            "Brazil"
           ],
           "legendgroup": "Brazil",
           "marker": {
            "color": "#FF6692",
            "size": {
             "bdata": "e8caWg==",
             "dtype": "i4"
            },
            "sizemode": "area",
            "sizeref": 22548523.354444444,
            "symbol": "circle"
           },
           "mode": "markers",
           "name": "Brazil",
           "orientation": "v",
           "showlegend": true,
           "type": "scatter",
           "x": {
            "bdata": "e8caWg==",
            "dtype": "i4"
           },
           "xaxis": "x",
           "y": {
            "bdata": "SOF6FK5HDUA=",
            "dtype": "f8"
           },
           "yaxis": "y"
          },
          {
           "customdata": {
            "bdata": "3Ac=",
            "dtype": "i2",
            "shape": "1, 1"
           },
           "hovertemplate": "<b>%{hovertext}</b><br><br>Import Value: $%{x:,.0f}<br>Tariff Rate: %{y:.2f}%<br>Year: %{customdata[0]}<extra></extra>",
           "hovertext": [
            "Belgium"
           ],
           "ids": [
            "Belgium"
           ],
           "legendgroup": "Belgium",
           "marker": {
            "color": "#B6E880",
            "size": {
             "bdata": "AtHnVQ==",
             "dtype": "i4"
            },
            "sizemode": "area",
            "sizeref": 22548523.354444444,
            "symbol": "circle"
           },
           "mode": "markers",
           "name": "Belgium",
           "orientation": "v",
           "showlegend": true,
           "type": "scatter",
           "x": {
            "bdata": "AtHnVQ==",
            "dtype": "i4"
           },
           "xaxis": "x",
           "y": {
            "bdata": "FK5H4XoUDkA=",
            "dtype": "f8"
           },
           "yaxis": "y"
          }
         ],
         "name": "2012"
        },
        {
         "data": [
          {
           "customdata": {
            "bdata": "2wfbB9sH",
            "dtype": "i2",
            "shape": "3, 1"
           },
           "hovertemplate": "<b>%{hovertext}</b><br><br>Import Value: $%{x:,.0f}<br>Tariff Rate: %{y:.2f}%<br>Year: %{customdata[0]}<extra></extra>",
           "hovertext": [
            "Mexico",
            "Mexico",
            "Mexico"
           ],
           "ids": [
            "Mexico",
            "Mexico",
            "Mexico"
           ],
           "legendgroup": "Mexico",
           "marker": {
            "color": "#636efa",
            "size": [
             35610286290,
             23633276736,
             7059414601
            ],
            "sizemode": "area",
            "sizeref": 22548523.354444444,
            "symbol": "circle"
           },
           "mode": "markers",
           "name": "Mexico",
           "orientation": "v",
           "showlegend": true,
           "type": "scatter",
           "x": [
            35610286290,
            23633276736,
            7059414601
           ],
           "xaxis": "x",
           "y": {
            "bdata": "UrgehetRDkBSuB6F61EOQFK4HoXrUQ5A",
            "dtype": "f8"
           },
           "yaxis": "y"
          },
          {
           "customdata": {
            "bdata": "2wfbBw==",
            "dtype": "i2",
            "shape": "2, 1"
           },
           "hovertemplate": "<b>%{hovertext}</b><br><br>Import Value: $%{x:,.0f}<br>Tariff Rate: %{y:.2f}%<br>Year: %{customdata[0]}<extra></extra>",
           "hovertext": [
            "Japan",
            "Japan"
           ],
           "ids": [
            "Japan",
            "Japan"
           ],
           "legendgroup": "Japan",
           "marker": {
            "color": "#EF553B",
            "size": [
             29904053998,
             15034567591
            ],
            "sizemode": "area",
            "sizeref": 22548523.354444444,
            "symbol": "circle"
           },
           "mode": "markers",
           "name": "Japan",
           "orientation": "v",
           "showlegend": true,
           "type": "scatter",
           "x": [
            29904053998,
            15034567591
           ],
           "xaxis": "x",
           "y": {
            "bdata": "pHA9CtejDkCkcD0K16MOQA==",
            "dtype": "f8"
           },
           "yaxis": "y"
          },
          {
           "customdata": {
            "bdata": "2wfbBw==",
            "dtype": "i2",
            "shape": "2, 1"
           },
           "hovertemplate": "<b>%{hovertext}</b><br><br>Import Value: $%{x:,.0f}<br>Tariff Rate: %{y:.2f}%<br>Year: %{customdata[0]}<extra></extra>",
           "hovertext": [
            "South Korea",
            "South Korea"
           ],
           "ids": [
            "South Korea",
            "South Korea"
           ],
           "legendgroup": "South Korea",
           "marker": {
            "color": "#00cc96",
            "size": [
             8610931720,
             6650891122
            ],
            "sizemode": "area",
            "sizeref": 22548523.354444444,
            "symbol": "circle"
           },
           "mode": "markers",
           "name": "South Korea",
           "orientation": "v",
           "showlegend": true,
           "type": "scatter",
           "x": [
            8610931720,
            6650891122
           ],
           "xaxis": "x",
           "y": {
            "bdata": "exSuR+F6DkB7FK5H4XoOQA==",
            "dtype": "f8"
           },
           "yaxis": "y"
          },
          {
           "customdata": {
            "bdata": "2wfbB9sH",
            "dtype": "i2",
            "shape": "3, 1"
           },
           "hovertemplate": "<b>%{hovertext}</b><br><br>Import Value: $%{x:,.0f}<br>Tariff Rate: %{y:.2f}%<br>Year: %{customdata[0]}<extra></extra>",
           "hovertext": [
            "Canada",
            "Canada",
            "Canada"
           ],
           "ids": [
            "Canada",
            "Canada",
            "Canada"
           ],
           "legendgroup": "Canada",
           "marker": {
            "color": "#ab63fa",
            "size": [
             38343734068,
             16355753891,
             1286208340
            ],
            "sizemode": "area",
            "sizeref": 22548523.354444444,
            "symbol": "circle"
           },
           "mode": "markers",
           "name": "Canada",
           "orientation": "v",
           "showlegend": true,
           "type": "scatter",
           "x": [
            38343734068,
            16355753891,
            1286208340
           ],
           "xaxis": "x",
           "y": {
            "bdata": "16NwPQrXC0DXo3A9CtcLQNejcD0K1wtA",
            "dtype": "f8"
           },
           "yaxis": "y"
          },
          {
           "customdata": {
            "bdata": "2wfbBw==",
            "dtype": "i2",
            "shape": "2, 1"
           },
           "hovertemplate": "<b>%{hovertext}</b><br><br>Import Value: $%{x:,.0f}<br>Tariff Rate: %{y:.2f}%<br>Year: %{customdata[0]}<extra></extra>",
           "hovertext": [
            "Germany",
            "Germany"
           ],
           "ids": [
            "Germany",
            "Germany"
           ],
           "legendgroup": "Germany",
           "marker": {
            "color": "#FFA15A",
            "size": [
             19499297486,
             8183137522
            ],
            "sizemode": "area",
            "sizeref": 22548523.354444444,
            "symbol": "circle"
           },
           "mode": "markers",
           "name": "Germany",
           "orientation": "v",
           "showlegend": true,
           "type": "scatter",
           "x": [
            19499297486,
            8183137522
           ],
           "xaxis": "x",
           "y": {
            "bdata": "PQrXo3A9DEA9CtejcD0MQA==",
            "dtype": "f8"
           },
           "yaxis": "y"
          },
          {
           "customdata": {
            "bdata": "2wc=",
            "dtype": "i2",
            "shape": "1, 1"
           },
           "hovertemplate": "<b>%{hovertext}</b><br><br>Import Value: $%{x:,.0f}<br>Tariff Rate: %{y:.2f}%<br>Year: %{customdata[0]}<extra></extra>",
           "hovertext": [
            "China"
           ],
           "ids": [
            "China"
           ],
           "legendgroup": "China",
           "marker": {
            "color": "#19d3f3",
            "size": [
             12476901727
            ],
            "sizemode": "area",
            "sizeref": 22548523.354444444,
            "symbol": "circle"
           },
           "mode": "markers",
           "name": "China",
           "orientation": "v",
           "showlegend": true,
           "type": "scatter",
           "x": [
            12476901727
           ],
           "xaxis": "x",
           "y": {
            "bdata": "j8L1KFyPDkA=",
            "dtype": "f8"
           },
           "yaxis": "y"
          },
          {
           "customdata": {
            "bdata": "2wc=",
            "dtype": "i2",
            "shape": "1, 1"
           },
           "hovertemplate": "<b>%{hovertext}</b><br><br>Import Value: $%{x:,.0f}<br>Tariff Rate: %{y:.2f}%<br>Year: %{customdata[0]}<extra></extra>",
           "hovertext": [
            "United Kingdom"
           ],
           "ids": [
            "United Kingdom"
           ],
           "legendgroup": "United Kingdom",
           "marker": {
            "color": "#FF6692",
            "size": [
             3693710121
            ],
            "sizemode": "area",
            "sizeref": 22548523.354444444,
            "symbol": "circle"
           },
           "mode": "markers",
           "name": "United Kingdom",
           "orientation": "v",
           "showlegend": true,
           "type": "scatter",
           "x": [
            3693710121
           ],
           "xaxis": "x",
           "y": {
            "bdata": "MzMzMzMzDUA=",
            "dtype": "f8"
           },
           "yaxis": "y"
          },
          {
           "customdata": {
            "bdata": "2wc=",
            "dtype": "i2",
            "shape": "1, 1"
           },
           "hovertemplate": "<b>%{hovertext}</b><br><br>Import Value: $%{x:,.0f}<br>Tariff Rate: %{y:.2f}%<br>Year: %{customdata[0]}<extra></extra>",
           "hovertext": [
            "Thailand"
           ],
           "ids": [
            "Thailand"
           ],
           "legendgroup": "Thailand",
           "marker": {
            "color": "#FF97FF",
            "size": {
             "bdata": "E6W+fw==",
             "dtype": "i4"
            },
            "sizemode": "area",
            "sizeref": 22548523.354444444,
            "symbol": "circle"
           },
           "mode": "markers",
           "name": "Thailand",
           "orientation": "v",
           "showlegend": true,
           "type": "scatter",
           "x": {
            "bdata": "E6W+fw==",
            "dtype": "i4"
           },
           "xaxis": "x",
           "y": {
            "bdata": "7FG4HoXrEUA=",
            "dtype": "f8"
           },
           "yaxis": "y"
          },
          {
           "customdata": {
            "bdata": "2wc=",
            "dtype": "i2",
            "shape": "1, 1"
           },
           "hovertemplate": "<b>%{hovertext}</b><br><br>Import Value: $%{x:,.0f}<br>Tariff Rate: %{y:.2f}%<br>Year: %{customdata[0]}<extra></extra>",
           "hovertext": [
            "Taiwan"
           ],
           "ids": [
            "Taiwan"
           ],
           "legendgroup": "Taiwan",
           "marker": {
            "color": "#636efa",
            "size": [
             2402510482
            ],
            "sizemode": "area",
            "sizeref": 22548523.354444444,
            "symbol": "circle"
           },
           "mode": "markers",
           "name": "Taiwan",
           "orientation": "v",
           "showlegend": true,
           "type": "scatter",
           "x": [
            2402510482
           ],
           "xaxis": "x",
           "y": {
            "bdata": "XHz3tLCUD0A=",
            "dtype": "f8"
           },
           "yaxis": "y"
          },
          {
           "customdata": {
            "bdata": "2wc=",
            "dtype": "i2",
            "shape": "1, 1"
           },
           "hovertemplate": "<b>%{hovertext}</b><br><br>Import Value: $%{x:,.0f}<br>Tariff Rate: %{y:.2f}%<br>Year: %{customdata[0]}<extra></extra>",
           "hovertext": [
            "South Africa"
           ],
           "ids": [
            "South Africa"
           ],
           "legendgroup": "South Africa",
           "marker": {
            "color": "#FFA15A",
            "size": {
             "bdata": "YMMJeg==",
             "dtype": "i4"
            },
            "sizemode": "area",
            "sizeref": 22548523.354444444,
            "symbol": "circle"
           },
           "mode": "markers",
           "name": "South Africa",
           "orientation": "v",
           "showlegend": true,
           "type": "scatter",
           "x": {
            "bdata": "YMMJeg==",
            "dtype": "i4"
           },
           "xaxis": "x",
           "y": {
            "bdata": "9ihcj8L1CkA=",
            "dtype": "f8"
           },
           "yaxis": "y"
          },
          {
           "customdata": {
            "bdata": "2wc=",
            "dtype": "i2",
            "shape": "1, 1"
           },
           "hovertemplate": "<b>%{hovertext}</b><br><br>Import Value: $%{x:,.0f}<br>Tariff Rate: %{y:.2f}%<br>Year: %{customdata[0]}<extra></extra>",
           "hovertext": [
            "Brazil"
           ],
           "ids": [
            "Brazil"
           ],
           "legendgroup": "Brazil",
           "marker": {
            "color": "#FF6692",
            "size": {
             "bdata": "R/jDXQ==",
             "dtype": "i4"
            },
            "sizemode": "area",
            "sizeref": 22548523.354444444,
            "symbol": "circle"
           },
           "mode": "markers",
           "name": "Brazil",
           "orientation": "v",
           "showlegend": true,
           "type": "scatter",
           "x": {
            "bdata": "R/jDXQ==",
            "dtype": "i4"
           },
           "xaxis": "x",
           "y": {
            "bdata": "mpmZmZmZDUA=",
            "dtype": "f8"
           },
           "yaxis": "y"
          },
          {
           "customdata": {
            "bdata": "2wc=",
            "dtype": "i2",
            "shape": "1, 1"
           },
           "hovertemplate": "<b>%{hovertext}</b><br><br>Import Value: $%{x:,.0f}<br>Tariff Rate: %{y:.2f}%<br>Year: %{customdata[0]}<extra></extra>",
           "hovertext": [
            "Belgium"
           ],
           "ids": [
            "Belgium"
           ],
           "legendgroup": "Belgium",
           "marker": {
            "color": "#B6E880",
            "size": {
             "bdata": "eLkcRQ==",
             "dtype": "i4"
            },
            "sizemode": "area",
            "sizeref": 22548523.354444444,
            "symbol": "circle"
           },
           "mode": "markers",
           "name": "Belgium",
           "orientation": "v",
           "showlegend": true,
           "type": "scatter",
           "x": {
            "bdata": "eLkcRQ==",
            "dtype": "i4"
           },
           "xaxis": "x",
           "y": {
            "bdata": "UrgehetRDkA=",
            "dtype": "f8"
           },
           "yaxis": "y"
          },
          {
           "customdata": {
            "bdata": "2wc=",
            "dtype": "i2",
            "shape": "1, 1"
           },
           "hovertemplate": "<b>%{hovertext}</b><br><br>Import Value: $%{x:,.0f}<br>Tariff Rate: %{y:.2f}%<br>Year: %{customdata[0]}<extra></extra>",
           "hovertext": [
            "Austria"
           ],
           "ids": [
            "Austria"
           ],
           "legendgroup": "Austria",
           "marker": {
            "color": "#FF97FF",
            "size": {
             "bdata": "iaubYA==",
             "dtype": "i4"
            },
            "sizemode": "area",
            "sizeref": 22548523.354444444,
            "symbol": "circle"
           },
           "mode": "markers",
           "name": "Austria",
           "orientation": "v",
           "showlegend": true,
           "type": "scatter",
           "x": {
            "bdata": "iaubYA==",
            "dtype": "i4"
           },
           "xaxis": "x",
           "y": {
            "bdata": "AAAAAAAADEA=",
            "dtype": "f8"
           },
           "yaxis": "y"
          }
         ],
         "name": "2011"
        },
        {
         "data": [
          {
           "customdata": {
            "bdata": "2gfaB9oH",
            "dtype": "i2",
            "shape": "3, 1"
           },
           "hovertemplate": "<b>%{hovertext}</b><br><br>Import Value: $%{x:,.0f}<br>Tariff Rate: %{y:.2f}%<br>Year: %{customdata[0]}<extra></extra>",
           "hovertext": [
            "Mexico",
            "Mexico",
            "Mexico"
           ],
           "ids": [
            "Mexico",
            "Mexico",
            "Mexico"
           ],
           "legendgroup": "Mexico",
           "marker": {
            "color": "#636efa",
            "size": [
             29786869271,
             22600058042,
             5031553940
            ],
            "sizemode": "area",
            "sizeref": 22548523.354444444,
            "symbol": "circle"
           },
           "mode": "markers",
           "name": "Mexico",
           "orientation": "v",
           "showlegend": true,
           "type": "scatter",
           "x": [
            29786869271,
            22600058042,
            5031553940
           ],
           "xaxis": "x",
           "y": {
            "bdata": "PQrXo3A9DkA9CtejcD0OQD0K16NwPQ5A",
            "dtype": "f8"
           },
           "yaxis": "y"
          },
          {
           "customdata": {
            "bdata": "2gfaBw==",
            "dtype": "i2",
            "shape": "2, 1"
           },
           "hovertemplate": "<b>%{hovertext}</b><br><br>Import Value: $%{x:,.0f}<br>Tariff Rate: %{y:.2f}%<br>Year: %{customdata[0]}<extra></extra>",
           "hovertext": [
            "Japan",
            "Japan"
           ],
           "ids": [
            "Japan",
            "Japan"
           ],
           "legendgroup": "Japan",
           "marker": {
            "color": "#EF553B",
            "size": [
             31893664128,
             13415829736
            ],
            "sizemode": "area",
            "sizeref": 22548523.354444444,
            "symbol": "circle"
           },
           "mode": "markers",
           "name": "Japan",
           "orientation": "v",
           "showlegend": true,
           "type": "scatter",
           "x": [
            31893664128,
            13415829736
           ],
           "xaxis": "x",
           "y": {
            "bdata": "j8L1KFyPDkCPwvUoXI8OQA==",
            "dtype": "f8"
           },
           "yaxis": "y"
          },
          {
           "customdata": {
            "bdata": "2gfaBw==",
            "dtype": "i2",
            "shape": "2, 1"
           },
           "hovertemplate": "<b>%{hovertext}</b><br><br>Import Value: $%{x:,.0f}<br>Tariff Rate: %{y:.2f}%<br>Year: %{customdata[0]}<extra></extra>",
           "hovertext": [
            "South Korea",
            "South Korea"
           ],
           "ids": [
            "South Korea",
            "South Korea"
           ],
           "legendgroup": "South Korea",
           "marker": {
            "color": "#00cc96",
            "size": [
             6549528269,
             5161374607
            ],
            "sizemode": "area",
            "sizeref": 22548523.354444444,
            "symbol": "circle"
           },
           "mode": "markers",
           "name": "South Korea",
           "orientation": "v",
           "showlegend": true,
           "type": "scatter",
           "x": [
            6549528269,
            5161374607
           ],
           "xaxis": "x",
           "y": {
            "bdata": "pHA9CtejDkCkcD0K16MOQA==",
            "dtype": "f8"
           },
           "yaxis": "y"
          },
          {
           "customdata": {
            "bdata": "2gfaB9oH",
            "dtype": "i2",
            "shape": "3, 1"
           },
           "hovertemplate": "<b>%{hovertext}</b><br><br>Import Value: $%{x:,.0f}<br>Tariff Rate: %{y:.2f}%<br>Year: %{customdata[0]}<extra></extra>",
           "hovertext": [
            "Canada",
            "Canada",
            "Canada"
           ],
           "ids": [
            "Canada",
            "Canada",
            "Canada"
           ],
           "legendgroup": "Canada",
           "marker": {
            "color": "#ab63fa",
            "size": [
             35818201777,
             15283768996,
             866655089
            ],
            "sizemode": "area",
            "sizeref": 22548523.354444444,
            "symbol": "circle"
           },
           "mode": "markers",
           "name": "Canada",
           "orientation": "v",
           "showlegend": true,
           "type": "scatter",
           "x": [
            35818201777,
            15283768996,
            866655089
           ],
           "xaxis": "x",
           "y": {
            "bdata": "AAAAAAAADEAAAAAAAAAMQAAAAAAAAAxA",
            "dtype": "f8"
           },
           "yaxis": "y"
          },
          {
           "customdata": {
            "bdata": "2gfaBw==",
            "dtype": "i2",
            "shape": "2, 1"
           },
           "hovertemplate": "<b>%{hovertext}</b><br><br>Import Value: $%{x:,.0f}<br>Tariff Rate: %{y:.2f}%<br>Year: %{customdata[0]}<extra></extra>",
           "hovertext": [
            "Germany",
            "Germany"
           ],
           "ids": [
            "Germany",
            "Germany"
           ],
           "legendgroup": "Germany",
           "marker": {
            "color": "#FFA15A",
            "size": [
             17106097710,
             6518684183
            ],
            "sizemode": "area",
            "sizeref": 22548523.354444444,
            "symbol": "circle"
           },
           "mode": "markers",
           "name": "Germany",
           "orientation": "v",
           "showlegend": true,
           "type": "scatter",
           "x": [
            17106097710,
            6518684183
           ],
           "xaxis": "x",
           "y": {
            "bdata": "4XoUrkfhDEDhehSuR+EMQA==",
            "dtype": "f8"
           },
           "yaxis": "y"
          },
          {
           "customdata": {
            "bdata": "2gc=",
            "dtype": "i2",
            "shape": "1, 1"
           },
           "hovertemplate": "<b>%{hovertext}</b><br><br>Import Value: $%{x:,.0f}<br>Tariff Rate: %{y:.2f}%<br>Year: %{customdata[0]}<extra></extra>",
           "hovertext": [
            "China"
           ],
           "ids": [
            "China"
           ],
           "legendgroup": "China",
           "marker": {
            "color": "#19d3f3",
            "size": [
             10046793938
            ],
            "sizemode": "area",
            "sizeref": 22548523.354444444,
            "symbol": "circle"
           },
           "mode": "markers",
           "name": "China",
           "orientation": "v",
           "showlegend": true,
           "type": "scatter",
           "x": [
            10046793938
           ],
           "xaxis": "x",
           "y": {
            "bdata": "UrgehetRDkA=",
            "dtype": "f8"
           },
           "yaxis": "y"
          },
          {
           "customdata": {
            "bdata": "2gc=",
            "dtype": "i2",
            "shape": "1, 1"
           },
           "hovertemplate": "<b>%{hovertext}</b><br><br>Import Value: $%{x:,.0f}<br>Tariff Rate: %{y:.2f}%<br>Year: %{customdata[0]}<extra></extra>",
           "hovertext": [
            "United Kingdom"
           ],
           "ids": [
            "United Kingdom"
           ],
           "legendgroup": "United Kingdom",
           "marker": {
            "color": "#FF6692",
            "size": [
             3415768749
            ],
            "sizemode": "area",
            "sizeref": 22548523.354444444,
            "symbol": "circle"
           },
           "mode": "markers",
           "name": "United Kingdom",
           "orientation": "v",
           "showlegend": true,
           "type": "scatter",
           "x": [
            3415768749
           ],
           "xaxis": "x",
           "y": {
            "bdata": "cT0K16NwDUA=",
            "dtype": "f8"
           },
           "yaxis": "y"
          },
          {
           "customdata": {
            "bdata": "2gc=",
            "dtype": "i2",
            "shape": "1, 1"
           },
           "hovertemplate": "<b>%{hovertext}</b><br><br>Import Value: $%{x:,.0f}<br>Tariff Rate: %{y:.2f}%<br>Year: %{customdata[0]}<extra></extra>",
           "hovertext": [
            "Thailand"
           ],
           "ids": [
            "Thailand"
           ],
           "legendgroup": "Thailand",
           "marker": {
            "color": "#FF97FF",
            "size": {
             "bdata": "1AgeZg==",
             "dtype": "i4"
            },
            "sizemode": "area",
            "sizeref": 22548523.354444444,
            "symbol": "circle"
           },
           "mode": "markers",
           "name": "Thailand",
           "orientation": "v",
           "showlegend": true,
           "type": "scatter",
           "x": {
            "bdata": "1AgeZg==",
            "dtype": "i4"
           },
           "xaxis": "x",
           "y": {
            "bdata": "PQrXo3A9EkA=",
            "dtype": "f8"
           },
           "yaxis": "y"
          },
          {
           "customdata": {
            "bdata": "2gc=",
            "dtype": "i2",
            "shape": "1, 1"
           },
           "hovertemplate": "<b>%{hovertext}</b><br><br>Import Value: $%{x:,.0f}<br>Tariff Rate: %{y:.2f}%<br>Year: %{customdata[0]}<extra></extra>",
           "hovertext": [
            "Sweden"
           ],
           "ids": [
            "Sweden"
           ],
           "legendgroup": "Sweden",
           "marker": {
            "color": "#FECB52",
            "size": {
             "bdata": "5F7BPw==",
             "dtype": "i4"
            },
            "sizemode": "area",
            "sizeref": 22548523.354444444,
            "symbol": "circle"
           },
           "mode": "markers",
           "name": "Sweden",
           "orientation": "v",
           "showlegend": true,
           "type": "scatter",
           "x": {
            "bdata": "5F7BPw==",
            "dtype": "i4"
           },
           "xaxis": "x",
           "y": {
            "bdata": "rkfhehSuCUA=",
            "dtype": "f8"
           },
           "yaxis": "y"
          },
          {
           "customdata": {
            "bdata": "2gc=",
            "dtype": "i2",
            "shape": "1, 1"
           },
           "hovertemplate": "<b>%{hovertext}</b><br><br>Import Value: $%{x:,.0f}<br>Tariff Rate: %{y:.2f}%<br>Year: %{customdata[0]}<extra></extra>",
           "hovertext": [
            "Taiwan"
           ],
           "ids": [
            "Taiwan"
           ],
           "legendgroup": "Taiwan",
           "marker": {
            "color": "#636efa",
            "size": {
             "bdata": "gthXfA==",
             "dtype": "i4"
            },
            "sizemode": "area",
            "sizeref": 22548523.354444444,
            "symbol": "circle"
           },
           "mode": "markers",
           "name": "Taiwan",
           "orientation": "v",
           "showlegend": true,
           "type": "scatter",
           "x": {
            "bdata": "gthXfA==",
            "dtype": "i4"
           },
           "xaxis": "x",
           "y": {
            "bdata": "XHz3tLCUD0A=",
            "dtype": "f8"
           },
           "yaxis": "y"
          },
          {
           "customdata": {
            "bdata": "2gc=",
            "dtype": "i2",
            "shape": "1, 1"
           },
           "hovertemplate": "<b>%{hovertext}</b><br><br>Import Value: $%{x:,.0f}<br>Tariff Rate: %{y:.2f}%<br>Year: %{customdata[0]}<extra></extra>",
           "hovertext": [
            "South Africa"
           ],
           "ids": [
            "South Africa"
           ],
           "legendgroup": "South Africa",
           "marker": {
            "color": "#FFA15A",
            "size": {
             "bdata": "pDu+Ww==",
             "dtype": "i4"
            },
            "sizemode": "area",
            "sizeref": 22548523.354444444,
            "symbol": "circle"
           },
           "mode": "markers",
           "name": "South Africa",
           "orientation": "v",
           "showlegend": true,
           "type": "scatter",
           "x": {
            "bdata": "pDu+Ww==",
            "dtype": "i4"
           },
           "xaxis": "x",
           "y": {
            "bdata": "zczMzMzMCkA=",
            "dtype": "f8"
           },
           "yaxis": "y"
          },
          {
           "customdata": {
            "bdata": "2gc=",
            "dtype": "i2",
            "shape": "1, 1"
           },
           "hovertemplate": "<b>%{hovertext}</b><br><br>Import Value: $%{x:,.0f}<br>Tariff Rate: %{y:.2f}%<br>Year: %{customdata[0]}<extra></extra>",
           "hovertext": [
            "Brazil"
           ],
           "ids": [
            "Brazil"
           ],
           "legendgroup": "Brazil",
           "marker": {
            "color": "#FF6692",
            "size": {
             "bdata": "qXS1Tg==",
             "dtype": "i4"
            },
            "sizemode": "area",
            "sizeref": 22548523.354444444,
            "symbol": "circle"
           },
           "mode": "markers",
           "name": "Brazil",
           "orientation": "v",
           "showlegend": true,
           "type": "scatter",
           "x": {
            "bdata": "qXS1Tg==",
            "dtype": "i4"
           },
           "xaxis": "x",
           "y": {
            "bdata": "cT0K16NwDUA=",
            "dtype": "f8"
           },
           "yaxis": "y"
          },
          {
           "customdata": {
            "bdata": "2gc=",
            "dtype": "i2",
            "shape": "1, 1"
           },
           "hovertemplate": "<b>%{hovertext}</b><br><br>Import Value: $%{x:,.0f}<br>Tariff Rate: %{y:.2f}%<br>Year: %{customdata[0]}<extra></extra>",
           "hovertext": [
            "France"
           ],
           "ids": [
            "France"
           ],
           "legendgroup": "France",
           "marker": {
            "color": "#FECB52",
            "size": {
             "bdata": "AafFOQ==",
             "dtype": "i4"
            },
            "sizemode": "area",
            "sizeref": 22548523.354444444,
            "symbol": "circle"
           },
           "mode": "markers",
           "name": "France",
           "orientation": "v",
           "showlegend": true,
           "type": "scatter",
           "x": {
            "bdata": "AafFOQ==",
            "dtype": "i4"
           },
           "xaxis": "x",
           "y": {
            "bdata": "MzMzMzMzD0A=",
            "dtype": "f8"
           },
           "yaxis": "y"
          }
         ],
         "name": "2010"
        },
        {
         "data": [
          {
           "customdata": {
            "bdata": "2QfZB9kH",
            "dtype": "i2",
            "shape": "3, 1"
           },
           "hovertemplate": "<b>%{hovertext}</b><br><br>Import Value: $%{x:,.0f}<br>Tariff Rate: %{y:.2f}%<br>Year: %{customdata[0]}<extra></extra>",
           "hovertext": [
            "Mexico",
            "Mexico",
            "Mexico"
           ],
           "ids": [
            "Mexico",
            "Mexico",
            "Mexico"
           ],
           "legendgroup": "Mexico",
           "marker": {
            "color": "#636efa",
            "size": [
             19190565119,
             15364989981,
             3180445256
            ],
            "sizemode": "area",
            "sizeref": 22548523.354444444,
            "symbol": "circle"
           },
           "mode": "markers",
           "name": "Mexico",
           "orientation": "v",
           "showlegend": true,
           "type": "scatter",
           "x": [
            19190565119,
            15364989981,
            3180445256
           ],
           "xaxis": "x",
           "y": {
            "bdata": "4XoUrkfhDkDhehSuR+EOQOF6FK5H4Q5A",
            "dtype": "f8"
           },
           "yaxis": "y"
          },
          {
           "customdata": {
            "bdata": "2QfZBw==",
            "dtype": "i2",
            "shape": "2, 1"
           },
           "hovertemplate": "<b>%{hovertext}</b><br><br>Import Value: $%{x:,.0f}<br>Tariff Rate: %{y:.2f}%<br>Year: %{customdata[0]}<extra></extra>",
           "hovertext": [
            "Japan",
            "Japan"
           ],
           "ids": [
            "Japan",
            "Japan"
           ],
           "legendgroup": "Japan",
           "marker": {
            "color": "#EF553B",
            "size": [
             23974074574,
             9709956594
            ],
            "sizemode": "area",
            "sizeref": 22548523.354444444,
            "symbol": "circle"
           },
           "mode": "markers",
           "name": "Japan",
           "orientation": "v",
           "showlegend": true,
           "type": "scatter",
           "x": [
            23974074574,
            9709956594
           ],
           "xaxis": "x",
           "y": {
            "bdata": "rkfhehSuDUCuR+F6FK4NQA==",
            "dtype": "f8"
           },
           "yaxis": "y"
          },
          {
           "customdata": {
            "bdata": "2QfZBw==",
            "dtype": "i2",
            "shape": "2, 1"
           },
           "hovertemplate": "<b>%{hovertext}</b><br><br>Import Value: $%{x:,.0f}<br>Tariff Rate: %{y:.2f}%<br>Year: %{customdata[0]}<extra></extra>",
           "hovertext": [
            "South Korea",
            "South Korea"
           ],
           "ids": [
            "South Korea",
            "South Korea"
           ],
           "legendgroup": "South Korea",
           "marker": {
            "color": "#00cc96",
            "size": [
             5695771377,
             2704705145
            ],
            "sizemode": "area",
            "sizeref": 22548523.354444444,
            "symbol": "circle"
           },
           "mode": "markers",
           "name": "South Korea",
           "orientation": "v",
           "showlegend": true,
           "type": "scatter",
           "x": [
            5695771377,
            2704705145
           ],
           "xaxis": "x",
           "y": {
            "bdata": "zczMzMzMDkDNzMzMzMwOQA==",
            "dtype": "f8"
           },
           "yaxis": "y"
          },
          {
           "customdata": {
            "bdata": "2QfZB9kH",
            "dtype": "i2",
            "shape": "3, 1"
           },
           "hovertemplate": "<b>%{hovertext}</b><br><br>Import Value: $%{x:,.0f}<br>Tariff Rate: %{y:.2f}%<br>Year: %{customdata[0]}<extra></extra>",
           "hovertext": [
            "Canada",
            "Canada",
            "Canada"
           ],
           "ids": [
            "Canada",
            "Canada",
            "Canada"
           ],
           "legendgroup": "Canada",
           "marker": {
            "color": "#ab63fa",
            "size": [
             23327767925,
             11048444595,
             1230052509
            ],
            "sizemode": "area",
            "sizeref": 22548523.354444444,
            "symbol": "circle"
           },
           "mode": "markers",
           "name": "Canada",
           "orientation": "v",
           "showlegend": true,
           "type": "scatter",
           "x": [
            23327767925,
            11048444595,
            1230052509
           ],
           "xaxis": "x",
           "y": {
            "bdata": "PQrXo3A9DEA9CtejcD0MQD0K16NwPQxA",
            "dtype": "f8"
           },
           "yaxis": "y"
          },
          {
           "customdata": {
            "bdata": "2QfZBw==",
            "dtype": "i2",
            "shape": "2, 1"
           },
           "hovertemplate": "<b>%{hovertext}</b><br><br>Import Value: $%{x:,.0f}<br>Tariff Rate: %{y:.2f}%<br>Year: %{customdata[0]}<extra></extra>",
           "hovertext": [
            "Germany",
            "Germany"
           ],
           "ids": [
            "Germany",
            "Germany"
           ],
           "legendgroup": "Germany",
           "marker": {
            "color": "#FFA15A",
            "size": [
             11319366092,
             4929255804
            ],
            "sizemode": "area",
            "sizeref": 22548523.354444444,
            "symbol": "circle"
           },
           "mode": "markers",
           "name": "Germany",
           "orientation": "v",
           "showlegend": true,
           "type": "scatter",
           "x": [
            11319366092,
            4929255804
           ],
           "xaxis": "x",
           "y": {
            "bdata": "hetRuB6FDUCF61G4HoUNQA==",
            "dtype": "f8"
           },
           "yaxis": "y"
          },
          {
           "customdata": {
            "bdata": "2Qc=",
            "dtype": "i2",
            "shape": "1, 1"
           },
           "hovertemplate": "<b>%{hovertext}</b><br><br>Import Value: $%{x:,.0f}<br>Tariff Rate: %{y:.2f}%<br>Year: %{customdata[0]}<extra></extra>",
           "hovertext": [
            "China"
           ],
           "ids": [
            "China"
           ],
           "legendgroup": "China",
           "marker": {
            "color": "#19d3f3",
            "size": [
             7400824286
            ],
            "sizemode": "area",
            "sizeref": 22548523.354444444,
            "symbol": "circle"
           },
           "mode": "markers",
           "name": "China",
           "orientation": "v",
           "showlegend": true,
           "type": "scatter",
           "x": [
            7400824286
           ],
           "xaxis": "x",
           "y": {
            "bdata": "j8L1KFyPDkA=",
            "dtype": "f8"
           },
           "yaxis": "y"
          },
          {
           "customdata": {
            "bdata": "2Qc=",
            "dtype": "i2",
            "shape": "1, 1"
           },
           "hovertemplate": "<b>%{hovertext}</b><br><br>Import Value: $%{x:,.0f}<br>Tariff Rate: %{y:.2f}%<br>Year: %{customdata[0]}<extra></extra>",
           "hovertext": [
            "United Kingdom"
           ],
           "ids": [
            "United Kingdom"
           ],
           "legendgroup": "United Kingdom",
           "marker": {
            "color": "#FF6692",
            "size": [
             2252287246
            ],
            "sizemode": "area",
            "sizeref": 22548523.354444444,
            "symbol": "circle"
           },
           "mode": "markers",
           "name": "United Kingdom",
           "orientation": "v",
           "showlegend": true,
           "type": "scatter",
           "x": [
            2252287246
           ],
           "xaxis": "x",
           "y": {
            "bdata": "w/UoXI/CDUA=",
            "dtype": "f8"
           },
           "yaxis": "y"
          },
          {
           "customdata": {
            "bdata": "2Qc=",
            "dtype": "i2",
            "shape": "1, 1"
           },
           "hovertemplate": "<b>%{hovertext}</b><br><br>Import Value: $%{x:,.0f}<br>Tariff Rate: %{y:.2f}%<br>Year: %{customdata[0]}<extra></extra>",
           "hovertext": [
            "Thailand"
           ],
           "ids": [
            "Thailand"
           ],
           "legendgroup": "Thailand",
           "marker": {
            "color": "#FF97FF",
            "size": {
             "bdata": "FLFvNw==",
             "dtype": "i4"
            },
            "sizemode": "area",
            "sizeref": 22548523.354444444,
            "symbol": "circle"
           },
           "mode": "markers",
           "name": "Thailand",
           "orientation": "v",
           "showlegend": true,
           "type": "scatter",
           "x": {
            "bdata": "FLFvNw==",
            "dtype": "i4"
           },
           "xaxis": "x",
           "y": {
            "bdata": "UrgehetREkA=",
            "dtype": "f8"
           },
           "yaxis": "y"
          },
          {
           "customdata": {
            "bdata": "2Qc=",
            "dtype": "i2",
            "shape": "1, 1"
           },
           "hovertemplate": "<b>%{hovertext}</b><br><br>Import Value: $%{x:,.0f}<br>Tariff Rate: %{y:.2f}%<br>Year: %{customdata[0]}<extra></extra>",
           "hovertext": [
            "Sweden"
           ],
           "ids": [
            "Sweden"
           ],
           "legendgroup": "Sweden",
           "marker": {
            "color": "#FECB52",
            "size": {
             "bdata": "p5CoLA==",
             "dtype": "i4"
            },
            "sizemode": "area",
            "sizeref": 22548523.354444444,
            "symbol": "circle"
           },
           "mode": "markers",
           "name": "Sweden",
           "orientation": "v",
           "showlegend": true,
           "type": "scatter",
           "x": {
            "bdata": "p5CoLA==",
            "dtype": "i4"
           },
           "xaxis": "x",
           "y": {
            "bdata": "XI/C9ShcCUA=",
            "dtype": "f8"
           },
           "yaxis": "y"
          },
          {
           "customdata": {
            "bdata": "2Qc=",
            "dtype": "i2",
            "shape": "1, 1"
           },
           "hovertemplate": "<b>%{hovertext}</b><br><br>Import Value: $%{x:,.0f}<br>Tariff Rate: %{y:.2f}%<br>Year: %{customdata[0]}<extra></extra>",
           "hovertext": [
            "Taiwan"
           ],
           "ids": [
            "Taiwan"
           ],
           "legendgroup": "Taiwan",
           "marker": {
            "color": "#636efa",
            "size": {
             "bdata": "LxX4Yw==",
             "dtype": "i4"
            },
            "sizemode": "area",
            "sizeref": 22548523.354444444,
            "symbol": "circle"
           },
           "mode": "markers",
           "name": "Taiwan",
           "orientation": "v",
           "showlegend": true,
           "type": "scatter",
           "x": {
            "bdata": "LxX4Yw==",
            "dtype": "i4"
           },
           "xaxis": "x",
           "y": {
            "bdata": "XHz3tLCUD0A=",
            "dtype": "f8"
           },
           "yaxis": "y"
          },
          {
           "customdata": {
            "bdata": "2Qc=",
            "dtype": "i2",
            "shape": "1, 1"
           },
           "hovertemplate": "<b>%{hovertext}</b><br><br>Import Value: $%{x:,.0f}<br>Tariff Rate: %{y:.2f}%<br>Year: %{customdata[0]}<extra></extra>",
           "hovertext": [
            "South Africa"
           ],
           "ids": [
            "South Africa"
           ],
           "legendgroup": "South Africa",
           "marker": {
            "color": "#FFA15A",
            "size": {
             "bdata": "UTe7UQ==",
             "dtype": "i4"
            },
            "sizemode": "area",
            "sizeref": 22548523.354444444,
            "symbol": "circle"
           },
           "mode": "markers",
           "name": "South Africa",
           "orientation": "v",
           "showlegend": true,
           "type": "scatter",
           "x": {
            "bdata": "UTe7UQ==",
            "dtype": "i4"
           },
           "xaxis": "x",
           "y": {
            "bdata": "hetRuB6FC0A=",
            "dtype": "f8"
           },
           "yaxis": "y"
          },
          {
           "customdata": {
            "bdata": "2Qc=",
            "dtype": "i2",
            "shape": "1, 1"
           },
           "hovertemplate": "<b>%{hovertext}</b><br><br>Import Value: $%{x:,.0f}<br>Tariff Rate: %{y:.2f}%<br>Year: %{customdata[0]}<extra></extra>",
           "hovertext": [
            "Brazil"
           ],
           "ids": [
            "Brazil"
           ],
           "legendgroup": "Brazil",
           "marker": {
            "color": "#FF6692",
            "size": {
             "bdata": "wqZqOg==",
             "dtype": "i4"
            },
            "sizemode": "area",
            "sizeref": 22548523.354444444,
            "symbol": "circle"
           },
           "mode": "markers",
           "name": "Brazil",
           "orientation": "v",
           "showlegend": true,
           "type": "scatter",
           "x": {
            "bdata": "wqZqOg==",
            "dtype": "i4"
           },
           "xaxis": "x",
           "y": {
            "bdata": "16NwPQrXDUA=",
            "dtype": "f8"
           },
           "yaxis": "y"
          },
          {
           "customdata": {
            "bdata": "2Qc=",
            "dtype": "i2",
            "shape": "1, 1"
           },
           "hovertemplate": "<b>%{hovertext}</b><br><br>Import Value: $%{x:,.0f}<br>Tariff Rate: %{y:.2f}%<br>Year: %{customdata[0]}<extra></extra>",
           "hovertext": [
            "France"
           ],
           "ids": [
            "France"
           ],
           "legendgroup": "France",
           "marker": {
            "color": "#FECB52",
            "size": {
             "bdata": "zEsZMw==",
             "dtype": "i4"
            },
            "sizemode": "area",
            "sizeref": 22548523.354444444,
            "symbol": "circle"
           },
           "mode": "markers",
           "name": "France",
           "orientation": "v",
           "showlegend": true,
           "type": "scatter",
           "x": {
            "bdata": "zEsZMw==",
            "dtype": "i4"
           },
           "xaxis": "x",
           "y": {
            "bdata": "4XoUrkfhDkA=",
            "dtype": "f8"
           },
           "yaxis": "y"
          }
         ],
         "name": "2009"
        },
        {
         "data": [
          {
           "customdata": {
            "bdata": "2AfYB9gH",
            "dtype": "i2",
            "shape": "3, 1"
           },
           "hovertemplate": "<b>%{hovertext}</b><br><br>Import Value: $%{x:,.0f}<br>Tariff Rate: %{y:.2f}%<br>Year: %{customdata[0]}<extra></extra>",
           "hovertext": [
            "Mexico",
            "Mexico",
            "Mexico"
           ],
           "ids": [
            "Mexico",
            "Mexico",
            "Mexico"
           ],
           "legendgroup": "Mexico",
           "marker": {
            "color": "#636efa",
            "size": [
             25654723740,
             19795290562,
             2248425964
            ],
            "sizemode": "area",
            "sizeref": 22548523.354444444,
            "symbol": "circle"
           },
           "mode": "markers",
           "name": "Mexico",
           "orientation": "v",
           "showlegend": true,
           "type": "scatter",
           "x": [
            25654723740,
            19795290562,
            2248425964
           ],
           "xaxis": "x",
           "y": {
            "bdata": "UrgehetRDkBSuB6F61EOQFK4HoXrUQ5A",
            "dtype": "f8"
           },
           "yaxis": "y"
          },
          {
           "customdata": {
            "bdata": "2AfYBw==",
            "dtype": "i2",
            "shape": "2, 1"
           },
           "hovertemplate": "<b>%{hovertext}</b><br><br>Import Value: $%{x:,.0f}<br>Tariff Rate: %{y:.2f}%<br>Year: %{customdata[0]}<extra></extra>",
           "hovertext": [
            "Japan",
            "Japan"
           ],
           "ids": [
            "Japan",
            "Japan"
           ],
           "legendgroup": "Japan",
           "marker": {
            "color": "#EF553B",
            "size": [
             40975127629,
             13157308988
            ],
            "sizemode": "area",
            "sizeref": 22548523.354444444,
            "symbol": "circle"
           },
           "mode": "markers",
           "name": "Japan",
           "orientation": "v",
           "showlegend": true,
           "type": "scatter",
           "x": [
            40975127629,
            13157308988
           ],
           "xaxis": "x",
           "y": {
            "bdata": "AAAAAAAADkAAAAAAAAAOQA==",
            "dtype": "f8"
           },
           "yaxis": "y"
          },
          {
           "customdata": {
            "bdata": "2AfYBw==",
            "dtype": "i2",
            "shape": "2, 1"
           },
           "hovertemplate": "<b>%{hovertext}</b><br><br>Import Value: $%{x:,.0f}<br>Tariff Rate: %{y:.2f}%<br>Year: %{customdata[0]}<extra></extra>",
           "hovertext": [
            "South Korea",
            "South Korea"
           ],
           "ids": [
            "South Korea",
            "South Korea"
           ],
           "legendgroup": "South Korea",
           "marker": {
            "color": "#00cc96",
            "size": [
             7413089740,
             3893417871
            ],
            "sizemode": "area",
            "sizeref": 22548523.354444444,
            "symbol": "circle"
           },
           "mode": "markers",
           "name": "South Korea",
           "orientation": "v",
           "showlegend": true,
           "type": "scatter",
           "x": [
            7413089740,
            3893417871
           ],
           "xaxis": "x",
           "y": {
            "bdata": "j8L1KFyPDkCPwvUoXI8OQA==",
            "dtype": "f8"
           },
           "yaxis": "y"
          },
          {
           "customdata": {
            "bdata": "2AfYB9gH",
            "dtype": "i2",
            "shape": "3, 1"
           },
           "hovertemplate": "<b>%{hovertext}</b><br><br>Import Value: $%{x:,.0f}<br>Tariff Rate: %{y:.2f}%<br>Year: %{customdata[0]}<extra></extra>",
           "hovertext": [
            "Canada",
            "Canada",
            "Canada"
           ],
           "ids": [
            "Canada",
            "Canada",
            "Canada"
           ],
           "legendgroup": "Canada",
           "marker": {
            "color": "#ab63fa",
            "size": [
             33575452102,
             16126706233,
             2864371851
            ],
            "sizemode": "area",
            "sizeref": 22548523.354444444,
            "symbol": "circle"
           },
           "mode": "markers",
           "name": "Canada",
           "orientation": "v",
           "showlegend": true,
           "type": "scatter",
           "x": [
            33575452102,
            16126706233,
            2864371851
           ],
           "xaxis": "x",
           "y": {
            "bdata": "7FG4HoXrC0DsUbgehesLQOxRuB6F6wtA",
            "dtype": "f8"
           },
           "yaxis": "y"
          },
          {
           "customdata": {
            "bdata": "2AfYBw==",
            "dtype": "i2",
            "shape": "2, 1"
           },
           "hovertemplate": "<b>%{hovertext}</b><br><br>Import Value: $%{x:,.0f}<br>Tariff Rate: %{y:.2f}%<br>Year: %{customdata[0]}<extra></extra>",
           "hovertext": [
            "Germany",
            "Germany"
           ],
           "ids": [
            "Germany",
            "Germany"
           ],
           "legendgroup": "Germany",
           "marker": {
            "color": "#FFA15A",
            "size": [
             18282476127,
             7409364938
            ],
            "sizemode": "area",
            "sizeref": 22548523.354444444,
            "symbol": "circle"
           },
           "mode": "markers",
           "name": "Germany",
           "orientation": "v",
           "showlegend": true,
           "type": "scatter",
           "x": [
            18282476127,
            7409364938
           ],
           "xaxis": "x",
           "y": {
            "bdata": "XI/C9ShcDUBcj8L1KFwNQA==",
            "dtype": "f8"
           },
           "yaxis": "y"
          },
          {
           "customdata": {
            "bdata": "2Ac=",
            "dtype": "i2",
            "shape": "1, 1"
           },
           "hovertemplate": "<b>%{hovertext}</b><br><br>Import Value: $%{x:,.0f}<br>Tariff Rate: %{y:.2f}%<br>Year: %{customdata[0]}<extra></extra>",
           "hovertext": [
            "China"
           ],
           "ids": [
            "China"
           ],
           "legendgroup": "China",
           "marker": {
            "color": "#19d3f3",
            "size": [
             8877534735
            ],
            "sizemode": "area",
            "sizeref": 22548523.354444444,
            "symbol": "circle"
           },
           "mode": "markers",
           "name": "China",
           "orientation": "v",
           "showlegend": true,
           "type": "scatter",
           "x": [
            8877534735
           ],
           "xaxis": "x",
           "y": {
            "bdata": "AAAAAAAADkA=",
            "dtype": "f8"
           },
           "yaxis": "y"
          },
          {
           "customdata": {
            "bdata": "2Ac=",
            "dtype": "i2",
            "shape": "1, 1"
           },
           "hovertemplate": "<b>%{hovertext}</b><br><br>Import Value: $%{x:,.0f}<br>Tariff Rate: %{y:.2f}%<br>Year: %{customdata[0]}<extra></extra>",
           "hovertext": [
            "United Kingdom"
           ],
           "ids": [
            "United Kingdom"
           ],
           "legendgroup": "United Kingdom",
           "marker": {
            "color": "#FF6692",
            "size": [
             3887154806
            ],
            "sizemode": "area",
            "sizeref": 22548523.354444444,
            "symbol": "circle"
           },
           "mode": "markers",
           "name": "United Kingdom",
           "orientation": "v",
           "showlegend": true,
           "type": "scatter",
           "x": [
            3887154806
           ],
           "xaxis": "x",
           "y": {
            "bdata": "XI/C9ShcDUA=",
            "dtype": "f8"
           },
           "yaxis": "y"
          },
          {
           "customdata": {
            "bdata": "2Ac=",
            "dtype": "i2",
            "shape": "1, 1"
           },
           "hovertemplate": "<b>%{hovertext}</b><br><br>Import Value: $%{x:,.0f}<br>Tariff Rate: %{y:.2f}%<br>Year: %{customdata[0]}<extra></extra>",
           "hovertext": [
            "Thailand"
           ],
           "ids": [
            "Thailand"
           ],
           "legendgroup": "Thailand",
           "marker": {
            "color": "#FF97FF",
            "size": {
             "bdata": "cY4xRw==",
             "dtype": "i4"
            },
            "sizemode": "area",
            "sizeref": 22548523.354444444,
            "symbol": "circle"
           },
           "mode": "markers",
           "name": "Thailand",
           "orientation": "v",
           "showlegend": true,
           "type": "scatter",
           "x": {
            "bdata": "cY4xRw==",
            "dtype": "i4"
           },
           "xaxis": "x",
           "y": {
            "bdata": "uB6F61G4EUA=",
            "dtype": "f8"
           },
           "yaxis": "y"
          },
          {
           "customdata": {
            "bdata": "2Ac=",
            "dtype": "i2",
            "shape": "1, 1"
           },
           "hovertemplate": "<b>%{hovertext}</b><br><br>Import Value: $%{x:,.0f}<br>Tariff Rate: %{y:.2f}%<br>Year: %{customdata[0]}<extra></extra>",
           "hovertext": [
            "Sweden"
           ],
           "ids": [
            "Sweden"
           ],
           "legendgroup": "Sweden",
           "marker": {
            "color": "#FECB52",
            "size": {
             "bdata": "czIKWA==",
             "dtype": "i4"
            },
            "sizemode": "area",
            "sizeref": 22548523.354444444,
            "symbol": "circle"
           },
           "mode": "markers",
           "name": "Sweden",
           "orientation": "v",
           "showlegend": true,
           "type": "scatter",
           "x": {
            "bdata": "czIKWA==",
            "dtype": "i4"
           },
           "xaxis": "x",
           "y": {
            "bdata": "hetRuB6FCUA=",
            "dtype": "f8"
           },
           "yaxis": "y"
          },
          {
           "customdata": {
            "bdata": "2Ac=",
            "dtype": "i2",
            "shape": "1, 1"
           },
           "hovertemplate": "<b>%{hovertext}</b><br><br>Import Value: $%{x:,.0f}<br>Tariff Rate: %{y:.2f}%<br>Year: %{customdata[0]}<extra></extra>",
           "hovertext": [
            "Taiwan"
           ],
           "ids": [
            "Taiwan"
           ],
           "legendgroup": "Taiwan",
           "marker": {
            "color": "#636efa",
            "size": {
             "bdata": "L+SUdQ==",
             "dtype": "i4"
            },
            "sizemode": "area",
            "sizeref": 22548523.354444444,
            "symbol": "circle"
           },
           "mode": "markers",
           "name": "Taiwan",
           "orientation": "v",
           "showlegend": true,
           "type": "scatter",
           "x": {
            "bdata": "L+SUdQ==",
            "dtype": "i4"
           },
           "xaxis": "x",
           "y": {
            "bdata": "XHz3tLCUD0A=",
            "dtype": "f8"
           },
           "yaxis": "y"
          },
          {
           "customdata": {
            "bdata": "2Ac=",
            "dtype": "i2",
            "shape": "1, 1"
           },
           "hovertemplate": "<b>%{hovertext}</b><br><br>Import Value: $%{x:,.0f}<br>Tariff Rate: %{y:.2f}%<br>Year: %{customdata[0]}<extra></extra>",
           "hovertext": [
            "South Africa"
           ],
           "ids": [
            "South Africa"
           ],
           "legendgroup": "South Africa",
           "marker": {
            "color": "#FFA15A",
            "size": {
             "bdata": "4HEzbA==",
             "dtype": "i4"
            },
            "sizemode": "area",
            "sizeref": 22548523.354444444,
            "symbol": "circle"
           },
           "mode": "markers",
           "name": "South Africa",
           "orientation": "v",
           "showlegend": true,
           "type": "scatter",
           "x": {
            "bdata": "4HEzbA==",
            "dtype": "i4"
           },
           "xaxis": "x",
           "y": {
            "bdata": "exSuR+F6DEA=",
            "dtype": "f8"
           },
           "yaxis": "y"
          },
          {
           "customdata": {
            "bdata": "2Ac=",
            "dtype": "i2",
            "shape": "1, 1"
           },
           "hovertemplate": "<b>%{hovertext}</b><br><br>Import Value: $%{x:,.0f}<br>Tariff Rate: %{y:.2f}%<br>Year: %{customdata[0]}<extra></extra>",
           "hovertext": [
            "Brazil"
           ],
           "ids": [
            "Brazil"
           ],
           "legendgroup": "Brazil",
           "marker": {
            "color": "#FF6692",
            "size": {
             "bdata": "iZUhZw==",
             "dtype": "i4"
            },
            "sizemode": "area",
            "sizeref": 22548523.354444444,
            "symbol": "circle"
           },
           "mode": "markers",
           "name": "Brazil",
           "orientation": "v",
           "showlegend": true,
           "type": "scatter",
           "x": {
            "bdata": "iZUhZw==",
            "dtype": "i4"
           },
           "xaxis": "x",
           "y": {
            "bdata": "7FG4HoXrDUA=",
            "dtype": "f8"
           },
           "yaxis": "y"
          },
          {
           "customdata": {
            "bdata": "2Ac=",
            "dtype": "i2",
            "shape": "1, 1"
           },
           "hovertemplate": "<b>%{hovertext}</b><br><br>Import Value: $%{x:,.0f}<br>Tariff Rate: %{y:.2f}%<br>Year: %{customdata[0]}<extra></extra>",
           "hovertext": [
            "Austria"
           ],
           "ids": [
            "Austria"
           ],
           "legendgroup": "Austria",
           "marker": {
            "color": "#FF97FF",
            "size": {
             "bdata": "8816UQ==",
             "dtype": "i4"
            },
            "sizemode": "area",
            "sizeref": 22548523.354444444,
            "symbol": "circle"
           },
           "mode": "markers",
           "name": "Austria",
           "orientation": "v",
           "showlegend": true,
           "type": "scatter",
           "x": {
            "bdata": "8816UQ==",
            "dtype": "i4"
           },
           "xaxis": "x",
           "y": {
            "bdata": "pHA9CtejDEA=",
            "dtype": "f8"
           },
           "yaxis": "y"
          }
         ],
         "name": "2008"
        }
       ],
       "layout": {
        "legend": {
         "itemsizing": "constant",
         "title": {
          "text": "Country"
         },
         "tracegroupgap": 0
        },
        "sliders": [
         {
          "active": 0,
          "currentvalue": {
           "prefix": "Year="
          },
          "len": 0.9,
          "pad": {
           "b": 10,
           "t": 60
          },
          "steps": [
           {
            "args": [
             [
              "2024"
             ],
             {
              "frame": {
               "duration": 0,
               "redraw": false
              },
              "fromcurrent": true,
              "mode": "immediate",
              "transition": {
               "duration": 0,
               "easing": "linear"
              }
             }
            ],
            "label": "2024",
            "method": "animate"
           },
           {
            "args": [
             [
              "2023"
             ],
             {
              "frame": {
               "duration": 0,
               "redraw": false
              },
              "fromcurrent": true,
              "mode": "immediate",
              "transition": {
               "duration": 0,
               "easing": "linear"
              }
             }
            ],
            "label": "2023",
            "method": "animate"
           },
           {
            "args": [
             [
              "2022"
             ],
             {
              "frame": {
               "duration": 0,
               "redraw": false
              },
              "fromcurrent": true,
              "mode": "immediate",
              "transition": {
               "duration": 0,
               "easing": "linear"
              }
             }
            ],
            "label": "2022",
            "method": "animate"
           },
           {
            "args": [
             [
              "2021"
             ],
             {
              "frame": {
               "duration": 0,
               "redraw": false
              },
              "fromcurrent": true,
              "mode": "immediate",
              "transition": {
               "duration": 0,
               "easing": "linear"
              }
             }
            ],
            "label": "2021",
            "method": "animate"
           },
           {
            "args": [
             [
              "2020"
             ],
             {
              "frame": {
               "duration": 0,
               "redraw": false
              },
              "fromcurrent": true,
              "mode": "immediate",
              "transition": {
               "duration": 0,
               "easing": "linear"
              }
             }
            ],
            "label": "2020",
            "method": "animate"
           },
           {
            "args": [
             [
              "2019"
             ],
             {
              "frame": {
               "duration": 0,
               "redraw": false
              },
              "fromcurrent": true,
              "mode": "immediate",
              "transition": {
               "duration": 0,
               "easing": "linear"
              }
             }
            ],
            "label": "2019",
            "method": "animate"
           },
           {
            "args": [
             [
              "2018"
             ],
             {
              "frame": {
               "duration": 0,
               "redraw": false
              },
              "fromcurrent": true,
              "mode": "immediate",
              "transition": {
               "duration": 0,
               "easing": "linear"
              }
             }
            ],
            "label": "2018",
            "method": "animate"
           },
           {
            "args": [
             [
              "2017"
             ],
             {
              "frame": {
               "duration": 0,
               "redraw": false
              },
              "fromcurrent": true,
              "mode": "immediate",
              "transition": {
               "duration": 0,
               "easing": "linear"
              }
             }
            ],
            "label": "2017",
            "method": "animate"
           },
           {
            "args": [
             [
              "2016"
             ],
             {
              "frame": {
               "duration": 0,
               "redraw": false
              },
              "fromcurrent": true,
              "mode": "immediate",
              "transition": {
               "duration": 0,
               "easing": "linear"
              }
             }
            ],
            "label": "2016",
            "method": "animate"
           },
           {
            "args": [
             [
              "2015"
             ],
             {
              "frame": {
               "duration": 0,
               "redraw": false
              },
              "fromcurrent": true,
              "mode": "immediate",
              "transition": {
               "duration": 0,
               "easing": "linear"
              }
             }
            ],
            "label": "2015",
            "method": "animate"
           },
           {
            "args": [
             [
              "2014"
             ],
             {
              "frame": {
               "duration": 0,
               "redraw": false
              },
              "fromcurrent": true,
              "mode": "immediate",
              "transition": {
               "duration": 0,
               "easing": "linear"
              }
             }
            ],
            "label": "2014",
            "method": "animate"
           },
           {
            "args": [
             [
              "2013"
             ],
             {
              "frame": {
               "duration": 0,
               "redraw": false
              },
              "fromcurrent": true,
              "mode": "immediate",
              "transition": {
               "duration": 0,
               "easing": "linear"
              }
             }
            ],
            "label": "2013",
            "method": "animate"
           },
           {
            "args": [
             [
              "2012"
             ],
             {
              "frame": {
               "duration": 0,
               "redraw": false
              },
              "fromcurrent": true,
              "mode": "immediate",
              "transition": {
               "duration": 0,
               "easing": "linear"
              }
             }
            ],
            "label": "2012",
            "method": "animate"
           },
           {
            "args": [
             [
              "2011"
             ],
             {
              "frame": {
               "duration": 0,
               "redraw": false
              },
              "fromcurrent": true,
              "mode": "immediate",
              "transition": {
               "duration": 0,
               "easing": "linear"
              }
             }
            ],
            "label": "2011",
            "method": "animate"
           },
           {
            "args": [
             [
              "2010"
             ],
             {
              "frame": {
               "duration": 0,
               "redraw": false
              },
              "fromcurrent": true,
              "mode": "immediate",
              "transition": {
               "duration": 0,
               "easing": "linear"
              }
             }
            ],
            "label": "2010",
            "method": "animate"
           },
           {
            "args": [
             [
              "2009"
             ],
             {
              "frame": {
               "duration": 0,
               "redraw": false
              },
              "fromcurrent": true,
              "mode": "immediate",
              "transition": {
               "duration": 0,
               "easing": "linear"
              }
             }
            ],
            "label": "2009",
            "method": "animate"
           },
           {
            "args": [
             [
              "2008"
             ],
             {
              "frame": {
               "duration": 0,
               "redraw": false
              },
              "fromcurrent": true,
              "mode": "immediate",
              "transition": {
               "duration": 0,
               "easing": "linear"
              }
             }
            ],
            "label": "2008",
            "method": "animate"
           }
          ],
          "x": 0.1,
          "xanchor": "left",
          "y": 0,
          "yanchor": "top"
         }
        ],
        "template": {
         "data": {
          "bar": [
           {
            "error_x": {
             "color": "#2a3f5f"
            },
            "error_y": {
             "color": "#2a3f5f"
            },
            "marker": {
             "line": {
              "color": "white",
              "width": 0.5
             },
             "pattern": {
              "fillmode": "overlay",
              "size": 10,
              "solidity": 0.2
             }
            },
            "type": "bar"
           }
          ],
          "barpolar": [
           {
            "marker": {
             "line": {
              "color": "white",
              "width": 0.5
             },
             "pattern": {
              "fillmode": "overlay",
              "size": 10,
              "solidity": 0.2
             }
            },
            "type": "barpolar"
           }
          ],
          "carpet": [
           {
            "aaxis": {
             "endlinecolor": "#2a3f5f",
             "gridcolor": "#C8D4E3",
             "linecolor": "#C8D4E3",
             "minorgridcolor": "#C8D4E3",
             "startlinecolor": "#2a3f5f"
            },
            "baxis": {
             "endlinecolor": "#2a3f5f",
             "gridcolor": "#C8D4E3",
             "linecolor": "#C8D4E3",
             "minorgridcolor": "#C8D4E3",
             "startlinecolor": "#2a3f5f"
            },
            "type": "carpet"
           }
          ],
          "choropleth": [
           {
            "colorbar": {
             "outlinewidth": 0,
             "ticks": ""
            },
            "type": "choropleth"
           }
          ],
          "contour": [
           {
            "colorbar": {
             "outlinewidth": 0,
             "ticks": ""
            },
            "colorscale": [
             [
              0,
              "#0d0887"
             ],
             [
              0.1111111111111111,
              "#46039f"
             ],
             [
              0.2222222222222222,
              "#7201a8"
             ],
             [
              0.3333333333333333,
              "#9c179e"
             ],
             [
              0.4444444444444444,
              "#bd3786"
             ],
             [
              0.5555555555555556,
              "#d8576b"
             ],
             [
              0.6666666666666666,
              "#ed7953"
             ],
             [
              0.7777777777777778,
              "#fb9f3a"
             ],
             [
              0.8888888888888888,
              "#fdca26"
             ],
             [
              1,
              "#f0f921"
             ]
            ],
            "type": "contour"
           }
          ],
          "contourcarpet": [
           {
            "colorbar": {
             "outlinewidth": 0,
             "ticks": ""
            },
            "type": "contourcarpet"
           }
          ],
          "heatmap": [
           {
            "colorbar": {
             "outlinewidth": 0,
             "ticks": ""
            },
            "colorscale": [
             [
              0,
              "#0d0887"
             ],
             [
              0.1111111111111111,
              "#46039f"
             ],
             [
              0.2222222222222222,
              "#7201a8"
             ],
             [
              0.3333333333333333,
              "#9c179e"
             ],
             [
              0.4444444444444444,
              "#bd3786"
             ],
             [
              0.5555555555555556,
              "#d8576b"
             ],
             [
              0.6666666666666666,
              "#ed7953"
             ],
             [
              0.7777777777777778,
              "#fb9f3a"
             ],
             [
              0.8888888888888888,
              "#fdca26"
             ],
             [
              1,
              "#f0f921"
             ]
            ],
            "type": "heatmap"
           }
          ],
          "histogram": [
           {
            "marker": {
             "pattern": {
              "fillmode": "overlay",
              "size": 10,
              "solidity": 0.2
             }
            },
            "type": "histogram"
           }
          ],
          "histogram2d": [
           {
            "colorbar": {
             "outlinewidth": 0,
             "ticks": ""
            },
            "colorscale": [
             [
              0,
              "#0d0887"
             ],
             [
              0.1111111111111111,
              "#46039f"
             ],
             [
              0.2222222222222222,
              "#7201a8"
             ],
             [
              0.3333333333333333,
              "#9c179e"
             ],
             [
              0.4444444444444444,
              "#bd3786"
             ],
             [
              0.5555555555555556,
              "#d8576b"
             ],
             [
              0.6666666666666666,
              "#ed7953"
             ],
             [
              0.7777777777777778,
              "#fb9f3a"
             ],
             [
              0.8888888888888888,
              "#fdca26"
             ],
             [
              1,
              "#f0f921"
             ]
            ],
            "type": "histogram2d"
           }
          ],
          "histogram2dcontour": [
           {
            "colorbar": {
             "outlinewidth": 0,
             "ticks": ""
            },
            "colorscale": [
             [
              0,
              "#0d0887"
             ],
             [
              0.1111111111111111,
              "#46039f"
             ],
             [
              0.2222222222222222,
              "#7201a8"
             ],
             [
              0.3333333333333333,
              "#9c179e"
             ],
             [
              0.4444444444444444,
              "#bd3786"
             ],
             [
              0.5555555555555556,
              "#d8576b"
             ],
             [
              0.6666666666666666,
              "#ed7953"
             ],
             [
              0.7777777777777778,
              "#fb9f3a"
             ],
             [
              0.8888888888888888,
              "#fdca26"
             ],
             [
              1,
              "#f0f921"
             ]
            ],
            "type": "histogram2dcontour"
           }
          ],
          "mesh3d": [
           {
            "colorbar": {
             "outlinewidth": 0,
             "ticks": ""
            },
            "type": "mesh3d"
           }
          ],
          "parcoords": [
           {
            "line": {
             "colorbar": {
              "outlinewidth": 0,
              "ticks": ""
             }
            },
            "type": "parcoords"
           }
          ],
          "pie": [
           {
            "automargin": true,
            "type": "pie"
           }
          ],
          "scatter": [
           {
            "fillpattern": {
             "fillmode": "overlay",
             "size": 10,
             "solidity": 0.2
            },
            "type": "scatter"
           }
          ],
          "scatter3d": [
           {
            "line": {
             "colorbar": {
              "outlinewidth": 0,
              "ticks": ""
             }
            },
            "marker": {
             "colorbar": {
              "outlinewidth": 0,
              "ticks": ""
             }
            },
            "type": "scatter3d"
           }
          ],
          "scattercarpet": [
           {
            "marker": {
             "colorbar": {
              "outlinewidth": 0,
              "ticks": ""
             }
            },
            "type": "scattercarpet"
           }
          ],
          "scattergeo": [
           {
            "marker": {
             "colorbar": {
              "outlinewidth": 0,
              "ticks": ""
             }
            },
            "type": "scattergeo"
           }
          ],
          "scattergl": [
           {
            "marker": {
             "colorbar": {
              "outlinewidth": 0,
              "ticks": ""
             }
            },
            "type": "scattergl"
           }
          ],
          "scattermap": [
           {
            "marker": {
             "colorbar": {
              "outlinewidth": 0,
              "ticks": ""
             }
            },
            "type": "scattermap"
           }
          ],
          "scattermapbox": [
           {
            "marker": {
             "colorbar": {
              "outlinewidth": 0,
              "ticks": ""
             }
            },
            "type": "scattermapbox"
           }
          ],
          "scatterpolar": [
           {
            "marker": {
             "colorbar": {
              "outlinewidth": 0,
              "ticks": ""
             }
            },
            "type": "scatterpolar"
           }
          ],
          "scatterpolargl": [
           {
            "marker": {
             "colorbar": {
              "outlinewidth": 0,
              "ticks": ""
             }
            },
            "type": "scatterpolargl"
           }
          ],
          "scatterternary": [
           {
            "marker": {
             "colorbar": {
              "outlinewidth": 0,
              "ticks": ""
             }
            },
            "type": "scatterternary"
           }
          ],
          "surface": [
           {
            "colorbar": {
             "outlinewidth": 0,
             "ticks": ""
            },
            "colorscale": [
             [
              0,
              "#0d0887"
             ],
             [
              0.1111111111111111,
              "#46039f"
             ],
             [
              0.2222222222222222,
              "#7201a8"
             ],
             [
              0.3333333333333333,
              "#9c179e"
             ],
             [
              0.4444444444444444,
              "#bd3786"
             ],
             [
              0.5555555555555556,
              "#d8576b"
             ],
             [
              0.6666666666666666,
              "#ed7953"
             ],
             [
              0.7777777777777778,
              "#fb9f3a"
             ],
             [
              0.8888888888888888,
              "#fdca26"
             ],
             [
              1,
              "#f0f921"
             ]
            ],
            "type": "surface"
           }
          ],
          "table": [
           {
            "cells": {
             "fill": {
              "color": "#EBF0F8"
             },
             "line": {
              "color": "white"
             }
            },
            "header": {
             "fill": {
              "color": "#C8D4E3"
             },
             "line": {
              "color": "white"
             }
            },
            "type": "table"
           }
          ]
         },
         "layout": {
          "annotationdefaults": {
           "arrowcolor": "#2a3f5f",
           "arrowhead": 0,
           "arrowwidth": 1
          },
          "autotypenumbers": "strict",
          "coloraxis": {
           "colorbar": {
            "outlinewidth": 0,
            "ticks": ""
           }
          },
          "colorscale": {
           "diverging": [
            [
             0,
             "#8e0152"
            ],
            [
             0.1,
             "#c51b7d"
            ],
            [
             0.2,
             "#de77ae"
            ],
            [
             0.3,
             "#f1b6da"
            ],
            [
             0.4,
             "#fde0ef"
            ],
            [
             0.5,
             "#f7f7f7"
            ],
            [
             0.6,
             "#e6f5d0"
            ],
            [
             0.7,
             "#b8e186"
            ],
            [
             0.8,
             "#7fbc41"
            ],
            [
             0.9,
             "#4d9221"
            ],
            [
             1,
             "#276419"
            ]
           ],
           "sequential": [
            [
             0,
             "#0d0887"
            ],
            [
             0.1111111111111111,
             "#46039f"
            ],
            [
             0.2222222222222222,
             "#7201a8"
            ],
            [
             0.3333333333333333,
             "#9c179e"
            ],
            [
             0.4444444444444444,
             "#bd3786"
            ],
            [
             0.5555555555555556,
             "#d8576b"
            ],
            [
             0.6666666666666666,
             "#ed7953"
            ],
            [
             0.7777777777777778,
             "#fb9f3a"
            ],
            [
             0.8888888888888888,
             "#fdca26"
            ],
            [
             1,
             "#f0f921"
            ]
           ],
           "sequentialminus": [
            [
             0,
             "#0d0887"
            ],
            [
             0.1111111111111111,
             "#46039f"
            ],
            [
             0.2222222222222222,
             "#7201a8"
            ],
            [
             0.3333333333333333,
             "#9c179e"
            ],
            [
             0.4444444444444444,
             "#bd3786"
            ],
            [
             0.5555555555555556,
             "#d8576b"
            ],
            [
             0.6666666666666666,
             "#ed7953"
            ],
            [
             0.7777777777777778,
             "#fb9f3a"
            ],
            [
             0.8888888888888888,
             "#fdca26"
            ],
            [
             1,
             "#f0f921"
            ]
           ]
          },
          "colorway": [
           "#636efa",
           "#EF553B",
           "#00cc96",
           "#ab63fa",
           "#FFA15A",
           "#19d3f3",
           "#FF6692",
           "#B6E880",
           "#FF97FF",
           "#FECB52"
          ],
          "font": {
           "color": "#2a3f5f"
          },
          "geo": {
           "bgcolor": "white",
           "lakecolor": "white",
           "landcolor": "white",
           "showlakes": true,
           "showland": true,
           "subunitcolor": "#C8D4E3"
          },
          "hoverlabel": {
           "align": "left"
          },
          "hovermode": "closest",
          "mapbox": {
           "style": "light"
          },
          "paper_bgcolor": "white",
          "plot_bgcolor": "white",
          "polar": {
           "angularaxis": {
            "gridcolor": "#EBF0F8",
            "linecolor": "#EBF0F8",
            "ticks": ""
           },
           "bgcolor": "white",
           "radialaxis": {
            "gridcolor": "#EBF0F8",
            "linecolor": "#EBF0F8",
            "ticks": ""
           }
          },
          "scene": {
           "xaxis": {
            "backgroundcolor": "white",
            "gridcolor": "#DFE8F3",
            "gridwidth": 2,
            "linecolor": "#EBF0F8",
            "showbackground": true,
            "ticks": "",
            "zerolinecolor": "#EBF0F8"
           },
           "yaxis": {
            "backgroundcolor": "white",
            "gridcolor": "#DFE8F3",
            "gridwidth": 2,
            "linecolor": "#EBF0F8",
            "showbackground": true,
            "ticks": "",
            "zerolinecolor": "#EBF0F8"
           },
           "zaxis": {
            "backgroundcolor": "white",
            "gridcolor": "#DFE8F3",
            "gridwidth": 2,
            "linecolor": "#EBF0F8",
            "showbackground": true,
            "ticks": "",
            "zerolinecolor": "#EBF0F8"
           }
          },
          "shapedefaults": {
           "line": {
            "color": "#2a3f5f"
           }
          },
          "ternary": {
           "aaxis": {
            "gridcolor": "#DFE8F3",
            "linecolor": "#A2B1C6",
            "ticks": ""
           },
           "baxis": {
            "gridcolor": "#DFE8F3",
            "linecolor": "#A2B1C6",
            "ticks": ""
           },
           "bgcolor": "white",
           "caxis": {
            "gridcolor": "#DFE8F3",
            "linecolor": "#A2B1C6",
            "ticks": ""
           }
          },
          "title": {
           "x": 0.05
          },
          "xaxis": {
           "automargin": true,
           "gridcolor": "#EBF0F8",
           "linecolor": "#EBF0F8",
           "ticks": "",
           "title": {
            "standoff": 15
           },
           "zerolinecolor": "#EBF0F8",
           "zerolinewidth": 2
          },
          "yaxis": {
           "automargin": true,
           "gridcolor": "#EBF0F8",
           "linecolor": "#EBF0F8",
           "ticks": "",
           "title": {
            "standoff": 15
           },
           "zerolinecolor": "#EBF0F8",
           "zerolinewidth": 2
          }
         }
        },
        "title": {
         "text": "Correlation between Import Value and Tariff Rate (Top 20 Countries by Import Value)"
        },
        "updatemenus": [
         {
          "buttons": [
           {
            "args": [
             null,
             {
              "frame": {
               "duration": 500,
               "redraw": false
              },
              "fromcurrent": true,
              "mode": "immediate",
              "transition": {
               "duration": 500,
               "easing": "linear"
              }
             }
            ],
            "label": "&#9654;",
            "method": "animate"
           },
           {
            "args": [
             [
              null
             ],
             {
              "frame": {
               "duration": 0,
               "redraw": false
              },
              "fromcurrent": true,
              "mode": "immediate",
              "transition": {
               "duration": 0,
               "easing": "linear"
              }
             }
            ],
            "label": "&#9724;",
            "method": "animate"
           }
          ],
          "direction": "left",
          "pad": {
           "r": 10,
           "t": 70
          },
          "showactive": false,
          "type": "buttons",
          "x": 0.1,
          "xanchor": "right",
          "y": 0,
          "yanchor": "top"
         }
        ],
        "xaxis": {
         "anchor": "y",
         "domain": [
          0,
          1
         ],
         "title": {
          "text": "Import Value (log scale)"
         },
         "type": "log"
        },
        "yaxis": {
         "anchor": "x",
         "domain": [
          0,
          1
         ],
         "title": {
          "text": "Tariff Rate (%)"
         }
        }
       }
      }
     },
     "metadata": {},
     "output_type": "display_data"
    }
   ],
   "source": [
    "import_tariff_df = combined_df[['country', 'year', 'import value', 'mfn_by_us']].copy()\n",
    "import_tariff_df = import_tariff_df.sort_values(by=['year', 'import value'], ascending=[False, False])\n",
    "import_tariff_df = import_tariff_df.groupby('year').head(20).reset_index(drop=True)\n",
    "\n",
    "if __name__ == \"__main__\":\n",
    "\n",
    "    fig = plot_animated_scatter(\n",
    "        import_tariff_df,\n",
    "        x_col='import value',\n",
    "        y_col='mfn_by_us',\n",
    "        size_col='import value',\n",
    "        color_col='country',\n",
    "        animation_col='year',\n",
    "        title='Correlation between Import Value and Tariff Rate (Top 20 Countries by Import Value)'\n",
    "    )\n",
    "\n",
    "    fig.show()"
   ]
  },
  {
   "cell_type": "markdown",
   "id": "cb5bd5c5",
   "metadata": {},
   "source": [
    "#### Canada and Mexico are the top 2 partners for export as well as import. Let us filter them out and visualize the trend between tariff and import/export for next top 10 partners."
   ]
  },
  {
   "cell_type": "code",
   "execution_count": 29,
   "id": "600133c7",
   "metadata": {},
   "outputs": [],
   "source": [
    "# build a new dataframe from combined_df with columns for country, category, year, Export value and mfn_on_us\n",
    "export_tariff_df1 = combined_df[['country', 'category', 'year', 'export value', 'mfn_on_us']].copy()\n",
    "\n",
    "# Copy export_tariff_df1 into a dataframe called filtered_df with grouping on country and category and aggregate to get top 10 countries by export value for each year\n",
    "filtered_df = export_tariff_df1[export_tariff_df1['country'].isin(['Canada', 'Mexico']) == False]\n",
    "\n",
    "# Keep only rows where category is 'Passenger Vehicles'\n",
    "filtered_df = filtered_df[filtered_df['category'] == 'Passenger Vehicles']\n",
    "\n",
    "# Aggregate the export value by country and category\n",
    "filtered_df = filtered_df.groupby(['country']).agg({'export value': 'sum', 'mfn_on_us': 'mean'}).reset_index()\n",
    "\n",
    "# Sort the dataframe by Export_value in descending order and take top 10 countries by export value for each category\n",
    "filtered_df = filtered_df.sort_values('export value', ascending=False).groupby(['country']).head(10)"
   ]
  },
  {
   "cell_type": "code",
   "execution_count": 31,
   "id": "f28a8d83",
   "metadata": {},
   "outputs": [
    {
     "data": {
      "text/html": [
       "<div>\n",
       "<style scoped>\n",
       "    .dataframe tbody tr th:only-of-type {\n",
       "        vertical-align: middle;\n",
       "    }\n",
       "\n",
       "    .dataframe tbody tr th {\n",
       "        vertical-align: top;\n",
       "    }\n",
       "\n",
       "    .dataframe thead th {\n",
       "        text-align: right;\n",
       "    }\n",
       "</style>\n",
       "<table border=\"1\" class=\"dataframe\">\n",
       "  <thead>\n",
       "    <tr style=\"text-align: right;\">\n",
       "      <th></th>\n",
       "      <th>country</th>\n",
       "      <th>year</th>\n",
       "      <th>export value</th>\n",
       "      <th>Tariff on US</th>\n",
       "    </tr>\n",
       "  </thead>\n",
       "  <tbody>\n",
       "    <tr>\n",
       "      <th>222</th>\n",
       "      <td>Australia</td>\n",
       "      <td>2008</td>\n",
       "      <td>564502516</td>\n",
       "      <td>4.61</td>\n",
       "    </tr>\n",
       "    <tr>\n",
       "      <th>225</th>\n",
       "      <td>Australia</td>\n",
       "      <td>2009</td>\n",
       "      <td>271049394</td>\n",
       "      <td>3.85</td>\n",
       "    </tr>\n",
       "    <tr>\n",
       "      <th>228</th>\n",
       "      <td>Australia</td>\n",
       "      <td>2010</td>\n",
       "      <td>471495141</td>\n",
       "      <td>3.08</td>\n",
       "    </tr>\n",
       "    <tr>\n",
       "      <th>231</th>\n",
       "      <td>Australia</td>\n",
       "      <td>2011</td>\n",
       "      <td>735422102</td>\n",
       "      <td>3.05</td>\n",
       "    </tr>\n",
       "    <tr>\n",
       "      <th>234</th>\n",
       "      <td>Australia</td>\n",
       "      <td>2012</td>\n",
       "      <td>1081054868</td>\n",
       "      <td>3.01</td>\n",
       "    </tr>\n",
       "    <tr>\n",
       "      <th>237</th>\n",
       "      <td>Australia</td>\n",
       "      <td>2013</td>\n",
       "      <td>1388250828</td>\n",
       "      <td>3.03</td>\n",
       "    </tr>\n",
       "    <tr>\n",
       "      <th>240</th>\n",
       "      <td>Australia</td>\n",
       "      <td>2014</td>\n",
       "      <td>1847630380</td>\n",
       "      <td>3.02</td>\n",
       "    </tr>\n",
       "    <tr>\n",
       "      <th>243</th>\n",
       "      <td>Australia</td>\n",
       "      <td>2015</td>\n",
       "      <td>1649200775</td>\n",
       "      <td>2.79</td>\n",
       "    </tr>\n",
       "    <tr>\n",
       "      <th>246</th>\n",
       "      <td>Australia</td>\n",
       "      <td>2016</td>\n",
       "      <td>1281662454</td>\n",
       "      <td>2.79</td>\n",
       "    </tr>\n",
       "    <tr>\n",
       "      <th>249</th>\n",
       "      <td>Australia</td>\n",
       "      <td>2017</td>\n",
       "      <td>1608810594</td>\n",
       "      <td>2.78</td>\n",
       "    </tr>\n",
       "  </tbody>\n",
       "</table>\n",
       "</div>"
      ],
      "text/plain": [
       "       country  year  export value  Tariff on US\n",
       "222  Australia  2008     564502516          4.61\n",
       "225  Australia  2009     271049394          3.85\n",
       "228  Australia  2010     471495141          3.08\n",
       "231  Australia  2011     735422102          3.05\n",
       "234  Australia  2012    1081054868          3.01\n",
       "237  Australia  2013    1388250828          3.03\n",
       "240  Australia  2014    1847630380          3.02\n",
       "243  Australia  2015    1649200775          2.79\n",
       "246  Australia  2016    1281662454          2.79\n",
       "249  Australia  2017    1608810594          2.78"
      ]
     },
     "execution_count": 31,
     "metadata": {},
     "output_type": "execute_result"
    }
   ],
   "source": [
    "# filtered_df gives top 10 countries by export value for passenger vehicles excluding Canada and Mexico.\n",
    "# Take the top 10 countries from this dataframe in a list.\n",
    "top_10_countries = filtered_df['country'].unique().tolist()[:10]\n",
    "\n",
    "# Now create a new dataframe from combined_df where the country is in top_10_countries and category is 'Passenger Vehicles'\n",
    "top_countries_df = combined_df[(combined_df['country'].isin(top_10_countries)) & (combined_df['category'] == 'Passenger Vehicles')].copy()\n",
    "\n",
    "# Keep columns country, year, Export_value and mfn_on_us_simple_avg\n",
    "top_countries_df = top_countries_df[['country', 'year', 'export value', 'mfn_on_us']].copy()\n",
    "\n",
    "top_countries_df.rename(columns={\n",
    "    'mfn_on_us': 'Tariff on US'}, \n",
    "    inplace=True)\n",
    "\n",
    "top_countries_df.head(10)"
   ]
  },
  {
   "cell_type": "markdown",
   "id": "541b1ff5",
   "metadata": {},
   "source": [
    "#### plot 10 subplots for each country with 2 y axis - One for export value and the other for tariff rate. Each subplot should represent one country."
   ]
  },
  {
   "cell_type": "code",
   "execution_count": 35,
   "id": "3b119106",
   "metadata": {},
   "outputs": [],
   "source": [
    "# plot 10 subplots for each country with 2 y axis - One for export value and the other for tariff rate. \n",
    "# Each subplot should represent one country.\n",
    "\n",
    "def plot_export_tariff_subplots(df, countries, Y1, Y2, cols=3):\n",
    "    \n",
    "    if len(countries) == 0:\n",
    "        raise ValueError('No countries to plot. Ensure countries list is populated')\n",
    "\n",
    "    # grid layout\n",
    "    rows = math.ceil(len(countries) / cols)\n",
    "\n",
    "    # create specs with secondary_y for every subplot\n",
    "    specs = [[{\"secondary_y\": True} for _ in range(cols)] for _ in range(rows)]\n",
    "\n",
    "    # prepare subplot titles (pad if needed)\n",
    "    subplot_titles = countries + [\"\"] * (rows * cols - len(countries))\n",
    "\n",
    "    fig = make_subplots(rows=rows, cols=cols, subplot_titles=subplot_titles, shared_xaxes=False, specs=specs)\n",
    "\n",
    "    # iterate and add traces per country\n",
    "    for i, country in enumerate(countries):\n",
    "        row = i // cols + 1\n",
    "        col = i % cols + 1\n",
    "\n",
    "        country_data = df[df['country'] == country].sort_values('year')\n",
    "        # ensure year is numeric/sortable\n",
    "        try:\n",
    "            country_data['year'] = pd.to_numeric(country_data['year'], errors='coerce')\n",
    "        except Exception:\n",
    "            pass\n",
    "\n",
    "        # Export value on primary y-axis (hide per-country legend entries)\n",
    "        fig.add_trace(\n",
    "            go.Scatter(\n",
    "                x=country_data['year'],\n",
    "                y=country_data[Y1],   \n",
    "                mode='lines+markers',\n",
    "                name=f'Y1',\n",
    "                line=dict(color='blue'),\n",
    "                showlegend=False\n",
    "            ),\n",
    "            row=row, col=col, secondary_y=False\n",
    "        )\n",
    "\n",
    "        # Tariff rate on secondary y-axis (hide per-country legend entries)\n",
    "        fig.add_trace(\n",
    "            go.Scatter(\n",
    "                x=country_data['year'],\n",
    "                y=country_data[Y2],\n",
    "                mode='lines+markers',\n",
    "                name=f'Tariff Rate',\n",
    "                line=dict(color='red'),\n",
    "                showlegend=False\n",
    "            ),\n",
    "            row=row, col=col, secondary_y=True\n",
    "        )\n",
    "        # Update y-axis titles for this subplot\n",
    "        fig.update_yaxes(title_text=Y1, row=row, col=col, secondary_y=False)\n",
    "        fig.update_yaxes(title_text='Tariff Rate (%)', row=row, col=col, secondary_y=True)  \n",
    "\n",
    "    # Add a single legend mapping colors to metric names (one entry each)\n",
    "    # We add invisible traces with the desired legend names/colors so the legend shows only these two entries.\n",
    "    fig.add_trace(\n",
    "        go.Scatter(x=[None], y=[None], mode='lines', line=dict(color='blue'), name=Y1),\n",
    "        row=1, col=1, secondary_y=False\n",
    "    )\n",
    "    fig.add_trace(\n",
    "        go.Scatter(x=[None], y=[None], mode='lines', line=dict(color='red'), name='Tariff Rate (%)'),\n",
    "        row=1, col=1, secondary_y=True\n",
    "    )\n",
    "    # Layout adjustments\n",
    "    fig.update_layout(height=300 * rows, width=1200, title_text=f'{Y1} and Tariff Rate by Country (Top)', showlegend=True)\n",
    "    # tighten spacing\n",
    "    fig.update_layout(margin=dict(t=80, l=50, r=50,\n",
    "                                    b=50))\n",
    "    return fig"
   ]
  },
  {
   "cell_type": "code",
   "execution_count": 36,
   "id": "d060c9b2",
   "metadata": {},
   "outputs": [
    {
     "data": {
      "application/vnd.plotly.v1+json": {
       "config": {
        "plotlyServerURL": "https://plot.ly"
       },
       "data": [
        {
         "line": {
          "color": "blue"
         },
         "mode": "lines+markers",
         "name": "Y1",
         "showlegend": false,
         "type": "scatter",
         "x": {
          "bdata": "2AfZB9oH2wfcB90H3gffB+AH4QfiB+MH5AflB+YH5wfoBw==",
          "dtype": "i2"
         },
         "xaxis": "x",
         "y": [
          7271930736,
          4359799043,
          3633810812,
          5146003729,
          5857684381,
          4745975309,
          5272829307,
          5910717531,
          6356555766,
          5721504301,
          5416613521,
          6651557562,
          6498904046,
          7258458199,
          7205388022,
          8496591494,
          7538936258
         ],
         "yaxis": "y"
        },
        {
         "line": {
          "color": "red"
         },
         "mode": "lines+markers",
         "name": "Tariff Rate",
         "showlegend": false,
         "type": "scatter",
         "x": {
          "bdata": "2AfZB9oH2wfcB90H3gffB+AH4QfiB+MH5AflB+YH5wfoBw==",
          "dtype": "i2"
         },
         "xaxis": "x",
         "y": {
          "bdata": "w/UoXI/CEkCPwvUoXI8UQMP1KFyPwhRA16NwPQrXFED2KFyPwvUUQI/C9ShcjxVAXI/C9ShcFUAUrkfhehQVQJqZmZmZmRRA7FG4HoXrFEAzMzMzMzMUQFyPwvUoXBRA16NwPQrXE0AK16NwPQoUQD0K16NwPRNAii8+mYf3H0CKLz6Zh/cfQA==",
          "dtype": "f8"
         },
         "yaxis": "y2"
        },
        {
         "line": {
          "color": "blue"
         },
         "mode": "lines+markers",
         "name": "Y1",
         "showlegend": false,
         "type": "scatter",
         "x": {
          "bdata": "2AfZB9oH2wfcB90H3gffB+AH4QfiB+MH5AflB+YH5wfoBw==",
          "dtype": "i2"
         },
         "xaxis": "x2",
         "y": [
          681596584,
          754526827,
          2921382708,
          4306360159,
          4959652931,
          7531612003,
          9942175219,
          8264903454,
          8211990469,
          9526202379,
          6238289558,
          6984084476,
          5957317167,
          6278802297,
          5024574204,
          6063085338,
          4775689891
         ],
         "yaxis": "y3"
        },
        {
         "line": {
          "color": "red"
         },
         "mode": "lines+markers",
         "name": "Tariff Rate",
         "showlegend": false,
         "type": "scatter",
         "x": {
          "bdata": "2AfZB9oH2wfcB90H3gffB+AH4QfiB+MH5AflB+YH5wfoBw==",
          "dtype": "i2"
         },
         "xaxis": "x2",
         "y": {
          "bdata": "CtejcD0KI0BSuB6F69EiQClcj8L1KCNAPQrXo3A9I0C4HoXrUTgjQDMzMzMzMyNArkfhehQuI0CuR+F6FC4mQNejcD0K1yVA9ihcj8J1JUAAAAAAAIAjQKRwPQrXoxxA9ihcj8L1HEDXo3A9CtccQHE9CtejcBxAii8+mYf3H0CKLz6Zh/cfQA==",
          "dtype": "f8"
         },
         "yaxis": "y4"
        },
        {
         "line": {
          "color": "blue"
         },
         "mode": "lines+markers",
         "name": "Y1",
         "showlegend": false,
         "type": "scatter",
         "x": {
          "bdata": "2AfZB9oH2wfcB90H3gffB+AH4QfiB+MH5AflB+YH5wfoBw==",
          "dtype": "i2"
         },
         "xaxis": "x3",
         "y": [
          2687034032,
          1396648256,
          2938581471,
          3513189412,
          4838045032,
          4740250708,
          3794319146,
          3790058130,
          2881392553,
          1668277941,
          1775740598,
          1517237225,
          1243503839,
          1469986454,
          1744865722,
          2339134865,
          1761205605
         ],
         "yaxis": "y5"
        },
        {
         "line": {
          "color": "red"
         },
         "mode": "lines+markers",
         "name": "Tariff Rate",
         "showlegend": false,
         "type": "scatter",
         "x": {
          "bdata": "2AfZB9oH2wfcB90H3gffB+AH4QfiB+MH5AflB+YH5wfoBw==",
          "dtype": "i2"
         },
         "xaxis": "x3",
         "y": {
          "bdata": "16NwPQrXCUApXI/C9SgCQB6F61G4HgxACtejcD0KE0DNzMzMzMwRQM3MzMzMzBFA7FG4HoXrEUDhehSuR+ETQI/C9ShcjxNAPQrXo3A9E0DNzMzMzMwUQFyPwvUoXBZA7FG4HoXrF0DsUbgehesXQOxRuB6F6xdAii8+mYf3H0CKLz6Zh/cfQA==",
          "dtype": "f8"
         },
         "yaxis": "y6"
        },
        {
         "line": {
          "color": "blue"
         },
         "mode": "lines+markers",
         "name": "Y1",
         "showlegend": false,
         "type": "scatter",
         "x": {
          "bdata": "2AfZB9oH2wfcB90H3gffB+AH4QfiB+MH5AflB+YH5wfoBw==",
          "dtype": "i2"
         },
         "xaxis": "x4",
         "y": [
          1799478615,
          550584794,
          1045120624,
          1192574437,
          1818622363,
          2141941944,
          2162718008,
          2122690664,
          1605293038,
          1366056839,
          1244937033,
          1154707351,
          811436264,
          1070647419,
          1687900533,
          2166286395,
          2160723518
         ],
         "yaxis": "y7"
        },
        {
         "line": {
          "color": "red"
         },
         "mode": "lines+markers",
         "name": "Tariff Rate",
         "showlegend": false,
         "type": "scatter",
         "x": {
          "bdata": "2AfZB9oH2wfcB90H3gffB+AH4QfiB+MH5AflB+YH5wfoBw==",
          "dtype": "i2"
         },
         "xaxis": "x4",
         "y": {
          "bdata": "j8L1KFyPFEB7FK5H4XoUQEjhehSuxxNAFK5H4XoUE0A9CtejcD0TQEjhehSuRxNAH4XrUbgeE0AfhetRuB4TQLgehetRuBJAAAAAAAAAFUDhehSuR+EUQPYoXI/C9RJA7FG4HoXrEkDD9Shcj8ISQMP1KFyPwhJAii8+mYf3H0CKLz6Zh/cfQA==",
          "dtype": "f8"
         },
         "yaxis": "y8"
        },
        {
         "line": {
          "color": "blue"
         },
         "mode": "lines+markers",
         "name": "Y1",
         "showlegend": false,
         "type": "scatter",
         "x": {
          "bdata": "2AfZB9oH2wfcB90H3gffB+AH4QfiB+MH5AflB+YH5wfoBw==",
          "dtype": "i2"
         },
         "xaxis": "x5",
         "y": [
          228776236,
          116102279,
          313069970,
          369576948,
          570039460,
          713276427,
          943071401,
          1234509992,
          1551940345,
          1514422023,
          1652562353,
          1890693470,
          2550843049,
          3163180996,
          3912035009,
          2673221895,
          2126151923
         ],
         "yaxis": "y9"
        },
        {
         "line": {
          "color": "red"
         },
         "mode": "lines+markers",
         "name": "Tariff Rate",
         "showlegend": false,
         "type": "scatter",
         "x": {
          "bdata": "2AfZB9oH2wfcB90H3gffB+AH4QfiB+MH5AflB+YH5wfoBw==",
          "dtype": "i2"
         },
         "xaxis": "x5",
         "y": {
          "bdata": "SOF6FK7HJkBxPQrXo3AmQLgehetROChASOF6FK7HJ0DNzMzMzEwoQGZmZmZmZilA16NwPQpXKUCPwvUoXI8rQD0K16NwPStAj8L1KFwPK0AK16NwPQorQDMzMzMzsytAXI/C9ShcLEBI4XoUrscrQFK4HoXr0StAii8+mYf3H0CKLz6Zh/cfQA==",
          "dtype": "f8"
         },
         "yaxis": "y10"
        },
        {
         "line": {
          "color": "blue"
         },
         "mode": "lines+markers",
         "name": "Y1",
         "showlegend": false,
         "type": "scatter",
         "x": {
          "bdata": "2AfZB9oH2wfcB90H3gffB+AH4QfiB+MH5AflB+YH5wfoBw==",
          "dtype": "i2"
         },
         "xaxis": "x6",
         "y": {
          "bdata": "9J+lIbLiJxDlcRoclqbVK5SWb0DMBr9SLJogbofOTGL2nWRMYoDkX85eWVZXi/djNWETOpn34FPRb75YT5awZQT8Plg=",
          "dtype": "i4"
         },
         "yaxis": "y11"
        },
        {
         "line": {
          "color": "red"
         },
         "mode": "lines+markers",
         "name": "Tariff Rate",
         "showlegend": false,
         "type": "scatter",
         "x": {
          "bdata": "2AfZB9oH2wfcB90H3gffB+AH4QfiB+MH5AflB+YH5wfoBw==",
          "dtype": "i2"
         },
         "xaxis": "x6",
         "y": {
          "bdata": "cT0K16NwEkDNzMzMzMwOQKRwPQrXowhAZmZmZmZmCEAUrkfhehQIQD0K16NwPQhAKVyPwvUoCEBSuB6F61EGQFK4HoXrUQZAPQrXo3A9BkBmZmZmZmYGQMP1KFyPwgVA16NwPQrXBUDXo3A9CtcFQJqZmZmZmQVAii8+mYf3H0CKLz6Zh/cfQA==",
          "dtype": "f8"
         },
         "yaxis": "y12"
        },
        {
         "line": {
          "color": "blue"
         },
         "mode": "lines+markers",
         "name": "Y1",
         "showlegend": false,
         "type": "scatter",
         "x": {
          "bdata": "2AfZB9oH2wfcB90H3gffB+AH4QfiB+MH5AflB+YH5wfoBw==",
          "dtype": "i2"
         },
         "xaxis": "x7",
         "y": [
          181493474,
          48280081,
          53719436,
          63211799,
          64619302,
          98848903,
          293220511,
          315292947,
          383954529,
          594035964,
          655488140,
          4893851817,
          3648827771,
          2870048017,
          1771266040,
          2304258681,
          1615410021
         ],
         "yaxis": "y13"
        },
        {
         "line": {
          "color": "red"
         },
         "mode": "lines+markers",
         "name": "Tariff Rate",
         "showlegend": false,
         "type": "scatter",
         "x": {
          "bdata": "2AfZB9oH2wfcB90H3gffB+AH4QfiB+MH5AflB+YH5wfoBw==",
          "dtype": "i2"
         },
         "xaxis": "x7",
         "y": {
          "bdata": "7FG4HoXrEkCkcD0K16MSQNejcD0K1xJAexSuR+F6E0DXo3A9CtcSQD0K16NwPRNAMzMzMzMzE0Bcj8L1KFwTQClcj8L1KBNAAAAAAAAAE0AAAAAAAAATQBSuR+F6FBNA16NwPQrXEkCF61G4HoUTQOF6FK5H4RJAii8+mYf3H0CKLz6Zh/cfQA==",
          "dtype": "f8"
         },
         "yaxis": "y14"
        },
        {
         "line": {
          "color": "blue"
         },
         "mode": "lines+markers",
         "name": "Y1",
         "showlegend": false,
         "type": "scatter",
         "x": {
          "bdata": "2AfZB9oH2wfcB90H3gffB+AH4QfiB+MH5AflB+YH5wfoBw==",
          "dtype": "i2"
         },
         "xaxis": "x8",
         "y": {
          "bdata": "xC2iNJdJhRx+gOMvo6p/Rkb1w0ihfxNIXla/V7fsTWgKTpp0cnBqXTqjs0xyCgBGILWtTeUMfCYYm5wkfM0iJsCS9y0=",
          "dtype": "i4"
         },
         "yaxis": "y15"
        },
        {
         "line": {
          "color": "red"
         },
         "mode": "lines+markers",
         "name": "Tariff Rate",
         "showlegend": false,
         "type": "scatter",
         "x": {
          "bdata": "2AfZB9oH2wfcB90H3gffB+AH4QfiB+MH5AflB+YH5wfoBw==",
          "dtype": "i2"
         },
         "xaxis": "x8",
         "y": {
          "bdata": "4XoUrkfhEkDsUbgehesSQI/C9ShcjxNAexSuR+F6E0B7FK5H4XoTQI/C9ShcjxNAhetRuB6FE0CkcD0K16MTQK5H4XoUrhNASOF6FK5HE0AK16NwPQoTQB+F61G4HhNA4XoUrkfhEkBxPQrXo3ALQGZmZmZmZgpAii8+mYf3H0CKLz6Zh/cfQA==",
          "dtype": "f8"
         },
         "yaxis": "y16"
        },
        {
         "line": {
          "color": "blue"
         },
         "mode": "lines+markers",
         "name": "Y1",
         "showlegend": false,
         "type": "scatter",
         "x": {
          "bdata": "2AfZB9oH2wfcB90H3gffB+AH4QfiB+MH5AflB+YH5wfoBw==",
          "dtype": "i2"
         },
         "xaxis": "x9",
         "y": {
          "bdata": "WigRLMCUQRn4FigqTg82LycBZDdtpMw7ziasKsi0CCsfiUwjn14LIkoQZypkrkwq5R3HGKNsAiYdEm8tLDsFK6aVJR4=",
          "dtype": "i4"
         },
         "yaxis": "y17"
        },
        {
         "line": {
          "color": "red"
         },
         "mode": "lines+markers",
         "name": "Tariff Rate",
         "showlegend": false,
         "type": "scatter",
         "x": {
          "bdata": "2AfZB9oH2wfcB90H3gffB+AH4QfiB+MH5AflB+YH5wfoBw==",
          "dtype": "i2"
         },
         "xaxis": "x9",
         "y": {
          "bdata": "SOF6FK5HEkBcj8L1KFwSQHE9CtejcBJAcT0K16NwEkAfhetRuB4SQM3MzMzMzBFAMzMzMzMzEkApXI/C9SgSQClcj8L1KBJACtejcD0KEkBI4XoUrkcUQD0K16NwPRRAFK5H4XoUEkAfhetRuB4UQNejcD0K1xJAii8+mYf3H0CKLz6Zh/cfQA==",
          "dtype": "f8"
         },
         "yaxis": "y18"
        },
        {
         "line": {
          "color": "blue"
         },
         "mode": "lines+markers",
         "name": "Y1",
         "showlegend": false,
         "type": "scatter",
         "x": {
          "bdata": "2AfZB9oH2wfcB90H3gffB+AH4QfiB+MH5AflB+YH5wfoBw==",
          "dtype": "i2"
         },
         "xaxis": "x10",
         "y": {
          "bdata": "uVgiF1CXMworg6ML7SATFNFZ/B3sYIQb8HuUIPV9GR9X4Xca1dm8HyUe4CDsBVU7KwoFKoZemileVxwsBkG/Q9//IzA=",
          "dtype": "i4"
         },
         "yaxis": "y19"
        },
        {
         "line": {
          "color": "red"
         },
         "mode": "lines+markers",
         "name": "Tariff Rate",
         "showlegend": false,
         "type": "scatter",
         "x": {
          "bdata": "2AfZB9oH2wfcB90H3gffB+AH4QfiB+MH5AflB+YH5wfoBw==",
          "dtype": "i2"
         },
         "xaxis": "x10",
         "y": {
          "bdata": "KVyPwvUoEkBmZmZmZmYSQLgehetRuBBApHA9CtejEkCkcD0K16MRQArXo3A9CgdAmpmZmZmZEkDD9Shcj8IQQMP1KFyPwhFAhetRuB6FEkAK16NwPQoTQK5H4XoUrh9A16NwPQrXEUAUrkfhehQSQJqZmZmZmRBAii8+mYf3H0CKLz6Zh/cfQA==",
          "dtype": "f8"
         },
         "yaxis": "y20"
        },
        {
         "line": {
          "color": "blue"
         },
         "mode": "lines",
         "name": "export value",
         "type": "scatter",
         "x": [
          null
         ],
         "xaxis": "x",
         "y": [
          null
         ],
         "yaxis": "y"
        },
        {
         "line": {
          "color": "red"
         },
         "mode": "lines",
         "name": "Tariff Rate (%)",
         "type": "scatter",
         "x": [
          null
         ],
         "xaxis": "x",
         "y": [
          null
         ],
         "yaxis": "y2"
        }
       ],
       "layout": {
        "annotations": [
         {
          "font": {
           "size": 16
          },
          "showarrow": false,
          "text": "Germany",
          "x": 0.11222222222222222,
          "xanchor": "center",
          "xref": "paper",
          "y": 1,
          "yanchor": "bottom",
          "yref": "paper"
         },
         {
          "font": {
           "size": 16
          },
          "showarrow": false,
          "text": "China",
          "x": 0.47,
          "xanchor": "center",
          "xref": "paper",
          "y": 1,
          "yanchor": "bottom",
          "yref": "paper"
         },
         {
          "font": {
           "size": 16
          },
          "showarrow": false,
          "text": "Saudi Arabia",
          "x": 0.8277777777777777,
          "xanchor": "center",
          "xref": "paper",
          "y": 1,
          "yanchor": "bottom",
          "yref": "paper"
         },
         {
          "font": {
           "size": 16
          },
          "showarrow": false,
          "text": "United Arab Emirates",
          "x": 0.11222222222222222,
          "xanchor": "center",
          "xref": "paper",
          "y": 0.71875,
          "yanchor": "bottom",
          "yref": "paper"
         },
         {
          "font": {
           "size": 16
          },
          "showarrow": false,
          "text": "South Korea",
          "x": 0.47,
          "xanchor": "center",
          "xref": "paper",
          "y": 0.71875,
          "yanchor": "bottom",
          "yref": "paper"
         },
         {
          "font": {
           "size": 16
          },
          "showarrow": false,
          "text": "Australia",
          "x": 0.8277777777777777,
          "xanchor": "center",
          "xref": "paper",
          "y": 0.71875,
          "yanchor": "bottom",
          "yref": "paper"
         },
         {
          "font": {
           "size": 16
          },
          "showarrow": false,
          "text": "Belgium",
          "x": 0.11222222222222222,
          "xanchor": "center",
          "xref": "paper",
          "y": 0.4375,
          "yanchor": "bottom",
          "yref": "paper"
         },
         {
          "font": {
           "size": 16
          },
          "showarrow": false,
          "text": "United Kingdom",
          "x": 0.47,
          "xanchor": "center",
          "xref": "paper",
          "y": 0.4375,
          "yanchor": "bottom",
          "yref": "paper"
         },
         {
          "font": {
           "size": 16
          },
          "showarrow": false,
          "text": "Kuwait",
          "x": 0.8277777777777777,
          "xanchor": "center",
          "xref": "paper",
          "y": 0.4375,
          "yanchor": "bottom",
          "yref": "paper"
         },
         {
          "font": {
           "size": 16
          },
          "showarrow": false,
          "text": "Japan",
          "x": 0.11222222222222222,
          "xanchor": "center",
          "xref": "paper",
          "y": 0.15625,
          "yanchor": "bottom",
          "yref": "paper"
         }
        ],
        "height": 1200,
        "margin": {
         "b": 50,
         "l": 50,
         "r": 50,
         "t": 80
        },
        "showlegend": true,
        "template": {
         "data": {
          "bar": [
           {
            "error_x": {
             "color": "#2a3f5f"
            },
            "error_y": {
             "color": "#2a3f5f"
            },
            "marker": {
             "line": {
              "color": "#E5ECF6",
              "width": 0.5
             },
             "pattern": {
              "fillmode": "overlay",
              "size": 10,
              "solidity": 0.2
             }
            },
            "type": "bar"
           }
          ],
          "barpolar": [
           {
            "marker": {
             "line": {
              "color": "#E5ECF6",
              "width": 0.5
             },
             "pattern": {
              "fillmode": "overlay",
              "size": 10,
              "solidity": 0.2
             }
            },
            "type": "barpolar"
           }
          ],
          "carpet": [
           {
            "aaxis": {
             "endlinecolor": "#2a3f5f",
             "gridcolor": "white",
             "linecolor": "white",
             "minorgridcolor": "white",
             "startlinecolor": "#2a3f5f"
            },
            "baxis": {
             "endlinecolor": "#2a3f5f",
             "gridcolor": "white",
             "linecolor": "white",
             "minorgridcolor": "white",
             "startlinecolor": "#2a3f5f"
            },
            "type": "carpet"
           }
          ],
          "choropleth": [
           {
            "colorbar": {
             "outlinewidth": 0,
             "ticks": ""
            },
            "type": "choropleth"
           }
          ],
          "contour": [
           {
            "colorbar": {
             "outlinewidth": 0,
             "ticks": ""
            },
            "colorscale": [
             [
              0,
              "#0d0887"
             ],
             [
              0.1111111111111111,
              "#46039f"
             ],
             [
              0.2222222222222222,
              "#7201a8"
             ],
             [
              0.3333333333333333,
              "#9c179e"
             ],
             [
              0.4444444444444444,
              "#bd3786"
             ],
             [
              0.5555555555555556,
              "#d8576b"
             ],
             [
              0.6666666666666666,
              "#ed7953"
             ],
             [
              0.7777777777777778,
              "#fb9f3a"
             ],
             [
              0.8888888888888888,
              "#fdca26"
             ],
             [
              1,
              "#f0f921"
             ]
            ],
            "type": "contour"
           }
          ],
          "contourcarpet": [
           {
            "colorbar": {
             "outlinewidth": 0,
             "ticks": ""
            },
            "type": "contourcarpet"
           }
          ],
          "heatmap": [
           {
            "colorbar": {
             "outlinewidth": 0,
             "ticks": ""
            },
            "colorscale": [
             [
              0,
              "#0d0887"
             ],
             [
              0.1111111111111111,
              "#46039f"
             ],
             [
              0.2222222222222222,
              "#7201a8"
             ],
             [
              0.3333333333333333,
              "#9c179e"
             ],
             [
              0.4444444444444444,
              "#bd3786"
             ],
             [
              0.5555555555555556,
              "#d8576b"
             ],
             [
              0.6666666666666666,
              "#ed7953"
             ],
             [
              0.7777777777777778,
              "#fb9f3a"
             ],
             [
              0.8888888888888888,
              "#fdca26"
             ],
             [
              1,
              "#f0f921"
             ]
            ],
            "type": "heatmap"
           }
          ],
          "histogram": [
           {
            "marker": {
             "pattern": {
              "fillmode": "overlay",
              "size": 10,
              "solidity": 0.2
             }
            },
            "type": "histogram"
           }
          ],
          "histogram2d": [
           {
            "colorbar": {
             "outlinewidth": 0,
             "ticks": ""
            },
            "colorscale": [
             [
              0,
              "#0d0887"
             ],
             [
              0.1111111111111111,
              "#46039f"
             ],
             [
              0.2222222222222222,
              "#7201a8"
             ],
             [
              0.3333333333333333,
              "#9c179e"
             ],
             [
              0.4444444444444444,
              "#bd3786"
             ],
             [
              0.5555555555555556,
              "#d8576b"
             ],
             [
              0.6666666666666666,
              "#ed7953"
             ],
             [
              0.7777777777777778,
              "#fb9f3a"
             ],
             [
              0.8888888888888888,
              "#fdca26"
             ],
             [
              1,
              "#f0f921"
             ]
            ],
            "type": "histogram2d"
           }
          ],
          "histogram2dcontour": [
           {
            "colorbar": {
             "outlinewidth": 0,
             "ticks": ""
            },
            "colorscale": [
             [
              0,
              "#0d0887"
             ],
             [
              0.1111111111111111,
              "#46039f"
             ],
             [
              0.2222222222222222,
              "#7201a8"
             ],
             [
              0.3333333333333333,
              "#9c179e"
             ],
             [
              0.4444444444444444,
              "#bd3786"
             ],
             [
              0.5555555555555556,
              "#d8576b"
             ],
             [
              0.6666666666666666,
              "#ed7953"
             ],
             [
              0.7777777777777778,
              "#fb9f3a"
             ],
             [
              0.8888888888888888,
              "#fdca26"
             ],
             [
              1,
              "#f0f921"
             ]
            ],
            "type": "histogram2dcontour"
           }
          ],
          "mesh3d": [
           {
            "colorbar": {
             "outlinewidth": 0,
             "ticks": ""
            },
            "type": "mesh3d"
           }
          ],
          "parcoords": [
           {
            "line": {
             "colorbar": {
              "outlinewidth": 0,
              "ticks": ""
             }
            },
            "type": "parcoords"
           }
          ],
          "pie": [
           {
            "automargin": true,
            "type": "pie"
           }
          ],
          "scatter": [
           {
            "fillpattern": {
             "fillmode": "overlay",
             "size": 10,
             "solidity": 0.2
            },
            "type": "scatter"
           }
          ],
          "scatter3d": [
           {
            "line": {
             "colorbar": {
              "outlinewidth": 0,
              "ticks": ""
             }
            },
            "marker": {
             "colorbar": {
              "outlinewidth": 0,
              "ticks": ""
             }
            },
            "type": "scatter3d"
           }
          ],
          "scattercarpet": [
           {
            "marker": {
             "colorbar": {
              "outlinewidth": 0,
              "ticks": ""
             }
            },
            "type": "scattercarpet"
           }
          ],
          "scattergeo": [
           {
            "marker": {
             "colorbar": {
              "outlinewidth": 0,
              "ticks": ""
             }
            },
            "type": "scattergeo"
           }
          ],
          "scattergl": [
           {
            "marker": {
             "colorbar": {
              "outlinewidth": 0,
              "ticks": ""
             }
            },
            "type": "scattergl"
           }
          ],
          "scattermap": [
           {
            "marker": {
             "colorbar": {
              "outlinewidth": 0,
              "ticks": ""
             }
            },
            "type": "scattermap"
           }
          ],
          "scattermapbox": [
           {
            "marker": {
             "colorbar": {
              "outlinewidth": 0,
              "ticks": ""
             }
            },
            "type": "scattermapbox"
           }
          ],
          "scatterpolar": [
           {
            "marker": {
             "colorbar": {
              "outlinewidth": 0,
              "ticks": ""
             }
            },
            "type": "scatterpolar"
           }
          ],
          "scatterpolargl": [
           {
            "marker": {
             "colorbar": {
              "outlinewidth": 0,
              "ticks": ""
             }
            },
            "type": "scatterpolargl"
           }
          ],
          "scatterternary": [
           {
            "marker": {
             "colorbar": {
              "outlinewidth": 0,
              "ticks": ""
             }
            },
            "type": "scatterternary"
           }
          ],
          "surface": [
           {
            "colorbar": {
             "outlinewidth": 0,
             "ticks": ""
            },
            "colorscale": [
             [
              0,
              "#0d0887"
             ],
             [
              0.1111111111111111,
              "#46039f"
             ],
             [
              0.2222222222222222,
              "#7201a8"
             ],
             [
              0.3333333333333333,
              "#9c179e"
             ],
             [
              0.4444444444444444,
              "#bd3786"
             ],
             [
              0.5555555555555556,
              "#d8576b"
             ],
             [
              0.6666666666666666,
              "#ed7953"
             ],
             [
              0.7777777777777778,
              "#fb9f3a"
             ],
             [
              0.8888888888888888,
              "#fdca26"
             ],
             [
              1,
              "#f0f921"
             ]
            ],
            "type": "surface"
           }
          ],
          "table": [
           {
            "cells": {
             "fill": {
              "color": "#EBF0F8"
             },
             "line": {
              "color": "white"
             }
            },
            "header": {
             "fill": {
              "color": "#C8D4E3"
             },
             "line": {
              "color": "white"
             }
            },
            "type": "table"
           }
          ]
         },
         "layout": {
          "annotationdefaults": {
           "arrowcolor": "#2a3f5f",
           "arrowhead": 0,
           "arrowwidth": 1
          },
          "autotypenumbers": "strict",
          "coloraxis": {
           "colorbar": {
            "outlinewidth": 0,
            "ticks": ""
           }
          },
          "colorscale": {
           "diverging": [
            [
             0,
             "#8e0152"
            ],
            [
             0.1,
             "#c51b7d"
            ],
            [
             0.2,
             "#de77ae"
            ],
            [
             0.3,
             "#f1b6da"
            ],
            [
             0.4,
             "#fde0ef"
            ],
            [
             0.5,
             "#f7f7f7"
            ],
            [
             0.6,
             "#e6f5d0"
            ],
            [
             0.7,
             "#b8e186"
            ],
            [
             0.8,
             "#7fbc41"
            ],
            [
             0.9,
             "#4d9221"
            ],
            [
             1,
             "#276419"
            ]
           ],
           "sequential": [
            [
             0,
             "#0d0887"
            ],
            [
             0.1111111111111111,
             "#46039f"
            ],
            [
             0.2222222222222222,
             "#7201a8"
            ],
            [
             0.3333333333333333,
             "#9c179e"
            ],
            [
             0.4444444444444444,
             "#bd3786"
            ],
            [
             0.5555555555555556,
             "#d8576b"
            ],
            [
             0.6666666666666666,
             "#ed7953"
            ],
            [
             0.7777777777777778,
             "#fb9f3a"
            ],
            [
             0.8888888888888888,
             "#fdca26"
            ],
            [
             1,
             "#f0f921"
            ]
           ],
           "sequentialminus": [
            [
             0,
             "#0d0887"
            ],
            [
             0.1111111111111111,
             "#46039f"
            ],
            [
             0.2222222222222222,
             "#7201a8"
            ],
            [
             0.3333333333333333,
             "#9c179e"
            ],
            [
             0.4444444444444444,
             "#bd3786"
            ],
            [
             0.5555555555555556,
             "#d8576b"
            ],
            [
             0.6666666666666666,
             "#ed7953"
            ],
            [
             0.7777777777777778,
             "#fb9f3a"
            ],
            [
             0.8888888888888888,
             "#fdca26"
            ],
            [
             1,
             "#f0f921"
            ]
           ]
          },
          "colorway": [
           "#636efa",
           "#EF553B",
           "#00cc96",
           "#ab63fa",
           "#FFA15A",
           "#19d3f3",
           "#FF6692",
           "#B6E880",
           "#FF97FF",
           "#FECB52"
          ],
          "font": {
           "color": "#2a3f5f"
          },
          "geo": {
           "bgcolor": "white",
           "lakecolor": "white",
           "landcolor": "#E5ECF6",
           "showlakes": true,
           "showland": true,
           "subunitcolor": "white"
          },
          "hoverlabel": {
           "align": "left"
          },
          "hovermode": "closest",
          "mapbox": {
           "style": "light"
          },
          "paper_bgcolor": "white",
          "plot_bgcolor": "#E5ECF6",
          "polar": {
           "angularaxis": {
            "gridcolor": "white",
            "linecolor": "white",
            "ticks": ""
           },
           "bgcolor": "#E5ECF6",
           "radialaxis": {
            "gridcolor": "white",
            "linecolor": "white",
            "ticks": ""
           }
          },
          "scene": {
           "xaxis": {
            "backgroundcolor": "#E5ECF6",
            "gridcolor": "white",
            "gridwidth": 2,
            "linecolor": "white",
            "showbackground": true,
            "ticks": "",
            "zerolinecolor": "white"
           },
           "yaxis": {
            "backgroundcolor": "#E5ECF6",
            "gridcolor": "white",
            "gridwidth": 2,
            "linecolor": "white",
            "showbackground": true,
            "ticks": "",
            "zerolinecolor": "white"
           },
           "zaxis": {
            "backgroundcolor": "#E5ECF6",
            "gridcolor": "white",
            "gridwidth": 2,
            "linecolor": "white",
            "showbackground": true,
            "ticks": "",
            "zerolinecolor": "white"
           }
          },
          "shapedefaults": {
           "line": {
            "color": "#2a3f5f"
           }
          },
          "ternary": {
           "aaxis": {
            "gridcolor": "white",
            "linecolor": "white",
            "ticks": ""
           },
           "baxis": {
            "gridcolor": "white",
            "linecolor": "white",
            "ticks": ""
           },
           "bgcolor": "#E5ECF6",
           "caxis": {
            "gridcolor": "white",
            "linecolor": "white",
            "ticks": ""
           }
          },
          "title": {
           "x": 0.05
          },
          "xaxis": {
           "automargin": true,
           "gridcolor": "white",
           "linecolor": "white",
           "ticks": "",
           "title": {
            "standoff": 15
           },
           "zerolinecolor": "white",
           "zerolinewidth": 2
          },
          "yaxis": {
           "automargin": true,
           "gridcolor": "white",
           "linecolor": "white",
           "ticks": "",
           "title": {
            "standoff": 15
           },
           "zerolinecolor": "white",
           "zerolinewidth": 2
          }
         }
        },
        "title": {
         "text": "export value and Tariff Rate by Country (Top)"
        },
        "width": 1200,
        "xaxis": {
         "anchor": "y",
         "domain": [
          0,
          0.22444444444444445
         ]
        },
        "xaxis10": {
         "anchor": "y19",
         "domain": [
          0,
          0.22444444444444445
         ]
        },
        "xaxis11": {
         "anchor": "y21",
         "domain": [
          0.35777777777777775,
          0.5822222222222222
         ]
        },
        "xaxis12": {
         "anchor": "y23",
         "domain": [
          0.7155555555555555,
          0.94
         ]
        },
        "xaxis2": {
         "anchor": "y3",
         "domain": [
          0.35777777777777775,
          0.5822222222222222
         ]
        },
        "xaxis3": {
         "anchor": "y5",
         "domain": [
          0.7155555555555555,
          0.94
         ]
        },
        "xaxis4": {
         "anchor": "y7",
         "domain": [
          0,
          0.22444444444444445
         ]
        },
        "xaxis5": {
         "anchor": "y9",
         "domain": [
          0.35777777777777775,
          0.5822222222222222
         ]
        },
        "xaxis6": {
         "anchor": "y11",
         "domain": [
          0.7155555555555555,
          0.94
         ]
        },
        "xaxis7": {
         "anchor": "y13",
         "domain": [
          0,
          0.22444444444444445
         ]
        },
        "xaxis8": {
         "anchor": "y15",
         "domain": [
          0.35777777777777775,
          0.5822222222222222
         ]
        },
        "xaxis9": {
         "anchor": "y17",
         "domain": [
          0.7155555555555555,
          0.94
         ]
        },
        "yaxis": {
         "anchor": "x",
         "domain": [
          0.84375,
          1
         ],
         "title": {
          "text": "export value"
         }
        },
        "yaxis10": {
         "anchor": "x5",
         "overlaying": "y9",
         "side": "right",
         "title": {
          "text": "Tariff Rate (%)"
         }
        },
        "yaxis11": {
         "anchor": "x6",
         "domain": [
          0.5625,
          0.71875
         ],
         "title": {
          "text": "export value"
         }
        },
        "yaxis12": {
         "anchor": "x6",
         "overlaying": "y11",
         "side": "right",
         "title": {
          "text": "Tariff Rate (%)"
         }
        },
        "yaxis13": {
         "anchor": "x7",
         "domain": [
          0.28125,
          0.4375
         ],
         "title": {
          "text": "export value"
         }
        },
        "yaxis14": {
         "anchor": "x7",
         "overlaying": "y13",
         "side": "right",
         "title": {
          "text": "Tariff Rate (%)"
         }
        },
        "yaxis15": {
         "anchor": "x8",
         "domain": [
          0.28125,
          0.4375
         ],
         "title": {
          "text": "export value"
         }
        },
        "yaxis16": {
         "anchor": "x8",
         "overlaying": "y15",
         "side": "right",
         "title": {
          "text": "Tariff Rate (%)"
         }
        },
        "yaxis17": {
         "anchor": "x9",
         "domain": [
          0.28125,
          0.4375
         ],
         "title": {
          "text": "export value"
         }
        },
        "yaxis18": {
         "anchor": "x9",
         "overlaying": "y17",
         "side": "right",
         "title": {
          "text": "Tariff Rate (%)"
         }
        },
        "yaxis19": {
         "anchor": "x10",
         "domain": [
          0,
          0.15625
         ],
         "title": {
          "text": "export value"
         }
        },
        "yaxis2": {
         "anchor": "x",
         "overlaying": "y",
         "side": "right",
         "title": {
          "text": "Tariff Rate (%)"
         }
        },
        "yaxis20": {
         "anchor": "x10",
         "overlaying": "y19",
         "side": "right",
         "title": {
          "text": "Tariff Rate (%)"
         }
        },
        "yaxis21": {
         "anchor": "x11",
         "domain": [
          0,
          0.15625
         ]
        },
        "yaxis22": {
         "anchor": "x11",
         "overlaying": "y21",
         "side": "right"
        },
        "yaxis23": {
         "anchor": "x12",
         "domain": [
          0,
          0.15625
         ]
        },
        "yaxis24": {
         "anchor": "x12",
         "overlaying": "y23",
         "side": "right"
        },
        "yaxis3": {
         "anchor": "x2",
         "domain": [
          0.84375,
          1
         ],
         "title": {
          "text": "export value"
         }
        },
        "yaxis4": {
         "anchor": "x2",
         "overlaying": "y3",
         "side": "right",
         "title": {
          "text": "Tariff Rate (%)"
         }
        },
        "yaxis5": {
         "anchor": "x3",
         "domain": [
          0.84375,
          1
         ],
         "title": {
          "text": "export value"
         }
        },
        "yaxis6": {
         "anchor": "x3",
         "overlaying": "y5",
         "side": "right",
         "title": {
          "text": "Tariff Rate (%)"
         }
        },
        "yaxis7": {
         "anchor": "x4",
         "domain": [
          0.5625,
          0.71875
         ],
         "title": {
          "text": "export value"
         }
        },
        "yaxis8": {
         "anchor": "x4",
         "overlaying": "y7",
         "side": "right",
         "title": {
          "text": "Tariff Rate (%)"
         }
        },
        "yaxis9": {
         "anchor": "x5",
         "domain": [
          0.5625,
          0.71875
         ],
         "title": {
          "text": "export value"
         }
        }
       }
      }
     },
     "metadata": {},
     "output_type": "display_data"
    }
   ],
   "source": [
    "# Call the function to plot subplots for top 10 countries by export value for passenger vehicles excluding Canada and Mexico\n",
    "fig = plot_export_tariff_subplots(top_countries_df, top_10_countries, Y1='export value', Y2='Tariff on US', cols=3)\n",
    "fig.show()"
   ]
  },
  {
   "cell_type": "markdown",
   "id": "5fa550db",
   "metadata": {},
   "source": [
    "#### Create a similar grid plot for imports into USA against tariff imposed by USA on top 10 trading partners"
   ]
  },
  {
   "cell_type": "code",
   "execution_count": 42,
   "id": "0b98b803",
   "metadata": {},
   "outputs": [
    {
     "data": {
      "text/html": [
       "<div>\n",
       "<style scoped>\n",
       "    .dataframe tbody tr th:only-of-type {\n",
       "        vertical-align: middle;\n",
       "    }\n",
       "\n",
       "    .dataframe tbody tr th {\n",
       "        vertical-align: top;\n",
       "    }\n",
       "\n",
       "    .dataframe thead th {\n",
       "        text-align: right;\n",
       "    }\n",
       "</style>\n",
       "<table border=\"1\" class=\"dataframe\">\n",
       "  <thead>\n",
       "    <tr style=\"text-align: right;\">\n",
       "      <th></th>\n",
       "      <th>country</th>\n",
       "      <th>import value</th>\n",
       "      <th>mfn_by_us</th>\n",
       "    </tr>\n",
       "  </thead>\n",
       "  <tbody>\n",
       "    <tr>\n",
       "      <th>41</th>\n",
       "      <td>Japan</td>\n",
       "      <td>606181344605</td>\n",
       "      <td>3.790667</td>\n",
       "    </tr>\n",
       "    <tr>\n",
       "      <th>29</th>\n",
       "      <td>Germany</td>\n",
       "      <td>337932199932</td>\n",
       "      <td>3.650667</td>\n",
       "    </tr>\n",
       "    <tr>\n",
       "      <th>72</th>\n",
       "      <td>South Korea</td>\n",
       "      <td>266349252198</td>\n",
       "      <td>3.837333</td>\n",
       "    </tr>\n",
       "    <tr>\n",
       "      <th>83</th>\n",
       "      <td>United Kingdom</td>\n",
       "      <td>104492803463</td>\n",
       "      <td>3.725333</td>\n",
       "    </tr>\n",
       "    <tr>\n",
       "      <th>40</th>\n",
       "      <td>Italy</td>\n",
       "      <td>43824255789</td>\n",
       "      <td>3.914000</td>\n",
       "    </tr>\n",
       "    <tr>\n",
       "      <th>70</th>\n",
       "      <td>Slovakia</td>\n",
       "      <td>41361033699</td>\n",
       "      <td>3.841333</td>\n",
       "    </tr>\n",
       "    <tr>\n",
       "      <th>74</th>\n",
       "      <td>Sweden</td>\n",
       "      <td>31231492582</td>\n",
       "      <td>3.132667</td>\n",
       "    </tr>\n",
       "    <tr>\n",
       "      <th>71</th>\n",
       "      <td>South Africa</td>\n",
       "      <td>23354453521</td>\n",
       "      <td>3.263333</td>\n",
       "    </tr>\n",
       "    <tr>\n",
       "      <th>5</th>\n",
       "      <td>Belgium</td>\n",
       "      <td>17834679622</td>\n",
       "      <td>3.736667</td>\n",
       "    </tr>\n",
       "    <tr>\n",
       "      <th>3</th>\n",
       "      <td>Austria</td>\n",
       "      <td>16992116599</td>\n",
       "      <td>3.406000</td>\n",
       "    </tr>\n",
       "  </tbody>\n",
       "</table>\n",
       "</div>"
      ],
      "text/plain": [
       "           country  import value  mfn_by_us\n",
       "41           Japan  606181344605   3.790667\n",
       "29         Germany  337932199932   3.650667\n",
       "72     South Korea  266349252198   3.837333\n",
       "83  United Kingdom  104492803463   3.725333\n",
       "40           Italy   43824255789   3.914000\n",
       "70        Slovakia   41361033699   3.841333\n",
       "74          Sweden   31231492582   3.132667\n",
       "71    South Africa   23354453521   3.263333\n",
       "5          Belgium   17834679622   3.736667\n",
       "3          Austria   16992116599   3.406000"
      ]
     },
     "execution_count": 42,
     "metadata": {},
     "output_type": "execute_result"
    }
   ],
   "source": [
    "# build a new dataframe from combined_df with columns for country, category, year, import value and mfn_by_us\n",
    "import_tariff_df1 = combined_df[['country', 'category', 'year', 'import value', 'mfn_by_us']].copy()\n",
    "\n",
    "# Filter out Canada and Mexico\n",
    "filtered_df1 = import_tariff_df1[~import_tariff_df1['country'].isin(['Canada', 'Mexico'])]\n",
    "\n",
    "# Keep only rows where category is 'Passenger Vehicles'\n",
    "filtered_df1 = filtered_df1[filtered_df1['category'] == 'Passenger Vehicles']\n",
    "\n",
    "# Aggregate the import value by country and category\n",
    "filtered_df1 = filtered_df1.groupby(['country']).agg({'import value': 'sum', 'mfn_by_us': 'mean'}).reset_index()\n",
    "\n",
    "# Sort the dataframe by import value in descending order and take top 10 countries by import value\n",
    "filtered_df1 = filtered_df1.sort_values('import value', ascending=False).head(10)\n",
    "\n",
    "filtered_df1.head(10)"
   ]
  },
  {
   "cell_type": "code",
   "execution_count": 45,
   "id": "33b6492a",
   "metadata": {},
   "outputs": [
    {
     "data": {
      "application/vnd.plotly.v1+json": {
       "config": {
        "plotlyServerURL": "https://plot.ly"
       },
       "data": [
        {
         "line": {
          "color": "blue"
         },
         "mode": "lines+markers",
         "name": "Y1",
         "showlegend": false,
         "type": "scatter",
         "x": {
          "bdata": "2AfZB9oH2wfcB90H3gffB+AH4QfiB+MH5AflB+YH5wfoBw==",
          "dtype": "i2"
         },
         "xaxis": "x",
         "y": [
          40975127629,
          23974074574,
          31893664128,
          29904053998,
          37659177338,
          37762015587,
          33871909060,
          35719455071,
          39176825564,
          39789881012,
          40288044223,
          38693100053,
          31894492076,
          32377415684,
          32585002786,
          39891766155,
          39725339667
         ],
         "yaxis": "y"
        },
        {
         "line": {
          "color": "red"
         },
         "mode": "lines+markers",
         "name": "Tariff Rate",
         "showlegend": false,
         "type": "scatter",
         "x": {
          "bdata": "2AfZB9oH2wfcB90H3gffB+AH4QfiB+MH5AflB+YH5wfoBw==",
          "dtype": "i2"
         },
         "xaxis": "x",
         "y": {
          "bdata": "AAAAAAAADkCuR+F6FK4NQI/C9Shcjw5ApHA9CtejDkAzMzMzMzMNQIXrUbgehQ1AXI/C9ShcDUCamZmZmZkNQEjhehSuRw1AAAAAAAAAEUDhehSuR+ERQJqZmZmZmQ1A4XoUrkfhDECuR+F6FK4NQB+F61G4Hg1AAAAAAAAA+H8AAAAAAAD4fw==",
          "dtype": "f8"
         },
         "yaxis": "y2"
        },
        {
         "line": {
          "color": "blue"
         },
         "mode": "lines+markers",
         "name": "Y1",
         "showlegend": false,
         "type": "scatter",
         "x": {
          "bdata": "2AfZB9oH2wfcB90H3gffB+AH4QfiB+MH5AflB+YH5wfoBw==",
          "dtype": "i2"
         },
         "xaxis": "x2",
         "y": [
          18282476127,
          11319366092,
          17106097710,
          19499297486,
          23456840603,
          25586772272,
          25630373121,
          26065786538,
          21581904388,
          20170493140,
          18129534818,
          17405348715,
          12062241485,
          14309278555,
          19113463716,
          23431123581,
          24781801585
         ],
         "yaxis": "y3"
        },
        {
         "line": {
          "color": "red"
         },
         "mode": "lines+markers",
         "name": "Tariff Rate",
         "showlegend": false,
         "type": "scatter",
         "x": {
          "bdata": "2AfZB9oH2wfcB90H3gffB+AH4QfiB+MH5AflB+YH5wfoBw==",
          "dtype": "i2"
         },
         "xaxis": "x2",
         "y": {
          "bdata": "XI/C9ShcDUCF61G4HoUNQOF6FK5H4QxAPQrXo3A9DEC4HoXrUbgMQHsUrkfhegxApHA9CtejDEBSuB6F61EMQD0K16NwPQxAcT0K16NwEECPwvUoXI8RQI/C9ShcjwxAcT0K16NwC0ApXI/C9SgMQIXrUbgehQtAAAAAAAAA+H8AAAAAAAD4fw==",
          "dtype": "f8"
         },
         "yaxis": "y4"
        },
        {
         "line": {
          "color": "blue"
         },
         "mode": "lines+markers",
         "name": "Y1",
         "showlegend": false,
         "type": "scatter",
         "x": {
          "bdata": "2AfZB9oH2wfcB90H3gffB+AH4QfiB+MH5AflB+YH5wfoBw==",
          "dtype": "i2"
         },
         "xaxis": "x3",
         "y": [
          7413089740,
          5695771377,
          6549528269,
          8610931720,
          10619174559,
          12144483959,
          14572994553,
          17276220698,
          16068131383,
          15731937656,
          13822767271,
          15901735828,
          16236348499,
          17555217671,
          21720475665,
          29787589656,
          36642853694
         ],
         "yaxis": "y5"
        },
        {
         "line": {
          "color": "red"
         },
         "mode": "lines+markers",
         "name": "Tariff Rate",
         "showlegend": false,
         "type": "scatter",
         "x": {
          "bdata": "2AfZB9oH2wfcB90H3gffB+AH4QfiB+MH5AflB+YH5wfoBw==",
          "dtype": "i2"
         },
         "xaxis": "x3",
         "y": {
          "bdata": "j8L1KFyPDkDNzMzMzMwOQKRwPQrXow5AexSuR+F6DkApXI/C9SgOQHE9CtejcA1AFK5H4XoUDkCuR+F6FK4NQJqZmZmZmQ1AhetRuB6FEUB7FK5H4XoSQHE9CtejcA1AzczMzMzMDEDhehSuR+EMQOxRuB6F6w1AAAAAAAAA+H8AAAAAAAD4fw==",
          "dtype": "f8"
         },
         "yaxis": "y6"
        },
        {
         "line": {
          "color": "blue"
         },
         "mode": "lines+markers",
         "name": "Y1",
         "showlegend": false,
         "type": "scatter",
         "x": {
          "bdata": "2AfZB9oH2wfcB90H3gffB+AH4QfiB+MH5AflB+YH5wfoBw==",
          "dtype": "i2"
         },
         "xaxis": "x4",
         "y": [
          3887154806,
          2252287246,
          3415768749,
          3693710121,
          4449856662,
          5045802801,
          5168724266,
          6674118529,
          8638752105,
          8582116668,
          9527332126,
          9648466775,
          6083881420,
          6644753636,
          6211449255,
          6376395457,
          8192232841
         ],
         "yaxis": "y7"
        },
        {
         "line": {
          "color": "red"
         },
         "mode": "lines+markers",
         "name": "Tariff Rate",
         "showlegend": false,
         "type": "scatter",
         "x": {
          "bdata": "2AfZB9oH2wfcB90H3gffB+AH4QfiB+MH5AflB+YH5wfoBw==",
          "dtype": "i2"
         },
         "xaxis": "x4",
         "y": {
          "bdata": "XI/C9ShcDUDD9Shcj8INQHE9CtejcA1AMzMzMzMzDUAzMzMzMzMNQM3MzMzMzAxAuB6F61G4DECkcD0K16MMQM3MzMzMzAxAcT0K16NwEEDNzMzMzMwRQIXrUbgehQ1Aj8L1KFyPDEDD9Shcj8INQM3MzMzMzAxAAAAAAAAA+H8AAAAAAAD4fw==",
          "dtype": "f8"
         },
         "yaxis": "y8"
        },
        {
         "line": {
          "color": "blue"
         },
         "mode": "lines+markers",
         "name": "Y1",
         "showlegend": false,
         "type": "scatter",
         "x": {
          "bdata": "2AfZB9oH2wfcB90H3gffB+AH4QfiB+MH5AflB+YH5wfoBw==",
          "dtype": "i2"
         },
         "xaxis": "x5",
         "y": [
          814621660,
          465807153,
          579746455,
          682285708,
          884329471,
          1391969014,
          1988217040,
          3828827610,
          3853051945,
          4770253186,
          4447460207,
          3345794443,
          3145842613,
          2826344267,
          3279159679,
          4190431185,
          3330114153
         ],
         "yaxis": "y9"
        },
        {
         "line": {
          "color": "red"
         },
         "mode": "lines+markers",
         "name": "Tariff Rate",
         "showlegend": false,
         "type": "scatter",
         "x": {
          "bdata": "2AfZB9oH2wfcB90H3gffB+AH4QfiB+MH5AflB+YH5wfoBw==",
          "dtype": "i2"
         },
         "xaxis": "x5",
         "y": {
          "bdata": "rkfhehSuD0BxPQrXo3APQDMzMzMzMw9AXI/C9ShcD0DNzMzMzMwOQArXo3A9Cg9ACtejcD0KD0DNzMzMzMwOQB+F61G4Hg9AhetRuB6FEUAzMzMzMzMPQI/C9Shcjw5AexSuR+F6DkAzMzMzMzMPQLgehetRuA5AAAAAAAAA+H8AAAAAAAD4fw==",
          "dtype": "f8"
         },
         "yaxis": "y10"
        },
        {
         "line": {
          "color": "blue"
         },
         "mode": "lines+markers",
         "name": "Y1",
         "showlegend": false,
         "type": "scatter",
         "x": {
          "bdata": "2AfZB9oH2wfcB90H3gffB+AH4QfiB+MH5AflB+YH5wfoBw==",
          "dtype": "i2"
         },
         "xaxis": "x6",
         "y": [
          729039463,
          237065724,
          494922947,
          682267492,
          873998834,
          894027524,
          1061385744,
          1293780551,
          1561477292,
          1996363134,
          2958499428,
          3829218618,
          3832626730,
          3417914262,
          4764578585,
          6488076212,
          6245791159
         ],
         "yaxis": "y11"
        },
        {
         "line": {
          "color": "red"
         },
         "mode": "lines+markers",
         "name": "Tariff Rate",
         "showlegend": false,
         "type": "scatter",
         "x": {
          "bdata": "2AfZB9oH2wfcB90H3gffB+AH4QfiB+MH5AflB+YH5wfoBw==",
          "dtype": "i2"
         },
         "xaxis": "x6",
         "y": {
          "bdata": "ZmZmZmZmEUApXI/C9SgRQFK4HoXrURFACtejcD0KEEBxPQrXo3APQArXo3A9Cg9ApHA9CtejDkApXI/C9SgOQHsUrkfheg5ACtejcD0KC0ApXI/C9SgMQPYoXI/C9QxASOF6FK5HDUDNzMzMzMwMQB+F61G4Hg1AAAAAAAAA+H8AAAAAAAD4fw==",
          "dtype": "f8"
         },
         "yaxis": "y12"
        },
        {
         "line": {
          "color": "blue"
         },
         "mode": "lines+markers",
         "name": "Y1",
         "showlegend": false,
         "type": "scatter",
         "x": {
          "bdata": "2AfZB9oH2wfcB90H3gffB+AH4QfiB+MH5AflB+YH5wfoBw==",
          "dtype": "i2"
         },
         "xaxis": "x7",
         "y": [
          1477063283,
          749244583,
          1069637348,
          854497277,
          766294448,
          675728011,
          792456652,
          1322065125,
          1762136288,
          2023795651,
          1560236124,
          2043074586,
          2362887714,
          2809827301,
          3229537374,
          3875914329,
          3857096488
         ],
         "yaxis": "y13"
        },
        {
         "line": {
          "color": "red"
         },
         "mode": "lines+markers",
         "name": "Tariff Rate",
         "showlegend": false,
         "type": "scatter",
         "x": {
          "bdata": "2AfZB9oH2wfcB90H3gffB+AH4QfiB+MH5AflB+YH5wfoBw==",
          "dtype": "i2"
         },
         "xaxis": "x7",
         "y": {
          "bdata": "hetRuB6FCUBcj8L1KFwJQK5H4XoUrglAFK5H4XoUCkAfhetRuB4JQMP1KFyPwgdAMzMzMzMzCUDD9Shcj8IJQKRwPQrXowhAzczMzMzMBkCPwvUoXI8IQAAAAAAAAApA4XoUrkfhCECamZmZmZkJQPYoXI/C9QhAAAAAAAAA+H8AAAAAAAD4fw==",
          "dtype": "f8"
         },
         "yaxis": "y14"
        },
        {
         "line": {
          "color": "blue"
         },
         "mode": "lines+markers",
         "name": "Y1",
         "showlegend": false,
         "type": "scatter",
         "x": {
          "bdata": "2AfZB9oH2wfcB90H3gffB+AH4QfiB+MH5AflB+YH5wfoBw==",
          "dtype": "i2"
         },
         "xaxis": "x8",
         "y": [
          1815310816,
          1371223889,
          1539193764,
          2047460192,
          1885745452,
          2165580306,
          1260962216,
          1365788315,
          1504834943,
          1071504953,
          464642185,
          356467816,
          534937191,
          771275974,
          1335437736,
          1735142252,
          2128945521
         ],
         "yaxis": "y15"
        },
        {
         "line": {
          "color": "red"
         },
         "mode": "lines+markers",
         "name": "Tariff Rate",
         "showlegend": false,
         "type": "scatter",
         "x": {
          "bdata": "2AfZB9oH2wfcB90H3gffB+AH4QfiB+MH5AflB+YH5wfoBw==",
          "dtype": "i2"
         },
         "xaxis": "x8",
         "y": {
          "bdata": "exSuR+F6DECF61G4HoULQM3MzMzMzApA9ihcj8L1CkAAAAAAAAAKQFK4HoXrUQhAw/UoXI/CCUAfhetRuB4JQOxRuB6F6wlAUrgehetRCECkcD0K16MKQArXo3A9CglA4XoUrkfhCEDhehSuR+EKQPYoXI/C9QpAAAAAAAAA+H8AAAAAAAD4fw==",
          "dtype": "f8"
         },
         "yaxis": "y16"
        },
        {
         "line": {
          "color": "blue"
         },
         "mode": "lines+markers",
         "name": "Y1",
         "showlegend": false,
         "type": "scatter",
         "x": {
          "bdata": "2AfZB9oH2wfcB90H3gffB+AH4QfiB+MH5AflB+YH5wfoBw==",
          "dtype": "i2"
         },
         "xaxis": "x9",
         "y": [
          696473463,
          600512855,
          559008670,
          1159510392,
          1441255682,
          1128212957,
          721582147,
          1073008756,
          829522528,
          541987944,
          469144477,
          1182304993,
          985154443,
          1080958254,
          1609660364,
          2424894193,
          1331487504
         ],
         "yaxis": "y17"
        },
        {
         "line": {
          "color": "red"
         },
         "mode": "lines+markers",
         "name": "Tariff Rate",
         "showlegend": false,
         "type": "scatter",
         "x": {
          "bdata": "2AfZB9oH2wfcB90H3gffB+AH4QfiB+MH5AflB+YH5wfoBw==",
          "dtype": "i2"
         },
         "xaxis": "x9",
         "y": {
          "bdata": "w/UoXI/CD0C4HoXrUbgOQOF6FK5H4Q5AUrgehetRDkAUrkfhehQOQOF6FK5H4QxAmpmZmZmZDUCuR+F6FK4NQDMzMzMzMw1AKVyPwvUoDEAAAAAAAAAOQD0K16NwPQ5ASOF6FK5HDUDXo3A9CtcNQMP1KFyPwg1AAAAAAAAA+H8AAAAAAAD4fw==",
          "dtype": "f8"
         },
         "yaxis": "y18"
        },
        {
         "line": {
          "color": "blue"
         },
         "mode": "lines+markers",
         "name": "Y1",
         "showlegend": false,
         "type": "scatter",
         "x": {
          "bdata": "2AfZB9oH2wfcB90H3gffB+AH4QfiB+MH5AflB+YH5wfoBw==",
          "dtype": "i2"
         },
         "xaxis": "x10",
         "y": {
          "bdata": "8816UWW2iA5JNE4QvltsHrTIeSEeyPguIXbYLBzEtizc3jAiCh/rFJN0G0N2D0pc/t8HTG0w/2X/xhxSbGLAdkSEqWo=",
          "dtype": "i4"
         },
         "yaxis": "y19"
        },
        {
         "line": {
          "color": "red"
         },
         "mode": "lines+markers",
         "name": "Tariff Rate",
         "showlegend": false,
         "type": "scatter",
         "x": {
          "bdata": "2AfZB9oH2wfcB90H3gffB+AH4QfiB+MH5AflB+YH5wfoBw==",
          "dtype": "i2"
         },
         "xaxis": "x10",
         "y": {
          "bdata": "pHA9CtejDEBSuB6F61EMQGZmZmZmZgxAAAAAAAAADEAUrkfhehQMQB+F61G4HgtAH4XrUbgeC0AfhetRuB4LQJqZmZmZmQtA4XoUrkfhCEBI4XoUrkcLQFK4HoXrUQpArkfhehSuCUCF61G4HoULQKRwPQrXowpAAAAAAAAA+H8AAAAAAAD4fw==",
          "dtype": "f8"
         },
         "yaxis": "y20"
        },
        {
         "line": {
          "color": "blue"
         },
         "mode": "lines",
         "name": "Import Value",
         "type": "scatter",
         "x": [
          null
         ],
         "xaxis": "x",
         "y": [
          null
         ],
         "yaxis": "y"
        },
        {
         "line": {
          "color": "red"
         },
         "mode": "lines",
         "name": "Tariff Rate (%)",
         "type": "scatter",
         "x": [
          null
         ],
         "xaxis": "x",
         "y": [
          null
         ],
         "yaxis": "y2"
        }
       ],
       "layout": {
        "annotations": [
         {
          "font": {
           "size": 16
          },
          "showarrow": false,
          "text": "Japan",
          "x": 0.11222222222222222,
          "xanchor": "center",
          "xref": "paper",
          "y": 1,
          "yanchor": "bottom",
          "yref": "paper"
         },
         {
          "font": {
           "size": 16
          },
          "showarrow": false,
          "text": "Germany",
          "x": 0.47,
          "xanchor": "center",
          "xref": "paper",
          "y": 1,
          "yanchor": "bottom",
          "yref": "paper"
         },
         {
          "font": {
           "size": 16
          },
          "showarrow": false,
          "text": "South Korea",
          "x": 0.8277777777777777,
          "xanchor": "center",
          "xref": "paper",
          "y": 1,
          "yanchor": "bottom",
          "yref": "paper"
         },
         {
          "font": {
           "size": 16
          },
          "showarrow": false,
          "text": "United Kingdom",
          "x": 0.11222222222222222,
          "xanchor": "center",
          "xref": "paper",
          "y": 0.71875,
          "yanchor": "bottom",
          "yref": "paper"
         },
         {
          "font": {
           "size": 16
          },
          "showarrow": false,
          "text": "Italy",
          "x": 0.47,
          "xanchor": "center",
          "xref": "paper",
          "y": 0.71875,
          "yanchor": "bottom",
          "yref": "paper"
         },
         {
          "font": {
           "size": 16
          },
          "showarrow": false,
          "text": "Slovakia",
          "x": 0.8277777777777777,
          "xanchor": "center",
          "xref": "paper",
          "y": 0.71875,
          "yanchor": "bottom",
          "yref": "paper"
         },
         {
          "font": {
           "size": 16
          },
          "showarrow": false,
          "text": "Sweden",
          "x": 0.11222222222222222,
          "xanchor": "center",
          "xref": "paper",
          "y": 0.4375,
          "yanchor": "bottom",
          "yref": "paper"
         },
         {
          "font": {
           "size": 16
          },
          "showarrow": false,
          "text": "South Africa",
          "x": 0.47,
          "xanchor": "center",
          "xref": "paper",
          "y": 0.4375,
          "yanchor": "bottom",
          "yref": "paper"
         },
         {
          "font": {
           "size": 16
          },
          "showarrow": false,
          "text": "Belgium",
          "x": 0.8277777777777777,
          "xanchor": "center",
          "xref": "paper",
          "y": 0.4375,
          "yanchor": "bottom",
          "yref": "paper"
         },
         {
          "font": {
           "size": 16
          },
          "showarrow": false,
          "text": "Austria",
          "x": 0.11222222222222222,
          "xanchor": "center",
          "xref": "paper",
          "y": 0.15625,
          "yanchor": "bottom",
          "yref": "paper"
         }
        ],
        "height": 1200,
        "margin": {
         "b": 50,
         "l": 50,
         "r": 50,
         "t": 80
        },
        "showlegend": true,
        "template": {
         "data": {
          "bar": [
           {
            "error_x": {
             "color": "#2a3f5f"
            },
            "error_y": {
             "color": "#2a3f5f"
            },
            "marker": {
             "line": {
              "color": "#E5ECF6",
              "width": 0.5
             },
             "pattern": {
              "fillmode": "overlay",
              "size": 10,
              "solidity": 0.2
             }
            },
            "type": "bar"
           }
          ],
          "barpolar": [
           {
            "marker": {
             "line": {
              "color": "#E5ECF6",
              "width": 0.5
             },
             "pattern": {
              "fillmode": "overlay",
              "size": 10,
              "solidity": 0.2
             }
            },
            "type": "barpolar"
           }
          ],
          "carpet": [
           {
            "aaxis": {
             "endlinecolor": "#2a3f5f",
             "gridcolor": "white",
             "linecolor": "white",
             "minorgridcolor": "white",
             "startlinecolor": "#2a3f5f"
            },
            "baxis": {
             "endlinecolor": "#2a3f5f",
             "gridcolor": "white",
             "linecolor": "white",
             "minorgridcolor": "white",
             "startlinecolor": "#2a3f5f"
            },
            "type": "carpet"
           }
          ],
          "choropleth": [
           {
            "colorbar": {
             "outlinewidth": 0,
             "ticks": ""
            },
            "type": "choropleth"
           }
          ],
          "contour": [
           {
            "colorbar": {
             "outlinewidth": 0,
             "ticks": ""
            },
            "colorscale": [
             [
              0,
              "#0d0887"
             ],
             [
              0.1111111111111111,
              "#46039f"
             ],
             [
              0.2222222222222222,
              "#7201a8"
             ],
             [
              0.3333333333333333,
              "#9c179e"
             ],
             [
              0.4444444444444444,
              "#bd3786"
             ],
             [
              0.5555555555555556,
              "#d8576b"
             ],
             [
              0.6666666666666666,
              "#ed7953"
             ],
             [
              0.7777777777777778,
              "#fb9f3a"
             ],
             [
              0.8888888888888888,
              "#fdca26"
             ],
             [
              1,
              "#f0f921"
             ]
            ],
            "type": "contour"
           }
          ],
          "contourcarpet": [
           {
            "colorbar": {
             "outlinewidth": 0,
             "ticks": ""
            },
            "type": "contourcarpet"
           }
          ],
          "heatmap": [
           {
            "colorbar": {
             "outlinewidth": 0,
             "ticks": ""
            },
            "colorscale": [
             [
              0,
              "#0d0887"
             ],
             [
              0.1111111111111111,
              "#46039f"
             ],
             [
              0.2222222222222222,
              "#7201a8"
             ],
             [
              0.3333333333333333,
              "#9c179e"
             ],
             [
              0.4444444444444444,
              "#bd3786"
             ],
             [
              0.5555555555555556,
              "#d8576b"
             ],
             [
              0.6666666666666666,
              "#ed7953"
             ],
             [
              0.7777777777777778,
              "#fb9f3a"
             ],
             [
              0.8888888888888888,
              "#fdca26"
             ],
             [
              1,
              "#f0f921"
             ]
            ],
            "type": "heatmap"
           }
          ],
          "histogram": [
           {
            "marker": {
             "pattern": {
              "fillmode": "overlay",
              "size": 10,
              "solidity": 0.2
             }
            },
            "type": "histogram"
           }
          ],
          "histogram2d": [
           {
            "colorbar": {
             "outlinewidth": 0,
             "ticks": ""
            },
            "colorscale": [
             [
              0,
              "#0d0887"
             ],
             [
              0.1111111111111111,
              "#46039f"
             ],
             [
              0.2222222222222222,
              "#7201a8"
             ],
             [
              0.3333333333333333,
              "#9c179e"
             ],
             [
              0.4444444444444444,
              "#bd3786"
             ],
             [
              0.5555555555555556,
              "#d8576b"
             ],
             [
              0.6666666666666666,
              "#ed7953"
             ],
             [
              0.7777777777777778,
              "#fb9f3a"
             ],
             [
              0.8888888888888888,
              "#fdca26"
             ],
             [
              1,
              "#f0f921"
             ]
            ],
            "type": "histogram2d"
           }
          ],
          "histogram2dcontour": [
           {
            "colorbar": {
             "outlinewidth": 0,
             "ticks": ""
            },
            "colorscale": [
             [
              0,
              "#0d0887"
             ],
             [
              0.1111111111111111,
              "#46039f"
             ],
             [
              0.2222222222222222,
              "#7201a8"
             ],
             [
              0.3333333333333333,
              "#9c179e"
             ],
             [
              0.4444444444444444,
              "#bd3786"
             ],
             [
              0.5555555555555556,
              "#d8576b"
             ],
             [
              0.6666666666666666,
              "#ed7953"
             ],
             [
              0.7777777777777778,
              "#fb9f3a"
             ],
             [
              0.8888888888888888,
              "#fdca26"
             ],
             [
              1,
              "#f0f921"
             ]
            ],
            "type": "histogram2dcontour"
           }
          ],
          "mesh3d": [
           {
            "colorbar": {
             "outlinewidth": 0,
             "ticks": ""
            },
            "type": "mesh3d"
           }
          ],
          "parcoords": [
           {
            "line": {
             "colorbar": {
              "outlinewidth": 0,
              "ticks": ""
             }
            },
            "type": "parcoords"
           }
          ],
          "pie": [
           {
            "automargin": true,
            "type": "pie"
           }
          ],
          "scatter": [
           {
            "fillpattern": {
             "fillmode": "overlay",
             "size": 10,
             "solidity": 0.2
            },
            "type": "scatter"
           }
          ],
          "scatter3d": [
           {
            "line": {
             "colorbar": {
              "outlinewidth": 0,
              "ticks": ""
             }
            },
            "marker": {
             "colorbar": {
              "outlinewidth": 0,
              "ticks": ""
             }
            },
            "type": "scatter3d"
           }
          ],
          "scattercarpet": [
           {
            "marker": {
             "colorbar": {
              "outlinewidth": 0,
              "ticks": ""
             }
            },
            "type": "scattercarpet"
           }
          ],
          "scattergeo": [
           {
            "marker": {
             "colorbar": {
              "outlinewidth": 0,
              "ticks": ""
             }
            },
            "type": "scattergeo"
           }
          ],
          "scattergl": [
           {
            "marker": {
             "colorbar": {
              "outlinewidth": 0,
              "ticks": ""
             }
            },
            "type": "scattergl"
           }
          ],
          "scattermap": [
           {
            "marker": {
             "colorbar": {
              "outlinewidth": 0,
              "ticks": ""
             }
            },
            "type": "scattermap"
           }
          ],
          "scattermapbox": [
           {
            "marker": {
             "colorbar": {
              "outlinewidth": 0,
              "ticks": ""
             }
            },
            "type": "scattermapbox"
           }
          ],
          "scatterpolar": [
           {
            "marker": {
             "colorbar": {
              "outlinewidth": 0,
              "ticks": ""
             }
            },
            "type": "scatterpolar"
           }
          ],
          "scatterpolargl": [
           {
            "marker": {
             "colorbar": {
              "outlinewidth": 0,
              "ticks": ""
             }
            },
            "type": "scatterpolargl"
           }
          ],
          "scatterternary": [
           {
            "marker": {
             "colorbar": {
              "outlinewidth": 0,
              "ticks": ""
             }
            },
            "type": "scatterternary"
           }
          ],
          "surface": [
           {
            "colorbar": {
             "outlinewidth": 0,
             "ticks": ""
            },
            "colorscale": [
             [
              0,
              "#0d0887"
             ],
             [
              0.1111111111111111,
              "#46039f"
             ],
             [
              0.2222222222222222,
              "#7201a8"
             ],
             [
              0.3333333333333333,
              "#9c179e"
             ],
             [
              0.4444444444444444,
              "#bd3786"
             ],
             [
              0.5555555555555556,
              "#d8576b"
             ],
             [
              0.6666666666666666,
              "#ed7953"
             ],
             [
              0.7777777777777778,
              "#fb9f3a"
             ],
             [
              0.8888888888888888,
              "#fdca26"
             ],
             [
              1,
              "#f0f921"
             ]
            ],
            "type": "surface"
           }
          ],
          "table": [
           {
            "cells": {
             "fill": {
              "color": "#EBF0F8"
             },
             "line": {
              "color": "white"
             }
            },
            "header": {
             "fill": {
              "color": "#C8D4E3"
             },
             "line": {
              "color": "white"
             }
            },
            "type": "table"
           }
          ]
         },
         "layout": {
          "annotationdefaults": {
           "arrowcolor": "#2a3f5f",
           "arrowhead": 0,
           "arrowwidth": 1
          },
          "autotypenumbers": "strict",
          "coloraxis": {
           "colorbar": {
            "outlinewidth": 0,
            "ticks": ""
           }
          },
          "colorscale": {
           "diverging": [
            [
             0,
             "#8e0152"
            ],
            [
             0.1,
             "#c51b7d"
            ],
            [
             0.2,
             "#de77ae"
            ],
            [
             0.3,
             "#f1b6da"
            ],
            [
             0.4,
             "#fde0ef"
            ],
            [
             0.5,
             "#f7f7f7"
            ],
            [
             0.6,
             "#e6f5d0"
            ],
            [
             0.7,
             "#b8e186"
            ],
            [
             0.8,
             "#7fbc41"
            ],
            [
             0.9,
             "#4d9221"
            ],
            [
             1,
             "#276419"
            ]
           ],
           "sequential": [
            [
             0,
             "#0d0887"
            ],
            [
             0.1111111111111111,
             "#46039f"
            ],
            [
             0.2222222222222222,
             "#7201a8"
            ],
            [
             0.3333333333333333,
             "#9c179e"
            ],
            [
             0.4444444444444444,
             "#bd3786"
            ],
            [
             0.5555555555555556,
             "#d8576b"
            ],
            [
             0.6666666666666666,
             "#ed7953"
            ],
            [
             0.7777777777777778,
             "#fb9f3a"
            ],
            [
             0.8888888888888888,
             "#fdca26"
            ],
            [
             1,
             "#f0f921"
            ]
           ],
           "sequentialminus": [
            [
             0,
             "#0d0887"
            ],
            [
             0.1111111111111111,
             "#46039f"
            ],
            [
             0.2222222222222222,
             "#7201a8"
            ],
            [
             0.3333333333333333,
             "#9c179e"
            ],
            [
             0.4444444444444444,
             "#bd3786"
            ],
            [
             0.5555555555555556,
             "#d8576b"
            ],
            [
             0.6666666666666666,
             "#ed7953"
            ],
            [
             0.7777777777777778,
             "#fb9f3a"
            ],
            [
             0.8888888888888888,
             "#fdca26"
            ],
            [
             1,
             "#f0f921"
            ]
           ]
          },
          "colorway": [
           "#636efa",
           "#EF553B",
           "#00cc96",
           "#ab63fa",
           "#FFA15A",
           "#19d3f3",
           "#FF6692",
           "#B6E880",
           "#FF97FF",
           "#FECB52"
          ],
          "font": {
           "color": "#2a3f5f"
          },
          "geo": {
           "bgcolor": "white",
           "lakecolor": "white",
           "landcolor": "#E5ECF6",
           "showlakes": true,
           "showland": true,
           "subunitcolor": "white"
          },
          "hoverlabel": {
           "align": "left"
          },
          "hovermode": "closest",
          "mapbox": {
           "style": "light"
          },
          "paper_bgcolor": "white",
          "plot_bgcolor": "#E5ECF6",
          "polar": {
           "angularaxis": {
            "gridcolor": "white",
            "linecolor": "white",
            "ticks": ""
           },
           "bgcolor": "#E5ECF6",
           "radialaxis": {
            "gridcolor": "white",
            "linecolor": "white",
            "ticks": ""
           }
          },
          "scene": {
           "xaxis": {
            "backgroundcolor": "#E5ECF6",
            "gridcolor": "white",
            "gridwidth": 2,
            "linecolor": "white",
            "showbackground": true,
            "ticks": "",
            "zerolinecolor": "white"
           },
           "yaxis": {
            "backgroundcolor": "#E5ECF6",
            "gridcolor": "white",
            "gridwidth": 2,
            "linecolor": "white",
            "showbackground": true,
            "ticks": "",
            "zerolinecolor": "white"
           },
           "zaxis": {
            "backgroundcolor": "#E5ECF6",
            "gridcolor": "white",
            "gridwidth": 2,
            "linecolor": "white",
            "showbackground": true,
            "ticks": "",
            "zerolinecolor": "white"
           }
          },
          "shapedefaults": {
           "line": {
            "color": "#2a3f5f"
           }
          },
          "ternary": {
           "aaxis": {
            "gridcolor": "white",
            "linecolor": "white",
            "ticks": ""
           },
           "baxis": {
            "gridcolor": "white",
            "linecolor": "white",
            "ticks": ""
           },
           "bgcolor": "#E5ECF6",
           "caxis": {
            "gridcolor": "white",
            "linecolor": "white",
            "ticks": ""
           }
          },
          "title": {
           "x": 0.05
          },
          "xaxis": {
           "automargin": true,
           "gridcolor": "white",
           "linecolor": "white",
           "ticks": "",
           "title": {
            "standoff": 15
           },
           "zerolinecolor": "white",
           "zerolinewidth": 2
          },
          "yaxis": {
           "automargin": true,
           "gridcolor": "white",
           "linecolor": "white",
           "ticks": "",
           "title": {
            "standoff": 15
           },
           "zerolinecolor": "white",
           "zerolinewidth": 2
          }
         }
        },
        "title": {
         "text": "Import Value and Tariff Rate by Country (Top)"
        },
        "width": 1200,
        "xaxis": {
         "anchor": "y",
         "domain": [
          0,
          0.22444444444444445
         ]
        },
        "xaxis10": {
         "anchor": "y19",
         "domain": [
          0,
          0.22444444444444445
         ]
        },
        "xaxis11": {
         "anchor": "y21",
         "domain": [
          0.35777777777777775,
          0.5822222222222222
         ]
        },
        "xaxis12": {
         "anchor": "y23",
         "domain": [
          0.7155555555555555,
          0.94
         ]
        },
        "xaxis2": {
         "anchor": "y3",
         "domain": [
          0.35777777777777775,
          0.5822222222222222
         ]
        },
        "xaxis3": {
         "anchor": "y5",
         "domain": [
          0.7155555555555555,
          0.94
         ]
        },
        "xaxis4": {
         "anchor": "y7",
         "domain": [
          0,
          0.22444444444444445
         ]
        },
        "xaxis5": {
         "anchor": "y9",
         "domain": [
          0.35777777777777775,
          0.5822222222222222
         ]
        },
        "xaxis6": {
         "anchor": "y11",
         "domain": [
          0.7155555555555555,
          0.94
         ]
        },
        "xaxis7": {
         "anchor": "y13",
         "domain": [
          0,
          0.22444444444444445
         ]
        },
        "xaxis8": {
         "anchor": "y15",
         "domain": [
          0.35777777777777775,
          0.5822222222222222
         ]
        },
        "xaxis9": {
         "anchor": "y17",
         "domain": [
          0.7155555555555555,
          0.94
         ]
        },
        "yaxis": {
         "anchor": "x",
         "domain": [
          0.84375,
          1
         ],
         "title": {
          "text": "Import Value"
         }
        },
        "yaxis10": {
         "anchor": "x5",
         "overlaying": "y9",
         "side": "right",
         "title": {
          "text": "Tariff Rate (%)"
         }
        },
        "yaxis11": {
         "anchor": "x6",
         "domain": [
          0.5625,
          0.71875
         ],
         "title": {
          "text": "Import Value"
         }
        },
        "yaxis12": {
         "anchor": "x6",
         "overlaying": "y11",
         "side": "right",
         "title": {
          "text": "Tariff Rate (%)"
         }
        },
        "yaxis13": {
         "anchor": "x7",
         "domain": [
          0.28125,
          0.4375
         ],
         "title": {
          "text": "Import Value"
         }
        },
        "yaxis14": {
         "anchor": "x7",
         "overlaying": "y13",
         "side": "right",
         "title": {
          "text": "Tariff Rate (%)"
         }
        },
        "yaxis15": {
         "anchor": "x8",
         "domain": [
          0.28125,
          0.4375
         ],
         "title": {
          "text": "Import Value"
         }
        },
        "yaxis16": {
         "anchor": "x8",
         "overlaying": "y15",
         "side": "right",
         "title": {
          "text": "Tariff Rate (%)"
         }
        },
        "yaxis17": {
         "anchor": "x9",
         "domain": [
          0.28125,
          0.4375
         ],
         "title": {
          "text": "Import Value"
         }
        },
        "yaxis18": {
         "anchor": "x9",
         "overlaying": "y17",
         "side": "right",
         "title": {
          "text": "Tariff Rate (%)"
         }
        },
        "yaxis19": {
         "anchor": "x10",
         "domain": [
          0,
          0.15625
         ],
         "title": {
          "text": "Import Value"
         }
        },
        "yaxis2": {
         "anchor": "x",
         "overlaying": "y",
         "side": "right",
         "title": {
          "text": "Tariff Rate (%)"
         }
        },
        "yaxis20": {
         "anchor": "x10",
         "overlaying": "y19",
         "side": "right",
         "title": {
          "text": "Tariff Rate (%)"
         }
        },
        "yaxis21": {
         "anchor": "x11",
         "domain": [
          0,
          0.15625
         ]
        },
        "yaxis22": {
         "anchor": "x11",
         "overlaying": "y21",
         "side": "right"
        },
        "yaxis23": {
         "anchor": "x12",
         "domain": [
          0,
          0.15625
         ]
        },
        "yaxis24": {
         "anchor": "x12",
         "overlaying": "y23",
         "side": "right"
        },
        "yaxis3": {
         "anchor": "x2",
         "domain": [
          0.84375,
          1
         ],
         "title": {
          "text": "Import Value"
         }
        },
        "yaxis4": {
         "anchor": "x2",
         "overlaying": "y3",
         "side": "right",
         "title": {
          "text": "Tariff Rate (%)"
         }
        },
        "yaxis5": {
         "anchor": "x3",
         "domain": [
          0.84375,
          1
         ],
         "title": {
          "text": "Import Value"
         }
        },
        "yaxis6": {
         "anchor": "x3",
         "overlaying": "y5",
         "side": "right",
         "title": {
          "text": "Tariff Rate (%)"
         }
        },
        "yaxis7": {
         "anchor": "x4",
         "domain": [
          0.5625,
          0.71875
         ],
         "title": {
          "text": "Import Value"
         }
        },
        "yaxis8": {
         "anchor": "x4",
         "overlaying": "y7",
         "side": "right",
         "title": {
          "text": "Tariff Rate (%)"
         }
        },
        "yaxis9": {
         "anchor": "x5",
         "domain": [
          0.5625,
          0.71875
         ],
         "title": {
          "text": "Import Value"
         }
        }
       }
      }
     },
     "metadata": {},
     "output_type": "display_data"
    }
   ],
   "source": [
    "top_10_import = filtered_df1['country'].unique().tolist()[:10]\n",
    "\n",
    "# Now create a new dataframe from combined_df where the country is in top_10_import and category is 'Passenger Vehicles'\n",
    "top_import_countries_df = combined_df[(combined_df['country'].isin(top_10_import)) & (combined_df['category'] == 'Passenger Vehicles')].copy()\n",
    "\n",
    "# Keep columns country, year, Import_value and mfn_by_us_simple_avg\n",
    "top_import_countries_df = top_import_countries_df[['country', 'year', 'import value', 'mfn_by_us']].copy()\n",
    "\n",
    "top_import_countries_df.rename(columns={\n",
    "    'mfn_by_us': 'Tariff by US',\n",
    "    'import value': 'Import Value'}, \n",
    "    inplace=True)\n",
    "\n",
    "\n",
    "## Now use the function created above for plotting export/import value and tariff rate subplots to plot import value and tariff rate for top 10 countries by import value for passenger vehicles excluding Canada and Mexico\n",
    "fig = plot_export_tariff_subplots(top_import_countries_df, top_10_import, Y1='Import Value', Y2='Tariff by US', cols=3)\n",
    "fig.show()"
   ]
  }
 ],
 "metadata": {
  "kernelspec": {
   "display_name": "Python 3",
   "language": "python",
   "name": "python3"
  },
  "language_info": {
   "codemirror_mode": {
    "name": "ipython",
    "version": 3
   },
   "file_extension": ".py",
   "mimetype": "text/x-python",
   "name": "python",
   "nbconvert_exporter": "python",
   "pygments_lexer": "ipython3",
   "version": "3.13.2"
  }
 },
 "nbformat": 4,
 "nbformat_minor": 5
}
