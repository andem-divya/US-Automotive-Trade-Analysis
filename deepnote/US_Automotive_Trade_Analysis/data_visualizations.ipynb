{
  "cells": [
    {
      "cell_type": "code",
      "execution_count": 53,
      "metadata": {},
      "outputs": [],
      "source": [
        "# pip install \"notebook>=7.0\" \"anywidget>=0.9.13\"\n",
        "# pip install plotly\n"
      ]
    },
    {
      "cell_type": "markdown",
      "metadata": {
        "created_in_deepnote_cell": true,
        "deepnote_cell_type": "markdown"
      },
      "source": [
        "<a style='text-decoration:none;line-height:16px;display:flex;color:#5B5B62;padding:10px;justify-content:end;' href='https://deepnote.com?utm_source=created-in-deepnote-cell&projectId=1414b58c-d851-4542-a845-1dccbe508e47' target=\"_blank\">\n",
        "<img alt='Created in deepnote.com' style='display:inline;max-height:16px;margin:0px;margin-right:7.5px;' src='data:image/svg+xml;base64,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' > </img>\n",
        "Created in <span style='font-weight:600;margin-left:4px;'>Deepnote</span></a>"
      ]
    },
    {
      "cell_type": "code",
      "execution_count": 54,
      "metadata": {},
      "outputs": [],
      "source": [
        "# import necessary libraries\n",
        "import pandas as pd\n",
        "import numpy as np\n",
        "import plotly.express as px\n",
        "import plotly.graph_objects as go\n",
        "from plotly.subplots import make_subplots\n"
      ]
    },
    {
      "cell_type": "code",
      "execution_count": 55,
      "metadata": {},
      "outputs": [
        {
          "data": {
            "text/html": [
              "<div>\n",
              "<style scoped>\n",
              "    .dataframe tbody tr th:only-of-type {\n",
              "        vertical-align: middle;\n",
              "    }\n",
              "\n",
              "    .dataframe tbody tr th {\n",
              "        vertical-align: top;\n",
              "    }\n",
              "\n",
              "    .dataframe thead th {\n",
              "        text-align: right;\n",
              "    }\n",
              "</style>\n",
              "<table border=\"1\" class=\"dataframe\">\n",
              "  <thead>\n",
              "    <tr style=\"text-align: right;\">\n",
              "      <th></th>\n",
              "      <th>Country</th>\n",
              "      <th>Year</th>\n",
              "      <th>Category</th>\n",
              "      <th>Imports</th>\n",
              "      <th>Exports</th>\n",
              "      <th>Balance</th>\n",
              "    </tr>\n",
              "  </thead>\n",
              "  <tbody>\n",
              "    <tr>\n",
              "      <th>0</th>\n",
              "      <td>Mexico</td>\n",
              "      <td>2018</td>\n",
              "      <td>Parts</td>\n",
              "      <td>152000000.0</td>\n",
              "      <td>388000000.0</td>\n",
              "      <td>236000000.0</td>\n",
              "    </tr>\n",
              "    <tr>\n",
              "      <th>1</th>\n",
              "      <td>Mexico</td>\n",
              "      <td>2018</td>\n",
              "      <td>Light</td>\n",
              "      <td>320000000.0</td>\n",
              "      <td>146000000.0</td>\n",
              "      <td>-174000000.0</td>\n",
              "    </tr>\n",
              "    <tr>\n",
              "      <th>2</th>\n",
              "      <td>Mexico</td>\n",
              "      <td>2018</td>\n",
              "      <td>Heavy</td>\n",
              "      <td>121000000.0</td>\n",
              "      <td>228000000.0</td>\n",
              "      <td>107000000.0</td>\n",
              "    </tr>\n",
              "    <tr>\n",
              "      <th>3</th>\n",
              "      <td>Mexico</td>\n",
              "      <td>2019</td>\n",
              "      <td>Parts</td>\n",
              "      <td>70000000.0</td>\n",
              "      <td>142000000.0</td>\n",
              "      <td>72000000.0</td>\n",
              "    </tr>\n",
              "    <tr>\n",
              "      <th>4</th>\n",
              "      <td>Mexico</td>\n",
              "      <td>2019</td>\n",
              "      <td>Light</td>\n",
              "      <td>171000000.0</td>\n",
              "      <td>254000000.0</td>\n",
              "      <td>83000000.0</td>\n",
              "    </tr>\n",
              "    <tr>\n",
              "      <th>...</th>\n",
              "      <td>...</td>\n",
              "      <td>...</td>\n",
              "      <td>...</td>\n",
              "      <td>...</td>\n",
              "      <td>...</td>\n",
              "      <td>...</td>\n",
              "    </tr>\n",
              "    <tr>\n",
              "      <th>70</th>\n",
              "      <td>Brazil</td>\n",
              "      <td>2021</td>\n",
              "      <td>Light</td>\n",
              "      <td>221000000.0</td>\n",
              "      <td>399000000.0</td>\n",
              "      <td>178000000.0</td>\n",
              "    </tr>\n",
              "    <tr>\n",
              "      <th>71</th>\n",
              "      <td>Brazil</td>\n",
              "      <td>2021</td>\n",
              "      <td>Heavy</td>\n",
              "      <td>263000000.0</td>\n",
              "      <td>74000000.0</td>\n",
              "      <td>-189000000.0</td>\n",
              "    </tr>\n",
              "    <tr>\n",
              "      <th>72</th>\n",
              "      <td>Brazil</td>\n",
              "      <td>2022</td>\n",
              "      <td>Parts</td>\n",
              "      <td>498000000.0</td>\n",
              "      <td>266000000.0</td>\n",
              "      <td>-232000000.0</td>\n",
              "    </tr>\n",
              "    <tr>\n",
              "      <th>73</th>\n",
              "      <td>Brazil</td>\n",
              "      <td>2022</td>\n",
              "      <td>Light</td>\n",
              "      <td>150000000.0</td>\n",
              "      <td>170000000.0</td>\n",
              "      <td>20000000.0</td>\n",
              "    </tr>\n",
              "    <tr>\n",
              "      <th>74</th>\n",
              "      <td>Brazil</td>\n",
              "      <td>2022</td>\n",
              "      <td>Heavy</td>\n",
              "      <td>306000000.0</td>\n",
              "      <td>44000000.0</td>\n",
              "      <td>-262000000.0</td>\n",
              "    </tr>\n",
              "  </tbody>\n",
              "</table>\n",
              "<p>75 rows × 6 columns</p>\n",
              "</div>"
            ],
            "text/plain": [
              "   Country  Year Category      Imports      Exports      Balance\n",
              "0   Mexico  2018    Parts  152000000.0  388000000.0  236000000.0\n",
              "1   Mexico  2018    Light  320000000.0  146000000.0 -174000000.0\n",
              "2   Mexico  2018    Heavy  121000000.0  228000000.0  107000000.0\n",
              "3   Mexico  2019    Parts   70000000.0  142000000.0   72000000.0\n",
              "4   Mexico  2019    Light  171000000.0  254000000.0   83000000.0\n",
              "..     ...   ...      ...          ...          ...          ...\n",
              "70  Brazil  2021    Light  221000000.0  399000000.0  178000000.0\n",
              "71  Brazil  2021    Heavy  263000000.0   74000000.0 -189000000.0\n",
              "72  Brazil  2022    Parts  498000000.0  266000000.0 -232000000.0\n",
              "73  Brazil  2022    Light  150000000.0  170000000.0   20000000.0\n",
              "74  Brazil  2022    Heavy  306000000.0   44000000.0 -262000000.0\n",
              "\n",
              "[75 rows x 6 columns]"
            ]
          },
          "execution_count": 55,
          "metadata": {},
          "output_type": "execute_result"
        }
      ],
      "source": [
        "import pandas as pd\n",
        "import numpy as np\n",
        "\n",
        "# Parameters\n",
        "countries = [\"Mexico\", \"China\", \"India\", \"Germany\", \"Brazil\"]\n",
        "years = list(range(2018, 2023))\n",
        "categories = [\"Parts\", \"Light\", \"Heavy\"]\n",
        "\n",
        "# Build dummy dataset\n",
        "data = []\n",
        "np.random.seed(42)  # reproducibility\n",
        "\n",
        "for country in countries:\n",
        "    for year in years:\n",
        "        for cat in categories:\n",
        "            imports = np.random.randint(50, 500) * 1e6   # in millions\n",
        "            exports = np.random.randint(40, 450) * 1e6\n",
        "            data.append([country, year, cat, imports, exports])\n",
        "\n",
        "df = pd.DataFrame(data, columns=[\"Country\", \"Year\", \"Category\", \"Imports\", \"Exports\"])\n",
        "\n",
        "df[\"Balance\"] = df[\"Exports\"] - df[\"Imports\"]\n",
        "df[\"Year\"] = df[\"Year\"].astype(str)  # Convert Year to string for better plotting\n",
        "df"
      ]
    },
    {
      "cell_type": "markdown",
      "metadata": {},
      "source": [
        "Helper fucntions to plot"
      ]
    },
    {
      "cell_type": "code",
      "execution_count": 56,
      "metadata": {},
      "outputs": [],
      "source": [
        "def plot_line(df, x, y, x_label, y_label,legend_label,title, **kwargs):\n",
        "    \"\"\"\n",
        "    Plot line chart using Plotly.\n",
        "    Parameters:\n",
        "    - df: DataFrame containing the data to plot.\n",
        "    - x: Column name for x-axis.\n",
        "    - y: List of column names for y-axis.\n",
        "    - x_label: Label for x-axis.\n",
        "    - y_label: Label for y-axis.\n",
        "    - legend_label: Label for the legend.\n",
        "    - **kwargs: Additional keyword arguments for customization.\n",
        "    Returns:\n",
        "    - fig: Plotly figure object.\n",
        "    Raises:\n",
        "    - ValueError: If specified columns are not in the DataFrame.\n",
        "    - TypeError: If input types are incorrect.\n",
        "    Example:\n",
        "    plot_line(df, x=\"Year\", y=[\"Imports\", \"Exports\", \"Balance\"], x_label=\"Year\", y_label=\"Value\", legend_label=\"Measure\", title=\"Trade Data Over Years\")\n",
        "    \n",
        "    \"\"\"\n",
        "\n",
        "    fig = px.line(df, x=x, y=y, **kwargs)\n",
        "    fig.update_layout(\n",
        "        xaxis_title=x_label,\n",
        "        yaxis_title=y_label,\n",
        "        legend_title=legend_label,\n",
        "        title={\n",
        "            'text': title,\n",
        "            'x':0.5, # center title\n",
        "            'xanchor': 'center',\n",
        "            'yanchor': 'top',\n",
        "            'font': {'size':20}\n",
        "        }\n",
        "    )\n",
        "    return fig"
      ]
    },
    {
      "cell_type": "code",
      "execution_count": 57,
      "metadata": {},
      "outputs": [
        {
          "data": {
            "application/vnd.plotly.v1+json": {
              "config": {
                "plotlyServerURL": "https://plot.ly"
              },
              "data": [
                {
                  "hovertemplate": "variable=Imports<br>Year=%{x}<br>value=%{y}<extra></extra>",
                  "legendgroup": "Imports",
                  "line": {
                    "color": "#636efa",
                    "dash": "solid"
                  },
                  "marker": {
                    "symbol": "circle"
                  },
                  "mode": "lines",
                  "name": "Imports",
                  "orientation": "v",
                  "showlegend": true,
                  "type": "scatter",
                  "x": [
                    "2018",
                    "2019",
                    "2020",
                    "2021",
                    "2022"
                  ],
                  "xaxis": "x",
                  "y": {
                    "bdata": "AAAAcGeY7EEAAAAgF7jwQQAAAPBFGe9BAAAAvPte8UEAAADId4vrQQ==",
                    "dtype": "f8"
                  },
                  "yaxis": "y"
                },
                {
                  "hovertemplate": "variable=Exports<br>Year=%{x}<br>value=%{y}<extra></extra>",
                  "legendgroup": "Exports",
                  "line": {
                    "color": "#EF553B",
                    "dash": "solid"
                  },
                  "marker": {
                    "symbol": "circle"
                  },
                  "mode": "lines",
                  "name": "Exports",
                  "orientation": "v",
                  "showlegend": true,
                  "type": "scatter",
                  "x": [
                    "2018",
                    "2019",
                    "2020",
                    "2021",
                    "2022"
                  ],
                  "xaxis": "x",
                  "y": {
                    "bdata": "AAAA4Oe57kEAAADIqA/mQQAAAPhbO+tBAAAA0PmJ6kEAAACY9nruQQ==",
                    "dtype": "f8"
                  },
                  "yaxis": "y"
                },
                {
                  "hovertemplate": "variable=Balance<br>Year=%{x}<br>value=%{y}<extra></extra>",
                  "legendgroup": "Balance",
                  "line": {
                    "color": "#00cc96",
                    "dash": "solid"
                  },
                  "marker": {
                    "symbol": "circle"
                  },
                  "mode": "lines",
                  "name": "Balance",
                  "orientation": "v",
                  "showlegend": true,
                  "type": "scatter",
                  "x": [
                    "2018",
                    "2019",
                    "2020",
                    "2021",
                    "2022"
                  ],
                  "xaxis": "x",
                  "y": {
                    "bdata": "AAAAgAMMsUEAAADwCsHWwQAAAMBP777BAAAAUPtn0MEAAACA9nu3QQ==",
                    "dtype": "f8"
                  },
                  "yaxis": "y"
                }
              ],
              "layout": {
                "legend": {
                  "title": {
                    "text": "Measure"
                  },
                  "tracegroupgap": 0
                },
                "margin": {
                  "t": 60
                },
                "template": {
                  "data": {
                    "bar": [
                      {
                        "error_x": {
                          "color": "#2a3f5f"
                        },
                        "error_y": {
                          "color": "#2a3f5f"
                        },
                        "marker": {
                          "line": {
                            "color": "#E5ECF6",
                            "width": 0.5
                          },
                          "pattern": {
                            "fillmode": "overlay",
                            "size": 10,
                            "solidity": 0.2
                          }
                        },
                        "type": "bar"
                      }
                    ],
                    "barpolar": [
                      {
                        "marker": {
                          "line": {
                            "color": "#E5ECF6",
                            "width": 0.5
                          },
                          "pattern": {
                            "fillmode": "overlay",
                            "size": 10,
                            "solidity": 0.2
                          }
                        },
                        "type": "barpolar"
                      }
                    ],
                    "carpet": [
                      {
                        "aaxis": {
                          "endlinecolor": "#2a3f5f",
                          "gridcolor": "white",
                          "linecolor": "white",
                          "minorgridcolor": "white",
                          "startlinecolor": "#2a3f5f"
                        },
                        "baxis": {
                          "endlinecolor": "#2a3f5f",
                          "gridcolor": "white",
                          "linecolor": "white",
                          "minorgridcolor": "white",
                          "startlinecolor": "#2a3f5f"
                        },
                        "type": "carpet"
                      }
                    ],
                    "choropleth": [
                      {
                        "colorbar": {
                          "outlinewidth": 0,
                          "ticks": ""
                        },
                        "type": "choropleth"
                      }
                    ],
                    "contour": [
                      {
                        "colorbar": {
                          "outlinewidth": 0,
                          "ticks": ""
                        },
                        "colorscale": [
                          [
                            0,
                            "#0d0887"
                          ],
                          [
                            0.1111111111111111,
                            "#46039f"
                          ],
                          [
                            0.2222222222222222,
                            "#7201a8"
                          ],
                          [
                            0.3333333333333333,
                            "#9c179e"
                          ],
                          [
                            0.4444444444444444,
                            "#bd3786"
                          ],
                          [
                            0.5555555555555556,
                            "#d8576b"
                          ],
                          [
                            0.6666666666666666,
                            "#ed7953"
                          ],
                          [
                            0.7777777777777778,
                            "#fb9f3a"
                          ],
                          [
                            0.8888888888888888,
                            "#fdca26"
                          ],
                          [
                            1,
                            "#f0f921"
                          ]
                        ],
                        "type": "contour"
                      }
                    ],
                    "contourcarpet": [
                      {
                        "colorbar": {
                          "outlinewidth": 0,
                          "ticks": ""
                        },
                        "type": "contourcarpet"
                      }
                    ],
                    "heatmap": [
                      {
                        "colorbar": {
                          "outlinewidth": 0,
                          "ticks": ""
                        },
                        "colorscale": [
                          [
                            0,
                            "#0d0887"
                          ],
                          [
                            0.1111111111111111,
                            "#46039f"
                          ],
                          [
                            0.2222222222222222,
                            "#7201a8"
                          ],
                          [
                            0.3333333333333333,
                            "#9c179e"
                          ],
                          [
                            0.4444444444444444,
                            "#bd3786"
                          ],
                          [
                            0.5555555555555556,
                            "#d8576b"
                          ],
                          [
                            0.6666666666666666,
                            "#ed7953"
                          ],
                          [
                            0.7777777777777778,
                            "#fb9f3a"
                          ],
                          [
                            0.8888888888888888,
                            "#fdca26"
                          ],
                          [
                            1,
                            "#f0f921"
                          ]
                        ],
                        "type": "heatmap"
                      }
                    ],
                    "histogram": [
                      {
                        "marker": {
                          "pattern": {
                            "fillmode": "overlay",
                            "size": 10,
                            "solidity": 0.2
                          }
                        },
                        "type": "histogram"
                      }
                    ],
                    "histogram2d": [
                      {
                        "colorbar": {
                          "outlinewidth": 0,
                          "ticks": ""
                        },
                        "colorscale": [
                          [
                            0,
                            "#0d0887"
                          ],
                          [
                            0.1111111111111111,
                            "#46039f"
                          ],
                          [
                            0.2222222222222222,
                            "#7201a8"
                          ],
                          [
                            0.3333333333333333,
                            "#9c179e"
                          ],
                          [
                            0.4444444444444444,
                            "#bd3786"
                          ],
                          [
                            0.5555555555555556,
                            "#d8576b"
                          ],
                          [
                            0.6666666666666666,
                            "#ed7953"
                          ],
                          [
                            0.7777777777777778,
                            "#fb9f3a"
                          ],
                          [
                            0.8888888888888888,
                            "#fdca26"
                          ],
                          [
                            1,
                            "#f0f921"
                          ]
                        ],
                        "type": "histogram2d"
                      }
                    ],
                    "histogram2dcontour": [
                      {
                        "colorbar": {
                          "outlinewidth": 0,
                          "ticks": ""
                        },
                        "colorscale": [
                          [
                            0,
                            "#0d0887"
                          ],
                          [
                            0.1111111111111111,
                            "#46039f"
                          ],
                          [
                            0.2222222222222222,
                            "#7201a8"
                          ],
                          [
                            0.3333333333333333,
                            "#9c179e"
                          ],
                          [
                            0.4444444444444444,
                            "#bd3786"
                          ],
                          [
                            0.5555555555555556,
                            "#d8576b"
                          ],
                          [
                            0.6666666666666666,
                            "#ed7953"
                          ],
                          [
                            0.7777777777777778,
                            "#fb9f3a"
                          ],
                          [
                            0.8888888888888888,
                            "#fdca26"
                          ],
                          [
                            1,
                            "#f0f921"
                          ]
                        ],
                        "type": "histogram2dcontour"
                      }
                    ],
                    "mesh3d": [
                      {
                        "colorbar": {
                          "outlinewidth": 0,
                          "ticks": ""
                        },
                        "type": "mesh3d"
                      }
                    ],
                    "parcoords": [
                      {
                        "line": {
                          "colorbar": {
                            "outlinewidth": 0,
                            "ticks": ""
                          }
                        },
                        "type": "parcoords"
                      }
                    ],
                    "pie": [
                      {
                        "automargin": true,
                        "type": "pie"
                      }
                    ],
                    "scatter": [
                      {
                        "fillpattern": {
                          "fillmode": "overlay",
                          "size": 10,
                          "solidity": 0.2
                        },
                        "type": "scatter"
                      }
                    ],
                    "scatter3d": [
                      {
                        "line": {
                          "colorbar": {
                            "outlinewidth": 0,
                            "ticks": ""
                          }
                        },
                        "marker": {
                          "colorbar": {
                            "outlinewidth": 0,
                            "ticks": ""
                          }
                        },
                        "type": "scatter3d"
                      }
                    ],
                    "scattercarpet": [
                      {
                        "marker": {
                          "colorbar": {
                            "outlinewidth": 0,
                            "ticks": ""
                          }
                        },
                        "type": "scattercarpet"
                      }
                    ],
                    "scattergeo": [
                      {
                        "marker": {
                          "colorbar": {
                            "outlinewidth": 0,
                            "ticks": ""
                          }
                        },
                        "type": "scattergeo"
                      }
                    ],
                    "scattergl": [
                      {
                        "marker": {
                          "colorbar": {
                            "outlinewidth": 0,
                            "ticks": ""
                          }
                        },
                        "type": "scattergl"
                      }
                    ],
                    "scattermap": [
                      {
                        "marker": {
                          "colorbar": {
                            "outlinewidth": 0,
                            "ticks": ""
                          }
                        },
                        "type": "scattermap"
                      }
                    ],
                    "scattermapbox": [
                      {
                        "marker": {
                          "colorbar": {
                            "outlinewidth": 0,
                            "ticks": ""
                          }
                        },
                        "type": "scattermapbox"
                      }
                    ],
                    "scatterpolar": [
                      {
                        "marker": {
                          "colorbar": {
                            "outlinewidth": 0,
                            "ticks": ""
                          }
                        },
                        "type": "scatterpolar"
                      }
                    ],
                    "scatterpolargl": [
                      {
                        "marker": {
                          "colorbar": {
                            "outlinewidth": 0,
                            "ticks": ""
                          }
                        },
                        "type": "scatterpolargl"
                      }
                    ],
                    "scatterternary": [
                      {
                        "marker": {
                          "colorbar": {
                            "outlinewidth": 0,
                            "ticks": ""
                          }
                        },
                        "type": "scatterternary"
                      }
                    ],
                    "surface": [
                      {
                        "colorbar": {
                          "outlinewidth": 0,
                          "ticks": ""
                        },
                        "colorscale": [
                          [
                            0,
                            "#0d0887"
                          ],
                          [
                            0.1111111111111111,
                            "#46039f"
                          ],
                          [
                            0.2222222222222222,
                            "#7201a8"
                          ],
                          [
                            0.3333333333333333,
                            "#9c179e"
                          ],
                          [
                            0.4444444444444444,
                            "#bd3786"
                          ],
                          [
                            0.5555555555555556,
                            "#d8576b"
                          ],
                          [
                            0.6666666666666666,
                            "#ed7953"
                          ],
                          [
                            0.7777777777777778,
                            "#fb9f3a"
                          ],
                          [
                            0.8888888888888888,
                            "#fdca26"
                          ],
                          [
                            1,
                            "#f0f921"
                          ]
                        ],
                        "type": "surface"
                      }
                    ],
                    "table": [
                      {
                        "cells": {
                          "fill": {
                            "color": "#EBF0F8"
                          },
                          "line": {
                            "color": "white"
                          }
                        },
                        "header": {
                          "fill": {
                            "color": "#C8D4E3"
                          },
                          "line": {
                            "color": "white"
                          }
                        },
                        "type": "table"
                      }
                    ]
                  },
                  "layout": {
                    "annotationdefaults": {
                      "arrowcolor": "#2a3f5f",
                      "arrowhead": 0,
                      "arrowwidth": 1
                    },
                    "autotypenumbers": "strict",
                    "coloraxis": {
                      "colorbar": {
                        "outlinewidth": 0,
                        "ticks": ""
                      }
                    },
                    "colorscale": {
                      "diverging": [
                        [
                          0,
                          "#8e0152"
                        ],
                        [
                          0.1,
                          "#c51b7d"
                        ],
                        [
                          0.2,
                          "#de77ae"
                        ],
                        [
                          0.3,
                          "#f1b6da"
                        ],
                        [
                          0.4,
                          "#fde0ef"
                        ],
                        [
                          0.5,
                          "#f7f7f7"
                        ],
                        [
                          0.6,
                          "#e6f5d0"
                        ],
                        [
                          0.7,
                          "#b8e186"
                        ],
                        [
                          0.8,
                          "#7fbc41"
                        ],
                        [
                          0.9,
                          "#4d9221"
                        ],
                        [
                          1,
                          "#276419"
                        ]
                      ],
                      "sequential": [
                        [
                          0,
                          "#0d0887"
                        ],
                        [
                          0.1111111111111111,
                          "#46039f"
                        ],
                        [
                          0.2222222222222222,
                          "#7201a8"
                        ],
                        [
                          0.3333333333333333,
                          "#9c179e"
                        ],
                        [
                          0.4444444444444444,
                          "#bd3786"
                        ],
                        [
                          0.5555555555555556,
                          "#d8576b"
                        ],
                        [
                          0.6666666666666666,
                          "#ed7953"
                        ],
                        [
                          0.7777777777777778,
                          "#fb9f3a"
                        ],
                        [
                          0.8888888888888888,
                          "#fdca26"
                        ],
                        [
                          1,
                          "#f0f921"
                        ]
                      ],
                      "sequentialminus": [
                        [
                          0,
                          "#0d0887"
                        ],
                        [
                          0.1111111111111111,
                          "#46039f"
                        ],
                        [
                          0.2222222222222222,
                          "#7201a8"
                        ],
                        [
                          0.3333333333333333,
                          "#9c179e"
                        ],
                        [
                          0.4444444444444444,
                          "#bd3786"
                        ],
                        [
                          0.5555555555555556,
                          "#d8576b"
                        ],
                        [
                          0.6666666666666666,
                          "#ed7953"
                        ],
                        [
                          0.7777777777777778,
                          "#fb9f3a"
                        ],
                        [
                          0.8888888888888888,
                          "#fdca26"
                        ],
                        [
                          1,
                          "#f0f921"
                        ]
                      ]
                    },
                    "colorway": [
                      "#636efa",
                      "#EF553B",
                      "#00cc96",
                      "#ab63fa",
                      "#FFA15A",
                      "#19d3f3",
                      "#FF6692",
                      "#B6E880",
                      "#FF97FF",
                      "#FECB52"
                    ],
                    "font": {
                      "color": "#2a3f5f"
                    },
                    "geo": {
                      "bgcolor": "white",
                      "lakecolor": "white",
                      "landcolor": "#E5ECF6",
                      "showlakes": true,
                      "showland": true,
                      "subunitcolor": "white"
                    },
                    "hoverlabel": {
                      "align": "left"
                    },
                    "hovermode": "closest",
                    "mapbox": {
                      "style": "light"
                    },
                    "paper_bgcolor": "white",
                    "plot_bgcolor": "#E5ECF6",
                    "polar": {
                      "angularaxis": {
                        "gridcolor": "white",
                        "linecolor": "white",
                        "ticks": ""
                      },
                      "bgcolor": "#E5ECF6",
                      "radialaxis": {
                        "gridcolor": "white",
                        "linecolor": "white",
                        "ticks": ""
                      }
                    },
                    "scene": {
                      "xaxis": {
                        "backgroundcolor": "#E5ECF6",
                        "gridcolor": "white",
                        "gridwidth": 2,
                        "linecolor": "white",
                        "showbackground": true,
                        "ticks": "",
                        "zerolinecolor": "white"
                      },
                      "yaxis": {
                        "backgroundcolor": "#E5ECF6",
                        "gridcolor": "white",
                        "gridwidth": 2,
                        "linecolor": "white",
                        "showbackground": true,
                        "ticks": "",
                        "zerolinecolor": "white"
                      },
                      "zaxis": {
                        "backgroundcolor": "#E5ECF6",
                        "gridcolor": "white",
                        "gridwidth": 2,
                        "linecolor": "white",
                        "showbackground": true,
                        "ticks": "",
                        "zerolinecolor": "white"
                      }
                    },
                    "shapedefaults": {
                      "line": {
                        "color": "#2a3f5f"
                      }
                    },
                    "ternary": {
                      "aaxis": {
                        "gridcolor": "white",
                        "linecolor": "white",
                        "ticks": ""
                      },
                      "baxis": {
                        "gridcolor": "white",
                        "linecolor": "white",
                        "ticks": ""
                      },
                      "bgcolor": "#E5ECF6",
                      "caxis": {
                        "gridcolor": "white",
                        "linecolor": "white",
                        "ticks": ""
                      }
                    },
                    "title": {
                      "x": 0.05
                    },
                    "xaxis": {
                      "automargin": true,
                      "gridcolor": "white",
                      "linecolor": "white",
                      "ticks": "",
                      "title": {
                        "standoff": 15
                      },
                      "zerolinecolor": "white",
                      "zerolinewidth": 2
                    },
                    "yaxis": {
                      "automargin": true,
                      "gridcolor": "white",
                      "linecolor": "white",
                      "ticks": "",
                      "title": {
                        "standoff": 15
                      },
                      "zerolinecolor": "white",
                      "zerolinewidth": 2
                    }
                  }
                },
                "title": {
                  "font": {
                    "size": 20
                  },
                  "text": "Trade Data Over Years",
                  "x": 0.5,
                  "xanchor": "center",
                  "yanchor": "top"
                },
                "xaxis": {
                  "anchor": "y",
                  "domain": [
                    0,
                    1
                  ],
                  "title": {
                    "text": "Year"
                  }
                },
                "yaxis": {
                  "anchor": "x",
                  "domain": [
                    0,
                    1
                  ],
                  "title": {
                    "text": "Value"
                  }
                }
              }
            }
          },
          "metadata": {},
          "output_type": "display_data"
        }
      ],
      "source": [
        "agg_df = df.groupby(\"Year\")[[\"Imports\", \"Exports\", \"Balance\"]].sum().reset_index()\n",
        "\n",
        "\n",
        "fig = plot_line(agg_df, \n",
        "          x=\"Year\",\n",
        "          y=[\"Imports\", \"Exports\", \"Balance\"],\n",
        "          x_label=\"Year\",\n",
        "          y_label=\"Value\",\n",
        "          legend_label=\"Measure\",\n",
        "          title=\"Trade Data Over Years\")\n",
        "\n",
        "fig.show()"
      ]
    },
    {
      "cell_type": "code",
      "execution_count": 58,
      "metadata": {},
      "outputs": [],
      "source": [
        "def plot_scatter(df, x, y, x_label, y_label,legend_label,title, **kwargs):\n",
        "    \"\"\"\n",
        "    Plot line chart using Plotly.\n",
        "    Parameters:\n",
        "    - df: DataFrame containing the data to plot.\n",
        "    - x: Column name for x-axis.\n",
        "    - y: List of column names for y-axis.\n",
        "    - x_label: Label for x-axis.\n",
        "    - y_label: Label for y-axis.\n",
        "    - legend_label: Label for the legend.\n",
        "    - **kwargs: Additional keyword arguments for customization.\n",
        "    Returns:\n",
        "    - fig: Plotly figure object.\n",
        "    Raises:\n",
        "    - ValueError: If specified columns are not in the DataFrame.\n",
        "    - TypeError: If input types are incorrect.\n",
        "    Example:\n",
        "    plot_line(df, x=\"Year\", y=[\"Imports\", \"Exports\", \"Balance\"], x_label=\"Year\", y_label=\"Value\", legend_label=\"Measure\", title=\"Trade Data Over Years\")\n",
        "    \n",
        "    \"\"\"\n",
        "\n",
        "    fig = px.scatter(df, x=x, y=y, **kwargs)\n",
        "    fig.update_layout(\n",
        "        xaxis_title=x_label,\n",
        "        yaxis_title=y_label,\n",
        "        legend_title=legend_label,\n",
        "        title={\n",
        "        'text': title,\n",
        "        'x':0.5, # center title\n",
        "        'xanchor': 'center',\n",
        "        'yanchor': 'top',\n",
        "        'font': {'size':20}\n",
        "    }\n",
        "    )\n",
        "    return fig"
      ]
    },
    {
      "cell_type": "code",
      "execution_count": 59,
      "metadata": {},
      "outputs": [
        {
          "data": {
            "application/vnd.plotly.v1+json": {
              "config": {
                "plotlyServerURL": "https://plot.ly"
              },
              "data": [
                {
                  "hovertemplate": "Exports=%{x}<br>Imports=%{y}<extra></extra>",
                  "legendgroup": "",
                  "marker": {
                    "color": "#636efa",
                    "symbol": "circle"
                  },
                  "mode": "markers",
                  "name": "",
                  "orientation": "v",
                  "showlegend": false,
                  "type": "scatter",
                  "x": {
                    "bdata": "AAAA4Oe57kEAAADIqA/mQQAAAPhbO+tBAAAA0PmJ6kEAAACY9nruQQ==",
                    "dtype": "f8"
                  },
                  "xaxis": "x",
                  "y": {
                    "bdata": "AAAAcGeY7EEAAAAgF7jwQQAAAPBFGe9BAAAAvPte8UEAAADId4vrQQ==",
                    "dtype": "f8"
                  },
                  "yaxis": "y"
                }
              ],
              "layout": {
                "legend": {
                  "title": {
                    "text": "Measure"
                  },
                  "tracegroupgap": 0
                },
                "margin": {
                  "t": 60
                },
                "template": {
                  "data": {
                    "bar": [
                      {
                        "error_x": {
                          "color": "#2a3f5f"
                        },
                        "error_y": {
                          "color": "#2a3f5f"
                        },
                        "marker": {
                          "line": {
                            "color": "#E5ECF6",
                            "width": 0.5
                          },
                          "pattern": {
                            "fillmode": "overlay",
                            "size": 10,
                            "solidity": 0.2
                          }
                        },
                        "type": "bar"
                      }
                    ],
                    "barpolar": [
                      {
                        "marker": {
                          "line": {
                            "color": "#E5ECF6",
                            "width": 0.5
                          },
                          "pattern": {
                            "fillmode": "overlay",
                            "size": 10,
                            "solidity": 0.2
                          }
                        },
                        "type": "barpolar"
                      }
                    ],
                    "carpet": [
                      {
                        "aaxis": {
                          "endlinecolor": "#2a3f5f",
                          "gridcolor": "white",
                          "linecolor": "white",
                          "minorgridcolor": "white",
                          "startlinecolor": "#2a3f5f"
                        },
                        "baxis": {
                          "endlinecolor": "#2a3f5f",
                          "gridcolor": "white",
                          "linecolor": "white",
                          "minorgridcolor": "white",
                          "startlinecolor": "#2a3f5f"
                        },
                        "type": "carpet"
                      }
                    ],
                    "choropleth": [
                      {
                        "colorbar": {
                          "outlinewidth": 0,
                          "ticks": ""
                        },
                        "type": "choropleth"
                      }
                    ],
                    "contour": [
                      {
                        "colorbar": {
                          "outlinewidth": 0,
                          "ticks": ""
                        },
                        "colorscale": [
                          [
                            0,
                            "#0d0887"
                          ],
                          [
                            0.1111111111111111,
                            "#46039f"
                          ],
                          [
                            0.2222222222222222,
                            "#7201a8"
                          ],
                          [
                            0.3333333333333333,
                            "#9c179e"
                          ],
                          [
                            0.4444444444444444,
                            "#bd3786"
                          ],
                          [
                            0.5555555555555556,
                            "#d8576b"
                          ],
                          [
                            0.6666666666666666,
                            "#ed7953"
                          ],
                          [
                            0.7777777777777778,
                            "#fb9f3a"
                          ],
                          [
                            0.8888888888888888,
                            "#fdca26"
                          ],
                          [
                            1,
                            "#f0f921"
                          ]
                        ],
                        "type": "contour"
                      }
                    ],
                    "contourcarpet": [
                      {
                        "colorbar": {
                          "outlinewidth": 0,
                          "ticks": ""
                        },
                        "type": "contourcarpet"
                      }
                    ],
                    "heatmap": [
                      {
                        "colorbar": {
                          "outlinewidth": 0,
                          "ticks": ""
                        },
                        "colorscale": [
                          [
                            0,
                            "#0d0887"
                          ],
                          [
                            0.1111111111111111,
                            "#46039f"
                          ],
                          [
                            0.2222222222222222,
                            "#7201a8"
                          ],
                          [
                            0.3333333333333333,
                            "#9c179e"
                          ],
                          [
                            0.4444444444444444,
                            "#bd3786"
                          ],
                          [
                            0.5555555555555556,
                            "#d8576b"
                          ],
                          [
                            0.6666666666666666,
                            "#ed7953"
                          ],
                          [
                            0.7777777777777778,
                            "#fb9f3a"
                          ],
                          [
                            0.8888888888888888,
                            "#fdca26"
                          ],
                          [
                            1,
                            "#f0f921"
                          ]
                        ],
                        "type": "heatmap"
                      }
                    ],
                    "histogram": [
                      {
                        "marker": {
                          "pattern": {
                            "fillmode": "overlay",
                            "size": 10,
                            "solidity": 0.2
                          }
                        },
                        "type": "histogram"
                      }
                    ],
                    "histogram2d": [
                      {
                        "colorbar": {
                          "outlinewidth": 0,
                          "ticks": ""
                        },
                        "colorscale": [
                          [
                            0,
                            "#0d0887"
                          ],
                          [
                            0.1111111111111111,
                            "#46039f"
                          ],
                          [
                            0.2222222222222222,
                            "#7201a8"
                          ],
                          [
                            0.3333333333333333,
                            "#9c179e"
                          ],
                          [
                            0.4444444444444444,
                            "#bd3786"
                          ],
                          [
                            0.5555555555555556,
                            "#d8576b"
                          ],
                          [
                            0.6666666666666666,
                            "#ed7953"
                          ],
                          [
                            0.7777777777777778,
                            "#fb9f3a"
                          ],
                          [
                            0.8888888888888888,
                            "#fdca26"
                          ],
                          [
                            1,
                            "#f0f921"
                          ]
                        ],
                        "type": "histogram2d"
                      }
                    ],
                    "histogram2dcontour": [
                      {
                        "colorbar": {
                          "outlinewidth": 0,
                          "ticks": ""
                        },
                        "colorscale": [
                          [
                            0,
                            "#0d0887"
                          ],
                          [
                            0.1111111111111111,
                            "#46039f"
                          ],
                          [
                            0.2222222222222222,
                            "#7201a8"
                          ],
                          [
                            0.3333333333333333,
                            "#9c179e"
                          ],
                          [
                            0.4444444444444444,
                            "#bd3786"
                          ],
                          [
                            0.5555555555555556,
                            "#d8576b"
                          ],
                          [
                            0.6666666666666666,
                            "#ed7953"
                          ],
                          [
                            0.7777777777777778,
                            "#fb9f3a"
                          ],
                          [
                            0.8888888888888888,
                            "#fdca26"
                          ],
                          [
                            1,
                            "#f0f921"
                          ]
                        ],
                        "type": "histogram2dcontour"
                      }
                    ],
                    "mesh3d": [
                      {
                        "colorbar": {
                          "outlinewidth": 0,
                          "ticks": ""
                        },
                        "type": "mesh3d"
                      }
                    ],
                    "parcoords": [
                      {
                        "line": {
                          "colorbar": {
                            "outlinewidth": 0,
                            "ticks": ""
                          }
                        },
                        "type": "parcoords"
                      }
                    ],
                    "pie": [
                      {
                        "automargin": true,
                        "type": "pie"
                      }
                    ],
                    "scatter": [
                      {
                        "fillpattern": {
                          "fillmode": "overlay",
                          "size": 10,
                          "solidity": 0.2
                        },
                        "type": "scatter"
                      }
                    ],
                    "scatter3d": [
                      {
                        "line": {
                          "colorbar": {
                            "outlinewidth": 0,
                            "ticks": ""
                          }
                        },
                        "marker": {
                          "colorbar": {
                            "outlinewidth": 0,
                            "ticks": ""
                          }
                        },
                        "type": "scatter3d"
                      }
                    ],
                    "scattercarpet": [
                      {
                        "marker": {
                          "colorbar": {
                            "outlinewidth": 0,
                            "ticks": ""
                          }
                        },
                        "type": "scattercarpet"
                      }
                    ],
                    "scattergeo": [
                      {
                        "marker": {
                          "colorbar": {
                            "outlinewidth": 0,
                            "ticks": ""
                          }
                        },
                        "type": "scattergeo"
                      }
                    ],
                    "scattergl": [
                      {
                        "marker": {
                          "colorbar": {
                            "outlinewidth": 0,
                            "ticks": ""
                          }
                        },
                        "type": "scattergl"
                      }
                    ],
                    "scattermap": [
                      {
                        "marker": {
                          "colorbar": {
                            "outlinewidth": 0,
                            "ticks": ""
                          }
                        },
                        "type": "scattermap"
                      }
                    ],
                    "scattermapbox": [
                      {
                        "marker": {
                          "colorbar": {
                            "outlinewidth": 0,
                            "ticks": ""
                          }
                        },
                        "type": "scattermapbox"
                      }
                    ],
                    "scatterpolar": [
                      {
                        "marker": {
                          "colorbar": {
                            "outlinewidth": 0,
                            "ticks": ""
                          }
                        },
                        "type": "scatterpolar"
                      }
                    ],
                    "scatterpolargl": [
                      {
                        "marker": {
                          "colorbar": {
                            "outlinewidth": 0,
                            "ticks": ""
                          }
                        },
                        "type": "scatterpolargl"
                      }
                    ],
                    "scatterternary": [
                      {
                        "marker": {
                          "colorbar": {
                            "outlinewidth": 0,
                            "ticks": ""
                          }
                        },
                        "type": "scatterternary"
                      }
                    ],
                    "surface": [
                      {
                        "colorbar": {
                          "outlinewidth": 0,
                          "ticks": ""
                        },
                        "colorscale": [
                          [
                            0,
                            "#0d0887"
                          ],
                          [
                            0.1111111111111111,
                            "#46039f"
                          ],
                          [
                            0.2222222222222222,
                            "#7201a8"
                          ],
                          [
                            0.3333333333333333,
                            "#9c179e"
                          ],
                          [
                            0.4444444444444444,
                            "#bd3786"
                          ],
                          [
                            0.5555555555555556,
                            "#d8576b"
                          ],
                          [
                            0.6666666666666666,
                            "#ed7953"
                          ],
                          [
                            0.7777777777777778,
                            "#fb9f3a"
                          ],
                          [
                            0.8888888888888888,
                            "#fdca26"
                          ],
                          [
                            1,
                            "#f0f921"
                          ]
                        ],
                        "type": "surface"
                      }
                    ],
                    "table": [
                      {
                        "cells": {
                          "fill": {
                            "color": "#EBF0F8"
                          },
                          "line": {
                            "color": "white"
                          }
                        },
                        "header": {
                          "fill": {
                            "color": "#C8D4E3"
                          },
                          "line": {
                            "color": "white"
                          }
                        },
                        "type": "table"
                      }
                    ]
                  },
                  "layout": {
                    "annotationdefaults": {
                      "arrowcolor": "#2a3f5f",
                      "arrowhead": 0,
                      "arrowwidth": 1
                    },
                    "autotypenumbers": "strict",
                    "coloraxis": {
                      "colorbar": {
                        "outlinewidth": 0,
                        "ticks": ""
                      }
                    },
                    "colorscale": {
                      "diverging": [
                        [
                          0,
                          "#8e0152"
                        ],
                        [
                          0.1,
                          "#c51b7d"
                        ],
                        [
                          0.2,
                          "#de77ae"
                        ],
                        [
                          0.3,
                          "#f1b6da"
                        ],
                        [
                          0.4,
                          "#fde0ef"
                        ],
                        [
                          0.5,
                          "#f7f7f7"
                        ],
                        [
                          0.6,
                          "#e6f5d0"
                        ],
                        [
                          0.7,
                          "#b8e186"
                        ],
                        [
                          0.8,
                          "#7fbc41"
                        ],
                        [
                          0.9,
                          "#4d9221"
                        ],
                        [
                          1,
                          "#276419"
                        ]
                      ],
                      "sequential": [
                        [
                          0,
                          "#0d0887"
                        ],
                        [
                          0.1111111111111111,
                          "#46039f"
                        ],
                        [
                          0.2222222222222222,
                          "#7201a8"
                        ],
                        [
                          0.3333333333333333,
                          "#9c179e"
                        ],
                        [
                          0.4444444444444444,
                          "#bd3786"
                        ],
                        [
                          0.5555555555555556,
                          "#d8576b"
                        ],
                        [
                          0.6666666666666666,
                          "#ed7953"
                        ],
                        [
                          0.7777777777777778,
                          "#fb9f3a"
                        ],
                        [
                          0.8888888888888888,
                          "#fdca26"
                        ],
                        [
                          1,
                          "#f0f921"
                        ]
                      ],
                      "sequentialminus": [
                        [
                          0,
                          "#0d0887"
                        ],
                        [
                          0.1111111111111111,
                          "#46039f"
                        ],
                        [
                          0.2222222222222222,
                          "#7201a8"
                        ],
                        [
                          0.3333333333333333,
                          "#9c179e"
                        ],
                        [
                          0.4444444444444444,
                          "#bd3786"
                        ],
                        [
                          0.5555555555555556,
                          "#d8576b"
                        ],
                        [
                          0.6666666666666666,
                          "#ed7953"
                        ],
                        [
                          0.7777777777777778,
                          "#fb9f3a"
                        ],
                        [
                          0.8888888888888888,
                          "#fdca26"
                        ],
                        [
                          1,
                          "#f0f921"
                        ]
                      ]
                    },
                    "colorway": [
                      "#636efa",
                      "#EF553B",
                      "#00cc96",
                      "#ab63fa",
                      "#FFA15A",
                      "#19d3f3",
                      "#FF6692",
                      "#B6E880",
                      "#FF97FF",
                      "#FECB52"
                    ],
                    "font": {
                      "color": "#2a3f5f"
                    },
                    "geo": {
                      "bgcolor": "white",
                      "lakecolor": "white",
                      "landcolor": "#E5ECF6",
                      "showlakes": true,
                      "showland": true,
                      "subunitcolor": "white"
                    },
                    "hoverlabel": {
                      "align": "left"
                    },
                    "hovermode": "closest",
                    "mapbox": {
                      "style": "light"
                    },
                    "paper_bgcolor": "white",
                    "plot_bgcolor": "#E5ECF6",
                    "polar": {
                      "angularaxis": {
                        "gridcolor": "white",
                        "linecolor": "white",
                        "ticks": ""
                      },
                      "bgcolor": "#E5ECF6",
                      "radialaxis": {
                        "gridcolor": "white",
                        "linecolor": "white",
                        "ticks": ""
                      }
                    },
                    "scene": {
                      "xaxis": {
                        "backgroundcolor": "#E5ECF6",
                        "gridcolor": "white",
                        "gridwidth": 2,
                        "linecolor": "white",
                        "showbackground": true,
                        "ticks": "",
                        "zerolinecolor": "white"
                      },
                      "yaxis": {
                        "backgroundcolor": "#E5ECF6",
                        "gridcolor": "white",
                        "gridwidth": 2,
                        "linecolor": "white",
                        "showbackground": true,
                        "ticks": "",
                        "zerolinecolor": "white"
                      },
                      "zaxis": {
                        "backgroundcolor": "#E5ECF6",
                        "gridcolor": "white",
                        "gridwidth": 2,
                        "linecolor": "white",
                        "showbackground": true,
                        "ticks": "",
                        "zerolinecolor": "white"
                      }
                    },
                    "shapedefaults": {
                      "line": {
                        "color": "#2a3f5f"
                      }
                    },
                    "ternary": {
                      "aaxis": {
                        "gridcolor": "white",
                        "linecolor": "white",
                        "ticks": ""
                      },
                      "baxis": {
                        "gridcolor": "white",
                        "linecolor": "white",
                        "ticks": ""
                      },
                      "bgcolor": "#E5ECF6",
                      "caxis": {
                        "gridcolor": "white",
                        "linecolor": "white",
                        "ticks": ""
                      }
                    },
                    "title": {
                      "x": 0.05
                    },
                    "xaxis": {
                      "automargin": true,
                      "gridcolor": "white",
                      "linecolor": "white",
                      "ticks": "",
                      "title": {
                        "standoff": 15
                      },
                      "zerolinecolor": "white",
                      "zerolinewidth": 2
                    },
                    "yaxis": {
                      "automargin": true,
                      "gridcolor": "white",
                      "linecolor": "white",
                      "ticks": "",
                      "title": {
                        "standoff": 15
                      },
                      "zerolinecolor": "white",
                      "zerolinewidth": 2
                    }
                  }
                },
                "title": {
                  "font": {
                    "size": 20
                  },
                  "text": "Trade Data Over Years",
                  "x": 0.5,
                  "xanchor": "center",
                  "yanchor": "top"
                },
                "xaxis": {
                  "anchor": "y",
                  "domain": [
                    0,
                    1
                  ],
                  "title": {
                    "text": "Year"
                  }
                },
                "yaxis": {
                  "anchor": "x",
                  "domain": [
                    0,
                    1
                  ],
                  "title": {
                    "text": "Value"
                  }
                }
              }
            }
          },
          "metadata": {},
          "output_type": "display_data"
        }
      ],
      "source": [
        "agg_df = df.groupby(\"Year\")[[\"Imports\", \"Exports\", \"Balance\"]].sum().reset_index()\n",
        "\n",
        "\n",
        "fig = plot_scatter(agg_df, \n",
        "          x=\"Exports\",\n",
        "          y=\"Imports\",\n",
        "          x_label=\"Year\",\n",
        "          y_label=\"Value\",\n",
        "          legend_label=\"Measure\",\n",
        "          title=\"Trade Data Over Years\")\n",
        "\n",
        "fig.show()"
      ]
    },
    {
      "cell_type": "code",
      "execution_count": 60,
      "metadata": {},
      "outputs": [
        {
          "data": {
            "application/vnd.plotly.v1+json": {
              "config": {
                "plotlyServerURL": "https://plot.ly"
              },
              "data": [
                {
                  "line": {
                    "color": "grey",
                    "width": 2
                  },
                  "marker": {
                    "size": 10
                  },
                  "mode": "lines",
                  "showlegend": false,
                  "type": "scatter",
                  "x": [
                    3544000000,
                    3682000000
                  ],
                  "y": [
                    "Brazil",
                    "Brazil"
                  ]
                },
                {
                  "line": {
                    "color": "grey",
                    "width": 2
                  },
                  "marker": {
                    "size": 10
                  },
                  "mode": "lines",
                  "showlegend": false,
                  "type": "scatter",
                  "x": [
                    3755000000,
                    4198000000
                  ],
                  "y": [
                    "China",
                    "China"
                  ]
                },
                {
                  "line": {
                    "color": "grey",
                    "width": 2
                  },
                  "marker": {
                    "size": 10
                  },
                  "mode": "lines",
                  "showlegend": false,
                  "type": "scatter",
                  "x": [
                    3559000000,
                    4199000000
                  ],
                  "y": [
                    "Germany",
                    "Germany"
                  ]
                },
                {
                  "line": {
                    "color": "grey",
                    "width": 2
                  },
                  "marker": {
                    "size": 10
                  },
                  "mode": "lines",
                  "showlegend": false,
                  "type": "scatter",
                  "x": [
                    3909000000,
                    4596000000
                  ],
                  "y": [
                    "India",
                    "India"
                  ]
                },
                {
                  "line": {
                    "color": "grey",
                    "width": 2
                  },
                  "marker": {
                    "size": 10
                  },
                  "mode": "lines",
                  "showlegend": false,
                  "type": "scatter",
                  "x": [
                    3626000000,
                    4185000000
                  ],
                  "y": [
                    "Mexico",
                    "Mexico"
                  ]
                },
                {
                  "marker": {
                    "color": "blue",
                    "size": 12
                  },
                  "mode": "markers",
                  "name": "Exports",
                  "type": "scatter",
                  "x": {
                    "bdata": "AAAAwKRn6kEAAAAYGPrrQQAAAPhAhOpBAAAAaNMf7UEAAADQCwTrQQ==",
                    "dtype": "f8"
                  },
                  "y": [
                    "Brazil",
                    "China",
                    "Germany",
                    "India",
                    "Mexico"
                  ]
                },
                {
                  "marker": {
                    "color": "pink",
                    "size": 12
                  },
                  "mode": "markers",
                  "name": "Imports",
                  "type": "scatter",
                  "x": {
                    "bdata": "AAAAkNtu60EAAACwDEfvQQAAAPj0SO9BAAAAUBYf8UEAAAAIQS7vQQ==",
                    "dtype": "f8"
                  },
                  "y": [
                    "Brazil",
                    "China",
                    "Germany",
                    "India",
                    "Mexico"
                  ]
                }
              ],
              "layout": {
                "legend": {
                  "title": {
                    "text": ""
                  }
                },
                "template": {
                  "data": {
                    "bar": [
                      {
                        "error_x": {
                          "color": "#2a3f5f"
                        },
                        "error_y": {
                          "color": "#2a3f5f"
                        },
                        "marker": {
                          "line": {
                            "color": "#E5ECF6",
                            "width": 0.5
                          },
                          "pattern": {
                            "fillmode": "overlay",
                            "size": 10,
                            "solidity": 0.2
                          }
                        },
                        "type": "bar"
                      }
                    ],
                    "barpolar": [
                      {
                        "marker": {
                          "line": {
                            "color": "#E5ECF6",
                            "width": 0.5
                          },
                          "pattern": {
                            "fillmode": "overlay",
                            "size": 10,
                            "solidity": 0.2
                          }
                        },
                        "type": "barpolar"
                      }
                    ],
                    "carpet": [
                      {
                        "aaxis": {
                          "endlinecolor": "#2a3f5f",
                          "gridcolor": "white",
                          "linecolor": "white",
                          "minorgridcolor": "white",
                          "startlinecolor": "#2a3f5f"
                        },
                        "baxis": {
                          "endlinecolor": "#2a3f5f",
                          "gridcolor": "white",
                          "linecolor": "white",
                          "minorgridcolor": "white",
                          "startlinecolor": "#2a3f5f"
                        },
                        "type": "carpet"
                      }
                    ],
                    "choropleth": [
                      {
                        "colorbar": {
                          "outlinewidth": 0,
                          "ticks": ""
                        },
                        "type": "choropleth"
                      }
                    ],
                    "contour": [
                      {
                        "colorbar": {
                          "outlinewidth": 0,
                          "ticks": ""
                        },
                        "colorscale": [
                          [
                            0,
                            "#0d0887"
                          ],
                          [
                            0.1111111111111111,
                            "#46039f"
                          ],
                          [
                            0.2222222222222222,
                            "#7201a8"
                          ],
                          [
                            0.3333333333333333,
                            "#9c179e"
                          ],
                          [
                            0.4444444444444444,
                            "#bd3786"
                          ],
                          [
                            0.5555555555555556,
                            "#d8576b"
                          ],
                          [
                            0.6666666666666666,
                            "#ed7953"
                          ],
                          [
                            0.7777777777777778,
                            "#fb9f3a"
                          ],
                          [
                            0.8888888888888888,
                            "#fdca26"
                          ],
                          [
                            1,
                            "#f0f921"
                          ]
                        ],
                        "type": "contour"
                      }
                    ],
                    "contourcarpet": [
                      {
                        "colorbar": {
                          "outlinewidth": 0,
                          "ticks": ""
                        },
                        "type": "contourcarpet"
                      }
                    ],
                    "heatmap": [
                      {
                        "colorbar": {
                          "outlinewidth": 0,
                          "ticks": ""
                        },
                        "colorscale": [
                          [
                            0,
                            "#0d0887"
                          ],
                          [
                            0.1111111111111111,
                            "#46039f"
                          ],
                          [
                            0.2222222222222222,
                            "#7201a8"
                          ],
                          [
                            0.3333333333333333,
                            "#9c179e"
                          ],
                          [
                            0.4444444444444444,
                            "#bd3786"
                          ],
                          [
                            0.5555555555555556,
                            "#d8576b"
                          ],
                          [
                            0.6666666666666666,
                            "#ed7953"
                          ],
                          [
                            0.7777777777777778,
                            "#fb9f3a"
                          ],
                          [
                            0.8888888888888888,
                            "#fdca26"
                          ],
                          [
                            1,
                            "#f0f921"
                          ]
                        ],
                        "type": "heatmap"
                      }
                    ],
                    "histogram": [
                      {
                        "marker": {
                          "pattern": {
                            "fillmode": "overlay",
                            "size": 10,
                            "solidity": 0.2
                          }
                        },
                        "type": "histogram"
                      }
                    ],
                    "histogram2d": [
                      {
                        "colorbar": {
                          "outlinewidth": 0,
                          "ticks": ""
                        },
                        "colorscale": [
                          [
                            0,
                            "#0d0887"
                          ],
                          [
                            0.1111111111111111,
                            "#46039f"
                          ],
                          [
                            0.2222222222222222,
                            "#7201a8"
                          ],
                          [
                            0.3333333333333333,
                            "#9c179e"
                          ],
                          [
                            0.4444444444444444,
                            "#bd3786"
                          ],
                          [
                            0.5555555555555556,
                            "#d8576b"
                          ],
                          [
                            0.6666666666666666,
                            "#ed7953"
                          ],
                          [
                            0.7777777777777778,
                            "#fb9f3a"
                          ],
                          [
                            0.8888888888888888,
                            "#fdca26"
                          ],
                          [
                            1,
                            "#f0f921"
                          ]
                        ],
                        "type": "histogram2d"
                      }
                    ],
                    "histogram2dcontour": [
                      {
                        "colorbar": {
                          "outlinewidth": 0,
                          "ticks": ""
                        },
                        "colorscale": [
                          [
                            0,
                            "#0d0887"
                          ],
                          [
                            0.1111111111111111,
                            "#46039f"
                          ],
                          [
                            0.2222222222222222,
                            "#7201a8"
                          ],
                          [
                            0.3333333333333333,
                            "#9c179e"
                          ],
                          [
                            0.4444444444444444,
                            "#bd3786"
                          ],
                          [
                            0.5555555555555556,
                            "#d8576b"
                          ],
                          [
                            0.6666666666666666,
                            "#ed7953"
                          ],
                          [
                            0.7777777777777778,
                            "#fb9f3a"
                          ],
                          [
                            0.8888888888888888,
                            "#fdca26"
                          ],
                          [
                            1,
                            "#f0f921"
                          ]
                        ],
                        "type": "histogram2dcontour"
                      }
                    ],
                    "mesh3d": [
                      {
                        "colorbar": {
                          "outlinewidth": 0,
                          "ticks": ""
                        },
                        "type": "mesh3d"
                      }
                    ],
                    "parcoords": [
                      {
                        "line": {
                          "colorbar": {
                            "outlinewidth": 0,
                            "ticks": ""
                          }
                        },
                        "type": "parcoords"
                      }
                    ],
                    "pie": [
                      {
                        "automargin": true,
                        "type": "pie"
                      }
                    ],
                    "scatter": [
                      {
                        "fillpattern": {
                          "fillmode": "overlay",
                          "size": 10,
                          "solidity": 0.2
                        },
                        "type": "scatter"
                      }
                    ],
                    "scatter3d": [
                      {
                        "line": {
                          "colorbar": {
                            "outlinewidth": 0,
                            "ticks": ""
                          }
                        },
                        "marker": {
                          "colorbar": {
                            "outlinewidth": 0,
                            "ticks": ""
                          }
                        },
                        "type": "scatter3d"
                      }
                    ],
                    "scattercarpet": [
                      {
                        "marker": {
                          "colorbar": {
                            "outlinewidth": 0,
                            "ticks": ""
                          }
                        },
                        "type": "scattercarpet"
                      }
                    ],
                    "scattergeo": [
                      {
                        "marker": {
                          "colorbar": {
                            "outlinewidth": 0,
                            "ticks": ""
                          }
                        },
                        "type": "scattergeo"
                      }
                    ],
                    "scattergl": [
                      {
                        "marker": {
                          "colorbar": {
                            "outlinewidth": 0,
                            "ticks": ""
                          }
                        },
                        "type": "scattergl"
                      }
                    ],
                    "scattermap": [
                      {
                        "marker": {
                          "colorbar": {
                            "outlinewidth": 0,
                            "ticks": ""
                          }
                        },
                        "type": "scattermap"
                      }
                    ],
                    "scattermapbox": [
                      {
                        "marker": {
                          "colorbar": {
                            "outlinewidth": 0,
                            "ticks": ""
                          }
                        },
                        "type": "scattermapbox"
                      }
                    ],
                    "scatterpolar": [
                      {
                        "marker": {
                          "colorbar": {
                            "outlinewidth": 0,
                            "ticks": ""
                          }
                        },
                        "type": "scatterpolar"
                      }
                    ],
                    "scatterpolargl": [
                      {
                        "marker": {
                          "colorbar": {
                            "outlinewidth": 0,
                            "ticks": ""
                          }
                        },
                        "type": "scatterpolargl"
                      }
                    ],
                    "scatterternary": [
                      {
                        "marker": {
                          "colorbar": {
                            "outlinewidth": 0,
                            "ticks": ""
                          }
                        },
                        "type": "scatterternary"
                      }
                    ],
                    "surface": [
                      {
                        "colorbar": {
                          "outlinewidth": 0,
                          "ticks": ""
                        },
                        "colorscale": [
                          [
                            0,
                            "#0d0887"
                          ],
                          [
                            0.1111111111111111,
                            "#46039f"
                          ],
                          [
                            0.2222222222222222,
                            "#7201a8"
                          ],
                          [
                            0.3333333333333333,
                            "#9c179e"
                          ],
                          [
                            0.4444444444444444,
                            "#bd3786"
                          ],
                          [
                            0.5555555555555556,
                            "#d8576b"
                          ],
                          [
                            0.6666666666666666,
                            "#ed7953"
                          ],
                          [
                            0.7777777777777778,
                            "#fb9f3a"
                          ],
                          [
                            0.8888888888888888,
                            "#fdca26"
                          ],
                          [
                            1,
                            "#f0f921"
                          ]
                        ],
                        "type": "surface"
                      }
                    ],
                    "table": [
                      {
                        "cells": {
                          "fill": {
                            "color": "#EBF0F8"
                          },
                          "line": {
                            "color": "white"
                          }
                        },
                        "header": {
                          "fill": {
                            "color": "#C8D4E3"
                          },
                          "line": {
                            "color": "white"
                          }
                        },
                        "type": "table"
                      }
                    ]
                  },
                  "layout": {
                    "annotationdefaults": {
                      "arrowcolor": "#2a3f5f",
                      "arrowhead": 0,
                      "arrowwidth": 1
                    },
                    "autotypenumbers": "strict",
                    "coloraxis": {
                      "colorbar": {
                        "outlinewidth": 0,
                        "ticks": ""
                      }
                    },
                    "colorscale": {
                      "diverging": [
                        [
                          0,
                          "#8e0152"
                        ],
                        [
                          0.1,
                          "#c51b7d"
                        ],
                        [
                          0.2,
                          "#de77ae"
                        ],
                        [
                          0.3,
                          "#f1b6da"
                        ],
                        [
                          0.4,
                          "#fde0ef"
                        ],
                        [
                          0.5,
                          "#f7f7f7"
                        ],
                        [
                          0.6,
                          "#e6f5d0"
                        ],
                        [
                          0.7,
                          "#b8e186"
                        ],
                        [
                          0.8,
                          "#7fbc41"
                        ],
                        [
                          0.9,
                          "#4d9221"
                        ],
                        [
                          1,
                          "#276419"
                        ]
                      ],
                      "sequential": [
                        [
                          0,
                          "#0d0887"
                        ],
                        [
                          0.1111111111111111,
                          "#46039f"
                        ],
                        [
                          0.2222222222222222,
                          "#7201a8"
                        ],
                        [
                          0.3333333333333333,
                          "#9c179e"
                        ],
                        [
                          0.4444444444444444,
                          "#bd3786"
                        ],
                        [
                          0.5555555555555556,
                          "#d8576b"
                        ],
                        [
                          0.6666666666666666,
                          "#ed7953"
                        ],
                        [
                          0.7777777777777778,
                          "#fb9f3a"
                        ],
                        [
                          0.8888888888888888,
                          "#fdca26"
                        ],
                        [
                          1,
                          "#f0f921"
                        ]
                      ],
                      "sequentialminus": [
                        [
                          0,
                          "#0d0887"
                        ],
                        [
                          0.1111111111111111,
                          "#46039f"
                        ],
                        [
                          0.2222222222222222,
                          "#7201a8"
                        ],
                        [
                          0.3333333333333333,
                          "#9c179e"
                        ],
                        [
                          0.4444444444444444,
                          "#bd3786"
                        ],
                        [
                          0.5555555555555556,
                          "#d8576b"
                        ],
                        [
                          0.6666666666666666,
                          "#ed7953"
                        ],
                        [
                          0.7777777777777778,
                          "#fb9f3a"
                        ],
                        [
                          0.8888888888888888,
                          "#fdca26"
                        ],
                        [
                          1,
                          "#f0f921"
                        ]
                      ]
                    },
                    "colorway": [
                      "#636efa",
                      "#EF553B",
                      "#00cc96",
                      "#ab63fa",
                      "#FFA15A",
                      "#19d3f3",
                      "#FF6692",
                      "#B6E880",
                      "#FF97FF",
                      "#FECB52"
                    ],
                    "font": {
                      "color": "#2a3f5f"
                    },
                    "geo": {
                      "bgcolor": "white",
                      "lakecolor": "white",
                      "landcolor": "#E5ECF6",
                      "showlakes": true,
                      "showland": true,
                      "subunitcolor": "white"
                    },
                    "hoverlabel": {
                      "align": "left"
                    },
                    "hovermode": "closest",
                    "mapbox": {
                      "style": "light"
                    },
                    "paper_bgcolor": "white",
                    "plot_bgcolor": "#E5ECF6",
                    "polar": {
                      "angularaxis": {
                        "gridcolor": "white",
                        "linecolor": "white",
                        "ticks": ""
                      },
                      "bgcolor": "#E5ECF6",
                      "radialaxis": {
                        "gridcolor": "white",
                        "linecolor": "white",
                        "ticks": ""
                      }
                    },
                    "scene": {
                      "xaxis": {
                        "backgroundcolor": "#E5ECF6",
                        "gridcolor": "white",
                        "gridwidth": 2,
                        "linecolor": "white",
                        "showbackground": true,
                        "ticks": "",
                        "zerolinecolor": "white"
                      },
                      "yaxis": {
                        "backgroundcolor": "#E5ECF6",
                        "gridcolor": "white",
                        "gridwidth": 2,
                        "linecolor": "white",
                        "showbackground": true,
                        "ticks": "",
                        "zerolinecolor": "white"
                      },
                      "zaxis": {
                        "backgroundcolor": "#E5ECF6",
                        "gridcolor": "white",
                        "gridwidth": 2,
                        "linecolor": "white",
                        "showbackground": true,
                        "ticks": "",
                        "zerolinecolor": "white"
                      }
                    },
                    "shapedefaults": {
                      "line": {
                        "color": "#2a3f5f"
                      }
                    },
                    "ternary": {
                      "aaxis": {
                        "gridcolor": "white",
                        "linecolor": "white",
                        "ticks": ""
                      },
                      "baxis": {
                        "gridcolor": "white",
                        "linecolor": "white",
                        "ticks": ""
                      },
                      "bgcolor": "#E5ECF6",
                      "caxis": {
                        "gridcolor": "white",
                        "linecolor": "white",
                        "ticks": ""
                      }
                    },
                    "title": {
                      "x": 0.05
                    },
                    "xaxis": {
                      "automargin": true,
                      "gridcolor": "white",
                      "linecolor": "white",
                      "ticks": "",
                      "title": {
                        "standoff": 15
                      },
                      "zerolinecolor": "white",
                      "zerolinewidth": 2
                    },
                    "yaxis": {
                      "automargin": true,
                      "gridcolor": "white",
                      "linecolor": "white",
                      "ticks": "",
                      "title": {
                        "standoff": 15
                      },
                      "zerolinecolor": "white",
                      "zerolinewidth": 2
                    }
                  }
                },
                "title": {
                  "font": {
                    "size": 20
                  },
                  "text": "Trade Data Over Years",
                  "x": 0.5,
                  "xanchor": "center",
                  "yanchor": "top"
                },
                "xaxis": {
                  "title": {
                    "text": "Value"
                  }
                },
                "yaxis": {
                  "title": {
                    "text": "Year"
                  }
                }
              }
            }
          },
          "metadata": {},
          "output_type": "display_data"
        }
      ],
      "source": [
        "def plot_dumbell(df, x1, x2, y, x_label, y_label, legend_label, title, **kwargs):\n",
        "    \"\"\"\n",
        "    Plot line chart using Plotly.\n",
        "    Parameters:\n",
        "        - df: DataFrame containing the data to plot.\n",
        "        - x: Column name for x-axis.\n",
        "        - y: List of column names for y-axis.\n",
        "        - x_label: Label for x-axis.\n",
        "        - y_label: Label for y-axis.\n",
        "        - legend_label: Label for the legend.\n",
        "        - **kwargs: Additional keyword arguments for customization.\n",
        "    Returns:\n",
        "        - fig: Plotly figure object.\n",
        "    Raises:\n",
        "        - ValueError: If specified columns are not in the DataFrame.\n",
        "        - TypeError: If input types are incorrect.\n",
        "    Example:\n",
        "        plot_line(df, x=\"Year\", y=[\"Imports\", \"Exports\", \"Balance\"], x_label=\"Year\", y_label=\"Value\", legend_label=\"Measure\", title=\"Trade Data Over Years\")\n",
        "    \n",
        "    \"\"\"\n",
        "    \n",
        "\n",
        "    # Create dumbbell chart\n",
        "    fig = go.Figure()\n",
        "    for _, row in df.iterrows():\n",
        "        # Line connecting Exports and Imports\n",
        "        fig.add_trace(go.Scatter(\n",
        "            x=[row[x1], row[x2]],\n",
        "            y=[row[y], row[y]],\n",
        "            mode=\"lines\",\n",
        "            marker=dict(size=10),\n",
        "            line=dict(color=\"grey\", width=2),\n",
        "            showlegend=False\n",
        "        ))\n",
        "        \n",
        "    # Add separate markers for Exports and Imports\n",
        "    \n",
        "    # Add markers for Exports\n",
        "    fig.add_trace(go.Scatter(\n",
        "        x=df[x1],\n",
        "        y=df[y],\n",
        "        mode=\"markers\",\n",
        "        name=x1,\n",
        "        marker=dict(color=\"blue\", size=12)\n",
        "    ))\n",
        "\n",
        "    # Add markers for Imports\n",
        "    fig.add_trace(go.Scatter(\n",
        "        x=df[x2],\n",
        "        y=df[y],\n",
        "        mode=\"markers\",\n",
        "        name=\"Imports\",\n",
        "        marker=dict(color=\"pink\", size=12)\n",
        "    ))\n",
        "\n",
        "    # updates labels, title, legend\n",
        "    fig.update_layout(\n",
        "        xaxis_title=x_label,\n",
        "        yaxis_title=y_label,\n",
        "        legend_title=legend_label,\n",
        "        title={\n",
        "        'text': title,\n",
        "        'x':0.5, # center title\n",
        "        'xanchor': 'center',\n",
        "        'yanchor': 'top',\n",
        "        'font': {'size':20}\n",
        "    }\n",
        "    )\n",
        "\n",
        "    return fig\n",
        "\n",
        "\n",
        "# \n",
        "agg_df = df.groupby(\"Country\")[[\"Imports\", \"Exports\", \"Balance\"]].sum().reset_index()\n",
        "fig = plot_dumbell(agg_df, \"Exports\", \"Imports\", \"Country\",  x_label=\"Value\", y_label=\"Year\", legend_label=\"\", title=\"Trade Data Over Years\")\n",
        "fig.show()\n",
        "   "
      ]
    },
    {
      "cell_type": "code",
      "execution_count": 61,
      "metadata": {},
      "outputs": [
        {
          "data": {
            "text/html": [
              "<div>\n",
              "<style scoped>\n",
              "    .dataframe tbody tr th:only-of-type {\n",
              "        vertical-align: middle;\n",
              "    }\n",
              "\n",
              "    .dataframe tbody tr th {\n",
              "        vertical-align: top;\n",
              "    }\n",
              "\n",
              "    .dataframe thead th {\n",
              "        text-align: right;\n",
              "    }\n",
              "</style>\n",
              "<table border=\"1\" class=\"dataframe\">\n",
              "  <thead>\n",
              "    <tr style=\"text-align: right;\">\n",
              "      <th></th>\n",
              "      <th>country</th>\n",
              "      <th>continent</th>\n",
              "      <th>year</th>\n",
              "      <th>lifeExp</th>\n",
              "      <th>pop</th>\n",
              "      <th>gdpPercap</th>\n",
              "      <th>iso_alpha</th>\n",
              "      <th>iso_num</th>\n",
              "    </tr>\n",
              "  </thead>\n",
              "  <tbody>\n",
              "    <tr>\n",
              "      <th>0</th>\n",
              "      <td>Afghanistan</td>\n",
              "      <td>Asia</td>\n",
              "      <td>1952</td>\n",
              "      <td>28.801</td>\n",
              "      <td>8425333</td>\n",
              "      <td>779.445314</td>\n",
              "      <td>AFG</td>\n",
              "      <td>4</td>\n",
              "    </tr>\n",
              "    <tr>\n",
              "      <th>1</th>\n",
              "      <td>Afghanistan</td>\n",
              "      <td>Asia</td>\n",
              "      <td>1957</td>\n",
              "      <td>30.332</td>\n",
              "      <td>9240934</td>\n",
              "      <td>820.853030</td>\n",
              "      <td>AFG</td>\n",
              "      <td>4</td>\n",
              "    </tr>\n",
              "    <tr>\n",
              "      <th>2</th>\n",
              "      <td>Afghanistan</td>\n",
              "      <td>Asia</td>\n",
              "      <td>1962</td>\n",
              "      <td>31.997</td>\n",
              "      <td>10267083</td>\n",
              "      <td>853.100710</td>\n",
              "      <td>AFG</td>\n",
              "      <td>4</td>\n",
              "    </tr>\n",
              "    <tr>\n",
              "      <th>3</th>\n",
              "      <td>Afghanistan</td>\n",
              "      <td>Asia</td>\n",
              "      <td>1967</td>\n",
              "      <td>34.020</td>\n",
              "      <td>11537966</td>\n",
              "      <td>836.197138</td>\n",
              "      <td>AFG</td>\n",
              "      <td>4</td>\n",
              "    </tr>\n",
              "    <tr>\n",
              "      <th>4</th>\n",
              "      <td>Afghanistan</td>\n",
              "      <td>Asia</td>\n",
              "      <td>1972</td>\n",
              "      <td>36.088</td>\n",
              "      <td>13079460</td>\n",
              "      <td>739.981106</td>\n",
              "      <td>AFG</td>\n",
              "      <td>4</td>\n",
              "    </tr>\n",
              "    <tr>\n",
              "      <th>...</th>\n",
              "      <td>...</td>\n",
              "      <td>...</td>\n",
              "      <td>...</td>\n",
              "      <td>...</td>\n",
              "      <td>...</td>\n",
              "      <td>...</td>\n",
              "      <td>...</td>\n",
              "      <td>...</td>\n",
              "    </tr>\n",
              "    <tr>\n",
              "      <th>1699</th>\n",
              "      <td>Zimbabwe</td>\n",
              "      <td>Africa</td>\n",
              "      <td>1987</td>\n",
              "      <td>62.351</td>\n",
              "      <td>9216418</td>\n",
              "      <td>706.157306</td>\n",
              "      <td>ZWE</td>\n",
              "      <td>716</td>\n",
              "    </tr>\n",
              "    <tr>\n",
              "      <th>1700</th>\n",
              "      <td>Zimbabwe</td>\n",
              "      <td>Africa</td>\n",
              "      <td>1992</td>\n",
              "      <td>60.377</td>\n",
              "      <td>10704340</td>\n",
              "      <td>693.420786</td>\n",
              "      <td>ZWE</td>\n",
              "      <td>716</td>\n",
              "    </tr>\n",
              "    <tr>\n",
              "      <th>1701</th>\n",
              "      <td>Zimbabwe</td>\n",
              "      <td>Africa</td>\n",
              "      <td>1997</td>\n",
              "      <td>46.809</td>\n",
              "      <td>11404948</td>\n",
              "      <td>792.449960</td>\n",
              "      <td>ZWE</td>\n",
              "      <td>716</td>\n",
              "    </tr>\n",
              "    <tr>\n",
              "      <th>1702</th>\n",
              "      <td>Zimbabwe</td>\n",
              "      <td>Africa</td>\n",
              "      <td>2002</td>\n",
              "      <td>39.989</td>\n",
              "      <td>11926563</td>\n",
              "      <td>672.038623</td>\n",
              "      <td>ZWE</td>\n",
              "      <td>716</td>\n",
              "    </tr>\n",
              "    <tr>\n",
              "      <th>1703</th>\n",
              "      <td>Zimbabwe</td>\n",
              "      <td>Africa</td>\n",
              "      <td>2007</td>\n",
              "      <td>43.487</td>\n",
              "      <td>12311143</td>\n",
              "      <td>469.709298</td>\n",
              "      <td>ZWE</td>\n",
              "      <td>716</td>\n",
              "    </tr>\n",
              "  </tbody>\n",
              "</table>\n",
              "<p>1704 rows × 8 columns</p>\n",
              "</div>"
            ],
            "text/plain": [
              "          country continent  year  lifeExp       pop   gdpPercap iso_alpha  \\\n",
              "0     Afghanistan      Asia  1952   28.801   8425333  779.445314       AFG   \n",
              "1     Afghanistan      Asia  1957   30.332   9240934  820.853030       AFG   \n",
              "2     Afghanistan      Asia  1962   31.997  10267083  853.100710       AFG   \n",
              "3     Afghanistan      Asia  1967   34.020  11537966  836.197138       AFG   \n",
              "4     Afghanistan      Asia  1972   36.088  13079460  739.981106       AFG   \n",
              "...           ...       ...   ...      ...       ...         ...       ...   \n",
              "1699     Zimbabwe    Africa  1987   62.351   9216418  706.157306       ZWE   \n",
              "1700     Zimbabwe    Africa  1992   60.377  10704340  693.420786       ZWE   \n",
              "1701     Zimbabwe    Africa  1997   46.809  11404948  792.449960       ZWE   \n",
              "1702     Zimbabwe    Africa  2002   39.989  11926563  672.038623       ZWE   \n",
              "1703     Zimbabwe    Africa  2007   43.487  12311143  469.709298       ZWE   \n",
              "\n",
              "      iso_num  \n",
              "0           4  \n",
              "1           4  \n",
              "2           4  \n",
              "3           4  \n",
              "4           4  \n",
              "...       ...  \n",
              "1699      716  \n",
              "1700      716  \n",
              "1701      716  \n",
              "1702      716  \n",
              "1703      716  \n",
              "\n",
              "[1704 rows x 8 columns]"
            ]
          },
          "execution_count": 61,
          "metadata": {},
          "output_type": "execute_result"
        }
      ],
      "source": [
        "import plotly.express as px\n",
        "df = px.data.gapminder()\n",
        "df"
      ]
    },
    {
      "cell_type": "code",
      "execution_count": 62,
      "metadata": {},
      "outputs": [
        {
          "data": {
            "application/vnd.plotly.v1+json": {
              "config": {
                "plotlyServerURL": "https://plot.ly"
              },
              "data": [
                {
                  "hovertemplate": "<b>%{hovertext}</b><br><br>continent=Asia<br>year=1952<br>gdpPercap=%{x}<br>lifeExp=%{y}<br>pop=%{marker.size}<extra></extra>",
                  "hovertext": [
                    "Afghanistan",
                    "Bahrain",
                    "Bangladesh",
                    "Cambodia",
                    "China",
                    "Hong Kong, China",
                    "India",
                    "Indonesia",
                    "Iran",
                    "Iraq",
                    "Israel",
                    "Japan",
                    "Jordan",
                    "Korea, Dem. Rep.",
                    "Korea, Rep.",
                    "Kuwait",
                    "Lebanon",
                    "Malaysia",
                    "Mongolia",
                    "Myanmar",
                    "Nepal",
                    "Oman",
                    "Pakistan",
                    "Philippines",
                    "Saudi Arabia",
                    "Singapore",
                    "Sri Lanka",
                    "Syria",
                    "Taiwan",
                    "Thailand",
                    "Vietnam",
                    "West Bank and Gaza",
                    "Yemen, Rep."
                  ],
                  "ids": [
                    "Afghanistan",
                    "Bahrain",
                    "Bangladesh",
                    "Cambodia",
                    "China",
                    "Hong Kong, China",
                    "India",
                    "Indonesia",
                    "Iran",
                    "Iraq",
                    "Israel",
                    "Japan",
                    "Jordan",
                    "Korea, Dem. Rep.",
                    "Korea, Rep.",
                    "Kuwait",
                    "Lebanon",
                    "Malaysia",
                    "Mongolia",
                    "Myanmar",
                    "Nepal",
                    "Oman",
                    "Pakistan",
                    "Philippines",
                    "Saudi Arabia",
                    "Singapore",
                    "Sri Lanka",
                    "Syria",
                    "Taiwan",
                    "Thailand",
                    "Vietnam",
                    "West Bank and Gaza",
                    "Yemen, Rep."
                  ],
                  "legendgroup": "Asia",
                  "marker": {
                    "color": "#636efa",
                    "size": {
                      "bdata": "dY+AAH/WAQDLb8sCTJ9HAGfoJyFMcCAAAEUsFqAD5ATAjAcB5ghTALK7GACRQicFqkYJANBGhwBzoj8BAHECACn3FQDa+GYAlzcMAESYMgFIHYwAub8HAADmdgIjY1YBLR89AFgyEQAGzXkA7d43ANp3ggC62UQBt36QAbm5DwD1vUsA",
                      "dtype": "i4"
                    },
                    "sizemode": "area",
                    "sizeref": 651201.5288888889,
                    "symbol": "circle"
                  },
                  "mode": "markers",
                  "name": "Asia",
                  "orientation": "v",
                  "showlegend": true,
                  "type": "scatter",
                  "x": {
                    "bdata": "em8MAZBbiEBsW5TZikXDQOVkPRD0YYVAvQeeMYIHd0AEWrqCLQd5QJC/tKjX3KdA4amRp4YUgUBYsVMHdG2HQNzwu+mmtqdA6Po+HMQhsECneFxUC+2vQEFhUKbpIalAUoAomKErmEDP2JdsHAGRQF0XfnBeGpBAbHh6peV1+kDLvFXXzeKyQFdfXRWInJxA8L+V7IiUiEAAAAAAALB0QC63IADtDoFAKSSZ1euQnEARIFTzxmSFQMKjjSOG45NAElDhCI47uUDZeLDFRhaiQPfpeMwg7pBA7pOjAPGtmUDQmbSpytuSQAP2hxxhrodApefMLIjogkDiTX6LXq6XQCHPiZi9bYhA",
                    "dtype": "f8"
                  },
                  "xaxis": "x",
                  "y": {
                    "bdata": "kxgEVg7NPEDUeOkmMXhJQMuhRbbzvUJATDeJQWC1Q0AAAAAAAABGQHsUrkfhek5AO7TIdr6vQkCWQ4ts57tCQKwcWmQ7b0ZAKVyPwvWoRkApXI/C9VhQQKRwPQrXg09ATmIQWDmURUC6SQwCKwdJQESLbOf7uUdAuB6F61HIS0AQWDm0yPZLQCUGgZVDO0hArBxaZDsfRUBGtvP91ChCQGq8dJMYFEJARIts5/vJQkAshxbZzrdFQMdLN4lB4EdAAAAAAADwQ0Cmm8QgsDJOQJZDi2zny0xAGy/dJAbxRkAAAAAAAEBNQAaBlUOLbElA2/l+arw0REAUrkfhepRFQKAaL90kRkBA",
                    "dtype": "f8"
                  },
                  "yaxis": "y"
                },
                {
                  "hovertemplate": "<b>%{hovertext}</b><br><br>continent=Europe<br>year=1952<br>gdpPercap=%{x}<br>lifeExp=%{y}<br>pop=%{marker.size}<extra></extra>",
                  "hovertext": [
                    "Albania",
                    "Austria",
                    "Belgium",
                    "Bosnia and Herzegovina",
                    "Bulgaria",
                    "Croatia",
                    "Czech Republic",
                    "Denmark",
                    "Finland",
                    "France",
                    "Germany",
                    "Greece",
                    "Hungary",
                    "Iceland",
                    "Ireland",
                    "Italy",
                    "Montenegro",
                    "Netherlands",
                    "Norway",
                    "Poland",
                    "Portugal",
                    "Romania",
                    "Serbia",
                    "Slovak Republic",
                    "Slovenia",
                    "Spain",
                    "Sweden",
                    "Switzerland",
                    "Turkey",
                    "United Kingdom"
                  ],
                  "ids": [
                    "Albania",
                    "Austria",
                    "Belgium",
                    "Bosnia and Herzegovina",
                    "Bulgaria",
                    "Croatia",
                    "Czech Republic",
                    "Denmark",
                    "Finland",
                    "France",
                    "Germany",
                    "Greece",
                    "Hungary",
                    "Iceland",
                    "Ireland",
                    "Italy",
                    "Montenegro",
                    "Netherlands",
                    "Norway",
                    "Poland",
                    "Portugal",
                    "Romania",
                    "Serbia",
                    "Slovak Republic",
                    "Slovenia",
                    "Spain",
                    "Sweden",
                    "Switzerland",
                    "Turkey",
                    "United Kingdom"
                  ],
                  "legendgroup": "Europe",
                  "marker": {
                    "color": "#EF553B",
                    "size": {
                      "bdata": "iZITAJy1aQAlN4UAWJYqAJQBbwD1PDsAPz2LALAhQgCEaj4AE+KHAmAVHwQCAHYAAAWRAPpBAgDcCy0AUFPXAopQBgCkap4A8MYyAPediAHiGIIA8MD9AHOtaAD5SjYAbroWAO6iswHBtmwAmHhJAB1KUwEwgAED",
                      "dtype": "i4"
                    },
                    "sizemode": "area",
                    "sizeref": 651201.5288888889,
                    "symbol": "circle"
                  },
                  "mode": "markers",
                  "name": "Europe",
                  "orientation": "v",
                  "showlegend": true,
                  "type": "scatter",
                  "x": {
                    "bdata": "gzC3ezkEmUBozvqUE/m3QHYxzXSNS8BALqOi+0NsjkDt0obDkhijQLNBJhl5XqhARIts5yPcukD5SbVPMe7CQE1J1uGEGLlAxeQNMM91u0DmEdxIHei7QBk6dlBhlatAhpM0f6yPtECnQdE8sGO8QCdok8NHWrRAgruzdmdDs0AD7+TTK6+kQPqXpDLJdsFACcTr+rW3w0AMrU7OqHqvQCSAm8Wj+KdAu/CD8zmRqEBtrMQ86/qrQKosCruo0rNA58WJrwp3sECYE7TJEfStQBdp4h3sp8BAEoPAyh3HzEAzFk1nZ8SeQLgdGhbBfcNA",
                    "dtype": "f8"
                  },
                  "xaxis": "x2",
                  "y": {
                    "bdata": "PQrXo3CdS0AzMzMzM7NQQAAAAAAAAFFAKVyPwvXoSkDNzMzMzMxNQHsUrkfhmk5ASOF6FK63UEBSuB6F67FRQDMzMzMzo1BACtejcD3aUEAAAAAAAOBQQNejcD0Kd1BAUrgehesBUECPwvUoXB9SQArXo3A9ulBAXI/C9Sh8UECiRbbz/ZRNQLgehetRCFJAexSuR+EqUkBI4XoUrqdOQClcj8L16E1AZmZmZmaGTkBzaJHtfP9MQNejcD0KF1BAFK5H4XpkUEBcj8L1KDxQQNejcD0K91FASOF6FK5nUUB7FK5H4cpFQOxRuB6FS1FA",
                    "dtype": "f8"
                  },
                  "yaxis": "y2"
                },
                {
                  "hovertemplate": "<b>%{hovertext}</b><br><br>continent=Africa<br>year=1952<br>gdpPercap=%{x}<br>lifeExp=%{y}<br>pop=%{marker.size}<extra></extra>",
                  "hovertext": [
                    "Algeria",
                    "Angola",
                    "Benin",
                    "Botswana",
                    "Burkina Faso",
                    "Burundi",
                    "Cameroon",
                    "Central African Republic",
                    "Chad",
                    "Comoros",
                    "Congo, Dem. Rep.",
                    "Congo, Rep.",
                    "Cote d'Ivoire",
                    "Djibouti",
                    "Egypt",
                    "Equatorial Guinea",
                    "Eritrea",
                    "Ethiopia",
                    "Gabon",
                    "Gambia",
                    "Ghana",
                    "Guinea",
                    "Guinea-Bissau",
                    "Kenya",
                    "Lesotho",
                    "Liberia",
                    "Libya",
                    "Madagascar",
                    "Malawi",
                    "Mali",
                    "Mauritania",
                    "Mauritius",
                    "Morocco",
                    "Mozambique",
                    "Namibia",
                    "Niger",
                    "Nigeria",
                    "Reunion",
                    "Rwanda",
                    "Sao Tome and Principe",
                    "Senegal",
                    "Sierra Leone",
                    "Somalia",
                    "South Africa",
                    "Sudan",
                    "Swaziland",
                    "Tanzania",
                    "Togo",
                    "Tunisia",
                    "Uganda",
                    "Zambia",
                    "Zimbabwe"
                  ],
                  "ids": [
                    "Algeria",
                    "Angola",
                    "Benin",
                    "Botswana",
                    "Burkina Faso",
                    "Burundi",
                    "Cameroon",
                    "Central African Republic",
                    "Chad",
                    "Comoros",
                    "Congo, Dem. Rep.",
                    "Congo, Rep.",
                    "Cote d'Ivoire",
                    "Djibouti",
                    "Egypt",
                    "Equatorial Guinea",
                    "Eritrea",
                    "Ethiopia",
                    "Gabon",
                    "Gambia",
                    "Ghana",
                    "Guinea",
                    "Guinea-Bissau",
                    "Kenya",
                    "Lesotho",
                    "Liberia",
                    "Libya",
                    "Madagascar",
                    "Malawi",
                    "Mali",
                    "Mauritania",
                    "Mauritius",
                    "Morocco",
                    "Mozambique",
                    "Namibia",
                    "Niger",
                    "Nigeria",
                    "Reunion",
                    "Rwanda",
                    "Sao Tome and Principe",
                    "Senegal",
                    "Sierra Leone",
                    "Somalia",
                    "South Africa",
                    "Sudan",
                    "Swaziland",
                    "Tanzania",
                    "Togo",
                    "Tunisia",
                    "Uganda",
                    "Zambia",
                    "Zimbabwe"
                  ],
                  "legendgroup": "Africa",
                  "marker": {
                    "color": "#00cc96",
                    "size": {
                      "bdata": "JZiNAJ+TQABLhhoAxL8GANs0RAAyUSUAq25MAK+1EwBe7igAUFkCACUm1wBlCw0A+2wtAK32AADNGVMBhE8DACj0FQANUD4BXmsGAKBWBADJKFUAOacoAC3cCAAuomIAy2wLAEwsDQBRjw8AIK1IAKqFLADYkDoAXJoPAMzhBwARqZcA7FxiAMdpBwAMkTMAeFv5AaTuAwAPriYAa+oAAAUMKgARtCAAEo8mAGeq2QBbxYEAw20EAG3/fgApmhIA96g3AB3hWACAxSgAywIvAA==",
                      "dtype": "i4"
                    },
                    "sizemode": "area",
                    "sizeref": 651201.5288888889,
                    "symbol": "circle"
                  },
                  "mode": "markers",
                  "name": "Africa",
                  "orientation": "v",
                  "showlegend": true,
                  "type": "scatter",
                  "x": {
                    "bdata": "owbTMAQio0BD4bN1OIGrQDSAt0ACm5BA4OEs2+2ZikC1YPO7CvqAQNZReku+NHVAC5jAratSkkDFdYwrPr2QQBh6xOipapJAt0Htt/Y7kUA+StuuVmSIQEsGgCo+m6BAiudsAWGylUAZ4lgXD9ukQAmnBS9KK5ZA1pxyO0p6d0BWCJqFDI90QCchRylXonZAXf5D+nnFsEBmsJjHsFN+QH1gIjlkeoxAqSYc1STjf0Cughjomr1yQEY2V81TrIpArO+yFYqtckDksfp+lfyBQH4AUpsYp6JAflcE/wuMlkB5wyIrpBJ3QCLe30VkRXxAUJYQYu04h0A8Ftuk0r+eQMlxp3TQYJpAMz/tpmpIfUDJkjmWj++iQBnHSPYIz4dAuvjbniDVkECg4GJFxT2lQMT/wpcu1X5AXOffLqt8i0DpmPOMbamWQBtXbUhNfotAq8yU1v++kUD2a+unS3WyQHhEher2P5lASwM/qoHxkUBWTABZM2WGQIgBASF43opA2xfQC+fxlkB5kJ4iB/aGQK+ytimO7ZFAjn6PVSVueUA=",
                    "dtype": "f8"
                  },
                  "xaxis": "x3",
                  "y": {
                    "bdata": "YOXQItuJRUCkcD0K1wM+QAaBlUOLHENAVg4tsp3PR0CamZmZmfk/QIcW2c73g0NAbef7qfFCQ0AlBoGVQ7tBQLKd76fGC0NA7FG4HoVbRED8qfHSTZJDQJHtfD81DkVAkxgEVg49REAOLbKd72dBQPyp8dJN8kRABFYOLbI9QUASWDm0yPZBQESLbOf7CUFAqvHSTWKAQkAAAAAAAAA+QFCNl24Sk0VAy6FFtvPNQEAAAAAAAEBAQMP1KFyPIkVAjWzn+6kRRUA9CtejcD1DQAaBlUOLXEVAukkMAitXQkBU46WbxCBCQEjhehSu10BAL90kBoFFRECR7Xw/NX5JQDu0yHa+b0VA8KfGSzdJP0DNzMzMzNxEQEa28/3UuEJAtvP91HgpQkDpJjEIrFxKQAAAAAAAAERAPzVeukk8R0DdJAaBlaNCQNv5fmq8VD5Ad76fGi99QED91HjpJoFGQOF6FK5HUUNAarx0kxi0REDsUbgehZtEQD81XrpJTENAzczMzMxMRkB3vp8aL/1DQL6fGi/dBEVAfT81Xro5SEA=",
                    "dtype": "f8"
                  },
                  "yaxis": "y3"
                },
                {
                  "hovertemplate": "<b>%{hovertext}</b><br><br>continent=Americas<br>year=1952<br>gdpPercap=%{x}<br>lifeExp=%{y}<br>pop=%{marker.size}<extra></extra>",
                  "hovertext": [
                    "Argentina",
                    "Bolivia",
                    "Brazil",
                    "Canada",
                    "Chile",
                    "Colombia",
                    "Costa Rica",
                    "Cuba",
                    "Dominican Republic",
                    "Ecuador",
                    "El Salvador",
                    "Guatemala",
                    "Haiti",
                    "Honduras",
                    "Jamaica",
                    "Mexico",
                    "Nicaragua",
                    "Panama",
                    "Paraguay",
                    "Peru",
                    "Puerto Rico",
                    "Trinidad and Tobago",
                    "United States",
                    "Uruguay",
                    "Venezuela"
                  ],
                  "ids": [
                    "Argentina",
                    "Bolivia",
                    "Brazil",
                    "Canada",
                    "Chile",
                    "Colombia",
                    "Costa Rica",
                    "Cuba",
                    "Dominican Republic",
                    "Ecuador",
                    "El Salvador",
                    "Guatemala",
                    "Haiti",
                    "Honduras",
                    "Jamaica",
                    "Mexico",
                    "Nicaragua",
                    "Panama",
                    "Paraguay",
                    "Peru",
                    "Puerto Rico",
                    "Trinidad and Tobago",
                    "United States",
                    "Uruguay",
                    "Venezuela"
                  ],
                  "legendgroup": "Americas",
                  "marker": {
                    "color": "#ab63fa",
                    "size": {
                      "bdata": "3McQAfP+KwDAr18DMJzhAJNQYQAzdbwAbSIOAPWrWwDSAyYAUSY2APErHwCNAjAA0NkwAI0nFwCvwhUAPffLAd7JEQAwWA4ApL0XAGR2egA4+yEAQh0KAGgRZAmlYCIAUABTAA==",
                      "dtype": "i4"
                    },
                    "sizemode": "area",
                    "sizeref": 651201.5288888889,
                    "symbol": "circle"
                  },
                  "mode": "markers",
                  "name": "Americas",
                  "orientation": "v",
                  "showlegend": true,
                  "type": "scatter",
                  "x": {
                    "bdata": "gjtQp1AXt0BMOPQWp+qkQKGhf4LjeaBAXoWUn5QzxkBe8dQj9ceuQM3n3O06wKBAhwZi2QSGpEC9b3ztidK1QAJnKVne1pVAOQzmrziEq0Drc7UVm9CnQAO+27x5+KJAgnLbvnfBnEDZImk32iWhQCNqos8PpaZAZktWRUAsq0DkamRXulCoQB1XI7vCYKNA+GwdHDyBnkAIOe//C12tQGKE8GjrE6hAvJUlOouep0AIJcy0PVPLQGe0VUnEVLZAngsjvcwJvkA=",
                    "dtype": "f8"
                  },
                  "xaxis": "x4",
                  "y": {
                    "bdata": "rkfhehQ+T0CiRbbz/TREQEw3iUFgdUlAAAAAAAAwUUCPwvUoXF9LQPyp8dJNUklA7nw/NV6aTEDazvdT47VNQBBYObTI9kZABFYOLbItSECoxks3iaFGQG3n+6nxAkVAJzEIrBzKQkDb+X5qvPREQKRwPQrXQ01AokW28/1kSUDUeOkmMShFQJzEILBymEtAUI2XbhJTT0D6fmq8dPNFQFK4HoXrEVBAzczMzMyMTUBcj8L1KBxRQAaBlUOLhFBAJQaBlUOLS0A=",
                    "dtype": "f8"
                  },
                  "yaxis": "y4"
                },
                {
                  "hovertemplate": "<b>%{hovertext}</b><br><br>continent=Oceania<br>year=1952<br>gdpPercap=%{x}<br>lifeExp=%{y}<br>pop=%{marker.size}<extra></extra>",
                  "hovertext": [
                    "Australia",
                    "New Zealand"
                  ],
                  "ids": [
                    "Australia",
                    "New Zealand"
                  ],
                  "legendgroup": "Oceania",
                  "marker": {
                    "color": "#FFA15A",
                    "size": {
                      "bdata": "DJ6EACpwHgA=",
                      "dtype": "i4"
                    },
                    "sizemode": "area",
                    "sizeref": 651201.5288888889,
                    "symbol": "circle"
                  },
                  "mode": "markers",
                  "name": "Oceania",
                  "orientation": "v",
                  "showlegend": true,
                  "type": "scatter",
                  "x": {
                    "bdata": "GHjuPcybw0DPFDqvSZ7EQA==",
                    "dtype": "f8"
                  },
                  "xaxis": "x5",
                  "y": {
                    "bdata": "SOF6FK5HUUApXI/C9VhRQA==",
                    "dtype": "f8"
                  },
                  "yaxis": "y5"
                }
              ],
              "frames": [
                {
                  "data": [
                    {
                      "hovertemplate": "<b>%{hovertext}</b><br><br>continent=Asia<br>year=1952<br>gdpPercap=%{x}<br>lifeExp=%{y}<br>pop=%{marker.size}<extra></extra>",
                      "hovertext": [
                        "Afghanistan",
                        "Bahrain",
                        "Bangladesh",
                        "Cambodia",
                        "China",
                        "Hong Kong, China",
                        "India",
                        "Indonesia",
                        "Iran",
                        "Iraq",
                        "Israel",
                        "Japan",
                        "Jordan",
                        "Korea, Dem. Rep.",
                        "Korea, Rep.",
                        "Kuwait",
                        "Lebanon",
                        "Malaysia",
                        "Mongolia",
                        "Myanmar",
                        "Nepal",
                        "Oman",
                        "Pakistan",
                        "Philippines",
                        "Saudi Arabia",
                        "Singapore",
                        "Sri Lanka",
                        "Syria",
                        "Taiwan",
                        "Thailand",
                        "Vietnam",
                        "West Bank and Gaza",
                        "Yemen, Rep."
                      ],
                      "ids": [
                        "Afghanistan",
                        "Bahrain",
                        "Bangladesh",
                        "Cambodia",
                        "China",
                        "Hong Kong, China",
                        "India",
                        "Indonesia",
                        "Iran",
                        "Iraq",
                        "Israel",
                        "Japan",
                        "Jordan",
                        "Korea, Dem. Rep.",
                        "Korea, Rep.",
                        "Kuwait",
                        "Lebanon",
                        "Malaysia",
                        "Mongolia",
                        "Myanmar",
                        "Nepal",
                        "Oman",
                        "Pakistan",
                        "Philippines",
                        "Saudi Arabia",
                        "Singapore",
                        "Sri Lanka",
                        "Syria",
                        "Taiwan",
                        "Thailand",
                        "Vietnam",
                        "West Bank and Gaza",
                        "Yemen, Rep."
                      ],
                      "legendgroup": "Asia",
                      "marker": {
                        "color": "#636efa",
                        "size": {
                          "bdata": "dY+AAH/WAQDLb8sCTJ9HAGfoJyFMcCAAAEUsFqAD5ATAjAcB5ghTALK7GACRQicFqkYJANBGhwBzoj8BAHECACn3FQDa+GYAlzcMAESYMgFIHYwAub8HAADmdgIjY1YBLR89AFgyEQAGzXkA7d43ANp3ggC62UQBt36QAbm5DwD1vUsA",
                          "dtype": "i4"
                        },
                        "sizemode": "area",
                        "sizeref": 651201.5288888889,
                        "symbol": "circle"
                      },
                      "mode": "markers",
                      "name": "Asia",
                      "orientation": "v",
                      "showlegend": true,
                      "type": "scatter",
                      "x": {
                        "bdata": "em8MAZBbiEBsW5TZikXDQOVkPRD0YYVAvQeeMYIHd0AEWrqCLQd5QJC/tKjX3KdA4amRp4YUgUBYsVMHdG2HQNzwu+mmtqdA6Po+HMQhsECneFxUC+2vQEFhUKbpIalAUoAomKErmEDP2JdsHAGRQF0XfnBeGpBAbHh6peV1+kDLvFXXzeKyQFdfXRWInJxA8L+V7IiUiEAAAAAAALB0QC63IADtDoFAKSSZ1euQnEARIFTzxmSFQMKjjSOG45NAElDhCI47uUDZeLDFRhaiQPfpeMwg7pBA7pOjAPGtmUDQmbSpytuSQAP2hxxhrodApefMLIjogkDiTX6LXq6XQCHPiZi9bYhA",
                        "dtype": "f8"
                      },
                      "xaxis": "x",
                      "y": {
                        "bdata": "kxgEVg7NPEDUeOkmMXhJQMuhRbbzvUJATDeJQWC1Q0AAAAAAAABGQHsUrkfhek5AO7TIdr6vQkCWQ4ts57tCQKwcWmQ7b0ZAKVyPwvWoRkApXI/C9VhQQKRwPQrXg09ATmIQWDmURUC6SQwCKwdJQESLbOf7uUdAuB6F61HIS0AQWDm0yPZLQCUGgZVDO0hArBxaZDsfRUBGtvP91ChCQGq8dJMYFEJARIts5/vJQkAshxbZzrdFQMdLN4lB4EdAAAAAAADwQ0Cmm8QgsDJOQJZDi2zny0xAGy/dJAbxRkAAAAAAAEBNQAaBlUOLbElA2/l+arw0REAUrkfhepRFQKAaL90kRkBA",
                        "dtype": "f8"
                      },
                      "yaxis": "y"
                    },
                    {
                      "hovertemplate": "<b>%{hovertext}</b><br><br>continent=Europe<br>year=1952<br>gdpPercap=%{x}<br>lifeExp=%{y}<br>pop=%{marker.size}<extra></extra>",
                      "hovertext": [
                        "Albania",
                        "Austria",
                        "Belgium",
                        "Bosnia and Herzegovina",
                        "Bulgaria",
                        "Croatia",
                        "Czech Republic",
                        "Denmark",
                        "Finland",
                        "France",
                        "Germany",
                        "Greece",
                        "Hungary",
                        "Iceland",
                        "Ireland",
                        "Italy",
                        "Montenegro",
                        "Netherlands",
                        "Norway",
                        "Poland",
                        "Portugal",
                        "Romania",
                        "Serbia",
                        "Slovak Republic",
                        "Slovenia",
                        "Spain",
                        "Sweden",
                        "Switzerland",
                        "Turkey",
                        "United Kingdom"
                      ],
                      "ids": [
                        "Albania",
                        "Austria",
                        "Belgium",
                        "Bosnia and Herzegovina",
                        "Bulgaria",
                        "Croatia",
                        "Czech Republic",
                        "Denmark",
                        "Finland",
                        "France",
                        "Germany",
                        "Greece",
                        "Hungary",
                        "Iceland",
                        "Ireland",
                        "Italy",
                        "Montenegro",
                        "Netherlands",
                        "Norway",
                        "Poland",
                        "Portugal",
                        "Romania",
                        "Serbia",
                        "Slovak Republic",
                        "Slovenia",
                        "Spain",
                        "Sweden",
                        "Switzerland",
                        "Turkey",
                        "United Kingdom"
                      ],
                      "legendgroup": "Europe",
                      "marker": {
                        "color": "#EF553B",
                        "size": {
                          "bdata": "iZITAJy1aQAlN4UAWJYqAJQBbwD1PDsAPz2LALAhQgCEaj4AE+KHAmAVHwQCAHYAAAWRAPpBAgDcCy0AUFPXAopQBgCkap4A8MYyAPediAHiGIIA8MD9AHOtaAD5SjYAbroWAO6iswHBtmwAmHhJAB1KUwEwgAED",
                          "dtype": "i4"
                        },
                        "sizemode": "area",
                        "sizeref": 651201.5288888889,
                        "symbol": "circle"
                      },
                      "mode": "markers",
                      "name": "Europe",
                      "orientation": "v",
                      "showlegend": true,
                      "type": "scatter",
                      "x": {
                        "bdata": "gzC3ezkEmUBozvqUE/m3QHYxzXSNS8BALqOi+0NsjkDt0obDkhijQLNBJhl5XqhARIts5yPcukD5SbVPMe7CQE1J1uGEGLlAxeQNMM91u0DmEdxIHei7QBk6dlBhlatAhpM0f6yPtECnQdE8sGO8QCdok8NHWrRAgruzdmdDs0AD7+TTK6+kQPqXpDLJdsFACcTr+rW3w0AMrU7OqHqvQCSAm8Wj+KdAu/CD8zmRqEBtrMQ86/qrQKosCruo0rNA58WJrwp3sECYE7TJEfStQBdp4h3sp8BAEoPAyh3HzEAzFk1nZ8SeQLgdGhbBfcNA",
                        "dtype": "f8"
                      },
                      "xaxis": "x2",
                      "y": {
                        "bdata": "PQrXo3CdS0AzMzMzM7NQQAAAAAAAAFFAKVyPwvXoSkDNzMzMzMxNQHsUrkfhmk5ASOF6FK63UEBSuB6F67FRQDMzMzMzo1BACtejcD3aUEAAAAAAAOBQQNejcD0Kd1BAUrgehesBUECPwvUoXB9SQArXo3A9ulBAXI/C9Sh8UECiRbbz/ZRNQLgehetRCFJAexSuR+EqUkBI4XoUrqdOQClcj8L16E1AZmZmZmaGTkBzaJHtfP9MQNejcD0KF1BAFK5H4XpkUEBcj8L1KDxQQNejcD0K91FASOF6FK5nUUB7FK5H4cpFQOxRuB6FS1FA",
                        "dtype": "f8"
                      },
                      "yaxis": "y2"
                    },
                    {
                      "hovertemplate": "<b>%{hovertext}</b><br><br>continent=Africa<br>year=1952<br>gdpPercap=%{x}<br>lifeExp=%{y}<br>pop=%{marker.size}<extra></extra>",
                      "hovertext": [
                        "Algeria",
                        "Angola",
                        "Benin",
                        "Botswana",
                        "Burkina Faso",
                        "Burundi",
                        "Cameroon",
                        "Central African Republic",
                        "Chad",
                        "Comoros",
                        "Congo, Dem. Rep.",
                        "Congo, Rep.",
                        "Cote d'Ivoire",
                        "Djibouti",
                        "Egypt",
                        "Equatorial Guinea",
                        "Eritrea",
                        "Ethiopia",
                        "Gabon",
                        "Gambia",
                        "Ghana",
                        "Guinea",
                        "Guinea-Bissau",
                        "Kenya",
                        "Lesotho",
                        "Liberia",
                        "Libya",
                        "Madagascar",
                        "Malawi",
                        "Mali",
                        "Mauritania",
                        "Mauritius",
                        "Morocco",
                        "Mozambique",
                        "Namibia",
                        "Niger",
                        "Nigeria",
                        "Reunion",
                        "Rwanda",
                        "Sao Tome and Principe",
                        "Senegal",
                        "Sierra Leone",
                        "Somalia",
                        "South Africa",
                        "Sudan",
                        "Swaziland",
                        "Tanzania",
                        "Togo",
                        "Tunisia",
                        "Uganda",
                        "Zambia",
                        "Zimbabwe"
                      ],
                      "ids": [
                        "Algeria",
                        "Angola",
                        "Benin",
                        "Botswana",
                        "Burkina Faso",
                        "Burundi",
                        "Cameroon",
                        "Central African Republic",
                        "Chad",
                        "Comoros",
                        "Congo, Dem. Rep.",
                        "Congo, Rep.",
                        "Cote d'Ivoire",
                        "Djibouti",
                        "Egypt",
                        "Equatorial Guinea",
                        "Eritrea",
                        "Ethiopia",
                        "Gabon",
                        "Gambia",
                        "Ghana",
                        "Guinea",
                        "Guinea-Bissau",
                        "Kenya",
                        "Lesotho",
                        "Liberia",
                        "Libya",
                        "Madagascar",
                        "Malawi",
                        "Mali",
                        "Mauritania",
                        "Mauritius",
                        "Morocco",
                        "Mozambique",
                        "Namibia",
                        "Niger",
                        "Nigeria",
                        "Reunion",
                        "Rwanda",
                        "Sao Tome and Principe",
                        "Senegal",
                        "Sierra Leone",
                        "Somalia",
                        "South Africa",
                        "Sudan",
                        "Swaziland",
                        "Tanzania",
                        "Togo",
                        "Tunisia",
                        "Uganda",
                        "Zambia",
                        "Zimbabwe"
                      ],
                      "legendgroup": "Africa",
                      "marker": {
                        "color": "#00cc96",
                        "size": {
                          "bdata": "JZiNAJ+TQABLhhoAxL8GANs0RAAyUSUAq25MAK+1EwBe7igAUFkCACUm1wBlCw0A+2wtAK32AADNGVMBhE8DACj0FQANUD4BXmsGAKBWBADJKFUAOacoAC3cCAAuomIAy2wLAEwsDQBRjw8AIK1IAKqFLADYkDoAXJoPAMzhBwARqZcA7FxiAMdpBwAMkTMAeFv5AaTuAwAPriYAa+oAAAUMKgARtCAAEo8mAGeq2QBbxYEAw20EAG3/fgApmhIA96g3AB3hWACAxSgAywIvAA==",
                          "dtype": "i4"
                        },
                        "sizemode": "area",
                        "sizeref": 651201.5288888889,
                        "symbol": "circle"
                      },
                      "mode": "markers",
                      "name": "Africa",
                      "orientation": "v",
                      "showlegend": true,
                      "type": "scatter",
                      "x": {
                        "bdata": "owbTMAQio0BD4bN1OIGrQDSAt0ACm5BA4OEs2+2ZikC1YPO7CvqAQNZReku+NHVAC5jAratSkkDFdYwrPr2QQBh6xOipapJAt0Htt/Y7kUA+StuuVmSIQEsGgCo+m6BAiudsAWGylUAZ4lgXD9ukQAmnBS9KK5ZA1pxyO0p6d0BWCJqFDI90QCchRylXonZAXf5D+nnFsEBmsJjHsFN+QH1gIjlkeoxAqSYc1STjf0Cughjomr1yQEY2V81TrIpArO+yFYqtckDksfp+lfyBQH4AUpsYp6JAflcE/wuMlkB5wyIrpBJ3QCLe30VkRXxAUJYQYu04h0A8Ftuk0r+eQMlxp3TQYJpAMz/tpmpIfUDJkjmWj++iQBnHSPYIz4dAuvjbniDVkECg4GJFxT2lQMT/wpcu1X5AXOffLqt8i0DpmPOMbamWQBtXbUhNfotAq8yU1v++kUD2a+unS3WyQHhEher2P5lASwM/qoHxkUBWTABZM2WGQIgBASF43opA2xfQC+fxlkB5kJ4iB/aGQK+ytimO7ZFAjn6PVSVueUA=",
                        "dtype": "f8"
                      },
                      "xaxis": "x3",
                      "y": {
                        "bdata": "YOXQItuJRUCkcD0K1wM+QAaBlUOLHENAVg4tsp3PR0CamZmZmfk/QIcW2c73g0NAbef7qfFCQ0AlBoGVQ7tBQLKd76fGC0NA7FG4HoVbRED8qfHSTZJDQJHtfD81DkVAkxgEVg49REAOLbKd72dBQPyp8dJN8kRABFYOLbI9QUASWDm0yPZBQESLbOf7CUFAqvHSTWKAQkAAAAAAAAA+QFCNl24Sk0VAy6FFtvPNQEAAAAAAAEBAQMP1KFyPIkVAjWzn+6kRRUA9CtejcD1DQAaBlUOLXEVAukkMAitXQkBU46WbxCBCQEjhehSu10BAL90kBoFFRECR7Xw/NX5JQDu0yHa+b0VA8KfGSzdJP0DNzMzMzNxEQEa28/3UuEJAtvP91HgpQkDpJjEIrFxKQAAAAAAAAERAPzVeukk8R0DdJAaBlaNCQNv5fmq8VD5Ad76fGi99QED91HjpJoFGQOF6FK5HUUNAarx0kxi0REDsUbgehZtEQD81XrpJTENAzczMzMxMRkB3vp8aL/1DQL6fGi/dBEVAfT81Xro5SEA=",
                        "dtype": "f8"
                      },
                      "yaxis": "y3"
                    },
                    {
                      "hovertemplate": "<b>%{hovertext}</b><br><br>continent=Americas<br>year=1952<br>gdpPercap=%{x}<br>lifeExp=%{y}<br>pop=%{marker.size}<extra></extra>",
                      "hovertext": [
                        "Argentina",
                        "Bolivia",
                        "Brazil",
                        "Canada",
                        "Chile",
                        "Colombia",
                        "Costa Rica",
                        "Cuba",
                        "Dominican Republic",
                        "Ecuador",
                        "El Salvador",
                        "Guatemala",
                        "Haiti",
                        "Honduras",
                        "Jamaica",
                        "Mexico",
                        "Nicaragua",
                        "Panama",
                        "Paraguay",
                        "Peru",
                        "Puerto Rico",
                        "Trinidad and Tobago",
                        "United States",
                        "Uruguay",
                        "Venezuela"
                      ],
                      "ids": [
                        "Argentina",
                        "Bolivia",
                        "Brazil",
                        "Canada",
                        "Chile",
                        "Colombia",
                        "Costa Rica",
                        "Cuba",
                        "Dominican Republic",
                        "Ecuador",
                        "El Salvador",
                        "Guatemala",
                        "Haiti",
                        "Honduras",
                        "Jamaica",
                        "Mexico",
                        "Nicaragua",
                        "Panama",
                        "Paraguay",
                        "Peru",
                        "Puerto Rico",
                        "Trinidad and Tobago",
                        "United States",
                        "Uruguay",
                        "Venezuela"
                      ],
                      "legendgroup": "Americas",
                      "marker": {
                        "color": "#ab63fa",
                        "size": {
                          "bdata": "3McQAfP+KwDAr18DMJzhAJNQYQAzdbwAbSIOAPWrWwDSAyYAUSY2APErHwCNAjAA0NkwAI0nFwCvwhUAPffLAd7JEQAwWA4ApL0XAGR2egA4+yEAQh0KAGgRZAmlYCIAUABTAA==",
                          "dtype": "i4"
                        },
                        "sizemode": "area",
                        "sizeref": 651201.5288888889,
                        "symbol": "circle"
                      },
                      "mode": "markers",
                      "name": "Americas",
                      "orientation": "v",
                      "showlegend": true,
                      "type": "scatter",
                      "x": {
                        "bdata": "gjtQp1AXt0BMOPQWp+qkQKGhf4LjeaBAXoWUn5QzxkBe8dQj9ceuQM3n3O06wKBAhwZi2QSGpEC9b3ztidK1QAJnKVne1pVAOQzmrziEq0Drc7UVm9CnQAO+27x5+KJAgnLbvnfBnEDZImk32iWhQCNqos8PpaZAZktWRUAsq0DkamRXulCoQB1XI7vCYKNA+GwdHDyBnkAIOe//C12tQGKE8GjrE6hAvJUlOouep0AIJcy0PVPLQGe0VUnEVLZAngsjvcwJvkA=",
                        "dtype": "f8"
                      },
                      "xaxis": "x4",
                      "y": {
                        "bdata": "rkfhehQ+T0CiRbbz/TREQEw3iUFgdUlAAAAAAAAwUUCPwvUoXF9LQPyp8dJNUklA7nw/NV6aTEDazvdT47VNQBBYObTI9kZABFYOLbItSECoxks3iaFGQG3n+6nxAkVAJzEIrBzKQkDb+X5qvPREQKRwPQrXQ01AokW28/1kSUDUeOkmMShFQJzEILBymEtAUI2XbhJTT0D6fmq8dPNFQFK4HoXrEVBAzczMzMyMTUBcj8L1KBxRQAaBlUOLhFBAJQaBlUOLS0A=",
                        "dtype": "f8"
                      },
                      "yaxis": "y4"
                    },
                    {
                      "hovertemplate": "<b>%{hovertext}</b><br><br>continent=Oceania<br>year=1952<br>gdpPercap=%{x}<br>lifeExp=%{y}<br>pop=%{marker.size}<extra></extra>",
                      "hovertext": [
                        "Australia",
                        "New Zealand"
                      ],
                      "ids": [
                        "Australia",
                        "New Zealand"
                      ],
                      "legendgroup": "Oceania",
                      "marker": {
                        "color": "#FFA15A",
                        "size": {
                          "bdata": "DJ6EACpwHgA=",
                          "dtype": "i4"
                        },
                        "sizemode": "area",
                        "sizeref": 651201.5288888889,
                        "symbol": "circle"
                      },
                      "mode": "markers",
                      "name": "Oceania",
                      "orientation": "v",
                      "showlegend": true,
                      "type": "scatter",
                      "x": {
                        "bdata": "GHjuPcybw0DPFDqvSZ7EQA==",
                        "dtype": "f8"
                      },
                      "xaxis": "x5",
                      "y": {
                        "bdata": "SOF6FK5HUUApXI/C9VhRQA==",
                        "dtype": "f8"
                      },
                      "yaxis": "y5"
                    }
                  ],
                  "name": "1952"
                },
                {
                  "data": [
                    {
                      "hovertemplate": "<b>%{hovertext}</b><br><br>continent=Asia<br>year=1957<br>gdpPercap=%{x}<br>lifeExp=%{y}<br>pop=%{marker.size}<extra></extra>",
                      "hovertext": [
                        "Afghanistan",
                        "Bahrain",
                        "Bangladesh",
                        "Cambodia",
                        "China",
                        "Hong Kong, China",
                        "India",
                        "Indonesia",
                        "Iran",
                        "Iraq",
                        "Israel",
                        "Japan",
                        "Jordan",
                        "Korea, Dem. Rep.",
                        "Korea, Rep.",
                        "Kuwait",
                        "Lebanon",
                        "Malaysia",
                        "Mongolia",
                        "Myanmar",
                        "Nepal",
                        "Oman",
                        "Pakistan",
                        "Philippines",
                        "Saudi Arabia",
                        "Singapore",
                        "Sri Lanka",
                        "Syria",
                        "Taiwan",
                        "Thailand",
                        "Vietnam",
                        "West Bank and Gaza",
                        "Yemen, Rep."
                      ],
                      "ids": [
                        "Afghanistan",
                        "Bahrain",
                        "Bangladesh",
                        "Cambodia",
                        "China",
                        "Hong Kong, China",
                        "India",
                        "Indonesia",
                        "Iran",
                        "Iraq",
                        "Israel",
                        "Japan",
                        "Jordan",
                        "Korea, Dem. Rep.",
                        "Korea, Rep.",
                        "Kuwait",
                        "Lebanon",
                        "Malaysia",
                        "Mongolia",
                        "Myanmar",
                        "Nepal",
                        "Oman",
                        "Pakistan",
                        "Philippines",
                        "Saudi Arabia",
                        "Singapore",
                        "Sri Lanka",
                        "Syria",
                        "Taiwan",
                        "Thailand",
                        "Vietnam",
                        "West Bank and Gaza",
                        "Yemen, Rep."
                      ],
                      "legendgroup": "Asia",
                      "marker": {
                        "color": "#636efa",
                        "size": {
                          "bdata": "ZgGNAJ8dAgBcxg8DKDdRAAAT/iWswCkAQNhgGOAuXwWAAC4Bw1hfAFGrHQABJHUFP2QLADWbjwBgBlkBbj8DADQjGQBjF3YA1nUNAASaSwGivZMAOZMIAIhHyAKC1I0BQnBDACkQFgBiSosAlFI/APcXmwD9G34Bj3u6AWdVEADq5FMA",
                          "dtype": "i4"
                        },
                        "sizemode": "area",
                        "sizeref": 651201.5288888889,
                        "symbol": "circle"
                      },
                      "mode": "markers",
                      "name": "Asia",
                      "orientation": "v",
                      "showlegend": true,
                      "type": "scatter",
                      "x": {
                        "bdata": "KdQuAdOmiUBlqmBU5rnGQKswbIMZrYRA8QOhBp0ge0D7VLpg5f+BQBo1XyUnWqxA3UPC935wgkBi8B/BM9eKQBaGyOmDtKlAMLlRZFVVuECKkpBIRwm1QH2W58Gx3bBAaHVyhlJ4nUD5FADjiYyYQN3PKchfPpdAGsBbIDK3+0AesoF0ycm3QGMEjZlESJxAamyvBU2FjEAAAAAAAOB1QFsTHKh9r4JAmMPuO36FoUAXclsRq1iHQEp/L4XHL5hA1WcHXJfdv0DRsBh1NTamQLZHb7gvwpBAHjLlQ3iKoEB9eQH2cY+XQM6RpouezIhAty3bmEgihUBDqiheRYycQHoKb8WkJolA",
                        "dtype": "f8"
                      },
                      "xaxis": "x",
                      "y": {
                        "bdata": "okW28/1UPkDRItv5fupKQAaBlUOLrENAAyuHFtmuRED1Zz9SREZJQAAAAAAAMFBAHVpkO98fREAv3SQGgfVDQLpJDAIrl0dADi2yne83SED2KFyPwvVQQAAAAAAAYFBAEoPAyqHVRkDufD81XgpLQLpJDAIrV0pATmIQWDkETUA730+Nl75NQJMYBFYODUpAO7TIdr6fRkCkcD0K1/NEQCuHFtnO10JACtejcD0KRECe76fGS8dGQJhuEoPAqklAyXa+nxpvRUD0/dR46ZZPQO58PzVeuk5AMQisHFokSEAzMzMzMzNPQHE9Ctej0EpAqMZLN4lxRUDazvdT49VGQFyPwvUo/EBA",
                        "dtype": "f8"
                      },
                      "yaxis": "y"
                    },
                    {
                      "hovertemplate": "<b>%{hovertext}</b><br><br>continent=Europe<br>year=1957<br>gdpPercap=%{x}<br>lifeExp=%{y}<br>pop=%{marker.size}<extra></extra>",
                      "hovertext": [
                        "Albania",
                        "Austria",
                        "Belgium",
                        "Bosnia and Herzegovina",
                        "Bulgaria",
                        "Croatia",
                        "Czech Republic",
                        "Denmark",
                        "Finland",
                        "France",
                        "Germany",
                        "Greece",
                        "Hungary",
                        "Iceland",
                        "Ireland",
                        "Italy",
                        "Montenegro",
                        "Netherlands",
                        "Norway",
                        "Poland",
                        "Portugal",
                        "Romania",
                        "Serbia",
                        "Slovak Republic",
                        "Slovenia",
                        "Spain",
                        "Sweden",
                        "Switzerland",
                        "Turkey",
                        "United Kingdom"
                      ],
                      "ids": [
                        "Albania",
                        "Austria",
                        "Belgium",
                        "Bosnia and Herzegovina",
                        "Bulgaria",
                        "Croatia",
                        "Czech Republic",
                        "Denmark",
                        "Finland",
                        "France",
                        "Germany",
                        "Greece",
                        "Hungary",
                        "Iceland",
                        "Ireland",
                        "Italy",
                        "Montenegro",
                        "Netherlands",
                        "Norway",
                        "Poland",
                        "Portugal",
                        "Romania",
                        "Serbia",
                        "Slovak Republic",
                        "Slovenia",
                        "Spain",
                        "Sweden",
                        "Switzerland",
                        "Turkey",
                        "United Kingdom"
                      ],
                      "legendgroup": "Europe",
                      "marker": {
                        "color": "#EF553B",
                        "size": {
                          "bdata": "mYcWAGRKagC3KYkAoO8uALa/dADK5jwAHiuRAJd6RACg+kEATyGkAj2qOwTaiXsAmCGWAPaEAgAM6ysAMHXuAs3BBgDPP6gAYkg1AFLWrgHyi4YAzw0QAd/ybgC1qDoAjmQXAM5YxwHaXHAAcDdOABu1hwFwwhAD",
                          "dtype": "i4"
                        },
                        "sizemode": "area",
                        "sizeref": 651201.5288888889,
                        "symbol": "circle"
                      },
                      "mode": "markers",
                      "name": "Europe",
                      "orientation": "v",
                      "showlegend": true,
                      "type": "scatter",
                      "x": {
                        "bdata": "VvDbECNZnkADPj+MTEXBQGXIsfV6+cJA9KeN6vQnlUAXg4dpV4GnQDNwQEs78rBAQUmBBSwgwEBPr5Rl1K3FQDelvFZqeb1AwArw3WrrwECfzarP6eXDQG6HhsVMNLNA7G0zFS6Yt0DptkQuAA7CQEZda+8T37VAlwLS/qdouEBEigEShcSsQN5UpMIYBsZA2iCTjPzCxkBEatrFQH6yQG+df7skfa1AU5Yhjr3OrkCA8KFEF3WzQIFDqFJDzbdAIHwo0UbmtkD8471qzdSxQECmtWnwW8NAeH+8V1990UCPN/ktglWhQCnLEMeWCcZA",
                        "dtype": "f8"
                      },
                      "xaxis": "x2",
                      "y": {
                        "bdata": "pHA9CtejTUAfhetRuN5QQI/C9ShcT1FAmpmZmZk5TUDXo3A9CqdQQOF6FK5HMVBAUrgehetBUUCkcD0K1/NRQI/C9Shc31BA7FG4HoU7UUBmZmZmZkZRQNejcD0K91BACtejcD2aUECuR+F6FF5SQJqZmZmZOVFApHA9CtfzUEDTTWIQWLlOQI/C9ShcP1JAXI/C9ShcUkDhehSuR3FQQOF6FK5HwU5AZmZmZmYGUEBI4XoUrtdOQM3MzMzM3FBAZmZmZmb2UEAK16NwPapQQI/C9ShcH1JApHA9CtejUUAmMQisHApIQHsUrkfhmlFA",
                        "dtype": "f8"
                      },
                      "yaxis": "y2"
                    },
                    {
                      "hovertemplate": "<b>%{hovertext}</b><br><br>continent=Africa<br>year=1957<br>gdpPercap=%{x}<br>lifeExp=%{y}<br>pop=%{marker.size}<extra></extra>",
                      "hovertext": [
                        "Algeria",
                        "Angola",
                        "Benin",
                        "Botswana",
                        "Burkina Faso",
                        "Burundi",
                        "Cameroon",
                        "Central African Republic",
                        "Chad",
                        "Comoros",
                        "Congo, Dem. Rep.",
                        "Congo, Rep.",
                        "Cote d'Ivoire",
                        "Djibouti",
                        "Egypt",
                        "Equatorial Guinea",
                        "Eritrea",
                        "Ethiopia",
                        "Gabon",
                        "Gambia",
                        "Ghana",
                        "Guinea",
                        "Guinea-Bissau",
                        "Kenya",
                        "Lesotho",
                        "Liberia",
                        "Libya",
                        "Madagascar",
                        "Malawi",
                        "Mali",
                        "Mauritania",
                        "Mauritius",
                        "Morocco",
                        "Mozambique",
                        "Namibia",
                        "Niger",
                        "Nigeria",
                        "Reunion",
                        "Rwanda",
                        "Sao Tome and Principe",
                        "Senegal",
                        "Sierra Leone",
                        "Somalia",
                        "South Africa",
                        "Sudan",
                        "Swaziland",
                        "Tanzania",
                        "Togo",
                        "Tunisia",
                        "Uganda",
                        "Zambia",
                        "Zimbabwe"
                      ],
                      "ids": [
                        "Algeria",
                        "Angola",
                        "Benin",
                        "Botswana",
                        "Burkina Faso",
                        "Burundi",
                        "Cameroon",
                        "Central African Republic",
                        "Chad",
                        "Comoros",
                        "Congo, Dem. Rep.",
                        "Congo, Rep.",
                        "Cote d'Ivoire",
                        "Djibouti",
                        "Egypt",
                        "Equatorial Guinea",
                        "Eritrea",
                        "Ethiopia",
                        "Gabon",
                        "Gambia",
                        "Ghana",
                        "Guinea",
                        "Guinea-Bissau",
                        "Kenya",
                        "Lesotho",
                        "Liberia",
                        "Libya",
                        "Madagascar",
                        "Malawi",
                        "Mali",
                        "Mauritania",
                        "Mauritius",
                        "Morocco",
                        "Mozambique",
                        "Namibia",
                        "Niger",
                        "Nigeria",
                        "Reunion",
                        "Rwanda",
                        "Sao Tome and Principe",
                        "Senegal",
                        "Sierra Leone",
                        "Somalia",
                        "South Africa",
                        "Sudan",
                        "Swaziland",
                        "Tanzania",
                        "Togo",
                        "Tunisia",
                        "Uganda",
                        "Zambia",
                        "Zimbabwe"
                      ],
                      "legendgroup": "Africa",
                      "marker": {
                        "color": "#00cc96",
                        "size": {
                          "bdata": "iLicANGZRQA1YB0ADz4HAMjrRwD+sygAM8lRAJw+FQAHLCwAsJsCAEyz7QCqWQ4AoFoyAKsYAQBNnn0B2o0DANOJFwB+I1wB2KIGAE7uBAD4hWEANuUrAAcsCQA7wHEAGmkMAE7kDgCqVRIA7xBPAPYmMQDcuUAAdG4QABhOCQAODK4AU2RrAPBcCACYVjgAXDg3Aty1BADCDysAje8AANObLgB+ByMA/2wqAP1z9gAw05QAVfwEABo9kACFthQAAUk8AC3cZQBABS4AhKM3AA==",
                          "dtype": "i4"
                        },
                        "sizemode": "area",
                        "sizeref": 651201.5288888889,
                        "symbol": "circle"
                      },
                      "mode": "markers",
                      "name": "Africa",
                      "orientation": "v",
                      "showlegend": true,
                      "type": "scatter",
                      "x": {
                        "bdata": "SmJJufOLp0AR5KCE4eetQBsOSwPP/I1AbvVBO9yxjEC7n2S8d0mDQHN+ebcIuXdA4j/dQDGElEBj7ISXYJuSQJl+iXj7cZRAi4f3HJjskkA6bGzA4U6MQL1TAfccFqJArfpcbZVzl0Cvvroq8GGmQMcrED2py5ZAHUk444qhekDwYqsVl4J1QPPj1HN3rndAX7adtjJws0C5WoLnaUeAQPgpjgM/TpBA2bW93SICgkCH3tG1pfx6QLhKZquBg41Ako32LvT/dECNZyuKwmeDQEuwOJyR8KpADi2ync/UmECgnR266gV6QHUXzW8dpn5AzHOOS/ZwikB6w33kJsifQEvpmV4CqJlARXtQq2P5fkBssdtn5XqkQCphpu0vHIpAScfVyF4ykUDKxRhY56KlQCRQDrBQ4oBAs7owLeXlikBe2JqtnH6YQMd/gSDgY49ABfhu85aok0CfrBiuGm+1QFM57SlZqZtAqFZfXdVyk0D+53rsSNSFQF+KYT1E74xAd2UXDO7MlUBu9CDz9zKIQLNfd7rTf5RAAveXOB02gEA=",
                        "dtype": "f8"
                      },
                      "xaxis": "x3",
                      "y": {
                        "bdata": "SOF6FK7XRkA5tMh2vv8/QOf7qfHSLURAyXa+nxrPSECHFtnO93NBQE5iEFg5RERAEFg5tMg2REAIrBxaZLtCQFTjpZvE8ENAexSuR+E6RUD6fmq8dFNEQBBYObTIhkZAeekmMQg8RUBEi2zn+6lCQEa28/3UOEZA6fup8dL9QUC8dJMYBAZDQEw3iUFgVUJAHVpkO99/Q0C4HoXrUQhAQMHKoUW2Y0ZAgZVDi2xHQUA830+Nl75AQCyHFtnOV0ZAvHSTGASGRkCR7Xw/Nb5DQKJFtvP9pEZAH4XrUbhuQ0DRItv5fppCQJzvp8ZLp0FAJQaBlUMrRUAIrBxaZAtNQKAaL90ktkZAwcqhRbbjQECxcmiR7ZxGQAaBlUOLTENALbKd76fmQkDsUbgehYtLQAAAAAAAwERAKVyPwvV4SEAnMQisHKpDQFK4HoXrkT9AkxgEVg59QUCuR+F6FP5HQB1aZDvfz0NAg8DKoUW2RUDpJjEIrHxFQLTIdr6fmkRAzczMzMyMR0AOAiuHFklFQGDl0CLbCUZAeekmMQg8SUA=",
                        "dtype": "f8"
                      },
                      "yaxis": "y3"
                    },
                    {
                      "hovertemplate": "<b>%{hovertext}</b><br><br>continent=Americas<br>year=1957<br>gdpPercap=%{x}<br>lifeExp=%{y}<br>pop=%{marker.size}<extra></extra>",
                      "hovertext": [
                        "Argentina",
                        "Bolivia",
                        "Brazil",
                        "Canada",
                        "Chile",
                        "Colombia",
                        "Costa Rica",
                        "Cuba",
                        "Dominican Republic",
                        "Ecuador",
                        "El Salvador",
                        "Guatemala",
                        "Haiti",
                        "Honduras",
                        "Jamaica",
                        "Mexico",
                        "Nicaragua",
                        "Panama",
                        "Paraguay",
                        "Peru",
                        "Puerto Rico",
                        "Trinidad and Tobago",
                        "United States",
                        "Uruguay",
                        "Venezuela"
                      ],
                      "ids": [
                        "Argentina",
                        "Bolivia",
                        "Brazil",
                        "Canada",
                        "Chile",
                        "Colombia",
                        "Costa Rica",
                        "Cuba",
                        "Dominican Republic",
                        "Ecuador",
                        "El Salvador",
                        "Guatemala",
                        "Haiti",
                        "Honduras",
                        "Jamaica",
                        "Mexico",
                        "Nicaragua",
                        "Panama",
                        "Paraguay",
                        "Peru",
                        "Puerto Rico",
                        "Trinidad and Tobago",
                        "United States",
                        "Uruguay",
                        "Venezuela"
                      ],
                      "legendgroup": "Americas",
                      "marker": {
                        "color": "#ab63fa",
                        "size": {
                          "bdata": "qjsrAdoBMQBDO+gD6o0DAeqMawDpCd0A7PgQAHBUZQCymiwAEe09AF3yIwAsjjcA9YU1AJYDGwBybBcAfEsWAuy7FABSOhAAlgUbAPSOiwAgfCIA5KsLAIBEQAp/ACUATEZmAA==",
                          "dtype": "i4"
                        },
                        "sizemode": "area",
                        "sizeref": 651201.5288888889,
                        "symbol": "circle"
                      },
                      "mode": "markers",
                      "name": "Americas",
                      "orientation": "v",
                      "showlegend": true,
                      "type": "scatter",
                      "x": {
                        "bdata": "c6q1MNvIukDKGB9mX5+gQGQD6WK7bqNAnuqQm/lkyEB4R8Zqn9uwQI/iHHWcJ6JAdvnWhwVcp0DFmsqiLMy3QM6luKqcIZhAp86j4heJrUBbzTrjC7uqQIMY6NpPcqRA1GLwMI37mkCygXSx+VihQNxnlZmGlLJApyGq8IsjsEC9UwH31AKrQGhcOBCaI6dA++k/a574n0DyyvW2QZWwQP0tAfhPhq5AP8bctWQEsEBV2XdFkP/MQNLfS+HFBrhAXrwftzslw0A=",
                        "dtype": "f8"
                      },
                      "xaxis": "x4",
                      "y": {
                        "bdata": "qMZLN4kZUEBSuB6F6/FEQBSuR+F6pEpAPQrXo3B9UUC28/3UeAlMQMl2vp8aj0tAF9nO91MDTkCamZmZmSlPQESLbOf76UhAIbByaJGtSUApXI/C9UhIQBkEVg4tEkZADAIrhxZZRECF61G4HlVGQK5H4XoUTk9AuB6F61GYS0Ce76fGS7dGQH0/NV66mU1ADgIrhxaZT0CNbOf7qSFHQMP1KFyPIlFAZmZmZmbmTkCPwvUoXF9RQIlBYOXQwlBAarx0kxj0TEA=",
                        "dtype": "f8"
                      },
                      "yaxis": "y4"
                    },
                    {
                      "hovertemplate": "<b>%{hovertext}</b><br><br>continent=Oceania<br>year=1957<br>gdpPercap=%{x}<br>lifeExp=%{y}<br>pop=%{marker.size}<extra></extra>",
                      "hovertext": [
                        "Australia",
                        "New Zealand"
                      ],
                      "ids": [
                        "Australia",
                        "New Zealand"
                      ],
                      "legendgroup": "Oceania",
                      "marker": {
                        "color": "#FFA15A",
                        "size": {
                          "bdata": "uTOUAJ8EIgA=",
                          "dtype": "i4"
                        },
                        "sizemode": "area",
                        "sizeref": 651201.5288888889,
                        "symbol": "circle"
                      },
                      "mode": "markers",
                      "name": "Oceania",
                      "orientation": "v",
                      "showlegend": true,
                      "type": "scatter",
                      "x": {
                        "bdata": "6N7DJdNixUC6g9iZsuvHQA==",
                        "dtype": "f8"
                      },
                      "xaxis": "x5",
                      "y": {
                        "bdata": "hetRuB6VUUBxPQrXo5BRQA==",
                        "dtype": "f8"
                      },
                      "yaxis": "y5"
                    }
                  ],
                  "name": "1957"
                },
                {
                  "data": [
                    {
                      "hovertemplate": "<b>%{hovertext}</b><br><br>continent=Asia<br>year=1962<br>gdpPercap=%{x}<br>lifeExp=%{y}<br>pop=%{marker.size}<extra></extra>",
                      "hovertext": [
                        "Afghanistan",
                        "Bahrain",
                        "Bangladesh",
                        "Cambodia",
                        "China",
                        "Hong Kong, China",
                        "India",
                        "Indonesia",
                        "Iran",
                        "Iraq",
                        "Israel",
                        "Japan",
                        "Jordan",
                        "Korea, Dem. Rep.",
                        "Korea, Rep.",
                        "Kuwait",
                        "Lebanon",
                        "Malaysia",
                        "Mongolia",
                        "Myanmar",
                        "Nepal",
                        "Oman",
                        "Pakistan",
                        "Philippines",
                        "Saudi Arabia",
                        "Singapore",
                        "Sri Lanka",
                        "Syria",
                        "Taiwan",
                        "Thailand",
                        "Vietnam",
                        "West Bank and Gaza",
                        "Yemen, Rep."
                      ],
                      "ids": [
                        "Afghanistan",
                        "Bahrain",
                        "Bangladesh",
                        "Cambodia",
                        "China",
                        "Hong Kong, China",
                        "India",
                        "Indonesia",
                        "Iran",
                        "Iraq",
                        "Israel",
                        "Japan",
                        "Jordan",
                        "Korea, Dem. Rep.",
                        "Korea, Rep.",
                        "Kuwait",
                        "Lebanon",
                        "Malaysia",
                        "Mongolia",
                        "Myanmar",
                        "Nepal",
                        "Oman",
                        "Pakistan",
                        "Philippines",
                        "Saudi Arabia",
                        "Singapore",
                        "Sri Lanka",
                        "Syria",
                        "Taiwan",
                        "Thailand",
                        "Vietnam",
                        "West Bank and Gaza",
                        "Yemen, Rep."
                      ],
                      "legendgroup": "Asia",
                      "marker": {
                        "color": "#636efa",
                        "size": {
                          "bdata": "y6mcAFefAgB5TGMDI9RcABDYrifwbjIAgH0PGyAM5wWQB10BRHpuAPhCIwDNRrYFtz4OAHaWpgBTJJMBencFAIDKHACR5ocAaGoPAASiaAGZp50AxJUJAH9AKgMQus4BtWxLALi0GgCwBp8APcVJAFretQAlhr4BLLADAk5KEQCRYl0A",
                          "dtype": "i4"
                        },
                        "sizemode": "area",
                        "sizeref": 651201.5288888889,
                        "symbol": "circle"
                      },
                      "mode": "markers",
                      "name": "Asia",
                      "orientation": "v",
                      "showlegend": true,
                      "type": "scatter",
                      "x": {
                        "bdata": "CWMLQc6oikDpmsk3o+jIQJcGj4C7coVAGiHyTJ4Of0B9tmnHyHp+QOheJ/WlVLJANxIN98aShEDddvxyUYqKQChk521UW7BAwM+4cN5KwEBky/J1ocG7QAd7E0OmsLlA/nxbsARYokBJ2o0+xlaZQKxY/KZgAZhAkNrEySFO90DH1jOEj1K2QCqLwi6K059AoUj3c2qBkEAAAAAAAEB4QOiUkcQsY4RATkS/tkbZpkDHr2nvvRqJQI6VmGc1xplAPzVeujW1xkC1p+SceLWsQBV0e0njyZBANLkYAxMioUATgeofhHucQDtSfeeXUY9AIFoarmQgiECN+bmh6S2hQMiemFD8zIlA",
                        "dtype": "f8"
                      },
                      "xaxis": "x",
                      "y": {
                        "bdata": "rBxaZDv/P0CgGi/dJHZMQM/3U+Olm0RAhetRuB61RUDjwoGQLEBGQJqZmZmZ6VBAPQrXo3DNRUD8qfHSTUJFQJqZmZmZqUhA0SLb+X66SUApXI/C9VhRQB+F61G4LlFA5aWbxCAQSECJFtnO91NMQEw3iUFgpUtAXI/C9Sg8TkB56SYxCAxPQHWTGARW3ktA5aWbxCAgSEDn+6nx0o1GQPyp8dJNskNAhetRuB6VRUD2KFyPwtVHQDeJQWDlYEtAokW28/30RkBQjZduEnNQQH9qvHSTGE9A16NwPQonSUDNzMzMzExQQCyHFtnOB0xAWDm0yHauRkDHSzeJQRBIQNejcD0Kl0FA",
                        "dtype": "f8"
                      },
                      "yaxis": "y"
                    },
                    {
                      "hovertemplate": "<b>%{hovertext}</b><br><br>continent=Europe<br>year=1962<br>gdpPercap=%{x}<br>lifeExp=%{y}<br>pop=%{marker.size}<extra></extra>",
                      "hovertext": [
                        "Albania",
                        "Austria",
                        "Belgium",
                        "Bosnia and Herzegovina",
                        "Bulgaria",
                        "Croatia",
                        "Czech Republic",
                        "Denmark",
                        "Finland",
                        "France",
                        "Germany",
                        "Greece",
                        "Hungary",
                        "Iceland",
                        "Ireland",
                        "Italy",
                        "Montenegro",
                        "Netherlands",
                        "Norway",
                        "Poland",
                        "Portugal",
                        "Romania",
                        "Serbia",
                        "Slovak Republic",
                        "Slovenia",
                        "Spain",
                        "Sweden",
                        "Switzerland",
                        "Turkey",
                        "United Kingdom"
                      ],
                      "ids": [
                        "Albania",
                        "Austria",
                        "Belgium",
                        "Bosnia and Herzegovina",
                        "Bulgaria",
                        "Croatia",
                        "Czech Republic",
                        "Denmark",
                        "Finland",
                        "France",
                        "Germany",
                        "Greece",
                        "Hungary",
                        "Iceland",
                        "Ireland",
                        "Italy",
                        "Montenegro",
                        "Netherlands",
                        "Norway",
                        "Poland",
                        "Portugal",
                        "Romania",
                        "Serbia",
                        "Slovak Republic",
                        "Slovenia",
                        "Spain",
                        "Sweden",
                        "Switzerland",
                        "Turkey",
                        "United Kingdom"
                      ],
                      "legendgroup": "Europe",
                      "marker": {
                        "color": "#EF553B",
                        "size": {
                          "bdata": "iV4aAAjLbABgqYwACBozAJJEegANND4AOsuSAPPnRgCziEQAIA7PAm0rZQTp6IAAmIyZACXHAgCwLisAQM4HA6A9BwD5I7QAh4Y3ABHLzgGYoYkAkQsdATw2dABIqEAAcicYAC1v2wF0YXMA0HRWABeKxgHgKy0D",
                          "dtype": "i4"
                        },
                        "sizemode": "area",
                        "sizeref": 651201.5288888889,
                        "symbol": "circle"
                      },
                      "mode": "markers",
                      "name": "Europe",
                      "orientation": "v",
                      "showlegend": true,
                      "type": "scatter",
                      "x": {
                        "bdata": "CcOAJccRokBpHVVNXP/EQA+XHHead8VA2QdZFry2mkBQ4J18Vp6wQNo6ONjjZbVAsacd/m7Mw0B8fhghqIfKQPHxCdnrTcJAndfYJT6gxEB/h6JAOzPJQEO94NMwgbdAlSnmIFx+vUAN/RNcFDfEQHH/kemY57lAlPsdisoZwEDbM0sCmCmyQP/PYb5s+8hAgv+tZDNFykDqknGMwNq0QE8Cm3P0d7JA88zLYf9+skAN424QoZG4QB3jiosbOb1AxXJLq03qvEDIQnQI2D22QLml1ZC4FMhAFvvL7sXz00AP1ZRkvSWiQI3ROqqWXshA",
                        "dtype": "f8"
                      },
                      "xaxis": "x2",
                      "y": {
                        "bdata": "FK5H4Xo0UEDD9Shcj2JRQAAAAAAAkFFA16NwPQr3TkBxPQrXo2BRQLgehetRyFBAmpmZmZl5UUBmZmZmZhZSQAAAAAAAMFFAcT0K16OgUUAzMzMzM5NRQHE9CtejYFFAPQrXo3D9UEDsUbgehWtSQMP1KFyPklFAj8L1KFxPUUB3vp8aL91PQB+F61G4TlJArkfhehReUkApXI/C9ehQQClcj8L1GFBAMzMzMzOzUEBEi2zn+yFQQIXrUbgelVFAmpmZmZlJUUBcj8L1KGxRQEjhehSuV1JAFK5H4XrUUUAGgZVDiwxKQHE9CtejsFFA",
                        "dtype": "f8"
                      },
                      "yaxis": "y2"
                    },
                    {
                      "hovertemplate": "<b>%{hovertext}</b><br><br>continent=Africa<br>year=1962<br>gdpPercap=%{x}<br>lifeExp=%{y}<br>pop=%{marker.size}<extra></extra>",
                      "hovertext": [
                        "Algeria",
                        "Angola",
                        "Benin",
                        "Botswana",
                        "Burkina Faso",
                        "Burundi",
                        "Cameroon",
                        "Central African Republic",
                        "Chad",
                        "Comoros",
                        "Congo, Dem. Rep.",
                        "Congo, Rep.",
                        "Cote d'Ivoire",
                        "Djibouti",
                        "Egypt",
                        "Equatorial Guinea",
                        "Eritrea",
                        "Ethiopia",
                        "Gabon",
                        "Gambia",
                        "Ghana",
                        "Guinea",
                        "Guinea-Bissau",
                        "Kenya",
                        "Lesotho",
                        "Liberia",
                        "Libya",
                        "Madagascar",
                        "Malawi",
                        "Mali",
                        "Mauritania",
                        "Mauritius",
                        "Morocco",
                        "Mozambique",
                        "Namibia",
                        "Niger",
                        "Nigeria",
                        "Reunion",
                        "Rwanda",
                        "Sao Tome and Principe",
                        "Senegal",
                        "Sierra Leone",
                        "Somalia",
                        "South Africa",
                        "Sudan",
                        "Swaziland",
                        "Tanzania",
                        "Togo",
                        "Tunisia",
                        "Uganda",
                        "Zambia",
                        "Zimbabwe"
                      ],
                      "ids": [
                        "Algeria",
                        "Angola",
                        "Benin",
                        "Botswana",
                        "Burkina Faso",
                        "Burundi",
                        "Cameroon",
                        "Central African Republic",
                        "Chad",
                        "Comoros",
                        "Congo, Dem. Rep.",
                        "Congo, Rep.",
                        "Cote d'Ivoire",
                        "Djibouti",
                        "Egypt",
                        "Equatorial Guinea",
                        "Eritrea",
                        "Ethiopia",
                        "Gabon",
                        "Gambia",
                        "Ghana",
                        "Guinea",
                        "Guinea-Bissau",
                        "Kenya",
                        "Lesotho",
                        "Liberia",
                        "Libya",
                        "Madagascar",
                        "Malawi",
                        "Mali",
                        "Mauritania",
                        "Mauritius",
                        "Morocco",
                        "Mozambique",
                        "Namibia",
                        "Niger",
                        "Nigeria",
                        "Reunion",
                        "Rwanda",
                        "Sao Tome and Principe",
                        "Senegal",
                        "Sierra Leone",
                        "Somalia",
                        "South Africa",
                        "Sudan",
                        "Swaziland",
                        "Tanzania",
                        "Togo",
                        "Tunisia",
                        "Uganda",
                        "Zambia",
                        "Zimbabwe"
                      ],
                      "legendgroup": "Africa",
                      "marker": {
                        "color": "#00cc96",
                        "size": {
                          "bdata": "dNynAJ+jSQDX1SAA/NIHAFARSwD7MS0AYWdYABY/FwBREjAAyewCAGLSCgF0/Q8AWHo6ACpfAQD9460BhM0DADpuGQAcsH8B7fMGAAS1BQBwO3AAo+kvAGyUCQCdbIQA16ANANz6EABHABYAnAZXAEBeNwDEkUcAhX8RAFiyCgBcOscAkNl2AFB7CQDoMT4A9+d+AvR5BQDqji4AQf8AAGNXNAA3qCUA2f8uALEZGAF7pKoAVqUFAFbFpQAiURcAWGhBAF1SdQBIMzQA6EVBAA==",
                          "dtype": "i4"
                        },
                        "sizemode": "area",
                        "sizeref": 651201.5288888889,
                        "symbol": "circle"
                      },
                      "mode": "markers",
                      "name": "Africa",
                      "orientation": "v",
                      "showlegend": true,
                      "type": "scatter",
                      "x": {
                        "bdata": "g2kYPqLto0BuT5DYRq2wQN2gURX+q41A2ZL6Vzu9jkAHn0GeGJSGQHjyRGtAM3ZAAHUDBW7elUACui9nRqSSQHwqpz1Ft5VA3SIw1pf6lUDQhZFehAKMQERN9PmQQaNA6WhVS3oDm0BJEK6A+pmnQA5N2elXdZpAVVmAW7w2gkAPV2L57s93QOPt93pNN3pAm6+Sj3XnuUD9SufDM72CQBxF1hoqmJJA8969SP1yhUAO2xZlRlCAQNlN3yG7B4xA7HTWXc+8eUA/V1uxj9GDQDKwjuMHZbpA0VeQZoytmUBY7rvYar56QLAErRvKAn9AKBB2ipV/kEDR86eNIsKjQHapEfppeZhA2w8dp31lgUBdxHdibsqoQGf8sf8gLo9ACPfKvLX7kUDH155ZcsuoQAz5VtrIq4JA0QSKWDS+kEA2V81z9NuZQNiR6juPcpFA1jVaDvRllUBWurvOuoi2QMfZdARgnp5AI9v5froAnUDjJx/MB5CGQEyOO6UjrpBASKeufDbxmUArkOqFLPqHQDLKMy/nspZAiMymbS16gEA=",
                        "dtype": "f8"
                      },
                      "xaxis": "x3",
                      "y": {
                        "bdata": "EFg5tMgmSEAAAAAAAABBQMl2vp8aT0VAw/UoXI/CSUDVeOkmMehCQPYoXI/CBUVA/Knx0k1SRUDNzMzMzLxDQM/3U+Ol20RAsp3vp8Y7RkBWDi2ynQ9FQEjhehSuN0hA16NwPQp3RkBkEFg5tNhDQOXQItv5fkdArkfhehS+QkBOYhBYORREQGQ730+NB0RAO99PjZc+RECmm8QgsPJAQGDl0CLbOUdAqvHSTWLgQUBYObTIdj5BQLbz/dR4+UdAVg4tsp3fR0DHSzeJQUBEQIGVQ4ts50dABoGVQ4tsREAUrkfhejRDQCuHFtnOd0JAO7TIdr4fRkBzaJHtfB9OQIPAyqFF9kdA+FPjpZsUQkDFILByaDFIQHWTGARWvkNArkfhehSuQ0Boke18P9VMQAAAAAAAgEVA/Knx0k3ySUAmMQisHLpEQBkEVg4tYkBAIbByaJF9QkB9PzVeuvlIQI/C9Shcb0RA5dAi2/l+RkBzaJHtfB9GQLx0kxgE9kVAJjEIrBzKSEB56SYxCKxGQG3n+6nxAkdA5/up8dItSkA=",
                        "dtype": "f8"
                      },
                      "yaxis": "y3"
                    },
                    {
                      "hovertemplate": "<b>%{hovertext}</b><br><br>continent=Americas<br>year=1962<br>gdpPercap=%{x}<br>lifeExp=%{y}<br>pop=%{marker.size}<extra></extra>",
                      "hovertext": [
                        "Argentina",
                        "Bolivia",
                        "Brazil",
                        "Canada",
                        "Chile",
                        "Colombia",
                        "Costa Rica",
                        "Cuba",
                        "Dominican Republic",
                        "Ecuador",
                        "El Salvador",
                        "Guatemala",
                        "Haiti",
                        "Honduras",
                        "Jamaica",
                        "Mexico",
                        "Nicaragua",
                        "Panama",
                        "Paraguay",
                        "Peru",
                        "Puerto Rico",
                        "Trinidad and Tobago",
                        "United States",
                        "Uruguay",
                        "Venezuela"
                      ],
                      "ids": [
                        "Argentina",
                        "Bolivia",
                        "Brazil",
                        "Canada",
                        "Chile",
                        "Colombia",
                        "Costa Rica",
                        "Cuba",
                        "Dominican Republic",
                        "Ecuador",
                        "El Salvador",
                        "Guatemala",
                        "Haiti",
                        "Honduras",
                        "Jamaica",
                        "Mexico",
                        "Nicaragua",
                        "Panama",
                        "Paraguay",
                        "Peru",
                        "Puerto Rico",
                        "Trinidad and Tobago",
                        "United States",
                        "Uruguay",
                        "Venezuela"
                      ],
                      "legendgroup": "Americas",
                      "marker": {
                        "color": "#ab63fa",
                        "size": {
                          "bdata": "x8NEAb7WNgDeRIgEebMhAap6eQDdjAMBo4YUAGWxbgD6sTQA629HACftKQDaOEAAwjQ7ALLkHwBoaBkAzXZzAkVFGADtjBIA1aoeABR4oACuWiUAyooNABBYHgtCpicAD0J8AA==",
                          "dtype": "i4"
                        },
                        "sizemode": "area",
                        "sizeref": 651201.5288888889,
                        "symbol": "circle"
                      },
                      "mode": "markers",
                      "name": "Americas",
                      "orientation": "v",
                      "showlegend": true,
                      "type": "scatter",
                      "x": {
                        "bdata": "ZLt7gCrdu0C2n4zx8QmhQN1fPe4rEapASZ2AJj5LykAAkBMmGKexQKoQj8SzeKNAEqW9wd8Jq0C4WFGDwTy0QD9z1qeM+JlAY35uaDrsr0Bdhv90m4GtQFGGqpi6fKVAMWE0K1sSnEC8V61MUOahQIlfsYYbfrRArMWnAJzlsUDvWGyTumSsQP4pVaIUoatAb5wU5g3IoEDWNzC5CV2zQDjzqzlY9LNAD6X2IoaFs0DmXIqrkpbPQDlgV5Nb47VA9U9wsXxzwEA=",
                        "dtype": "f8"
                      },
                      "xaxis": "x4",
                      "y": {
                        "bdata": "DAIrhxZJUEAQWDm0yLZFQIXrUbge1UtAMzMzMzPTUUCDwMqhRfZMQFg5tMh27kxAsp3vp8ZrT0A6tMh2vk9QQJhuEoPAukpAUrgehetRS0Ce76fGSydKQCYxCKwcekdA7FG4HoXLRUBoke18PwVIQNejcD0KZ1BAg8DKoUUmTUA3iUFg5VBIQH9qvHST6E5AyXa+nxoXUEA/NV66SYxIQEjhehSuZ1FAmpmZmZk5UEA9CtejcI1RQNV46SYxEFFAw/UoXI9iTkA=",
                        "dtype": "f8"
                      },
                      "yaxis": "y4"
                    },
                    {
                      "hovertemplate": "<b>%{hovertext}</b><br><br>continent=Oceania<br>year=1962<br>gdpPercap=%{x}<br>lifeExp=%{y}<br>pop=%{marker.size}<extra></extra>",
                      "hovertext": [
                        "Australia",
                        "New Zealand"
                      ],
                      "ids": [
                        "Australia",
                        "New Zealand"
                      ],
                      "legendgroup": "Oceania",
                      "marker": {
                        "color": "#FFA15A",
                        "size": {
                          "bdata": "2LekAOb4JQA=",
                          "dtype": "i4"
                        },
                        "sizemode": "area",
                        "sizeref": 651201.5288888889,
                        "symbol": "circle"
                      },
                      "mode": "markers",
                      "name": "Oceania",
                      "orientation": "v",
                      "showlegend": true,
                      "type": "scatter",
                      "x": {
                        "bdata": "Y5y/CZ3cx0BYObTI1rvJQA==",
                        "dtype": "f8"
                      },
                      "xaxis": "x5",
                      "y": {
                        "bdata": "7FG4HoW7UUCPwvUoXM9RQA==",
                        "dtype": "f8"
                      },
                      "yaxis": "y5"
                    }
                  ],
                  "name": "1962"
                },
                {
                  "data": [
                    {
                      "hovertemplate": "<b>%{hovertext}</b><br><br>continent=Asia<br>year=1967<br>gdpPercap=%{x}<br>lifeExp=%{y}<br>pop=%{marker.size}<extra></extra>",
                      "hovertext": [
                        "Afghanistan",
                        "Bahrain",
                        "Bangladesh",
                        "Cambodia",
                        "China",
                        "Hong Kong, China",
                        "India",
                        "Indonesia",
                        "Iran",
                        "Iraq",
                        "Israel",
                        "Japan",
                        "Jordan",
                        "Korea, Dem. Rep.",
                        "Korea, Rep.",
                        "Kuwait",
                        "Lebanon",
                        "Malaysia",
                        "Mongolia",
                        "Myanmar",
                        "Nepal",
                        "Oman",
                        "Pakistan",
                        "Philippines",
                        "Saudi Arabia",
                        "Singapore",
                        "Sri Lanka",
                        "Syria",
                        "Taiwan",
                        "Thailand",
                        "Vietnam",
                        "West Bank and Gaza",
                        "Yemen, Rep."
                      ],
                      "ids": [
                        "Afghanistan",
                        "Bahrain",
                        "Bangladesh",
                        "Cambodia",
                        "China",
                        "Hong Kong, China",
                        "India",
                        "Indonesia",
                        "Iran",
                        "Iraq",
                        "Israel",
                        "Japan",
                        "Jordan",
                        "Korea, Dem. Rep.",
                        "Korea, Rep.",
                        "Kuwait",
                        "Lebanon",
                        "Malaysia",
                        "Mongolia",
                        "Myanmar",
                        "Nepal",
                        "Oman",
                        "Pakistan",
                        "Philippines",
                        "Saudi Arabia",
                        "Singapore",
                        "Sri Lanka",
                        "Syria",
                        "Taiwan",
                        "Thailand",
                        "Vietnam",
                        "West Bank and Gaza",
                        "Yemen, Rep."
                      ],
                      "legendgroup": "Asia",
                      "marker": {
                        "color": "#636efa",
                        "size": {
                          "bdata": "Lg6wAMYVAwD8lb4DwzNqAPCE+SwwzjgAgPIoHhhxhAYQ8JQBcv6BANEZKQC/eAIGkiYTADGFwAA4w8sBG8YIAI5eIQB+85oAPIoRAL+/igH61qsAF+gKAGtSnQO4fxsCFrpVAAAtHgA0GbMArK5WADRD0AA5KwcC5itaAmxvEQAx22YA",
                          "dtype": "i4"
                        },
                        "sizemode": "area",
                        "sizeref": 651201.5288888889,
                        "symbol": "circle"
                      },
                      "mode": "markers",
                      "name": "Asia",
                      "orientation": "v",
                      "showlegend": true,
                      "type": "scatter",
                      "x": {
                        "bdata": "V04xvZMhikACmggbVurMQOf5whp9iYZAxbQlYXVbgEAG0JRCpSWDQCJy+nr2NbhAllPxNSrmhUCaRu5EdNOHQAuOkle7ErdArDsW27pxwUCQhlPm3mTAQDP9EvHkO8NAwJZXrpdrpUDZ7bPKFL+gQGBzDp7ptJ9A3jzVIe6/80CY+KOo+3a3QF0ZVBt8y6FAipP7HSook0AAAAAAANB1QK9zeK2JI4VAXWvvU/FwskBvkjAdRHONQB6KAn2CWJxAhbGFIMOB0EAR/G8la3GzQO6VeasOvpFAKEaWzLFnnUBlOQmlt6ekQE1KQbfXPZRAuzPJfvzog0DSwmUVbrOkQGHU/4OJ84pA",
                        "dtype": "f8"
                      },
                      "xaxis": "x",
                      "y": {
                        "bdata": "w/UoXI8CQUCgGi/dJPZNQESLbOf7uUVAhetRuB61RkD/7EeKyDBNQAAAAAAAgFFAZBBYObSYR0AIrBxaZPtGQHnpJjEIPEpAmG4Sg8A6S0AAAAAAALBRQOxRuB6F21FAjZduEoPQSUB/arx0k/hNQM/3U+Ol20xADi2yne8nUECPwvUoXO9PQHNoke18r01AqvHSTWKgSUCNl24Sg7BIQCPb+X5qvERAWDm0yHZ+R0BmZmZmZuZIQPyp8dJNMkxAF9nO91PzSEAGgZVDi/xQQBsv3SQGEVBApHA9CtfTSkAAAAAAAOBQQBSuR+F6JE1AJQaBlUPrR0BU46WbxNBJQMuhRbbzfUJA",
                        "dtype": "f8"
                      },
                      "yaxis": "y"
                    },
                    {
                      "hovertemplate": "<b>%{hovertext}</b><br><br>continent=Europe<br>year=1967<br>gdpPercap=%{x}<br>lifeExp=%{y}<br>pop=%{marker.size}<extra></extra>",
                      "hovertext": [
                        "Albania",
                        "Austria",
                        "Belgium",
                        "Bosnia and Herzegovina",
                        "Bulgaria",
                        "Croatia",
                        "Czech Republic",
                        "Denmark",
                        "Finland",
                        "France",
                        "Germany",
                        "Greece",
                        "Hungary",
                        "Iceland",
                        "Ireland",
                        "Italy",
                        "Montenegro",
                        "Netherlands",
                        "Norway",
                        "Poland",
                        "Portugal",
                        "Romania",
                        "Serbia",
                        "Slovak Republic",
                        "Slovenia",
                        "Spain",
                        "Sweden",
                        "Switzerland",
                        "Turkey",
                        "United Kingdom"
                      ],
                      "ids": [
                        "Albania",
                        "Austria",
                        "Belgium",
                        "Bosnia and Herzegovina",
                        "Bulgaria",
                        "Croatia",
                        "Czech Republic",
                        "Denmark",
                        "Finland",
                        "France",
                        "Germany",
                        "Greece",
                        "Hungary",
                        "Iceland",
                        "Ireland",
                        "Italy",
                        "Montenegro",
                        "Netherlands",
                        "Norway",
                        "Poland",
                        "Portugal",
                        "Romania",
                        "Serbia",
                        "Slovak Republic",
                        "Slovenia",
                        "Spain",
                        "Sweden",
                        "Switzerland",
                        "Turkey",
                        "United Kingdom"
                      ],
                      "legendgroup": "Europe",
                      "marker": {
                        "color": "#EF553B",
                        "size": {
                          "bdata": "PEYeAGaQcAAU0pEA6LM2ANLNfgAesj8AZRKWAJDVSQAwR0YA6Fz0AkVKjQSZAIUAPv+bABQIAwCEQCwA3KIjAyulBwBWNsAAI8U5AKIB5QGY5ooATkMmAZaheQB+yEMAQCEZAGNB9QEbDngAmINcAPXQ/QGYm0YD",
                          "dtype": "i4"
                        },
                        "sizemode": "area",
                        "sizeref": 651201.5288888889,
                        "symbol": "circle"
                      },
                      "mode": "markers",
                      "name": "Europe",
                      "orientation": "v",
                      "showlegend": true,
                      "type": "scatter",
                      "x": {
                        "bdata": "I9kj1GSQpUCOdXEbTRHJQHbDtkWFrslAuZbJcLT4oEBuNIC3AMm1QMFVnkBMMLtAKdAn8rhDxkD4qpUJmyDPQOC593DRVMVAbATidfVjyUAGDf0T0MzMQJgxBWuMoMBAW+uLhFI3wkDXaaSl8gPKQKIlj6eR571Ax0YgXjOTw0D12QHX2RO3QMOBkCygAc5A9kArMPD0z0Cd81McJ525QI9yMJuE2bhAg6Pk1d1GuUAdAkcCtTe/QIGxvoFzbsBA4ZaPpL5ewkDwF7Mlgzm/QPLqHAMmzc1ACvSJPIlt1kByW1t4thSmQD+p9ulsn8tA",
                        "dtype": "f8"
                      },
                      "xaxis": "x2",
                      "y": {
                        "bdata": "rkfhehSOUEApXI/C9YhRQFyPwvUovFFAw/UoXI8yUEB7FK5H4ZpRQAAAAAAAIFFAuB6F61GYUUA9CtejcD1SQIXrUbgedVFAMzMzMzPjUUAzMzMzM7NRQAAAAAAAwFFAAAAAAABgUUAfhetRuG5SQIXrUbgexVFApHA9CtfDUUAIrBxaZMtQQBSuR+F6dFJAhetRuB6FUkDXo3A9CmdRQGZmZmZmplBAMzMzMzOzUEDRItv5frpQQB+F61G4vlFA7FG4HoVLUUBcj8L1KNxRQArXo3A9ilJA4XoUrkcxUkBgukkMAitLQNejcD0K11FA",
                        "dtype": "f8"
                      },
                      "yaxis": "y2"
                    },
                    {
                      "hovertemplate": "<b>%{hovertext}</b><br><br>continent=Africa<br>year=1967<br>gdpPercap=%{x}<br>lifeExp=%{y}<br>pop=%{marker.size}<extra></extra>",
                      "hovertext": [
                        "Algeria",
                        "Angola",
                        "Benin",
                        "Botswana",
                        "Burkina Faso",
                        "Burundi",
                        "Cameroon",
                        "Central African Republic",
                        "Chad",
                        "Comoros",
                        "Congo, Dem. Rep.",
                        "Congo, Rep.",
                        "Cote d'Ivoire",
                        "Djibouti",
                        "Egypt",
                        "Equatorial Guinea",
                        "Eritrea",
                        "Ethiopia",
                        "Gabon",
                        "Gambia",
                        "Ghana",
                        "Guinea",
                        "Guinea-Bissau",
                        "Kenya",
                        "Lesotho",
                        "Liberia",
                        "Libya",
                        "Madagascar",
                        "Malawi",
                        "Mali",
                        "Mauritania",
                        "Mauritius",
                        "Morocco",
                        "Mozambique",
                        "Namibia",
                        "Niger",
                        "Nigeria",
                        "Reunion",
                        "Rwanda",
                        "Sao Tome and Principe",
                        "Senegal",
                        "Sierra Leone",
                        "Somalia",
                        "South Africa",
                        "Sudan",
                        "Swaziland",
                        "Tanzania",
                        "Togo",
                        "Tunisia",
                        "Uganda",
                        "Zambia",
                        "Zimbabwe"
                      ],
                      "ids": [
                        "Algeria",
                        "Angola",
                        "Benin",
                        "Botswana",
                        "Burkina Faso",
                        "Burundi",
                        "Cameroon",
                        "Central African Republic",
                        "Chad",
                        "Comoros",
                        "Congo, Dem. Rep.",
                        "Congo, Rep.",
                        "Cote d'Ivoire",
                        "Djibouti",
                        "Egypt",
                        "Equatorial Guinea",
                        "Eritrea",
                        "Ethiopia",
                        "Gabon",
                        "Gambia",
                        "Ghana",
                        "Guinea",
                        "Guinea-Bissau",
                        "Kenya",
                        "Lesotho",
                        "Liberia",
                        "Libya",
                        "Madagascar",
                        "Malawi",
                        "Mali",
                        "Mauritania",
                        "Mauritius",
                        "Morocco",
                        "Mozambique",
                        "Namibia",
                        "Niger",
                        "Nigeria",
                        "Reunion",
                        "Rwanda",
                        "Sao Tome and Principe",
                        "Senegal",
                        "Sierra Leone",
                        "Somalia",
                        "South Africa",
                        "Sudan",
                        "Swaziland",
                        "Tanzania",
                        "Togo",
                        "Tunisia",
                        "Uganda",
                        "Zambia",
                        "Zimbabwe"
                      ],
                      "legendgroup": "Africa",
                      "marker": {
                        "color": "#00cc96",
                        "size": {
                          "bdata": "s7XCAO0RUADGCSUARXIIAP8+TgCt0zIAEqxgAAZ0GgAfWDUAIlEDANFGMAFwABIApmZIAIHyAQCkauMBGPcDAJ/GGwBJHakBLHYHACm1BgDljIEAGqo0AMcsCQCYgpsAHDQPAK6FEwD41xoAXKhgADRIPwAAiU8AzsYSAD0LDAB4YOEAzXWEAFDICgAuL0UAyI3RAkhRBgDHqDQAgxQBAJGDPAAunygA51E0AMlkQAFhCMIAUmsGAFBfwAB+exoAKgtJAMbOhwBggjsAaDlMAA==",
                          "dtype": "i4"
                        },
                        "sizemode": "area",
                        "sizeref": 651201.5288888889,
                        "symbol": "circle"
                      },
                      "mode": "markers",
                      "name": "Africa",
                      "orientation": "v",
                      "showlegend": true,
                      "type": "scatter",
                      "x": {
                        "bdata": "PpRoyftdqUBvEoPAxpK1QCO6Z11TL5BA/5QqUdb6kkCI/VTLnNaIQFT2TOWjz3lA/oAHBtCRl0DaVUj5OcCRQCFZwAQ+s5JAOQ68Wh5QnUDOFN/1vuyKQOeXwRjh66RAqdiY1xkIoEAMBtfcGZinQLCSj92FW5xArW71nMScjEDfnFsyuEx9QPxGhfvyIIBAfT7KiGFTwEAQjZNnQ/aGQFGgT+TJlpFAzOstihMmhkDzbbAmpVyGQKSnyCHygpBAcOzZczkqf0BIVo9F1EyGQK9fsBswVdJAwk6xajCImUDYGZWKPPh+QCrxyj8UCIFAb0p5rZQ0lkBYxoZuxlajQF7XL9gtvJpA7SNcbVq1gUCZS6q2Y6OtQBnG3SCKeZBA8dWO4hy0j0BDU3b6WWqvQA67lF9r739A/FBpxFyjlUCp29lXnjGZQBXGFoIs2JJAVei8xu4SlEButU5cesq7QJgwmpX9X5pATFRvDTRqpEAz3IDPv4GKQD6uDRVjFpdAZziez3AxnkBVsechWWeMQJIlcyxPxJtA7w9KTlzOgUA=",
                        "dtype": "f8"
                      },
                      "xaxis": "x3",
                      "y": {
                        "bdata": "arx0kxi0SUCuR+F6FP5BQOF6FK5HcUZAoBov3SSmSkDwp8ZLN1lEQKAaL90kxkVAg8DKoUVmRkB3vp8aL71EQLFyaJHtzEVAI9v5fmo8R0C6SQwCKwdGQIXrUbgeBUpAzczMzMysR0C28/3UeAlFQC/dJAaBpUhAdZMYBFZ+Q0DUeOkmMRhFQB+F61G4DkVABoGVQ4tMRkAEVg4tsu1BQPCnxks3CUhA8KfGSzeZQkDl0CLb+b5BQMHKoUW2U0lA5dAi2/k+SED4U+Olm8REQJMYBFYOHUlAVOOlm8RwRUB1kxgEVr5DQHWTGARWPkNAokW28/0kR0Ce76fGS8dOQHsUrkfhKklAWDm0yHYOQ0AxCKwcWpRJQMl2vp8aD0RAhetRuB6FREBMN4lBYEVOQM3MzMzMDEZAZmZmZmY2S0Dy0k1iEMhFQFg5tMh2DkFAkxgEVg59Q0Atsp3vp/ZJQOf7qfHSbUVAGy/dJAZRR0A3iUFg5eBGQN9PjZduYkdAEFg5tMgGSkBKDAIrhwZIQPyp8dJN4kdAj8L1KFz/SkA=",
                        "dtype": "f8"
                      },
                      "yaxis": "y3"
                    },
                    {
                      "hovertemplate": "<b>%{hovertext}</b><br><br>continent=Americas<br>year=1967<br>gdpPercap=%{x}<br>lifeExp=%{y}<br>pop=%{marker.size}<extra></extra>",
                      "hovertext": [
                        "Argentina",
                        "Bolivia",
                        "Brazil",
                        "Canada",
                        "Chile",
                        "Colombia",
                        "Costa Rica",
                        "Cuba",
                        "Dominican Republic",
                        "Ecuador",
                        "El Salvador",
                        "Guatemala",
                        "Haiti",
                        "Honduras",
                        "Jamaica",
                        "Mexico",
                        "Nicaragua",
                        "Panama",
                        "Paraguay",
                        "Peru",
                        "Puerto Rico",
                        "Trinidad and Tobago",
                        "United States",
                        "Uruguay",
                        "Venezuela"
                      ],
                      "ids": [
                        "Argentina",
                        "Bolivia",
                        "Brazil",
                        "Canada",
                        "Chile",
                        "Colombia",
                        "Costa Rica",
                        "Cuba",
                        "Dominican Republic",
                        "Ecuador",
                        "El Salvador",
                        "Guatemala",
                        "Haiti",
                        "Honduras",
                        "Jamaica",
                        "Mexico",
                        "Nicaragua",
                        "Panama",
                        "Paraguay",
                        "Peru",
                        "Puerto Rico",
                        "Trinidad and Tobago",
                        "United States",
                        "Uruguay",
                        "Venezuela"
                      ],
                      "legendgroup": "Americas",
                      "marker": {
                        "color": "#ab63fa",
                        "size": {
                          "bdata": "0fJdAdmnPQCfiD8FN689ARwthwA7ky0B7T0YAEQyfAD6yD0AaORSAJ9UMQBVk0cAueNBAFEoJgDoZRwAp1rcAhJ3HAAuchUAcekiAGgfuQCBaygAm6YOAMAa2Auj8CkA8CeUAA==",
                          "dtype": "i4"
                        },
                        "sizemode": "area",
                        "sizeref": 651201.5288888889,
                        "symbol": "circle"
                      },
                      "mode": "markers",
                      "name": "Americas",
                      "orientation": "v",
                      "showlegend": true,
                      "type": "scatter",
                      "x": {
                        "bdata": "ZSsv+fN0v0AMI72oxTWkQCMuAI26y6pAiSmRREtmz0BZiA6Bp/KzQLEYda117aRA6zpUU7pBsEDWi6GcRDq2QKL/5Vrk1plA3xXB/xLjsUBE96xrmAaxQL3kf/IPValAXcDLDDuwlkDVsUrpidSjQFVfXRW07LdAF5zB37t6tkDf66S+ZCOyQOs6VFMCRbFAQNzVq8D2oUC8kXnkF5y2QKTDQxhHEbtAflUuVF71tUCatn9llxLTQPOTap+eRLVAFEAxsryiwkA=",
                        "dtype": "f8"
                      },
                      "xaxis": "x4",
                      "y": {
                        "bdata": "f2q8dJNoUEBqvHSTGIRGQDeJQWDl0ExAuB6F61EIUkBt5/up8UJOQCUGgZVD+01AQWDl0CJbUEDD9ShcjxJRQOWlm8QgYExAEFg5tMhWTEA9CtejcO1LQDdeukkMAklAyXa+nxofR0CDwMqhRXZJQHE9Ctej4FBArkfhehQOTkD91HjpJvFJQAaBlUOLBFBAv58aL908UEApXI/C9bhJQGZmZmZmxlFAmpmZmZlZUEBxPQrXo7BRQMuhRbbzHVFAWmQ730+9T0A=",
                        "dtype": "f8"
                      },
                      "yaxis": "y4"
                    },
                    {
                      "hovertemplate": "<b>%{hovertext}</b><br><br>continent=Oceania<br>year=1967<br>gdpPercap=%{x}<br>lifeExp=%{y}<br>pop=%{marker.size}<extra></extra>",
                      "hovertext": [
                        "Australia",
                        "New Zealand"
                      ],
                      "ids": [
                        "Australia",
                        "New Zealand"
                      ],
                      "legendgroup": "Oceania",
                      "marker": {
                        "color": "#FFA15A",
                        "size": {
                          "bdata": "CCi1ANagKQA=",
                          "dtype": "i4"
                        },
                        "sizemode": "area",
                        "sizeref": 651201.5288888889,
                        "symbol": "circle"
                      },
                      "mode": "markers",
                      "name": "Oceania",
                      "orientation": "v",
                      "showlegend": true,
                      "type": "scatter",
                      "x": {
                        "bdata": "ufyH9A9fzECpjH+f9T/MQA==",
                        "dtype": "f8"
                      },
                      "xaxis": "x5",
                      "y": {
                        "bdata": "ZmZmZmbGUUDhehSuR+FRQA==",
                        "dtype": "f8"
                      },
                      "yaxis": "y5"
                    }
                  ],
                  "name": "1967"
                },
                {
                  "data": [
                    {
                      "hovertemplate": "<b>%{hovertext}</b><br><br>continent=Asia<br>year=1972<br>gdpPercap=%{x}<br>lifeExp=%{y}<br>pop=%{marker.size}<extra></extra>",
                      "hovertext": [
                        "Afghanistan",
                        "Bahrain",
                        "Bangladesh",
                        "Cambodia",
                        "China",
                        "Hong Kong, China",
                        "India",
                        "Indonesia",
                        "Iran",
                        "Iraq",
                        "Israel",
                        "Japan",
                        "Jordan",
                        "Korea, Dem. Rep.",
                        "Korea, Rep.",
                        "Kuwait",
                        "Lebanon",
                        "Malaysia",
                        "Mongolia",
                        "Myanmar",
                        "Nepal",
                        "Oman",
                        "Pakistan",
                        "Philippines",
                        "Saudi Arabia",
                        "Singapore",
                        "Sri Lanka",
                        "Syria",
                        "Taiwan",
                        "Thailand",
                        "Vietnam",
                        "West Bank and Gaza",
                        "Yemen, Rep."
                      ],
                      "ids": [
                        "Afghanistan",
                        "Bahrain",
                        "Bangladesh",
                        "Cambodia",
                        "China",
                        "Hong Kong, China",
                        "India",
                        "Indonesia",
                        "Iran",
                        "Iraq",
                        "Israel",
                        "Japan",
                        "Jordan",
                        "Korea, Dem. Rep.",
                        "Korea, Rep.",
                        "Kuwait",
                        "Lebanon",
                        "Malaysia",
                        "Mongolia",
                        "Myanmar",
                        "Nepal",
                        "Oman",
                        "Pakistan",
                        "Philippines",
                        "Saudi Arabia",
                        "Singapore",
                        "Sri Lanka",
                        "Syria",
                        "Taiwan",
                        "Thailand",
                        "Vietnam",
                        "West Bank and Gaza",
                        "Yemen, Rep."
                      ],
                      "legendgroup": "Asia",
                      "marker": {
                        "color": "#636efa",
                        "size": {
                          "bdata": "pJPHAJCFAwB/szcE7q9xALCIYTP0zD4AwLvLIdCdOgfwIdMBwoaZAFU9LwAxkGMG754YADmL4QDoPv8BztgMANLkKAA2la4ANCYUANZcsgGxZr0AeqYMAGHUIQTdUm8CNMRiANDXIACdnsYAdEBmALdU6AB5TlcCpmGpAiSgEADjBXEA",
                          "dtype": "i4"
                        },
                        "sizemode": "area",
                        "sizeref": 651201.5288888889,
                        "symbol": "circle"
                      },
                      "mode": "markers",
                      "name": "Asia",
                      "orientation": "v",
                      "showlegend": true,
                      "type": "scatter",
                      "x": {
                        "bdata": "Umf/Tdkfh0CBzw8jKtfRQNUHknfesYNA0VVfAvxZekAbp3xjMyeFQHmSdM32PcBA5QmEnUKghkAKMCx/blyRQKM6HcjoxsJAOxvyzwS0wkAtCVBTd/nIQHHJcadk3cxAihwibrZ9oEC7JqQ1PuusQBTQRNjAradAWmQ73z2y+kCD+StkYj69QKEQAYcwQqZAzF1LyPc2lkAAAAAAAFB2QBRI5BZOFoVAodY07wS9xEBDOjyEwWeQQKnBNAx/FZ9A3GgAb1tB2ECWJTrL4MrAQFn60AWV9ZJAgH9KldgWpEDyQjo8DL2vQG4164xv0ZdA2l37XQPchUADRMGM0XqoQJj75CgwxJNA",
                        "dtype": "f8"
                      },
                      "xaxis": "x",
                      "y": {
                        "bdata": "JQaBlUMLQkBmZmZmZqZPQMdLN4lBoEZAf2q8dJMoREABE7h1N49PQAAAAAAAAFJAF9nO91NTSUBEi2zn+5lIQMuhRbbznUtAmpmZmZl5TEC4HoXrUehRQHsUrkfhWlJA3SQGgZVDTEDn+6nx0v1PQHWTGARWTk9AIbByaJHtUEBt5/up8VpQQOF6FK5HgU9AjZduEoPgSkApXI/C9YhKQD81XrpJ/EVA/Knx0k0SSkD0/dR46fZJQLgehetRCE1AxSCwcmjxSkDTTWIQWGFRQKabxCCwQlBA2s73U+OlTEApXI/C9VhRQKRwPQrXM05AjZduEoMgSUBqvHSTGERMQAaBlUOL7ENA",
                        "dtype": "f8"
                      },
                      "yaxis": "y"
                    },
                    {
                      "hovertemplate": "<b>%{hovertext}</b><br><br>continent=Europe<br>year=1972<br>gdpPercap=%{x}<br>lifeExp=%{y}<br>pop=%{marker.size}<extra></extra>",
                      "hovertext": [
                        "Albania",
                        "Austria",
                        "Belgium",
                        "Bosnia and Herzegovina",
                        "Bulgaria",
                        "Croatia",
                        "Czech Republic",
                        "Denmark",
                        "Finland",
                        "France",
                        "Germany",
                        "Greece",
                        "Hungary",
                        "Iceland",
                        "Ireland",
                        "Italy",
                        "Montenegro",
                        "Netherlands",
                        "Norway",
                        "Poland",
                        "Portugal",
                        "Romania",
                        "Serbia",
                        "Slovak Republic",
                        "Slovenia",
                        "Spain",
                        "Sweden",
                        "Switzerland",
                        "Turkey",
                        "United Kingdom"
                      ],
                      "ids": [
                        "Albania",
                        "Austria",
                        "Belgium",
                        "Bosnia and Herzegovina",
                        "Bulgaria",
                        "Croatia",
                        "Czech Republic",
                        "Denmark",
                        "Finland",
                        "France",
                        "Germany",
                        "Greece",
                        "Hungary",
                        "Iceland",
                        "Ireland",
                        "Italy",
                        "Montenegro",
                        "Netherlands",
                        "Norway",
                        "Poland",
                        "Portugal",
                        "Romania",
                        "Serbia",
                        "Slovak Republic",
                        "Slovenia",
                        "Spain",
                        "Sweden",
                        "Switzerland",
                        "Turkey",
                        "United Kingdom"
                      ],
                      "legendgroup": "Europe",
                      "marker": {
                        "color": "#EF553B",
                        "size": {
                          "bdata": "AooiAIkdcwAsJpQA+EU6AMjcggAeeUAADnyWAGwqTACpy0YAIF4VA6AgsQQ0oYcA65meAHsxAwAQJi4AfI09Az4NCADSZcsATAM8ALkk+AHS4IgAeEk7AcjZfgAZF0YALtsZAAmhDgK173sAeK1hANkYPAKYslcD",
                          "dtype": "i4"
                        },
                        "sizemode": "area",
                        "sizeref": 651201.5288888889,
                        "symbol": "circle"
                      },
                      "mode": "markers",
                      "name": "Europe",
                      "orientation": "v",
                      "showlegend": true,
                      "type": "scatter",
                      "x": {
                        "bdata": "h4kGKdjiqUAYldQJaEXQQEFIFjAJSNBA/tR46VZYpkA1Cd6QfsW5QL4SSIkL5sFAvJaQDzqayUBau+1CjWzSQEi/fR1wC8xAKAr0iZh1z0CdLouJC5jRQN+JWS9q2shASphp+1Pcw0CwPbMkCNvOQJuRQe5incJAJhk5C6P2x0D9ogT9aWK+QOepDrmvWtJAptB5jUOF0kBOEkvKgUa/QL05XKsfn8FAZN0/FmpLv0BnJ4OjCI3EQPvNxHQV5cJAqDXNO74vyECUE+0qYMfEQIums5MBatFAyR8MPMeO2kAtW+uLZPWqQHfbheaOC89A",
                        "dtype": "f8"
                      },
                      "xaxis": "x2",
                      "y": {
                        "bdata": "XI/C9SjsUEC4HoXrUahRQFyPwvUo3FFAzczMzMzcUECamZmZmblRQNejcD0KZ1FAw/UoXI+SUUCuR+F6FF5SQEjhehSut1FAuB6F61EYUkAAAAAAAMBRQPYoXI/CFVJAcT0K16NwUUA9CtejcJ1SQFK4HoXr0VFAXI/C9SgMUkBkEFg5tKhRQAAAAAAAcFJA9ihcj8KVUkBmZmZmZrZRQHE9CtejUFFAPQrXo3BNUUDNzMzMzCxRQGZmZmZmllFAFK5H4Xp0UUCkcD0K10NSQK5H4XoUrlJAUrgehetxUkBxPQrXo4BMQHE9CtejAFJA",
                        "dtype": "f8"
                      },
                      "yaxis": "y2"
                    },
                    {
                      "hovertemplate": "<b>%{hovertext}</b><br><br>continent=Africa<br>year=1972<br>gdpPercap=%{x}<br>lifeExp=%{y}<br>pop=%{marker.size}<extra></extra>",
                      "hovertext": [
                        "Algeria",
                        "Angola",
                        "Benin",
                        "Botswana",
                        "Burkina Faso",
                        "Burundi",
                        "Cameroon",
                        "Central African Republic",
                        "Chad",
                        "Comoros",
                        "Congo, Dem. Rep.",
                        "Congo, Rep.",
                        "Cote d'Ivoire",
                        "Djibouti",
                        "Egypt",
                        "Equatorial Guinea",
                        "Eritrea",
                        "Ethiopia",
                        "Gabon",
                        "Gambia",
                        "Ghana",
                        "Guinea",
                        "Guinea-Bissau",
                        "Kenya",
                        "Lesotho",
                        "Liberia",
                        "Libya",
                        "Madagascar",
                        "Malawi",
                        "Mali",
                        "Mauritania",
                        "Mauritius",
                        "Morocco",
                        "Mozambique",
                        "Namibia",
                        "Niger",
                        "Nigeria",
                        "Reunion",
                        "Rwanda",
                        "Sao Tome and Principe",
                        "Senegal",
                        "Sierra Leone",
                        "Somalia",
                        "South Africa",
                        "Sudan",
                        "Swaziland",
                        "Tanzania",
                        "Togo",
                        "Tunisia",
                        "Uganda",
                        "Zambia",
                        "Zimbabwe"
                      ],
                      "ids": [
                        "Algeria",
                        "Angola",
                        "Benin",
                        "Botswana",
                        "Burkina Faso",
                        "Burundi",
                        "Cameroon",
                        "Central African Republic",
                        "Chad",
                        "Comoros",
                        "Congo, Dem. Rep.",
                        "Congo, Rep.",
                        "Cote d'Ivoire",
                        "Djibouti",
                        "Egypt",
                        "Equatorial Guinea",
                        "Eritrea",
                        "Ethiopia",
                        "Gabon",
                        "Gambia",
                        "Ghana",
                        "Guinea",
                        "Guinea-Bissau",
                        "Kenya",
                        "Lesotho",
                        "Liberia",
                        "Libya",
                        "Madagascar",
                        "Malawi",
                        "Mali",
                        "Mauritania",
                        "Mauritius",
                        "Morocco",
                        "Mozambique",
                        "Namibia",
                        "Niger",
                        "Nigeria",
                        "Reunion",
                        "Rwanda",
                        "Sao Tome and Principe",
                        "Senegal",
                        "Sierra Leone",
                        "Somalia",
                        "South Africa",
                        "Sudan",
                        "Swaziland",
                        "Tanzania",
                        "Togo",
                        "Tunisia",
                        "Uganda",
                        "Zambia",
                        "Zimbabwe"
                      ],
                      "legendgroup": "Africa",
                      "marker": {
                        "color": "#00cc96",
                        "size": {
                          "bdata": "UzvhAMryWQC/IioAV3MJAB7qUgD/3DUA5CFrAFxoHQC8fjsAq9ADALURXwEqdBQAkKVcAKC6AgB5HhMCYzwEANt8IgDEhNUBeTUIAO3jBwCIu44AOyg6ANGKCQDxybcAawoRAISfFgDFUiEAvhFsAHUwSAA+7lgAMlYUAIb9DAC+OP4AvK6VABaKDACmNk0ANQI0A0ELBwA56jwAMysBAJgERgAl7isAoZg6AEI7bQGbu94AaVMHAKFn4ACfYB8A0+xQAM19mwCBw0QAD29ZAA==",
                          "dtype": "i4"
                        },
                        "sizemode": "area",
                        "sizeref": 651201.5288888889,
                        "symbol": "circle"
                      },
                      "mode": "markers",
                      "name": "Africa",
                      "orientation": "v",
                      "showlegend": true,
                      "type": "scatter",
                      "x": {
                        "bdata": "Mo6R7KlWsEAUGLK6SWG1QHpvDAEw95BAQyjv4zivoUAO2YpH47WKQDHFZpGXAX1AzJ9vC5ZQmkBrK/aXDbiQQNZwkXtqQJFA3gIJik9GnkDOM/YlK0eMQE9XdyxOGqlAu18F+GaUokB+vma5bNysQD7qr1cIoJ9AWlBzTUwDhUDBAHj6lxKAQGVIBJnzsYFAmrZ/ZflExkDY5DrXsaCHQGq/tRPlaJJAu+DCcFQth0C0aJX0y6GJQG2Oc5twGZNAv2mfM04Jf0AxYTQrCxiJQFDkSdLfhNRA8nhafkBSm0CCFOHL+USCQDUOUHXzKoJAa0lHOWjLmEAysI7j9x6kQCfChqfHKJ5AL113qVenhkBaKQRyKUStQBfNFISs0Y1AxXWMK46JmkBbs5WXqLezQMP3DzOldIJAA7Fs5vDzl0CvQzUl2faYQPm6DP8JJ5VAX3089E2ak0D0GVBv9lW+QJayDHGc7plACKwcWqxJqkD+xLdm4Z+MQNm0UgikxplAtjnObZKCpUAfSUkP47WNQPceLjn+tZtANwNtvOX6iEA=",
                        "dtype": "f8"
                      },
                      "xaxis": "x3",
                      "y": {
                        "bdata": "/Knx0k1CS0AQWDm0yPZCQG8Sg8DKgUdAUI2XbhIDTEDP91PjpctFQJ7vp8ZLB0ZAg8DKoUWGR0DRItv5frpFQEa28/3UyEZARrbz/dR4SEA730+Nl/5GQGq8dJMYdEtASgwCK4fmSEADK4cW2S5GQKjGSzeJkUlANV66SQxCREAZBFYOLRJGQFK4HoXrwUVAuB6F61FYSECBlUOLbCdDQAAAAAAA8EhAsp3vp8ZrQ0CR7Xw/NT5CQGQ730+Nx0pAGQRWDi3iSEA730+Nl05FQG3n+6nxYkpAsXJoke1sRkA3XrpJDOJEQJMYBFYO/UNADi2yne83SEBGtvP91HhPQHWTGARWbkpARIts5/spREDl0CLb+e5KQNnO91PjRURADgIrhxZpRUCoxks3iRFQQM3MzMzMTEZAPQrXo3A9TEC4HoXrUehGQDMzMzMzs0FABoGVQ4t8REAOAiuHFtlKQLTIdr6fikZALbKd76fGSECPwvUoXM9HQP3UeOkm4UhAkxgEVg7NS0A3XrpJDIJJQARWDi2yDUlA4XoUrkfRS0A=",
                        "dtype": "f8"
                      },
                      "yaxis": "y3"
                    },
                    {
                      "hovertemplate": "<b>%{hovertext}</b><br><br>continent=Americas<br>year=1972<br>gdpPercap=%{x}<br>lifeExp=%{y}<br>pop=%{marker.size}<extra></extra>",
                      "hovertext": [
                        "Argentina",
                        "Bolivia",
                        "Brazil",
                        "Canada",
                        "Chile",
                        "Colombia",
                        "Costa Rica",
                        "Cuba",
                        "Dominican Republic",
                        "Ecuador",
                        "El Salvador",
                        "Guatemala",
                        "Haiti",
                        "Honduras",
                        "Jamaica",
                        "Mexico",
                        "Nicaragua",
                        "Panama",
                        "Paraguay",
                        "Peru",
                        "Puerto Rico",
                        "Trinidad and Tobago",
                        "United States",
                        "Uruguay",
                        "Venezuela"
                      ],
                      "ids": [
                        "Argentina",
                        "Bolivia",
                        "Brazil",
                        "Canada",
                        "Chile",
                        "Colombia",
                        "Costa Rica",
                        "Cuba",
                        "Dominican Republic",
                        "Ecuador",
                        "El Salvador",
                        "Guatemala",
                        "Haiti",
                        "Honduras",
                        "Jamaica",
                        "Mexico",
                        "Nicaragua",
                        "Panama",
                        "Paraguay",
                        "Peru",
                        "Puerto Rico",
                        "Trinidad and Tobago",
                        "United States",
                        "Uruguay",
                        "Venezuela"
                      ],
                      "legendgroup": "Americas",
                      "marker": {
                        "color": "#ab63fa",
                        "size": {
                          "bdata": "Fxx6AXCrRQB6sgIG1AhUARRHlAAq+lcBLP8bAHTBhgBhR0cAGxxgADfYOQCNk04AvbBHAJo+LQAwex4ApkBWA/xOIQAAqhgAWOMnAIzu1ACccSsAX+EOAEDCggzWLCsAAbevAA==",
                          "dtype": "i4"
                        },
                        "sizemode": "area",
                        "sizeref": 651201.5288888889,
                        "symbol": "circle"
                      },
                      "mode": "markers",
                      "name": "Americas",
                      "orientation": "v",
                      "showlegend": true,
                      "type": "scatter",
                      "x": {
                        "bdata": "BoNr7oRxwkDH8UOlqUinQC+JsyK2ebNApmH4iKSG0kDQ04BBBna1QAra5PBRgalAglfLnSX+s0BZFkz8cbm0QMU6Vb6/G6FAAYdQpf6gtECOWmH6PqixQM+B5QjRfq9AJ/im6dPZmUDmBdhHr8OjQJG/tKjjCb1AnvnVHGiZukDMmljgl1CyQAcU6uk/9LRAmkNSC622o0CJldHI0zG3QG9GzVeF0cFAY6vLKY3buUAoSddMgkvVQGYRiq1oR7ZACvSJPKGExEA=",
                        "dtype": "f8"
                      },
                      "xaxis": "x4",
                      "y": {
                        "bdata": "XI/C9SjEUEAIrBxaZFtHQI2XbhKDwE1AuB6F61E4UkCcxCCwcrhPQDu0yHa+z05AdJMYBFb2UECDwMqhRa5RQFTjpZvE0E1A2s73U+NlTUDRItv5fhpNQFg5tMh23kpATDeJQWAFSED91HjpJvFKQAAAAAAAQFFAke18PzUuT0AX2c73U5NLQOj7qfHSjVBAXI/C9Sh0UEDTTWIQWLlLQArXo3A9ClJAmpmZmZl5UED2KFyPwtVRQFCNl24SK1FAIbByaJFtUEA=",
                        "dtype": "f8"
                      },
                      "yaxis": "y4"
                    },
                    {
                      "hovertemplate": "<b>%{hovertext}</b><br><br>continent=Oceania<br>year=1972<br>gdpPercap=%{x}<br>lifeExp=%{y}<br>pop=%{marker.size}<extra></extra>",
                      "hovertext": [
                        "Australia",
                        "New Zealand"
                      ],
                      "ids": [
                        "Australia",
                        "New Zealand"
                      ],
                      "legendgroup": "Oceania",
                      "marker": {
                        "color": "#FFA15A",
                        "size": {
                          "bdata": "qBDJAMyxLAA=",
                          "dtype": "i4"
                        },
                        "sizemode": "area",
                        "sizeref": 651201.5288888889,
                        "symbol": "circle"
                      },
                      "mode": "markers",
                      "name": "Oceania",
                      "orientation": "v",
                      "showlegend": true,
                      "type": "scatter",
                      "x": {
                        "bdata": "X3tmSShl0EBmTpfFBFfPQA==",
                        "dtype": "f8"
                      },
                      "xaxis": "x5",
                      "y": {
                        "bdata": "7FG4HoX7UUApXI/C9fhRQA==",
                        "dtype": "f8"
                      },
                      "yaxis": "y5"
                    }
                  ],
                  "name": "1972"
                },
                {
                  "data": [
                    {
                      "hovertemplate": "<b>%{hovertext}</b><br><br>continent=Asia<br>year=1977<br>gdpPercap=%{x}<br>lifeExp=%{y}<br>pop=%{marker.size}<extra></extra>",
                      "hovertext": [
                        "Afghanistan",
                        "Bahrain",
                        "Bangladesh",
                        "Cambodia",
                        "China",
                        "Hong Kong, China",
                        "India",
                        "Indonesia",
                        "Iran",
                        "Iraq",
                        "Israel",
                        "Japan",
                        "Jordan",
                        "Korea, Dem. Rep.",
                        "Korea, Rep.",
                        "Kuwait",
                        "Lebanon",
                        "Malaysia",
                        "Mongolia",
                        "Myanmar",
                        "Nepal",
                        "Oman",
                        "Pakistan",
                        "Philippines",
                        "Saudi Arabia",
                        "Singapore",
                        "Sri Lanka",
                        "Syria",
                        "Taiwan",
                        "Thailand",
                        "Vietnam",
                        "West Bank and Gaza",
                        "Yemen, Rep."
                      ],
                      "ids": [
                        "Afghanistan",
                        "Bahrain",
                        "Bangladesh",
                        "Cambodia",
                        "China",
                        "Hong Kong, China",
                        "India",
                        "Indonesia",
                        "Iran",
                        "Iraq",
                        "Israel",
                        "Japan",
                        "Jordan",
                        "Korea, Dem. Rep.",
                        "Korea, Rep.",
                        "Kuwait",
                        "Lebanon",
                        "Malaysia",
                        "Mongolia",
                        "Myanmar",
                        "Nepal",
                        "Oman",
                        "Pakistan",
                        "Philippines",
                        "Saudi Arabia",
                        "Singapore",
                        "Sri Lanka",
                        "Syria",
                        "Taiwan",
                        "Thailand",
                        "Vietnam",
                        "West Bank and Gaza",
                        "Yemen, Rep."
                      ],
                      "legendgroup": "Asia",
                      "marker": {
                        "color": "#636efa",
                        "size": {
                          "bdata": "dA7jAMKJBAASPcsEL3xqABj7OzgU8UUAgBLKJQhCJghnZB0CpFG1AO5XNQBZjskG9JAdAMga+QAg+CsChWYRAAuLLwBFAcQAwFAXAJcU4QGOmtQA9VMPAO6DqASS48oC+Qd8ADR7IwDkZ9cAVwp5ACwfAAE9pqECghQDAyM+EwAWPIAA",
                          "dtype": "i4"
                        },
                        "sizemode": "area",
                        "sizeref": 651201.5288888889,
                        "symbol": "circle"
                      },
                      "mode": "markers",
                      "name": "Asia",
                      "orientation": "v",
                      "showlegend": true,
                      "type": "scatter",
                      "x": {
                        "bdata": "ZaVJKeiQiEBgPIOGBuPSQP7PUJIEn4RAw038B8dngEBGcp5W5imHQEjhehQS2cVAhKlm1rJqiUDYn8TnzpqVQEDZlCtMOMdAIxXGFh6wzECu9UVCT/3JQBGN7iCYONBApIy4ALRIpkD0iqceTQqwQMNHxJQ4MbJA9Bq7RC/w7EBWC+wx2enAQOJzJ9jX561ACObo8Qu+mUAAAAAAADB3QCZ+1kbmsIVAOBCSBSwkx0A3wTdNr1+SQP8/TphoiqJAfh04Z/iu4EDTpBR0C+XFQHB4QUQaE5VAdsQhG/j2qECcFVEThdy1QCmqtwbmpJ5AVGBcBUxMhkCk4ZS5qcWsQJs6j4oPl5xA",
                        "dtype": "f8"
                      },
                      "xaxis": "x",
                      "y": {
                        "bdata": "8tJNYhA4Q0DLoUW282VQQKAaL90kdkdAuB6F61E4P0CyutVz0vtPQGZmZmZmZlJAtMh2vp8aS0Bg5dAi21lKQGDl0CLb2UxAvp8aL900TkCkcD0K10NSQLgehetR2FJA/dR46SaRTkAYBFYOLcpQQBsv3SQGMVBAy6FFtvNVUUB0kxgEVoZQQKrx0k1iUFBAAyuHFtm+S0BkO99PjQdMQDu0yHa+X0dA5dAi2/muTEAv3SQGgQVLQEjhehSuB05AuB6F61FYTUB7FK5H4bJRQNv5fmq8fFBAKVyPwvWYTkD2KFyPwqVRQKwcWmQ7P09AbxKDwMrhS0BSuB6F62FOQGZmZmZmFkZA",
                        "dtype": "f8"
                      },
                      "yaxis": "y"
                    },
                    {
                      "hovertemplate": "<b>%{hovertext}</b><br><br>continent=Europe<br>year=1977<br>gdpPercap=%{x}<br>lifeExp=%{y}<br>pop=%{marker.size}<extra></extra>",
                      "hovertext": [
                        "Albania",
                        "Austria",
                        "Belgium",
                        "Bosnia and Herzegovina",
                        "Bulgaria",
                        "Croatia",
                        "Czech Republic",
                        "Denmark",
                        "Finland",
                        "France",
                        "Germany",
                        "Greece",
                        "Hungary",
                        "Iceland",
                        "Ireland",
                        "Italy",
                        "Montenegro",
                        "Netherlands",
                        "Norway",
                        "Poland",
                        "Portugal",
                        "Romania",
                        "Serbia",
                        "Slovak Republic",
                        "Slovenia",
                        "Spain",
                        "Sweden",
                        "Switzerland",
                        "Turkey",
                        "United Kingdom"
                      ],
                      "ids": [
                        "Albania",
                        "Austria",
                        "Belgium",
                        "Bosnia and Herzegovina",
                        "Bulgaria",
                        "Croatia",
                        "Czech Republic",
                        "Denmark",
                        "Finland",
                        "France",
                        "Germany",
                        "Greece",
                        "Hungary",
                        "Iceland",
                        "Ireland",
                        "Italy",
                        "Montenegro",
                        "Netherlands",
                        "Norway",
                        "Poland",
                        "Portugal",
                        "Romania",
                        "Serbia",
                        "Slovak Republic",
                        "Slovenia",
                        "Spain",
                        "Sweden",
                        "Switzerland",
                        "Turkey",
                        "United Kingdom"
                      ],
                      "legendgroup": "Europe",
                      "marker": {
                        "color": "#EF553B",
                        "size": {
                          "bdata": "+EgmAC58cwBo3pUA8Fg+AF47hgDR5UEA+w6bAKOkTQBWT0gA2zsrA4WjqAQ/CY4Ac0+iAH9iAwDc7DEAbWVXA8mLCAA9YdMAxbE9AEZHEAKIcJMA5XtKAR+LhACbqkkA56caANgDLAIA6X0AiGFgAMEIhwI4OVkD",
                          "dtype": "i4"
                        },
                        "sizemode": "area",
                        "sizeref": 651201.5288888889,
                        "symbol": "circle"
                      },
                      "mode": "markers",
                      "name": "Europe",
                      "orientation": "v",
                      "showlegend": true,
                      "type": "scatter",
                      "x": {
                        "bdata": "Q9R9AAKaq0BGlPYGW0nTQKdc4V1+q9JAzeSbbfaQq0C3QliNPby9QLMkQE2xFMZAizcyjxTozEBWDi2yufHTQOIeSx+2es5AGD4ipijd0UCGrG71OgjUQPlmmxvDuctAU67wLmvNxkBYxRuZvTHTQJD3qpV9x8VAXrpJDP7Xy0CyhSAH973CQPvL7slDttRA499nXNbD1kDyJyobEpLCQIKtEiw+3sNAVaTC2DJGwkBbXyS0VVrJQJ5BQ/9UVcVAqE2c3IPWzUAHCOboddrJQC8012nuadJAtTLhl5JZ2kBzucFQH62wQJfFxOYvBdFA",
                        "dtype": "f8"
                      },
                      "xaxis": "x2",
                      "y": {
                        "bdata": "7FG4HoU7UUB7FK5H4QpSQDMzMzMzM1JA16NwPQp3UUCkcD0K17NRQClcj8L1qFFAPQrXo3CtUUBcj8L1KKxSQOF6FK5HIVJAhetRuB51UkAAAAAAACBSQOxRuB6Fa1JAzczMzMx8UUDXo3A9CgdTQFK4HoXrAVJAH4XrUbheUkBOYhBYOURSQI/C9Shcz1JASOF6FK7XUkB7FK5H4apRQArXo3A9mlFAPQrXo3BdUUAzMzMzM5NRQM3MzMzMnFFArkfhehS+UUApXI/C9ZhSQFyPwvUo3FJAKVyPwvXYUkA3iUFg5cBNQHE9CtejMFJA",
                        "dtype": "f8"
                      },
                      "yaxis": "y2"
                    },
                    {
                      "hovertemplate": "<b>%{hovertext}</b><br><br>continent=Africa<br>year=1977<br>gdpPercap=%{x}<br>lifeExp=%{y}<br>pop=%{marker.size}<extra></extra>",
                      "hovertext": [
                        "Algeria",
                        "Angola",
                        "Benin",
                        "Botswana",
                        "Burkina Faso",
                        "Burundi",
                        "Cameroon",
                        "Central African Republic",
                        "Chad",
                        "Comoros",
                        "Congo, Dem. Rep.",
                        "Congo, Rep.",
                        "Cote d'Ivoire",
                        "Djibouti",
                        "Egypt",
                        "Equatorial Guinea",
                        "Eritrea",
                        "Ethiopia",
                        "Gabon",
                        "Gambia",
                        "Ghana",
                        "Guinea",
                        "Guinea-Bissau",
                        "Kenya",
                        "Lesotho",
                        "Liberia",
                        "Libya",
                        "Madagascar",
                        "Malawi",
                        "Mali",
                        "Mauritania",
                        "Mauritius",
                        "Morocco",
                        "Mozambique",
                        "Namibia",
                        "Niger",
                        "Nigeria",
                        "Reunion",
                        "Rwanda",
                        "Sao Tome and Principe",
                        "Senegal",
                        "Sierra Leone",
                        "Somalia",
                        "South Africa",
                        "Sudan",
                        "Swaziland",
                        "Tanzania",
                        "Togo",
                        "Tunisia",
                        "Uganda",
                        "Zambia",
                        "Zimbabwe"
                      ],
                      "ids": [
                        "Algeria",
                        "Angola",
                        "Benin",
                        "Botswana",
                        "Burkina Faso",
                        "Burundi",
                        "Cameroon",
                        "Central African Republic",
                        "Chad",
                        "Comoros",
                        "Congo, Dem. Rep.",
                        "Congo, Rep.",
                        "Cote d'Ivoire",
                        "Djibouti",
                        "Egypt",
                        "Equatorial Guinea",
                        "Eritrea",
                        "Ethiopia",
                        "Gabon",
                        "Gambia",
                        "Ghana",
                        "Guinea",
                        "Guinea-Bissau",
                        "Kenya",
                        "Lesotho",
                        "Liberia",
                        "Libya",
                        "Madagascar",
                        "Malawi",
                        "Mali",
                        "Mauritania",
                        "Mauritius",
                        "Morocco",
                        "Mozambique",
                        "Namibia",
                        "Niger",
                        "Nigeria",
                        "Reunion",
                        "Rwanda",
                        "Sao Tome and Principe",
                        "Senegal",
                        "Sierra Leone",
                        "Somalia",
                        "South Africa",
                        "Sudan",
                        "Swaziland",
                        "Tanzania",
                        "Togo",
                        "Tunisia",
                        "Uganda",
                        "Zambia",
                        "Zimbabwe"
                      ],
                      "legendgroup": "Africa",
                      "marker": {
                        "color": "#00cc96",
                        "size": {
                          "bdata": "JLsFAfMIXgALWDAAoOwLACbeWQAvgjoAOXV5AO0SIQCk9UIAY6YEAOYQlAEBcxcA9tJxAFZ9AwB3y08Co/ACAAJXJgDHORACP8cKABJICQBtzKAA0n9AAAxfCwA0Qt0AxBgTAMH+GQD3hykA/i16AH4EVgABDmMAMDoWAIHuDQANtxgBPMypAILoDgCms1YAlTy1Az+CBwCwD0cADFMBADdGUAAh7S8Agm5CAEz4nQFaAAUBAWoIAF1gBQHmOSMARaFbAN7UrgAmmU8Au1llAA==",
                          "dtype": "i4"
                        },
                        "sizemode": "area",
                        "sizeref": 651201.5288888889,
                        "symbol": "circle"
                      },
                      "mode": "markers",
                      "name": "Africa",
                      "orientation": "v",
                      "showlegend": true,
                      "type": "scatter",
                      "x": {
                        "bdata": "a26FsGous0DOUx1yS4GnQMpt+x6lFJBA17/rM7cdqUDK8r+mGDuHQIwap3zTYIFASUkPQ7vdm0Ca7nVSf1WRQMiYu5bwt5FAzhsnhWlSkkDMft3pDt6IQGghAaNbdqlA7zmwHHmro0AT86ykhROoQMqnx7b8wqVAvYfw1Ij0jUCRr6mYD5x/QAlNt5F3ZoFA3ZiesGQ81UBBBuHACqaLQKghBarKCY9A8g9spnxVi0DloJXFzuWHQBvXv+tzzpNATZTO0fRKh0DRC4halAKEQKbQeY3Nb9VAS8lyEuogmEALD/UWyrmEQOdk84Ipc4VAW11OCfhll0BbJO1G9/2sQJyIfm09haJABgfFoB1lf0B2qnzP+EiuQAsRgTQtR4lAjGg7ps73nkDLvFXXzd+wQCyEMBKl8IRARzoDIz8mm0BSCyWTE2eYQKSMuAAkEZVAa+9TVfirlkBX0LTEply/QDpXlBL6NaFATMKFPNKKrUBY0Go38BOOQDscXaUb85dAjBNf7cBhqEDaSwl33V2KQHr7c9HA0phAjz+skrNshUA=",
                        "dtype": "f8"
                      },
                      "xaxis": "x3",
                      "y": {
                        "bdata": "bxKDwMoBTUDn+6nx0r1DQLgehetRmEhARrbz/dSoTUCoxks3iRFHQBSuR+F69EZAPQrXo3CtSEAzMzMzM2NHQBsv3SQGsUdA1HjpJjF4SUD0/dR46eZHQAAAAAAA0EtAHVpkO98vSkDfT42XbkJHQEa28/3UqEpAUI2XbhIDRUAUrkfhekRGQOF6FK5HQUZAhetRuB5lSkCyne+nxutEQFTjpZvE4ElAqMZLN4lhREDsUbgehbtCQKRwPQrXE0xAtMh2vp8aSkBvEoPAyuFFQH9qvHSTuExAVOOlm8RwR0AZBFYOLeJFQAisHFpk20RAkxgEVg5tSUDsUbgehTtQQD0K16Nw3UtAj8L1KFw/RUAOLbKd7zdMQGiR7Xw/pURAbxKDwMpBRkBqvHSTGMRQQAAAAAAAgEZAZmZmZmZGTUCNl24Sg3BIQL6fGi/dZEJA6SYxCKz8RED6fmq8dMNLQGZmZmZm5kdA2/l+arxESkASg8DKofVIQKjGSzeJcUpAQmDl0CLrTUDNzMzMzCxJQMUgsHJosUlAg8DKoUXWTEA=",
                        "dtype": "f8"
                      },
                      "yaxis": "y3"
                    },
                    {
                      "hovertemplate": "<b>%{hovertext}</b><br><br>continent=Americas<br>year=1977<br>gdpPercap=%{x}<br>lifeExp=%{y}<br>pop=%{marker.size}<extra></extra>",
                      "hovertext": [
                        "Argentina",
                        "Bolivia",
                        "Brazil",
                        "Canada",
                        "Chile",
                        "Colombia",
                        "Costa Rica",
                        "Cuba",
                        "Dominican Republic",
                        "Ecuador",
                        "El Salvador",
                        "Guatemala",
                        "Haiti",
                        "Honduras",
                        "Jamaica",
                        "Mexico",
                        "Nicaragua",
                        "Panama",
                        "Paraguay",
                        "Peru",
                        "Puerto Rico",
                        "Trinidad and Tobago",
                        "United States",
                        "Uruguay",
                        "Venezuela"
                      ],
                      "ids": [
                        "Argentina",
                        "Bolivia",
                        "Brazil",
                        "Canada",
                        "Chile",
                        "Colombia",
                        "Costa Rica",
                        "Cuba",
                        "Dominican Republic",
                        "Ecuador",
                        "El Salvador",
                        "Guatemala",
                        "Haiti",
                        "Honduras",
                        "Jamaica",
                        "Mexico",
                        "Nicaragua",
                        "Panama",
                        "Paraguay",
                        "Peru",
                        "Puerto Rico",
                        "Trinidad and Tobago",
                        "United States",
                        "Uruguay",
                        "Venezuela"
                      ],
                      "legendgroup": "Americas",
                      "marker": {
                        "color": "#ab63fa",
                        "size": {
                          "bdata": "lL2bAaSCTQDfStAGsBprAXG9oQAM6X4BKSwgAMSJkQAQ6lAAEhFvANpYQQAGB1cACuZKAIOeLgAO6SAAaObMA+b6JgCmEhwALootAFP98wB8Ai8AodoPAJiUIA2w2CsASwzOAA==",
                          "dtype": "i4"
                        },
                        "sizemode": "area",
                        "sizeref": 651201.5288888889,
                        "symbol": "circle"
                      },
                      "mode": "markers",
                      "name": "Americas",
                      "orientation": "v",
                      "showlegend": true,
                      "type": "scatter",
                      "x": {
                        "bdata": "v2A3bIOvw0ABMQkXMrirQIrJG2AeBLpAGhcOhLiS1UCCj8GKw5SyQNf6IqGdz61ArMjogOAmt0Cgfhe2fuy4QAfOGVH686RA6KT3jZ8XukCu1LMg7BK0QCuhuyT+D7NAC9P3GjJJnUDScqCHagapQPt2EhEy+rlAdJoF2u36vUDoTrD/Xm61QD7pRILp57RAeZCeIr9gqUDfKHl1Som4QP5/nDBDFcNAJxqk4I3bvkA1Y9F0KILXQKuEJ/RWaLlAEce6uPmryUA=",
                        "dtype": "f8"
                      },
                      "xaxis": "x4",
                      "y": {
                        "bdata": "EVg5tMgeUUBt5/up8QJJQDvfT42Xvk5APQrXo3CNUkAW2c73U8NQQEJg5dAi609AAAAAAACwUUCoxks3iSlSQL6fGi/d5E5ASOF6FK6nTkAOAiuHFllMQMHKoUW2A0xAoBov3ST2SED6fmq8dLNMQNejcD0Kh1FANV66SQxCUEBcj8L1KLxMQN0kBoGVK1FAPN9PjZeWUEDwp8ZLNzlNQFyPwvUoXFJAMzMzMzMTUUC4HoXrUVhSQBFYObTIXlFAd76fGi/dUEA=",
                        "dtype": "f8"
                      },
                      "yaxis": "y4"
                    },
                    {
                      "hovertemplate": "<b>%{hovertext}</b><br><br>continent=Oceania<br>year=1977<br>gdpPercap=%{x}<br>lifeExp=%{y}<br>pop=%{marker.size}<extra></extra>",
                      "hovertext": [
                        "Australia",
                        "New Zealand"
                      ],
                      "ids": [
                        "Australia",
                        "New Zealand"
                      ],
                      "legendgroup": "Oceania",
                      "marker": {
                        "color": "#FFA15A",
                        "size": {
                          "bdata": "9MDWAORKMAA=",
                          "dtype": "i4"
                        },
                        "sizemode": "area",
                        "sizeref": 651201.5288888889,
                        "symbol": "circle"
                      },
                      "mode": "markers",
                      "name": "Oceania",
                      "orientation": "v",
                      "showlegend": true,
                      "type": "scatter",
                      "x": {
                        "bdata": "qfsApIzn0UAr9pfd27TPQA==",
                        "dtype": "f8"
                      },
                      "xaxis": "x5",
                      "y": {
                        "bdata": "j8L1KFxfUkCuR+F6FA5SQA==",
                        "dtype": "f8"
                      },
                      "yaxis": "y5"
                    }
                  ],
                  "name": "1977"
                },
                {
                  "data": [
                    {
                      "hovertemplate": "<b>%{hovertext}</b><br><br>continent=Asia<br>year=1982<br>gdpPercap=%{x}<br>lifeExp=%{y}<br>pop=%{marker.size}<extra></extra>",
                      "hovertext": [
                        "Afghanistan",
                        "Bahrain",
                        "Bangladesh",
                        "Cambodia",
                        "China",
                        "Hong Kong, China",
                        "India",
                        "Indonesia",
                        "Iran",
                        "Iraq",
                        "Israel",
                        "Japan",
                        "Jordan",
                        "Korea, Dem. Rep.",
                        "Korea, Rep.",
                        "Kuwait",
                        "Lebanon",
                        "Malaysia",
                        "Mongolia",
                        "Myanmar",
                        "Nepal",
                        "Oman",
                        "Pakistan",
                        "Philippines",
                        "Saudi Arabia",
                        "Singapore",
                        "Sri Lanka",
                        "Syria",
                        "Taiwan",
                        "Thailand",
                        "Vietnam",
                        "West Bank and Gaza",
                        "Yemen, Rep."
                      ],
                      "ids": [
                        "Afghanistan",
                        "Bahrain",
                        "Bangladesh",
                        "Cambodia",
                        "China",
                        "Hong Kong, China",
                        "India",
                        "Indonesia",
                        "Iran",
                        "Iraq",
                        "Israel",
                        "Japan",
                        "Jordan",
                        "Korea, Dem. Rep.",
                        "Korea, Rep.",
                        "Kuwait",
                        "Lebanon",
                        "Malaysia",
                        "Mongolia",
                        "Myanmar",
                        "Nepal",
                        "Oman",
                        "Pakistan",
                        "Philippines",
                        "Saudi Arabia",
                        "Singapore",
                        "Sri Lanka",
                        "Syria",
                        "Taiwan",
                        "Thailand",
                        "Vietnam",
                        "West Bank and Gaza",
                        "Yemen, Rep."
                      ],
                      "legendgroup": "Asia",
                      "marker": {
                        "color": "#636efa",
                        "size": {
                          "bdata": "mI/EAG/EBQDmM4wFJfhuAKgTnzt0VFAAADkzKhjUIwnvPJEChkTYAPXfOgC+eg8HF9AjAJ5HDQEwEVgCltkWABwaLwC8XdwAgMsaAHouEQJaCPEAONoTAMiZcwWGry8DkLurAN12KADnI+sAvpePAA5PGgEYC+kCZalYA9TBFQASXZMA",
                          "dtype": "i4"
                        },
                        "sizemode": "area",
                        "sizeref": 651201.5288888889,
                        "symbol": "circle"
                      },
                      "mode": "markers",
                      "name": "Asia",
                      "orientation": "v",
                      "showlegend": true,
                      "type": "scatter",
                      "x": {
                        "bdata": "Pr85bReQjkAY7IZtycLSQIoIWtzaJ4VAo4+ex82Dg0BhVb38XhOOQBpuwOdDcMxAZDcizsm9ikA095DwfbOXQC0HeqhVuL1A8DMuHPRazECGWtO8gwPOQDfg88MG7tJAev1JfGpBsEDRH5p5hgqwQKgZUkXx9rVAX3tmSYKe3kCUCFT/hNi9QPrPmh9bOLNAxR9FnWlCn0AAAAAAAIB6QH32Ehn8coZAaNDQP2VNyUAZO+EluI2WQJQT7SqMVqRAVOOlm6Vz4EBehZSflKDNQFImNbRRwJlAvQD76KxjrUB3B3jSWgK9QJCeIodwsqJAwnrt4+IZhkDKpIY2CPCwQC5W1GA65p5A",
                        "dtype": "f8"
                      },
                      "xaxis": "x",
                      "y": {
                        "bdata": "WmQ730/tQ0AW2c73U0NRQP3UeOkmAUlA0SLb+X56SUCamZmZmWFQQM3MzMzM3FJAPzVeuklMTEAxCKwcWhRMQI/C9Shcz01Avp8aL90ET0DNzMzMzJxSQNejcD0KR1NAO99PjZfeT0BmZmZmZkZRQB1aZDvfx1BAsp3vp8bTUUD0/dR46b5QQAAAAAAAAFFAO99PjZe+TEC6SQwCKwdNQHnpJjEIzEhAd76fGi9dT0BOYhBYORRMQNEi2/l+Ck9AqMZLN4mBT0BxPQrXo/BRQJzEILByMFFA9ihcj8IlUEAK16NwPQpSQJHtfD81JlBAnMQgsHJoTUBEi2zn+xlQQFg5tMh2jkhA",
                        "dtype": "f8"
                      },
                      "yaxis": "y"
                    },
                    {
                      "hovertemplate": "<b>%{hovertext}</b><br><br>continent=Europe<br>year=1982<br>gdpPercap=%{x}<br>lifeExp=%{y}<br>pop=%{marker.size}<extra></extra>",
                      "hovertext": [
                        "Albania",
                        "Austria",
                        "Belgium",
                        "Bosnia and Herzegovina",
                        "Bulgaria",
                        "Croatia",
                        "Czech Republic",
                        "Denmark",
                        "Finland",
                        "France",
                        "Germany",
                        "Greece",
                        "Hungary",
                        "Iceland",
                        "Ireland",
                        "Italy",
                        "Montenegro",
                        "Netherlands",
                        "Norway",
                        "Poland",
                        "Portugal",
                        "Romania",
                        "Serbia",
                        "Slovak Republic",
                        "Slovenia",
                        "Spain",
                        "Sweden",
                        "Switzerland",
                        "Turkey",
                        "United Kingdom"
                      ],
                      "ids": [
                        "Albania",
                        "Austria",
                        "Belgium",
                        "Bosnia and Herzegovina",
                        "Bulgaria",
                        "Croatia",
                        "Czech Republic",
                        "Denmark",
                        "Finland",
                        "France",
                        "Germany",
                        "Greece",
                        "Hungary",
                        "Iceland",
                        "Ireland",
                        "Italy",
                        "Montenegro",
                        "Netherlands",
                        "Norway",
                        "Poland",
                        "Portugal",
                        "Romania",
                        "Serbia",
                        "Slovak Republic",
                        "Slovenia",
                        "Spain",
                        "Sweden",
                        "Switzerland",
                        "Turkey",
                        "United Kingdom"
                      ],
                      "legendgroup": "Europe",
                      "marker": {
                        "color": "#EF553B",
                        "size": {
                          "bdata": "wWsqAFWUcwAvZZYAlas/AMKuhwC4V0MA2DidAHIXTgA1p0kAHZc+AyJNqwRwVJUAf1qjAA2SAwDAGTUAVKpeA3SVCAABXNoAY8k+ADXJKAJCcpYA9iJVAXjUiQDrBk0AhGYcAE6UQwKMCH8AHrJiABcu0gL4rFsD",
                          "dtype": "i4"
                        },
                        "sizemode": "area",
                        "sizeref": 651201.5288888889,
                        "symbol": "circle"
                      },
                      "mode": "markers",
                      "name": "Europe",
                      "orientation": "v",
                      "showlegend": true,
                      "type": "scatter",
                      "x": {
                        "bdata": "vHX+7cJdrEBTswdaRRfVQIHPDyP2fNRAUG7b95wesECwjuOHGBDAQEaZDTLp0slAwFsgQZ0IzkAJbTmXAi7VQOFASBZKGdJAXhH8b3nR00BRg2kY4oPVQJs4ud810s1Aumbyzf6AyEAUrkfhZrnWQE5/9iMppchA5/up8V4m0EA91SE3S+vFQEc4LXjd5dRANUbrqKiu2UAGZ/D3w4HAQLyReeTr9MZAG4LjMqjCwkAr9pfdi6bNQEOtad5FKsZAeekmMa5y0UCns5PBFTPLQGZmZmbYLtRALq2GxG2720AgQlw5W5GwQCDvVSsbztFA",
                        "dtype": "f8"
                      },
                      "xaxis": "x2",
                      "y": {
                        "bdata": "exSuR+GaUUDsUbgehUtSQOxRuB6Fe1JAXI/C9SisUUCF61G4HsVRQD0K16NwnVFAPQrXo3C9UUC4HoXrUahSQDMzMzMzo1JAKVyPwvW4UkAzMzMzM3NSQI/C9Shcz1JAKVyPwvVYUUCPwvUoXD9TQGZmZmZmRlJAH4XrUbi+UkBYObTIdoZSQDMzMzMzA1NArkfhehT+UkAUrkfhetRRQOF6FK5HMVJACtejcD1qUUDtfD81XopRQDMzMzMzs1FAeekmMQjEUUAzMzMzMxNTQHsUrkfhGlNAPQrXo3ANU0D4U+Olm4ROQMP1KFyPglJA",
                        "dtype": "f8"
                      },
                      "yaxis": "y2"
                    },
                    {
                      "hovertemplate": "<b>%{hovertext}</b><br><br>continent=Africa<br>year=1982<br>gdpPercap=%{x}<br>lifeExp=%{y}<br>pop=%{marker.size}<extra></extra>",
                      "hovertext": [
                        "Algeria",
                        "Angola",
                        "Benin",
                        "Botswana",
                        "Burkina Faso",
                        "Burundi",
                        "Cameroon",
                        "Central African Republic",
                        "Chad",
                        "Comoros",
                        "Congo, Dem. Rep.",
                        "Congo, Rep.",
                        "Cote d'Ivoire",
                        "Djibouti",
                        "Egypt",
                        "Equatorial Guinea",
                        "Eritrea",
                        "Ethiopia",
                        "Gabon",
                        "Gambia",
                        "Ghana",
                        "Guinea",
                        "Guinea-Bissau",
                        "Kenya",
                        "Lesotho",
                        "Liberia",
                        "Libya",
                        "Madagascar",
                        "Malawi",
                        "Mali",
                        "Mauritania",
                        "Mauritius",
                        "Morocco",
                        "Mozambique",
                        "Namibia",
                        "Niger",
                        "Nigeria",
                        "Reunion",
                        "Rwanda",
                        "Sao Tome and Principe",
                        "Senegal",
                        "Sierra Leone",
                        "Somalia",
                        "South Africa",
                        "Sudan",
                        "Swaziland",
                        "Tanzania",
                        "Togo",
                        "Tunisia",
                        "Uganda",
                        "Zambia",
                        "Zimbabwe"
                      ],
                      "ids": [
                        "Algeria",
                        "Angola",
                        "Benin",
                        "Botswana",
                        "Burkina Faso",
                        "Burundi",
                        "Cameroon",
                        "Central African Republic",
                        "Chad",
                        "Comoros",
                        "Congo, Dem. Rep.",
                        "Congo, Rep.",
                        "Cote d'Ivoire",
                        "Djibouti",
                        "Egypt",
                        "Equatorial Guinea",
                        "Eritrea",
                        "Ethiopia",
                        "Gabon",
                        "Gambia",
                        "Ghana",
                        "Guinea",
                        "Guinea-Bissau",
                        "Kenya",
                        "Lesotho",
                        "Liberia",
                        "Libya",
                        "Madagascar",
                        "Malawi",
                        "Mali",
                        "Mauritania",
                        "Mauritius",
                        "Morocco",
                        "Mozambique",
                        "Namibia",
                        "Niger",
                        "Nigeria",
                        "Reunion",
                        "Rwanda",
                        "Sao Tome and Principe",
                        "Senegal",
                        "Sierra Leone",
                        "Somalia",
                        "South Africa",
                        "Sudan",
                        "Swaziland",
                        "Tanzania",
                        "Togo",
                        "Tunisia",
                        "Uganda",
                        "Zambia",
                        "Zimbabwe"
                      ],
                      "legendgroup": "Africa",
                      "marker": {
                        "color": "#00cc96",
                        "size": {
                          "bdata": "2bAxAcAPawADkTcAa84OAGQ8ZQA65EUADyiNAKvLJQBuY0oA41EFAN+g0wGPFBsAn7mJAEerBACTDLkCK1sEAPE9KAAMikUC0oALAAPrCgCS9K0AYeBHAIOaDAAMfg0B34oVAAvcHQDKBjMAFfKLAKk5YwDwyGoAeMAYACgjDwBKNTQB1xDAAALFEABEOWIAEH5aBLLmBwDtCVQAIYEBAMfOXQBK3TQAHPFYAL0o2wHNxjYBreoJAB7NLgEdWygAEsFmAIhwxQC3FV0ALIZ0AA==",
                          "dtype": "i4"
                        },
                        "sizemode": "area",
                        "sizeref": 651201.5288888889,
                        "symbol": "circle"
                      },
                      "mode": "markers",
                      "name": "Africa",
                      "orientation": "v",
                      "showlegend": true,
                      "type": "scatter",
                      "x": {
                        "bdata": "ZRu4AylxtkA5RrJH6ImlQHcRpiiX95NAIEHxYyTHsUCun/6zljmJQHZHxmrTfIFAfgG9cPd/okCK9fwfBuaNQNNTP8pD74hAi28ofGbMk0DbVg6I+w2FQAA49uyBD7NARGtFm2tVpECsUnqm736mQPiL2ZJ1X6tA8ANGTZr+jEDMHUe9AWeAQAQlYM/iDoJAj8cMVK6EzUDnIzoVeh6KQOguibNCYItAaq6JuwDKikA9gnbi/TCKQO2CwTXnEJVAr3IN2BrqiEBCcte3mOGBQIBv058R9dBAejnsvoNblECRsBRubsaDQGCMo80cUINA4Cwly5kkl0CRtYZSE9CsQME3TZ89HaVAMhaX9GHjfEDjwRa7GV+wQEWy7O7GbYxA7FG4HuWjmEBIqYQnOJO0QJCQN6+QjItAzhYQWt+InUBq+uyA67mXQEj99QoL5JZAb59VZjpjkkCkVMITIrzAQIz2eCEtnp1AJ94BnsRurkBG6uLb8FGLQIBG6dJPApVAjyCVYnfQq0CLOoQ7IVKFQNdMvtm2ApZA48nJH9emiEA=",
                        "dtype": "f8"
                      },
                      "xaxis": "x3",
                      "y": {
                        "bdata": "yXa+nxqvTkB/arx0k/hDQMHKoUW2c0lAy6FFtvO9TkBWDi2ynQ9IQD81XrpJvEdAYLpJDAJ7SkD2KFyPwiVIQBkEVg4twkhAgZVDi2x3SkAxCKwcWuRHQClcj8L1WExA5/up8dL9SkAOLbKd72dIQFTjpZvEAExA2/l+arzURUBSuB6F6/FFQGiR7Xw/dUZA1HjpJjFITEAK16NwPcpGQKwcWmQ730pAN166SQxyRUBg5dAi26lDQDdeukkMYk1ARIts5/uJS0CTGARWDm1GQKRwPQrXE09AeekmMQh8SEAZBFYOLdJGQGiR7Xw/9UVA6SYxCKzMSkAv3SQGga1QQDMzMzMz001A9ihcj8JlRUCWQ4ts53tNQAaBlUOLTEVAfT81XrrpRkBxPQrXo3hRQJZDi2znG0dAsXJoke0sTkCNl24SgzBKQClcj8L1OENACtejcD16RUD4U+OlmxRNQCUGgZVDK0lALIcW2c7HS0Dn+6nx0k1JQD81XrpJvEtAUI2XbhIDUEDpJjEIrOxIQA4CK4cW6UlAWDm0yHYuTkA=",
                        "dtype": "f8"
                      },
                      "yaxis": "y3"
                    },
                    {
                      "hovertemplate": "<b>%{hovertext}</b><br><br>continent=Americas<br>year=1982<br>gdpPercap=%{x}<br>lifeExp=%{y}<br>pop=%{marker.size}<extra></extra>",
                      "hovertext": [
                        "Argentina",
                        "Bolivia",
                        "Brazil",
                        "Canada",
                        "Chile",
                        "Colombia",
                        "Costa Rica",
                        "Cuba",
                        "Dominican Republic",
                        "Ecuador",
                        "El Salvador",
                        "Guatemala",
                        "Haiti",
                        "Honduras",
                        "Jamaica",
                        "Mexico",
                        "Nicaragua",
                        "Panama",
                        "Paraguay",
                        "Peru",
                        "Puerto Rico",
                        "Trinidad and Tobago",
                        "United States",
                        "Uruguay",
                        "Venezuela"
                      ],
                      "ids": [
                        "Argentina",
                        "Bolivia",
                        "Brazil",
                        "Canada",
                        "Chile",
                        "Colombia",
                        "Costa Rica",
                        "Cuba",
                        "Dominican Republic",
                        "Ecuador",
                        "El Salvador",
                        "Guatemala",
                        "Haiti",
                        "Honduras",
                        "Jamaica",
                        "Mexico",
                        "Nicaragua",
                        "Panama",
                        "Paraguay",
                        "Peru",
                        "Puerto Rico",
                        "Trinidad and Tobago",
                        "United States",
                        "Uruguay",
                        "Venezuela"
                      ],
                      "legendgroup": "Americas",
                      "marker": {
                        "color": "#ab63fa",
                        "size": {
                          "bdata": "vra/AfAXVgB70a8H7IyAAYhHrwCkp6cBL/4kAChflQDdEVsAGqd/APlHRADulmEAP1JPAMj9NwDFESMASCdFBF92LQBREh8AJ14zAEmRFAGZCDIAPwkRALvn1g0NEy0AnlruAA==",
                          "dtype": "i4"
                        },
                        "sizemode": "area",
                        "sizeref": 651201.5288888889,
                        "symbol": "circle"
                      },
                      "mode": "markers",
                      "name": "Americas",
                      "orientation": "v",
                      "showlegend": true,
                      "type": "scatter",
                      "x": {
                        "bdata": "hXtl3vKSwUBb7PZZBamoQHLBGfzVdrtAd/hrsrJc1kC2Oc5tquezQKZiY16TLbFAtDukGLyOtEA4cw8J65S8QDfBN00vWqZAZ195kMotvEAaUdobWAKwQGO0jqp+1LJAcCTQYKNsn0D+icqGhWOoQKYKRiUNtLdA6Zyf4pLFwkDmgcgirRyrQFeXUwKaYbtAIxYx7ICisEA7qMR1gCK5QGuad5x+LcRAuOhkqcPPwUB5I/PIY2zYQFjO3hk5CLtA4gZ8fjTIxUA=",
                        "dtype": "f8"
                      },
                      "xaxis": "x4",
                      "y": {
                        "bdata": "PzVeukl8UUDLoUW28+1KQGC6SQwCq09AcT0K16PwUkBcj8L1KKRRQG8Sg8DKqVBAzczMzMxcUkDZzvdT421SQJMYBFYO3U9A2c73U+MVUEBaZDvfT01MQKjGSzeJEU1AYLpJDAK7SUAxCKwcWnROQD0K16NwzVFAUrgehevZUECgGi/dJKZNQJHtfD81nlFADi2yne+3UECJFtnO97NOQAAAAAAAcFJAaJHtfD81UUCamZmZmalSQOxRuB6Fs1FAz/dT46UjUUA=",
                        "dtype": "f8"
                      },
                      "yaxis": "y4"
                    },
                    {
                      "hovertemplate": "<b>%{hovertext}</b><br><br>continent=Oceania<br>year=1982<br>gdpPercap=%{x}<br>lifeExp=%{y}<br>pop=%{marker.size}<extra></extra>",
                      "hovertext": [
                        "Australia",
                        "New Zealand"
                      ],
                      "ids": [
                        "Australia",
                        "New Zealand"
                      ],
                      "legendgroup": "Oceania",
                      "marker": {
                        "color": "#FFA15A",
                        "size": {
                          "bdata": "SLHnAJr9MAA=",
                          "dtype": "i4"
                        },
                        "sizemode": "area",
                        "sizeref": 651201.5288888889,
                        "symbol": "circle"
                      },
                      "mode": "markers",
                      "name": "Oceania",
                      "orientation": "v",
                      "showlegend": true,
                      "type": "scatter",
                      "x": {
                        "bdata": "ICQLmEAF00CSXP5DGjjRQA==",
                        "dtype": "f8"
                      },
                      "xaxis": "x5",
                      "y": {
                        "bdata": "j8L1KFyvUkD2KFyPwnVSQA==",
                        "dtype": "f8"
                      },
                      "yaxis": "y5"
                    }
                  ],
                  "name": "1982"
                },
                {
                  "data": [
                    {
                      "hovertemplate": "<b>%{hovertext}</b><br><br>continent=Asia<br>year=1987<br>gdpPercap=%{x}<br>lifeExp=%{y}<br>pop=%{marker.size}<extra></extra>",
                      "hovertext": [
                        "Afghanistan",
                        "Bahrain",
                        "Bangladesh",
                        "Cambodia",
                        "China",
                        "Hong Kong, China",
                        "India",
                        "Indonesia",
                        "Iran",
                        "Iraq",
                        "Israel",
                        "Japan",
                        "Jordan",
                        "Korea, Dem. Rep.",
                        "Korea, Rep.",
                        "Kuwait",
                        "Lebanon",
                        "Malaysia",
                        "Mongolia",
                        "Myanmar",
                        "Nepal",
                        "Oman",
                        "Pakistan",
                        "Philippines",
                        "Saudi Arabia",
                        "Singapore",
                        "Sri Lanka",
                        "Syria",
                        "Taiwan",
                        "Thailand",
                        "Vietnam",
                        "West Bank and Gaza",
                        "Yemen, Rep."
                      ],
                      "ids": [
                        "Afghanistan",
                        "Bahrain",
                        "Bangladesh",
                        "Cambodia",
                        "China",
                        "Hong Kong, China",
                        "India",
                        "Indonesia",
                        "Iran",
                        "Iraq",
                        "Israel",
                        "Japan",
                        "Jordan",
                        "Korea, Dem. Rep.",
                        "Korea, Rep.",
                        "Kuwait",
                        "Lebanon",
                        "Malaysia",
                        "Mongolia",
                        "Myanmar",
                        "Nepal",
                        "Oman",
                        "Pakistan",
                        "Philippines",
                        "Saudi Arabia",
                        "Singapore",
                        "Sri Lanka",
                        "Syria",
                        "Taiwan",
                        "Thailand",
                        "Vietnam",
                        "West Bank and Gaza",
                        "Yemen, Rep."
                      ],
                      "legendgroup": "Asia",
                      "marker": {
                        "color": "#636efa",
                        "size": {
                          "bdata": "tZvTANTvBgARUS8GT75/ALgPnUB+NlUAAO33LmDyFgogxhcD1W38AIwiQAA990YHygcrAKLyIgHwGXsCn9wcAMkjLwAJNPkAnb8eACJFRAL8ZBEBGlIYAEEGRQZ8zJMDYRTfADikKgDIsvsAX42rAOd6LQEGWScD+6e+A0rOGQCMMasA",
                          "dtype": "i4"
                        },
                        "sizemode": "area",
                        "sizeref": 651201.5288888889,
                        "symbol": "circle"
                      },
                      "mode": "markers",
                      "name": "Asia",
                      "orientation": "v",
                      "showlegend": true,
                      "type": "scatter",
                      "x": {
                        "bdata": "Kngb5SqjikBJ9DKKARfSQLSQgNHVf4dAZilIIipfhUD7A+W2nYuVQMmOjUCekdNAqDuq9RmEjkDKMy+HbVGbQKWkh6Hh8rlAiQeUTcm9xkCqtwa2nrjQQJv+7Ef82dVAKHy2Dq5gsUBVGFsIfgqwQFxV9l2LqsBAfNXKhJt120AtXFZhFwG1QAnBqnrNgbRA2gBsQAREokAAAAAAABB4QNF+/0EPPYhAMA3DR86w0UD1K50Pv6KaQD+MEB5FG6FAH0sfupCz1ECZgcr4YWvSQMLaGDsRU51AkWEVb4xZqEBEi2znR5fFQASsVbtOTadAoiNeQ2WmiUDBAMKHMvOzQPfKvFX3zp5A",
                        "dtype": "f8"
                      },
                      "xaxis": "x",
                      "y": {
                        "bdata": "8KfGSzdpREAAAAAAALBRQEa28/3UaEpAokW28/30SkCoxks3idFQQM3MzMzMDFNAEFg5tMhGTUCoxks3iRFOQIXrUbgehU9AiUFg5dBCUEBmZmZmZuZSQHsUrkfhqlNAVg4tsp13UEDDILByaKlRQKRwPQrXc1FAQGDl0CKLUkAlBoGVQ/tQQAAAAAAAYFFAI9v5fmocTkAIrBxaZCtNQNv5fmq8REpA5dAi2/nuUECPwvUoXB9NQIxs5/upCVBAexSuR+GSUECkcD0K12NSQGMQWDm0QFFAdJMYBFa+UECamZmZmVlSQEw3iUFghVBAKVyPwvVoT0Bt5/up8cJQQLx0kxgEdkpA",
                        "dtype": "f8"
                      },
                      "yaxis": "y"
                    },
                    {
                      "hovertemplate": "<b>%{hovertext}</b><br><br>continent=Europe<br>year=1987<br>gdpPercap=%{x}<br>lifeExp=%{y}<br>pop=%{marker.size}<extra></extra>",
                      "hovertext": [
                        "Albania",
                        "Austria",
                        "Belgium",
                        "Bosnia and Herzegovina",
                        "Bulgaria",
                        "Croatia",
                        "Czech Republic",
                        "Denmark",
                        "Finland",
                        "France",
                        "Germany",
                        "Greece",
                        "Hungary",
                        "Iceland",
                        "Ireland",
                        "Italy",
                        "Montenegro",
                        "Netherlands",
                        "Norway",
                        "Poland",
                        "Portugal",
                        "Romania",
                        "Serbia",
                        "Slovak Republic",
                        "Slovenia",
                        "Spain",
                        "Sweden",
                        "Switzerland",
                        "Turkey",
                        "United Kingdom"
                      ],
                      "ids": [
                        "Albania",
                        "Austria",
                        "Belgium",
                        "Bosnia and Herzegovina",
                        "Bulgaria",
                        "Croatia",
                        "Czech Republic",
                        "Denmark",
                        "Finland",
                        "France",
                        "Germany",
                        "Greece",
                        "Hungary",
                        "Iceland",
                        "Ireland",
                        "Italy",
                        "Montenegro",
                        "Netherlands",
                        "Norway",
                        "Poland",
                        "Portugal",
                        "Romania",
                        "Serbia",
                        "Slovak Republic",
                        "Slovenia",
                        "Spain",
                        "Sweden",
                        "Switzerland",
                        "Turkey",
                        "United Kingdom"
                      ],
                      "legendgroup": "Europe",
                      "marker": {
                        "color": "#EF553B",
                        "size": {
                          "bdata": "+ewuABelcwB4m5YAITVCALbmiADWbEQArVedAHA7TgCRQEsAFNlQAxrjoQTaMpgABPChAMS7AwC8AzYAZ6BhA4GwCAA+xt8AI+A/AKbgPwKZS5cAoypaAb/ZjADWVU8ADrEdAL5FUQIbgIAAVnhlALDnJgN0eGUD",
                          "dtype": "i4"
                        },
                        "sizemode": "area",
                        "sizeref": 651201.5288888889,
                        "symbol": "circle"
                      },
                      "mode": "markers",
                      "name": "Europe",
                      "orientation": "v",
                      "showlegend": true,
                      "type": "scatter",
                      "x": {
                        "bdata": "qyFxj901rUCNtFTe9CHXQEKygAlk/9VA/fm2YB3asEDrcd9q7RfAQGrBi75K/8pAhslUwTjbz0AUlnhAC4fYQIJWYMhApdRAEJIFTJyM1UALe9rhyw/YQMSUSKJDfM9AXhH8bz1dyUB0B7EzzUraQKqaIOpuGMtAHXdKB8/B0kCzJEBNQerGQKq3BrbUGNdACYofYz7N3kCjPzTzLL3BQCibcoWnd8lAlZ9U+yLwwkCbAwRzcP/OQIi6D0CigsdAfhghPKI90kDcLjTXfcrOQMrgKHm7CNdAxqcAGG2S3UBLdQEvC+GzQINuL2kyKNVA",
                        "dtype": "f8"
                      },
                      "xaxis": "x2",
                      "y": {
                        "bdata": "AAAAAAAAUkBcj8L1KLxSQGZmZmZm1lJAKVyPwvXIUUD2KFyPwtVRQOF6FK5H4VFAhetRuB7lUUAzMzMzM7NSQIXrUbgetVJA9ihcj8IVU0CR7Xw/NbZSQHsUrkfhKlNAhetRuB5lUUAfhetRuE5TQNejcD0Kl1JAexSuR+EaU0CPwvUoXLdSQIXrUbgeNVNAKVyPwvX4UkAfhetRuL5RQKRwPQrXg1JAUrgehethUUDLoUW2881RQIXrUbgexVFAAAAAAAAQUkCamZmZmTlTQFyPwvUoTFNACtejcD1aU0Dn+6nx0o1PQJzEILBywFJA",
                        "dtype": "f8"
                      },
                      "yaxis": "y2"
                    },
                    {
                      "hovertemplate": "<b>%{hovertext}</b><br><br>continent=Africa<br>year=1987<br>gdpPercap=%{x}<br>lifeExp=%{y}<br>pop=%{marker.size}<extra></extra>",
                      "hovertext": [
                        "Algeria",
                        "Angola",
                        "Benin",
                        "Botswana",
                        "Burkina Faso",
                        "Burundi",
                        "Cameroon",
                        "Central African Republic",
                        "Chad",
                        "Comoros",
                        "Congo, Dem. Rep.",
                        "Congo, Rep.",
                        "Cote d'Ivoire",
                        "Djibouti",
                        "Egypt",
                        "Equatorial Guinea",
                        "Eritrea",
                        "Ethiopia",
                        "Gabon",
                        "Gambia",
                        "Ghana",
                        "Guinea",
                        "Guinea-Bissau",
                        "Kenya",
                        "Lesotho",
                        "Liberia",
                        "Libya",
                        "Madagascar",
                        "Malawi",
                        "Mali",
                        "Mauritania",
                        "Mauritius",
                        "Morocco",
                        "Mozambique",
                        "Namibia",
                        "Niger",
                        "Nigeria",
                        "Reunion",
                        "Rwanda",
                        "Sao Tome and Principe",
                        "Senegal",
                        "Sierra Leone",
                        "Somalia",
                        "South Africa",
                        "Sudan",
                        "Swaziland",
                        "Tanzania",
                        "Togo",
                        "Tunisia",
                        "Uganda",
                        "Zambia",
                        "Zimbabwe"
                      ],
                      "ids": [
                        "Algeria",
                        "Angola",
                        "Benin",
                        "Botswana",
                        "Burkina Faso",
                        "Burundi",
                        "Cameroon",
                        "Central African Republic",
                        "Chad",
                        "Comoros",
                        "Congo, Dem. Rep.",
                        "Congo, Rep.",
                        "Cote d'Ivoire",
                        "Djibouti",
                        "Egypt",
                        "Equatorial Guinea",
                        "Eritrea",
                        "Ethiopia",
                        "Gabon",
                        "Gambia",
                        "Ghana",
                        "Guinea",
                        "Guinea-Bissau",
                        "Kenya",
                        "Lesotho",
                        "Liberia",
                        "Libya",
                        "Madagascar",
                        "Malawi",
                        "Mali",
                        "Mauritania",
                        "Mauritius",
                        "Morocco",
                        "Mozambique",
                        "Namibia",
                        "Niger",
                        "Nigeria",
                        "Reunion",
                        "Rwanda",
                        "Sao Tome and Principe",
                        "Senegal",
                        "Sierra Leone",
                        "Somalia",
                        "South Africa",
                        "Sudan",
                        "Swaziland",
                        "Tanzania",
                        "Togo",
                        "Tunisia",
                        "Uganda",
                        "Zambia",
                        "Zimbabwe"
                      ],
                      "legendgroup": "Africa",
                      "marker": {
                        "color": "#00cc96",
                        "size": {
                          "bdata": "rNdiAbYmeABMwUAA0JARAPfCcwCHN04A+3+kAMlVKwBL6FMAagcGAC1oHQLffh8AijOkAPG+BABWpiUD/DQFAHd+LADqHpACDW8NABbyDAAlMNgAVjdWACQnDgACdUMB4GYYAOagIgAl+zkAwkOhAGtldwBYfHQAWBgcAOfoDwCFwl4BMLfEAOiAEwAe428AoGDcBHOTCAA14mAA3LABABNtbQDpCDsAgp5pAMNMJALISXkBVOQLAHaSXwFYITAAsN91AGoz6QDW924AoqGMAA==",
                          "dtype": "i4"
                        },
                        "sizemode": "area",
                        "sizeref": 651201.5288888889,
                        "symbol": "circle"
                      },
                      "mode": "markers",
                      "name": "Africa",
                      "orientation": "v",
                      "showlegend": true,
                      "type": "scatter",
                      "x": {
                        "bdata": "Vz82yVsxtkDLSL2navyiQDKs4o1sJ5NAklz+Q+I9uEAchG9QgYCMQMVm7PCMboNAnQ/PElRVpECznv/DAmeKQEwYzcoWw41AGR77WeyPlEBjRKLQMgaFQMYnZOcxabBAcj/ggenZoEA7+8qDNICmQOFdLuLrWq5AhlBKrSw3jkBwxnq0EkmAQH2oIzbu7YFAMA3DRzQsx0Dc6PdYRR2DQIMUPIUMeIpADlcYbJQsiUAi5Be5UgOHQD/kLVe/R5VAZ+s7GvIviECTPghc0qF/QJf/kH5L/cZAIToEjsQNkkAsGWyPI9yDQAtLl1lfYYVAmrLTD2o2lkDtZkY/lq+yQGpQNA8YhqVAJKQk2gReeEC2os1xdtusQG+QWnJm4oRAsFjDRR6klUCitg2jYLe0QOqxLQPuf4pA0VlmERqyl0BLdmwE4oaWQCz+74jKOZRA7KaU1/oUkUCYGTbK0pG+QOXsndFGj5dAlKXW+60hr0C5TV2ek/6JQML2kzHOyJJAsB73rdbErUAUlKKVy02DQMnJxK1C9ZJAvn+YKUIRhkA=",
                        "dtype": "f8"
                      },
                      "xaxis": "x3",
                      "y": {
                        "bdata": "QWDl0CJzUECHFtnO9/NDQEJg5dAiK0pAVg4tsp3PT0Ce76fGS8dIQGC6SQwCG0hArkfhehR+S0CuR+F6FD5JQEoMAiuHhklASgwCK4d2S0Db+X5qvLRHQFyPwvUovExApHA9CtdTS0CF61G4HgVJQLx0kxgE5k1AokW28/3URkBEi2zn+zlHQGQ730+NV0dAuB6F61EYTkBSuB6F66FIQFpkO99P3UtALbKd76fGRkCPwvUoXJ9EQAisHFpkq01A16NwPQqXTED6fmq8dANHQOXQItv5jlBAzczMzMysSEDRItv5frpHQDvfT42XLkdAw/UoXI8STECPwvUoXC9RQC2yne+nVk9Ake18PzVuRUB7FK5H4WpOQNejcD0KR0ZAxSCwcmhxR0DfT42XbvpRQMP1KFyPAkZAd76fGi/dTkDfT42XbuJLQFTjpZvEAERA5aWbxCBARkCYbhKDwGpOQKwcWmQ730lAEFg5tMjWTEAUrkfhesRJQJzEILByeExA76fGSze5UED91HjpJsFJQA4CK4cWaUlAsXJoke0sT0A=",
                        "dtype": "f8"
                      },
                      "yaxis": "y3"
                    },
                    {
                      "hovertemplate": "<b>%{hovertext}</b><br><br>continent=Americas<br>year=1987<br>gdpPercap=%{x}<br>lifeExp=%{y}<br>pop=%{marker.size}<extra></extra>",
                      "hovertext": [
                        "Argentina",
                        "Bolivia",
                        "Brazil",
                        "Canada",
                        "Chile",
                        "Colombia",
                        "Costa Rica",
                        "Cuba",
                        "Dominican Republic",
                        "Ecuador",
                        "El Salvador",
                        "Guatemala",
                        "Haiti",
                        "Honduras",
                        "Jamaica",
                        "Mexico",
                        "Nicaragua",
                        "Panama",
                        "Paraguay",
                        "Peru",
                        "Puerto Rico",
                        "Trinidad and Tobago",
                        "United States",
                        "Uruguay",
                        "Venezuela"
                      ],
                      "ids": [
                        "Argentina",
                        "Bolivia",
                        "Brazil",
                        "Canada",
                        "Chile",
                        "Colombia",
                        "Costa Rica",
                        "Cuba",
                        "Dominican Republic",
                        "Ecuador",
                        "El Salvador",
                        "Guatemala",
                        "Haiti",
                        "Honduras",
                        "Jamaica",
                        "Mexico",
                        "Nicaragua",
                        "Panama",
                        "Paraguay",
                        "Peru",
                        "Puerto Rico",
                        "Trinidad and Tobago",
                        "United States",
                        "Uruguay",
                        "Venezuela"
                      ],
                      "legendgroup": "Americas",
                      "marker": {
                        "color": "#ab63fa",
                        "size": {
                          "bdata": "Nn/iAVHwXQDcD4UIxB2VAfosvgAVetgBw7gqAF8/nABBjWUAxqWRANLiSQDGym8AK9VXAOu2QgBOgCMAfJLGBOEHMwBHYyIAsE07AFQqNAH0jjQAqC0SAE3jeA4hdy4ApkkRAQ==",
                          "dtype": "i4"
                        },
                        "sizemode": "area",
                        "sizeref": 651201.5288888889,
                        "symbol": "circle"
                      },
                      "mode": "markers",
                      "name": "Americas",
                      "orientation": "v",
                      "showlegend": true,
                      "type": "scatter",
                      "x": {
                        "bdata": "8iIT8NXZwUAGL/oKYoOlQGBIh4cYf75AnWNA9qAA2kD9oC5SEKu1QI4G8BY4J7NAcctHUur9tUCMmUS97Gy9QAXFjzGvp6ZAOWQD6cZRuUCp3EQtcSywQLXEymh8lrBAmUf+YBB8nEAdBYiCMZ6nQPfpeMw8z7hAigPo9xP4wEAAAAAA+BenQFJlGHfHertAi1QYW8A9r0CcxYuF8di4QBb2tMOr/MdAzJntCpncvECOEB5tFi/dQB4X1SJmHL1A1uO+1cpNw0A=",
                        "dtype": "f8"
                      },
                      "xaxis": "x4",
                      "y": {
                        "bdata": "qMZLN4mxUUDlpZvEIKBMQIXrUbgeTVBA16NwPQo3U0BzaJHtfB9SQP7UeOkm8VBA46WbxCCwUkBAYOXQIotSQG3n+6nxglBAEVg5tMjOUEDByqFFtpNPQGq8dJMYZE5AxSCwcmjRSkBzaJHtfB9QQOF6FK5H8VFAHVpkO99fUUAbL90kBgFPQLbz/dR44VFA1XjpJjHYUEB/arx0kwhQQLgehetRqFJAaJHtfD9lUUDhehSuR8FSQJhuEoPA+lFAXI/C9SiMUUA=",
                        "dtype": "f8"
                      },
                      "yaxis": "y4"
                    },
                    {
                      "hovertemplate": "<b>%{hovertext}</b><br><br>continent=Oceania<br>year=1987<br>gdpPercap=%{x}<br>lifeExp=%{y}<br>pop=%{marker.size}<extra></extra>",
                      "hovertext": [
                        "Australia",
                        "New Zealand"
                      ],
                      "ids": [
                        "Australia",
                        "New Zealand"
                      ],
                      "legendgroup": "Oceania",
                      "marker": {
                        "color": "#FFA15A",
                        "size": {
                          "bdata": "4RD4AK6dMgA=",
                          "dtype": "i4"
                        },
                        "sizemode": "area",
                        "sizeref": 651201.5288888889,
                        "symbol": "circle"
                      },
                      "mode": "markers",
                      "name": "Oceania",
                      "orientation": "v",
                      "showlegend": true,
                      "type": "scatter",
                      "x": {
                        "bdata": "yhXe5Thg1UCDaRg+zI/SQA==",
                        "dtype": "f8"
                      },
                      "xaxis": "x5",
                      "y": {
                        "bdata": "FK5H4XoUU0AUrkfhepRSQA==",
                        "dtype": "f8"
                      },
                      "yaxis": "y5"
                    }
                  ],
                  "name": "1987"
                },
                {
                  "data": [
                    {
                      "hovertemplate": "<b>%{hovertext}</b><br><br>continent=Asia<br>year=1992<br>gdpPercap=%{x}<br>lifeExp=%{y}<br>pop=%{marker.size}<extra></extra>",
                      "hovertext": [
                        "Afghanistan",
                        "Bahrain",
                        "Bangladesh",
                        "Cambodia",
                        "China",
                        "Hong Kong, China",
                        "India",
                        "Indonesia",
                        "Iran",
                        "Iraq",
                        "Israel",
                        "Japan",
                        "Jordan",
                        "Korea, Dem. Rep.",
                        "Korea, Rep.",
                        "Kuwait",
                        "Lebanon",
                        "Malaysia",
                        "Mongolia",
                        "Myanmar",
                        "Nepal",
                        "Oman",
                        "Pakistan",
                        "Philippines",
                        "Saudi Arabia",
                        "Singapore",
                        "Sri Lanka",
                        "Syria",
                        "Taiwan",
                        "Thailand",
                        "Vietnam",
                        "West Bank and Gaza",
                        "Yemen, Rep."
                      ],
                      "ids": [
                        "Afghanistan",
                        "Bahrain",
                        "Bangladesh",
                        "Cambodia",
                        "China",
                        "Hong Kong, China",
                        "India",
                        "Indonesia",
                        "Iran",
                        "Iraq",
                        "Israel",
                        "Japan",
                        "Jordan",
                        "Korea, Dem. Rep.",
                        "Korea, Rep.",
                        "Kuwait",
                        "Lebanon",
                        "Malaysia",
                        "Mongolia",
                        "Myanmar",
                        "Nepal",
                        "Oman",
                        "Pakistan",
                        "Philippines",
                        "Saudi Arabia",
                        "Singapore",
                        "Sri Lanka",
                        "Syria",
                        "Taiwan",
                        "Thailand",
                        "Vietnam",
                        "West Bank and Gaza",
                        "Yemen, Rep."
                      ],
                      "legendgroup": "Asia",
                      "marker": {
                        "color": "#636efa",
                        "size": {
                          "bdata": "4f34AFMUCACD/sYGzuCaABAIcEVA9FgAAKr5M4ARBAuVmZkDEY0QAWZTSwA1HWkHEQM7AM8HPAEKa5wCb6MVABoiMQCOiBcBYkojAOqwagJBJzYBSDkdAOwLKAdmLAEEwZICARlgMQB0WwwB9rTJAEaoOwHXq2AD+DUrBMsdIAC9+ssA",
                          "dtype": "i4"
                        },
                        "sizemode": "area",
                        "sizeref": 651201.5288888889,
                        "symbol": "circle"
                      },
                      "mode": "markers",
                      "name": "Asia",
                      "orientation": "v",
                      "showlegend": true,
                      "type": "scatter",
                      "x": {
                        "bdata": "GRhoLbtKhEA1DB8R5ZbSQBenazd7LopAlstG52xShUCWk1D6It+ZQEpBt5dmLdhA4NqJkqAxkkAlXMgjSJ6iQCIqVDenQ7xA8l8gCEhDrUC3nEtx4aDRQBV0e0k5MtpAveR/8i/PqkAiUP2DIBytQF/SGK0jpMdA9wFIbZ0O4UCm1vuNzuq6QLlRZK3pbbxA4BEVqpvlm0AAAAAAALB1QAfKEkLsDYxAznADPi0u0kDWxAJfUc+eQLRkjuWlzqFAnS6LiWdC2ECMuWsJeTDYQPhUTnt606BAofKv5RUZqkAFNBE21LfNQGYe+YPlCLJAj+uVaC/ojkDc1haep4G3QDrP2Jf8XZ1A",
                        "dtype": "f8"
                      },
                      "xaxis": "x",
                      "y": {
                        "bdata": "g8DKoUXWREBYObTIdiZSQPyp8dJNAkxAEFg5tMjmS0Bcj8L1KCxRQFg5tMh2ZlNABoGVQ4scTkC6SQwCK1dPQHNoke18b1BAYLpJDAK7TUDsUbgehTtTQNejcD0K11NAKVyPwvUAUUA830+Nl35RQFYOLbKdD1JAXI/C9SjMUkCmm8QgsFJRQDEIrBxarFFAppvEILCiTkApXI/C9ahNQJMYBFYO3UtA+FPjpZvMUUAlBoGVQ2tOQFpkO99PnVBA/tR46SYxUUDfT42XbvJSQMVLN4lBmFFADi2yne9PUUBxPQrXo5BSQFCNl24S01BA7Xw/NV7qUEDLoUW2821RQOkmMQiszEtA",
                        "dtype": "f8"
                      },
                      "yaxis": "y"
                    },
                    {
                      "hovertemplate": "<b>%{hovertext}</b><br><br>continent=Europe<br>year=1992<br>gdpPercap=%{x}<br>lifeExp=%{y}<br>pop=%{marker.size}<extra></extra>",
                      "hovertext": [
                        "Albania",
                        "Austria",
                        "Belgium",
                        "Bosnia and Herzegovina",
                        "Bulgaria",
                        "Croatia",
                        "Czech Republic",
                        "Denmark",
                        "Finland",
                        "France",
                        "Germany",
                        "Greece",
                        "Hungary",
                        "Iceland",
                        "Ireland",
                        "Italy",
                        "Montenegro",
                        "Netherlands",
                        "Norway",
                        "Poland",
                        "Portugal",
                        "Romania",
                        "Serbia",
                        "Slovak Republic",
                        "Slovenia",
                        "Spain",
                        "Sweden",
                        "Switzerland",
                        "Turkey",
                        "United Kingdom"
                      ],
                      "ids": [
                        "Albania",
                        "Austria",
                        "Belgium",
                        "Bosnia and Herzegovina",
                        "Bulgaria",
                        "Croatia",
                        "Czech Republic",
                        "Denmark",
                        "Finland",
                        "France",
                        "Germany",
                        "Greece",
                        "Hungary",
                        "Iceland",
                        "Ireland",
                        "Italy",
                        "Montenegro",
                        "Netherlands",
                        "Norway",
                        "Poland",
                        "Portugal",
                        "Romania",
                        "Serbia",
                        "Slovak Republic",
                        "Slovenia",
                        "Spain",
                        "Sweden",
                        "Switzerland",
                        "Turkey",
                        "United Kingdom"
                      ],
                      "legendgroup": "Europe",
                      "marker": {
                        "color": "#EF553B",
                        "size": {
                          "bdata": "IsIyANnFeAC2SJkADfFAAEoehAC9kkQAtmedAMHoTgCP60wA43VrAwTTzQS1jZ0AjOidAMTzAwCBSTYAj1JjAzV8CQBkiucAlWdBAIl9SQIAfJcA49pbAV3wlQBo6lAAaoEeAP55WwITCoUA971qAEi+dwNt+HID",
                          "dtype": "i4"
                        },
                        "sizemode": "area",
                        "sizeref": 651201.5288888889,
                        "symbol": "circle"
                      },
                      "mode": "markers",
                      "name": "Europe",
                      "orientation": "v",
                      "showlegend": true,
                      "type": "scatter",
                      "x": {
                        "bdata": "xVOPNOCCo0BGmQ0ygWjaQIpZL4bk+dhAPx2PGZDlo0AX/aGZn564QL0BZr7lf8BAA0NWt4Lsy0B90LNZr8nZQIs3Mo/KKdRALSEf9PIf2EDIJCNnU+LZQO3YCMRfIdFA845TdNCTxEBtHLEWGY7YQJCg+DG0JdFAoOBiRWl/1UAk+yDLVlu7QH0Faca8KdpAeAskKLWV4ECzRGeZ4Tq+QBKN7iCip89AiCtn72jGuUAs1QW8iDbCQEvmWN47jcJAuRluwFvDy0B8fhghxCrSQOYivhMBUtdARGlv8OEf30Aly0koWS62QGXkLOxFLNZA",
                        "dtype": "f8"
                      },
                      "xaxis": "x2",
                      "y": {
                        "bdata": "d76fGi/lUUDD9ShcjwJTQD0K16NwHVNACKwcWmQLUkBcj8L1KMxRQH0/NV66IVJAmpmZmZkZUkCF61G4HtVSQM3MzMzM7FJAPQrXo3BdU0AUrkfhegRTQFK4HoXrQVNAexSuR+FKUUDhehSuR7FTQNnO91Pj3VJAXI/C9ShcU0CkcD0K19tSQHsUrkfhWlNAFK5H4XpUU0CPwvUoXL9RQNejcD0Kt1JA16NwPQpXUUAXBFYOLepRQLgehetR2FFAKVyPwvVoUkAUrkfhemRTQArXo3A9ilNAUrgeheuBU0DTTWIQWIlQQHsUrkfhGlNA",
                        "dtype": "f8"
                      },
                      "yaxis": "y2"
                    },
                    {
                      "hovertemplate": "<b>%{hovertext}</b><br><br>continent=Africa<br>year=1992<br>gdpPercap=%{x}<br>lifeExp=%{y}<br>pop=%{marker.size}<extra></extra>",
                      "hovertext": [
                        "Algeria",
                        "Angola",
                        "Benin",
                        "Botswana",
                        "Burkina Faso",
                        "Burundi",
                        "Cameroon",
                        "Central African Republic",
                        "Chad",
                        "Comoros",
                        "Congo, Dem. Rep.",
                        "Congo, Rep.",
                        "Cote d'Ivoire",
                        "Djibouti",
                        "Egypt",
                        "Equatorial Guinea",
                        "Eritrea",
                        "Ethiopia",
                        "Gabon",
                        "Gambia",
                        "Ghana",
                        "Guinea",
                        "Guinea-Bissau",
                        "Kenya",
                        "Lesotho",
                        "Liberia",
                        "Libya",
                        "Madagascar",
                        "Malawi",
                        "Mali",
                        "Mauritania",
                        "Mauritius",
                        "Morocco",
                        "Mozambique",
                        "Namibia",
                        "Niger",
                        "Nigeria",
                        "Reunion",
                        "Rwanda",
                        "Sao Tome and Principe",
                        "Senegal",
                        "Sierra Leone",
                        "Somalia",
                        "South Africa",
                        "Sudan",
                        "Swaziland",
                        "Tanzania",
                        "Togo",
                        "Tunisia",
                        "Uganda",
                        "Zambia",
                        "Zimbabwe"
                      ],
                      "ids": [
                        "Algeria",
                        "Angola",
                        "Benin",
                        "Botswana",
                        "Burkina Faso",
                        "Burundi",
                        "Cameroon",
                        "Central African Republic",
                        "Chad",
                        "Comoros",
                        "Congo, Dem. Rep.",
                        "Congo, Rep.",
                        "Cote d'Ivoire",
                        "Djibouti",
                        "Egypt",
                        "Equatorial Guinea",
                        "Eritrea",
                        "Ethiopia",
                        "Gabon",
                        "Gambia",
                        "Ghana",
                        "Guinea",
                        "Guinea-Bissau",
                        "Kenya",
                        "Lesotho",
                        "Liberia",
                        "Libya",
                        "Madagascar",
                        "Malawi",
                        "Mali",
                        "Mauritania",
                        "Mauritius",
                        "Morocco",
                        "Mozambique",
                        "Namibia",
                        "Niger",
                        "Nigeria",
                        "Reunion",
                        "Rwanda",
                        "Sao Tome and Principe",
                        "Senegal",
                        "Sierra Leone",
                        "Somalia",
                        "South Africa",
                        "Sudan",
                        "Swaziland",
                        "Tanzania",
                        "Togo",
                        "Tunisia",
                        "Uganda",
                        "Zambia",
                        "Zimbabwe"
                      ],
                      "legendgroup": "Africa",
                      "marker": {
                        "color": "#00cc96",
                        "size": {
                          "bdata": "BUiRAfRMhQCnA0wAlnwUAN94hwBUpFgA4zu+AGTSMQDpGmIAHe8GAM/dewJxwiQA9OTCAJzcBQDWZ4oD/uoFANj5NwDvzhoDiwoPAGilDwDSZPgA7qpqADoJEAB7yH0Bu4MbAI4wHQDVmEIA21C6ACnOmADXa4AAKVcgAAq6EABfpokBG9HIAE23FwByEIAAFKCQBW9+CQBbPW8A1+sBANDEfgAUBEEAVxNdAP/NYQIEuK4BKK8OAKH3lQHhLjkARQ2CAJ6BFgHr4n8A1FWjAA==",
                          "dtype": "i4"
                        },
                        "sizemode": "area",
                        "sizeref": 651201.5288888889,
                        "symbol": "circle"
                      },
                      "mode": "markers",
                      "name": "Africa",
                      "orientation": "v",
                      "showlegend": true,
                      "type": "scatter",
                      "x": {
                        "bdata": "x4Mtdjefs0Bv05/9sIekQAH8U6rUnJJAw0fElBwSv0B4LuetBR6NQJIxiFmZvYNAoRhZMqcEnECi/f6DPl+HQIj029dBiJBAfO2ZJaF7k0ChJp/DgZt8QOOKi6N6YK9A9S7ej0vAmUDN12X4T5KiQDVG66iCpa1ArDjVWjiwkUBEgpg63jaCQFX8OsunVXpAPIidKRRpykCvgQjM/syEQMo1BTJ76IxAXWUSmsnSiECTWK2nUUyHQCc8odev95RAjiPW4uOLjkBvVAK9++SDQLuYZroR1MJAh78ma7RCkEDOwTOhmZmBQArXo3AdGIdAViqoqHpFlUA6LA38QKq3QFcFajEYCKdAV4wEZFmueUCQ3Jp0E7mtQEtZhjh2KYJApUv/kmRPmUCRup19QdW3QGGhe3uMCIdAfPFFexxTlkAl6C/0mF+VQLKbGf3IspBAuwPhr673jED6bOS6ETm8QJ/jo8XJUJdA3EYDeAvCq0AyWHGqdc2JQJPi4xMyKZBAwvuqXLjssEAP3sPKXSGEQNmvO92J65JABjXXxF2rhUA=",
                        "dtype": "f8"
                      },
                      "xaxis": "x3",
                      "y": {
                        "bdata": "Vg4tsp3vUECJQWDl0FJEQBKDwMqh9UpAj8L1KFxfT0DhehSuRyFJQJHtfD81XkZA1HjpJjEoS0Cmm8QgsLJIQOkmMQis3ElA1HjpJjH4TECgGi/dJMZGQIGVQ4tsN0xAEoPAyqEFSkBaZDvfT81JQIPAyqFF1k9A9ihcj8LFR0ADK4cW2f5IQM/3U+OlC0hAAyuHFtmuTkDfT42XblJKQOWlm8QgwExAfT81XrpJSEA3XrpJDKJFQBSuR+F6pE1ASOF6FK7XTUAtsp3vp2ZEQLgehetRMFFACKwcWmQbSkD2KFyPwrVIQI1s5/upMUhAtMh2vp8qTUBI4XoUrm9RQP7UeOkmWVBAMQisHFokRkAdWmQ73/9OQDdeukkMskdAI9v5fmq8R0CPwvUoXGdSQNNNYhBYmTdA5dAi2/leT0AOAiuHFhlNQLTIdr6fKkNATmIQWDnUQ0CNbOf7qfFOQLpJDAIrx0pA6SYxCKw8TUC4HoXrUThJQCyHFtnOB01A8tJNYhCAUUCamZmZmWlIQM3MzMzMDEdAx0s3iUEwTkA=",
                        "dtype": "f8"
                      },
                      "yaxis": "y3"
                    },
                    {
                      "hovertemplate": "<b>%{hovertext}</b><br><br>continent=Americas<br>year=1992<br>gdpPercap=%{x}<br>lifeExp=%{y}<br>pop=%{marker.size}<extra></extra>",
                      "hovertext": [
                        "Argentina",
                        "Bolivia",
                        "Brazil",
                        "Canada",
                        "Chile",
                        "Colombia",
                        "Costa Rica",
                        "Cuba",
                        "Dominican Republic",
                        "Ecuador",
                        "El Salvador",
                        "Guatemala",
                        "Haiti",
                        "Honduras",
                        "Jamaica",
                        "Mexico",
                        "Nicaragua",
                        "Panama",
                        "Paraguay",
                        "Peru",
                        "Puerto Rico",
                        "Trinidad and Tobago",
                        "United States",
                        "Uruguay",
                        "Venezuela"
                      ],
                      "ids": [
                        "Argentina",
                        "Bolivia",
                        "Brazil",
                        "Canada",
                        "Chile",
                        "Colombia",
                        "Costa Rica",
                        "Cuba",
                        "Dominican Republic",
                        "Ecuador",
                        "El Salvador",
                        "Guatemala",
                        "Haiti",
                        "Honduras",
                        "Jamaica",
                        "Mexico",
                        "Nicaragua",
                        "Panama",
                        "Paraguay",
                        "Peru",
                        "Puerto Rico",
                        "Trinidad and Tobago",
                        "United States",
                        "Uruguay",
                        "Venezuela"
                      ],
                      "legendgroup": "Americas",
                      "marker": {
                        "color": "#ab63fa",
                        "size": {
                          "bdata": "IywGAosvaQAmAUwJ7juzAYIbzwBh5AkCYGswALyfowCNK3AA6gGkABl8UAAlgIEAmolgAGN5TQB6SyQAtndABRNPPQAF6yUAaWtEAPFCVgGYtDYAtQ8SAO3kTw/ODTAAWzo1AQ==",
                          "dtype": "i4"
                        },
                        "sizemode": "area",
                        "sizeref": 651201.5288888889,
                        "symbol": "circle"
                      },
                      "mode": "markers",
                      "name": "Americas",
                      "orientation": "v",
                      "showlegend": true,
                      "type": "scatter",
                      "x": {
                        "bdata": "QQ5KmDUuwkBqvko+ZiOnQBNzEHRIJrtASkG3l7i52UB5PC0/IKy9QKGCwwumRLVAxTvAk2oQuEAJjPUN2Ni1QLEYda1tyKdAVxNE3bO/u0B88rBQO1yxQLsPQGpzV7FAOUIG8jzBlkBoIQGjYxOoQM7Cnnbs7LxAghyUMDGAwkAJpMSuTfSgQEtZhji+2rlAG2ZoPGlksEBDOjyEYV6xQJSkaybLmMxAjzS4rf3KvEAB9tGp+0DfQNc07zgByb9A+3lTkfb2xEA=",
                        "dtype": "f8"
                      },
                      "xaxis": "x4",
                      "y": {
                        "bdata": "ZDvfT433UUDRItv5fvpNQM/3U+Olw1BAzczMzMx8U0Dy0k1iEIhSQG3n+6nxGlFAFIPAyqHtUkDRItv5fppSQGiR7Xw/HVFArBxaZDtnUUBQjZduErNQQDu0yHa+r09ACKwcWmSLS0Coxks3iZlQQBsv3SQG8VFAhetRuB7dUUDLoUW283VQQCGwcmiRHVJAZmZmZmYOUUBaZDvfT51QQPyp8dJNelJAukkMAit3UUD2KFyPwgVTQOOlm8QgMFJAmpmZmZnJUUA=",
                        "dtype": "f8"
                      },
                      "yaxis": "y4"
                    },
                    {
                      "hovertemplate": "<b>%{hovertext}</b><br><br>continent=Oceania<br>year=1992<br>gdpPercap=%{x}<br>lifeExp=%{y}<br>pop=%{marker.size}<extra></extra>",
                      "hovertext": [
                        "Australia",
                        "New Zealand"
                      ],
                      "ids": [
                        "Australia",
                        "New Zealand"
                      ],
                      "legendgroup": "Oceania",
                      "marker": {
                        "color": "#FFA15A",
                        "size": {
                          "bdata": "+cAKAWp0NAA=",
                          "dtype": "i4"
                        },
                        "sizemode": "area",
                        "sizeref": 651201.5288888889,
                        "symbol": "circle"
                      },
                      "mode": "markers",
                      "name": "Oceania",
                      "orientation": "v",
                      "showlegend": true,
                      "type": "scatter",
                      "x": {
                        "bdata": "5iK+EzHg1kBKJNHL1O7RQA==",
                        "dtype": "f8"
                      },
                      "xaxis": "x5",
                      "y": {
                        "bdata": "pHA9CtdjU0CF61G4HhVTQA==",
                        "dtype": "f8"
                      },
                      "yaxis": "y5"
                    }
                  ],
                  "name": "1992"
                },
                {
                  "data": [
                    {
                      "hovertemplate": "<b>%{hovertext}</b><br><br>continent=Asia<br>year=1997<br>gdpPercap=%{x}<br>lifeExp=%{y}<br>pop=%{marker.size}<extra></extra>",
                      "hovertext": [
                        "Afghanistan",
                        "Bahrain",
                        "Bangladesh",
                        "Cambodia",
                        "China",
                        "Hong Kong, China",
                        "India",
                        "Indonesia",
                        "Iran",
                        "Iraq",
                        "Israel",
                        "Japan",
                        "Jordan",
                        "Korea, Dem. Rep.",
                        "Korea, Rep.",
                        "Kuwait",
                        "Lebanon",
                        "Malaysia",
                        "Mongolia",
                        "Myanmar",
                        "Nepal",
                        "Oman",
                        "Pakistan",
                        "Philippines",
                        "Saudi Arabia",
                        "Singapore",
                        "Sri Lanka",
                        "Syria",
                        "Taiwan",
                        "Thailand",
                        "Vietnam",
                        "West Bank and Gaza",
                        "Yemen, Rep."
                      ],
                      "ids": [
                        "Afghanistan",
                        "Bahrain",
                        "Bangladesh",
                        "Cambodia",
                        "China",
                        "Hong Kong, China",
                        "India",
                        "Indonesia",
                        "Iran",
                        "Iraq",
                        "Israel",
                        "Japan",
                        "Jordan",
                        "Korea, Dem. Rep.",
                        "Korea, Rep.",
                        "Kuwait",
                        "Lebanon",
                        "Malaysia",
                        "Mongolia",
                        "Myanmar",
                        "Nepal",
                        "Oman",
                        "Pakistan",
                        "Philippines",
                        "Saudi Arabia",
                        "Singapore",
                        "Sri Lanka",
                        "Syria",
                        "Taiwan",
                        "Thailand",
                        "Vietnam",
                        "West Bank and Gaza",
                        "Yemen, Rep."
                      ],
                      "legendgroup": "Asia",
                      "marker": {
                        "color": "#636efa",
                        "size": {
                          "bdata": "1ylTASEiCQBYpFkHMsuzAHh0UUmuHmMAwC0pObC94AvzTsYDFwM9AftmVACT8YEHmxBFANFcSQF4jsAC4e8aAPRXNAC7cDgBUxEmAPvokwIZ+F4Bc9giACKOFAh8m3gEv/BDAcUEOgCfUR0BOB7mAL0GSgFl1ZYDZGqIBD4fKwBBfvEA",
                          "dtype": "i4"
                        },
                        "sizemode": "area",
                        "sizeref": 651201.5288888889,
                        "symbol": "circle"
                      },
                      "mode": "markers",
                      "name": "Asia",
                      "orientation": "v",
                      "showlegend": true,
                      "type": "scatter",
                      "x": {
                        "bdata": "qKs7Frvag0A6XRYTAdHTQCcGNwgpZo5AZ341B0jyhkCifazgd+KhQLcLzXVotttAggGED0XLlkDhCijUq16oQOaw+47LI8BAfQVpxnoIqEDbxMn9JmjUQJ/leXAlJNxA9NxCV8J6rECfzD/6BmuaQMx6MZTDPM9Am1q21pOt40Ag0m9fexnBQJFhFW90ysNASZ2AJgK5nUAAAAAAAPB5QCdsPxkjl49AMxtkkoM900AhD313swKgQKCJsOER0aNAgq0SLKwa1ECppE5A713gQJONB1v00KRAUrmJWnpcr0Crsu+KtLvTQL9GkiCg3LZARNycSpanlUAwKxTpqsa7QCC4yhP4iqBA",
                        "dtype": "f8"
                      },
                      "xaxis": "x",
                      "y": {
                        "bdata": "jWzn+6nhREAzMzMzM3tSQNv5fmq8tE1AMQisHFpETEAlBoGVQ5tRQAAAAAAAAFRAUrgehevhTkC0yHa+n4JQQKabxCCwAlFALIcW2c5nTUDup8ZLN5FTQFyPwvUoLFRAxCCwcmhxUUBKDAIrh+5QQMMgsHJoqVJARIts5/sJU0ApXI/C9ZBRQHnpJjEI/FFAAAAAAADQT0BEi2zn+ylOQEoMAiuHtk1ADi2yne8fUkBkEFg5tOhOQGq8dJMYJFFAJzEIrByiUUAnMQisHEpTQGiR7Xw/nVFAfT81XrrhUUAAAAAAANBSQNNNYhBY4VBAXrpJDAKrUUCgGi/dJMZRQMP1KFyPAk1A",
                        "dtype": "f8"
                      },
                      "yaxis": "y"
                    },
                    {
                      "hovertemplate": "<b>%{hovertext}</b><br><br>continent=Europe<br>year=1997<br>gdpPercap=%{x}<br>lifeExp=%{y}<br>pop=%{marker.size}<extra></extra>",
                      "hovertext": [
                        "Albania",
                        "Austria",
                        "Belgium",
                        "Bosnia and Herzegovina",
                        "Bulgaria",
                        "Croatia",
                        "Czech Republic",
                        "Denmark",
                        "Finland",
                        "France",
                        "Germany",
                        "Greece",
                        "Hungary",
                        "Iceland",
                        "Ireland",
                        "Italy",
                        "Montenegro",
                        "Netherlands",
                        "Norway",
                        "Poland",
                        "Portugal",
                        "Romania",
                        "Serbia",
                        "Slovak Republic",
                        "Slovenia",
                        "Spain",
                        "Sweden",
                        "Switzerland",
                        "Turkey",
                        "United Kingdom"
                      ],
                      "ids": [
                        "Albania",
                        "Austria",
                        "Belgium",
                        "Bosnia and Herzegovina",
                        "Bulgaria",
                        "Croatia",
                        "Czech Republic",
                        "Denmark",
                        "Finland",
                        "France",
                        "Germany",
                        "Greece",
                        "Hungary",
                        "Iceland",
                        "Ireland",
                        "Italy",
                        "Montenegro",
                        "Netherlands",
                        "Norway",
                        "Poland",
                        "Portugal",
                        "Romania",
                        "Serbia",
                        "Slovak Republic",
                        "Slovenia",
                        "Spain",
                        "Sweden",
                        "Switzerland",
                        "Turkey",
                        "United Kingdom"
                      ],
                      "legendgroup": "Europe",
                      "marker": {
                        "color": "#EF553B",
                        "size": {
                          "bdata": "xk40APQiewDropsA2Ak3AAkUewCz0UMAIy2dAE+fUABGWE4AxIV+A8Fj4wTkQKAATFKcAFgjBAAh9TcALRFtA6uRCgDwGu4AqDlDAO3TTQJ/+ZoAmkZYAVK5nQBiI1IA3LEeAFIlYAJTxIcAocRtAN8HwgPKV4ED",
                          "dtype": "i4"
                        },
                        "sizemode": "area",
                        "sizeref": 651201.5288888889,
                        "symbol": "circle"
                      },
                      "mode": "markers",
                      "name": "Europe",
                      "orientation": "v",
                      "showlegend": true,
                      "type": "scatter",
                      "x": {
                        "bdata": "djQO9RvyqECw6xfs+mncQNr+lZVM6tpAhEiGHFueskD+fcaFY1K3QHldv2DNScNAJsed0kFYz0BNEHUfFhvdQCqpE9D8KtdAZ2FPO3JI2UAc0xOWOCPbQAJlU67sTtJAxLEubmPgxkAvVtRgRmfbQMQlx5188tdABK3AkMEY2EAJqHAEnUG5QHjuPVyIid1A+PwwQmUo5ECqtwa2ytfDQPc7FAVCOtFAsQ+yLIyyvEDJZHH/Ueq+QGlv8IUdr8dAzojS3kbC0EC0HykiU/fTQN3vUBSmrNhAkyIyrNRh30AP0egObsm5QJpfzQGidtlA",
                        "dtype": "f8"
                      },
                      "xaxis": "x2",
                      "y": {
                        "bdata": "zczMzMw8UkBxPQrXo2BTQFK4HoXrYVNAVg4tsp1PUkAUrkfhepRRQOxRuB6Fa1JAcT0K16OAUkDXo3A9CgdTQLgehetRSFNAKVyPwvWoU0D2KFyPwlVTQFYOLbKdd1NAw/UoXI/CUUDNzMzMzLxTQCuHFtnOB1NAFK5H4Xq0U0AUrkfhetxSQFK4HoXrgVNAFK5H4XqUU0AAAAAAADBSQK5H4XoU/lJArkfhehRuUUACK4cW2Q5SQD0K16NwLVJAuB6F61HIUkDhehSuR7FTQClcj8L12FNASOF6FK7XU0A9CtejcDVRQMuhRbbzTVNA",
                        "dtype": "f8"
                      },
                      "yaxis": "y2"
                    },
                    {
                      "hovertemplate": "<b>%{hovertext}</b><br><br>continent=Africa<br>year=1997<br>gdpPercap=%{x}<br>lifeExp=%{y}<br>pop=%{marker.size}<extra></extra>",
                      "hovertext": [
                        "Algeria",
                        "Angola",
                        "Benin",
                        "Botswana",
                        "Burkina Faso",
                        "Burundi",
                        "Cameroon",
                        "Central African Republic",
                        "Chad",
                        "Comoros",
                        "Congo, Dem. Rep.",
                        "Congo, Rep.",
                        "Cote d'Ivoire",
                        "Djibouti",
                        "Egypt",
                        "Equatorial Guinea",
                        "Eritrea",
                        "Ethiopia",
                        "Gabon",
                        "Gambia",
                        "Ghana",
                        "Guinea",
                        "Guinea-Bissau",
                        "Kenya",
                        "Lesotho",
                        "Liberia",
                        "Libya",
                        "Madagascar",
                        "Malawi",
                        "Mali",
                        "Mauritania",
                        "Mauritius",
                        "Morocco",
                        "Mozambique",
                        "Namibia",
                        "Niger",
                        "Nigeria",
                        "Reunion",
                        "Rwanda",
                        "Sao Tome and Principe",
                        "Senegal",
                        "Sierra Leone",
                        "Somalia",
                        "South Africa",
                        "Sudan",
                        "Swaziland",
                        "Tanzania",
                        "Togo",
                        "Tunisia",
                        "Uganda",
                        "Zambia",
                        "Zimbabwe"
                      ],
                      "ids": [
                        "Algeria",
                        "Angola",
                        "Benin",
                        "Botswana",
                        "Burkina Faso",
                        "Burundi",
                        "Cameroon",
                        "Central African Republic",
                        "Chad",
                        "Comoros",
                        "Congo, Dem. Rep.",
                        "Congo, Rep.",
                        "Cote d'Ivoire",
                        "Djibouti",
                        "Egypt",
                        "Equatorial Guinea",
                        "Eritrea",
                        "Ethiopia",
                        "Gabon",
                        "Gambia",
                        "Ghana",
                        "Guinea",
                        "Guinea-Bissau",
                        "Kenya",
                        "Lesotho",
                        "Liberia",
                        "Libya",
                        "Madagascar",
                        "Malawi",
                        "Mali",
                        "Mauritania",
                        "Mauritius",
                        "Morocco",
                        "Mozambique",
                        "Namibia",
                        "Niger",
                        "Nigeria",
                        "Reunion",
                        "Rwanda",
                        "Sao Tome and Principe",
                        "Senegal",
                        "Sierra Leone",
                        "Somalia",
                        "South Africa",
                        "Sudan",
                        "Swaziland",
                        "Tanzania",
                        "Togo",
                        "Tunisia",
                        "Uganda",
                        "Zambia",
                        "Zimbabwe"
                      ],
                      "legendgroup": "Africa",
                      "marker": {
                        "color": "#00cc96",
                        "size": {
                          "bdata": "j5q7AVCulgCgj1wAGHIXAMv4nQCKaF0AYZzYAIFnOAAbY3MAbg4IAMpa2QIzvSoAryzfAHRgBgATIfEDo7YGAM/sPQA1aZEDLS8RADfbEgBwChkBwtB6AOw2EgCTRa8BZ0EeAJWUIQB2oEgAeiTYABf/ngAYNI8AxU0lAHqLEQBdU7MBxlj9AK4UGwDMfpMAX5pUBgpzCgAnDm4AyDgCAFJ/kQCk20UAKjhlAD2cjQLZu+oBFhcQAKk+1AF67kEANd2MAI6kQwE9tI8AlAauAA==",
                          "dtype": "i4"
                        },
                        "sizemode": "area",
                        "sizeref": 651201.5288888889,
                        "symbol": "circle"
                      },
                      "mode": "markers",
                      "name": "Africa",
                      "orientation": "v",
                      "showlegend": true,
                      "type": "scatter",
                      "x": {
                        "bdata": "p1t2iEu9skAPmfIhSMqhQDQw8rLmQ5NAZvhPN5LjwECOpO4UXJKNQE0zOKXX8XxAqDl5kVl5mkBtY6L3DCSHQEt319mwZ49A+IiYEnlWkkAH7dXHA4NzQH9QFylUOKtAhUTaxg/pm0A58kBkEZydQIOJP4ouTbBAx/SEJfb8pUBFKowtxIuMQCnEbX4dH4BAlU25wmvBzEAPJJRj122EQLcnSGz3aY9AmwZWH5kri0DitabUUOWIQIBTWKnwQZVABDi9i5eIkkDnKFFAZAmDQBjuXBi5fcJAPiiD/l3SjkAy0wfcNKKFQPneOloQsohAPE88Z4ssl0AKjzaOtAG9QKxVuyY0TKdAUSYkiImFfUA0hc5rDHeuQIJjhRFxIoJAK/aX3cNjmUAYsU8A8be3QD6bsFiOb4JARpVh3E3slEBSuvQvecGVQDt1QG0v9YFAP8NAfMUUjUCrP8IwMDe9QLSchNLXgJlAkdCWc4lJrkAUYolifamIQGyn955Lso5AIZT3ccwMs0CFlnX/eISJQPIKRE9qvZBA+yfJhJnDiEA=",
                        "dtype": "f8"
                      },
                      "xaxis": "x3",
                      "y": {
                        "bdata": "fT81XrpJUUAlBoGVQ3tEQPp+arx0Y0tAukkMAitHSkC28/3UeClJQH0/NV66qUZAtvP91HgZSkCcxCCwcghHQNNNYhBYyUlAFK5H4XpUTkBCYOXQIktFQEJg5dAie0pAAyuHFtn+R0BqvHSTGJRKQNnO91PjzVBAj8L1KFwfSECq8dJNYrBKQPp+arx0s0hAYLpJDAI7TkCR7Xw/Ne5LQLpJDAIrR01ACtejcD26SUA7tMh2vm9GQGq8dJMYNEtAgZVDi2zHS0A/NV66SRxFQOxRuB6F41FAd76fGi99S0CPwvUoXL9HQN0kBoGV80hA16NwPQo3TkDJdr6fGq9RQArXo3A96lBAeekmMQgsR0AxCKwcWnRNQPLSTWIQqElACKwcWmS7R0DDILByaLFSQEJg5dAiC0JAukkMAiunT0AOLbKd7xdOQIlBYOXQ8kNA9ihcj8LlRUCR7Xw/NR5OQDu0yHa+r0tAokW28/0kS0DP91PjpTtIQFK4HoXrMU1Ag8DKoUX+UUBEi2zn+0lGQFg5tMh2HkRAZDvfT41nR0A=",
                        "dtype": "f8"
                      },
                      "yaxis": "y3"
                    },
                    {
                      "hovertemplate": "<b>%{hovertext}</b><br><br>continent=Americas<br>year=1997<br>gdpPercap=%{x}<br>lifeExp=%{y}<br>pop=%{marker.size}<extra></extra>",
                      "hovertext": [
                        "Argentina",
                        "Bolivia",
                        "Brazil",
                        "Canada",
                        "Chile",
                        "Colombia",
                        "Costa Rica",
                        "Cuba",
                        "Dominican Republic",
                        "Ecuador",
                        "El Salvador",
                        "Guatemala",
                        "Haiti",
                        "Honduras",
                        "Jamaica",
                        "Mexico",
                        "Nicaragua",
                        "Panama",
                        "Paraguay",
                        "Peru",
                        "Puerto Rico",
                        "Trinidad and Tobago",
                        "United States",
                        "Uruguay",
                        "Venezuela"
                      ],
                      "ids": [
                        "Argentina",
                        "Bolivia",
                        "Brazil",
                        "Canada",
                        "Chile",
                        "Colombia",
                        "Costa Rica",
                        "Cuba",
                        "Dominican Republic",
                        "Ecuador",
                        "El Salvador",
                        "Guatemala",
                        "Haiti",
                        "Honduras",
                        "Jamaica",
                        "Mexico",
                        "Nicaragua",
                        "Panama",
                        "Paraguay",
                        "Peru",
                        "Puerto Rico",
                        "Trinidad and Tobago",
                        "United States",
                        "Uruguay",
                        "Venezuela"
                      ],
                      "legendgroup": "Americas",
                      "marker": {
                        "color": "#ab63fa",
                        "size": {
                          "bdata": "x2soAoRjdQCf0QsKM27OAfnG3gDmnD4Cm641AF+WpwAl9HkAi8K1AI8/WABjmJUACX5pALWJWQDvnyYAaj63BSRWRgDDuSkAS6VOAFqgeQFGXTkAtV0RAJBNRBB2yTEA/mdVAQ==",
                          "dtype": "i4"
                        },
                        "sizemode": "area",
                        "sizeref": 651201.5288888889,
                        "symbol": "circle"
                      },
                      "mode": "markers",
                      "name": "Americas",
                      "orientation": "v",
                      "showlegend": true,
                      "type": "scatter",
                      "x": {
                        "bdata": "jgbwFqRrxUAqrFRQSfypQCAbSBf7Fb9AbCHIQbtG3EBnLJrOBsPDQHfHYptc5bdADcSymQsVukB4YtaL/Te1QCeloNszPKxA/uVatHQFvUD7srRT0yK0QELSp1VQTLJAy52ZYOj2lECCcXDp6LCoQHy+Zrns0btAyol2FaYTw0BbJy7HC5qhQJdUbTexybtA3UCBd2aXsEA6lQwAWc62QFfsL7vbmdBAP1kxXEkswUAGu2Hb7XbhQPENhc8eB8JA0egOYr/aw0A=",
                        "dtype": "f8"
                      },
                      "xaxis": "x4",
                      "y": {
                        "bdata": "mpmZmZlRUkBmZmZmZgZPQEa28/3UWFFA16NwPQqnU0BOYhBYOfRSQHnpJjEIlFFAcT0K16NQU0CNbOf7qQlTQGiR7Xw/fVFAhxbZzvcTUkAK16NwPWJRQPhT46WblFBA2s73U+NVTEAYBFYOLepQQFTjpZvEEFJAexSuR+FqUkAlBoGVQxtRQKwcWmQ7b1JAmpmZmZlZUUBjEFg5tBhRQKabxCCwulJA9ihcj8JdUUCkcD0K1zNTQIPAyqFFjlJA001iEFgJUkA=",
                        "dtype": "f8"
                      },
                      "yaxis": "y4"
                    },
                    {
                      "hovertemplate": "<b>%{hovertext}</b><br><br>continent=Oceania<br>year=1997<br>gdpPercap=%{x}<br>lifeExp=%{y}<br>pop=%{marker.size}<extra></extra>",
                      "hovertext": [
                        "Australia",
                        "New Zealand"
                      ],
                      "ids": [
                        "Australia",
                        "New Zealand"
                      ],
                      "legendgroup": "Oceania",
                      "marker": {
                        "color": "#FFA15A",
                        "size": {
                          "bdata": "e0gbARsYOAA=",
                          "dtype": "i4"
                        },
                        "sizemode": "area",
                        "sizeref": 651201.5288888889,
                        "symbol": "circle"
                      },
                      "mode": "markers",
                      "name": "Oceania",
                      "orientation": "v",
                      "showlegend": true,
                      "type": "scatter",
                      "x": {
                        "bdata": "G0zD8Htd2kCEKjV7mo7UQA==",
                        "dtype": "f8"
                      },
                      "xaxis": "x5",
                      "y": {
                        "bdata": "hetRuB61U0AzMzMzM2NTQA==",
                        "dtype": "f8"
                      },
                      "yaxis": "y5"
                    }
                  ],
                  "name": "1997"
                },
                {
                  "data": [
                    {
                      "hovertemplate": "<b>%{hovertext}</b><br><br>continent=Asia<br>year=2002<br>gdpPercap=%{x}<br>lifeExp=%{y}<br>pop=%{marker.size}<extra></extra>",
                      "hovertext": [
                        "Afghanistan",
                        "Bahrain",
                        "Bangladesh",
                        "Cambodia",
                        "China",
                        "Hong Kong, China",
                        "India",
                        "Indonesia",
                        "Iran",
                        "Iraq",
                        "Israel",
                        "Japan",
                        "Jordan",
                        "Korea, Dem. Rep.",
                        "Korea, Rep.",
                        "Kuwait",
                        "Lebanon",
                        "Malaysia",
                        "Mongolia",
                        "Myanmar",
                        "Nepal",
                        "Oman",
                        "Pakistan",
                        "Philippines",
                        "Saudi Arabia",
                        "Singapore",
                        "Sri Lanka",
                        "Syria",
                        "Taiwan",
                        "Thailand",
                        "Vietnam",
                        "West Bank and Gaza",
                        "Yemen, Rep."
                      ],
                      "ids": [
                        "Afghanistan",
                        "Bahrain",
                        "Bangladesh",
                        "Cambodia",
                        "China",
                        "Hong Kong, China",
                        "India",
                        "Indonesia",
                        "Iran",
                        "Iraq",
                        "Israel",
                        "Japan",
                        "Jordan",
                        "Korea, Dem. Rep.",
                        "Korea, Rep.",
                        "Kuwait",
                        "Lebanon",
                        "Malaysia",
                        "Mongolia",
                        "Myanmar",
                        "Nepal",
                        "Oman",
                        "Pakistan",
                        "Philippines",
                        "Saudi Arabia",
                        "Singapore",
                        "Sri Lanka",
                        "Syria",
                        "Taiwan",
                        "Thailand",
                        "Vietnam",
                        "West Bank and Gaza",
                        "Yemen, Rep."
                      ],
                      "legendgroup": "Asia",
                      "marker": {
                        "color": "#636efa",
                        "size": {
                          "bdata": "tZCBAQ0ECgBW9RUI8z7FAIBaUUzsL2cAgzikPSCFlAyy7vwDGD1uAdkAXADx3pIHTvxQAMX6UgF+89sCSTggAFQeOADdzFkBOs4oAIHFtwL9zYoBdmcpAITAJAmQZ/IEGt11AZANQADPtyoB5sYFAd+fVgHcWr4Dc4/SBIq4MwDJWx0B",
                          "dtype": "i4"
                        },
                        "sizemode": "area",
                        "sizeref": 651201.5288888889,
                        "symbol": "circle"
                      },
                      "mode": "markers",
                      "name": "Asia",
                      "orientation": "v",
                      "showlegend": true,
                      "type": "scatter",
                      "x": {
                        "bdata": "xnsfWN+1hkDpZRTL49rWQITF4cyPwZFAKQ8c4c4BjEAou5nRj16oQA+mYfhAgN1AG9e/6xNLm0AAV7Jj03OmQK+UZYhhDMJAB13CobcmsUAjFcYWZmTVQKCJsOEl79tALbRzmtUJrkC4WbxYCLuZQKRTVz5/yNJAkBSRYcMk4UBA2ZQr+DDCQLpOIy1978NAXFSLiHq5oEAAAAAAABiDQDjXMEPThJBAQDBHj7VP00CpFhHFbFmgQMmSOZbXtaRAUHCxoqKR0kAg0m9f45bhQEsjZvbBjqdA8x38xNn1r0Cu8C4X27DWQA2K5gEwGbdAV68io9ORm0BZF7fRfKOxQFnBb0OkdaFA",
                        "dtype": "f8"
                      },
                      "xaxis": "x",
                      "y": {
                        "bdata": "jZduEoMQRUB7FK5H4bJSQI1s5/upAU9Ax0s3iUFgTEBvEoPAygFSQEjhehSuX1RAjZduEoNwT0ATg8DKoSVRQL+fGi/dXFFA2s73U+OFTEAGgZVDi+xTQAAAAAAAgFRARrbz/dTQUUDtfD81XqpQQHsUrkfhQlNAYOXQIts5U0BvEoPAysFRQIlBYOXQQlJAJzEIrBxCUEBOYhBYOfRNQOxRuB6Fq05AMQisHFqMUkCuR+F6FM5PQAisHFpkk1FA8tJNYhDoUUDhehSuR7FTQFyPwvUotFFACKwcWmRDUkCPwvUoXD9TQGq8dJMYJFFADAIrhxZBUkBI4XoUrhdSQIGVQ4tsJ05A",
                        "dtype": "f8"
                      },
                      "yaxis": "y"
                    },
                    {
                      "hovertemplate": "<b>%{hovertext}</b><br><br>continent=Europe<br>year=2002<br>gdpPercap=%{x}<br>lifeExp=%{y}<br>pop=%{marker.size}<extra></extra>",
                      "hovertext": [
                        "Albania",
                        "Austria",
                        "Belgium",
                        "Bosnia and Herzegovina",
                        "Bulgaria",
                        "Croatia",
                        "Czech Republic",
                        "Denmark",
                        "Finland",
                        "France",
                        "Germany",
                        "Greece",
                        "Hungary",
                        "Iceland",
                        "Ireland",
                        "Italy",
                        "Montenegro",
                        "Netherlands",
                        "Norway",
                        "Poland",
                        "Portugal",
                        "Romania",
                        "Serbia",
                        "Slovak Republic",
                        "Slovenia",
                        "Spain",
                        "Sweden",
                        "Switzerland",
                        "Turkey",
                        "United Kingdom"
                      ],
                      "ids": [
                        "Albania",
                        "Austria",
                        "Belgium",
                        "Bosnia and Herzegovina",
                        "Bulgaria",
                        "Croatia",
                        "Czech Republic",
                        "Denmark",
                        "Finland",
                        "France",
                        "Germany",
                        "Greece",
                        "Hungary",
                        "Iceland",
                        "Ireland",
                        "Italy",
                        "Montenegro",
                        "Netherlands",
                        "Norway",
                        "Poland",
                        "Portugal",
                        "Romania",
                        "Serbia",
                        "Slovak Republic",
                        "Slovenia",
                        "Spain",
                        "Sweden",
                        "Switzerland",
                        "Turkey",
                        "United Kingdom"
                      ],
                      "legendgroup": "Europe",
                      "marker": {
                        "color": "#EF553B",
                        "size": {
                          "bdata": "IIk1AFhVfAAiWZ0AKI8/AOfodAD8X0QAp3+cAOUCUgBPPU8AK2KSA0+S6ARXzaEA8duZAB5lBADzMDsAV+VzA2b9CgDOA/YAJzVFALhiTQJLNZ8A8dxVAUdKmgAEjVIAabEeAMWtZAI/oYgA3VRwAIANAwTvMJID",
                          "dtype": "i4"
                        },
                        "sizemode": "area",
                        "sizeref": 651201.5288888889,
                        "symbol": "circle"
                      },
                      "mode": "markers",
                      "name": "Europe",
                      "orientation": "v",
                      "showlegend": true,
                      "type": "scatter",
                      "x": {
                        "bdata": "WmJlNDb8sUAHmWTkZqjfQPYoXI94xd1AyVpDqfmCt0BIUPwYxxC+QOQUHckxtsZAPJY+dA0v0UCCqPsAoGnfQAAd5ssli9tAl8rbEYI/3EAD7KNT81TdQMGopE6Q/NVAuRluwPf9zEDGounszG7eQFhWmpSho+BA3dJqSAZQ20A0FHe8MZ25QLLXuz+Yd+BA7nw/NX/R5UCQZiyaHnHHQMHFihq6gNNA6bZELlzNvkD+R6ZDE0S8QBfPoKFjo8pAtrkxPQEt1EC1bK0v3kDYQAY5KGFop9xAInGPpR7W4ECuZp3xFWy5QB+duvK/ydxA",
                        "dtype": "f8"
                      },
                      "xaxis": "x2",
                      "y": {
                        "bdata": "jWzn+6npUkAfhetRuL5TQBSuR+F6lFNA9ihcj8KFUkApXI/C9QhSQPLSTWIQuFJAcT0K16PgUkDsUbgehUtTQEjhehSul1NA9ihcj8LlU0B7FK5H4apTQKrx0k1ikFNA9ihcj8IlUkAAAAAAACBUQCcxCKwcclNAj8L1KFwPVEASWDm0yH5SQFK4HoXroVNAMzMzMzPDU0B7FK5H4apSQMP1KFyPUlNA+FPjpZvUUUAUg8DKoU1SQDMzMzMzc1JACtejcD0qU0BSuB6F6/FTQMP1KFyPAlRASOF6FK4nVECuR+F6FLZRQKAaL90knlNA",
                        "dtype": "f8"
                      },
                      "yaxis": "y2"
                    },
                    {
                      "hovertemplate": "<b>%{hovertext}</b><br><br>continent=Africa<br>year=2002<br>gdpPercap=%{x}<br>lifeExp=%{y}<br>pop=%{marker.size}<extra></extra>",
                      "hovertext": [
                        "Algeria",
                        "Angola",
                        "Benin",
                        "Botswana",
                        "Burkina Faso",
                        "Burundi",
                        "Cameroon",
                        "Central African Republic",
                        "Chad",
                        "Comoros",
                        "Congo, Dem. Rep.",
                        "Congo, Rep.",
                        "Cote d'Ivoire",
                        "Djibouti",
                        "Egypt",
                        "Equatorial Guinea",
                        "Eritrea",
                        "Ethiopia",
                        "Gabon",
                        "Gambia",
                        "Ghana",
                        "Guinea",
                        "Guinea-Bissau",
                        "Kenya",
                        "Lesotho",
                        "Liberia",
                        "Libya",
                        "Madagascar",
                        "Malawi",
                        "Mali",
                        "Mauritania",
                        "Mauritius",
                        "Morocco",
                        "Mozambique",
                        "Namibia",
                        "Niger",
                        "Nigeria",
                        "Reunion",
                        "Rwanda",
                        "Sao Tome and Principe",
                        "Senegal",
                        "Sierra Leone",
                        "Somalia",
                        "South Africa",
                        "Sudan",
                        "Swaziland",
                        "Tanzania",
                        "Togo",
                        "Tunisia",
                        "Uganda",
                        "Zambia",
                        "Zimbabwe"
                      ],
                      "ids": [
                        "Algeria",
                        "Angola",
                        "Benin",
                        "Botswana",
                        "Burkina Faso",
                        "Burundi",
                        "Cameroon",
                        "Central African Republic",
                        "Chad",
                        "Comoros",
                        "Congo, Dem. Rep.",
                        "Congo, Rep.",
                        "Cote d'Ivoire",
                        "Djibouti",
                        "Egypt",
                        "Equatorial Guinea",
                        "Eritrea",
                        "Ethiopia",
                        "Gabon",
                        "Gambia",
                        "Ghana",
                        "Guinea",
                        "Guinea-Bissau",
                        "Kenya",
                        "Lesotho",
                        "Liberia",
                        "Libya",
                        "Madagascar",
                        "Malawi",
                        "Mali",
                        "Mauritania",
                        "Mauritius",
                        "Morocco",
                        "Mozambique",
                        "Namibia",
                        "Niger",
                        "Nigeria",
                        "Reunion",
                        "Rwanda",
                        "Sao Tome and Principe",
                        "Senegal",
                        "Sierra Leone",
                        "Somalia",
                        "South Africa",
                        "Sudan",
                        "Swaziland",
                        "Tanzania",
                        "Togo",
                        "Tunisia",
                        "Uganda",
                        "Zambia",
                        "Zimbabwe"
                      ],
                      "legendgroup": "Africa",
                      "marker": {
                        "color": "#00cc96",
                        "size": {
                          "bdata": "ZmfdAbrNpQDBNWsAi+AYAEnwugAWImsAhBLzAI3EPQCb0oYA7l8JAIwHTQMbyzIANv/3ALjTBgAvqV4EC5AHAJFdQwAtyQwEaNMTAGY+FgBflDkBimWGAOtUFADa7N4BNDsfALvyKgAJ61EAhV37AG9ttADQcKEAOiorAE5QEgAnldsBNOMZAbkXHgAv/qkAWowlBy1aCwBx0XcAhJkCABXdpQD0xVEAXk52ANYApgL68zUCHT8RAPPbDwLi8ksATxaVAB2AeQHjraEAI/y1AA==",
                          "dtype": "i4"
                        },
                        "sizemode": "area",
                        "sizeref": 651201.5288888889,
                        "symbol": "circle"
                      },
                      "mode": "markers",
                      "name": "Africa",
                      "orientation": "v",
                      "showlegend": true,
                      "type": "scatter",
                      "x": {
                        "bdata": "WYl5VgqotEB/944ak6qlQJQUWACDc5VAu+1Cc819xUDFVtC0lDaQQGLIoMl05ntASmJJuQs4nkApo9tchhWHQM0Bgjm6EJJAO3MPCT/PkECZ1TvcTiVuQKsmiLofOKtAisvxCjTDmUBsBrggC9GdQD874LqakrJAFmpN834XvkBoIJbNzOqHQFj+IaJtkIBA+wW7Ydt0yEBhQOVOr6SEQHAZNzXwX5FA1E/uLauMjUBTJ/tCo/2BQNLI5xUPHpRAo5I6Ab3sk0AfmbPj25uAQI8YPbdWn8JA6W6Nvhj1i0CkKgGMYsuEQNGj8ytHu41Ad4cUAxSsmECA7zZv6J7BQNegL739dKlAZa38jfHMg0CwWMNFptCvQBrMFZSYyIJA9Bq7RCU9mUBNFYxKKqy4QDQaCuk6jYhA6fF7m14klUCRKR+Cir6XQGc7pu7q24VAzhgwkqeQi0B/aydK8h6+QCgOoN+XJZ9Af/j57x0gsEAAPP37lxiMQCKunL3DsYtAfmWlSeVatkDbepecxP2MQBi/Kax0vpBAEgtrGU8AhUA=",
                        "dtype": "f8"
                      },
                      "xaxis": "x3",
                      "y": {
                        "bdata": "Vg4tsp2/UUCq8dJNYoBEQIkW2c73M0tA/dR46SZRR0AzMzMzM1NJQK5H4XoUrkdAIbByaJHtSECBlUOLbKdFQDMzMzMzQ0lA6SYxCKx8T0DP91PjpXtGQFyPwvUofEpA0SLb+X5qR0A7tMh2vq9KQN0kBoGVc1FABoGVQ4usSEAfhetRuJ5LQM3MzMzMXElAxSCwcmhhTEBoke18PwVNQESLbOf7OU1ASgwCK4fWSkCNl24Sg8BGQOXQItv5fklAlkOLbOdLRkCq8dJNYuBFQLpJDAIrL1JA+FPjpZukTED91HjpJoFGQGQQWDm06ElAVg4tsp0fT0CTGARWDv1RQI/C9ShcZ1FAF9nO91MDRkBaZDvfT71JQHNoke18P0tA5/up8dJNR0BWDi2yne9SQL6fGi/dtEVAIbByaJEVUEDNzMzMzMxOQKjGSzeJgURALIcW2c73RkAfhetRuK5KQKwcWmQ7L0xArBxaZDvvRUAX2c73U9NIQCyHFtnOx0xAppvEILBCUkDy0k1iEOhHQGQQWDm0mENAO99PjZf+Q0A=",
                        "dtype": "f8"
                      },
                      "yaxis": "y3"
                    },
                    {
                      "hovertemplate": "<b>%{hovertext}</b><br><br>continent=Americas<br>year=2002<br>gdpPercap=%{x}<br>lifeExp=%{y}<br>pop=%{marker.size}<extra></extra>",
                      "hovertext": [
                        "Argentina",
                        "Bolivia",
                        "Brazil",
                        "Canada",
                        "Chile",
                        "Colombia",
                        "Costa Rica",
                        "Cuba",
                        "Dominican Republic",
                        "Ecuador",
                        "El Salvador",
                        "Guatemala",
                        "Haiti",
                        "Honduras",
                        "Jamaica",
                        "Mexico",
                        "Nicaragua",
                        "Panama",
                        "Paraguay",
                        "Peru",
                        "Puerto Rico",
                        "Trinidad and Tobago",
                        "United States",
                        "Uruguay",
                        "Venezuela"
                      ],
                      "ids": [
                        "Argentina",
                        "Bolivia",
                        "Brazil",
                        "Canada",
                        "Chile",
                        "Colombia",
                        "Costa Rica",
                        "Cuba",
                        "Dominican Republic",
                        "Ecuador",
                        "El Salvador",
                        "Guatemala",
                        "Haiti",
                        "Honduras",
                        "Jamaica",
                        "Mexico",
                        "Nicaragua",
                        "Panama",
                        "Paraguay",
                        "Peru",
                        "Puerto Rico",
                        "Trinidad and Tobago",
                        "United States",
                        "Uruguay",
                        "Venezuela"
                      ],
                      "legendgroup": "Americas",
                      "marker": {
                        "color": "#ab63fa",
                        "size": {
                          "bdata": "8eJIAs7cgADkRbkKPMrmAVZ37ABjvHECNoQ6AHdPqwBS/oMAkinFABHzYACakqoAYxV0AFDjZQDTqCgAN7gbBuCITgAboy0AS8pZABx4mAGW5DoACNAQAIaUJRENUTMAtplyAQ==",
                          "dtype": "i4"
                        },
                        "sizemode": "area",
                        "sizeref": 651201.5288888889,
                        "symbol": "circle"
                      },
                      "mode": "markers",
                      "name": "Americas",
                      "orientation": "v",
                      "showlegend": true,
                      "type": "scatter",
                      "x": {
                        "bdata": "A137AtIuwUD5vU1/hqqqQDD84Hw2w79AC3va4R5G4EB8YTJVZA3FQDSg3oxCe7ZA8Rtfe3IrvkDhXwSNpcS4QCI4LuPO07FASHAjZQuNtkBYUBiUkee0QIasbvVY+rJADvW7sHXZk0DPa+wSdTeoQPJdSl3GUrtAdHtJYzj7xEDZ0M3+GFWjQKOd0ywIvLxAHeVgNlmPrUCIDoEjBRW3QN8yp8vmadJACi5W1ExixkBKe4MvIxfjQHeKVYMAL75AXoJTH4bOwEA=",
                        "dtype": "f8"
                      },
                      "xaxis": "x4",
                      "y": {
                        "bdata": "9ihcj8KVUkAbL90kBvFPQKrx0k1iwFFA4XoUrkfxU0DXo3A9CndTQM/3U+Ol61FAHVpkO9+HU0AnMQisHEpTQJHtfD81tlFAUI2XbhKLUkDl0CLb+a5RQDzfT42XPlFAqMZLN4kRTUBcj8L1KCRRQF66SQwCA1JAfT81Xrq5UkAv3SQGgbVRQCGwcmiRrVJAuB6F61GwUUBEi2zn+3lRQG8Sg8DKcVNAWDm0yHY+UUCkcD0K11NTQM/3U+Ol01JAGy/dJAYxUkA=",
                        "dtype": "f8"
                      },
                      "yaxis": "y4"
                    },
                    {
                      "hovertemplate": "<b>%{hovertext}</b><br><br>continent=Oceania<br>year=2002<br>gdpPercap=%{x}<br>lifeExp=%{y}<br>pop=%{marker.size}<extra></extra>",
                      "hovertext": [
                        "Australia",
                        "New Zealand"
                      ],
                      "ids": [
                        "Australia",
                        "New Zealand"
                      ],
                      "legendgroup": "Oceania",
                      "marker": {
                        "color": "#FFA15A",
                        "size": {
                          "bdata": "qEIqAcWhOwA=",
                          "dtype": "i4"
                        },
                        "sizemode": "area",
                        "sizeref": 651201.5288888889,
                        "symbol": "circle"
                      },
                      "mode": "markers",
                      "name": "Oceania",
                      "orientation": "v",
                      "showlegend": true,
                      "type": "scatter",
                      "x": {
                        "bdata": "1A5/TfD33UCqglFJc6XWQA==",
                        "dtype": "f8"
                      },
                      "xaxis": "x5",
                      "y": {
                        "bdata": "SOF6FK4XVEDXo3A9CsdTQA==",
                        "dtype": "f8"
                      },
                      "yaxis": "y5"
                    }
                  ],
                  "name": "2002"
                },
                {
                  "data": [
                    {
                      "hovertemplate": "<b>%{hovertext}</b><br><br>continent=Asia<br>year=2007<br>gdpPercap=%{x}<br>lifeExp=%{y}<br>pop=%{marker.size}<extra></extra>",
                      "hovertext": [
                        "Afghanistan",
                        "Bahrain",
                        "Bangladesh",
                        "Cambodia",
                        "China",
                        "Hong Kong, China",
                        "India",
                        "Indonesia",
                        "Iran",
                        "Iraq",
                        "Israel",
                        "Japan",
                        "Jordan",
                        "Korea, Dem. Rep.",
                        "Korea, Rep.",
                        "Kuwait",
                        "Lebanon",
                        "Malaysia",
                        "Mongolia",
                        "Myanmar",
                        "Nepal",
                        "Oman",
                        "Pakistan",
                        "Philippines",
                        "Saudi Arabia",
                        "Singapore",
                        "Sri Lanka",
                        "Syria",
                        "Taiwan",
                        "Thailand",
                        "Vietnam",
                        "West Bank and Gaza",
                        "Yemen, Rep."
                      ],
                      "ids": [
                        "Afghanistan",
                        "Bahrain",
                        "Bangladesh",
                        "Cambodia",
                        "China",
                        "Hong Kong, China",
                        "India",
                        "Indonesia",
                        "Iran",
                        "Iraq",
                        "Israel",
                        "Japan",
                        "Jordan",
                        "Korea, Dem. Rep.",
                        "Korea, Rep.",
                        "Kuwait",
                        "Lebanon",
                        "Malaysia",
                        "Mongolia",
                        "Myanmar",
                        "Nepal",
                        "Oman",
                        "Pakistan",
                        "Philippines",
                        "Saudi Arabia",
                        "Singapore",
                        "Sri Lanka",
                        "Syria",
                        "Taiwan",
                        "Thailand",
                        "Vietnam",
                        "West Bank and Gaza",
                        "Yemen, Rep."
                      ],
                      "legendgroup": "Asia",
                      "marker": {
                        "color": "#636efa",
                        "size": {
                          "bdata": "A5rmAd3PCgDTqPcIkqLXANiBmU48g2oAq00vQngOUw0CxyMEdpyjATcQYgDEAZkHSV1cAF2OYwE2XewCVzsmAH7VOwAmvnoBD9srADzK2AKeAbkBIecwAFndFgqnum0FjiilATF5RQB/8jYBO7gmAZacYQF13OADFAAVBZxQPQCf7FIB",
                          "dtype": "i4"
                        },
                        "sizemode": "area",
                        "sizeref": 651201.5288888889,
                        "symbol": "circle"
                      },
                      "mode": "markers",
                      "name": "Asia",
                      "orientation": "v",
                      "showlegend": true,
                      "type": "scatter",
                      "x": {
                        "bdata": "54R1iKR0jkDGpwAYAxndQPLPDOIDvZVAat/cXx3HmkDRXRJnHV+zQHK/Q1GfZeNAs193umsoo0CA7suZTamrQKmHaHTbqsZAbVUS2Q93sUBuowG80ezYQItUGFsE6t5A3XpND3ansUArajANQ+SYQBMZVvEIzdZASBtHrF8Z50B3hNOCh27EQFwgQfHTUchATsEaZ4svqEAAAAAAAICNQEjfpGlwDZFAmGn7VwzL1UCwrDQp5VukQLWpukf27KhAD0WBPrUl1UCiYpy/5QTnQJ6xL9kwBK9ATIqPT4xYsECOHr+3kQvcQIOvr3VlIr1AkdJsHicTo0BqNLkYs6KnQP2FHjGK0aFA",
                        "dtype": "f8"
                      },
                      "xaxis": "x",
                      "y": {
                        "bdata": "RIts5/vpRUBxPQrXo+hSQIcW2c73A1BABoGVQ4vcTUAv3SQGgT1SQFpkO99PjVRA6iYxCKwsUECamZmZmalRQARWDi2yvVFA9ihcj8LFTUBI4XoUri9UQDvfT42XplRACtejcD0iUkBeukkMAtNQQB1aZDvfp1NAFIPAyqFlU0BkO99Pjf9RQIGVQ4tsj1JACKwcWmSzUEBGtvP91AhPQBSuR+F65E9AKVyPwvXoUkD0/dR46V5QQHnpJjEI7FFAfT81XroxUkCR7Xw/Nf5TQNNNYhBYGVJA/tR46SaJUkCamZmZmZlTQIGVQ4tsp1FADi2yne+PUkBeukkMAltSQNNNYhBYWU9A",
                        "dtype": "f8"
                      },
                      "yaxis": "y"
                    },
                    {
                      "hovertemplate": "<b>%{hovertext}</b><br><br>continent=Europe<br>year=2007<br>gdpPercap=%{x}<br>lifeExp=%{y}<br>pop=%{marker.size}<extra></extra>",
                      "hovertext": [
                        "Albania",
                        "Austria",
                        "Belgium",
                        "Bosnia and Herzegovina",
                        "Bulgaria",
                        "Croatia",
                        "Czech Republic",
                        "Denmark",
                        "Finland",
                        "France",
                        "Germany",
                        "Greece",
                        "Hungary",
                        "Iceland",
                        "Ireland",
                        "Italy",
                        "Montenegro",
                        "Netherlands",
                        "Norway",
                        "Poland",
                        "Portugal",
                        "Romania",
                        "Serbia",
                        "Slovak Republic",
                        "Slovenia",
                        "Spain",
                        "Sweden",
                        "Switzerland",
                        "Turkey",
                        "United Kingdom"
                      ],
                      "ids": [
                        "Albania",
                        "Austria",
                        "Belgium",
                        "Bosnia and Herzegovina",
                        "Bulgaria",
                        "Croatia",
                        "Czech Republic",
                        "Denmark",
                        "Finland",
                        "France",
                        "Germany",
                        "Greece",
                        "Hungary",
                        "Iceland",
                        "Ireland",
                        "Italy",
                        "Montenegro",
                        "Netherlands",
                        "Norway",
                        "Poland",
                        "Portugal",
                        "Romania",
                        "Serbia",
                        "Slovak Republic",
                        "Slovenia",
                        "Spain",
                        "Sweden",
                        "Switzerland",
                        "Turkey",
                        "United Kingdom"
                      ],
                      "legendgroup": "Europe",
                      "marker": {
                        "color": "#EF553B",
                        "size": {
                          "bdata": "i/A2AGcefQCikp4ABnZFAOq8bwAAkEQACBScANhvUwC87k8ADBGkA+RW6QRyXaMADOuXAGubBAAesz4AlUN3A8ByCgD12PwA1p1GAOG9SwKUZaIA2OdTAXnhmgBOH1MAnageAL8waQKwzYkAZUZzAHfLPQQuX58D",
                          "dtype": "i4"
                        },
                        "sizemode": "area",
                        "sizeref": 651201.5288888889,
                        "symbol": "circle"
                      },
                      "mode": "markers",
                      "name": "Europe",
                      "orientation": "v",
                      "showlegend": true,
                      "type": "scatter",
                      "x": {
                        "bdata": "YBQEjwcxt0BYyjLEz6PhQG+70FyTc+BA8nhafkwWvUDPMSB7ZdzEQBTGFoKcjcxAH7qgvlNM1kCxbVFmzTnhQPmgZ7PiNuBAduCcEYHB3UC+TX/2l2rfQHjuPVya5NpAQni0cTyW0UALYwtBmarhQCxlGeJ/3ONAvJaQD27m20BL58Oz8hLCQJbnwd299+FAVmXfFaYZ6ECjC+pb9g7OQFVNEHVpB9RA09nJ4DwcxUBbI4JxRB3DQGB2Tx6UPdJAcsRafBAq2UAwKqkTRCXcQP+ye/J3iOBAGH0FaU1Q4kCSCI1gI4XAQOPfZ1xoNuBA",
                        "dtype": "f8"
                      },
                      "xaxis": "x2",
                      "y": {
                        "bdata": "UI2XbhIbU0CTGARWDvVTQE5iEFg53FNASgwCK4e2UkC4HoXrUUBSQB1aZDvf71JAyXa+nxofU0Boke18P5VTQHnpJjEI1FNANV66SQwqVEBEi2zn+9lTQPT91Hjp3lNAFIPAyqFVUkCcxCCwcnBUQHE9CtejuFNAbef7qfEiVECYbhKDwKJSQFTjpZvE8FNABoGVQ4sMVEB56SYxCORSQIPAyqFFhlNAWDm0yHYeUkDjpZvEIIBSQN9PjZduqlJAJQaBlUN7U0BOYhBYOTxUQH9qvHSTOFRAwJ8aL91sVEB9PzVeuvFRQDMzMzMz21NA",
                        "dtype": "f8"
                      },
                      "yaxis": "y2"
                    },
                    {
                      "hovertemplate": "<b>%{hovertext}</b><br><br>continent=Africa<br>year=2007<br>gdpPercap=%{x}<br>lifeExp=%{y}<br>pop=%{marker.size}<extra></extra>",
                      "hovertext": [
                        "Algeria",
                        "Angola",
                        "Benin",
                        "Botswana",
                        "Burkina Faso",
                        "Burundi",
                        "Cameroon",
                        "Central African Republic",
                        "Chad",
                        "Comoros",
                        "Congo, Dem. Rep.",
                        "Congo, Rep.",
                        "Cote d'Ivoire",
                        "Djibouti",
                        "Egypt",
                        "Equatorial Guinea",
                        "Eritrea",
                        "Ethiopia",
                        "Gabon",
                        "Gambia",
                        "Ghana",
                        "Guinea",
                        "Guinea-Bissau",
                        "Kenya",
                        "Lesotho",
                        "Liberia",
                        "Libya",
                        "Madagascar",
                        "Malawi",
                        "Mali",
                        "Mauritania",
                        "Mauritius",
                        "Morocco",
                        "Mozambique",
                        "Namibia",
                        "Niger",
                        "Nigeria",
                        "Reunion",
                        "Rwanda",
                        "Sao Tome and Principe",
                        "Senegal",
                        "Sierra Leone",
                        "Somalia",
                        "South Africa",
                        "Sudan",
                        "Swaziland",
                        "Tanzania",
                        "Togo",
                        "Tunisia",
                        "Uganda",
                        "Zambia",
                        "Zimbabwe"
                      ],
                      "ids": [
                        "Algeria",
                        "Angola",
                        "Benin",
                        "Botswana",
                        "Burkina Faso",
                        "Burundi",
                        "Cameroon",
                        "Central African Republic",
                        "Chad",
                        "Comoros",
                        "Congo, Dem. Rep.",
                        "Congo, Rep.",
                        "Cote d'Ivoire",
                        "Djibouti",
                        "Egypt",
                        "Equatorial Guinea",
                        "Eritrea",
                        "Ethiopia",
                        "Gabon",
                        "Gambia",
                        "Ghana",
                        "Guinea",
                        "Guinea-Bissau",
                        "Kenya",
                        "Lesotho",
                        "Liberia",
                        "Libya",
                        "Madagascar",
                        "Malawi",
                        "Mali",
                        "Mauritania",
                        "Mauritius",
                        "Morocco",
                        "Mozambique",
                        "Namibia",
                        "Niger",
                        "Nigeria",
                        "Reunion",
                        "Rwanda",
                        "Sao Tome and Principe",
                        "Senegal",
                        "Sierra Leone",
                        "Somalia",
                        "South Africa",
                        "Sudan",
                        "Swaziland",
                        "Tanzania",
                        "Togo",
                        "Tunisia",
                        "Uganda",
                        "Zambia",
                        "Zimbabwe"
                      ],
                      "legendgroup": "Africa",
                      "marker": {
                        "color": "#00cc96",
                        "size": {
                          "bdata": "4J/8AXyFvQDqQ3sA2wIZALuZ2gBpB4AAJQYOAY6qQgBXO5wAMNkKACfS2QMi/jkA4dwSAfaSBwBfvcgEIWkIAFneSgCPeo8EEzMWACfDGQD6BF0BpsqXACl2FgBBXh8C6bUeAFa8MACyHVwApnkkAedaywAzl7cAseUxAEIWEwD3FwMCKHAwAahbHwCRwsQAfGkMCI4tDACsM4cAmwsDAOUvuwAywl0ANSSLAIRanwLBVoUCCkoRAPj2RQLL/1YAPs2cAN4avQHzOrMAZ9q7AA==",
                          "dtype": "i4"
                        },
                        "sizemode": "area",
                        "sizeref": 651201.5288888889,
                        "symbol": "circle"
                      },
                      "mode": "markers",
                      "name": "Africa",
                      "orientation": "v",
                      "showlegend": true,
                      "type": "scatter",
                      "x": {
                        "bdata": "ba0vEl5PuEClaVA0O72yQA5qv7UjhZZA26LMBu2MyEDb2y3JIQSTQKHhg40h4XpAFjWYhmHon0BkkSbeIRCGQOI/3UBBoJpAEj5K2y7RjkA2yMlp1FhxQIwPs5cdYaxAWTFcHQAjmECsJ/OP9kSgQKSK4lUuzbVAaJHtfAu9x0DPCMrI9AqEQJEHx9FxloVAIVnABD7LyUCOc5tw/4WHQNRgGoZvvpRAcXkH0zt1jUCc8BKc2hmCQO3Vx0P/3JZAFRqIZVOFmEB15h4SHuh5QMYzaOi/jMdAMv/omxRTkEBSoKqdzLqHQAqfrYNTSpBA5nXEIZssnEA1KQXdfmbFQI4ev7dZ2K1AvceZJny9iUC7YkZ4D8uyQEgHkEZqXYNA3lSkwuh3n0DdCfZfH/a9QAWrjyy1+IpAZof4h735mEAPnZ5348GaQOgk73dT9IpABbhq6CDxjECGcw0z1BrCQCveyDzKVKRADW5rC3uhsUDhQh7B7U2RQKkf5XHCl4tAZMxdS+y0u0AXfnA+hYGQQEDc1avY3JNA2On2SFlbfUA=",
                        "dtype": "f8"
                      },
                      "xaxis": "x3",
                      "y": {
                        "bdata": "JQaBlUMTUkAhsHJokV1FQHe+nxovXUxAd76fGi9dSUD2KFyPwiVKQArXo3A9ykhA16NwPQo3SUADK4cW2V5GQBfZzvdTU0lAfT81XrpJUEBCYOXQIjtHQPCnxks3qUtARIts5/spSEBoke18P2VLQBSDwMqh1VFAJjEIrBzKSUCF61G4HgVNQPCnxks3eUpArkfhehReTEDTTWIQWLlNQIlBYOXQAk5AN4lBYOUATECNbOf7qTFHQK5H4XoUDktAsp3vp8ZLRUAQWDm0yNZGQLByaJHtfFJAZBBYObS4TUAQWDm0yCZIQLKd76fGO0tA0SLb+X4KUEAlBoGVQzNSQNEi2/l+ylFA0SLb+X4KRUCJFtnO93NKQOXQItv5bkxAy6FFtvNtR0A/NV66SRxTQOXQItv5HkdAbxKDwMphUEAOLbKd74dPQGQQWDm0SEVAMQisHFoUSEAIrBxaZKtIQLpJDAIrR01AWDm0yHbOQ0AZBFYOLUJKQPYoXI/CNU1AUI2XbhJ7UkBMN4lBYMVJQP3UeOkmMUVAdZMYBFa+RUA=",
                        "dtype": "f8"
                      },
                      "yaxis": "y3"
                    },
                    {
                      "hovertemplate": "<b>%{hovertext}</b><br><br>continent=Americas<br>year=2007<br>gdpPercap=%{x}<br>lifeExp=%{y}<br>pop=%{marker.size}<extra></extra>",
                      "hovertext": [
                        "Argentina",
                        "Bolivia",
                        "Brazil",
                        "Canada",
                        "Chile",
                        "Colombia",
                        "Costa Rica",
                        "Cuba",
                        "Dominican Republic",
                        "Ecuador",
                        "El Salvador",
                        "Guatemala",
                        "Haiti",
                        "Honduras",
                        "Jamaica",
                        "Mexico",
                        "Nicaragua",
                        "Panama",
                        "Paraguay",
                        "Peru",
                        "Puerto Rico",
                        "Trinidad and Tobago",
                        "United States",
                        "Uruguay",
                        "Venezuela"
                      ],
                      "ids": [
                        "Argentina",
                        "Bolivia",
                        "Brazil",
                        "Canada",
                        "Chile",
                        "Colombia",
                        "Costa Rica",
                        "Cuba",
                        "Dominican Republic",
                        "Ecuador",
                        "El Salvador",
                        "Guatemala",
                        "Haiti",
                        "Honduras",
                        "Jamaica",
                        "Mexico",
                        "Nicaragua",
                        "Panama",
                        "Paraguay",
                        "Peru",
                        "Puerto Rico",
                        "Trinidad and Tobago",
                        "United States",
                        "Uruguay",
                        "Venezuela"
                      ],
                      "legendgroup": "Americas",
                      "marker": {
                        "color": "#ab63fa",
                        "size": {
                          "bdata": "Z/VmArAliwAXVVMLPX79AUV8+ADe26IC/BM/AJs1rgDGNI4AIOXRACjkaQAA2b8AHr6BAHMxcgDkayoA26R6BlyZVgC9eDEAi7tlAMWKtQFbKDwAYB8QAOsH8xHImjQANgWOAQ==",
                          "dtype": "i4"
                        },
                        "sizemode": "area",
                        "sizeref": 651201.5288888889,
                        "symbol": "circle"
                      },
                      "mode": "markers",
                      "name": "Americas",
                      "orientation": "v",
                      "showlegend": true,
                      "type": "scatter",
                      "x": {
                        "bdata": "ICQLmLD1yECcwd8vRtytQGkAb4HmtMFAB7Ezhee74UCGONbF0bnJQPruVpaUXrtAqU2c3IfWwkCBs5QsDXrBQB5Av+9fibdA5fbLJ0PZukCuvOR/WmC2QLQh/8wMQrRAECIZcozGkkAInKVkqbirQOu12VjhmLxAQQ5KmMlkx0BSRIZVpHqlQHui68KXKMNA4KKTpdZMsECIf9jS5/C8QKJ6a2At4NJAdF5jlyCW0UDr/xzm9PjkQDCeQUO7ucRAW5TZIOdLxkA=",
                        "dtype": "f8"
                      },
                      "xaxis": "x4",
                      "y": {
                        "bdata": "FK5H4XrUUkD6fmq8dGNQQClcj8L1GFJAbxKDwMopVEAIrBxaZKNTQDeJQWDlOFJANV66SQyyU0C28/3UeJFTQNejcD0KD1JAVg4tsp2/UkDVeOkmMfhRQH9qvHSTkFFAaJHtfD91TkDqJjEIrIxRQD81XrpJJFJAFK5H4XoMU0Coxks3iTlSQOx8PzVe4lJA46WbxCDwUUBt5/up8dpRQDu0yHa+r1NAI9v5fmp0UUBzaJHtfI9TQH9qvHSTGFNAK4cW2c5vUkA=",
                        "dtype": "f8"
                      },
                      "yaxis": "y4"
                    },
                    {
                      "hovertemplate": "<b>%{hovertext}</b><br><br>continent=Oceania<br>year=2007<br>gdpPercap=%{x}<br>lifeExp=%{y}<br>pop=%{marker.size}<extra></extra>",
                      "hovertext": [
                        "Australia",
                        "New Zealand"
                      ],
                      "ids": [
                        "Australia",
                        "New Zealand"
                      ],
                      "legendgroup": "Oceania",
                      "marker": {
                        "color": "#FFA15A",
                        "size": {
                          "bdata": "AM03ATvNPgA=",
                          "dtype": "i4"
                        },
                        "sizemode": "area",
                        "sizeref": 651201.5288888889,
                        "symbol": "circle"
                      },
                      "mode": "markers",
                      "name": "Oceania",
                      "orientation": "v",
                      "showlegend": true,
                      "type": "scatter",
                      "x": {
                        "bdata": "54cRwmvQ4EAEHEKVQJjYQA==",
                        "dtype": "f8"
                      },
                      "xaxis": "x5",
                      "y": {
                        "bdata": "16NwPQpPVECTGARWDg1UQA==",
                        "dtype": "f8"
                      },
                      "yaxis": "y5"
                    }
                  ],
                  "name": "2007"
                }
              ],
              "layout": {
                "annotations": [
                  {
                    "font": {},
                    "showarrow": false,
                    "text": "continent=Asia",
                    "x": 0.09200000000000001,
                    "xanchor": "center",
                    "xref": "paper",
                    "y": 1,
                    "yanchor": "bottom",
                    "yref": "paper"
                  },
                  {
                    "font": {},
                    "showarrow": false,
                    "text": "continent=Europe",
                    "x": 0.29600000000000004,
                    "xanchor": "center",
                    "xref": "paper",
                    "y": 1,
                    "yanchor": "bottom",
                    "yref": "paper"
                  },
                  {
                    "font": {},
                    "showarrow": false,
                    "text": "continent=Africa",
                    "x": 0.5,
                    "xanchor": "center",
                    "xref": "paper",
                    "y": 1,
                    "yanchor": "bottom",
                    "yref": "paper"
                  },
                  {
                    "font": {},
                    "showarrow": false,
                    "text": "continent=Americas",
                    "x": 0.7040000000000002,
                    "xanchor": "center",
                    "xref": "paper",
                    "y": 1,
                    "yanchor": "bottom",
                    "yref": "paper"
                  },
                  {
                    "font": {},
                    "showarrow": false,
                    "text": "continent=Oceania",
                    "x": 0.908,
                    "xanchor": "center",
                    "xref": "paper",
                    "y": 1,
                    "yanchor": "bottom",
                    "yref": "paper"
                  }
                ],
                "legend": {
                  "itemsizing": "constant",
                  "title": {
                    "text": "continent"
                  },
                  "tracegroupgap": 0
                },
                "margin": {
                  "t": 60
                },
                "sliders": [
                  {
                    "active": 0,
                    "currentvalue": {
                      "prefix": "year="
                    },
                    "len": 0.9,
                    "pad": {
                      "b": 10,
                      "t": 60
                    },
                    "steps": [
                      {
                        "args": [
                          [
                            "1952"
                          ],
                          {
                            "frame": {
                              "duration": 0,
                              "redraw": false
                            },
                            "fromcurrent": true,
                            "mode": "immediate",
                            "transition": {
                              "duration": 0,
                              "easing": "linear"
                            }
                          }
                        ],
                        "label": "1952",
                        "method": "animate"
                      },
                      {
                        "args": [
                          [
                            "1957"
                          ],
                          {
                            "frame": {
                              "duration": 0,
                              "redraw": false
                            },
                            "fromcurrent": true,
                            "mode": "immediate",
                            "transition": {
                              "duration": 0,
                              "easing": "linear"
                            }
                          }
                        ],
                        "label": "1957",
                        "method": "animate"
                      },
                      {
                        "args": [
                          [
                            "1962"
                          ],
                          {
                            "frame": {
                              "duration": 0,
                              "redraw": false
                            },
                            "fromcurrent": true,
                            "mode": "immediate",
                            "transition": {
                              "duration": 0,
                              "easing": "linear"
                            }
                          }
                        ],
                        "label": "1962",
                        "method": "animate"
                      },
                      {
                        "args": [
                          [
                            "1967"
                          ],
                          {
                            "frame": {
                              "duration": 0,
                              "redraw": false
                            },
                            "fromcurrent": true,
                            "mode": "immediate",
                            "transition": {
                              "duration": 0,
                              "easing": "linear"
                            }
                          }
                        ],
                        "label": "1967",
                        "method": "animate"
                      },
                      {
                        "args": [
                          [
                            "1972"
                          ],
                          {
                            "frame": {
                              "duration": 0,
                              "redraw": false
                            },
                            "fromcurrent": true,
                            "mode": "immediate",
                            "transition": {
                              "duration": 0,
                              "easing": "linear"
                            }
                          }
                        ],
                        "label": "1972",
                        "method": "animate"
                      },
                      {
                        "args": [
                          [
                            "1977"
                          ],
                          {
                            "frame": {
                              "duration": 0,
                              "redraw": false
                            },
                            "fromcurrent": true,
                            "mode": "immediate",
                            "transition": {
                              "duration": 0,
                              "easing": "linear"
                            }
                          }
                        ],
                        "label": "1977",
                        "method": "animate"
                      },
                      {
                        "args": [
                          [
                            "1982"
                          ],
                          {
                            "frame": {
                              "duration": 0,
                              "redraw": false
                            },
                            "fromcurrent": true,
                            "mode": "immediate",
                            "transition": {
                              "duration": 0,
                              "easing": "linear"
                            }
                          }
                        ],
                        "label": "1982",
                        "method": "animate"
                      },
                      {
                        "args": [
                          [
                            "1987"
                          ],
                          {
                            "frame": {
                              "duration": 0,
                              "redraw": false
                            },
                            "fromcurrent": true,
                            "mode": "immediate",
                            "transition": {
                              "duration": 0,
                              "easing": "linear"
                            }
                          }
                        ],
                        "label": "1987",
                        "method": "animate"
                      },
                      {
                        "args": [
                          [
                            "1992"
                          ],
                          {
                            "frame": {
                              "duration": 0,
                              "redraw": false
                            },
                            "fromcurrent": true,
                            "mode": "immediate",
                            "transition": {
                              "duration": 0,
                              "easing": "linear"
                            }
                          }
                        ],
                        "label": "1992",
                        "method": "animate"
                      },
                      {
                        "args": [
                          [
                            "1997"
                          ],
                          {
                            "frame": {
                              "duration": 0,
                              "redraw": false
                            },
                            "fromcurrent": true,
                            "mode": "immediate",
                            "transition": {
                              "duration": 0,
                              "easing": "linear"
                            }
                          }
                        ],
                        "label": "1997",
                        "method": "animate"
                      },
                      {
                        "args": [
                          [
                            "2002"
                          ],
                          {
                            "frame": {
                              "duration": 0,
                              "redraw": false
                            },
                            "fromcurrent": true,
                            "mode": "immediate",
                            "transition": {
                              "duration": 0,
                              "easing": "linear"
                            }
                          }
                        ],
                        "label": "2002",
                        "method": "animate"
                      },
                      {
                        "args": [
                          [
                            "2007"
                          ],
                          {
                            "frame": {
                              "duration": 0,
                              "redraw": false
                            },
                            "fromcurrent": true,
                            "mode": "immediate",
                            "transition": {
                              "duration": 0,
                              "easing": "linear"
                            }
                          }
                        ],
                        "label": "2007",
                        "method": "animate"
                      }
                    ],
                    "x": 0.1,
                    "xanchor": "left",
                    "y": 0,
                    "yanchor": "top"
                  }
                ],
                "template": {
                  "data": {
                    "bar": [
                      {
                        "error_x": {
                          "color": "#2a3f5f"
                        },
                        "error_y": {
                          "color": "#2a3f5f"
                        },
                        "marker": {
                          "line": {
                            "color": "#E5ECF6",
                            "width": 0.5
                          },
                          "pattern": {
                            "fillmode": "overlay",
                            "size": 10,
                            "solidity": 0.2
                          }
                        },
                        "type": "bar"
                      }
                    ],
                    "barpolar": [
                      {
                        "marker": {
                          "line": {
                            "color": "#E5ECF6",
                            "width": 0.5
                          },
                          "pattern": {
                            "fillmode": "overlay",
                            "size": 10,
                            "solidity": 0.2
                          }
                        },
                        "type": "barpolar"
                      }
                    ],
                    "carpet": [
                      {
                        "aaxis": {
                          "endlinecolor": "#2a3f5f",
                          "gridcolor": "white",
                          "linecolor": "white",
                          "minorgridcolor": "white",
                          "startlinecolor": "#2a3f5f"
                        },
                        "baxis": {
                          "endlinecolor": "#2a3f5f",
                          "gridcolor": "white",
                          "linecolor": "white",
                          "minorgridcolor": "white",
                          "startlinecolor": "#2a3f5f"
                        },
                        "type": "carpet"
                      }
                    ],
                    "choropleth": [
                      {
                        "colorbar": {
                          "outlinewidth": 0,
                          "ticks": ""
                        },
                        "type": "choropleth"
                      }
                    ],
                    "contour": [
                      {
                        "colorbar": {
                          "outlinewidth": 0,
                          "ticks": ""
                        },
                        "colorscale": [
                          [
                            0,
                            "#0d0887"
                          ],
                          [
                            0.1111111111111111,
                            "#46039f"
                          ],
                          [
                            0.2222222222222222,
                            "#7201a8"
                          ],
                          [
                            0.3333333333333333,
                            "#9c179e"
                          ],
                          [
                            0.4444444444444444,
                            "#bd3786"
                          ],
                          [
                            0.5555555555555556,
                            "#d8576b"
                          ],
                          [
                            0.6666666666666666,
                            "#ed7953"
                          ],
                          [
                            0.7777777777777778,
                            "#fb9f3a"
                          ],
                          [
                            0.8888888888888888,
                            "#fdca26"
                          ],
                          [
                            1,
                            "#f0f921"
                          ]
                        ],
                        "type": "contour"
                      }
                    ],
                    "contourcarpet": [
                      {
                        "colorbar": {
                          "outlinewidth": 0,
                          "ticks": ""
                        },
                        "type": "contourcarpet"
                      }
                    ],
                    "heatmap": [
                      {
                        "colorbar": {
                          "outlinewidth": 0,
                          "ticks": ""
                        },
                        "colorscale": [
                          [
                            0,
                            "#0d0887"
                          ],
                          [
                            0.1111111111111111,
                            "#46039f"
                          ],
                          [
                            0.2222222222222222,
                            "#7201a8"
                          ],
                          [
                            0.3333333333333333,
                            "#9c179e"
                          ],
                          [
                            0.4444444444444444,
                            "#bd3786"
                          ],
                          [
                            0.5555555555555556,
                            "#d8576b"
                          ],
                          [
                            0.6666666666666666,
                            "#ed7953"
                          ],
                          [
                            0.7777777777777778,
                            "#fb9f3a"
                          ],
                          [
                            0.8888888888888888,
                            "#fdca26"
                          ],
                          [
                            1,
                            "#f0f921"
                          ]
                        ],
                        "type": "heatmap"
                      }
                    ],
                    "histogram": [
                      {
                        "marker": {
                          "pattern": {
                            "fillmode": "overlay",
                            "size": 10,
                            "solidity": 0.2
                          }
                        },
                        "type": "histogram"
                      }
                    ],
                    "histogram2d": [
                      {
                        "colorbar": {
                          "outlinewidth": 0,
                          "ticks": ""
                        },
                        "colorscale": [
                          [
                            0,
                            "#0d0887"
                          ],
                          [
                            0.1111111111111111,
                            "#46039f"
                          ],
                          [
                            0.2222222222222222,
                            "#7201a8"
                          ],
                          [
                            0.3333333333333333,
                            "#9c179e"
                          ],
                          [
                            0.4444444444444444,
                            "#bd3786"
                          ],
                          [
                            0.5555555555555556,
                            "#d8576b"
                          ],
                          [
                            0.6666666666666666,
                            "#ed7953"
                          ],
                          [
                            0.7777777777777778,
                            "#fb9f3a"
                          ],
                          [
                            0.8888888888888888,
                            "#fdca26"
                          ],
                          [
                            1,
                            "#f0f921"
                          ]
                        ],
                        "type": "histogram2d"
                      }
                    ],
                    "histogram2dcontour": [
                      {
                        "colorbar": {
                          "outlinewidth": 0,
                          "ticks": ""
                        },
                        "colorscale": [
                          [
                            0,
                            "#0d0887"
                          ],
                          [
                            0.1111111111111111,
                            "#46039f"
                          ],
                          [
                            0.2222222222222222,
                            "#7201a8"
                          ],
                          [
                            0.3333333333333333,
                            "#9c179e"
                          ],
                          [
                            0.4444444444444444,
                            "#bd3786"
                          ],
                          [
                            0.5555555555555556,
                            "#d8576b"
                          ],
                          [
                            0.6666666666666666,
                            "#ed7953"
                          ],
                          [
                            0.7777777777777778,
                            "#fb9f3a"
                          ],
                          [
                            0.8888888888888888,
                            "#fdca26"
                          ],
                          [
                            1,
                            "#f0f921"
                          ]
                        ],
                        "type": "histogram2dcontour"
                      }
                    ],
                    "mesh3d": [
                      {
                        "colorbar": {
                          "outlinewidth": 0,
                          "ticks": ""
                        },
                        "type": "mesh3d"
                      }
                    ],
                    "parcoords": [
                      {
                        "line": {
                          "colorbar": {
                            "outlinewidth": 0,
                            "ticks": ""
                          }
                        },
                        "type": "parcoords"
                      }
                    ],
                    "pie": [
                      {
                        "automargin": true,
                        "type": "pie"
                      }
                    ],
                    "scatter": [
                      {
                        "fillpattern": {
                          "fillmode": "overlay",
                          "size": 10,
                          "solidity": 0.2
                        },
                        "type": "scatter"
                      }
                    ],
                    "scatter3d": [
                      {
                        "line": {
                          "colorbar": {
                            "outlinewidth": 0,
                            "ticks": ""
                          }
                        },
                        "marker": {
                          "colorbar": {
                            "outlinewidth": 0,
                            "ticks": ""
                          }
                        },
                        "type": "scatter3d"
                      }
                    ],
                    "scattercarpet": [
                      {
                        "marker": {
                          "colorbar": {
                            "outlinewidth": 0,
                            "ticks": ""
                          }
                        },
                        "type": "scattercarpet"
                      }
                    ],
                    "scattergeo": [
                      {
                        "marker": {
                          "colorbar": {
                            "outlinewidth": 0,
                            "ticks": ""
                          }
                        },
                        "type": "scattergeo"
                      }
                    ],
                    "scattergl": [
                      {
                        "marker": {
                          "colorbar": {
                            "outlinewidth": 0,
                            "ticks": ""
                          }
                        },
                        "type": "scattergl"
                      }
                    ],
                    "scattermap": [
                      {
                        "marker": {
                          "colorbar": {
                            "outlinewidth": 0,
                            "ticks": ""
                          }
                        },
                        "type": "scattermap"
                      }
                    ],
                    "scattermapbox": [
                      {
                        "marker": {
                          "colorbar": {
                            "outlinewidth": 0,
                            "ticks": ""
                          }
                        },
                        "type": "scattermapbox"
                      }
                    ],
                    "scatterpolar": [
                      {
                        "marker": {
                          "colorbar": {
                            "outlinewidth": 0,
                            "ticks": ""
                          }
                        },
                        "type": "scatterpolar"
                      }
                    ],
                    "scatterpolargl": [
                      {
                        "marker": {
                          "colorbar": {
                            "outlinewidth": 0,
                            "ticks": ""
                          }
                        },
                        "type": "scatterpolargl"
                      }
                    ],
                    "scatterternary": [
                      {
                        "marker": {
                          "colorbar": {
                            "outlinewidth": 0,
                            "ticks": ""
                          }
                        },
                        "type": "scatterternary"
                      }
                    ],
                    "surface": [
                      {
                        "colorbar": {
                          "outlinewidth": 0,
                          "ticks": ""
                        },
                        "colorscale": [
                          [
                            0,
                            "#0d0887"
                          ],
                          [
                            0.1111111111111111,
                            "#46039f"
                          ],
                          [
                            0.2222222222222222,
                            "#7201a8"
                          ],
                          [
                            0.3333333333333333,
                            "#9c179e"
                          ],
                          [
                            0.4444444444444444,
                            "#bd3786"
                          ],
                          [
                            0.5555555555555556,
                            "#d8576b"
                          ],
                          [
                            0.6666666666666666,
                            "#ed7953"
                          ],
                          [
                            0.7777777777777778,
                            "#fb9f3a"
                          ],
                          [
                            0.8888888888888888,
                            "#fdca26"
                          ],
                          [
                            1,
                            "#f0f921"
                          ]
                        ],
                        "type": "surface"
                      }
                    ],
                    "table": [
                      {
                        "cells": {
                          "fill": {
                            "color": "#EBF0F8"
                          },
                          "line": {
                            "color": "white"
                          }
                        },
                        "header": {
                          "fill": {
                            "color": "#C8D4E3"
                          },
                          "line": {
                            "color": "white"
                          }
                        },
                        "type": "table"
                      }
                    ]
                  },
                  "layout": {
                    "annotationdefaults": {
                      "arrowcolor": "#2a3f5f",
                      "arrowhead": 0,
                      "arrowwidth": 1
                    },
                    "autotypenumbers": "strict",
                    "coloraxis": {
                      "colorbar": {
                        "outlinewidth": 0,
                        "ticks": ""
                      }
                    },
                    "colorscale": {
                      "diverging": [
                        [
                          0,
                          "#8e0152"
                        ],
                        [
                          0.1,
                          "#c51b7d"
                        ],
                        [
                          0.2,
                          "#de77ae"
                        ],
                        [
                          0.3,
                          "#f1b6da"
                        ],
                        [
                          0.4,
                          "#fde0ef"
                        ],
                        [
                          0.5,
                          "#f7f7f7"
                        ],
                        [
                          0.6,
                          "#e6f5d0"
                        ],
                        [
                          0.7,
                          "#b8e186"
                        ],
                        [
                          0.8,
                          "#7fbc41"
                        ],
                        [
                          0.9,
                          "#4d9221"
                        ],
                        [
                          1,
                          "#276419"
                        ]
                      ],
                      "sequential": [
                        [
                          0,
                          "#0d0887"
                        ],
                        [
                          0.1111111111111111,
                          "#46039f"
                        ],
                        [
                          0.2222222222222222,
                          "#7201a8"
                        ],
                        [
                          0.3333333333333333,
                          "#9c179e"
                        ],
                        [
                          0.4444444444444444,
                          "#bd3786"
                        ],
                        [
                          0.5555555555555556,
                          "#d8576b"
                        ],
                        [
                          0.6666666666666666,
                          "#ed7953"
                        ],
                        [
                          0.7777777777777778,
                          "#fb9f3a"
                        ],
                        [
                          0.8888888888888888,
                          "#fdca26"
                        ],
                        [
                          1,
                          "#f0f921"
                        ]
                      ],
                      "sequentialminus": [
                        [
                          0,
                          "#0d0887"
                        ],
                        [
                          0.1111111111111111,
                          "#46039f"
                        ],
                        [
                          0.2222222222222222,
                          "#7201a8"
                        ],
                        [
                          0.3333333333333333,
                          "#9c179e"
                        ],
                        [
                          0.4444444444444444,
                          "#bd3786"
                        ],
                        [
                          0.5555555555555556,
                          "#d8576b"
                        ],
                        [
                          0.6666666666666666,
                          "#ed7953"
                        ],
                        [
                          0.7777777777777778,
                          "#fb9f3a"
                        ],
                        [
                          0.8888888888888888,
                          "#fdca26"
                        ],
                        [
                          1,
                          "#f0f921"
                        ]
                      ]
                    },
                    "colorway": [
                      "#636efa",
                      "#EF553B",
                      "#00cc96",
                      "#ab63fa",
                      "#FFA15A",
                      "#19d3f3",
                      "#FF6692",
                      "#B6E880",
                      "#FF97FF",
                      "#FECB52"
                    ],
                    "font": {
                      "color": "#2a3f5f"
                    },
                    "geo": {
                      "bgcolor": "white",
                      "lakecolor": "white",
                      "landcolor": "#E5ECF6",
                      "showlakes": true,
                      "showland": true,
                      "subunitcolor": "white"
                    },
                    "hoverlabel": {
                      "align": "left"
                    },
                    "hovermode": "closest",
                    "mapbox": {
                      "style": "light"
                    },
                    "paper_bgcolor": "white",
                    "plot_bgcolor": "#E5ECF6",
                    "polar": {
                      "angularaxis": {
                        "gridcolor": "white",
                        "linecolor": "white",
                        "ticks": ""
                      },
                      "bgcolor": "#E5ECF6",
                      "radialaxis": {
                        "gridcolor": "white",
                        "linecolor": "white",
                        "ticks": ""
                      }
                    },
                    "scene": {
                      "xaxis": {
                        "backgroundcolor": "#E5ECF6",
                        "gridcolor": "white",
                        "gridwidth": 2,
                        "linecolor": "white",
                        "showbackground": true,
                        "ticks": "",
                        "zerolinecolor": "white"
                      },
                      "yaxis": {
                        "backgroundcolor": "#E5ECF6",
                        "gridcolor": "white",
                        "gridwidth": 2,
                        "linecolor": "white",
                        "showbackground": true,
                        "ticks": "",
                        "zerolinecolor": "white"
                      },
                      "zaxis": {
                        "backgroundcolor": "#E5ECF6",
                        "gridcolor": "white",
                        "gridwidth": 2,
                        "linecolor": "white",
                        "showbackground": true,
                        "ticks": "",
                        "zerolinecolor": "white"
                      }
                    },
                    "shapedefaults": {
                      "line": {
                        "color": "#2a3f5f"
                      }
                    },
                    "ternary": {
                      "aaxis": {
                        "gridcolor": "white",
                        "linecolor": "white",
                        "ticks": ""
                      },
                      "baxis": {
                        "gridcolor": "white",
                        "linecolor": "white",
                        "ticks": ""
                      },
                      "bgcolor": "#E5ECF6",
                      "caxis": {
                        "gridcolor": "white",
                        "linecolor": "white",
                        "ticks": ""
                      }
                    },
                    "title": {
                      "x": 0.05
                    },
                    "xaxis": {
                      "automargin": true,
                      "gridcolor": "white",
                      "linecolor": "white",
                      "ticks": "",
                      "title": {
                        "standoff": 15
                      },
                      "zerolinecolor": "white",
                      "zerolinewidth": 2
                    },
                    "yaxis": {
                      "automargin": true,
                      "gridcolor": "white",
                      "linecolor": "white",
                      "ticks": "",
                      "title": {
                        "standoff": 15
                      },
                      "zerolinecolor": "white",
                      "zerolinewidth": 2
                    }
                  }
                },
                "updatemenus": [
                  {
                    "buttons": [
                      {
                        "args": [
                          null,
                          {
                            "frame": {
                              "duration": 500,
                              "redraw": false
                            },
                            "fromcurrent": true,
                            "mode": "immediate",
                            "transition": {
                              "duration": 500,
                              "easing": "linear"
                            }
                          }
                        ],
                        "label": "&#9654;",
                        "method": "animate"
                      },
                      {
                        "args": [
                          [
                            null
                          ],
                          {
                            "frame": {
                              "duration": 0,
                              "redraw": false
                            },
                            "fromcurrent": true,
                            "mode": "immediate",
                            "transition": {
                              "duration": 0,
                              "easing": "linear"
                            }
                          }
                        ],
                        "label": "&#9724;",
                        "method": "animate"
                      }
                    ],
                    "direction": "left",
                    "pad": {
                      "r": 10,
                      "t": 70
                    },
                    "showactive": false,
                    "type": "buttons",
                    "x": 0.1,
                    "xanchor": "right",
                    "y": 0,
                    "yanchor": "top"
                  }
                ],
                "xaxis": {
                  "anchor": "y",
                  "domain": [
                    0,
                    0.18400000000000002
                  ],
                  "range": [
                    2,
                    5
                  ],
                  "title": {
                    "text": "gdpPercap"
                  },
                  "type": "log"
                },
                "xaxis2": {
                  "anchor": "y2",
                  "domain": [
                    0.20400000000000001,
                    0.388
                  ],
                  "matches": "x",
                  "range": [
                    2,
                    5
                  ],
                  "title": {
                    "text": "gdpPercap"
                  },
                  "type": "log"
                },
                "xaxis3": {
                  "anchor": "y3",
                  "domain": [
                    0.40800000000000003,
                    0.5920000000000001
                  ],
                  "matches": "x",
                  "range": [
                    2,
                    5
                  ],
                  "title": {
                    "text": "gdpPercap"
                  },
                  "type": "log"
                },
                "xaxis4": {
                  "anchor": "y4",
                  "domain": [
                    0.6120000000000001,
                    0.7960000000000002
                  ],
                  "matches": "x",
                  "range": [
                    2,
                    5
                  ],
                  "title": {
                    "text": "gdpPercap"
                  },
                  "type": "log"
                },
                "xaxis5": {
                  "anchor": "y5",
                  "domain": [
                    0.8160000000000001,
                    1
                  ],
                  "matches": "x",
                  "range": [
                    2,
                    5
                  ],
                  "title": {
                    "text": "gdpPercap"
                  },
                  "type": "log"
                },
                "yaxis": {
                  "anchor": "x",
                  "domain": [
                    0,
                    1
                  ],
                  "range": [
                    25,
                    90
                  ],
                  "title": {
                    "text": "lifeExp"
                  }
                },
                "yaxis2": {
                  "anchor": "x2",
                  "domain": [
                    0,
                    1
                  ],
                  "matches": "y",
                  "showticklabels": false
                },
                "yaxis3": {
                  "anchor": "x3",
                  "domain": [
                    0,
                    1
                  ],
                  "matches": "y",
                  "showticklabels": false
                },
                "yaxis4": {
                  "anchor": "x4",
                  "domain": [
                    0,
                    1
                  ],
                  "matches": "y",
                  "showticklabels": false
                },
                "yaxis5": {
                  "anchor": "x5",
                  "domain": [
                    0,
                    1
                  ],
                  "matches": "y",
                  "showticklabels": false
                }
              }
            }
          },
          "metadata": {},
          "output_type": "display_data"
        }
      ],
      "source": [
        "fig = px.scatter(df, x=\"gdpPercap\", y=\"lifeExp\", animation_frame=\"year\", animation_group=\"country\",\n",
        "           size=\"pop\", color=\"continent\", hover_name=\"country\", facet_col=\"continent\",\n",
        "           log_x=True, size_max=45, range_x=[100,100000], range_y=[25,90])\n",
        "fig.show()"
      ]
    },
    {
      "cell_type": "code",
      "execution_count": 72,
      "metadata": {},
      "outputs": [
        {
          "data": {
            "application/vnd.plotly.v1+json": {
              "config": {
                "plotlyServerURL": "https://plot.ly"
              },
              "data": [
                {
                  "hovertemplate": "continent=Asia<br>gdpPercap=%{x}<br>lifeExp=%{y}<extra></extra>",
                  "legendgroup": "",
                  "marker": {
                    "color": "#636efa",
                    "symbol": "circle"
                  },
                  "mode": "markers",
                  "name": "",
                  "showlegend": false,
                  "type": "scattergl",
                  "x": {
                    "bdata": "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",
                    "dtype": "f8"
                  },
                  "xaxis": "x",
                  "y": {
                    "bdata": "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",
                    "dtype": "f8"
                  },
                  "yaxis": "y"
                },
                {
                  "hovertemplate": "continent=Europe<br>gdpPercap=%{x}<br>lifeExp=%{y}<extra></extra>",
                  "legendgroup": "",
                  "marker": {
                    "color": "#636efa",
                    "symbol": "circle"
                  },
                  "mode": "markers",
                  "name": "",
                  "showlegend": false,
                  "type": "scattergl",
                  "x": {
                    "bdata": "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",
                    "dtype": "f8"
                  },
                  "xaxis": "x2",
                  "y": {
                    "bdata": "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",
                    "dtype": "f8"
                  },
                  "yaxis": "y2"
                },
                {
                  "hovertemplate": "continent=Africa<br>gdpPercap=%{x}<br>lifeExp=%{y}<extra></extra>",
                  "legendgroup": "",
                  "marker": {
                    "color": "#636efa",
                    "symbol": "circle"
                  },
                  "mode": "markers",
                  "name": "",
                  "showlegend": false,
                  "type": "scattergl",
                  "x": {
                    "bdata": "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",
                    "dtype": "f8"
                  },
                  "xaxis": "x3",
                  "y": {
                    "bdata": "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",
                    "dtype": "f8"
                  },
                  "yaxis": "y3"
                },
                {
                  "hovertemplate": "continent=Americas<br>gdpPercap=%{x}<br>lifeExp=%{y}<extra></extra>",
                  "legendgroup": "",
                  "marker": {
                    "color": "#636efa",
                    "symbol": "circle"
                  },
                  "mode": "markers",
                  "name": "",
                  "showlegend": false,
                  "type": "scattergl",
                  "x": {
                    "bdata": "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",
                    "dtype": "f8"
                  },
                  "xaxis": "x4",
                  "y": {
                    "bdata": "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",
                    "dtype": "f8"
                  },
                  "yaxis": "y4"
                },
                {
                  "hovertemplate": "continent=Oceania<br>gdpPercap=%{x}<br>lifeExp=%{y}<extra></extra>",
                  "legendgroup": "",
                  "marker": {
                    "color": "#636efa",
                    "symbol": "circle"
                  },
                  "mode": "markers",
                  "name": "",
                  "showlegend": false,
                  "type": "scattergl",
                  "x": {
                    "bdata": "GHjuPcybw0Do3sMl02LFQGOcvwmd3MdAufyH9A9fzEBfe2ZJKGXQQKn7AKSM59FAICQLmEAF00DKFd7lOGDVQOYivhMx4NZAG0zD8Htd2kDUDn9N8PfdQOeHEcJr0OBAzxQ6r0mexEC6g9iZsuvHQFg5tMjWu8lAqYx/n/U/zEBmTpfFBFfPQCv2l93btM9Aklz+Qxo40UCDaRg+zI/SQEok0cvU7tFAhCo1e5qO1ECqglFJc6XWQAQcQpVAmNhA",
                    "dtype": "f8"
                  },
                  "xaxis": "x5",
                  "y": {
                    "bdata": "SOF6FK5HUUCF61G4HpVRQOxRuB6Fu1FAZmZmZmbGUUDsUbgehftRQI/C9ShcX1JAj8L1KFyvUkAUrkfhehRTQKRwPQrXY1NAhetRuB61U0BI4XoUrhdUQNejcD0KT1RAKVyPwvVYUUBxPQrXo5BRQI/C9Shcz1FA4XoUrkfhUUApXI/C9fhRQK5H4XoUDlJA9ihcj8J1UkAUrkfhepRSQIXrUbgeFVNAMzMzMzNjU0DXo3A9CsdTQJMYBFYODVRA",
                    "dtype": "f8"
                  },
                  "yaxis": "y5"
                }
              ],
              "layout": {
                "annotations": [
                  {
                    "font": {},
                    "showarrow": false,
                    "text": "continent=Asia",
                    "x": 0.09200000000000001,
                    "xanchor": "center",
                    "xref": "paper",
                    "y": 1,
                    "yanchor": "bottom",
                    "yref": "paper"
                  },
                  {
                    "font": {},
                    "showarrow": false,
                    "text": "continent=Europe",
                    "x": 0.29600000000000004,
                    "xanchor": "center",
                    "xref": "paper",
                    "y": 1,
                    "yanchor": "bottom",
                    "yref": "paper"
                  },
                  {
                    "font": {},
                    "showarrow": false,
                    "text": "continent=Africa",
                    "x": 0.5,
                    "xanchor": "center",
                    "xref": "paper",
                    "y": 1,
                    "yanchor": "bottom",
                    "yref": "paper"
                  },
                  {
                    "font": {},
                    "showarrow": false,
                    "text": "continent=Americas",
                    "x": 0.7040000000000002,
                    "xanchor": "center",
                    "xref": "paper",
                    "y": 1,
                    "yanchor": "bottom",
                    "yref": "paper"
                  },
                  {
                    "font": {},
                    "showarrow": false,
                    "text": "continent=Oceania",
                    "x": 0.908,
                    "xanchor": "center",
                    "xref": "paper",
                    "y": 1,
                    "yanchor": "bottom",
                    "yref": "paper"
                  }
                ],
                "legend": {
                  "tracegroupgap": 0
                },
                "margin": {
                  "t": 60
                },
                "template": {
                  "data": {
                    "bar": [
                      {
                        "error_x": {
                          "color": "#2a3f5f"
                        },
                        "error_y": {
                          "color": "#2a3f5f"
                        },
                        "marker": {
                          "line": {
                            "color": "#E5ECF6",
                            "width": 0.5
                          },
                          "pattern": {
                            "fillmode": "overlay",
                            "size": 10,
                            "solidity": 0.2
                          }
                        },
                        "type": "bar"
                      }
                    ],
                    "barpolar": [
                      {
                        "marker": {
                          "line": {
                            "color": "#E5ECF6",
                            "width": 0.5
                          },
                          "pattern": {
                            "fillmode": "overlay",
                            "size": 10,
                            "solidity": 0.2
                          }
                        },
                        "type": "barpolar"
                      }
                    ],
                    "carpet": [
                      {
                        "aaxis": {
                          "endlinecolor": "#2a3f5f",
                          "gridcolor": "white",
                          "linecolor": "white",
                          "minorgridcolor": "white",
                          "startlinecolor": "#2a3f5f"
                        },
                        "baxis": {
                          "endlinecolor": "#2a3f5f",
                          "gridcolor": "white",
                          "linecolor": "white",
                          "minorgridcolor": "white",
                          "startlinecolor": "#2a3f5f"
                        },
                        "type": "carpet"
                      }
                    ],
                    "choropleth": [
                      {
                        "colorbar": {
                          "outlinewidth": 0,
                          "ticks": ""
                        },
                        "type": "choropleth"
                      }
                    ],
                    "contour": [
                      {
                        "colorbar": {
                          "outlinewidth": 0,
                          "ticks": ""
                        },
                        "colorscale": [
                          [
                            0,
                            "#0d0887"
                          ],
                          [
                            0.1111111111111111,
                            "#46039f"
                          ],
                          [
                            0.2222222222222222,
                            "#7201a8"
                          ],
                          [
                            0.3333333333333333,
                            "#9c179e"
                          ],
                          [
                            0.4444444444444444,
                            "#bd3786"
                          ],
                          [
                            0.5555555555555556,
                            "#d8576b"
                          ],
                          [
                            0.6666666666666666,
                            "#ed7953"
                          ],
                          [
                            0.7777777777777778,
                            "#fb9f3a"
                          ],
                          [
                            0.8888888888888888,
                            "#fdca26"
                          ],
                          [
                            1,
                            "#f0f921"
                          ]
                        ],
                        "type": "contour"
                      }
                    ],
                    "contourcarpet": [
                      {
                        "colorbar": {
                          "outlinewidth": 0,
                          "ticks": ""
                        },
                        "type": "contourcarpet"
                      }
                    ],
                    "heatmap": [
                      {
                        "colorbar": {
                          "outlinewidth": 0,
                          "ticks": ""
                        },
                        "colorscale": [
                          [
                            0,
                            "#0d0887"
                          ],
                          [
                            0.1111111111111111,
                            "#46039f"
                          ],
                          [
                            0.2222222222222222,
                            "#7201a8"
                          ],
                          [
                            0.3333333333333333,
                            "#9c179e"
                          ],
                          [
                            0.4444444444444444,
                            "#bd3786"
                          ],
                          [
                            0.5555555555555556,
                            "#d8576b"
                          ],
                          [
                            0.6666666666666666,
                            "#ed7953"
                          ],
                          [
                            0.7777777777777778,
                            "#fb9f3a"
                          ],
                          [
                            0.8888888888888888,
                            "#fdca26"
                          ],
                          [
                            1,
                            "#f0f921"
                          ]
                        ],
                        "type": "heatmap"
                      }
                    ],
                    "histogram": [
                      {
                        "marker": {
                          "pattern": {
                            "fillmode": "overlay",
                            "size": 10,
                            "solidity": 0.2
                          }
                        },
                        "type": "histogram"
                      }
                    ],
                    "histogram2d": [
                      {
                        "colorbar": {
                          "outlinewidth": 0,
                          "ticks": ""
                        },
                        "colorscale": [
                          [
                            0,
                            "#0d0887"
                          ],
                          [
                            0.1111111111111111,
                            "#46039f"
                          ],
                          [
                            0.2222222222222222,
                            "#7201a8"
                          ],
                          [
                            0.3333333333333333,
                            "#9c179e"
                          ],
                          [
                            0.4444444444444444,
                            "#bd3786"
                          ],
                          [
                            0.5555555555555556,
                            "#d8576b"
                          ],
                          [
                            0.6666666666666666,
                            "#ed7953"
                          ],
                          [
                            0.7777777777777778,
                            "#fb9f3a"
                          ],
                          [
                            0.8888888888888888,
                            "#fdca26"
                          ],
                          [
                            1,
                            "#f0f921"
                          ]
                        ],
                        "type": "histogram2d"
                      }
                    ],
                    "histogram2dcontour": [
                      {
                        "colorbar": {
                          "outlinewidth": 0,
                          "ticks": ""
                        },
                        "colorscale": [
                          [
                            0,
                            "#0d0887"
                          ],
                          [
                            0.1111111111111111,
                            "#46039f"
                          ],
                          [
                            0.2222222222222222,
                            "#7201a8"
                          ],
                          [
                            0.3333333333333333,
                            "#9c179e"
                          ],
                          [
                            0.4444444444444444,
                            "#bd3786"
                          ],
                          [
                            0.5555555555555556,
                            "#d8576b"
                          ],
                          [
                            0.6666666666666666,
                            "#ed7953"
                          ],
                          [
                            0.7777777777777778,
                            "#fb9f3a"
                          ],
                          [
                            0.8888888888888888,
                            "#fdca26"
                          ],
                          [
                            1,
                            "#f0f921"
                          ]
                        ],
                        "type": "histogram2dcontour"
                      }
                    ],
                    "mesh3d": [
                      {
                        "colorbar": {
                          "outlinewidth": 0,
                          "ticks": ""
                        },
                        "type": "mesh3d"
                      }
                    ],
                    "parcoords": [
                      {
                        "line": {
                          "colorbar": {
                            "outlinewidth": 0,
                            "ticks": ""
                          }
                        },
                        "type": "parcoords"
                      }
                    ],
                    "pie": [
                      {
                        "automargin": true,
                        "type": "pie"
                      }
                    ],
                    "scatter": [
                      {
                        "fillpattern": {
                          "fillmode": "overlay",
                          "size": 10,
                          "solidity": 0.2
                        },
                        "type": "scatter"
                      }
                    ],
                    "scatter3d": [
                      {
                        "line": {
                          "colorbar": {
                            "outlinewidth": 0,
                            "ticks": ""
                          }
                        },
                        "marker": {
                          "colorbar": {
                            "outlinewidth": 0,
                            "ticks": ""
                          }
                        },
                        "type": "scatter3d"
                      }
                    ],
                    "scattercarpet": [
                      {
                        "marker": {
                          "colorbar": {
                            "outlinewidth": 0,
                            "ticks": ""
                          }
                        },
                        "type": "scattercarpet"
                      }
                    ],
                    "scattergeo": [
                      {
                        "marker": {
                          "colorbar": {
                            "outlinewidth": 0,
                            "ticks": ""
                          }
                        },
                        "type": "scattergeo"
                      }
                    ],
                    "scattergl": [
                      {
                        "marker": {
                          "colorbar": {
                            "outlinewidth": 0,
                            "ticks": ""
                          }
                        },
                        "type": "scattergl"
                      }
                    ],
                    "scattermap": [
                      {
                        "marker": {
                          "colorbar": {
                            "outlinewidth": 0,
                            "ticks": ""
                          }
                        },
                        "type": "scattermap"
                      }
                    ],
                    "scattermapbox": [
                      {
                        "marker": {
                          "colorbar": {
                            "outlinewidth": 0,
                            "ticks": ""
                          }
                        },
                        "type": "scattermapbox"
                      }
                    ],
                    "scatterpolar": [
                      {
                        "marker": {
                          "colorbar": {
                            "outlinewidth": 0,
                            "ticks": ""
                          }
                        },
                        "type": "scatterpolar"
                      }
                    ],
                    "scatterpolargl": [
                      {
                        "marker": {
                          "colorbar": {
                            "outlinewidth": 0,
                            "ticks": ""
                          }
                        },
                        "type": "scatterpolargl"
                      }
                    ],
                    "scatterternary": [
                      {
                        "marker": {
                          "colorbar": {
                            "outlinewidth": 0,
                            "ticks": ""
                          }
                        },
                        "type": "scatterternary"
                      }
                    ],
                    "surface": [
                      {
                        "colorbar": {
                          "outlinewidth": 0,
                          "ticks": ""
                        },
                        "colorscale": [
                          [
                            0,
                            "#0d0887"
                          ],
                          [
                            0.1111111111111111,
                            "#46039f"
                          ],
                          [
                            0.2222222222222222,
                            "#7201a8"
                          ],
                          [
                            0.3333333333333333,
                            "#9c179e"
                          ],
                          [
                            0.4444444444444444,
                            "#bd3786"
                          ],
                          [
                            0.5555555555555556,
                            "#d8576b"
                          ],
                          [
                            0.6666666666666666,
                            "#ed7953"
                          ],
                          [
                            0.7777777777777778,
                            "#fb9f3a"
                          ],
                          [
                            0.8888888888888888,
                            "#fdca26"
                          ],
                          [
                            1,
                            "#f0f921"
                          ]
                        ],
                        "type": "surface"
                      }
                    ],
                    "table": [
                      {
                        "cells": {
                          "fill": {
                            "color": "#EBF0F8"
                          },
                          "line": {
                            "color": "white"
                          }
                        },
                        "header": {
                          "fill": {
                            "color": "#C8D4E3"
                          },
                          "line": {
                            "color": "white"
                          }
                        },
                        "type": "table"
                      }
                    ]
                  },
                  "layout": {
                    "annotationdefaults": {
                      "arrowcolor": "#2a3f5f",
                      "arrowhead": 0,
                      "arrowwidth": 1
                    },
                    "autotypenumbers": "strict",
                    "coloraxis": {
                      "colorbar": {
                        "outlinewidth": 0,
                        "ticks": ""
                      }
                    },
                    "colorscale": {
                      "diverging": [
                        [
                          0,
                          "#8e0152"
                        ],
                        [
                          0.1,
                          "#c51b7d"
                        ],
                        [
                          0.2,
                          "#de77ae"
                        ],
                        [
                          0.3,
                          "#f1b6da"
                        ],
                        [
                          0.4,
                          "#fde0ef"
                        ],
                        [
                          0.5,
                          "#f7f7f7"
                        ],
                        [
                          0.6,
                          "#e6f5d0"
                        ],
                        [
                          0.7,
                          "#b8e186"
                        ],
                        [
                          0.8,
                          "#7fbc41"
                        ],
                        [
                          0.9,
                          "#4d9221"
                        ],
                        [
                          1,
                          "#276419"
                        ]
                      ],
                      "sequential": [
                        [
                          0,
                          "#0d0887"
                        ],
                        [
                          0.1111111111111111,
                          "#46039f"
                        ],
                        [
                          0.2222222222222222,
                          "#7201a8"
                        ],
                        [
                          0.3333333333333333,
                          "#9c179e"
                        ],
                        [
                          0.4444444444444444,
                          "#bd3786"
                        ],
                        [
                          0.5555555555555556,
                          "#d8576b"
                        ],
                        [
                          0.6666666666666666,
                          "#ed7953"
                        ],
                        [
                          0.7777777777777778,
                          "#fb9f3a"
                        ],
                        [
                          0.8888888888888888,
                          "#fdca26"
                        ],
                        [
                          1,
                          "#f0f921"
                        ]
                      ],
                      "sequentialminus": [
                        [
                          0,
                          "#0d0887"
                        ],
                        [
                          0.1111111111111111,
                          "#46039f"
                        ],
                        [
                          0.2222222222222222,
                          "#7201a8"
                        ],
                        [
                          0.3333333333333333,
                          "#9c179e"
                        ],
                        [
                          0.4444444444444444,
                          "#bd3786"
                        ],
                        [
                          0.5555555555555556,
                          "#d8576b"
                        ],
                        [
                          0.6666666666666666,
                          "#ed7953"
                        ],
                        [
                          0.7777777777777778,
                          "#fb9f3a"
                        ],
                        [
                          0.8888888888888888,
                          "#fdca26"
                        ],
                        [
                          1,
                          "#f0f921"
                        ]
                      ]
                    },
                    "colorway": [
                      "#636efa",
                      "#EF553B",
                      "#00cc96",
                      "#ab63fa",
                      "#FFA15A",
                      "#19d3f3",
                      "#FF6692",
                      "#B6E880",
                      "#FF97FF",
                      "#FECB52"
                    ],
                    "font": {
                      "color": "#2a3f5f"
                    },
                    "geo": {
                      "bgcolor": "white",
                      "lakecolor": "white",
                      "landcolor": "#E5ECF6",
                      "showlakes": true,
                      "showland": true,
                      "subunitcolor": "white"
                    },
                    "hoverlabel": {
                      "align": "left"
                    },
                    "hovermode": "closest",
                    "mapbox": {
                      "style": "light"
                    },
                    "paper_bgcolor": "white",
                    "plot_bgcolor": "#E5ECF6",
                    "polar": {
                      "angularaxis": {
                        "gridcolor": "white",
                        "linecolor": "white",
                        "ticks": ""
                      },
                      "bgcolor": "#E5ECF6",
                      "radialaxis": {
                        "gridcolor": "white",
                        "linecolor": "white",
                        "ticks": ""
                      }
                    },
                    "scene": {
                      "xaxis": {
                        "backgroundcolor": "#E5ECF6",
                        "gridcolor": "white",
                        "gridwidth": 2,
                        "linecolor": "white",
                        "showbackground": true,
                        "ticks": "",
                        "zerolinecolor": "white"
                      },
                      "yaxis": {
                        "backgroundcolor": "#E5ECF6",
                        "gridcolor": "white",
                        "gridwidth": 2,
                        "linecolor": "white",
                        "showbackground": true,
                        "ticks": "",
                        "zerolinecolor": "white"
                      },
                      "zaxis": {
                        "backgroundcolor": "#E5ECF6",
                        "gridcolor": "white",
                        "gridwidth": 2,
                        "linecolor": "white",
                        "showbackground": true,
                        "ticks": "",
                        "zerolinecolor": "white"
                      }
                    },
                    "shapedefaults": {
                      "line": {
                        "color": "#2a3f5f"
                      }
                    },
                    "ternary": {
                      "aaxis": {
                        "gridcolor": "white",
                        "linecolor": "white",
                        "ticks": ""
                      },
                      "baxis": {
                        "gridcolor": "white",
                        "linecolor": "white",
                        "ticks": ""
                      },
                      "bgcolor": "#E5ECF6",
                      "caxis": {
                        "gridcolor": "white",
                        "linecolor": "white",
                        "ticks": ""
                      }
                    },
                    "title": {
                      "x": 0.05
                    },
                    "xaxis": {
                      "automargin": true,
                      "gridcolor": "white",
                      "linecolor": "white",
                      "ticks": "",
                      "title": {
                        "standoff": 15
                      },
                      "zerolinecolor": "white",
                      "zerolinewidth": 2
                    },
                    "yaxis": {
                      "automargin": true,
                      "gridcolor": "white",
                      "linecolor": "white",
                      "ticks": "",
                      "title": {
                        "standoff": 15
                      },
                      "zerolinecolor": "white",
                      "zerolinewidth": 2
                    }
                  }
                },
                "xaxis": {
                  "anchor": "y",
                  "domain": [
                    0,
                    0.18400000000000002
                  ],
                  "title": {
                    "text": "gdpPercap"
                  },
                  "type": "log"
                },
                "xaxis2": {
                  "anchor": "y2",
                  "domain": [
                    0.20400000000000001,
                    0.388
                  ],
                  "matches": "x",
                  "title": {
                    "text": "gdpPercap"
                  },
                  "type": "log"
                },
                "xaxis3": {
                  "anchor": "y3",
                  "domain": [
                    0.40800000000000003,
                    0.5920000000000001
                  ],
                  "matches": "x",
                  "title": {
                    "text": "gdpPercap"
                  },
                  "type": "log"
                },
                "xaxis4": {
                  "anchor": "y4",
                  "domain": [
                    0.6120000000000001,
                    0.7960000000000002
                  ],
                  "matches": "x",
                  "title": {
                    "text": "gdpPercap"
                  },
                  "type": "log"
                },
                "xaxis5": {
                  "anchor": "y5",
                  "domain": [
                    0.8160000000000001,
                    1
                  ],
                  "matches": "x",
                  "title": {
                    "text": "gdpPercap"
                  },
                  "type": "log"
                },
                "yaxis": {
                  "anchor": "x",
                  "domain": [
                    0,
                    1
                  ],
                  "title": {
                    "text": "lifeExp"
                  }
                },
                "yaxis2": {
                  "anchor": "x2",
                  "domain": [
                    0,
                    1
                  ],
                  "matches": "y",
                  "showticklabels": false
                },
                "yaxis3": {
                  "anchor": "x3",
                  "domain": [
                    0,
                    1
                  ],
                  "matches": "y",
                  "showticklabels": false
                },
                "yaxis4": {
                  "anchor": "x4",
                  "domain": [
                    0,
                    1
                  ],
                  "matches": "y",
                  "showticklabels": false
                },
                "yaxis5": {
                  "anchor": "x5",
                  "domain": [
                    0,
                    1
                  ],
                  "matches": "y",
                  "showticklabels": false
                }
              }
            }
          },
          "metadata": {},
          "output_type": "display_data"
        }
      ],
      "source": [
        "fig = px.scatter(df, x=\"gdpPercap\", y=\"lifeExp\",\n",
        "           facet_col=\"continent\",\n",
        "           log_x=True, size_max=45)\n",
        "fig.show()"
      ]
    },
    {
      "cell_type": "code",
      "execution_count": null,
      "metadata": {},
      "outputs": [],
      "source": []
    }
  ],
  "metadata": {
    "deepnote_notebook_id": "773358af87c34b85bbb88ba14abbc6f7",
    "kernelspec": {
      "display_name": "Python 3",
      "language": "python",
      "name": "python3"
    },
    "language_info": {
      "codemirror_mode": {
        "name": "ipython",
        "version": 3
      },
      "file_extension": ".py",
      "mimetype": "text/x-python",
      "name": "python",
      "nbconvert_exporter": "python",
      "pygments_lexer": "ipython3",
      "version": "3.12.4"
    }
  },
  "nbformat": 4,
  "nbformat_minor": 0
}
